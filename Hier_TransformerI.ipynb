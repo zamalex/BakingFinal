{
  "cells": [
    {
      "cell_type": "markdown",
      "metadata": {
        "id": "view-in-github",
        "colab_type": "text"
      },
      "source": [
        "<a href=\"https://colab.research.google.com/github/zamalex/BakingFinal/blob/master/Hier_TransformerI.ipynb\" target=\"_parent\"><img src=\"https://colab.research.google.com/assets/colab-badge.svg\" alt=\"Open In Colab\"/></a>"
      ]
    },
    {
      "cell_type": "code",
      "execution_count": 2,
      "metadata": {
        "colab": {
          "base_uri": "https://localhost:8080/"
        },
        "id": "0IsnLVd-SM_q",
        "outputId": "55e94a4f-0446-42b8-a8e1-2ca6d8f62d5c"
      },
      "outputs": [
        {
          "output_type": "stream",
          "name": "stdout",
          "text": [
            "Collecting hickle\n",
            "  Downloading hickle-5.0.2-py3-none-any.whl (107 kB)\n",
            "\u001b[?25l     \u001b[90m━━━━━━━━━━━━━━━━━━━━━━━━━━━━━━━━━━━━━━━━\u001b[0m \u001b[32m0.0/107.9 kB\u001b[0m \u001b[31m?\u001b[0m eta \u001b[36m-:--:--\u001b[0m\r\u001b[2K     \u001b[91m━━━━━━━━━━━\u001b[0m\u001b[90m╺\u001b[0m\u001b[90m━━━━━━━━━━━━━━━━━━━━━━━━━━━━\u001b[0m \u001b[32m30.7/107.9 kB\u001b[0m \u001b[31m1.7 MB/s\u001b[0m eta \u001b[36m0:00:01\u001b[0m\r\u001b[2K     \u001b[91m━━━━━━━━━━━━━━━━━━━━━━━━━━━━━━━━━━\u001b[0m\u001b[90m╺\u001b[0m\u001b[90m━━━━━\u001b[0m \u001b[32m92.2/107.9 kB\u001b[0m \u001b[31m1.4 MB/s\u001b[0m eta \u001b[36m0:00:01\u001b[0m\r\u001b[2K     \u001b[90m━━━━━━━━━━━━━━━━━━━━━━━━━━━━━━━━━━━━━━━\u001b[0m \u001b[32m107.9/107.9 kB\u001b[0m \u001b[31m1.3 MB/s\u001b[0m eta \u001b[36m0:00:00\u001b[0m\n",
            "\u001b[?25hRequirement already satisfied: h5py>=2.10.0 in /usr/local/lib/python3.10/dist-packages (from hickle) (3.9.0)\n",
            "Requirement already satisfied: numpy!=1.20,>=1.8 in /usr/local/lib/python3.10/dist-packages (from hickle) (1.23.5)\n",
            "Installing collected packages: hickle\n",
            "Successfully installed hickle-5.0.2\n",
            "Mounted at /content/drive/\n",
            "[Errno 2] No such file or directory: 'drive/MyDrive/PerCom2021-FL-master/'\n",
            "/content\n"
          ]
        }
      ],
      "source": [
        "# Uncomment if running on googlecolab\n",
        "!pip install hickle\n",
        "from google.colab import drive\n",
        "drive.mount('/content/drive/')\n",
        "%cd drive/MyDrive/PerCom2021-FL-master/"
      ]
    },
    {
      "cell_type": "code",
      "source": [
        "from google.colab import drive\n",
        "drive.mount('/content/drive/')\n",
        "%cd drive/MyDrive/PerCom2021-FL-master/"
      ],
      "metadata": {
        "colab": {
          "base_uri": "https://localhost:8080/"
        },
        "id": "PGUSwl0SKqnX",
        "outputId": "8cb90672-d313-41c4-8a62-65558aedd7d9"
      },
      "execution_count": null,
      "outputs": [
        {
          "output_type": "stream",
          "name": "stdout",
          "text": [
            "Drive already mounted at /content/drive/; to attempt to forcibly remount, call drive.mount(\"/content/drive/\", force_remount=True).\n",
            "[Errno 2] No such file or directory: 'drive/MyDrive/PerCom2021-FL-master/'\n",
            "/content\n"
          ]
        }
      ]
    },
    {
      "cell_type": "code",
      "execution_count": 96,
      "metadata": {
        "id": "gMG3RbZnSM_s"
      },
      "outputs": [],
      "source": [
        "import numpy as np\n",
        "import os\n",
        "import pandas as pd\n",
        "from subprocess import call\n",
        "import requests\n",
        "np.random.seed(0)\n",
        "import urllib.request\n",
        "import zipfile\n",
        "import hickle as hkl\n",
        "import tensorflow as tf"
      ]
    },
    {
      "cell_type": "code",
      "execution_count": 97,
      "metadata": {
        "id": "BdF3tPBWSM_t"
      },
      "outputs": [],
      "source": [
        "# functions for loading and downloading the dataset\n",
        "\n",
        "# load a single file as a numpy array\n",
        "def load_file(filepath):\n",
        "\tdataframe = pd.read_csv(filepath, header=None, delim_whitespace=True)\n",
        "\treturn dataframe.values\n",
        "\n",
        "# load a list of files, such as x, y, z data for a given variable\n",
        "def load_group(filenames, prefix=''):\n",
        "\tloaded = list()\n",
        "\tfor name in filenames:\n",
        "\t\tdata = load_file(prefix + name)\n",
        "\t\tloaded.append(data)\n",
        "\t# stack group so that features are the 3rd dimension\n",
        "\tloaded = np.dstack(loaded)\n",
        "\treturn loaded\n",
        "\n",
        "# load a dataset group, such as train or test\n",
        "def load_dataset(group, prefix=''):\n",
        "\tfilepath = prefix + group + '/Inertial Signals/'\n",
        "\tfilenames = list()\n",
        "\t# body acceleration\n",
        "\tfilenames += ['total_acc_x_'+group+'.txt', 'total_acc_y_'+group+'.txt', 'total_acc_z_'+group+'.txt']\n",
        "\t# body gyroscope\n",
        "\tfilenames += ['body_gyro_x_'+group+'.txt', 'body_gyro_y_'+group+'.txt', 'body_gyro_z_'+group+'.txt']\n",
        "\t# load input data\n",
        "\tX = load_group(filenames, filepath)\n",
        "\t# load class output\n",
        "\ty = load_file(prefix + group + '/y_'+group+'.txt')\n",
        "\treturn X, y\n",
        "\n",
        "# Framing data by windows\n",
        "def segmentData(accData,time_step,step):\n",
        "    segmentAccData = list()\n",
        "    for i in range(0, accData.shape[0] - time_step,step):\n",
        "        segmentAccData.append(accData[i:i+time_step,:])\n",
        "    return segmentAccData\n",
        "\n",
        "# download function for datasets\n",
        "def download_url(url, save_path, chunk_size=128):\n",
        "    r = requests.get(url, stream=True)\n",
        "    with open(save_path, 'wb') as fd:\n",
        "        for chunk in r.iter_content(chunk_size=chunk_size):\n",
        "            fd.write(chunk)"
      ]
    },
    {
      "cell_type": "code",
      "source": [
        "from sklearn.preprocessing import OneHotEncoder\n",
        "\n",
        "def one_hot_encoded(ydata):\n",
        "    ydata = OneHotEncoder().fit_transform(ydata.reshape(len(ydata),1))\n",
        "    ydata = np.asarray(ydata.todense())\n",
        "    return ydata"
      ],
      "metadata": {
        "id": "uuGS3aQyVgQD"
      },
      "execution_count": 98,
      "outputs": []
    },
    {
      "cell_type": "code",
      "source": [
        "def splitData(xtrain,ytrain,xtest,ytest,type):\n",
        "  if(type=='master'):\n",
        "    xtrain = xtrain[(ytrain==0) | (ytrain==3)]\n",
        "    ytrain = ytrain[(ytrain==0) | (ytrain==3)]\n",
        "    xtest = xtest[(ytest==0) | (ytest==3)]\n",
        "    ytest = ytest[(ytest==0) |(ytest==3)]\n",
        "  elif(type=='dynamic'):\n",
        "    xtrain = xtrain[(ytrain==0) | (ytrain==1)|(ytrain==2)]\n",
        "    ytrain = ytrain[(ytrain==0) | (ytrain==1)|(ytrain==2)]\n",
        "    xtest = xtest[(ytest==0) | (ytest==1)|(ytest==2)]\n",
        "    ytest = ytest[(ytest==0) | (ytest==1)|(ytest==2)]\n",
        "  elif(type=='static'):\n",
        "    xtrain = xtrain[(ytrain==3) | (ytrain==4)|(ytrain==5)]\n",
        "    ytrain = ytrain[(ytrain==3) | (ytrain==4)|(ytrain==5)]\n",
        "    xtest = xtest[(ytest==3) | (ytest==4)|(ytest==5)]\n",
        "    ytest = ytest[(ytest==3) | (ytest==4)|(ytest==5)]\n",
        " # elif(type=='transition'):\n",
        " #   xtrain = xtrain[(trainlabels==7) | (trainlabels==8)|(trainlabels==9)|(trainlabels==10)|(trainlabels==11)|(trainlabels==12)]\n",
        " #   ytrain = ytrain[(trainlabels==7) | (trainlabels==8)|(trainlabels==9)|(trainlabels==10)|(trainlabels==11)|(trainlabels==12)]\n",
        " # elif(type=='primary'):\n",
        "  #  xtrain = xtrain[(trainlabels==1) | (trainlabels==2)|(trainlabels==3)|(trainlabels==4)|(trainlabels==5)|(trainlabels==6)]\n",
        "  #  ytrain = ytrain[(trainlabels==1) | (trainlabels==2)|(trainlabels==3)|(trainlabels==4)|(trainlabels==5)|(trainlabels==6)]\n",
        "  else:\n",
        "    xtrain = xtrain\n",
        "    ytrain = ytrain\n",
        "\n",
        "#  xtrain,xtest,ytrain,ytest = train_test_split(xtrain,ytrain,test_size = 0.3,random_state=42)\n",
        "  testlabels = ytest\n",
        "\n",
        "  ytrain = one_hot_encoded(ytrain)\n",
        "  ytest = one_hot_encoded(ytest)\n",
        "  return xtrain,xtest,ytrain,ytest,testlabels"
      ],
      "metadata": {
        "id": "5aQ4fqvSFHqT"
      },
      "execution_count": 128,
      "outputs": []
    },
    {
      "cell_type": "code",
      "execution_count": 100,
      "metadata": {
        "colab": {
          "base_uri": "https://localhost:8080/"
        },
        "id": "bde7_sUoSM_t",
        "outputId": "682eb882-baf2-459a-b5bc-44d21aa912f5"
      },
      "outputs": [
        {
          "output_type": "stream",
          "name": "stdout",
          "text": [
            "downloading...\n",
            "dataset already downloaded\n",
            "Data already extracted in /content/dataset/UCI HAR Dataset\n"
          ]
        }
      ],
      "source": [
        "# download and unzipping dataset\n",
        "os.makedirs('dataset',exist_ok=True)\n",
        "print(\"downloading...\")\n",
        "data_directory = os.path.abspath(\"dataset/UCI HAR Dataset.zip\")\n",
        "if not os.path.exists(data_directory):\n",
        "    download_url(\"https://archive.ics.uci.edu/ml/machine-learning-databases/00240/UCI HAR Dataset.zip\",data_directory)\n",
        "    print(\"download done\")\n",
        "else:\n",
        "    print(\"dataset already downloaded\")\n",
        "\n",
        "data_directory2 = os.path.abspath(\"dataset/UCI HAR Dataset\")\n",
        "if not os.path.exists(data_directory2):\n",
        "    print(\"extracting data\")\n",
        "    with zipfile.ZipFile(data_directory, 'r') as zip_ref:\n",
        "        zip_ref.extractall(os.path.abspath(\"dataset/\"))\n",
        "    print(\"data extracted in \" + data_directory2)\n",
        "else:\n",
        "    print(\"Data already extracted in \" + data_directory2)"
      ]
    },
    {
      "cell_type": "code",
      "execution_count": 101,
      "metadata": {
        "id": "FPbVd-l4SM_u"
      },
      "outputs": [],
      "source": [
        "trainSubjectList = pd.read_csv('dataset/UCI HAR Dataset/train/subject_train.txt', header=None, delim_whitespace=True).values\n",
        "testSubjectList = pd.read_csv('dataset/UCI HAR Dataset/test/subject_test.txt', header=None, delim_whitespace=True).values"
      ]
    },
    {
      "cell_type": "code",
      "execution_count": 102,
      "metadata": {
        "id": "saSvysA6SM_u"
      },
      "outputs": [],
      "source": [
        "# load all train\n",
        "trainX, trainy = load_dataset('train', 'dataset/UCI HAR Dataset/')\n",
        "trainy = np.asarray([x - 1 for x in trainy])\n",
        "\n",
        "# load all test\n",
        "testX, testy = load_dataset('test', 'dataset/UCI HAR Dataset/')\n",
        "testy = np.asarray([x - 1 for x in testy])"
      ]
    },
    {
      "cell_type": "code",
      "execution_count": 103,
      "metadata": {
        "id": "vqR-q5XUSM_u"
      },
      "outputs": [],
      "source": [
        "combinedData = np.vstack((trainX,testX))"
      ]
    },
    {
      "cell_type": "code",
      "execution_count": 104,
      "metadata": {
        "id": "jQyDEIcjSM_u"
      },
      "outputs": [],
      "source": [
        "subjectList = np.vstack((trainSubjectList,testSubjectList)).squeeze()\n",
        "labels = np.vstack((trainy,testy)).squeeze()"
      ]
    },
    {
      "cell_type": "code",
      "execution_count": 105,
      "metadata": {
        "id": "YUXOf12qSM_u"
      },
      "outputs": [],
      "source": [
        "nbOfSubjects = len(np.unique(subjectList))"
      ]
    },
    {
      "cell_type": "code",
      "execution_count": 106,
      "metadata": {
        "id": "miauJ4SpSM_v"
      },
      "outputs": [],
      "source": [
        "subjectDataDict = {new_list: [] for new_list in range(nbOfSubjects)}\n",
        "subjectLabelDict = {new_list: [] for new_list in range(nbOfSubjects)}"
      ]
    },
    {
      "cell_type": "code",
      "source": [
        "combinedData.shape"
      ],
      "metadata": {
        "colab": {
          "base_uri": "https://localhost:8080/"
        },
        "id": "m9Gx_FTYp0-k",
        "outputId": "eec446e9-fd5c-45c5-caff-a9ce2a92ab99"
      },
      "execution_count": 107,
      "outputs": [
        {
          "output_type": "execute_result",
          "data": {
            "text/plain": [
              "(10299, 128, 6)"
            ]
          },
          "metadata": {},
          "execution_count": 107
        }
      ]
    },
    {
      "cell_type": "code",
      "execution_count": 108,
      "metadata": {
        "id": "84NNJg5VSM_v"
      },
      "outputs": [],
      "source": [
        "meanAcc = np.mean(combinedData[:,:,:3])\n",
        "stdAcc = np.std(combinedData[:,:,:3])\n",
        "varAcc = np.var(combinedData[:,:,:3])\n",
        "\n",
        "meanGyro = np.mean(combinedData[:,:,3:])\n",
        "stdGyro = np.std(combinedData[:,:,3:])\n",
        "varGyro = np.var(combinedData[:,:,3:])\n",
        "\n",
        "normalizedAllAcc = (combinedData[:,:,:3] - meanAcc) / stdAcc\n",
        "normalizedAllGyro = (combinedData[:,:,3:] - meanGyro) / stdGyro\n",
        "normalizedAll = np.dstack((normalizedAllAcc,normalizedAllGyro))"
      ]
    },
    {
      "cell_type": "code",
      "execution_count": 109,
      "metadata": {
        "id": "WqQ2cKAISM_v"
      },
      "outputs": [],
      "source": [
        "trainy = np.squeeze(trainy)\n",
        "testy = np.squeeze(testy)"
      ]
    },
    {
      "cell_type": "code",
      "execution_count": 110,
      "metadata": {
        "id": "A283573wSM_v"
      },
      "outputs": [],
      "source": [
        "dataName = 'UCI'\n",
        "os.makedirs('datasetStandardized/'+dataName, exist_ok=True)\n",
        "hkl.dump(normalizedAll[:trainX.shape[0]],'datasetStandardized/'+dataName+ '/trainX.hkl' )\n",
        "hkl.dump(normalizedAll[trainX.shape[0]:],'datasetStandardized/'+dataName+ '/testX.hkl' )\n",
        "hkl.dump(trainy,'datasetStandardized/'+dataName+ '/trainY.hkl' )\n",
        "hkl.dump(testy,'datasetStandardized/'+dataName+ '/testY.hkl' )"
      ]
    },
    {
      "cell_type": "code",
      "execution_count": 111,
      "metadata": {
        "id": "1mZdcAvOSM_v",
        "colab": {
          "base_uri": "https://localhost:8080/"
        },
        "outputId": "18eaca5f-5544-4429-c749-13453b4ad3ed"
      },
      "outputs": [
        {
          "output_type": "execute_result",
          "data": {
            "text/plain": [
              "(7352, 128, 6)"
            ]
          },
          "metadata": {},
          "execution_count": 111
        }
      ],
      "source": [
        "trainX.shape"
      ]
    },
    {
      "cell_type": "code",
      "source": [
        "!pip install tensorflow==2.10.1\n"
      ],
      "metadata": {
        "colab": {
          "base_uri": "https://localhost:8080/",
          "height": 1000
        },
        "id": "blvwX3m4VPHd",
        "outputId": "130a0334-ce4f-4491-f0da-a058db44f35c"
      },
      "execution_count": 19,
      "outputs": [
        {
          "output_type": "stream",
          "name": "stdout",
          "text": [
            "Collecting tensorflow==2.10.1\n",
            "  Downloading tensorflow-2.10.1-cp310-cp310-manylinux_2_17_x86_64.manylinux2014_x86_64.whl (578.1 MB)\n",
            "\u001b[2K     \u001b[90m━━━━━━━━━━━━━━━━━━━━━━━━━━━━━━━━━━━━━━━\u001b[0m \u001b[32m578.1/578.1 MB\u001b[0m \u001b[31m3.1 MB/s\u001b[0m eta \u001b[36m0:00:00\u001b[0m\n",
            "\u001b[?25hRequirement already satisfied: absl-py>=1.0.0 in /usr/local/lib/python3.10/dist-packages (from tensorflow==2.10.1) (1.4.0)\n",
            "Requirement already satisfied: astunparse>=1.6.0 in /usr/local/lib/python3.10/dist-packages (from tensorflow==2.10.1) (1.6.3)\n",
            "Requirement already satisfied: flatbuffers>=2.0 in /usr/local/lib/python3.10/dist-packages (from tensorflow==2.10.1) (23.5.26)\n",
            "Requirement already satisfied: gast<=0.4.0,>=0.2.1 in /usr/local/lib/python3.10/dist-packages (from tensorflow==2.10.1) (0.4.0)\n",
            "Requirement already satisfied: google-pasta>=0.1.1 in /usr/local/lib/python3.10/dist-packages (from tensorflow==2.10.1) (0.2.0)\n",
            "Requirement already satisfied: grpcio<2.0,>=1.24.3 in /usr/local/lib/python3.10/dist-packages (from tensorflow==2.10.1) (1.56.2)\n",
            "Requirement already satisfied: h5py>=2.9.0 in /usr/local/lib/python3.10/dist-packages (from tensorflow==2.10.1) (3.9.0)\n",
            "Collecting keras<2.11,>=2.10.0 (from tensorflow==2.10.1)\n",
            "  Downloading keras-2.10.0-py2.py3-none-any.whl (1.7 MB)\n",
            "\u001b[2K     \u001b[90m━━━━━━━━━━━━━━━━━━━━━━━━━━━━━━━━━━━━━━━━\u001b[0m \u001b[32m1.7/1.7 MB\u001b[0m \u001b[31m71.2 MB/s\u001b[0m eta \u001b[36m0:00:00\u001b[0m\n",
            "\u001b[?25hCollecting keras-preprocessing>=1.1.1 (from tensorflow==2.10.1)\n",
            "  Downloading Keras_Preprocessing-1.1.2-py2.py3-none-any.whl (42 kB)\n",
            "\u001b[2K     \u001b[90m━━━━━━━━━━━━━━━━━━━━━━━━━━━━━━━━━━━━━━━━\u001b[0m \u001b[32m42.6/42.6 kB\u001b[0m \u001b[31m5.3 MB/s\u001b[0m eta \u001b[36m0:00:00\u001b[0m\n",
            "\u001b[?25hRequirement already satisfied: libclang>=13.0.0 in /usr/local/lib/python3.10/dist-packages (from tensorflow==2.10.1) (16.0.6)\n",
            "Requirement already satisfied: numpy>=1.20 in /usr/local/lib/python3.10/dist-packages (from tensorflow==2.10.1) (1.23.5)\n",
            "Requirement already satisfied: opt-einsum>=2.3.2 in /usr/local/lib/python3.10/dist-packages (from tensorflow==2.10.1) (3.3.0)\n",
            "Requirement already satisfied: packaging in /usr/local/lib/python3.10/dist-packages (from tensorflow==2.10.1) (23.1)\n",
            "Collecting protobuf<3.20,>=3.9.2 (from tensorflow==2.10.1)\n",
            "  Downloading protobuf-3.19.6-cp310-cp310-manylinux_2_17_x86_64.manylinux2014_x86_64.whl (1.1 MB)\n",
            "\u001b[2K     \u001b[90m━━━━━━━━━━━━━━━━━━━━━━━━━━━━━━━━━━━━━━━━\u001b[0m \u001b[32m1.1/1.1 MB\u001b[0m \u001b[31m55.8 MB/s\u001b[0m eta \u001b[36m0:00:00\u001b[0m\n",
            "\u001b[?25hRequirement already satisfied: setuptools in /usr/local/lib/python3.10/dist-packages (from tensorflow==2.10.1) (67.7.2)\n",
            "Requirement already satisfied: six>=1.12.0 in /usr/local/lib/python3.10/dist-packages (from tensorflow==2.10.1) (1.16.0)\n",
            "Collecting tensorboard<2.11,>=2.10 (from tensorflow==2.10.1)\n",
            "  Downloading tensorboard-2.10.1-py3-none-any.whl (5.9 MB)\n",
            "\u001b[2K     \u001b[90m━━━━━━━━━━━━━━━━━━━━━━━━━━━━━━━━━━━━━━━━\u001b[0m \u001b[32m5.9/5.9 MB\u001b[0m \u001b[31m83.6 MB/s\u001b[0m eta \u001b[36m0:00:00\u001b[0m\n",
            "\u001b[?25hRequirement already satisfied: tensorflow-io-gcs-filesystem>=0.23.1 in /usr/local/lib/python3.10/dist-packages (from tensorflow==2.10.1) (0.33.0)\n",
            "Collecting tensorflow-estimator<2.11,>=2.10.0 (from tensorflow==2.10.1)\n",
            "  Downloading tensorflow_estimator-2.10.0-py2.py3-none-any.whl (438 kB)\n",
            "\u001b[2K     \u001b[90m━━━━━━━━━━━━━━━━━━━━━━━━━━━━━━━━━━━━━━\u001b[0m \u001b[32m438.7/438.7 kB\u001b[0m \u001b[31m38.9 MB/s\u001b[0m eta \u001b[36m0:00:00\u001b[0m\n",
            "\u001b[?25hRequirement already satisfied: termcolor>=1.1.0 in /usr/local/lib/python3.10/dist-packages (from tensorflow==2.10.1) (2.3.0)\n",
            "Requirement already satisfied: typing-extensions>=3.6.6 in /usr/local/lib/python3.10/dist-packages (from tensorflow==2.10.1) (4.7.1)\n",
            "Requirement already satisfied: wrapt>=1.11.0 in /usr/local/lib/python3.10/dist-packages (from tensorflow==2.10.1) (1.14.1)\n",
            "Requirement already satisfied: wheel<1.0,>=0.23.0 in /usr/local/lib/python3.10/dist-packages (from astunparse>=1.6.0->tensorflow==2.10.1) (0.41.1)\n",
            "Requirement already satisfied: google-auth<3,>=1.6.3 in /usr/local/lib/python3.10/dist-packages (from tensorboard<2.11,>=2.10->tensorflow==2.10.1) (2.17.3)\n",
            "Collecting google-auth-oauthlib<0.5,>=0.4.1 (from tensorboard<2.11,>=2.10->tensorflow==2.10.1)\n",
            "  Downloading google_auth_oauthlib-0.4.6-py2.py3-none-any.whl (18 kB)\n",
            "Requirement already satisfied: markdown>=2.6.8 in /usr/local/lib/python3.10/dist-packages (from tensorboard<2.11,>=2.10->tensorflow==2.10.1) (3.4.4)\n",
            "Requirement already satisfied: requests<3,>=2.21.0 in /usr/local/lib/python3.10/dist-packages (from tensorboard<2.11,>=2.10->tensorflow==2.10.1) (2.31.0)\n",
            "Collecting tensorboard-data-server<0.7.0,>=0.6.0 (from tensorboard<2.11,>=2.10->tensorflow==2.10.1)\n",
            "  Downloading tensorboard_data_server-0.6.1-py3-none-manylinux2010_x86_64.whl (4.9 MB)\n",
            "\u001b[2K     \u001b[90m━━━━━━━━━━━━━━━━━━━━━━━━━━━━━━━━━━━━━━━━\u001b[0m \u001b[32m4.9/4.9 MB\u001b[0m \u001b[31m75.0 MB/s\u001b[0m eta \u001b[36m0:00:00\u001b[0m\n",
            "\u001b[?25hCollecting tensorboard-plugin-wit>=1.6.0 (from tensorboard<2.11,>=2.10->tensorflow==2.10.1)\n",
            "  Downloading tensorboard_plugin_wit-1.8.1-py3-none-any.whl (781 kB)\n",
            "\u001b[2K     \u001b[90m━━━━━━━━━━━━━━━━━━━━━━━━━━━━━━━━━━━━━━\u001b[0m \u001b[32m781.3/781.3 kB\u001b[0m \u001b[31m53.3 MB/s\u001b[0m eta \u001b[36m0:00:00\u001b[0m\n",
            "\u001b[?25hRequirement already satisfied: werkzeug>=1.0.1 in /usr/local/lib/python3.10/dist-packages (from tensorboard<2.11,>=2.10->tensorflow==2.10.1) (2.3.6)\n",
            "Requirement already satisfied: cachetools<6.0,>=2.0.0 in /usr/local/lib/python3.10/dist-packages (from google-auth<3,>=1.6.3->tensorboard<2.11,>=2.10->tensorflow==2.10.1) (5.3.1)\n",
            "Requirement already satisfied: pyasn1-modules>=0.2.1 in /usr/local/lib/python3.10/dist-packages (from google-auth<3,>=1.6.3->tensorboard<2.11,>=2.10->tensorflow==2.10.1) (0.3.0)\n",
            "Requirement already satisfied: rsa<5,>=3.1.4 in /usr/local/lib/python3.10/dist-packages (from google-auth<3,>=1.6.3->tensorboard<2.11,>=2.10->tensorflow==2.10.1) (4.9)\n",
            "Requirement already satisfied: requests-oauthlib>=0.7.0 in /usr/local/lib/python3.10/dist-packages (from google-auth-oauthlib<0.5,>=0.4.1->tensorboard<2.11,>=2.10->tensorflow==2.10.1) (1.3.1)\n",
            "Requirement already satisfied: charset-normalizer<4,>=2 in /usr/local/lib/python3.10/dist-packages (from requests<3,>=2.21.0->tensorboard<2.11,>=2.10->tensorflow==2.10.1) (3.2.0)\n",
            "Requirement already satisfied: idna<4,>=2.5 in /usr/local/lib/python3.10/dist-packages (from requests<3,>=2.21.0->tensorboard<2.11,>=2.10->tensorflow==2.10.1) (3.4)\n",
            "Requirement already satisfied: urllib3<3,>=1.21.1 in /usr/local/lib/python3.10/dist-packages (from requests<3,>=2.21.0->tensorboard<2.11,>=2.10->tensorflow==2.10.1) (2.0.4)\n",
            "Requirement already satisfied: certifi>=2017.4.17 in /usr/local/lib/python3.10/dist-packages (from requests<3,>=2.21.0->tensorboard<2.11,>=2.10->tensorflow==2.10.1) (2023.7.22)\n",
            "Requirement already satisfied: MarkupSafe>=2.1.1 in /usr/local/lib/python3.10/dist-packages (from werkzeug>=1.0.1->tensorboard<2.11,>=2.10->tensorflow==2.10.1) (2.1.3)\n",
            "Requirement already satisfied: pyasn1<0.6.0,>=0.4.6 in /usr/local/lib/python3.10/dist-packages (from pyasn1-modules>=0.2.1->google-auth<3,>=1.6.3->tensorboard<2.11,>=2.10->tensorflow==2.10.1) (0.5.0)\n",
            "Requirement already satisfied: oauthlib>=3.0.0 in /usr/local/lib/python3.10/dist-packages (from requests-oauthlib>=0.7.0->google-auth-oauthlib<0.5,>=0.4.1->tensorboard<2.11,>=2.10->tensorflow==2.10.1) (3.2.2)\n",
            "Installing collected packages: tensorboard-plugin-wit, keras, tensorflow-estimator, tensorboard-data-server, protobuf, keras-preprocessing, google-auth-oauthlib, tensorboard, tensorflow\n",
            "  Attempting uninstall: keras\n",
            "    Found existing installation: keras 2.12.0\n",
            "    Uninstalling keras-2.12.0:\n",
            "      Successfully uninstalled keras-2.12.0\n",
            "  Attempting uninstall: tensorflow-estimator\n",
            "    Found existing installation: tensorflow-estimator 2.12.0\n",
            "    Uninstalling tensorflow-estimator-2.12.0:\n",
            "      Successfully uninstalled tensorflow-estimator-2.12.0\n",
            "  Attempting uninstall: tensorboard-data-server\n",
            "    Found existing installation: tensorboard-data-server 0.7.1\n",
            "    Uninstalling tensorboard-data-server-0.7.1:\n",
            "      Successfully uninstalled tensorboard-data-server-0.7.1\n",
            "  Attempting uninstall: protobuf\n",
            "    Found existing installation: protobuf 3.20.3\n",
            "    Uninstalling protobuf-3.20.3:\n",
            "      Successfully uninstalled protobuf-3.20.3\n",
            "  Attempting uninstall: google-auth-oauthlib\n",
            "    Found existing installation: google-auth-oauthlib 1.0.0\n",
            "    Uninstalling google-auth-oauthlib-1.0.0:\n",
            "      Successfully uninstalled google-auth-oauthlib-1.0.0\n",
            "  Attempting uninstall: tensorboard\n",
            "    Found existing installation: tensorboard 2.12.3\n",
            "    Uninstalling tensorboard-2.12.3:\n",
            "      Successfully uninstalled tensorboard-2.12.3\n",
            "  Attempting uninstall: tensorflow\n",
            "    Found existing installation: tensorflow 2.12.0\n",
            "    Uninstalling tensorflow-2.12.0:\n",
            "      Successfully uninstalled tensorflow-2.12.0\n",
            "\u001b[31mERROR: pip's dependency resolver does not currently take into account all the packages that are installed. This behaviour is the source of the following dependency conflicts.\n",
            "tensorflow-datasets 4.9.2 requires protobuf>=3.20, but you have protobuf 3.19.6 which is incompatible.\n",
            "tensorflow-metadata 1.13.1 requires protobuf<5,>=3.20.3, but you have protobuf 3.19.6 which is incompatible.\u001b[0m\u001b[31m\n",
            "\u001b[0mSuccessfully installed google-auth-oauthlib-0.4.6 keras-2.10.0 keras-preprocessing-1.1.2 protobuf-3.19.6 tensorboard-2.10.1 tensorboard-data-server-0.6.1 tensorboard-plugin-wit-1.8.1 tensorflow-2.10.1 tensorflow-estimator-2.10.0\n"
          ]
        },
        {
          "output_type": "display_data",
          "data": {
            "application/vnd.colab-display-data+json": {
              "pip_warning": {
                "packages": [
                  "google",
                  "keras",
                  "tensorboard",
                  "tensorflow"
                ]
              }
            }
          },
          "metadata": {}
        }
      ]
    },
    {
      "cell_type": "code",
      "source": [
        "!pip install -r requirements.txt\n"
      ],
      "metadata": {
        "colab": {
          "base_uri": "https://localhost:8080/"
        },
        "id": "WuxPIRF-VPIg",
        "outputId": "441a7ad3-f89f-4802-ddab-ee639391ccf5"
      },
      "execution_count": 20,
      "outputs": [
        {
          "output_type": "stream",
          "name": "stdout",
          "text": [
            "Requirement already satisfied: absl-py==1.4.0 in /usr/local/lib/python3.10/dist-packages (from -r requirements.txt (line 1)) (1.4.0)\n",
            "Requirement already satisfied: astunparse==1.6.3 in /usr/local/lib/python3.10/dist-packages (from -r requirements.txt (line 2)) (1.6.3)\n",
            "Collecting cachetools==5.3.0 (from -r requirements.txt (line 3))\n",
            "  Downloading cachetools-5.3.0-py3-none-any.whl (9.3 kB)\n",
            "Collecting certifi==2022.12.7 (from -r requirements.txt (line 4))\n",
            "  Downloading certifi-2022.12.7-py3-none-any.whl (155 kB)\n",
            "\u001b[2K     \u001b[90m━━━━━━━━━━━━━━━━━━━━━━━━━━━━━━━━━━━━━━━\u001b[0m \u001b[32m155.3/155.3 kB\u001b[0m \u001b[31m3.8 MB/s\u001b[0m eta \u001b[36m0:00:00\u001b[0m\n",
            "\u001b[?25hCollecting charset-normalizer==3.0.1 (from -r requirements.txt (line 5))\n",
            "  Downloading charset_normalizer-3.0.1-cp310-cp310-manylinux_2_17_x86_64.manylinux2014_x86_64.whl (198 kB)\n",
            "\u001b[2K     \u001b[90m━━━━━━━━━━━━━━━━━━━━━━━━━━━━━━━━━━━━━━\u001b[0m \u001b[32m198.8/198.8 kB\u001b[0m \u001b[31m20.5 MB/s\u001b[0m eta \u001b[36m0:00:00\u001b[0m\n",
            "\u001b[?25hRequirement already satisfied: cycler==0.11.0 in /usr/local/lib/python3.10/dist-packages (from -r requirements.txt (line 6)) (0.11.0)\n",
            "Collecting flatbuffers==23.1.21 (from -r requirements.txt (line 7))\n",
            "  Downloading flatbuffers-23.1.21-py2.py3-none-any.whl (26 kB)\n",
            "Collecting fonttools==4.38.0 (from -r requirements.txt (line 8))\n",
            "  Downloading fonttools-4.38.0-py3-none-any.whl (965 kB)\n",
            "\u001b[2K     \u001b[90m━━━━━━━━━━━━━━━━━━━━━━━━━━━━━━━━━━━━━━\u001b[0m \u001b[32m965.4/965.4 kB\u001b[0m \u001b[31m31.3 MB/s\u001b[0m eta \u001b[36m0:00:00\u001b[0m\n",
            "\u001b[?25hRequirement already satisfied: gast==0.4.0 in /usr/local/lib/python3.10/dist-packages (from -r requirements.txt (line 9)) (0.4.0)\n",
            "Collecting google-auth==2.16.0 (from -r requirements.txt (line 10))\n",
            "  Downloading google_auth-2.16.0-py2.py3-none-any.whl (177 kB)\n",
            "\u001b[2K     \u001b[90m━━━━━━━━━━━━━━━━━━━━━━━━━━━━━━━━━━━━━━\u001b[0m \u001b[32m177.8/177.8 kB\u001b[0m \u001b[31m21.3 MB/s\u001b[0m eta \u001b[36m0:00:00\u001b[0m\n",
            "\u001b[?25hRequirement already satisfied: google-auth-oauthlib==0.4.6 in /usr/local/lib/python3.10/dist-packages (from -r requirements.txt (line 11)) (0.4.6)\n",
            "Requirement already satisfied: google-pasta==0.2.0 in /usr/local/lib/python3.10/dist-packages (from -r requirements.txt (line 12)) (0.2.0)\n",
            "Collecting grpcio==1.51.1 (from -r requirements.txt (line 13))\n",
            "  Downloading grpcio-1.51.1-cp310-cp310-manylinux_2_17_x86_64.manylinux2014_x86_64.whl (4.8 MB)\n",
            "\u001b[2K     \u001b[90m━━━━━━━━━━━━━━━━━━━━━━━━━━━━━━━━━━━━━━━━\u001b[0m \u001b[32m4.8/4.8 MB\u001b[0m \u001b[31m61.1 MB/s\u001b[0m eta \u001b[36m0:00:00\u001b[0m\n",
            "\u001b[?25hCollecting h5py==3.8.0 (from -r requirements.txt (line 14))\n",
            "  Downloading h5py-3.8.0-cp310-cp310-manylinux_2_17_x86_64.manylinux2014_x86_64.whl (4.6 MB)\n",
            "\u001b[2K     \u001b[90m━━━━━━━━━━━━━━━━━━━━━━━━━━━━━━━━━━━━━━━━\u001b[0m \u001b[32m4.6/4.6 MB\u001b[0m \u001b[31m92.9 MB/s\u001b[0m eta \u001b[36m0:00:00\u001b[0m\n",
            "\u001b[?25hRequirement already satisfied: hickle==5.0.2 in /usr/local/lib/python3.10/dist-packages (from -r requirements.txt (line 15)) (5.0.2)\n",
            "Requirement already satisfied: idna==3.4 in /usr/local/lib/python3.10/dist-packages (from -r requirements.txt (line 16)) (3.4)\n",
            "Collecting importlib-metadata==6.0.0 (from -r requirements.txt (line 17))\n",
            "  Downloading importlib_metadata-6.0.0-py3-none-any.whl (21 kB)\n",
            "Collecting joblib==1.2.0 (from -r requirements.txt (line 18))\n",
            "  Downloading joblib-1.2.0-py3-none-any.whl (297 kB)\n",
            "\u001b[2K     \u001b[90m━━━━━━━━━━━━━━━━━━━━━━━━━━━━━━━━━━━━━━\u001b[0m \u001b[32m298.0/298.0 kB\u001b[0m \u001b[31m29.5 MB/s\u001b[0m eta \u001b[36m0:00:00\u001b[0m\n",
            "\u001b[?25hRequirement already satisfied: keras==2.10.0 in /usr/local/lib/python3.10/dist-packages (from -r requirements.txt (line 19)) (2.10.0)\n",
            "Collecting keras-flops==0.1.2 (from -r requirements.txt (line 20))\n",
            "  Downloading keras_flops-0.1.2-py3-none-any.whl (5.3 kB)\n",
            "Requirement already satisfied: Keras-Preprocessing==1.1.2 in /usr/local/lib/python3.10/dist-packages (from -r requirements.txt (line 21)) (1.1.2)\n",
            "Requirement already satisfied: kiwisolver==1.4.4 in /usr/local/lib/python3.10/dist-packages (from -r requirements.txt (line 22)) (1.4.4)\n",
            "Collecting libclang==15.0.6.1 (from -r requirements.txt (line 23))\n",
            "  Downloading libclang-15.0.6.1-py2.py3-none-manylinux2010_x86_64.whl (21.5 MB)\n",
            "\u001b[2K     \u001b[90m━━━━━━━━━━━━━━━━━━━━━━━━━━━━━━━━━━━━━━━━\u001b[0m \u001b[32m21.5/21.5 MB\u001b[0m \u001b[31m65.5 MB/s\u001b[0m eta \u001b[36m0:00:00\u001b[0m\n",
            "\u001b[?25hCollecting Markdown==3.4.1 (from -r requirements.txt (line 24))\n",
            "  Downloading Markdown-3.4.1-py3-none-any.whl (93 kB)\n",
            "\u001b[2K     \u001b[90m━━━━━━━━━━━━━━━━━━━━━━━━━━━━━━━━━━━━━━━━\u001b[0m \u001b[32m93.3/93.3 kB\u001b[0m \u001b[31m10.8 MB/s\u001b[0m eta \u001b[36m0:00:00\u001b[0m\n",
            "\u001b[?25hCollecting MarkupSafe==2.1.2 (from -r requirements.txt (line 25))\n",
            "  Downloading MarkupSafe-2.1.2-cp310-cp310-manylinux_2_17_x86_64.manylinux2014_x86_64.whl (25 kB)\n",
            "Collecting matplotlib==3.5.3 (from -r requirements.txt (line 26))\n",
            "  Downloading matplotlib-3.5.3-cp310-cp310-manylinux_2_17_x86_64.manylinux2014_x86_64.whl (11.9 MB)\n",
            "\u001b[2K     \u001b[90m━━━━━━━━━━━━━━━━━━━━━━━━━━━━━━━━━━━━━━━\u001b[0m \u001b[32m11.9/11.9 MB\u001b[0m \u001b[31m112.9 MB/s\u001b[0m eta \u001b[36m0:00:00\u001b[0m\n",
            "\u001b[?25hCollecting numpy==1.21.6 (from -r requirements.txt (line 27))\n",
            "  Downloading numpy-1.21.6-cp310-cp310-manylinux_2_17_x86_64.manylinux2014_x86_64.whl (15.9 MB)\n",
            "\u001b[2K     \u001b[90m━━━━━━━━━━━━━━━━━━━━━━━━━━━━━━━━━━━━━━━\u001b[0m \u001b[32m15.9/15.9 MB\u001b[0m \u001b[31m106.5 MB/s\u001b[0m eta \u001b[36m0:00:00\u001b[0m\n",
            "\u001b[?25hRequirement already satisfied: oauthlib==3.2.2 in /usr/local/lib/python3.10/dist-packages (from -r requirements.txt (line 28)) (3.2.2)\n",
            "Requirement already satisfied: opt-einsum==3.3.0 in /usr/local/lib/python3.10/dist-packages (from -r requirements.txt (line 29)) (3.3.0)\n",
            "Collecting packaging==23.0 (from -r requirements.txt (line 30))\n",
            "  Downloading packaging-23.0-py3-none-any.whl (42 kB)\n",
            "\u001b[2K     \u001b[90m━━━━━━━━━━━━━━━━━━━━━━━━━━━━━━━━━━━━━━━━\u001b[0m \u001b[32m42.7/42.7 kB\u001b[0m \u001b[31m5.2 MB/s\u001b[0m eta \u001b[36m0:00:00\u001b[0m\n",
            "\u001b[?25hCollecting pandas==1.3.5 (from -r requirements.txt (line 31))\n",
            "  Downloading pandas-1.3.5-cp310-cp310-manylinux_2_17_x86_64.manylinux2014_x86_64.whl (11.5 MB)\n",
            "\u001b[2K     \u001b[90m━━━━━━━━━━━━━━━━━━━━━━━━━━━━━━━━━━━━━━━━\u001b[0m \u001b[32m11.5/11.5 MB\u001b[0m \u001b[31m21.0 MB/s\u001b[0m eta \u001b[36m0:00:00\u001b[0m\n",
            "\u001b[?25hRequirement already satisfied: Pillow==9.4.0 in /usr/local/lib/python3.10/dist-packages (from -r requirements.txt (line 32)) (9.4.0)\n",
            "\u001b[31mERROR: Could not find a version that satisfies the requirement pkg_resources==0.0.0 (from versions: none)\u001b[0m\u001b[31m\n",
            "\u001b[0m\u001b[31mERROR: No matching distribution found for pkg_resources==0.0.0\u001b[0m\u001b[31m\n",
            "\u001b[0m"
          ]
        }
      ]
    },
    {
      "cell_type": "code",
      "source": [
        "%ls"
      ],
      "metadata": {
        "colab": {
          "base_uri": "https://localhost:8080/"
        },
        "id": "Nku3PHDOWKoO",
        "outputId": "b167fc8b-5a6c-4d00-8cdd-cf269bc59a74"
      },
      "execution_count": null,
      "outputs": [
        {
          "output_type": "stream",
          "name": "stdout",
          "text": [
            "\u001b[0m\u001b[01;34mdataset\u001b[0m/  \u001b[01;34mdatasetStandardized\u001b[0m/  \u001b[01;34mdrive\u001b[0m/  \u001b[01;34msample_data\u001b[0m/\n"
          ]
        }
      ]
    },
    {
      "cell_type": "code",
      "source": [
        "!pip install keras_flops"
      ],
      "metadata": {
        "colab": {
          "base_uri": "https://localhost:8080/"
        },
        "id": "Zu6dP8Bugue4",
        "outputId": "1c4ad4b1-ee2c-40d5-979f-51c5dbe11d65"
      },
      "execution_count": 21,
      "outputs": [
        {
          "output_type": "stream",
          "name": "stdout",
          "text": [
            "Collecting keras_flops\n",
            "  Using cached keras_flops-0.1.2-py3-none-any.whl (5.3 kB)\n",
            "Requirement already satisfied: tensorflow<3.0,>=2.2 in /usr/local/lib/python3.10/dist-packages (from keras_flops) (2.10.1)\n",
            "Requirement already satisfied: absl-py>=1.0.0 in /usr/local/lib/python3.10/dist-packages (from tensorflow<3.0,>=2.2->keras_flops) (1.4.0)\n",
            "Requirement already satisfied: astunparse>=1.6.0 in /usr/local/lib/python3.10/dist-packages (from tensorflow<3.0,>=2.2->keras_flops) (1.6.3)\n",
            "Requirement already satisfied: flatbuffers>=2.0 in /usr/local/lib/python3.10/dist-packages (from tensorflow<3.0,>=2.2->keras_flops) (23.5.26)\n",
            "Requirement already satisfied: gast<=0.4.0,>=0.2.1 in /usr/local/lib/python3.10/dist-packages (from tensorflow<3.0,>=2.2->keras_flops) (0.4.0)\n",
            "Requirement already satisfied: google-pasta>=0.1.1 in /usr/local/lib/python3.10/dist-packages (from tensorflow<3.0,>=2.2->keras_flops) (0.2.0)\n",
            "Requirement already satisfied: grpcio<2.0,>=1.24.3 in /usr/local/lib/python3.10/dist-packages (from tensorflow<3.0,>=2.2->keras_flops) (1.56.2)\n",
            "Requirement already satisfied: h5py>=2.9.0 in /usr/local/lib/python3.10/dist-packages (from tensorflow<3.0,>=2.2->keras_flops) (3.9.0)\n",
            "Requirement already satisfied: keras<2.11,>=2.10.0 in /usr/local/lib/python3.10/dist-packages (from tensorflow<3.0,>=2.2->keras_flops) (2.10.0)\n",
            "Requirement already satisfied: keras-preprocessing>=1.1.1 in /usr/local/lib/python3.10/dist-packages (from tensorflow<3.0,>=2.2->keras_flops) (1.1.2)\n",
            "Requirement already satisfied: libclang>=13.0.0 in /usr/local/lib/python3.10/dist-packages (from tensorflow<3.0,>=2.2->keras_flops) (16.0.6)\n",
            "Requirement already satisfied: numpy>=1.20 in /usr/local/lib/python3.10/dist-packages (from tensorflow<3.0,>=2.2->keras_flops) (1.23.5)\n",
            "Requirement already satisfied: opt-einsum>=2.3.2 in /usr/local/lib/python3.10/dist-packages (from tensorflow<3.0,>=2.2->keras_flops) (3.3.0)\n",
            "Requirement already satisfied: packaging in /usr/local/lib/python3.10/dist-packages (from tensorflow<3.0,>=2.2->keras_flops) (23.1)\n",
            "Requirement already satisfied: protobuf<3.20,>=3.9.2 in /usr/local/lib/python3.10/dist-packages (from tensorflow<3.0,>=2.2->keras_flops) (3.19.6)\n",
            "Requirement already satisfied: setuptools in /usr/local/lib/python3.10/dist-packages (from tensorflow<3.0,>=2.2->keras_flops) (67.7.2)\n",
            "Requirement already satisfied: six>=1.12.0 in /usr/local/lib/python3.10/dist-packages (from tensorflow<3.0,>=2.2->keras_flops) (1.16.0)\n",
            "Requirement already satisfied: tensorboard<2.11,>=2.10 in /usr/local/lib/python3.10/dist-packages (from tensorflow<3.0,>=2.2->keras_flops) (2.10.1)\n",
            "Requirement already satisfied: tensorflow-io-gcs-filesystem>=0.23.1 in /usr/local/lib/python3.10/dist-packages (from tensorflow<3.0,>=2.2->keras_flops) (0.33.0)\n",
            "Requirement already satisfied: tensorflow-estimator<2.11,>=2.10.0 in /usr/local/lib/python3.10/dist-packages (from tensorflow<3.0,>=2.2->keras_flops) (2.10.0)\n",
            "Requirement already satisfied: termcolor>=1.1.0 in /usr/local/lib/python3.10/dist-packages (from tensorflow<3.0,>=2.2->keras_flops) (2.3.0)\n",
            "Requirement already satisfied: typing-extensions>=3.6.6 in /usr/local/lib/python3.10/dist-packages (from tensorflow<3.0,>=2.2->keras_flops) (4.7.1)\n",
            "Requirement already satisfied: wrapt>=1.11.0 in /usr/local/lib/python3.10/dist-packages (from tensorflow<3.0,>=2.2->keras_flops) (1.14.1)\n",
            "Requirement already satisfied: wheel<1.0,>=0.23.0 in /usr/local/lib/python3.10/dist-packages (from astunparse>=1.6.0->tensorflow<3.0,>=2.2->keras_flops) (0.41.1)\n",
            "Requirement already satisfied: google-auth<3,>=1.6.3 in /usr/local/lib/python3.10/dist-packages (from tensorboard<2.11,>=2.10->tensorflow<3.0,>=2.2->keras_flops) (2.17.3)\n",
            "Requirement already satisfied: google-auth-oauthlib<0.5,>=0.4.1 in /usr/local/lib/python3.10/dist-packages (from tensorboard<2.11,>=2.10->tensorflow<3.0,>=2.2->keras_flops) (0.4.6)\n",
            "Requirement already satisfied: markdown>=2.6.8 in /usr/local/lib/python3.10/dist-packages (from tensorboard<2.11,>=2.10->tensorflow<3.0,>=2.2->keras_flops) (3.4.4)\n",
            "Requirement already satisfied: requests<3,>=2.21.0 in /usr/local/lib/python3.10/dist-packages (from tensorboard<2.11,>=2.10->tensorflow<3.0,>=2.2->keras_flops) (2.31.0)\n",
            "Requirement already satisfied: tensorboard-data-server<0.7.0,>=0.6.0 in /usr/local/lib/python3.10/dist-packages (from tensorboard<2.11,>=2.10->tensorflow<3.0,>=2.2->keras_flops) (0.6.1)\n",
            "Requirement already satisfied: tensorboard-plugin-wit>=1.6.0 in /usr/local/lib/python3.10/dist-packages (from tensorboard<2.11,>=2.10->tensorflow<3.0,>=2.2->keras_flops) (1.8.1)\n",
            "Requirement already satisfied: werkzeug>=1.0.1 in /usr/local/lib/python3.10/dist-packages (from tensorboard<2.11,>=2.10->tensorflow<3.0,>=2.2->keras_flops) (2.3.6)\n",
            "Requirement already satisfied: cachetools<6.0,>=2.0.0 in /usr/local/lib/python3.10/dist-packages (from google-auth<3,>=1.6.3->tensorboard<2.11,>=2.10->tensorflow<3.0,>=2.2->keras_flops) (5.3.1)\n",
            "Requirement already satisfied: pyasn1-modules>=0.2.1 in /usr/local/lib/python3.10/dist-packages (from google-auth<3,>=1.6.3->tensorboard<2.11,>=2.10->tensorflow<3.0,>=2.2->keras_flops) (0.3.0)\n",
            "Requirement already satisfied: rsa<5,>=3.1.4 in /usr/local/lib/python3.10/dist-packages (from google-auth<3,>=1.6.3->tensorboard<2.11,>=2.10->tensorflow<3.0,>=2.2->keras_flops) (4.9)\n",
            "Requirement already satisfied: requests-oauthlib>=0.7.0 in /usr/local/lib/python3.10/dist-packages (from google-auth-oauthlib<0.5,>=0.4.1->tensorboard<2.11,>=2.10->tensorflow<3.0,>=2.2->keras_flops) (1.3.1)\n",
            "Requirement already satisfied: charset-normalizer<4,>=2 in /usr/local/lib/python3.10/dist-packages (from requests<3,>=2.21.0->tensorboard<2.11,>=2.10->tensorflow<3.0,>=2.2->keras_flops) (3.2.0)\n",
            "Requirement already satisfied: idna<4,>=2.5 in /usr/local/lib/python3.10/dist-packages (from requests<3,>=2.21.0->tensorboard<2.11,>=2.10->tensorflow<3.0,>=2.2->keras_flops) (3.4)\n",
            "Requirement already satisfied: urllib3<3,>=1.21.1 in /usr/local/lib/python3.10/dist-packages (from requests<3,>=2.21.0->tensorboard<2.11,>=2.10->tensorflow<3.0,>=2.2->keras_flops) (2.0.4)\n",
            "Requirement already satisfied: certifi>=2017.4.17 in /usr/local/lib/python3.10/dist-packages (from requests<3,>=2.21.0->tensorboard<2.11,>=2.10->tensorflow<3.0,>=2.2->keras_flops) (2023.7.22)\n",
            "Requirement already satisfied: MarkupSafe>=2.1.1 in /usr/local/lib/python3.10/dist-packages (from werkzeug>=1.0.1->tensorboard<2.11,>=2.10->tensorflow<3.0,>=2.2->keras_flops) (2.1.3)\n",
            "Requirement already satisfied: pyasn1<0.6.0,>=0.4.6 in /usr/local/lib/python3.10/dist-packages (from pyasn1-modules>=0.2.1->google-auth<3,>=1.6.3->tensorboard<2.11,>=2.10->tensorflow<3.0,>=2.2->keras_flops) (0.5.0)\n",
            "Requirement already satisfied: oauthlib>=3.0.0 in /usr/local/lib/python3.10/dist-packages (from requests-oauthlib>=0.7.0->google-auth-oauthlib<0.5,>=0.4.1->tensorboard<2.11,>=2.10->tensorflow<3.0,>=2.2->keras_flops) (3.2.2)\n",
            "Installing collected packages: keras_flops\n",
            "Successfully installed keras_flops-0.1.2\n"
          ]
        }
      ]
    },
    {
      "cell_type": "code",
      "source": [
        "import os\n",
        "randomSeed = 1\n",
        "os.environ['PYTHONHASHSEED']=str(randomSeed)\n",
        "import numpy as np\n",
        "import tensorflow as tf\n",
        "import csv\n",
        "from sklearn.metrics import f1_score, confusion_matrix\n",
        "from sklearn.utils import class_weight\n",
        "from sklearn.model_selection import train_test_split\n",
        "import matplotlib.pyplot as plt\n",
        "import pandas as pd\n",
        "import time\n",
        "import hickle as hkl\n",
        "import random\n",
        "import math\n",
        "import logging\n",
        "import shutil\n",
        "import gc\n",
        "import sys\n",
        "import sklearn.manifold\n",
        "import seaborn as sns\n",
        "import argparse\n",
        "import matplotlib.gridspec as gridspec\n",
        "import __main__ as main\n",
        "import model\n",
        "import utils\n",
        "from keras_flops import get_flops"
      ],
      "metadata": {
        "id": "8a_yut8cVPMw"
      },
      "execution_count": 112,
      "outputs": []
    },
    {
      "cell_type": "code",
      "source": [
        "gpus = tf.config.experimental.list_physical_devices('GPU')\n",
        "for gpu in gpus:\n",
        "    tf.config.experimental.set_memory_growth(gpu, True)"
      ],
      "metadata": {
        "id": "fF-1FOj2g6wa"
      },
      "execution_count": 113,
      "outputs": []
    },
    {
      "cell_type": "code",
      "source": [
        "# which CPU/GPU to use\n",
        "# \"-1,0,1\"\n",
        "# os.environ[\"CUDA_VISIBLE_DEVICES\"] = \"0\"\n",
        "\n",
        "# Set The Default Hyperparameters Here\n",
        "\n",
        "architecture = \"HART\"\n",
        "# MobileHART, HART\n",
        "\n",
        "# RealWorld,HHAR,UCI,SHL,MotionSense, COMBINED\n",
        "dataSetName = 'UCI'\n",
        "\n",
        "#BALANCED, UNBALANCED\n",
        "dataConfig = \"BALANCED\"\n",
        "\n",
        "# Show training verbose: 0,1\n",
        "showTrainVerbose = 1\n",
        "\n",
        "# input window size\n",
        "segment_size = 128\n",
        "\n",
        "# input channel count\n",
        "num_input_channels = 6\n",
        "\n",
        "learningRate = 3e-4\n",
        "\n",
        "# model drop out rate\n",
        "dropout_rate = 0.3\n",
        "\n",
        "# local epoch\n",
        "localEpoch = 200\n",
        "# or 4\n",
        "frameLength = 16\n",
        "\n",
        "timeStep = 16\n",
        "\n",
        "positionDevice = ''\n",
        "# ['chest','forearm','head','shin','thigh','upperarm','waist']\n",
        "# ['nexus4', 'lgwatch','s3', 's3mini','gear','samsungold']\n",
        "tokenBased = False\n",
        "\n",
        "measureEnergy = False"
      ],
      "metadata": {
        "id": "n26iXR8Vg6xe"
      },
      "execution_count": 114,
      "outputs": []
    },
    {
      "cell_type": "code",
      "source": [
        "# hyperparameter for the model\n",
        "\n",
        "batch_size = 256\n",
        "projection_dim = 192\n",
        "filterAttentionHead = 4\n",
        "\n",
        "# To adjust the number of blocks in for HART, Add or remove the conv kernel size here\n",
        "# each conv kernel length is for one HART block\n",
        "convKernels = [3, 7, 15, 31, 31, 31]"
      ],
      "metadata": {
        "id": "C6KUJj1ZhAtg"
      },
      "execution_count": 115,
      "outputs": []
    },
    {
      "cell_type": "code",
      "source": [
        "def add_fit_args(parser):\n",
        "    \"\"\"\n",
        "    parser : argparse.ArgumentParser\n",
        "    return a parser added with args required by fit\n",
        "    \"\"\"\n",
        "    # Training settings\n",
        "    parser.add_argument('--batch_size', type=int, default=batch_size,\n",
        "                        help='Batch size of the training')\n",
        "    parser.add_argument('--localEpoch', type=int, default=localEpoch,\n",
        "                        help='Number of epochs for training')\n",
        "    parser.add_argument('--architecture', type=str, default=architecture,\n",
        "                        help='Choose between HART or MobileHART')\n",
        "    parser.add_argument('--projection_dim', type=int, default=projection_dim,\n",
        "                        help='Size of the projection dimensions')\n",
        "    parser.add_argument('--frame_length', type=int, default=frameLength,\n",
        "                help='Patch Size')\n",
        "    parser.add_argument('--time_step', type=int, default=timeStep,\n",
        "            help='Stride Size')\n",
        "    parser.add_argument('--dataset', type=str, default=dataSetName,\n",
        "        help='Dataset')\n",
        "    parser.add_argument('--tokenBased', type=bool, default=tokenBased,\n",
        "        help='Use Token or Global Average Pooling')\n",
        "    parser.add_argument('--positionDevice', type=str, default=positionDevice,\n",
        "        help='Test is done other position not in training, if empty, uses a 70/10/20 train/dev/test ratio ')\n",
        "    args = parser.parse_args()\n",
        "    return args"
      ],
      "metadata": {
        "id": "0_f2yKmJhAwW"
      },
      "execution_count": 116,
      "outputs": []
    },
    {
      "cell_type": "code",
      "source": [
        "def is_interactive():\n",
        "    return not hasattr(main, '__file__')"
      ],
      "metadata": {
        "id": "2KEZULTEhA0J"
      },
      "execution_count": 117,
      "outputs": []
    },
    {
      "cell_type": "code",
      "source": [
        "if not is_interactive():\n",
        "    args = add_fit_args(argparse.ArgumentParser(description='Human Activity Recognition Transformer'))\n",
        "    localEpoch = args.localEpoch\n",
        "    batch_size = args.batch_size\n",
        "    architecture = args.architecture\n",
        "    projection_dim = args.projection_dim\n",
        "    frameLength = args.frame_length\n",
        "    timeStep = args.time_step\n",
        "    dataSetName = args.dataset\n",
        "    tokenBased = args.tokenBased\n",
        "    positionDevice = args.positionDevice\n",
        "\n",
        "input_shape = (segment_size,num_input_channels)\n",
        "projectionHalf = projection_dim//2\n",
        "projectionQuarter = projection_dim//4\n",
        "\n",
        "transformer_units = [\n",
        "    projection_dim * 2,\n",
        "    projection_dim,\n",
        "]  # Size of the transformer layers\n",
        "\n",
        "R = projectionHalf // filterAttentionHead\n",
        "assert R * filterAttentionHead == projectionHalf\n",
        "\n",
        "\n",
        "segmentTime = [x for x in range(0,segment_size - frameLength + timeStep,timeStep)]\n",
        "assert R * filterAttentionHead == projectionHalf\n",
        "if(positionDevice != ''):\n",
        "    assert dataSetName == \"RealWorld\" or dataSetName == \"HHAR\""
      ],
      "metadata": {
        "id": "xQiQmkKQg636"
      },
      "execution_count": 118,
      "outputs": []
    },
    {
      "cell_type": "code",
      "source": [
        "# specifying activities and where the results will be stored\n",
        "if(dataSetName == 'UCI'):\n",
        "    ACTIVITY_LABEL = ['Walking', 'Upstair','Downstair', 'Sitting', 'Standing', 'Lying']\n",
        "elif(dataSetName == \"RealWorld\"):\n",
        "    ACTIVITY_LABEL = ['Downstairs','Upstairs', 'Jumping','Lying', 'Running', 'Sitting', 'Standing', 'Walking']\n",
        "elif(dataSetName == \"Motion_Sense\"):\n",
        "    ACTIVITY_LABEL = ['Downstairs', 'Upstairs', 'Sitting', 'Standing', 'Walking', 'Jogging']\n",
        "elif(dataSetName == \"HHAR\"):\n",
        "    ACTIVITY_LABEL = ['Sitting', 'Standing', 'Walking', 'Upstair', 'Downstairs', 'Biking']\n",
        "else:\n",
        "#     SHL\n",
        "    ACTIVITY_LABEL = ['Standing','Walking','Runing','Biking','Car','Bus','Train','Subway']\n",
        "\n",
        "activityCount = len(ACTIVITY_LABEL)\n",
        "\n",
        "architectureType = str(architecture)+'_'+str(int(frameLength))+'frameLength_'+str(timeStep)+'TimeStep_'+str(projection_dim)+\"ProjectionSize_\"+str(learningRate)+'LR'\n",
        "if(tokenBased):\n",
        "    architectureType = architectureType + \"_tokenBased\"\n",
        "\n",
        "if(positionDevice != ''):\n",
        "    architectureType = architectureType + \"_PositionWise_\" + str(positionDevice)\n",
        "mainDir = './'\n",
        "\n",
        "if(localEpoch < 20):\n",
        "    architectureType =  \"Tests/\"+str(architectureType)\n",
        "filepath = mainDir +'HART_Results/'+architectureType+'/'+dataSetName+'/'\n",
        "os.makedirs(filepath, exist_ok=True)\n",
        "os.environ['TF_CPP_MIN_LOG_LEVEL'] = '1'\n",
        "\n",
        "attentionPath = filepath+\"attentionImages/\"\n",
        "os.makedirs(attentionPath, exist_ok=True)\n",
        "\n",
        "bestModelPath = filepath + 'bestModels/'\n",
        "os.makedirs(bestModelPath, exist_ok=True)\n",
        "\n",
        "currentModelPath = filepath + 'currentModels/'\n",
        "os.makedirs(currentModelPath, exist_ok=True)\n",
        "\n",
        "\n",
        "print(\"Num GPUs Available: \", len(tf.config.experimental.list_physical_devices('GPU')))\n",
        "np.random.seed(randomSeed)\n",
        "tf.keras.utils.set_random_seed(randomSeed)\n",
        "tf.random.set_seed(randomSeed)\n",
        "random.seed(randomSeed)\n"
      ],
      "metadata": {
        "colab": {
          "base_uri": "https://localhost:8080/"
        },
        "id": "fRJIdCXQhOG7",
        "outputId": "9b966321-27f5-4993-d4e3-0f22a630feca"
      },
      "execution_count": 119,
      "outputs": [
        {
          "output_type": "stream",
          "name": "stdout",
          "text": [
            "Num GPUs Available:  1\n"
          ]
        }
      ]
    },
    {
      "cell_type": "code",
      "source": [
        "if(dataSetName == \"COMBINED\"):\n",
        "    datasetList = [\"UCI\",\"RealWorld\",\"HHAR\", \"Motion_Sense\",\"SHL_128\"]\n",
        "    ACTIVITY_LABEL = ['Walk', 'Upstair', 'Downstair', 'Sit', 'Stand', 'Lay', 'Jump','Run', 'Bike', 'Car', 'Bus', 'Train', 'Subway']\n",
        "    activityCount = len(ACTIVITY_LABEL)\n",
        "    UCI = [0,1,2,3,4,5]\n",
        "    REALWORLD_CLIENT = [2,1,6,5,7,3,4,0]\n",
        "    HHAR = [3,4,0,1,2,8]\n",
        "    Motion_Sense = [2,1,3,4,0,7]\n",
        "    SHL = [4,0,7,8,9,10,11,12]\n",
        "\n",
        "    centralTrainData = []\n",
        "    centralTrainLabel = []\n",
        "    centralTestData = []\n",
        "    centralTestLabel = []\n",
        "    for dataSetName in datasetList:\n",
        "        clientCount = utils.returnClientByDataset(dataSetName)\n",
        "        loadedDataset = utils.loadDataset(dataSetName,clientCount,dataConfig,randomSeed,mainDir+'datasets/')\n",
        "        centralTrainData.append(loadedDataset.centralTrainData)\n",
        "        centralTrainLabel.append(loadedDataset.centralTrainLabel)\n",
        "        centralTestData.append(loadedDataset.centralTestData)\n",
        "        centralTestLabel.append(loadedDataset.centralTestLabel)\n",
        "        print(dataSetName + \" has class :\" +str(np.unique(centralTrainLabel[-1])))\n",
        "        del loadedDataset\n",
        "\n",
        "    centralTestLabelAligned = []\n",
        "    centralTrainLabelAligned = []\n",
        "    combinedAlignedData = centralTestData\n",
        "    for index, datasetName in enumerate(datasetList):\n",
        "        if(datasetName == 'UCI'):\n",
        "            centralTrainLabelAligned.append(centralTrainLabel[index])\n",
        "            centralTestLabelAligned.append(centralTestLabel[index])\n",
        "        elif(datasetName == 'RealWorld'):\n",
        "            centralTrainLabelAligned.append(np.hstack([REALWORLD_CLIENT[labelIndex] for labelIndex in centralTrainLabel[index]]))\n",
        "            centralTestLabelAligned.append(np.hstack([REALWORLD_CLIENT[labelIndex] for labelIndex in centralTestLabel[index]]))\n",
        "\n",
        "        elif(datasetName == 'HHAR'):\n",
        "            centralTrainLabelAligned.append(np.hstack([HHAR[labelIndex] for labelIndex in centralTrainLabel[index]]))\n",
        "            centralTestLabelAligned.append(np.hstack([HHAR[labelIndex] for labelIndex in centralTestLabel[index]]))\n",
        "        elif(datasetName == 'Motion_Sense'):\n",
        "            centralTrainLabelAligned.append(np.hstack([Motion_Sense[labelIndex] for labelIndex in centralTrainLabel[index]]))\n",
        "            centralTestLabelAligned.append(np.hstack([Motion_Sense[labelIndex] for labelIndex in centralTestLabel[index]]))\n",
        "        else:\n",
        "            centralTrainLabelAligned.append(np.hstack([SHL[labelIndex] for labelIndex in centralTrainLabel[index]]))\n",
        "            centralTestLabelAligned.append(np.hstack([SHL[labelIndex] for labelIndex in centralTestLabel[index]]))\n",
        "    centralTrainData = np.vstack((centralTrainData))\n",
        "    centralTestData = np.vstack((centralTestData))\n",
        "    centralTrainLabel = np.hstack((centralTrainLabelAligned))\n",
        "    centralTestLabel = np.hstack((centralTestLabelAligned))\n",
        "else:\n",
        "    clientCount = utils.returnClientByDataset(dataSetName)\n",
        "    datasetLoader = utils.loadDataset(dataSetName,clientCount,dataConfig,randomSeed,mainDir+'datasets/')\n",
        "    centralTrainData = datasetLoader.centralTrainData\n",
        "    centralTrainLabel = datasetLoader.centralTrainLabel\n",
        "\n",
        "    centralTestData = datasetLoader.centralTestData\n",
        "    centralTestLabel = datasetLoader.centralTestLabel\n",
        "\n",
        "    clientOrientationTrain = datasetLoader.clientOrientationTrain\n",
        "    clientOrientationTest = datasetLoader.clientOrientationTest\n",
        "    orientationsNames = datasetLoader.orientationsNames"
      ],
      "metadata": {
        "id": "vP6QzgdWhOJ4"
      },
      "execution_count": 121,
      "outputs": []
    },
    {
      "cell_type": "code",
      "source": [
        "# If working on RealWorld or HHAR with specified position/device, we remove one and use it as the test set and combine the others for training\n",
        "if(positionDevice != '' or dataSetName == 'UCI'):\n",
        "    if(dataSetName == \"RealWorld\"):\n",
        "        totalData = np.vstack((centralTrainData,centralTestData))\n",
        "        totalLabel = np.hstack((centralTrainLabel,centralTestLabel))\n",
        "        totalOrientation = np.hstack((np.hstack((clientOrientationTrain)), np.hstack((clientOrientationTest))))\n",
        "        totalIndex = list(range(totalOrientation.shape[0]))\n",
        "        testDataIndex = np.where(totalOrientation == orientationsNames.index(positionDevice))[0]\n",
        "        trainDataIndex = np.delete(totalIndex,testDataIndex)\n",
        "\n",
        "        centralTrainData = totalData[trainDataIndex]\n",
        "        centralTestData = totalData[testDataIndex]\n",
        "\n",
        "        centralTrainLabel = totalLabel[trainDataIndex]\n",
        "        centralTestLabel = totalLabel[testDataIndex]\n",
        "    elif(dataSetName == \"HHAR\"):\n",
        "        totalData = np.vstack((centralTrainData,centralTestData))\n",
        "        totalLabel = np.hstack((centralTrainLabel,centralTestLabel))\n",
        "        totalOrientation = np.hstack((np.hstack((clientOrientationTrain)), np.hstack((clientOrientationTest))))\n",
        "        totalIndex = list(range(totalOrientation.shape[0]))\n",
        "        # 0 is for nexus\n",
        "        testDataIndex = np.where(totalOrientation == orientationsNames.index(positionDevice))[0]\n",
        "        trainDataIndex = np.delete(totalIndex,testDataIndex)\n",
        "\n",
        "        centralTrainData = totalData[trainDataIndex]\n",
        "        centralTestData = totalData[testDataIndex]\n",
        "\n",
        "        centralTrainLabel = totalLabel[trainDataIndex]\n",
        "        centralTestLabel = totalLabel[testDataIndex]\n",
        "#         when using positions for evalaution, there is no test set , dev=test is the same\n",
        "    centralDevData = centralTestData\n",
        "    centralDevLabel = centralTestLabel\n",
        "else:\n",
        "#     using a 70 10 20 ratio\n",
        "    centralTrainData, centralDevData, centralTrainLabel, centralDevLabel = train_test_split(centralTrainData, centralTrainLabel, test_size=0.125, random_state=randomSeed)"
      ],
      "metadata": {
        "id": "pYZr81CBhOMj"
      },
      "execution_count": 122,
      "outputs": []
    },
    {
      "cell_type": "code",
      "source": [
        "# Compute class weight\n",
        "temp_weights = class_weight.compute_class_weight(class_weight = 'balanced',\n",
        "                                                 classes = np.unique(centralTrainLabel),\n",
        "                                                 y = centralTrainLabel.ravel())\n",
        "class_weights = {j : temp_weights[j] for j in range(len(temp_weights))}"
      ],
      "metadata": {
        "id": "fA3NA9emhOPb"
      },
      "execution_count": 123,
      "outputs": []
    },
    {
      "cell_type": "code",
      "source": [
        "# One Hot of labels\n",
        "centralTrainLabel = tf.one_hot(\n",
        "    centralTrainLabel,\n",
        "    activityCount,\n",
        "    on_value=None,\n",
        "    off_value=None,\n",
        "    axis=None,\n",
        "    dtype=None,\n",
        "    name=None\n",
        ")\n",
        "centralTestLabel = tf.one_hot(\n",
        "    centralTestLabel,\n",
        "    activityCount,\n",
        "    on_value=None,\n",
        "    off_value=None,\n",
        "    axis=None,\n",
        "    dtype=None,\n",
        "    name=None\n",
        ")\n",
        "centralDevLabel = tf.one_hot(\n",
        "    centralDevLabel,\n",
        "    activityCount,\n",
        "    on_value=None,\n",
        "    off_value=None,\n",
        "    axis=None,\n",
        "    dtype=None,\n",
        "    name=None\n",
        ")"
      ],
      "metadata": {
        "id": "l-WYeXHkhOSJ"
      },
      "execution_count": 154,
      "outputs": []
    },
    {
      "cell_type": "code",
      "source": [
        "centralTestLabel"
      ],
      "metadata": {
        "colab": {
          "base_uri": "https://localhost:8080/"
        },
        "id": "Cq4a9fTCUv6U",
        "outputId": "2347eb47-7e6f-4a86-c4a7-82793d98c4a9"
      },
      "execution_count": 129,
      "outputs": [
        {
          "output_type": "execute_result",
          "data": {
            "text/plain": [
              "array([4, 4, 4, ..., 1, 1, 1])"
            ]
          },
          "metadata": {},
          "execution_count": 129
        }
      ]
    },
    {
      "cell_type": "code",
      "source": [
        "optimizer = tf.keras.optimizers.Adam(learningRate)\n",
        "optimizer0 = tf.keras.optimizers.Adam(learningRate)\n",
        "optimizer2 = tf.keras.optimizers.Adam(learningRate)\n",
        "optimizer3 = tf.keras.optimizers.Adam(learningRate)\n",
        "\n",
        "\n",
        "if(architecture == \"HART\"):\n",
        "    linear_classifier = model.HART(input_shape,6)\n",
        "\n",
        "    model_classifier = model.HART(input_shape,2)\n",
        "    dynamic_classifier = model.HART(input_shape,3)\n",
        "    static_classifier = model.HART(input_shape,3)\n",
        "else:\n",
        "    model_classifier = model.mobileHART_XS(input_shape,activityCount, convKernels = convKernels)\n",
        "\n",
        "linear_classifier.compile(\n",
        "    optimizer=optimizer0,\n",
        "    loss=tf.keras.losses.CategoricalCrossentropy(label_smoothing=0.1),\n",
        "    metrics=[\"accuracy\"],\n",
        ")\n",
        "model_classifier.compile(\n",
        "    optimizer=optimizer,\n",
        "    loss=tf.keras.losses.CategoricalCrossentropy(label_smoothing=0.1),\n",
        "    metrics=[\"accuracy\"],\n",
        ")\n",
        "dynamic_classifier.compile(\n",
        "    optimizer=optimizer2,\n",
        "    loss=tf.keras.losses.CategoricalCrossentropy(label_smoothing=0.1),\n",
        "    metrics=[\"accuracy\"],\n",
        ")\n",
        "static_classifier.compile(\n",
        "    optimizer=optimizer3,\n",
        "    loss=tf.keras.losses.CategoricalCrossentropy(label_smoothing=0.1),\n",
        "    metrics=[\"accuracy\"],\n",
        ")\n",
        "#model_classifier.summary()"
      ],
      "metadata": {
        "id": "IKGXOQ8mhOV8"
      },
      "execution_count": 150,
      "outputs": []
    },
    {
      "cell_type": "code",
      "source": [
        "centralTrainData.shape,centralTrainLabel.shape, trainy.shape"
      ],
      "metadata": {
        "colab": {
          "base_uri": "https://localhost:8080/"
        },
        "id": "69XhTgDHYiGU",
        "outputId": "d73dcbbc-f394-4aab-b1ea-bda470ed9a8f"
      },
      "execution_count": 151,
      "outputs": [
        {
          "output_type": "execute_result",
          "data": {
            "text/plain": [
              "((7352, 128, 6), (7352,), (7352,))"
            ]
          },
          "metadata": {},
          "execution_count": 151
        }
      ]
    },
    {
      "cell_type": "code",
      "source": [
        "np.unique(trainy)"
      ],
      "metadata": {
        "colab": {
          "base_uri": "https://localhost:8080/"
        },
        "id": "kvKckxutJmA3",
        "outputId": "3da6a354-ebf3-4b0c-f977-f1c0b26ac3af"
      },
      "execution_count": 127,
      "outputs": [
        {
          "output_type": "execute_result",
          "data": {
            "text/plain": [
              "array([0, 1, 2, 3, 4, 5])"
            ]
          },
          "metadata": {},
          "execution_count": 127
        }
      ]
    },
    {
      "cell_type": "code",
      "source": [
        "tee= centralTrainData[(trainy==1)|(trainy==2)|(trainy==3)]"
      ],
      "metadata": {
        "id": "ZwU6BeCJZ3g_"
      },
      "execution_count": null,
      "outputs": []
    },
    {
      "cell_type": "code",
      "source": [
        "wee= centralTrainLabel[(trainy==1)|(trainy==2)|(trainy==3)]"
      ],
      "metadata": {
        "id": "-k3h4DVFaOXZ"
      },
      "execution_count": null,
      "outputs": []
    },
    {
      "cell_type": "code",
      "source": [
        "tee.shape, wee.shape"
      ],
      "metadata": {
        "colab": {
          "base_uri": "https://localhost:8080/"
        },
        "id": "3WKYHC5UaTjo",
        "outputId": "d5171c3d-41e1-49d0-b37f-2da99be45470"
      },
      "execution_count": null,
      "outputs": [
        {
          "output_type": "execute_result",
          "data": {
            "text/plain": [
              "((3345, 128, 6), TensorShape([3345, 6]))"
            ]
          },
          "metadata": {},
          "execution_count": 52
        }
      ]
    },
    {
      "cell_type": "code",
      "source": [
        "trainy, testy"
      ],
      "metadata": {
        "id": "_KQHxoRoaTyf",
        "colab": {
          "base_uri": "https://localhost:8080/"
        },
        "outputId": "7d2f37b1-cc4c-478c-b6d3-9a1de9f0049e"
      },
      "execution_count": 40,
      "outputs": [
        {
          "output_type": "execute_result",
          "data": {
            "text/plain": [
              "(array([4, 4, 4, ..., 1, 1, 1]), array([4, 4, 4, ..., 1, 1, 1]))"
            ]
          },
          "metadata": {},
          "execution_count": 40
        }
      ]
    },
    {
      "cell_type": "code",
      "source": [
        "#splitData(xtrain,ytrain,xtest,ytest,type):"
      ],
      "metadata": {
        "id": "AmwQ20H1J3sq"
      },
      "execution_count": null,
      "outputs": []
    },
    {
      "cell_type": "code",
      "source": [
        "centralTestData.shape,testy.shape"
      ],
      "metadata": {
        "colab": {
          "base_uri": "https://localhost:8080/"
        },
        "id": "U9GLiiwxRJnY",
        "outputId": "03ccd33b-4a16-4fa5-b25c-7b54bfb88fa6"
      },
      "execution_count": 72,
      "outputs": [
        {
          "output_type": "execute_result",
          "data": {
            "text/plain": [
              "((2947, 128, 6), (2947,))"
            ]
          },
          "metadata": {},
          "execution_count": 72
        }
      ]
    },
    {
      "cell_type": "markdown",
      "source": [
        "**Split data**"
      ],
      "metadata": {
        "id": "dAUgIYxVJ46n"
      }
    },
    {
      "cell_type": "code",
      "source": [
        "masterxtrain,masterxtest,masterytrain,masterytest,masterlabels=splitData(centralTrainData,trainy,centralTestData,testy,\"master\")   #return xtrain,xtest,ytrain,ytest,testlabels\n",
        "dynamicxtrain,dynamicxtest,dynamicytrain,dynamicytest,dynamiclabels=splitData(centralTrainData,trainy,centralTestData,testy,\"dynamic\")\n",
        "staticxtrain,staticxtest,staticytrain,staticytest,staticlabels=splitData(centralTrainData,trainy,centralTestData,testy,\"static\")"
      ],
      "metadata": {
        "id": "nMd_0L88J7Rl"
      },
      "execution_count": 155,
      "outputs": []
    },
    {
      "cell_type": "code",
      "source": [
        "masterxtrain.shape,masterytrain.shape,masterxtest.shape,masterytest.shape"
      ],
      "metadata": {
        "colab": {
          "base_uri": "https://localhost:8080/"
        },
        "id": "kGn3M4-mJ7a8",
        "outputId": "043d299a-b539-42d6-9730-aebadb9a4c09"
      },
      "execution_count": 156,
      "outputs": [
        {
          "output_type": "execute_result",
          "data": {
            "text/plain": [
              "((2512, 128, 6), (2512, 2), (987, 128, 6), (987, 2))"
            ]
          },
          "metadata": {},
          "execution_count": 156
        }
      ]
    },
    {
      "cell_type": "code",
      "source": [
        "staticytrain, staticlabels"
      ],
      "metadata": {
        "colab": {
          "base_uri": "https://localhost:8080/"
        },
        "id": "wP2PMxqYUeSU",
        "outputId": "3eb013c2-55e4-4961-bb3b-3eef8708b078"
      },
      "execution_count": 136,
      "outputs": [
        {
          "output_type": "execute_result",
          "data": {
            "text/plain": [
              "(array([[0., 1., 0.],\n",
              "        [0., 1., 0.],\n",
              "        [0., 1., 0.],\n",
              "        ...,\n",
              "        [0., 0., 1.],\n",
              "        [0., 0., 1.],\n",
              "        [0., 0., 1.]]),\n",
              " array([4, 4, 4, ..., 5, 5, 5]))"
            ]
          },
          "metadata": {},
          "execution_count": 136
        }
      ]
    },
    {
      "cell_type": "markdown",
      "source": [
        "**training**"
      ],
      "metadata": {
        "id": "UPeREuQvLz2V"
      }
    },
    {
      "cell_type": "code",
      "source": [
        "localEpoch=100\n",
        "\n",
        "checkpoint_filepath = filepath+\"bestValcheckpoint.h5\"\n",
        "checkpoint_callback = tf.keras.callbacks.ModelCheckpoint(\n",
        "    checkpoint_filepath,\n",
        "    monitor=\"val_accuracy\",\n",
        "    save_best_only=True,\n",
        "    save_weights_only=True,\n",
        "    verbose=1,\n",
        ")\n",
        "\n",
        "start_time = time.time()\n",
        "history = model_classifier.fit(\n",
        "    x=masterxtrain,\n",
        "    y=masterytrain,\n",
        "#    validation_data = (centralDevData,centralDevLabel),\n",
        "    batch_size=batch_size,\n",
        "    epochs=localEpoch,\n",
        "    verbose=showTrainVerbose,\n",
        "    class_weight=class_weights,\n",
        "    callbacks=[checkpoint_callback],\n",
        ")\n",
        "\n",
        "history2 = dynamic_classifier.fit(\n",
        "    x=dynamicxtrain,\n",
        "    y=dynamicytrain,\n",
        " #   validation_data = (centralDevData,centralDevLabel),\n",
        "    batch_size=batch_size,\n",
        "    epochs=localEpoch,\n",
        "    verbose=showTrainVerbose,\n",
        "    class_weight=class_weights,\n",
        "    callbacks=[checkpoint_callback],\n",
        ")\n",
        "history3 = static_classifier.fit(\n",
        "    x=staticxtrain,\n",
        "    y=staticytrain,\n",
        " #   validation_data = (centralDevData,centralDevLabel),\n",
        "    batch_size=batch_size,\n",
        "    epochs=localEpoch,\n",
        "    verbose=showTrainVerbose,\n",
        "    class_weight=class_weights,\n",
        "    callbacks=[checkpoint_callback],\n",
        ")\n",
        "end_time = time.time() - start_time\n",
        "\n",
        "#model_classifier.save_weights(filepath + 'bestTrain.h5')\n",
        "#model_classifier.load_weights(checkpoint_filepath)\n",
        "#_, accuracy = model_classifier.evaluate(centralTestData, centralTestLabel)\n",
        "#print(f\"Test accuracy: {round(accuracy * 100, 2)}%\")\n"
      ],
      "metadata": {
        "colab": {
          "base_uri": "https://localhost:8080/"
        },
        "id": "6PCUL6p3hq7K",
        "outputId": "6548d686-f94c-4f8d-da67-436bf163c122"
      },
      "execution_count": 157,
      "outputs": [
        {
          "output_type": "stream",
          "name": "stdout",
          "text": [
            "Epoch 1/100\n"
          ]
        },
        {
          "output_type": "stream",
          "name": "stderr",
          "text": [
            "WARNING:tensorflow:AutoGraph could not transform <function Model.make_train_function.<locals>.train_function at 0x7c6936006dd0> and will run it as-is.\n",
            "Cause: Unable to locate the source code of <function Model.make_train_function.<locals>.train_function at 0x7c6936006dd0>. Note that functions defined in certain environments, like the interactive Python shell, do not expose their source code. If that is the case, you should define them in a .py source file. If you are certain the code is graph-compatible, wrap the call using @tf.autograph.experimental.do_not_convert. Original error: could not get source code\n",
            "To silence this warning, decorate the function with @tf.autograph.experimental.do_not_convert\n"
          ]
        },
        {
          "output_type": "stream",
          "name": "stdout",
          "text": [
            "WARNING: AutoGraph could not transform <function Model.make_train_function.<locals>.train_function at 0x7c6936006dd0> and will run it as-is.\n",
            "Cause: Unable to locate the source code of <function Model.make_train_function.<locals>.train_function at 0x7c6936006dd0>. Note that functions defined in certain environments, like the interactive Python shell, do not expose their source code. If that is the case, you should define them in a .py source file. If you are certain the code is graph-compatible, wrap the call using @tf.autograph.experimental.do_not_convert. Original error: could not get source code\n",
            "To silence this warning, decorate the function with @tf.autograph.experimental.do_not_convert\n",
            " 9/10 [==========================>...] - ETA: 0s - loss: 0.4835 - accuracy: 0.8273"
          ]
        },
        {
          "output_type": "stream",
          "name": "stderr",
          "text": [
            "WARNING:tensorflow:Can save best model only with val_accuracy available, skipping.\n"
          ]
        },
        {
          "output_type": "stream",
          "name": "stdout",
          "text": [
            "\b\b\b\b\b\b\b\b\b\b\b\b\b\b\b\b\b\b\b\b\b\b\b\b\b\b\b\b\b\b\b\b\b\b\b\b\b\b\b\b\b\b\b\b\b\b\b\b\b\b\b\b\b\b\b\b\b\b\b\b\b\b\b\b\b\b\b\b\b\b\b\b\b\b\b\b\b\b\b\b\b\b\r10/10 [==============================] - 55s 57ms/step - loss: 0.4682 - accuracy: 0.8404\n",
            "Epoch 2/100\n",
            "10/10 [==============================] - ETA: 0s - loss: 0.2927 - accuracy: 0.9777"
          ]
        },
        {
          "output_type": "stream",
          "name": "stderr",
          "text": [
            "WARNING:tensorflow:Can save best model only with val_accuracy available, skipping.\n"
          ]
        },
        {
          "output_type": "stream",
          "name": "stdout",
          "text": [
            "\b\b\b\b\b\b\b\b\b\b\b\b\b\b\b\b\b\b\b\b\b\b\b\b\b\b\b\b\b\b\b\b\b\b\b\b\b\b\b\b\b\b\b\b\b\b\b\b\b\b\b\b\b\b\b\b\b\b\b\b\b\b\b\b\b\b\b\b\b\b\b\b\b\b\b\b\b\b\b\b\b\b\r10/10 [==============================] - 0s 48ms/step - loss: 0.2927 - accuracy: 0.9777\n",
            "Epoch 3/100\n",
            "10/10 [==============================] - ETA: 0s - loss: 0.2556 - accuracy: 0.9896"
          ]
        },
        {
          "output_type": "stream",
          "name": "stderr",
          "text": [
            "WARNING:tensorflow:Can save best model only with val_accuracy available, skipping.\n"
          ]
        },
        {
          "output_type": "stream",
          "name": "stdout",
          "text": [
            "\b\b\b\b\b\b\b\b\b\b\b\b\b\b\b\b\b\b\b\b\b\b\b\b\b\b\b\b\b\b\b\b\b\b\b\b\b\b\b\b\b\b\b\b\b\b\b\b\b\b\b\b\b\b\b\b\b\b\b\b\b\b\b\b\b\b\b\b\b\b\b\b\b\b\b\b\b\b\b\b\b\b\r10/10 [==============================] - 0s 49ms/step - loss: 0.2556 - accuracy: 0.9896\n",
            "Epoch 4/100\n",
            "10/10 [==============================] - ETA: 0s - loss: 0.2372 - accuracy: 0.9964"
          ]
        },
        {
          "output_type": "stream",
          "name": "stderr",
          "text": [
            "WARNING:tensorflow:Can save best model only with val_accuracy available, skipping.\n"
          ]
        },
        {
          "output_type": "stream",
          "name": "stdout",
          "text": [
            "\b\b\b\b\b\b\b\b\b\b\b\b\b\b\b\b\b\b\b\b\b\b\b\b\b\b\b\b\b\b\b\b\b\b\b\b\b\b\b\b\b\b\b\b\b\b\b\b\b\b\b\b\b\b\b\b\b\b\b\b\b\b\b\b\b\b\b\b\b\b\b\b\b\b\b\b\b\b\b\b\b\b\r10/10 [==============================] - 1s 50ms/step - loss: 0.2372 - accuracy: 0.9964\n",
            "Epoch 5/100\n",
            " 9/10 [==========================>...] - ETA: 0s - loss: 0.2295 - accuracy: 0.9974"
          ]
        },
        {
          "output_type": "stream",
          "name": "stderr",
          "text": [
            "WARNING:tensorflow:Can save best model only with val_accuracy available, skipping.\n"
          ]
        },
        {
          "output_type": "stream",
          "name": "stdout",
          "text": [
            "\b\b\b\b\b\b\b\b\b\b\b\b\b\b\b\b\b\b\b\b\b\b\b\b\b\b\b\b\b\b\b\b\b\b\b\b\b\b\b\b\b\b\b\b\b\b\b\b\b\b\b\b\b\b\b\b\b\b\b\b\b\b\b\b\b\b\b\b\b\b\b\b\b\b\b\b\b\b\b\b\b\b\r10/10 [==============================] - 0s 49ms/step - loss: 0.2292 - accuracy: 0.9976\n",
            "Epoch 6/100\n",
            "10/10 [==============================] - ETA: 0s - loss: 0.2240 - accuracy: 0.9984"
          ]
        },
        {
          "output_type": "stream",
          "name": "stderr",
          "text": [
            "WARNING:tensorflow:Can save best model only with val_accuracy available, skipping.\n"
          ]
        },
        {
          "output_type": "stream",
          "name": "stdout",
          "text": [
            "\b\b\b\b\b\b\b\b\b\b\b\b\b\b\b\b\b\b\b\b\b\b\b\b\b\b\b\b\b\b\b\b\b\b\b\b\b\b\b\b\b\b\b\b\b\b\b\b\b\b\b\b\b\b\b\b\b\b\b\b\b\b\b\b\b\b\b\b\b\b\b\b\b\b\b\b\b\b\b\b\b\b\r10/10 [==============================] - 1s 76ms/step - loss: 0.2240 - accuracy: 0.9984\n",
            "Epoch 7/100\n",
            "10/10 [==============================] - ETA: 0s - loss: 0.2206 - accuracy: 0.9992"
          ]
        },
        {
          "output_type": "stream",
          "name": "stderr",
          "text": [
            "WARNING:tensorflow:Can save best model only with val_accuracy available, skipping.\n"
          ]
        },
        {
          "output_type": "stream",
          "name": "stdout",
          "text": [
            "\b\b\b\b\b\b\b\b\b\b\b\b\b\b\b\b\b\b\b\b\b\b\b\b\b\b\b\b\b\b\b\b\b\b\b\b\b\b\b\b\b\b\b\b\b\b\b\b\b\b\b\b\b\b\b\b\b\b\b\b\b\b\b\b\b\b\b\b\b\b\b\b\b\b\b\b\b\b\b\b\b\b\r10/10 [==============================] - 1s 75ms/step - loss: 0.2206 - accuracy: 0.9992\n",
            "Epoch 8/100\n",
            "10/10 [==============================] - ETA: 0s - loss: 0.2187 - accuracy: 0.9996"
          ]
        },
        {
          "output_type": "stream",
          "name": "stderr",
          "text": [
            "WARNING:tensorflow:Can save best model only with val_accuracy available, skipping.\n"
          ]
        },
        {
          "output_type": "stream",
          "name": "stdout",
          "text": [
            "\b\b\b\b\b\b\b\b\b\b\b\b\b\b\b\b\b\b\b\b\b\b\b\b\b\b\b\b\b\b\b\b\b\b\b\b\b\b\b\b\b\b\b\b\b\b\b\b\b\b\b\b\b\b\b\b\b\b\b\b\b\b\b\b\b\b\b\b\b\b\b\b\b\b\b\b\b\b\b\b\b\b\r10/10 [==============================] - 1s 73ms/step - loss: 0.2187 - accuracy: 0.9996\n",
            "Epoch 9/100\n",
            "10/10 [==============================] - ETA: 0s - loss: 0.2176 - accuracy: 1.0000"
          ]
        },
        {
          "output_type": "stream",
          "name": "stderr",
          "text": [
            "WARNING:tensorflow:Can save best model only with val_accuracy available, skipping.\n"
          ]
        },
        {
          "output_type": "stream",
          "name": "stdout",
          "text": [
            "\b\b\b\b\b\b\b\b\b\b\b\b\b\b\b\b\b\b\b\b\b\b\b\b\b\b\b\b\b\b\b\b\b\b\b\b\b\b\b\b\b\b\b\b\b\b\b\b\b\b\b\b\b\b\b\b\b\b\b\b\b\b\b\b\b\b\b\b\b\b\b\b\b\b\b\b\b\b\b\b\b\b\r10/10 [==============================] - 1s 70ms/step - loss: 0.2176 - accuracy: 1.0000\n",
            "Epoch 10/100\n",
            "10/10 [==============================] - ETA: 0s - loss: 0.2164 - accuracy: 1.0000"
          ]
        },
        {
          "output_type": "stream",
          "name": "stderr",
          "text": [
            "WARNING:tensorflow:Can save best model only with val_accuracy available, skipping.\n"
          ]
        },
        {
          "output_type": "stream",
          "name": "stdout",
          "text": [
            "\b\b\b\b\b\b\b\b\b\b\b\b\b\b\b\b\b\b\b\b\b\b\b\b\b\b\b\b\b\b\b\b\b\b\b\b\b\b\b\b\b\b\b\b\b\b\b\b\b\b\b\b\b\b\b\b\b\b\b\b\b\b\b\b\b\b\b\b\b\b\b\b\b\b\b\b\b\b\b\b\b\b\r10/10 [==============================] - 1s 110ms/step - loss: 0.2164 - accuracy: 1.0000\n",
            "Epoch 11/100\n",
            "10/10 [==============================] - ETA: 0s - loss: 0.2164 - accuracy: 1.0000"
          ]
        },
        {
          "output_type": "stream",
          "name": "stderr",
          "text": [
            "WARNING:tensorflow:Can save best model only with val_accuracy available, skipping.\n"
          ]
        },
        {
          "output_type": "stream",
          "name": "stdout",
          "text": [
            "\b\b\b\b\b\b\b\b\b\b\b\b\b\b\b\b\b\b\b\b\b\b\b\b\b\b\b\b\b\b\b\b\b\b\b\b\b\b\b\b\b\b\b\b\b\b\b\b\b\b\b\b\b\b\b\b\b\b\b\b\b\b\b\b\b\b\b\b\b\b\b\b\b\b\b\b\b\b\b\b\b\b\r10/10 [==============================] - 1s 104ms/step - loss: 0.2164 - accuracy: 1.0000\n",
            "Epoch 12/100\n",
            "10/10 [==============================] - ETA: 0s - loss: 0.2159 - accuracy: 1.0000"
          ]
        },
        {
          "output_type": "stream",
          "name": "stderr",
          "text": [
            "WARNING:tensorflow:Can save best model only with val_accuracy available, skipping.\n"
          ]
        },
        {
          "output_type": "stream",
          "name": "stdout",
          "text": [
            "\b\b\b\b\b\b\b\b\b\b\b\b\b\b\b\b\b\b\b\b\b\b\b\b\b\b\b\b\b\b\b\b\b\b\b\b\b\b\b\b\b\b\b\b\b\b\b\b\b\b\b\b\b\b\b\b\b\b\b\b\b\b\b\b\b\b\b\b\b\b\b\b\b\b\b\b\b\b\b\b\b\b\r10/10 [==============================] - 1s 84ms/step - loss: 0.2159 - accuracy: 1.0000\n",
            "Epoch 13/100\n",
            " 9/10 [==========================>...] - ETA: 0s - loss: 0.2158 - accuracy: 1.0000"
          ]
        },
        {
          "output_type": "stream",
          "name": "stderr",
          "text": [
            "WARNING:tensorflow:Can save best model only with val_accuracy available, skipping.\n"
          ]
        },
        {
          "output_type": "stream",
          "name": "stdout",
          "text": [
            "\b\b\b\b\b\b\b\b\b\b\b\b\b\b\b\b\b\b\b\b\b\b\b\b\b\b\b\b\b\b\b\b\b\b\b\b\b\b\b\b\b\b\b\b\b\b\b\b\b\b\b\b\b\b\b\b\b\b\b\b\b\b\b\b\b\b\b\b\b\b\b\b\b\b\b\b\b\b\b\b\b\b\r10/10 [==============================] - 1s 73ms/step - loss: 0.2156 - accuracy: 1.0000\n",
            "Epoch 14/100\n",
            "10/10 [==============================] - ETA: 0s - loss: 0.2157 - accuracy: 1.0000"
          ]
        },
        {
          "output_type": "stream",
          "name": "stderr",
          "text": [
            "WARNING:tensorflow:Can save best model only with val_accuracy available, skipping.\n"
          ]
        },
        {
          "output_type": "stream",
          "name": "stdout",
          "text": [
            "\b\b\b\b\b\b\b\b\b\b\b\b\b\b\b\b\b\b\b\b\b\b\b\b\b\b\b\b\b\b\b\b\b\b\b\b\b\b\b\b\b\b\b\b\b\b\b\b\b\b\b\b\b\b\b\b\b\b\b\b\b\b\b\b\b\b\b\b\b\b\b\b\b\b\b\b\b\b\b\b\b\b\r10/10 [==============================] - 1s 53ms/step - loss: 0.2157 - accuracy: 1.0000\n",
            "Epoch 15/100\n",
            "10/10 [==============================] - ETA: 0s - loss: 0.2153 - accuracy: 1.0000"
          ]
        },
        {
          "output_type": "stream",
          "name": "stderr",
          "text": [
            "WARNING:tensorflow:Can save best model only with val_accuracy available, skipping.\n"
          ]
        },
        {
          "output_type": "stream",
          "name": "stdout",
          "text": [
            "\b\b\b\b\b\b\b\b\b\b\b\b\b\b\b\b\b\b\b\b\b\b\b\b\b\b\b\b\b\b\b\b\b\b\b\b\b\b\b\b\b\b\b\b\b\b\b\b\b\b\b\b\b\b\b\b\b\b\b\b\b\b\b\b\b\b\b\b\b\b\b\b\b\b\b\b\b\b\b\b\b\b\r10/10 [==============================] - 1s 109ms/step - loss: 0.2153 - accuracy: 1.0000\n",
            "Epoch 16/100\n",
            "10/10 [==============================] - ETA: 0s - loss: 0.2151 - accuracy: 1.0000"
          ]
        },
        {
          "output_type": "stream",
          "name": "stderr",
          "text": [
            "WARNING:tensorflow:Can save best model only with val_accuracy available, skipping.\n"
          ]
        },
        {
          "output_type": "stream",
          "name": "stdout",
          "text": [
            "\b\b\b\b\b\b\b\b\b\b\b\b\b\b\b\b\b\b\b\b\b\b\b\b\b\b\b\b\b\b\b\b\b\b\b\b\b\b\b\b\b\b\b\b\b\b\b\b\b\b\b\b\b\b\b\b\b\b\b\b\b\b\b\b\b\b\b\b\b\b\b\b\b\b\b\b\b\b\b\b\b\b\r10/10 [==============================] - 1s 100ms/step - loss: 0.2151 - accuracy: 1.0000\n",
            "Epoch 17/100\n",
            " 9/10 [==========================>...] - ETA: 0s - loss: 0.2148 - accuracy: 1.0000"
          ]
        },
        {
          "output_type": "stream",
          "name": "stderr",
          "text": [
            "WARNING:tensorflow:Can save best model only with val_accuracy available, skipping.\n"
          ]
        },
        {
          "output_type": "stream",
          "name": "stdout",
          "text": [
            "\b\b\b\b\b\b\b\b\b\b\b\b\b\b\b\b\b\b\b\b\b\b\b\b\b\b\b\b\b\b\b\b\b\b\b\b\b\b\b\b\b\b\b\b\b\b\b\b\b\b\b\b\b\b\b\b\b\b\b\b\b\b\b\b\b\b\b\b\b\b\b\b\b\b\b\b\b\b\b\b\b\b\r10/10 [==============================] - 1s 63ms/step - loss: 0.2148 - accuracy: 1.0000\n",
            "Epoch 18/100\n",
            "10/10 [==============================] - ETA: 0s - loss: 0.2147 - accuracy: 1.0000"
          ]
        },
        {
          "output_type": "stream",
          "name": "stderr",
          "text": [
            "WARNING:tensorflow:Can save best model only with val_accuracy available, skipping.\n"
          ]
        },
        {
          "output_type": "stream",
          "name": "stdout",
          "text": [
            "\b\b\b\b\b\b\b\b\b\b\b\b\b\b\b\b\b\b\b\b\b\b\b\b\b\b\b\b\b\b\b\b\b\b\b\b\b\b\b\b\b\b\b\b\b\b\b\b\b\b\b\b\b\b\b\b\b\b\b\b\b\b\b\b\b\b\b\b\b\b\b\b\b\b\b\b\b\b\b\b\b\b\r10/10 [==============================] - 1s 113ms/step - loss: 0.2147 - accuracy: 1.0000\n",
            "Epoch 19/100\n",
            "10/10 [==============================] - ETA: 0s - loss: 0.2147 - accuracy: 1.0000"
          ]
        },
        {
          "output_type": "stream",
          "name": "stderr",
          "text": [
            "WARNING:tensorflow:Can save best model only with val_accuracy available, skipping.\n"
          ]
        },
        {
          "output_type": "stream",
          "name": "stdout",
          "text": [
            "\b\b\b\b\b\b\b\b\b\b\b\b\b\b\b\b\b\b\b\b\b\b\b\b\b\b\b\b\b\b\b\b\b\b\b\b\b\b\b\b\b\b\b\b\b\b\b\b\b\b\b\b\b\b\b\b\b\b\b\b\b\b\b\b\b\b\b\b\b\b\b\b\b\b\b\b\b\b\b\b\b\b\r10/10 [==============================] - 1s 148ms/step - loss: 0.2147 - accuracy: 1.0000\n",
            "Epoch 20/100\n",
            "10/10 [==============================] - ETA: 0s - loss: 0.2146 - accuracy: 1.0000"
          ]
        },
        {
          "output_type": "stream",
          "name": "stderr",
          "text": [
            "WARNING:tensorflow:Can save best model only with val_accuracy available, skipping.\n"
          ]
        },
        {
          "output_type": "stream",
          "name": "stdout",
          "text": [
            "\b\b\b\b\b\b\b\b\b\b\b\b\b\b\b\b\b\b\b\b\b\b\b\b\b\b\b\b\b\b\b\b\b\b\b\b\b\b\b\b\b\b\b\b\b\b\b\b\b\b\b\b\b\b\b\b\b\b\b\b\b\b\b\b\b\b\b\b\b\b\b\b\b\b\b\b\b\b\b\b\b\b\r10/10 [==============================] - 1s 136ms/step - loss: 0.2146 - accuracy: 1.0000\n",
            "Epoch 21/100\n",
            "10/10 [==============================] - ETA: 0s - loss: 0.2144 - accuracy: 1.0000"
          ]
        },
        {
          "output_type": "stream",
          "name": "stderr",
          "text": [
            "WARNING:tensorflow:Can save best model only with val_accuracy available, skipping.\n"
          ]
        },
        {
          "output_type": "stream",
          "name": "stdout",
          "text": [
            "\b\b\b\b\b\b\b\b\b\b\b\b\b\b\b\b\b\b\b\b\b\b\b\b\b\b\b\b\b\b\b\b\b\b\b\b\b\b\b\b\b\b\b\b\b\b\b\b\b\b\b\b\b\b\b\b\b\b\b\b\b\b\b\b\b\b\b\b\b\b\b\b\b\b\b\b\b\b\b\b\b\b\r10/10 [==============================] - 1s 97ms/step - loss: 0.2144 - accuracy: 1.0000\n",
            "Epoch 22/100\n",
            "10/10 [==============================] - ETA: 0s - loss: 0.2144 - accuracy: 1.0000"
          ]
        },
        {
          "output_type": "stream",
          "name": "stderr",
          "text": [
            "WARNING:tensorflow:Can save best model only with val_accuracy available, skipping.\n"
          ]
        },
        {
          "output_type": "stream",
          "name": "stdout",
          "text": [
            "\b\b\b\b\b\b\b\b\b\b\b\b\b\b\b\b\b\b\b\b\b\b\b\b\b\b\b\b\b\b\b\b\b\b\b\b\b\b\b\b\b\b\b\b\b\b\b\b\b\b\b\b\b\b\b\b\b\b\b\b\b\b\b\b\b\b\b\b\b\b\b\b\b\b\b\b\b\b\b\b\b\b\r10/10 [==============================] - 1s 140ms/step - loss: 0.2144 - accuracy: 1.0000\n",
            "Epoch 23/100\n",
            "10/10 [==============================] - ETA: 0s - loss: 0.2142 - accuracy: 1.0000"
          ]
        },
        {
          "output_type": "stream",
          "name": "stderr",
          "text": [
            "WARNING:tensorflow:Can save best model only with val_accuracy available, skipping.\n"
          ]
        },
        {
          "output_type": "stream",
          "name": "stdout",
          "text": [
            "\b\b\b\b\b\b\b\b\b\b\b\b\b\b\b\b\b\b\b\b\b\b\b\b\b\b\b\b\b\b\b\b\b\b\b\b\b\b\b\b\b\b\b\b\b\b\b\b\b\b\b\b\b\b\b\b\b\b\b\b\b\b\b\b\b\b\b\b\b\b\b\b\b\b\b\b\b\b\b\b\b\b\r10/10 [==============================] - 1s 134ms/step - loss: 0.2142 - accuracy: 1.0000\n",
            "Epoch 24/100\n",
            "10/10 [==============================] - ETA: 0s - loss: 0.2140 - accuracy: 1.0000"
          ]
        },
        {
          "output_type": "stream",
          "name": "stderr",
          "text": [
            "WARNING:tensorflow:Can save best model only with val_accuracy available, skipping.\n"
          ]
        },
        {
          "output_type": "stream",
          "name": "stdout",
          "text": [
            "\b\b\b\b\b\b\b\b\b\b\b\b\b\b\b\b\b\b\b\b\b\b\b\b\b\b\b\b\b\b\b\b\b\b\b\b\b\b\b\b\b\b\b\b\b\b\b\b\b\b\b\b\b\b\b\b\b\b\b\b\b\b\b\b\b\b\b\b\b\b\b\b\b\b\b\b\b\b\b\b\b\b\r10/10 [==============================] - 2s 156ms/step - loss: 0.2140 - accuracy: 1.0000\n",
            "Epoch 25/100\n",
            "10/10 [==============================] - ETA: 0s - loss: 0.2141 - accuracy: 1.0000"
          ]
        },
        {
          "output_type": "stream",
          "name": "stderr",
          "text": [
            "WARNING:tensorflow:Can save best model only with val_accuracy available, skipping.\n"
          ]
        },
        {
          "output_type": "stream",
          "name": "stdout",
          "text": [
            "\b\b\b\b\b\b\b\b\b\b\b\b\b\b\b\b\b\b\b\b\b\b\b\b\b\b\b\b\b\b\b\b\b\b\b\b\b\b\b\b\b\b\b\b\b\b\b\b\b\b\b\b\b\b\b\b\b\b\b\b\b\b\b\b\b\b\b\b\b\b\b\b\b\b\b\b\b\b\b\b\b\b\r10/10 [==============================] - 1s 126ms/step - loss: 0.2141 - accuracy: 1.0000\n",
            "Epoch 26/100\n",
            "10/10 [==============================] - ETA: 0s - loss: 0.2139 - accuracy: 1.0000"
          ]
        },
        {
          "output_type": "stream",
          "name": "stderr",
          "text": [
            "WARNING:tensorflow:Can save best model only with val_accuracy available, skipping.\n"
          ]
        },
        {
          "output_type": "stream",
          "name": "stdout",
          "text": [
            "\b\b\b\b\b\b\b\b\b\b\b\b\b\b\b\b\b\b\b\b\b\b\b\b\b\b\b\b\b\b\b\b\b\b\b\b\b\b\b\b\b\b\b\b\b\b\b\b\b\b\b\b\b\b\b\b\b\b\b\b\b\b\b\b\b\b\b\b\b\b\b\b\b\b\b\b\b\b\b\b\b\b\r10/10 [==============================] - 1s 149ms/step - loss: 0.2139 - accuracy: 1.0000\n",
            "Epoch 27/100\n",
            "10/10 [==============================] - ETA: 0s - loss: 0.2140 - accuracy: 1.0000"
          ]
        },
        {
          "output_type": "stream",
          "name": "stderr",
          "text": [
            "WARNING:tensorflow:Can save best model only with val_accuracy available, skipping.\n"
          ]
        },
        {
          "output_type": "stream",
          "name": "stdout",
          "text": [
            "\b\b\b\b\b\b\b\b\b\b\b\b\b\b\b\b\b\b\b\b\b\b\b\b\b\b\b\b\b\b\b\b\b\b\b\b\b\b\b\b\b\b\b\b\b\b\b\b\b\b\b\b\b\b\b\b\b\b\b\b\b\b\b\b\b\b\b\b\b\b\b\b\b\b\b\b\b\b\b\b\b\b\r10/10 [==============================] - 2s 158ms/step - loss: 0.2140 - accuracy: 1.0000\n",
            "Epoch 28/100\n",
            "10/10 [==============================] - ETA: 0s - loss: 0.2139 - accuracy: 1.0000"
          ]
        },
        {
          "output_type": "stream",
          "name": "stderr",
          "text": [
            "WARNING:tensorflow:Can save best model only with val_accuracy available, skipping.\n"
          ]
        },
        {
          "output_type": "stream",
          "name": "stdout",
          "text": [
            "\b\b\b\b\b\b\b\b\b\b\b\b\b\b\b\b\b\b\b\b\b\b\b\b\b\b\b\b\b\b\b\b\b\b\b\b\b\b\b\b\b\b\b\b\b\b\b\b\b\b\b\b\b\b\b\b\b\b\b\b\b\b\b\b\b\b\b\b\b\b\b\b\b\b\b\b\b\b\b\b\b\b\r10/10 [==============================] - 1s 77ms/step - loss: 0.2139 - accuracy: 1.0000\n",
            "Epoch 29/100\n",
            " 9/10 [==========================>...] - ETA: 0s - loss: 0.2137 - accuracy: 1.0000"
          ]
        },
        {
          "output_type": "stream",
          "name": "stderr",
          "text": [
            "WARNING:tensorflow:Can save best model only with val_accuracy available, skipping.\n"
          ]
        },
        {
          "output_type": "stream",
          "name": "stdout",
          "text": [
            "\b\b\b\b\b\b\b\b\b\b\b\b\b\b\b\b\b\b\b\b\b\b\b\b\b\b\b\b\b\b\b\b\b\b\b\b\b\b\b\b\b\b\b\b\b\b\b\b\b\b\b\b\b\b\b\b\b\b\b\b\b\b\b\b\b\b\b\b\b\b\b\b\b\b\b\b\b\b\b\b\b\b\r10/10 [==============================] - 1s 53ms/step - loss: 0.2138 - accuracy: 1.0000\n",
            "Epoch 30/100\n",
            " 9/10 [==========================>...] - ETA: 0s - loss: 0.2137 - accuracy: 1.0000"
          ]
        },
        {
          "output_type": "stream",
          "name": "stderr",
          "text": [
            "WARNING:tensorflow:Can save best model only with val_accuracy available, skipping.\n"
          ]
        },
        {
          "output_type": "stream",
          "name": "stdout",
          "text": [
            "\b\b\b\b\b\b\b\b\b\b\b\b\b\b\b\b\b\b\b\b\b\b\b\b\b\b\b\b\b\b\b\b\b\b\b\b\b\b\b\b\b\b\b\b\b\b\b\b\b\b\b\b\b\b\b\b\b\b\b\b\b\b\b\b\b\b\b\b\b\b\b\b\b\b\b\b\b\b\b\b\b\b\r10/10 [==============================] - 1s 50ms/step - loss: 0.2138 - accuracy: 1.0000\n",
            "Epoch 31/100\n",
            "10/10 [==============================] - ETA: 0s - loss: 0.2137 - accuracy: 1.0000"
          ]
        },
        {
          "output_type": "stream",
          "name": "stderr",
          "text": [
            "WARNING:tensorflow:Can save best model only with val_accuracy available, skipping.\n"
          ]
        },
        {
          "output_type": "stream",
          "name": "stdout",
          "text": [
            "\b\b\b\b\b\b\b\b\b\b\b\b\b\b\b\b\b\b\b\b\b\b\b\b\b\b\b\b\b\b\b\b\b\b\b\b\b\b\b\b\b\b\b\b\b\b\b\b\b\b\b\b\b\b\b\b\b\b\b\b\b\b\b\b\b\b\b\b\b\b\b\b\b\b\b\b\b\b\b\b\b\b\r10/10 [==============================] - 1s 51ms/step - loss: 0.2137 - accuracy: 1.0000\n",
            "Epoch 32/100\n",
            "10/10 [==============================] - ETA: 0s - loss: 0.2137 - accuracy: 1.0000"
          ]
        },
        {
          "output_type": "stream",
          "name": "stderr",
          "text": [
            "WARNING:tensorflow:Can save best model only with val_accuracy available, skipping.\n"
          ]
        },
        {
          "output_type": "stream",
          "name": "stdout",
          "text": [
            "\b\b\b\b\b\b\b\b\b\b\b\b\b\b\b\b\b\b\b\b\b\b\b\b\b\b\b\b\b\b\b\b\b\b\b\b\b\b\b\b\b\b\b\b\b\b\b\b\b\b\b\b\b\b\b\b\b\b\b\b\b\b\b\b\b\b\b\b\b\b\b\b\b\b\b\b\b\b\b\b\b\b\r10/10 [==============================] - 1s 51ms/step - loss: 0.2137 - accuracy: 1.0000\n",
            "Epoch 33/100\n",
            "10/10 [==============================] - ETA: 0s - loss: 0.2137 - accuracy: 1.0000"
          ]
        },
        {
          "output_type": "stream",
          "name": "stderr",
          "text": [
            "WARNING:tensorflow:Can save best model only with val_accuracy available, skipping.\n"
          ]
        },
        {
          "output_type": "stream",
          "name": "stdout",
          "text": [
            "\b\b\b\b\b\b\b\b\b\b\b\b\b\b\b\b\b\b\b\b\b\b\b\b\b\b\b\b\b\b\b\b\b\b\b\b\b\b\b\b\b\b\b\b\b\b\b\b\b\b\b\b\b\b\b\b\b\b\b\b\b\b\b\b\b\b\b\b\b\b\b\b\b\b\b\b\b\b\b\b\b\b\r10/10 [==============================] - 1s 52ms/step - loss: 0.2137 - accuracy: 1.0000\n",
            "Epoch 34/100\n",
            "10/10 [==============================] - ETA: 0s - loss: 0.2136 - accuracy: 1.0000"
          ]
        },
        {
          "output_type": "stream",
          "name": "stderr",
          "text": [
            "WARNING:tensorflow:Can save best model only with val_accuracy available, skipping.\n"
          ]
        },
        {
          "output_type": "stream",
          "name": "stdout",
          "text": [
            "\b\b\b\b\b\b\b\b\b\b\b\b\b\b\b\b\b\b\b\b\b\b\b\b\b\b\b\b\b\b\b\b\b\b\b\b\b\b\b\b\b\b\b\b\b\b\b\b\b\b\b\b\b\b\b\b\b\b\b\b\b\b\b\b\b\b\b\b\b\b\b\b\b\b\b\b\b\b\b\b\b\b\r10/10 [==============================] - 1s 51ms/step - loss: 0.2136 - accuracy: 1.0000\n",
            "Epoch 35/100\n",
            "10/10 [==============================] - ETA: 0s - loss: 0.2136 - accuracy: 1.0000"
          ]
        },
        {
          "output_type": "stream",
          "name": "stderr",
          "text": [
            "WARNING:tensorflow:Can save best model only with val_accuracy available, skipping.\n"
          ]
        },
        {
          "output_type": "stream",
          "name": "stdout",
          "text": [
            "\b\b\b\b\b\b\b\b\b\b\b\b\b\b\b\b\b\b\b\b\b\b\b\b\b\b\b\b\b\b\b\b\b\b\b\b\b\b\b\b\b\b\b\b\b\b\b\b\b\b\b\b\b\b\b\b\b\b\b\b\b\b\b\b\b\b\b\b\b\b\b\b\b\b\b\b\b\b\b\b\b\b\r10/10 [==============================] - 1s 54ms/step - loss: 0.2136 - accuracy: 1.0000\n",
            "Epoch 36/100\n",
            "10/10 [==============================] - ETA: 0s - loss: 0.2136 - accuracy: 1.0000"
          ]
        },
        {
          "output_type": "stream",
          "name": "stderr",
          "text": [
            "WARNING:tensorflow:Can save best model only with val_accuracy available, skipping.\n"
          ]
        },
        {
          "output_type": "stream",
          "name": "stdout",
          "text": [
            "\b\b\b\b\b\b\b\b\b\b\b\b\b\b\b\b\b\b\b\b\b\b\b\b\b\b\b\b\b\b\b\b\b\b\b\b\b\b\b\b\b\b\b\b\b\b\b\b\b\b\b\b\b\b\b\b\b\b\b\b\b\b\b\b\b\b\b\b\b\b\b\b\b\b\b\b\b\b\b\b\b\b\r10/10 [==============================] - 1s 53ms/step - loss: 0.2136 - accuracy: 1.0000\n",
            "Epoch 37/100\n",
            "10/10 [==============================] - ETA: 0s - loss: 0.2136 - accuracy: 1.0000"
          ]
        },
        {
          "output_type": "stream",
          "name": "stderr",
          "text": [
            "WARNING:tensorflow:Can save best model only with val_accuracy available, skipping.\n"
          ]
        },
        {
          "output_type": "stream",
          "name": "stdout",
          "text": [
            "\b\b\b\b\b\b\b\b\b\b\b\b\b\b\b\b\b\b\b\b\b\b\b\b\b\b\b\b\b\b\b\b\b\b\b\b\b\b\b\b\b\b\b\b\b\b\b\b\b\b\b\b\b\b\b\b\b\b\b\b\b\b\b\b\b\b\b\b\b\b\b\b\b\b\b\b\b\b\b\b\b\b\r10/10 [==============================] - 1s 56ms/step - loss: 0.2136 - accuracy: 1.0000\n",
            "Epoch 38/100\n",
            "10/10 [==============================] - ETA: 0s - loss: 0.2135 - accuracy: 1.0000"
          ]
        },
        {
          "output_type": "stream",
          "name": "stderr",
          "text": [
            "WARNING:tensorflow:Can save best model only with val_accuracy available, skipping.\n"
          ]
        },
        {
          "output_type": "stream",
          "name": "stdout",
          "text": [
            "\b\b\b\b\b\b\b\b\b\b\b\b\b\b\b\b\b\b\b\b\b\b\b\b\b\b\b\b\b\b\b\b\b\b\b\b\b\b\b\b\b\b\b\b\b\b\b\b\b\b\b\b\b\b\b\b\b\b\b\b\b\b\b\b\b\b\b\b\b\b\b\b\b\b\b\b\b\b\b\b\b\b\r10/10 [==============================] - 1s 51ms/step - loss: 0.2135 - accuracy: 1.0000\n",
            "Epoch 39/100\n",
            "10/10 [==============================] - ETA: 0s - loss: 0.2136 - accuracy: 1.0000"
          ]
        },
        {
          "output_type": "stream",
          "name": "stderr",
          "text": [
            "WARNING:tensorflow:Can save best model only with val_accuracy available, skipping.\n"
          ]
        },
        {
          "output_type": "stream",
          "name": "stdout",
          "text": [
            "\b\b\b\b\b\b\b\b\b\b\b\b\b\b\b\b\b\b\b\b\b\b\b\b\b\b\b\b\b\b\b\b\b\b\b\b\b\b\b\b\b\b\b\b\b\b\b\b\b\b\b\b\b\b\b\b\b\b\b\b\b\b\b\b\b\b\b\b\b\b\b\b\b\b\b\b\b\b\b\b\b\b\r10/10 [==============================] - 1s 50ms/step - loss: 0.2136 - accuracy: 1.0000\n",
            "Epoch 40/100\n",
            " 9/10 [==========================>...] - ETA: 0s - loss: 0.2135 - accuracy: 1.0000"
          ]
        },
        {
          "output_type": "stream",
          "name": "stderr",
          "text": [
            "WARNING:tensorflow:Can save best model only with val_accuracy available, skipping.\n"
          ]
        },
        {
          "output_type": "stream",
          "name": "stdout",
          "text": [
            "\b\b\b\b\b\b\b\b\b\b\b\b\b\b\b\b\b\b\b\b\b\b\b\b\b\b\b\b\b\b\b\b\b\b\b\b\b\b\b\b\b\b\b\b\b\b\b\b\b\b\b\b\b\b\b\b\b\b\b\b\b\b\b\b\b\b\b\b\b\b\b\b\b\b\b\b\b\b\b\b\b\b\r10/10 [==============================] - 0s 48ms/step - loss: 0.2135 - accuracy: 1.0000\n",
            "Epoch 41/100\n",
            "10/10 [==============================] - ETA: 0s - loss: 0.2135 - accuracy: 1.0000"
          ]
        },
        {
          "output_type": "stream",
          "name": "stderr",
          "text": [
            "WARNING:tensorflow:Can save best model only with val_accuracy available, skipping.\n"
          ]
        },
        {
          "output_type": "stream",
          "name": "stdout",
          "text": [
            "\b\b\b\b\b\b\b\b\b\b\b\b\b\b\b\b\b\b\b\b\b\b\b\b\b\b\b\b\b\b\b\b\b\b\b\b\b\b\b\b\b\b\b\b\b\b\b\b\b\b\b\b\b\b\b\b\b\b\b\b\b\b\b\b\b\b\b\b\b\b\b\b\b\b\b\b\b\b\b\b\b\b\r10/10 [==============================] - 0s 49ms/step - loss: 0.2135 - accuracy: 1.0000\n",
            "Epoch 42/100\n",
            " 9/10 [==========================>...] - ETA: 0s - loss: 0.2135 - accuracy: 1.0000"
          ]
        },
        {
          "output_type": "stream",
          "name": "stderr",
          "text": [
            "WARNING:tensorflow:Can save best model only with val_accuracy available, skipping.\n"
          ]
        },
        {
          "output_type": "stream",
          "name": "stdout",
          "text": [
            "\b\b\b\b\b\b\b\b\b\b\b\b\b\b\b\b\b\b\b\b\b\b\b\b\b\b\b\b\b\b\b\b\b\b\b\b\b\b\b\b\b\b\b\b\b\b\b\b\b\b\b\b\b\b\b\b\b\b\b\b\b\b\b\b\b\b\b\b\b\b\b\b\b\b\b\b\b\b\b\b\b\b\r10/10 [==============================] - 0s 47ms/step - loss: 0.2134 - accuracy: 1.0000\n",
            "Epoch 43/100\n",
            " 9/10 [==========================>...] - ETA: 0s - loss: 0.2135 - accuracy: 1.0000"
          ]
        },
        {
          "output_type": "stream",
          "name": "stderr",
          "text": [
            "WARNING:tensorflow:Can save best model only with val_accuracy available, skipping.\n"
          ]
        },
        {
          "output_type": "stream",
          "name": "stdout",
          "text": [
            "\b\b\b\b\b\b\b\b\b\b\b\b\b\b\b\b\b\b\b\b\b\b\b\b\b\b\b\b\b\b\b\b\b\b\b\b\b\b\b\b\b\b\b\b\b\b\b\b\b\b\b\b\b\b\b\b\b\b\b\b\b\b\b\b\b\b\b\b\b\b\b\b\b\b\b\b\b\b\b\b\b\b\r10/10 [==============================] - 1s 50ms/step - loss: 0.2135 - accuracy: 1.0000\n",
            "Epoch 44/100\n",
            " 9/10 [==========================>...] - ETA: 0s - loss: 0.2135 - accuracy: 1.0000"
          ]
        },
        {
          "output_type": "stream",
          "name": "stderr",
          "text": [
            "WARNING:tensorflow:Can save best model only with val_accuracy available, skipping.\n"
          ]
        },
        {
          "output_type": "stream",
          "name": "stdout",
          "text": [
            "\b\b\b\b\b\b\b\b\b\b\b\b\b\b\b\b\b\b\b\b\b\b\b\b\b\b\b\b\b\b\b\b\b\b\b\b\b\b\b\b\b\b\b\b\b\b\b\b\b\b\b\b\b\b\b\b\b\b\b\b\b\b\b\b\b\b\b\b\b\b\b\b\b\b\b\b\b\b\b\b\b\b\r10/10 [==============================] - 0s 49ms/step - loss: 0.2134 - accuracy: 1.0000\n",
            "Epoch 45/100\n",
            "10/10 [==============================] - ETA: 0s - loss: 0.2134 - accuracy: 1.0000"
          ]
        },
        {
          "output_type": "stream",
          "name": "stderr",
          "text": [
            "WARNING:tensorflow:Can save best model only with val_accuracy available, skipping.\n"
          ]
        },
        {
          "output_type": "stream",
          "name": "stdout",
          "text": [
            "\b\b\b\b\b\b\b\b\b\b\b\b\b\b\b\b\b\b\b\b\b\b\b\b\b\b\b\b\b\b\b\b\b\b\b\b\b\b\b\b\b\b\b\b\b\b\b\b\b\b\b\b\b\b\b\b\b\b\b\b\b\b\b\b\b\b\b\b\b\b\b\b\b\b\b\b\b\b\b\b\b\b\r10/10 [==============================] - 0s 48ms/step - loss: 0.2134 - accuracy: 1.0000\n",
            "Epoch 46/100\n",
            " 9/10 [==========================>...] - ETA: 0s - loss: 0.2136 - accuracy: 1.0000"
          ]
        },
        {
          "output_type": "stream",
          "name": "stderr",
          "text": [
            "WARNING:tensorflow:Can save best model only with val_accuracy available, skipping.\n"
          ]
        },
        {
          "output_type": "stream",
          "name": "stdout",
          "text": [
            "\b\b\b\b\b\b\b\b\b\b\b\b\b\b\b\b\b\b\b\b\b\b\b\b\b\b\b\b\b\b\b\b\b\b\b\b\b\b\b\b\b\b\b\b\b\b\b\b\b\b\b\b\b\b\b\b\b\b\b\b\b\b\b\b\b\b\b\b\b\b\b\b\b\b\b\b\b\b\b\b\b\b\r10/10 [==============================] - 0s 47ms/step - loss: 0.2134 - accuracy: 1.0000\n",
            "Epoch 47/100\n",
            "10/10 [==============================] - ETA: 0s - loss: 0.2134 - accuracy: 1.0000"
          ]
        },
        {
          "output_type": "stream",
          "name": "stderr",
          "text": [
            "WARNING:tensorflow:Can save best model only with val_accuracy available, skipping.\n"
          ]
        },
        {
          "output_type": "stream",
          "name": "stdout",
          "text": [
            "\b\b\b\b\b\b\b\b\b\b\b\b\b\b\b\b\b\b\b\b\b\b\b\b\b\b\b\b\b\b\b\b\b\b\b\b\b\b\b\b\b\b\b\b\b\b\b\b\b\b\b\b\b\b\b\b\b\b\b\b\b\b\b\b\b\b\b\b\b\b\b\b\b\b\b\b\b\b\b\b\b\b\r10/10 [==============================] - 0s 50ms/step - loss: 0.2134 - accuracy: 1.0000\n",
            "Epoch 48/100\n",
            "10/10 [==============================] - ETA: 0s - loss: 0.2134 - accuracy: 1.0000"
          ]
        },
        {
          "output_type": "stream",
          "name": "stderr",
          "text": [
            "WARNING:tensorflow:Can save best model only with val_accuracy available, skipping.\n"
          ]
        },
        {
          "output_type": "stream",
          "name": "stdout",
          "text": [
            "\b\b\b\b\b\b\b\b\b\b\b\b\b\b\b\b\b\b\b\b\b\b\b\b\b\b\b\b\b\b\b\b\b\b\b\b\b\b\b\b\b\b\b\b\b\b\b\b\b\b\b\b\b\b\b\b\b\b\b\b\b\b\b\b\b\b\b\b\b\b\b\b\b\b\b\b\b\b\b\b\b\b\r10/10 [==============================] - 1s 74ms/step - loss: 0.2134 - accuracy: 1.0000\n",
            "Epoch 49/100\n",
            "10/10 [==============================] - ETA: 0s - loss: 0.2134 - accuracy: 1.0000"
          ]
        },
        {
          "output_type": "stream",
          "name": "stderr",
          "text": [
            "WARNING:tensorflow:Can save best model only with val_accuracy available, skipping.\n"
          ]
        },
        {
          "output_type": "stream",
          "name": "stdout",
          "text": [
            "\b\b\b\b\b\b\b\b\b\b\b\b\b\b\b\b\b\b\b\b\b\b\b\b\b\b\b\b\b\b\b\b\b\b\b\b\b\b\b\b\b\b\b\b\b\b\b\b\b\b\b\b\b\b\b\b\b\b\b\b\b\b\b\b\b\b\b\b\b\b\b\b\b\b\b\b\b\b\b\b\b\b\r10/10 [==============================] - 1s 76ms/step - loss: 0.2134 - accuracy: 1.0000\n",
            "Epoch 50/100\n",
            "10/10 [==============================] - ETA: 0s - loss: 0.2134 - accuracy: 1.0000"
          ]
        },
        {
          "output_type": "stream",
          "name": "stderr",
          "text": [
            "WARNING:tensorflow:Can save best model only with val_accuracy available, skipping.\n"
          ]
        },
        {
          "output_type": "stream",
          "name": "stdout",
          "text": [
            "\b\b\b\b\b\b\b\b\b\b\b\b\b\b\b\b\b\b\b\b\b\b\b\b\b\b\b\b\b\b\b\b\b\b\b\b\b\b\b\b\b\b\b\b\b\b\b\b\b\b\b\b\b\b\b\b\b\b\b\b\b\b\b\b\b\b\b\b\b\b\b\b\b\b\b\b\b\b\b\b\b\b\r10/10 [==============================] - 1s 74ms/step - loss: 0.2134 - accuracy: 1.0000\n",
            "Epoch 51/100\n",
            "10/10 [==============================] - ETA: 0s - loss: 0.2133 - accuracy: 1.0000"
          ]
        },
        {
          "output_type": "stream",
          "name": "stderr",
          "text": [
            "WARNING:tensorflow:Can save best model only with val_accuracy available, skipping.\n"
          ]
        },
        {
          "output_type": "stream",
          "name": "stdout",
          "text": [
            "\b\b\b\b\b\b\b\b\b\b\b\b\b\b\b\b\b\b\b\b\b\b\b\b\b\b\b\b\b\b\b\b\b\b\b\b\b\b\b\b\b\b\b\b\b\b\b\b\b\b\b\b\b\b\b\b\b\b\b\b\b\b\b\b\b\b\b\b\b\b\b\b\b\b\b\b\b\b\b\b\b\b\r10/10 [==============================] - 1s 68ms/step - loss: 0.2133 - accuracy: 1.0000\n",
            "Epoch 52/100\n",
            "10/10 [==============================] - ETA: 0s - loss: 0.2133 - accuracy: 1.0000"
          ]
        },
        {
          "output_type": "stream",
          "name": "stderr",
          "text": [
            "WARNING:tensorflow:Can save best model only with val_accuracy available, skipping.\n"
          ]
        },
        {
          "output_type": "stream",
          "name": "stdout",
          "text": [
            "\b\b\b\b\b\b\b\b\b\b\b\b\b\b\b\b\b\b\b\b\b\b\b\b\b\b\b\b\b\b\b\b\b\b\b\b\b\b\b\b\b\b\b\b\b\b\b\b\b\b\b\b\b\b\b\b\b\b\b\b\b\b\b\b\b\b\b\b\b\b\b\b\b\b\b\b\b\b\b\b\b\b\r10/10 [==============================] - 1s 82ms/step - loss: 0.2133 - accuracy: 1.0000\n",
            "Epoch 53/100\n",
            "10/10 [==============================] - ETA: 0s - loss: 0.2133 - accuracy: 1.0000"
          ]
        },
        {
          "output_type": "stream",
          "name": "stderr",
          "text": [
            "WARNING:tensorflow:Can save best model only with val_accuracy available, skipping.\n"
          ]
        },
        {
          "output_type": "stream",
          "name": "stdout",
          "text": [
            "\b\b\b\b\b\b\b\b\b\b\b\b\b\b\b\b\b\b\b\b\b\b\b\b\b\b\b\b\b\b\b\b\b\b\b\b\b\b\b\b\b\b\b\b\b\b\b\b\b\b\b\b\b\b\b\b\b\b\b\b\b\b\b\b\b\b\b\b\b\b\b\b\b\b\b\b\b\b\b\b\b\b\r10/10 [==============================] - 1s 120ms/step - loss: 0.2133 - accuracy: 1.0000\n",
            "Epoch 54/100\n",
            "10/10 [==============================] - ETA: 0s - loss: 0.2133 - accuracy: 1.0000"
          ]
        },
        {
          "output_type": "stream",
          "name": "stderr",
          "text": [
            "WARNING:tensorflow:Can save best model only with val_accuracy available, skipping.\n"
          ]
        },
        {
          "output_type": "stream",
          "name": "stdout",
          "text": [
            "\b\b\b\b\b\b\b\b\b\b\b\b\b\b\b\b\b\b\b\b\b\b\b\b\b\b\b\b\b\b\b\b\b\b\b\b\b\b\b\b\b\b\b\b\b\b\b\b\b\b\b\b\b\b\b\b\b\b\b\b\b\b\b\b\b\b\b\b\b\b\b\b\b\b\b\b\b\b\b\b\b\b\r10/10 [==============================] - 1s 134ms/step - loss: 0.2133 - accuracy: 1.0000\n",
            "Epoch 55/100\n",
            "10/10 [==============================] - ETA: 0s - loss: 0.2133 - accuracy: 1.0000"
          ]
        },
        {
          "output_type": "stream",
          "name": "stderr",
          "text": [
            "WARNING:tensorflow:Can save best model only with val_accuracy available, skipping.\n"
          ]
        },
        {
          "output_type": "stream",
          "name": "stdout",
          "text": [
            "\b\b\b\b\b\b\b\b\b\b\b\b\b\b\b\b\b\b\b\b\b\b\b\b\b\b\b\b\b\b\b\b\b\b\b\b\b\b\b\b\b\b\b\b\b\b\b\b\b\b\b\b\b\b\b\b\b\b\b\b\b\b\b\b\b\b\b\b\b\b\b\b\b\b\b\b\b\b\b\b\b\b\r10/10 [==============================] - 1s 68ms/step - loss: 0.2133 - accuracy: 1.0000\n",
            "Epoch 56/100\n",
            "10/10 [==============================] - ETA: 0s - loss: 0.2134 - accuracy: 1.0000"
          ]
        },
        {
          "output_type": "stream",
          "name": "stderr",
          "text": [
            "WARNING:tensorflow:Can save best model only with val_accuracy available, skipping.\n"
          ]
        },
        {
          "output_type": "stream",
          "name": "stdout",
          "text": [
            "\b\b\b\b\b\b\b\b\b\b\b\b\b\b\b\b\b\b\b\b\b\b\b\b\b\b\b\b\b\b\b\b\b\b\b\b\b\b\b\b\b\b\b\b\b\b\b\b\b\b\b\b\b\b\b\b\b\b\b\b\b\b\b\b\b\b\b\b\b\b\b\b\b\b\b\b\b\b\b\b\b\b\r10/10 [==============================] - 1s 50ms/step - loss: 0.2134 - accuracy: 1.0000\n",
            "Epoch 57/100\n",
            " 9/10 [==========================>...] - ETA: 0s - loss: 0.2134 - accuracy: 1.0000"
          ]
        },
        {
          "output_type": "stream",
          "name": "stderr",
          "text": [
            "WARNING:tensorflow:Can save best model only with val_accuracy available, skipping.\n"
          ]
        },
        {
          "output_type": "stream",
          "name": "stdout",
          "text": [
            "\b\b\b\b\b\b\b\b\b\b\b\b\b\b\b\b\b\b\b\b\b\b\b\b\b\b\b\b\b\b\b\b\b\b\b\b\b\b\b\b\b\b\b\b\b\b\b\b\b\b\b\b\b\b\b\b\b\b\b\b\b\b\b\b\b\b\b\b\b\b\b\b\b\b\b\b\b\b\b\b\b\b\r10/10 [==============================] - 1s 50ms/step - loss: 0.2133 - accuracy: 1.0000\n",
            "Epoch 58/100\n",
            "10/10 [==============================] - ETA: 0s - loss: 0.2133 - accuracy: 1.0000"
          ]
        },
        {
          "output_type": "stream",
          "name": "stderr",
          "text": [
            "WARNING:tensorflow:Can save best model only with val_accuracy available, skipping.\n"
          ]
        },
        {
          "output_type": "stream",
          "name": "stdout",
          "text": [
            "\b\b\b\b\b\b\b\b\b\b\b\b\b\b\b\b\b\b\b\b\b\b\b\b\b\b\b\b\b\b\b\b\b\b\b\b\b\b\b\b\b\b\b\b\b\b\b\b\b\b\b\b\b\b\b\b\b\b\b\b\b\b\b\b\b\b\b\b\b\b\b\b\b\b\b\b\b\b\b\b\b\b\r10/10 [==============================] - 1s 51ms/step - loss: 0.2133 - accuracy: 1.0000\n",
            "Epoch 59/100\n",
            " 9/10 [==========================>...] - ETA: 0s - loss: 0.2134 - accuracy: 1.0000"
          ]
        },
        {
          "output_type": "stream",
          "name": "stderr",
          "text": [
            "WARNING:tensorflow:Can save best model only with val_accuracy available, skipping.\n"
          ]
        },
        {
          "output_type": "stream",
          "name": "stdout",
          "text": [
            "\b\b\b\b\b\b\b\b\b\b\b\b\b\b\b\b\b\b\b\b\b\b\b\b\b\b\b\b\b\b\b\b\b\b\b\b\b\b\b\b\b\b\b\b\b\b\b\b\b\b\b\b\b\b\b\b\b\b\b\b\b\b\b\b\b\b\b\b\b\b\b\b\b\b\b\b\b\b\b\b\b\b\r10/10 [==============================] - 0s 48ms/step - loss: 0.2133 - accuracy: 1.0000\n",
            "Epoch 60/100\n",
            "10/10 [==============================] - ETA: 0s - loss: 0.2133 - accuracy: 1.0000"
          ]
        },
        {
          "output_type": "stream",
          "name": "stderr",
          "text": [
            "WARNING:tensorflow:Can save best model only with val_accuracy available, skipping.\n"
          ]
        },
        {
          "output_type": "stream",
          "name": "stdout",
          "text": [
            "\b\b\b\b\b\b\b\b\b\b\b\b\b\b\b\b\b\b\b\b\b\b\b\b\b\b\b\b\b\b\b\b\b\b\b\b\b\b\b\b\b\b\b\b\b\b\b\b\b\b\b\b\b\b\b\b\b\b\b\b\b\b\b\b\b\b\b\b\b\b\b\b\b\b\b\b\b\b\b\b\b\b\r10/10 [==============================] - 1s 54ms/step - loss: 0.2133 - accuracy: 1.0000\n",
            "Epoch 61/100\n",
            " 9/10 [==========================>...] - ETA: 0s - loss: 0.2133 - accuracy: 1.0000"
          ]
        },
        {
          "output_type": "stream",
          "name": "stderr",
          "text": [
            "WARNING:tensorflow:Can save best model only with val_accuracy available, skipping.\n"
          ]
        },
        {
          "output_type": "stream",
          "name": "stdout",
          "text": [
            "\b\b\b\b\b\b\b\b\b\b\b\b\b\b\b\b\b\b\b\b\b\b\b\b\b\b\b\b\b\b\b\b\b\b\b\b\b\b\b\b\b\b\b\b\b\b\b\b\b\b\b\b\b\b\b\b\b\b\b\b\b\b\b\b\b\b\b\b\b\b\b\b\b\b\b\b\b\b\b\b\b\b\r10/10 [==============================] - 0s 47ms/step - loss: 0.2133 - accuracy: 1.0000\n",
            "Epoch 62/100\n",
            "10/10 [==============================] - ETA: 0s - loss: 0.2133 - accuracy: 1.0000"
          ]
        },
        {
          "output_type": "stream",
          "name": "stderr",
          "text": [
            "WARNING:tensorflow:Can save best model only with val_accuracy available, skipping.\n"
          ]
        },
        {
          "output_type": "stream",
          "name": "stdout",
          "text": [
            "\b\b\b\b\b\b\b\b\b\b\b\b\b\b\b\b\b\b\b\b\b\b\b\b\b\b\b\b\b\b\b\b\b\b\b\b\b\b\b\b\b\b\b\b\b\b\b\b\b\b\b\b\b\b\b\b\b\b\b\b\b\b\b\b\b\b\b\b\b\b\b\b\b\b\b\b\b\b\b\b\b\b\r10/10 [==============================] - 0s 49ms/step - loss: 0.2133 - accuracy: 1.0000\n",
            "Epoch 63/100\n",
            "10/10 [==============================] - ETA: 0s - loss: 0.2133 - accuracy: 1.0000"
          ]
        },
        {
          "output_type": "stream",
          "name": "stderr",
          "text": [
            "WARNING:tensorflow:Can save best model only with val_accuracy available, skipping.\n"
          ]
        },
        {
          "output_type": "stream",
          "name": "stdout",
          "text": [
            "\b\b\b\b\b\b\b\b\b\b\b\b\b\b\b\b\b\b\b\b\b\b\b\b\b\b\b\b\b\b\b\b\b\b\b\b\b\b\b\b\b\b\b\b\b\b\b\b\b\b\b\b\b\b\b\b\b\b\b\b\b\b\b\b\b\b\b\b\b\b\b\b\b\b\b\b\b\b\b\b\b\b\r10/10 [==============================] - 0s 48ms/step - loss: 0.2133 - accuracy: 1.0000\n",
            "Epoch 64/100\n",
            "10/10 [==============================] - ETA: 0s - loss: 0.2133 - accuracy: 1.0000"
          ]
        },
        {
          "output_type": "stream",
          "name": "stderr",
          "text": [
            "WARNING:tensorflow:Can save best model only with val_accuracy available, skipping.\n"
          ]
        },
        {
          "output_type": "stream",
          "name": "stdout",
          "text": [
            "\b\b\b\b\b\b\b\b\b\b\b\b\b\b\b\b\b\b\b\b\b\b\b\b\b\b\b\b\b\b\b\b\b\b\b\b\b\b\b\b\b\b\b\b\b\b\b\b\b\b\b\b\b\b\b\b\b\b\b\b\b\b\b\b\b\b\b\b\b\b\b\b\b\b\b\b\b\b\b\b\b\b\r10/10 [==============================] - 1s 53ms/step - loss: 0.2133 - accuracy: 1.0000\n",
            "Epoch 65/100\n",
            "10/10 [==============================] - ETA: 0s - loss: 0.2133 - accuracy: 1.0000"
          ]
        },
        {
          "output_type": "stream",
          "name": "stderr",
          "text": [
            "WARNING:tensorflow:Can save best model only with val_accuracy available, skipping.\n"
          ]
        },
        {
          "output_type": "stream",
          "name": "stdout",
          "text": [
            "\b\b\b\b\b\b\b\b\b\b\b\b\b\b\b\b\b\b\b\b\b\b\b\b\b\b\b\b\b\b\b\b\b\b\b\b\b\b\b\b\b\b\b\b\b\b\b\b\b\b\b\b\b\b\b\b\b\b\b\b\b\b\b\b\b\b\b\b\b\b\b\b\b\b\b\b\b\b\b\b\b\b\r10/10 [==============================] - 1s 51ms/step - loss: 0.2133 - accuracy: 1.0000\n",
            "Epoch 66/100\n",
            " 9/10 [==========================>...] - ETA: 0s - loss: 0.2132 - accuracy: 1.0000"
          ]
        },
        {
          "output_type": "stream",
          "name": "stderr",
          "text": [
            "WARNING:tensorflow:Can save best model only with val_accuracy available, skipping.\n"
          ]
        },
        {
          "output_type": "stream",
          "name": "stdout",
          "text": [
            "\b\b\b\b\b\b\b\b\b\b\b\b\b\b\b\b\b\b\b\b\b\b\b\b\b\b\b\b\b\b\b\b\b\b\b\b\b\b\b\b\b\b\b\b\b\b\b\b\b\b\b\b\b\b\b\b\b\b\b\b\b\b\b\b\b\b\b\b\b\b\b\b\b\b\b\b\b\b\b\b\b\b\r10/10 [==============================] - 0s 48ms/step - loss: 0.2133 - accuracy: 1.0000\n",
            "Epoch 67/100\n",
            "10/10 [==============================] - ETA: 0s - loss: 0.2133 - accuracy: 1.0000"
          ]
        },
        {
          "output_type": "stream",
          "name": "stderr",
          "text": [
            "WARNING:tensorflow:Can save best model only with val_accuracy available, skipping.\n"
          ]
        },
        {
          "output_type": "stream",
          "name": "stdout",
          "text": [
            "\b\b\b\b\b\b\b\b\b\b\b\b\b\b\b\b\b\b\b\b\b\b\b\b\b\b\b\b\b\b\b\b\b\b\b\b\b\b\b\b\b\b\b\b\b\b\b\b\b\b\b\b\b\b\b\b\b\b\b\b\b\b\b\b\b\b\b\b\b\b\b\b\b\b\b\b\b\b\b\b\b\b\r10/10 [==============================] - 1s 56ms/step - loss: 0.2133 - accuracy: 1.0000\n",
            "Epoch 68/100\n",
            "10/10 [==============================] - ETA: 0s - loss: 0.2132 - accuracy: 1.0000"
          ]
        },
        {
          "output_type": "stream",
          "name": "stderr",
          "text": [
            "WARNING:tensorflow:Can save best model only with val_accuracy available, skipping.\n"
          ]
        },
        {
          "output_type": "stream",
          "name": "stdout",
          "text": [
            "\b\b\b\b\b\b\b\b\b\b\b\b\b\b\b\b\b\b\b\b\b\b\b\b\b\b\b\b\b\b\b\b\b\b\b\b\b\b\b\b\b\b\b\b\b\b\b\b\b\b\b\b\b\b\b\b\b\b\b\b\b\b\b\b\b\b\b\b\b\b\b\b\b\b\b\b\b\b\b\b\b\b\r10/10 [==============================] - 1s 63ms/step - loss: 0.2132 - accuracy: 1.0000\n",
            "Epoch 69/100\n",
            "10/10 [==============================] - ETA: 0s - loss: 0.2132 - accuracy: 1.0000"
          ]
        },
        {
          "output_type": "stream",
          "name": "stderr",
          "text": [
            "WARNING:tensorflow:Can save best model only with val_accuracy available, skipping.\n"
          ]
        },
        {
          "output_type": "stream",
          "name": "stdout",
          "text": [
            "\b\b\b\b\b\b\b\b\b\b\b\b\b\b\b\b\b\b\b\b\b\b\b\b\b\b\b\b\b\b\b\b\b\b\b\b\b\b\b\b\b\b\b\b\b\b\b\b\b\b\b\b\b\b\b\b\b\b\b\b\b\b\b\b\b\b\b\b\b\b\b\b\b\b\b\b\b\b\b\b\b\b\r10/10 [==============================] - 1s 88ms/step - loss: 0.2132 - accuracy: 1.0000\n",
            "Epoch 70/100\n",
            " 9/10 [==========================>...] - ETA: 0s - loss: 0.2135 - accuracy: 1.0000"
          ]
        },
        {
          "output_type": "stream",
          "name": "stderr",
          "text": [
            "WARNING:tensorflow:Can save best model only with val_accuracy available, skipping.\n"
          ]
        },
        {
          "output_type": "stream",
          "name": "stdout",
          "text": [
            "\b\b\b\b\b\b\b\b\b\b\b\b\b\b\b\b\b\b\b\b\b\b\b\b\b\b\b\b\b\b\b\b\b\b\b\b\b\b\b\b\b\b\b\b\b\b\b\b\b\b\b\b\b\b\b\b\b\b\b\b\b\b\b\b\b\b\b\b\b\b\b\b\b\b\b\b\b\b\b\b\b\b\r10/10 [==============================] - 1s 60ms/step - loss: 0.2132 - accuracy: 1.0000\n",
            "Epoch 71/100\n",
            "10/10 [==============================] - ETA: 0s - loss: 0.2132 - accuracy: 1.0000"
          ]
        },
        {
          "output_type": "stream",
          "name": "stderr",
          "text": [
            "WARNING:tensorflow:Can save best model only with val_accuracy available, skipping.\n"
          ]
        },
        {
          "output_type": "stream",
          "name": "stdout",
          "text": [
            "\b\b\b\b\b\b\b\b\b\b\b\b\b\b\b\b\b\b\b\b\b\b\b\b\b\b\b\b\b\b\b\b\b\b\b\b\b\b\b\b\b\b\b\b\b\b\b\b\b\b\b\b\b\b\b\b\b\b\b\b\b\b\b\b\b\b\b\b\b\b\b\b\b\b\b\b\b\b\b\b\b\b\r10/10 [==============================] - 1s 85ms/step - loss: 0.2132 - accuracy: 1.0000\n",
            "Epoch 72/100\n",
            "10/10 [==============================] - ETA: 0s - loss: 0.2132 - accuracy: 1.0000"
          ]
        },
        {
          "output_type": "stream",
          "name": "stderr",
          "text": [
            "WARNING:tensorflow:Can save best model only with val_accuracy available, skipping.\n"
          ]
        },
        {
          "output_type": "stream",
          "name": "stdout",
          "text": [
            "\b\b\b\b\b\b\b\b\b\b\b\b\b\b\b\b\b\b\b\b\b\b\b\b\b\b\b\b\b\b\b\b\b\b\b\b\b\b\b\b\b\b\b\b\b\b\b\b\b\b\b\b\b\b\b\b\b\b\b\b\b\b\b\b\b\b\b\b\b\b\b\b\b\b\b\b\b\b\b\b\b\b\r10/10 [==============================] - 2s 158ms/step - loss: 0.2132 - accuracy: 1.0000\n",
            "Epoch 73/100\n",
            "10/10 [==============================] - ETA: 0s - loss: 0.2132 - accuracy: 1.0000"
          ]
        },
        {
          "output_type": "stream",
          "name": "stderr",
          "text": [
            "WARNING:tensorflow:Can save best model only with val_accuracy available, skipping.\n"
          ]
        },
        {
          "output_type": "stream",
          "name": "stdout",
          "text": [
            "\b\b\b\b\b\b\b\b\b\b\b\b\b\b\b\b\b\b\b\b\b\b\b\b\b\b\b\b\b\b\b\b\b\b\b\b\b\b\b\b\b\b\b\b\b\b\b\b\b\b\b\b\b\b\b\b\b\b\b\b\b\b\b\b\b\b\b\b\b\b\b\b\b\b\b\b\b\b\b\b\b\b\r10/10 [==============================] - 1s 120ms/step - loss: 0.2132 - accuracy: 1.0000\n",
            "Epoch 74/100\n",
            "10/10 [==============================] - ETA: 0s - loss: 0.2132 - accuracy: 1.0000"
          ]
        },
        {
          "output_type": "stream",
          "name": "stderr",
          "text": [
            "WARNING:tensorflow:Can save best model only with val_accuracy available, skipping.\n"
          ]
        },
        {
          "output_type": "stream",
          "name": "stdout",
          "text": [
            "\b\b\b\b\b\b\b\b\b\b\b\b\b\b\b\b\b\b\b\b\b\b\b\b\b\b\b\b\b\b\b\b\b\b\b\b\b\b\b\b\b\b\b\b\b\b\b\b\b\b\b\b\b\b\b\b\b\b\b\b\b\b\b\b\b\b\b\b\b\b\b\b\b\b\b\b\b\b\b\b\b\b\r10/10 [==============================] - 2s 147ms/step - loss: 0.2132 - accuracy: 1.0000\n",
            "Epoch 75/100\n",
            "10/10 [==============================] - ETA: 0s - loss: 0.2132 - accuracy: 1.0000"
          ]
        },
        {
          "output_type": "stream",
          "name": "stderr",
          "text": [
            "WARNING:tensorflow:Can save best model only with val_accuracy available, skipping.\n"
          ]
        },
        {
          "output_type": "stream",
          "name": "stdout",
          "text": [
            "\b\b\b\b\b\b\b\b\b\b\b\b\b\b\b\b\b\b\b\b\b\b\b\b\b\b\b\b\b\b\b\b\b\b\b\b\b\b\b\b\b\b\b\b\b\b\b\b\b\b\b\b\b\b\b\b\b\b\b\b\b\b\b\b\b\b\b\b\b\b\b\b\b\b\b\b\b\b\b\b\b\b\r10/10 [==============================] - 1s 143ms/step - loss: 0.2132 - accuracy: 1.0000\n",
            "Epoch 76/100\n",
            "10/10 [==============================] - ETA: 0s - loss: 0.2132 - accuracy: 1.0000"
          ]
        },
        {
          "output_type": "stream",
          "name": "stderr",
          "text": [
            "WARNING:tensorflow:Can save best model only with val_accuracy available, skipping.\n"
          ]
        },
        {
          "output_type": "stream",
          "name": "stdout",
          "text": [
            "\b\b\b\b\b\b\b\b\b\b\b\b\b\b\b\b\b\b\b\b\b\b\b\b\b\b\b\b\b\b\b\b\b\b\b\b\b\b\b\b\b\b\b\b\b\b\b\b\b\b\b\b\b\b\b\b\b\b\b\b\b\b\b\b\b\b\b\b\b\b\b\b\b\b\b\b\b\b\b\b\b\b\r10/10 [==============================] - 1s 133ms/step - loss: 0.2132 - accuracy: 1.0000\n",
            "Epoch 77/100\n",
            "10/10 [==============================] - ETA: 0s - loss: 0.2132 - accuracy: 1.0000"
          ]
        },
        {
          "output_type": "stream",
          "name": "stderr",
          "text": [
            "WARNING:tensorflow:Can save best model only with val_accuracy available, skipping.\n"
          ]
        },
        {
          "output_type": "stream",
          "name": "stdout",
          "text": [
            "\b\b\b\b\b\b\b\b\b\b\b\b\b\b\b\b\b\b\b\b\b\b\b\b\b\b\b\b\b\b\b\b\b\b\b\b\b\b\b\b\b\b\b\b\b\b\b\b\b\b\b\b\b\b\b\b\b\b\b\b\b\b\b\b\b\b\b\b\b\b\b\b\b\b\b\b\b\b\b\b\b\b\r10/10 [==============================] - 1s 132ms/step - loss: 0.2132 - accuracy: 1.0000\n",
            "Epoch 78/100\n",
            "10/10 [==============================] - ETA: 0s - loss: 0.2132 - accuracy: 1.0000"
          ]
        },
        {
          "output_type": "stream",
          "name": "stderr",
          "text": [
            "WARNING:tensorflow:Can save best model only with val_accuracy available, skipping.\n"
          ]
        },
        {
          "output_type": "stream",
          "name": "stdout",
          "text": [
            "\b\b\b\b\b\b\b\b\b\b\b\b\b\b\b\b\b\b\b\b\b\b\b\b\b\b\b\b\b\b\b\b\b\b\b\b\b\b\b\b\b\b\b\b\b\b\b\b\b\b\b\b\b\b\b\b\b\b\b\b\b\b\b\b\b\b\b\b\b\b\b\b\b\b\b\b\b\b\b\b\b\b\r10/10 [==============================] - 1s 94ms/step - loss: 0.2132 - accuracy: 1.0000\n",
            "Epoch 79/100\n",
            "10/10 [==============================] - ETA: 0s - loss: 0.2132 - accuracy: 1.0000"
          ]
        },
        {
          "output_type": "stream",
          "name": "stderr",
          "text": [
            "WARNING:tensorflow:Can save best model only with val_accuracy available, skipping.\n"
          ]
        },
        {
          "output_type": "stream",
          "name": "stdout",
          "text": [
            "\b\b\b\b\b\b\b\b\b\b\b\b\b\b\b\b\b\b\b\b\b\b\b\b\b\b\b\b\b\b\b\b\b\b\b\b\b\b\b\b\b\b\b\b\b\b\b\b\b\b\b\b\b\b\b\b\b\b\b\b\b\b\b\b\b\b\b\b\b\b\b\b\b\b\b\b\b\b\b\b\b\b\r10/10 [==============================] - 1s 84ms/step - loss: 0.2132 - accuracy: 1.0000\n",
            "Epoch 80/100\n",
            " 9/10 [==========================>...] - ETA: 0s - loss: 0.2133 - accuracy: 1.0000"
          ]
        },
        {
          "output_type": "stream",
          "name": "stderr",
          "text": [
            "WARNING:tensorflow:Can save best model only with val_accuracy available, skipping.\n"
          ]
        },
        {
          "output_type": "stream",
          "name": "stdout",
          "text": [
            "\b\b\b\b\b\b\b\b\b\b\b\b\b\b\b\b\b\b\b\b\b\b\b\b\b\b\b\b\b\b\b\b\b\b\b\b\b\b\b\b\b\b\b\b\b\b\b\b\b\b\b\b\b\b\b\b\b\b\b\b\b\b\b\b\b\b\b\b\b\b\b\b\b\b\b\b\b\b\b\b\b\b\r10/10 [==============================] - 0s 46ms/step - loss: 0.2132 - accuracy: 1.0000\n",
            "Epoch 81/100\n",
            "10/10 [==============================] - ETA: 0s - loss: 0.2132 - accuracy: 1.0000"
          ]
        },
        {
          "output_type": "stream",
          "name": "stderr",
          "text": [
            "WARNING:tensorflow:Can save best model only with val_accuracy available, skipping.\n"
          ]
        },
        {
          "output_type": "stream",
          "name": "stdout",
          "text": [
            "\b\b\b\b\b\b\b\b\b\b\b\b\b\b\b\b\b\b\b\b\b\b\b\b\b\b\b\b\b\b\b\b\b\b\b\b\b\b\b\b\b\b\b\b\b\b\b\b\b\b\b\b\b\b\b\b\b\b\b\b\b\b\b\b\b\b\b\b\b\b\b\b\b\b\b\b\b\b\b\b\b\b\r10/10 [==============================] - 0s 48ms/step - loss: 0.2132 - accuracy: 1.0000\n",
            "Epoch 82/100\n",
            " 9/10 [==========================>...] - ETA: 0s - loss: 0.2132 - accuracy: 1.0000"
          ]
        },
        {
          "output_type": "stream",
          "name": "stderr",
          "text": [
            "WARNING:tensorflow:Can save best model only with val_accuracy available, skipping.\n"
          ]
        },
        {
          "output_type": "stream",
          "name": "stdout",
          "text": [
            "\b\b\b\b\b\b\b\b\b\b\b\b\b\b\b\b\b\b\b\b\b\b\b\b\b\b\b\b\b\b\b\b\b\b\b\b\b\b\b\b\b\b\b\b\b\b\b\b\b\b\b\b\b\b\b\b\b\b\b\b\b\b\b\b\b\b\b\b\b\b\b\b\b\b\b\b\b\b\b\b\b\b\r10/10 [==============================] - 0s 48ms/step - loss: 0.2132 - accuracy: 1.0000\n",
            "Epoch 83/100\n",
            " 9/10 [==========================>...] - ETA: 0s - loss: 0.2131 - accuracy: 1.0000"
          ]
        },
        {
          "output_type": "stream",
          "name": "stderr",
          "text": [
            "WARNING:tensorflow:Can save best model only with val_accuracy available, skipping.\n"
          ]
        },
        {
          "output_type": "stream",
          "name": "stdout",
          "text": [
            "\b\b\b\b\b\b\b\b\b\b\b\b\b\b\b\b\b\b\b\b\b\b\b\b\b\b\b\b\b\b\b\b\b\b\b\b\b\b\b\b\b\b\b\b\b\b\b\b\b\b\b\b\b\b\b\b\b\b\b\b\b\b\b\b\b\b\b\b\b\b\b\b\b\b\b\b\b\b\b\b\b\b\r10/10 [==============================] - 0s 48ms/step - loss: 0.2132 - accuracy: 1.0000\n",
            "Epoch 84/100\n",
            " 9/10 [==========================>...] - ETA: 0s - loss: 0.2132 - accuracy: 1.0000"
          ]
        },
        {
          "output_type": "stream",
          "name": "stderr",
          "text": [
            "WARNING:tensorflow:Can save best model only with val_accuracy available, skipping.\n"
          ]
        },
        {
          "output_type": "stream",
          "name": "stdout",
          "text": [
            "\b\b\b\b\b\b\b\b\b\b\b\b\b\b\b\b\b\b\b\b\b\b\b\b\b\b\b\b\b\b\b\b\b\b\b\b\b\b\b\b\b\b\b\b\b\b\b\b\b\b\b\b\b\b\b\b\b\b\b\b\b\b\b\b\b\b\b\b\b\b\b\b\b\b\b\b\b\b\b\b\b\b\r10/10 [==============================] - 0s 47ms/step - loss: 0.2132 - accuracy: 1.0000\n",
            "Epoch 85/100\n",
            " 9/10 [==========================>...] - ETA: 0s - loss: 0.2131 - accuracy: 1.0000"
          ]
        },
        {
          "output_type": "stream",
          "name": "stderr",
          "text": [
            "WARNING:tensorflow:Can save best model only with val_accuracy available, skipping.\n"
          ]
        },
        {
          "output_type": "stream",
          "name": "stdout",
          "text": [
            "\b\b\b\b\b\b\b\b\b\b\b\b\b\b\b\b\b\b\b\b\b\b\b\b\b\b\b\b\b\b\b\b\b\b\b\b\b\b\b\b\b\b\b\b\b\b\b\b\b\b\b\b\b\b\b\b\b\b\b\b\b\b\b\b\b\b\b\b\b\b\b\b\b\b\b\b\b\b\b\b\b\b\r10/10 [==============================] - 0s 50ms/step - loss: 0.2132 - accuracy: 1.0000\n",
            "Epoch 86/100\n",
            "10/10 [==============================] - ETA: 0s - loss: 0.2132 - accuracy: 1.0000"
          ]
        },
        {
          "output_type": "stream",
          "name": "stderr",
          "text": [
            "WARNING:tensorflow:Can save best model only with val_accuracy available, skipping.\n"
          ]
        },
        {
          "output_type": "stream",
          "name": "stdout",
          "text": [
            "\b\b\b\b\b\b\b\b\b\b\b\b\b\b\b\b\b\b\b\b\b\b\b\b\b\b\b\b\b\b\b\b\b\b\b\b\b\b\b\b\b\b\b\b\b\b\b\b\b\b\b\b\b\b\b\b\b\b\b\b\b\b\b\b\b\b\b\b\b\b\b\b\b\b\b\b\b\b\b\b\b\b\r10/10 [==============================] - 0s 49ms/step - loss: 0.2132 - accuracy: 1.0000\n",
            "Epoch 87/100\n",
            "10/10 [==============================] - ETA: 0s - loss: 0.2132 - accuracy: 1.0000"
          ]
        },
        {
          "output_type": "stream",
          "name": "stderr",
          "text": [
            "WARNING:tensorflow:Can save best model only with val_accuracy available, skipping.\n"
          ]
        },
        {
          "output_type": "stream",
          "name": "stdout",
          "text": [
            "\b\b\b\b\b\b\b\b\b\b\b\b\b\b\b\b\b\b\b\b\b\b\b\b\b\b\b\b\b\b\b\b\b\b\b\b\b\b\b\b\b\b\b\b\b\b\b\b\b\b\b\b\b\b\b\b\b\b\b\b\b\b\b\b\b\b\b\b\b\b\b\b\b\b\b\b\b\b\b\b\b\b\r10/10 [==============================] - 0s 49ms/step - loss: 0.2132 - accuracy: 1.0000\n",
            "Epoch 88/100\n",
            "10/10 [==============================] - ETA: 0s - loss: 0.2131 - accuracy: 1.0000"
          ]
        },
        {
          "output_type": "stream",
          "name": "stderr",
          "text": [
            "WARNING:tensorflow:Can save best model only with val_accuracy available, skipping.\n"
          ]
        },
        {
          "output_type": "stream",
          "name": "stdout",
          "text": [
            "\b\b\b\b\b\b\b\b\b\b\b\b\b\b\b\b\b\b\b\b\b\b\b\b\b\b\b\b\b\b\b\b\b\b\b\b\b\b\b\b\b\b\b\b\b\b\b\b\b\b\b\b\b\b\b\b\b\b\b\b\b\b\b\b\b\b\b\b\b\b\b\b\b\b\b\b\b\b\b\b\b\b\r10/10 [==============================] - 1s 65ms/step - loss: 0.2131 - accuracy: 1.0000\n",
            "Epoch 89/100\n",
            "10/10 [==============================] - ETA: 0s - loss: 0.2131 - accuracy: 1.0000"
          ]
        },
        {
          "output_type": "stream",
          "name": "stderr",
          "text": [
            "WARNING:tensorflow:Can save best model only with val_accuracy available, skipping.\n"
          ]
        },
        {
          "output_type": "stream",
          "name": "stdout",
          "text": [
            "\b\b\b\b\b\b\b\b\b\b\b\b\b\b\b\b\b\b\b\b\b\b\b\b\b\b\b\b\b\b\b\b\b\b\b\b\b\b\b\b\b\b\b\b\b\b\b\b\b\b\b\b\b\b\b\b\b\b\b\b\b\b\b\b\b\b\b\b\b\b\b\b\b\b\b\b\b\b\b\b\b\b\r10/10 [==============================] - 1s 89ms/step - loss: 0.2131 - accuracy: 1.0000\n",
            "Epoch 90/100\n",
            "10/10 [==============================] - ETA: 0s - loss: 0.2131 - accuracy: 1.0000"
          ]
        },
        {
          "output_type": "stream",
          "name": "stderr",
          "text": [
            "WARNING:tensorflow:Can save best model only with val_accuracy available, skipping.\n"
          ]
        },
        {
          "output_type": "stream",
          "name": "stdout",
          "text": [
            "\b\b\b\b\b\b\b\b\b\b\b\b\b\b\b\b\b\b\b\b\b\b\b\b\b\b\b\b\b\b\b\b\b\b\b\b\b\b\b\b\b\b\b\b\b\b\b\b\b\b\b\b\b\b\b\b\b\b\b\b\b\b\b\b\b\b\b\b\b\b\b\b\b\b\b\b\b\b\b\b\b\b\r10/10 [==============================] - 1s 79ms/step - loss: 0.2131 - accuracy: 1.0000\n",
            "Epoch 91/100\n",
            "10/10 [==============================] - ETA: 0s - loss: 0.2131 - accuracy: 1.0000"
          ]
        },
        {
          "output_type": "stream",
          "name": "stderr",
          "text": [
            "WARNING:tensorflow:Can save best model only with val_accuracy available, skipping.\n"
          ]
        },
        {
          "output_type": "stream",
          "name": "stdout",
          "text": [
            "\b\b\b\b\b\b\b\b\b\b\b\b\b\b\b\b\b\b\b\b\b\b\b\b\b\b\b\b\b\b\b\b\b\b\b\b\b\b\b\b\b\b\b\b\b\b\b\b\b\b\b\b\b\b\b\b\b\b\b\b\b\b\b\b\b\b\b\b\b\b\b\b\b\b\b\b\b\b\b\b\b\b\r10/10 [==============================] - 1s 87ms/step - loss: 0.2131 - accuracy: 1.0000\n",
            "Epoch 92/100\n",
            "10/10 [==============================] - ETA: 0s - loss: 0.2132 - accuracy: 1.0000"
          ]
        },
        {
          "output_type": "stream",
          "name": "stderr",
          "text": [
            "WARNING:tensorflow:Can save best model only with val_accuracy available, skipping.\n"
          ]
        },
        {
          "output_type": "stream",
          "name": "stdout",
          "text": [
            "\b\b\b\b\b\b\b\b\b\b\b\b\b\b\b\b\b\b\b\b\b\b\b\b\b\b\b\b\b\b\b\b\b\b\b\b\b\b\b\b\b\b\b\b\b\b\b\b\b\b\b\b\b\b\b\b\b\b\b\b\b\b\b\b\b\b\b\b\b\b\b\b\b\b\b\b\b\b\b\b\b\b\r10/10 [==============================] - 1s 95ms/step - loss: 0.2132 - accuracy: 1.0000\n",
            "Epoch 93/100\n",
            "10/10 [==============================] - ETA: 0s - loss: 0.2132 - accuracy: 1.0000"
          ]
        },
        {
          "output_type": "stream",
          "name": "stderr",
          "text": [
            "WARNING:tensorflow:Can save best model only with val_accuracy available, skipping.\n"
          ]
        },
        {
          "output_type": "stream",
          "name": "stdout",
          "text": [
            "\b\b\b\b\b\b\b\b\b\b\b\b\b\b\b\b\b\b\b\b\b\b\b\b\b\b\b\b\b\b\b\b\b\b\b\b\b\b\b\b\b\b\b\b\b\b\b\b\b\b\b\b\b\b\b\b\b\b\b\b\b\b\b\b\b\b\b\b\b\b\b\b\b\b\b\b\b\b\b\b\b\b\r10/10 [==============================] - 1s 100ms/step - loss: 0.2132 - accuracy: 1.0000\n",
            "Epoch 94/100\n",
            "10/10 [==============================] - ETA: 0s - loss: 0.2131 - accuracy: 1.0000"
          ]
        },
        {
          "output_type": "stream",
          "name": "stderr",
          "text": [
            "WARNING:tensorflow:Can save best model only with val_accuracy available, skipping.\n"
          ]
        },
        {
          "output_type": "stream",
          "name": "stdout",
          "text": [
            "\b\b\b\b\b\b\b\b\b\b\b\b\b\b\b\b\b\b\b\b\b\b\b\b\b\b\b\b\b\b\b\b\b\b\b\b\b\b\b\b\b\b\b\b\b\b\b\b\b\b\b\b\b\b\b\b\b\b\b\b\b\b\b\b\b\b\b\b\b\b\b\b\b\b\b\b\b\b\b\b\b\b\r10/10 [==============================] - 1s 94ms/step - loss: 0.2131 - accuracy: 1.0000\n",
            "Epoch 95/100\n",
            "10/10 [==============================] - ETA: 0s - loss: 0.2131 - accuracy: 1.0000"
          ]
        },
        {
          "output_type": "stream",
          "name": "stderr",
          "text": [
            "WARNING:tensorflow:Can save best model only with val_accuracy available, skipping.\n"
          ]
        },
        {
          "output_type": "stream",
          "name": "stdout",
          "text": [
            "\b\b\b\b\b\b\b\b\b\b\b\b\b\b\b\b\b\b\b\b\b\b\b\b\b\b\b\b\b\b\b\b\b\b\b\b\b\b\b\b\b\b\b\b\b\b\b\b\b\b\b\b\b\b\b\b\b\b\b\b\b\b\b\b\b\b\b\b\b\b\b\b\b\b\b\b\b\b\b\b\b\b\r10/10 [==============================] - 1s 138ms/step - loss: 0.2131 - accuracy: 1.0000\n",
            "Epoch 96/100\n",
            "10/10 [==============================] - ETA: 0s - loss: 0.2131 - accuracy: 1.0000"
          ]
        },
        {
          "output_type": "stream",
          "name": "stderr",
          "text": [
            "WARNING:tensorflow:Can save best model only with val_accuracy available, skipping.\n"
          ]
        },
        {
          "output_type": "stream",
          "name": "stdout",
          "text": [
            "\b\b\b\b\b\b\b\b\b\b\b\b\b\b\b\b\b\b\b\b\b\b\b\b\b\b\b\b\b\b\b\b\b\b\b\b\b\b\b\b\b\b\b\b\b\b\b\b\b\b\b\b\b\b\b\b\b\b\b\b\b\b\b\b\b\b\b\b\b\b\b\b\b\b\b\b\b\b\b\b\b\b\r10/10 [==============================] - 2s 194ms/step - loss: 0.2131 - accuracy: 1.0000\n",
            "Epoch 97/100\n",
            "10/10 [==============================] - ETA: 0s - loss: 0.2131 - accuracy: 1.0000"
          ]
        },
        {
          "output_type": "stream",
          "name": "stderr",
          "text": [
            "WARNING:tensorflow:Can save best model only with val_accuracy available, skipping.\n"
          ]
        },
        {
          "output_type": "stream",
          "name": "stdout",
          "text": [
            "\b\b\b\b\b\b\b\b\b\b\b\b\b\b\b\b\b\b\b\b\b\b\b\b\b\b\b\b\b\b\b\b\b\b\b\b\b\b\b\b\b\b\b\b\b\b\b\b\b\b\b\b\b\b\b\b\b\b\b\b\b\b\b\b\b\b\b\b\b\b\b\b\b\b\b\b\b\b\b\b\b\b\r10/10 [==============================] - 2s 192ms/step - loss: 0.2131 - accuracy: 1.0000\n",
            "Epoch 98/100\n",
            "10/10 [==============================] - ETA: 0s - loss: 0.2131 - accuracy: 1.0000"
          ]
        },
        {
          "output_type": "stream",
          "name": "stderr",
          "text": [
            "WARNING:tensorflow:Can save best model only with val_accuracy available, skipping.\n"
          ]
        },
        {
          "output_type": "stream",
          "name": "stdout",
          "text": [
            "\b\b\b\b\b\b\b\b\b\b\b\b\b\b\b\b\b\b\b\b\b\b\b\b\b\b\b\b\b\b\b\b\b\b\b\b\b\b\b\b\b\b\b\b\b\b\b\b\b\b\b\b\b\b\b\b\b\b\b\b\b\b\b\b\b\b\b\b\b\b\b\b\b\b\b\b\b\b\b\b\b\b\r10/10 [==============================] - 1s 101ms/step - loss: 0.2131 - accuracy: 1.0000\n",
            "Epoch 99/100\n",
            " 9/10 [==========================>...] - ETA: 0s - loss: 0.2131 - accuracy: 1.0000"
          ]
        },
        {
          "output_type": "stream",
          "name": "stderr",
          "text": [
            "WARNING:tensorflow:Can save best model only with val_accuracy available, skipping.\n"
          ]
        },
        {
          "output_type": "stream",
          "name": "stdout",
          "text": [
            "\b\b\b\b\b\b\b\b\b\b\b\b\b\b\b\b\b\b\b\b\b\b\b\b\b\b\b\b\b\b\b\b\b\b\b\b\b\b\b\b\b\b\b\b\b\b\b\b\b\b\b\b\b\b\b\b\b\b\b\b\b\b\b\b\b\b\b\b\b\b\b\b\b\b\b\b\b\b\b\b\b\b\r10/10 [==============================] - 0s 49ms/step - loss: 0.2131 - accuracy: 1.0000\n",
            "Epoch 100/100\n",
            "10/10 [==============================] - ETA: 0s - loss: 0.2131 - accuracy: 1.0000"
          ]
        },
        {
          "output_type": "stream",
          "name": "stderr",
          "text": [
            "WARNING:tensorflow:Can save best model only with val_accuracy available, skipping.\n"
          ]
        },
        {
          "output_type": "stream",
          "name": "stdout",
          "text": [
            "\b\b\b\b\b\b\b\b\b\b\b\b\b\b\b\b\b\b\b\b\b\b\b\b\b\b\b\b\b\b\b\b\b\b\b\b\b\b\b\b\b\b\b\b\b\b\b\b\b\b\b\b\b\b\b\b\b\b\b\b\b\b\b\b\b\b\b\b\b\b\b\b\b\b\b\b\b\b\b\b\b\b\r10/10 [==============================] - 0s 48ms/step - loss: 0.2131 - accuracy: 1.0000\n",
            "Epoch 1/100\n"
          ]
        },
        {
          "output_type": "stream",
          "name": "stderr",
          "text": [
            "WARNING:tensorflow:AutoGraph could not transform <function Model.make_train_function.<locals>.train_function at 0x7c6936006a70> and will run it as-is.\n",
            "Cause: Unable to locate the source code of <function Model.make_train_function.<locals>.train_function at 0x7c6936006a70>. Note that functions defined in certain environments, like the interactive Python shell, do not expose their source code. If that is the case, you should define them in a .py source file. If you are certain the code is graph-compatible, wrap the call using @tf.autograph.experimental.do_not_convert. Original error: could not get source code\n",
            "To silence this warning, decorate the function with @tf.autograph.experimental.do_not_convert\n"
          ]
        },
        {
          "output_type": "stream",
          "name": "stdout",
          "text": [
            "WARNING: AutoGraph could not transform <function Model.make_train_function.<locals>.train_function at 0x7c6936006a70> and will run it as-is.\n",
            "Cause: Unable to locate the source code of <function Model.make_train_function.<locals>.train_function at 0x7c6936006a70>. Note that functions defined in certain environments, like the interactive Python shell, do not expose their source code. If that is the case, you should define them in a .py source file. If you are certain the code is graph-compatible, wrap the call using @tf.autograph.experimental.do_not_convert. Original error: could not get source code\n",
            "To silence this warning, decorate the function with @tf.autograph.experimental.do_not_convert\n",
            "13/13 [==============================] - ETA: 0s - loss: 1.2167 - accuracy: 0.4149"
          ]
        },
        {
          "output_type": "stream",
          "name": "stderr",
          "text": [
            "WARNING:tensorflow:Can save best model only with val_accuracy available, skipping.\n"
          ]
        },
        {
          "output_type": "stream",
          "name": "stdout",
          "text": [
            "\b\b\b\b\b\b\b\b\b\b\b\b\b\b\b\b\b\b\b\b\b\b\b\b\b\b\b\b\b\b\b\b\b\b\b\b\b\b\b\b\b\b\b\b\b\b\b\b\b\b\b\b\b\b\b\b\b\b\b\b\b\b\b\b\b\b\b\b\b\b\b\b\b\b\b\b\b\b\b\b\b\b\r13/13 [==============================] - 45s 76ms/step - loss: 1.2167 - accuracy: 0.4149\n",
            "Epoch 2/100\n",
            "13/13 [==============================] - ETA: 0s - loss: 1.0845 - accuracy: 0.5385"
          ]
        },
        {
          "output_type": "stream",
          "name": "stderr",
          "text": [
            "WARNING:tensorflow:Can save best model only with val_accuracy available, skipping.\n"
          ]
        },
        {
          "output_type": "stream",
          "name": "stdout",
          "text": [
            "\b\b\b\b\b\b\b\b\b\b\b\b\b\b\b\b\b\b\b\b\b\b\b\b\b\b\b\b\b\b\b\b\b\b\b\b\b\b\b\b\b\b\b\b\b\b\b\b\b\b\b\b\b\b\b\b\b\b\b\b\b\b\b\b\b\b\b\b\b\b\b\b\b\b\b\b\b\b\b\b\b\b\r13/13 [==============================] - 1s 84ms/step - loss: 1.0845 - accuracy: 0.5385\n",
            "Epoch 3/100\n",
            "13/13 [==============================] - ETA: 0s - loss: 0.9259 - accuracy: 0.6947"
          ]
        },
        {
          "output_type": "stream",
          "name": "stderr",
          "text": [
            "WARNING:tensorflow:Can save best model only with val_accuracy available, skipping.\n"
          ]
        },
        {
          "output_type": "stream",
          "name": "stdout",
          "text": [
            "\b\b\b\b\b\b\b\b\b\b\b\b\b\b\b\b\b\b\b\b\b\b\b\b\b\b\b\b\b\b\b\b\b\b\b\b\b\b\b\b\b\b\b\b\b\b\b\b\b\b\b\b\b\b\b\b\b\b\b\b\b\b\b\b\b\b\b\b\b\b\b\b\b\b\b\b\b\b\b\b\b\b\r13/13 [==============================] - 1s 83ms/step - loss: 0.9259 - accuracy: 0.6947\n",
            "Epoch 4/100\n",
            "13/13 [==============================] - ETA: 0s - loss: 0.7240 - accuracy: 0.8091"
          ]
        },
        {
          "output_type": "stream",
          "name": "stderr",
          "text": [
            "WARNING:tensorflow:Can save best model only with val_accuracy available, skipping.\n"
          ]
        },
        {
          "output_type": "stream",
          "name": "stdout",
          "text": [
            "\b\b\b\b\b\b\b\b\b\b\b\b\b\b\b\b\b\b\b\b\b\b\b\b\b\b\b\b\b\b\b\b\b\b\b\b\b\b\b\b\b\b\b\b\b\b\b\b\b\b\b\b\b\b\b\b\b\b\b\b\b\b\b\b\b\b\b\b\b\b\b\b\b\b\b\b\b\b\b\b\b\b\r13/13 [==============================] - 1s 81ms/step - loss: 0.7240 - accuracy: 0.8091\n",
            "Epoch 5/100\n",
            "12/13 [==========================>...] - ETA: 0s - loss: 0.5803 - accuracy: 0.8919"
          ]
        },
        {
          "output_type": "stream",
          "name": "stderr",
          "text": [
            "WARNING:tensorflow:Can save best model only with val_accuracy available, skipping.\n"
          ]
        },
        {
          "output_type": "stream",
          "name": "stdout",
          "text": [
            "\b\b\b\b\b\b\b\b\b\b\b\b\b\b\b\b\b\b\b\b\b\b\b\b\b\b\b\b\b\b\b\b\b\b\b\b\b\b\b\b\b\b\b\b\b\b\b\b\b\b\b\b\b\b\b\b\b\b\b\b\b\b\b\b\b\b\b\b\b\b\b\b\b\b\b\b\b\b\b\b\b\b\r13/13 [==============================] - 1s 50ms/step - loss: 0.5773 - accuracy: 0.8938\n",
            "Epoch 6/100\n",
            "12/13 [==========================>...] - ETA: 0s - loss: 0.5163 - accuracy: 0.9235"
          ]
        },
        {
          "output_type": "stream",
          "name": "stderr",
          "text": [
            "WARNING:tensorflow:Can save best model only with val_accuracy available, skipping.\n"
          ]
        },
        {
          "output_type": "stream",
          "name": "stdout",
          "text": [
            "\b\b\b\b\b\b\b\b\b\b\b\b\b\b\b\b\b\b\b\b\b\b\b\b\b\b\b\b\b\b\b\b\b\b\b\b\b\b\b\b\b\b\b\b\b\b\b\b\b\b\b\b\b\b\b\b\b\b\b\b\b\b\b\b\b\b\b\b\b\b\b\b\b\b\b\b\b\b\b\b\b\b\r13/13 [==============================] - 1s 50ms/step - loss: 0.5124 - accuracy: 0.9248\n",
            "Epoch 7/100\n",
            "13/13 [==============================] - ETA: 0s - loss: 0.4677 - accuracy: 0.9489"
          ]
        },
        {
          "output_type": "stream",
          "name": "stderr",
          "text": [
            "WARNING:tensorflow:Can save best model only with val_accuracy available, skipping.\n"
          ]
        },
        {
          "output_type": "stream",
          "name": "stdout",
          "text": [
            "\b\b\b\b\b\b\b\b\b\b\b\b\b\b\b\b\b\b\b\b\b\b\b\b\b\b\b\b\b\b\b\b\b\b\b\b\b\b\b\b\b\b\b\b\b\b\b\b\b\b\b\b\b\b\b\b\b\b\b\b\b\b\b\b\b\b\b\b\b\b\b\b\b\b\b\b\b\b\b\b\b\b\r13/13 [==============================] - 1s 49ms/step - loss: 0.4677 - accuracy: 0.9489\n",
            "Epoch 8/100\n",
            "12/13 [==========================>...] - ETA: 0s - loss: 0.4449 - accuracy: 0.9616"
          ]
        },
        {
          "output_type": "stream",
          "name": "stderr",
          "text": [
            "WARNING:tensorflow:Can save best model only with val_accuracy available, skipping.\n"
          ]
        },
        {
          "output_type": "stream",
          "name": "stdout",
          "text": [
            "\b\b\b\b\b\b\b\b\b\b\b\b\b\b\b\b\b\b\b\b\b\b\b\b\b\b\b\b\b\b\b\b\b\b\b\b\b\b\b\b\b\b\b\b\b\b\b\b\b\b\b\b\b\b\b\b\b\b\b\b\b\b\b\b\b\b\b\b\b\b\b\b\b\b\b\b\b\b\b\b\b\b\r13/13 [==============================] - 1s 47ms/step - loss: 0.4443 - accuracy: 0.9616\n",
            "Epoch 9/100\n",
            "12/13 [==========================>...] - ETA: 0s - loss: 0.4249 - accuracy: 0.9717"
          ]
        },
        {
          "output_type": "stream",
          "name": "stderr",
          "text": [
            "WARNING:tensorflow:Can save best model only with val_accuracy available, skipping.\n"
          ]
        },
        {
          "output_type": "stream",
          "name": "stdout",
          "text": [
            "\b\b\b\b\b\b\b\b\b\b\b\b\b\b\b\b\b\b\b\b\b\b\b\b\b\b\b\b\b\b\b\b\b\b\b\b\b\b\b\b\b\b\b\b\b\b\b\b\b\b\b\b\b\b\b\b\b\b\b\b\b\b\b\b\b\b\b\b\b\b\b\b\b\b\b\b\b\b\b\b\b\b\r13/13 [==============================] - 1s 48ms/step - loss: 0.4272 - accuracy: 0.9708\n",
            "Epoch 10/100\n",
            "13/13 [==============================] - ETA: 0s - loss: 0.4108 - accuracy: 0.9763"
          ]
        },
        {
          "output_type": "stream",
          "name": "stderr",
          "text": [
            "WARNING:tensorflow:Can save best model only with val_accuracy available, skipping.\n"
          ]
        },
        {
          "output_type": "stream",
          "name": "stdout",
          "text": [
            "\b\b\b\b\b\b\b\b\b\b\b\b\b\b\b\b\b\b\b\b\b\b\b\b\b\b\b\b\b\b\b\b\b\b\b\b\b\b\b\b\b\b\b\b\b\b\b\b\b\b\b\b\b\b\b\b\b\b\b\b\b\b\b\b\b\b\b\b\b\b\b\b\b\b\b\b\b\b\b\b\b\b\r13/13 [==============================] - 1s 54ms/step - loss: 0.4108 - accuracy: 0.9763\n",
            "Epoch 11/100\n",
            "12/13 [==========================>...] - ETA: 0s - loss: 0.3991 - accuracy: 0.9824"
          ]
        },
        {
          "output_type": "stream",
          "name": "stderr",
          "text": [
            "WARNING:tensorflow:Can save best model only with val_accuracy available, skipping.\n"
          ]
        },
        {
          "output_type": "stream",
          "name": "stdout",
          "text": [
            "\b\b\b\b\b\b\b\b\b\b\b\b\b\b\b\b\b\b\b\b\b\b\b\b\b\b\b\b\b\b\b\b\b\b\b\b\b\b\b\b\b\b\b\b\b\b\b\b\b\b\b\b\b\b\b\b\b\b\b\b\b\b\b\b\b\b\b\b\b\b\b\b\b\b\b\b\b\b\b\b\b\b\r13/13 [==============================] - 1s 47ms/step - loss: 0.3990 - accuracy: 0.9823\n",
            "Epoch 12/100\n",
            "13/13 [==============================] - ETA: 0s - loss: 0.3904 - accuracy: 0.9836"
          ]
        },
        {
          "output_type": "stream",
          "name": "stderr",
          "text": [
            "WARNING:tensorflow:Can save best model only with val_accuracy available, skipping.\n"
          ]
        },
        {
          "output_type": "stream",
          "name": "stdout",
          "text": [
            "\b\b\b\b\b\b\b\b\b\b\b\b\b\b\b\b\b\b\b\b\b\b\b\b\b\b\b\b\b\b\b\b\b\b\b\b\b\b\b\b\b\b\b\b\b\b\b\b\b\b\b\b\b\b\b\b\b\b\b\b\b\b\b\b\b\b\b\b\b\b\b\b\b\b\b\b\b\b\b\b\b\b\r13/13 [==============================] - 1s 51ms/step - loss: 0.3904 - accuracy: 0.9836\n",
            "Epoch 13/100\n",
            "13/13 [==============================] - ETA: 0s - loss: 0.3757 - accuracy: 0.9912"
          ]
        },
        {
          "output_type": "stream",
          "name": "stderr",
          "text": [
            "WARNING:tensorflow:Can save best model only with val_accuracy available, skipping.\n"
          ]
        },
        {
          "output_type": "stream",
          "name": "stdout",
          "text": [
            "\b\b\b\b\b\b\b\b\b\b\b\b\b\b\b\b\b\b\b\b\b\b\b\b\b\b\b\b\b\b\b\b\b\b\b\b\b\b\b\b\b\b\b\b\b\b\b\b\b\b\b\b\b\b\b\b\b\b\b\b\b\b\b\b\b\b\b\b\b\b\b\b\b\b\b\b\b\b\b\b\b\b\r13/13 [==============================] - 1s 52ms/step - loss: 0.3757 - accuracy: 0.9912\n",
            "Epoch 14/100\n",
            "13/13 [==============================] - ETA: 0s - loss: 0.3677 - accuracy: 0.9903"
          ]
        },
        {
          "output_type": "stream",
          "name": "stderr",
          "text": [
            "WARNING:tensorflow:Can save best model only with val_accuracy available, skipping.\n"
          ]
        },
        {
          "output_type": "stream",
          "name": "stdout",
          "text": [
            "\b\b\b\b\b\b\b\b\b\b\b\b\b\b\b\b\b\b\b\b\b\b\b\b\b\b\b\b\b\b\b\b\b\b\b\b\b\b\b\b\b\b\b\b\b\b\b\b\b\b\b\b\b\b\b\b\b\b\b\b\b\b\b\b\b\b\b\b\b\b\b\b\b\b\b\b\b\b\b\b\b\b\r13/13 [==============================] - 1s 55ms/step - loss: 0.3677 - accuracy: 0.9903\n",
            "Epoch 15/100\n",
            "12/13 [==========================>...] - ETA: 0s - loss: 0.3608 - accuracy: 0.9928"
          ]
        },
        {
          "output_type": "stream",
          "name": "stderr",
          "text": [
            "WARNING:tensorflow:Can save best model only with val_accuracy available, skipping.\n"
          ]
        },
        {
          "output_type": "stream",
          "name": "stdout",
          "text": [
            "\b\b\b\b\b\b\b\b\b\b\b\b\b\b\b\b\b\b\b\b\b\b\b\b\b\b\b\b\b\b\b\b\b\b\b\b\b\b\b\b\b\b\b\b\b\b\b\b\b\b\b\b\b\b\b\b\b\b\b\b\b\b\b\b\b\b\b\b\b\b\b\b\b\b\b\b\b\b\b\b\b\b\r13/13 [==============================] - 1s 51ms/step - loss: 0.3607 - accuracy: 0.9927\n",
            "Epoch 16/100\n",
            "13/13 [==============================] - ETA: 0s - loss: 0.3539 - accuracy: 0.9967"
          ]
        },
        {
          "output_type": "stream",
          "name": "stderr",
          "text": [
            "WARNING:tensorflow:Can save best model only with val_accuracy available, skipping.\n"
          ]
        },
        {
          "output_type": "stream",
          "name": "stdout",
          "text": [
            "\b\b\b\b\b\b\b\b\b\b\b\b\b\b\b\b\b\b\b\b\b\b\b\b\b\b\b\b\b\b\b\b\b\b\b\b\b\b\b\b\b\b\b\b\b\b\b\b\b\b\b\b\b\b\b\b\b\b\b\b\b\b\b\b\b\b\b\b\b\b\b\b\b\b\b\b\b\b\b\b\b\b\r13/13 [==============================] - 1s 53ms/step - loss: 0.3539 - accuracy: 0.9967\n",
            "Epoch 17/100\n",
            "13/13 [==============================] - ETA: 0s - loss: 0.3524 - accuracy: 0.9954"
          ]
        },
        {
          "output_type": "stream",
          "name": "stderr",
          "text": [
            "WARNING:tensorflow:Can save best model only with val_accuracy available, skipping.\n"
          ]
        },
        {
          "output_type": "stream",
          "name": "stdout",
          "text": [
            "\b\b\b\b\b\b\b\b\b\b\b\b\b\b\b\b\b\b\b\b\b\b\b\b\b\b\b\b\b\b\b\b\b\b\b\b\b\b\b\b\b\b\b\b\b\b\b\b\b\b\b\b\b\b\b\b\b\b\b\b\b\b\b\b\b\b\b\b\b\b\b\b\b\b\b\b\b\b\b\b\b\b\r13/13 [==============================] - 1s 52ms/step - loss: 0.3524 - accuracy: 0.9954\n",
            "Epoch 18/100\n",
            "13/13 [==============================] - ETA: 0s - loss: 0.3501 - accuracy: 0.9957"
          ]
        },
        {
          "output_type": "stream",
          "name": "stderr",
          "text": [
            "WARNING:tensorflow:Can save best model only with val_accuracy available, skipping.\n"
          ]
        },
        {
          "output_type": "stream",
          "name": "stdout",
          "text": [
            "\b\b\b\b\b\b\b\b\b\b\b\b\b\b\b\b\b\b\b\b\b\b\b\b\b\b\b\b\b\b\b\b\b\b\b\b\b\b\b\b\b\b\b\b\b\b\b\b\b\b\b\b\b\b\b\b\b\b\b\b\b\b\b\b\b\b\b\b\b\b\b\b\b\b\b\b\b\b\b\b\b\b\r13/13 [==============================] - 1s 56ms/step - loss: 0.3501 - accuracy: 0.9957\n",
            "Epoch 19/100\n",
            "13/13 [==============================] - ETA: 0s - loss: 0.3477 - accuracy: 0.9973"
          ]
        },
        {
          "output_type": "stream",
          "name": "stderr",
          "text": [
            "WARNING:tensorflow:Can save best model only with val_accuracy available, skipping.\n"
          ]
        },
        {
          "output_type": "stream",
          "name": "stdout",
          "text": [
            "\b\b\b\b\b\b\b\b\b\b\b\b\b\b\b\b\b\b\b\b\b\b\b\b\b\b\b\b\b\b\b\b\b\b\b\b\b\b\b\b\b\b\b\b\b\b\b\b\b\b\b\b\b\b\b\b\b\b\b\b\b\b\b\b\b\b\b\b\b\b\b\b\b\b\b\b\b\b\b\b\b\b\r13/13 [==============================] - 1s 52ms/step - loss: 0.3477 - accuracy: 0.9973\n",
            "Epoch 20/100\n",
            "13/13 [==============================] - ETA: 0s - loss: 0.3429 - accuracy: 0.9985"
          ]
        },
        {
          "output_type": "stream",
          "name": "stderr",
          "text": [
            "WARNING:tensorflow:Can save best model only with val_accuracy available, skipping.\n"
          ]
        },
        {
          "output_type": "stream",
          "name": "stdout",
          "text": [
            "\b\b\b\b\b\b\b\b\b\b\b\b\b\b\b\b\b\b\b\b\b\b\b\b\b\b\b\b\b\b\b\b\b\b\b\b\b\b\b\b\b\b\b\b\b\b\b\b\b\b\b\b\b\b\b\b\b\b\b\b\b\b\b\b\b\b\b\b\b\b\b\b\b\b\b\b\b\b\b\b\b\b\r13/13 [==============================] - 1s 74ms/step - loss: 0.3429 - accuracy: 0.9985\n",
            "Epoch 21/100\n",
            "13/13 [==============================] - ETA: 0s - loss: 0.3447 - accuracy: 0.9963"
          ]
        },
        {
          "output_type": "stream",
          "name": "stderr",
          "text": [
            "WARNING:tensorflow:Can save best model only with val_accuracy available, skipping.\n"
          ]
        },
        {
          "output_type": "stream",
          "name": "stdout",
          "text": [
            "\b\b\b\b\b\b\b\b\b\b\b\b\b\b\b\b\b\b\b\b\b\b\b\b\b\b\b\b\b\b\b\b\b\b\b\b\b\b\b\b\b\b\b\b\b\b\b\b\b\b\b\b\b\b\b\b\b\b\b\b\b\b\b\b\b\b\b\b\b\b\b\b\b\b\b\b\b\b\b\b\b\b\r13/13 [==============================] - 1s 77ms/step - loss: 0.3447 - accuracy: 0.9963\n",
            "Epoch 22/100\n",
            "13/13 [==============================] - ETA: 0s - loss: 0.3445 - accuracy: 0.9960"
          ]
        },
        {
          "output_type": "stream",
          "name": "stderr",
          "text": [
            "WARNING:tensorflow:Can save best model only with val_accuracy available, skipping.\n"
          ]
        },
        {
          "output_type": "stream",
          "name": "stdout",
          "text": [
            "\b\b\b\b\b\b\b\b\b\b\b\b\b\b\b\b\b\b\b\b\b\b\b\b\b\b\b\b\b\b\b\b\b\b\b\b\b\b\b\b\b\b\b\b\b\b\b\b\b\b\b\b\b\b\b\b\b\b\b\b\b\b\b\b\b\b\b\b\b\b\b\b\b\b\b\b\b\b\b\b\b\b\r13/13 [==============================] - 1s 71ms/step - loss: 0.3445 - accuracy: 0.9960\n",
            "Epoch 23/100\n",
            "13/13 [==============================] - ETA: 0s - loss: 0.3446 - accuracy: 0.9960"
          ]
        },
        {
          "output_type": "stream",
          "name": "stderr",
          "text": [
            "WARNING:tensorflow:Can save best model only with val_accuracy available, skipping.\n"
          ]
        },
        {
          "output_type": "stream",
          "name": "stdout",
          "text": [
            "\b\b\b\b\b\b\b\b\b\b\b\b\b\b\b\b\b\b\b\b\b\b\b\b\b\b\b\b\b\b\b\b\b\b\b\b\b\b\b\b\b\b\b\b\b\b\b\b\b\b\b\b\b\b\b\b\b\b\b\b\b\b\b\b\b\b\b\b\b\b\b\b\b\b\b\b\b\b\b\b\b\b\r13/13 [==============================] - 1s 83ms/step - loss: 0.3446 - accuracy: 0.9960\n",
            "Epoch 24/100\n",
            "13/13 [==============================] - ETA: 0s - loss: 0.3391 - accuracy: 0.9991"
          ]
        },
        {
          "output_type": "stream",
          "name": "stderr",
          "text": [
            "WARNING:tensorflow:Can save best model only with val_accuracy available, skipping.\n"
          ]
        },
        {
          "output_type": "stream",
          "name": "stdout",
          "text": [
            "\b\b\b\b\b\b\b\b\b\b\b\b\b\b\b\b\b\b\b\b\b\b\b\b\b\b\b\b\b\b\b\b\b\b\b\b\b\b\b\b\b\b\b\b\b\b\b\b\b\b\b\b\b\b\b\b\b\b\b\b\b\b\b\b\b\b\b\b\b\b\b\b\b\b\b\b\b\b\b\b\b\b\r13/13 [==============================] - 1s 82ms/step - loss: 0.3391 - accuracy: 0.9991\n",
            "Epoch 25/100\n",
            "13/13 [==============================] - ETA: 0s - loss: 0.3398 - accuracy: 0.9973"
          ]
        },
        {
          "output_type": "stream",
          "name": "stderr",
          "text": [
            "WARNING:tensorflow:Can save best model only with val_accuracy available, skipping.\n"
          ]
        },
        {
          "output_type": "stream",
          "name": "stdout",
          "text": [
            "\b\b\b\b\b\b\b\b\b\b\b\b\b\b\b\b\b\b\b\b\b\b\b\b\b\b\b\b\b\b\b\b\b\b\b\b\b\b\b\b\b\b\b\b\b\b\b\b\b\b\b\b\b\b\b\b\b\b\b\b\b\b\b\b\b\b\b\b\b\b\b\b\b\b\b\b\b\b\b\b\b\b\r13/13 [==============================] - 1s 84ms/step - loss: 0.3398 - accuracy: 0.9973\n",
            "Epoch 26/100\n",
            "12/13 [==========================>...] - ETA: 0s - loss: 0.3363 - accuracy: 0.9984"
          ]
        },
        {
          "output_type": "stream",
          "name": "stderr",
          "text": [
            "WARNING:tensorflow:Can save best model only with val_accuracy available, skipping.\n"
          ]
        },
        {
          "output_type": "stream",
          "name": "stdout",
          "text": [
            "\b\b\b\b\b\b\b\b\b\b\b\b\b\b\b\b\b\b\b\b\b\b\b\b\b\b\b\b\b\b\b\b\b\b\b\b\b\b\b\b\b\b\b\b\b\b\b\b\b\b\b\b\b\b\b\b\b\b\b\b\b\b\b\b\b\b\b\b\b\b\b\b\b\b\b\b\b\b\b\b\b\b\r13/13 [==============================] - 1s 63ms/step - loss: 0.3363 - accuracy: 0.9985\n",
            "Epoch 27/100\n",
            "13/13 [==============================] - ETA: 0s - loss: 0.3359 - accuracy: 0.9985"
          ]
        },
        {
          "output_type": "stream",
          "name": "stderr",
          "text": [
            "WARNING:tensorflow:Can save best model only with val_accuracy available, skipping.\n"
          ]
        },
        {
          "output_type": "stream",
          "name": "stdout",
          "text": [
            "\b\b\b\b\b\b\b\b\b\b\b\b\b\b\b\b\b\b\b\b\b\b\b\b\b\b\b\b\b\b\b\b\b\b\b\b\b\b\b\b\b\b\b\b\b\b\b\b\b\b\b\b\b\b\b\b\b\b\b\b\b\b\b\b\b\b\b\b\b\b\b\b\b\b\b\b\b\b\b\b\b\b\r13/13 [==============================] - 1s 51ms/step - loss: 0.3359 - accuracy: 0.9985\n",
            "Epoch 28/100\n",
            "13/13 [==============================] - ETA: 0s - loss: 0.3355 - accuracy: 0.9985"
          ]
        },
        {
          "output_type": "stream",
          "name": "stderr",
          "text": [
            "WARNING:tensorflow:Can save best model only with val_accuracy available, skipping.\n"
          ]
        },
        {
          "output_type": "stream",
          "name": "stdout",
          "text": [
            "\b\b\b\b\b\b\b\b\b\b\b\b\b\b\b\b\b\b\b\b\b\b\b\b\b\b\b\b\b\b\b\b\b\b\b\b\b\b\b\b\b\b\b\b\b\b\b\b\b\b\b\b\b\b\b\b\b\b\b\b\b\b\b\b\b\b\b\b\b\b\b\b\b\b\b\b\b\b\b\b\b\b\r13/13 [==============================] - 1s 49ms/step - loss: 0.3355 - accuracy: 0.9985\n",
            "Epoch 29/100\n",
            "13/13 [==============================] - ETA: 0s - loss: 0.3355 - accuracy: 0.9985"
          ]
        },
        {
          "output_type": "stream",
          "name": "stderr",
          "text": [
            "WARNING:tensorflow:Can save best model only with val_accuracy available, skipping.\n"
          ]
        },
        {
          "output_type": "stream",
          "name": "stdout",
          "text": [
            "\b\b\b\b\b\b\b\b\b\b\b\b\b\b\b\b\b\b\b\b\b\b\b\b\b\b\b\b\b\b\b\b\b\b\b\b\b\b\b\b\b\b\b\b\b\b\b\b\b\b\b\b\b\b\b\b\b\b\b\b\b\b\b\b\b\b\b\b\b\b\b\b\b\b\b\b\b\b\b\b\b\b\r13/13 [==============================] - 1s 52ms/step - loss: 0.3355 - accuracy: 0.9985\n",
            "Epoch 30/100\n",
            "13/13 [==============================] - ETA: 0s - loss: 0.3353 - accuracy: 0.9985"
          ]
        },
        {
          "output_type": "stream",
          "name": "stderr",
          "text": [
            "WARNING:tensorflow:Can save best model only with val_accuracy available, skipping.\n"
          ]
        },
        {
          "output_type": "stream",
          "name": "stdout",
          "text": [
            "\b\b\b\b\b\b\b\b\b\b\b\b\b\b\b\b\b\b\b\b\b\b\b\b\b\b\b\b\b\b\b\b\b\b\b\b\b\b\b\b\b\b\b\b\b\b\b\b\b\b\b\b\b\b\b\b\b\b\b\b\b\b\b\b\b\b\b\b\b\b\b\b\b\b\b\b\b\b\b\b\b\b\r13/13 [==============================] - 1s 49ms/step - loss: 0.3353 - accuracy: 0.9985\n",
            "Epoch 31/100\n",
            "12/13 [==========================>...] - ETA: 0s - loss: 0.3345 - accuracy: 0.9990"
          ]
        },
        {
          "output_type": "stream",
          "name": "stderr",
          "text": [
            "WARNING:tensorflow:Can save best model only with val_accuracy available, skipping.\n"
          ]
        },
        {
          "output_type": "stream",
          "name": "stdout",
          "text": [
            "\b\b\b\b\b\b\b\b\b\b\b\b\b\b\b\b\b\b\b\b\b\b\b\b\b\b\b\b\b\b\b\b\b\b\b\b\b\b\b\b\b\b\b\b\b\b\b\b\b\b\b\b\b\b\b\b\b\b\b\b\b\b\b\b\b\b\b\b\b\b\b\b\b\b\b\b\b\b\b\b\b\b\r13/13 [==============================] - 1s 52ms/step - loss: 0.3343 - accuracy: 0.9991\n",
            "Epoch 32/100\n",
            "13/13 [==============================] - ETA: 0s - loss: 0.3347 - accuracy: 0.9988"
          ]
        },
        {
          "output_type": "stream",
          "name": "stderr",
          "text": [
            "WARNING:tensorflow:Can save best model only with val_accuracy available, skipping.\n"
          ]
        },
        {
          "output_type": "stream",
          "name": "stdout",
          "text": [
            "\b\b\b\b\b\b\b\b\b\b\b\b\b\b\b\b\b\b\b\b\b\b\b\b\b\b\b\b\b\b\b\b\b\b\b\b\b\b\b\b\b\b\b\b\b\b\b\b\b\b\b\b\b\b\b\b\b\b\b\b\b\b\b\b\b\b\b\b\b\b\b\b\b\b\b\b\b\b\b\b\b\b\r13/13 [==============================] - 1s 54ms/step - loss: 0.3347 - accuracy: 0.9988\n",
            "Epoch 33/100\n",
            "13/13 [==============================] - ETA: 0s - loss: 0.3320 - accuracy: 0.9997"
          ]
        },
        {
          "output_type": "stream",
          "name": "stderr",
          "text": [
            "WARNING:tensorflow:Can save best model only with val_accuracy available, skipping.\n"
          ]
        },
        {
          "output_type": "stream",
          "name": "stdout",
          "text": [
            "\b\b\b\b\b\b\b\b\b\b\b\b\b\b\b\b\b\b\b\b\b\b\b\b\b\b\b\b\b\b\b\b\b\b\b\b\b\b\b\b\b\b\b\b\b\b\b\b\b\b\b\b\b\b\b\b\b\b\b\b\b\b\b\b\b\b\b\b\b\b\b\b\b\b\b\b\b\b\b\b\b\b\r13/13 [==============================] - 1s 52ms/step - loss: 0.3320 - accuracy: 0.9997\n",
            "Epoch 34/100\n",
            "13/13 [==============================] - ETA: 0s - loss: 0.3319 - accuracy: 0.9994"
          ]
        },
        {
          "output_type": "stream",
          "name": "stderr",
          "text": [
            "WARNING:tensorflow:Can save best model only with val_accuracy available, skipping.\n"
          ]
        },
        {
          "output_type": "stream",
          "name": "stdout",
          "text": [
            "\b\b\b\b\b\b\b\b\b\b\b\b\b\b\b\b\b\b\b\b\b\b\b\b\b\b\b\b\b\b\b\b\b\b\b\b\b\b\b\b\b\b\b\b\b\b\b\b\b\b\b\b\b\b\b\b\b\b\b\b\b\b\b\b\b\b\b\b\b\b\b\b\b\b\b\b\b\b\b\b\b\b\r13/13 [==============================] - 1s 50ms/step - loss: 0.3319 - accuracy: 0.9994\n",
            "Epoch 35/100\n",
            "13/13 [==============================] - ETA: 0s - loss: 0.3310 - accuracy: 1.0000"
          ]
        },
        {
          "output_type": "stream",
          "name": "stderr",
          "text": [
            "WARNING:tensorflow:Can save best model only with val_accuracy available, skipping.\n"
          ]
        },
        {
          "output_type": "stream",
          "name": "stdout",
          "text": [
            "\b\b\b\b\b\b\b\b\b\b\b\b\b\b\b\b\b\b\b\b\b\b\b\b\b\b\b\b\b\b\b\b\b\b\b\b\b\b\b\b\b\b\b\b\b\b\b\b\b\b\b\b\b\b\b\b\b\b\b\b\b\b\b\b\b\b\b\b\b\b\b\b\b\b\b\b\b\b\b\b\b\b\r13/13 [==============================] - 1s 50ms/step - loss: 0.3310 - accuracy: 1.0000\n",
            "Epoch 36/100\n",
            "13/13 [==============================] - ETA: 0s - loss: 0.3318 - accuracy: 0.9991"
          ]
        },
        {
          "output_type": "stream",
          "name": "stderr",
          "text": [
            "WARNING:tensorflow:Can save best model only with val_accuracy available, skipping.\n"
          ]
        },
        {
          "output_type": "stream",
          "name": "stdout",
          "text": [
            "\b\b\b\b\b\b\b\b\b\b\b\b\b\b\b\b\b\b\b\b\b\b\b\b\b\b\b\b\b\b\b\b\b\b\b\b\b\b\b\b\b\b\b\b\b\b\b\b\b\b\b\b\b\b\b\b\b\b\b\b\b\b\b\b\b\b\b\b\b\b\b\b\b\b\b\b\b\b\b\b\b\b\r13/13 [==============================] - 1s 48ms/step - loss: 0.3318 - accuracy: 0.9991\n",
            "Epoch 37/100\n",
            "13/13 [==============================] - ETA: 0s - loss: 0.3322 - accuracy: 0.9994"
          ]
        },
        {
          "output_type": "stream",
          "name": "stderr",
          "text": [
            "WARNING:tensorflow:Can save best model only with val_accuracy available, skipping.\n"
          ]
        },
        {
          "output_type": "stream",
          "name": "stdout",
          "text": [
            "\b\b\b\b\b\b\b\b\b\b\b\b\b\b\b\b\b\b\b\b\b\b\b\b\b\b\b\b\b\b\b\b\b\b\b\b\b\b\b\b\b\b\b\b\b\b\b\b\b\b\b\b\b\b\b\b\b\b\b\b\b\b\b\b\b\b\b\b\b\b\b\b\b\b\b\b\b\b\b\b\b\b\r13/13 [==============================] - 1s 48ms/step - loss: 0.3322 - accuracy: 0.9994\n",
            "Epoch 38/100\n",
            "12/13 [==========================>...] - ETA: 0s - loss: 0.3319 - accuracy: 0.9987"
          ]
        },
        {
          "output_type": "stream",
          "name": "stderr",
          "text": [
            "WARNING:tensorflow:Can save best model only with val_accuracy available, skipping.\n"
          ]
        },
        {
          "output_type": "stream",
          "name": "stdout",
          "text": [
            "\b\b\b\b\b\b\b\b\b\b\b\b\b\b\b\b\b\b\b\b\b\b\b\b\b\b\b\b\b\b\b\b\b\b\b\b\b\b\b\b\b\b\b\b\b\b\b\b\b\b\b\b\b\b\b\b\b\b\b\b\b\b\b\b\b\b\b\b\b\b\b\b\b\b\b\b\b\b\b\b\b\b\r13/13 [==============================] - 1s 49ms/step - loss: 0.3319 - accuracy: 0.9988\n",
            "Epoch 39/100\n",
            "12/13 [==========================>...] - ETA: 0s - loss: 0.3319 - accuracy: 0.9990"
          ]
        },
        {
          "output_type": "stream",
          "name": "stderr",
          "text": [
            "WARNING:tensorflow:Can save best model only with val_accuracy available, skipping.\n"
          ]
        },
        {
          "output_type": "stream",
          "name": "stdout",
          "text": [
            "\b\b\b\b\b\b\b\b\b\b\b\b\b\b\b\b\b\b\b\b\b\b\b\b\b\b\b\b\b\b\b\b\b\b\b\b\b\b\b\b\b\b\b\b\b\b\b\b\b\b\b\b\b\b\b\b\b\b\b\b\b\b\b\b\b\b\b\b\b\b\b\b\b\b\b\b\b\b\b\b\b\b\r13/13 [==============================] - 1s 48ms/step - loss: 0.3319 - accuracy: 0.9991\n",
            "Epoch 40/100\n",
            "13/13 [==============================] - ETA: 0s - loss: 0.3321 - accuracy: 0.9994"
          ]
        },
        {
          "output_type": "stream",
          "name": "stderr",
          "text": [
            "WARNING:tensorflow:Can save best model only with val_accuracy available, skipping.\n"
          ]
        },
        {
          "output_type": "stream",
          "name": "stdout",
          "text": [
            "\b\b\b\b\b\b\b\b\b\b\b\b\b\b\b\b\b\b\b\b\b\b\b\b\b\b\b\b\b\b\b\b\b\b\b\b\b\b\b\b\b\b\b\b\b\b\b\b\b\b\b\b\b\b\b\b\b\b\b\b\b\b\b\b\b\b\b\b\b\b\b\b\b\b\b\b\b\b\b\b\b\b\r13/13 [==============================] - 1s 51ms/step - loss: 0.3321 - accuracy: 0.9994\n",
            "Epoch 41/100\n",
            "13/13 [==============================] - ETA: 0s - loss: 0.3302 - accuracy: 0.9994"
          ]
        },
        {
          "output_type": "stream",
          "name": "stderr",
          "text": [
            "WARNING:tensorflow:Can save best model only with val_accuracy available, skipping.\n"
          ]
        },
        {
          "output_type": "stream",
          "name": "stdout",
          "text": [
            "\b\b\b\b\b\b\b\b\b\b\b\b\b\b\b\b\b\b\b\b\b\b\b\b\b\b\b\b\b\b\b\b\b\b\b\b\b\b\b\b\b\b\b\b\b\b\b\b\b\b\b\b\b\b\b\b\b\b\b\b\b\b\b\b\b\b\b\b\b\b\b\b\b\b\b\b\b\b\b\b\b\b\r13/13 [==============================] - 1s 65ms/step - loss: 0.3302 - accuracy: 0.9994\n",
            "Epoch 42/100\n",
            "13/13 [==============================] - ETA: 0s - loss: 0.3323 - accuracy: 0.9988"
          ]
        },
        {
          "output_type": "stream",
          "name": "stderr",
          "text": [
            "WARNING:tensorflow:Can save best model only with val_accuracy available, skipping.\n"
          ]
        },
        {
          "output_type": "stream",
          "name": "stdout",
          "text": [
            "\b\b\b\b\b\b\b\b\b\b\b\b\b\b\b\b\b\b\b\b\b\b\b\b\b\b\b\b\b\b\b\b\b\b\b\b\b\b\b\b\b\b\b\b\b\b\b\b\b\b\b\b\b\b\b\b\b\b\b\b\b\b\b\b\b\b\b\b\b\b\b\b\b\b\b\b\b\b\b\b\b\b\r13/13 [==============================] - 1s 73ms/step - loss: 0.3323 - accuracy: 0.9988\n",
            "Epoch 43/100\n",
            "13/13 [==============================] - ETA: 0s - loss: 0.3329 - accuracy: 0.9985"
          ]
        },
        {
          "output_type": "stream",
          "name": "stderr",
          "text": [
            "WARNING:tensorflow:Can save best model only with val_accuracy available, skipping.\n"
          ]
        },
        {
          "output_type": "stream",
          "name": "stdout",
          "text": [
            "\b\b\b\b\b\b\b\b\b\b\b\b\b\b\b\b\b\b\b\b\b\b\b\b\b\b\b\b\b\b\b\b\b\b\b\b\b\b\b\b\b\b\b\b\b\b\b\b\b\b\b\b\b\b\b\b\b\b\b\b\b\b\b\b\b\b\b\b\b\b\b\b\b\b\b\b\b\b\b\b\b\b\r13/13 [==============================] - 1s 73ms/step - loss: 0.3329 - accuracy: 0.9985\n",
            "Epoch 44/100\n",
            "13/13 [==============================] - ETA: 0s - loss: 0.3311 - accuracy: 0.9991"
          ]
        },
        {
          "output_type": "stream",
          "name": "stderr",
          "text": [
            "WARNING:tensorflow:Can save best model only with val_accuracy available, skipping.\n"
          ]
        },
        {
          "output_type": "stream",
          "name": "stdout",
          "text": [
            "\b\b\b\b\b\b\b\b\b\b\b\b\b\b\b\b\b\b\b\b\b\b\b\b\b\b\b\b\b\b\b\b\b\b\b\b\b\b\b\b\b\b\b\b\b\b\b\b\b\b\b\b\b\b\b\b\b\b\b\b\b\b\b\b\b\b\b\b\b\b\b\b\b\b\b\b\b\b\b\b\b\b\r13/13 [==============================] - 1s 73ms/step - loss: 0.3311 - accuracy: 0.9991\n",
            "Epoch 45/100\n",
            "13/13 [==============================] - ETA: 0s - loss: 0.3293 - accuracy: 1.0000"
          ]
        },
        {
          "output_type": "stream",
          "name": "stderr",
          "text": [
            "WARNING:tensorflow:Can save best model only with val_accuracy available, skipping.\n"
          ]
        },
        {
          "output_type": "stream",
          "name": "stdout",
          "text": [
            "\b\b\b\b\b\b\b\b\b\b\b\b\b\b\b\b\b\b\b\b\b\b\b\b\b\b\b\b\b\b\b\b\b\b\b\b\b\b\b\b\b\b\b\b\b\b\b\b\b\b\b\b\b\b\b\b\b\b\b\b\b\b\b\b\b\b\b\b\b\b\b\b\b\b\b\b\b\b\b\b\b\b\r13/13 [==============================] - 1s 80ms/step - loss: 0.3293 - accuracy: 1.0000\n",
            "Epoch 46/100\n",
            "13/13 [==============================] - ETA: 0s - loss: 0.3293 - accuracy: 1.0000"
          ]
        },
        {
          "output_type": "stream",
          "name": "stderr",
          "text": [
            "WARNING:tensorflow:Can save best model only with val_accuracy available, skipping.\n"
          ]
        },
        {
          "output_type": "stream",
          "name": "stdout",
          "text": [
            "\b\b\b\b\b\b\b\b\b\b\b\b\b\b\b\b\b\b\b\b\b\b\b\b\b\b\b\b\b\b\b\b\b\b\b\b\b\b\b\b\b\b\b\b\b\b\b\b\b\b\b\b\b\b\b\b\b\b\b\b\b\b\b\b\b\b\b\b\b\b\b\b\b\b\b\b\b\b\b\b\b\b\r13/13 [==============================] - 2s 134ms/step - loss: 0.3293 - accuracy: 1.0000\n",
            "Epoch 47/100\n",
            "13/13 [==============================] - ETA: 0s - loss: 0.3287 - accuracy: 1.0000"
          ]
        },
        {
          "output_type": "stream",
          "name": "stderr",
          "text": [
            "WARNING:tensorflow:Can save best model only with val_accuracy available, skipping.\n"
          ]
        },
        {
          "output_type": "stream",
          "name": "stdout",
          "text": [
            "\b\b\b\b\b\b\b\b\b\b\b\b\b\b\b\b\b\b\b\b\b\b\b\b\b\b\b\b\b\b\b\b\b\b\b\b\b\b\b\b\b\b\b\b\b\b\b\b\b\b\b\b\b\b\b\b\b\b\b\b\b\b\b\b\b\b\b\b\b\b\b\b\b\b\b\b\b\b\b\b\b\b\r13/13 [==============================] - 1s 73ms/step - loss: 0.3287 - accuracy: 1.0000\n",
            "Epoch 48/100\n",
            "12/13 [==========================>...] - ETA: 0s - loss: 0.3288 - accuracy: 0.9997"
          ]
        },
        {
          "output_type": "stream",
          "name": "stderr",
          "text": [
            "WARNING:tensorflow:Can save best model only with val_accuracy available, skipping.\n"
          ]
        },
        {
          "output_type": "stream",
          "name": "stdout",
          "text": [
            "\b\b\b\b\b\b\b\b\b\b\b\b\b\b\b\b\b\b\b\b\b\b\b\b\b\b\b\b\b\b\b\b\b\b\b\b\b\b\b\b\b\b\b\b\b\b\b\b\b\b\b\b\b\b\b\b\b\b\b\b\b\b\b\b\b\b\b\b\b\b\b\b\b\b\b\b\b\b\b\b\b\b\r13/13 [==============================] - 1s 49ms/step - loss: 0.3288 - accuracy: 0.9997\n",
            "Epoch 49/100\n",
            "13/13 [==============================] - ETA: 0s - loss: 0.3285 - accuracy: 1.0000"
          ]
        },
        {
          "output_type": "stream",
          "name": "stderr",
          "text": [
            "WARNING:tensorflow:Can save best model only with val_accuracy available, skipping.\n"
          ]
        },
        {
          "output_type": "stream",
          "name": "stdout",
          "text": [
            "\b\b\b\b\b\b\b\b\b\b\b\b\b\b\b\b\b\b\b\b\b\b\b\b\b\b\b\b\b\b\b\b\b\b\b\b\b\b\b\b\b\b\b\b\b\b\b\b\b\b\b\b\b\b\b\b\b\b\b\b\b\b\b\b\b\b\b\b\b\b\b\b\b\b\b\b\b\b\b\b\b\b\r13/13 [==============================] - 1s 50ms/step - loss: 0.3285 - accuracy: 1.0000\n",
            "Epoch 50/100\n",
            "13/13 [==============================] - ETA: 0s - loss: 0.3288 - accuracy: 0.9997"
          ]
        },
        {
          "output_type": "stream",
          "name": "stderr",
          "text": [
            "WARNING:tensorflow:Can save best model only with val_accuracy available, skipping.\n"
          ]
        },
        {
          "output_type": "stream",
          "name": "stdout",
          "text": [
            "\b\b\b\b\b\b\b\b\b\b\b\b\b\b\b\b\b\b\b\b\b\b\b\b\b\b\b\b\b\b\b\b\b\b\b\b\b\b\b\b\b\b\b\b\b\b\b\b\b\b\b\b\b\b\b\b\b\b\b\b\b\b\b\b\b\b\b\b\b\b\b\b\b\b\b\b\b\b\b\b\b\b\r13/13 [==============================] - 1s 50ms/step - loss: 0.3288 - accuracy: 0.9997\n",
            "Epoch 51/100\n",
            "13/13 [==============================] - ETA: 0s - loss: 0.3297 - accuracy: 0.9997"
          ]
        },
        {
          "output_type": "stream",
          "name": "stderr",
          "text": [
            "WARNING:tensorflow:Can save best model only with val_accuracy available, skipping.\n"
          ]
        },
        {
          "output_type": "stream",
          "name": "stdout",
          "text": [
            "\b\b\b\b\b\b\b\b\b\b\b\b\b\b\b\b\b\b\b\b\b\b\b\b\b\b\b\b\b\b\b\b\b\b\b\b\b\b\b\b\b\b\b\b\b\b\b\b\b\b\b\b\b\b\b\b\b\b\b\b\b\b\b\b\b\b\b\b\b\b\b\b\b\b\b\b\b\b\b\b\b\b\r13/13 [==============================] - 1s 50ms/step - loss: 0.3297 - accuracy: 0.9997\n",
            "Epoch 52/100\n",
            "13/13 [==============================] - ETA: 0s - loss: 0.3287 - accuracy: 0.9997"
          ]
        },
        {
          "output_type": "stream",
          "name": "stderr",
          "text": [
            "WARNING:tensorflow:Can save best model only with val_accuracy available, skipping.\n"
          ]
        },
        {
          "output_type": "stream",
          "name": "stdout",
          "text": [
            "\b\b\b\b\b\b\b\b\b\b\b\b\b\b\b\b\b\b\b\b\b\b\b\b\b\b\b\b\b\b\b\b\b\b\b\b\b\b\b\b\b\b\b\b\b\b\b\b\b\b\b\b\b\b\b\b\b\b\b\b\b\b\b\b\b\b\b\b\b\b\b\b\b\b\b\b\b\b\b\b\b\b\r13/13 [==============================] - 1s 50ms/step - loss: 0.3287 - accuracy: 0.9997\n",
            "Epoch 53/100\n",
            "13/13 [==============================] - ETA: 0s - loss: 0.3302 - accuracy: 0.9988"
          ]
        },
        {
          "output_type": "stream",
          "name": "stderr",
          "text": [
            "WARNING:tensorflow:Can save best model only with val_accuracy available, skipping.\n"
          ]
        },
        {
          "output_type": "stream",
          "name": "stdout",
          "text": [
            "\b\b\b\b\b\b\b\b\b\b\b\b\b\b\b\b\b\b\b\b\b\b\b\b\b\b\b\b\b\b\b\b\b\b\b\b\b\b\b\b\b\b\b\b\b\b\b\b\b\b\b\b\b\b\b\b\b\b\b\b\b\b\b\b\b\b\b\b\b\b\b\b\b\b\b\b\b\b\b\b\b\b\r13/13 [==============================] - 1s 53ms/step - loss: 0.3302 - accuracy: 0.9988\n",
            "Epoch 54/100\n",
            "12/13 [==========================>...] - ETA: 0s - loss: 0.3292 - accuracy: 0.9993"
          ]
        },
        {
          "output_type": "stream",
          "name": "stderr",
          "text": [
            "WARNING:tensorflow:Can save best model only with val_accuracy available, skipping.\n"
          ]
        },
        {
          "output_type": "stream",
          "name": "stdout",
          "text": [
            "\b\b\b\b\b\b\b\b\b\b\b\b\b\b\b\b\b\b\b\b\b\b\b\b\b\b\b\b\b\b\b\b\b\b\b\b\b\b\b\b\b\b\b\b\b\b\b\b\b\b\b\b\b\b\b\b\b\b\b\b\b\b\b\b\b\b\b\b\b\b\b\b\b\b\b\b\b\b\b\b\b\b\r13/13 [==============================] - 1s 48ms/step - loss: 0.3291 - accuracy: 0.9994\n",
            "Epoch 55/100\n",
            "12/13 [==========================>...] - ETA: 0s - loss: 0.3290 - accuracy: 1.0000"
          ]
        },
        {
          "output_type": "stream",
          "name": "stderr",
          "text": [
            "WARNING:tensorflow:Can save best model only with val_accuracy available, skipping.\n"
          ]
        },
        {
          "output_type": "stream",
          "name": "stdout",
          "text": [
            "\b\b\b\b\b\b\b\b\b\b\b\b\b\b\b\b\b\b\b\b\b\b\b\b\b\b\b\b\b\b\b\b\b\b\b\b\b\b\b\b\b\b\b\b\b\b\b\b\b\b\b\b\b\b\b\b\b\b\b\b\b\b\b\b\b\b\b\b\b\b\b\b\b\b\b\b\b\b\b\b\b\b\r13/13 [==============================] - 1s 49ms/step - loss: 0.3291 - accuracy: 1.0000\n",
            "Epoch 56/100\n",
            "12/13 [==========================>...] - ETA: 0s - loss: 0.3300 - accuracy: 0.9990"
          ]
        },
        {
          "output_type": "stream",
          "name": "stderr",
          "text": [
            "WARNING:tensorflow:Can save best model only with val_accuracy available, skipping.\n"
          ]
        },
        {
          "output_type": "stream",
          "name": "stdout",
          "text": [
            "\b\b\b\b\b\b\b\b\b\b\b\b\b\b\b\b\b\b\b\b\b\b\b\b\b\b\b\b\b\b\b\b\b\b\b\b\b\b\b\b\b\b\b\b\b\b\b\b\b\b\b\b\b\b\b\b\b\b\b\b\b\b\b\b\b\b\b\b\b\b\b\b\b\b\b\b\b\b\b\b\b\b\r13/13 [==============================] - 1s 49ms/step - loss: 0.3298 - accuracy: 0.9991\n",
            "Epoch 57/100\n",
            "13/13 [==============================] - ETA: 0s - loss: 0.3296 - accuracy: 0.9997"
          ]
        },
        {
          "output_type": "stream",
          "name": "stderr",
          "text": [
            "WARNING:tensorflow:Can save best model only with val_accuracy available, skipping.\n"
          ]
        },
        {
          "output_type": "stream",
          "name": "stdout",
          "text": [
            "\b\b\b\b\b\b\b\b\b\b\b\b\b\b\b\b\b\b\b\b\b\b\b\b\b\b\b\b\b\b\b\b\b\b\b\b\b\b\b\b\b\b\b\b\b\b\b\b\b\b\b\b\b\b\b\b\b\b\b\b\b\b\b\b\b\b\b\b\b\b\b\b\b\b\b\b\b\b\b\b\b\b\r13/13 [==============================] - 1s 48ms/step - loss: 0.3296 - accuracy: 0.9997\n",
            "Epoch 58/100\n",
            "13/13 [==============================] - ETA: 0s - loss: 0.3289 - accuracy: 0.9994"
          ]
        },
        {
          "output_type": "stream",
          "name": "stderr",
          "text": [
            "WARNING:tensorflow:Can save best model only with val_accuracy available, skipping.\n"
          ]
        },
        {
          "output_type": "stream",
          "name": "stdout",
          "text": [
            "\b\b\b\b\b\b\b\b\b\b\b\b\b\b\b\b\b\b\b\b\b\b\b\b\b\b\b\b\b\b\b\b\b\b\b\b\b\b\b\b\b\b\b\b\b\b\b\b\b\b\b\b\b\b\b\b\b\b\b\b\b\b\b\b\b\b\b\b\b\b\b\b\b\b\b\b\b\b\b\b\b\b\r13/13 [==============================] - 1s 48ms/step - loss: 0.3289 - accuracy: 0.9994\n",
            "Epoch 59/100\n",
            "13/13 [==============================] - ETA: 0s - loss: 0.3281 - accuracy: 1.0000"
          ]
        },
        {
          "output_type": "stream",
          "name": "stderr",
          "text": [
            "WARNING:tensorflow:Can save best model only with val_accuracy available, skipping.\n"
          ]
        },
        {
          "output_type": "stream",
          "name": "stdout",
          "text": [
            "\b\b\b\b\b\b\b\b\b\b\b\b\b\b\b\b\b\b\b\b\b\b\b\b\b\b\b\b\b\b\b\b\b\b\b\b\b\b\b\b\b\b\b\b\b\b\b\b\b\b\b\b\b\b\b\b\b\b\b\b\b\b\b\b\b\b\b\b\b\b\b\b\b\b\b\b\b\b\b\b\b\b\r13/13 [==============================] - 1s 55ms/step - loss: 0.3281 - accuracy: 1.0000\n",
            "Epoch 60/100\n",
            "13/13 [==============================] - ETA: 0s - loss: 0.3285 - accuracy: 0.9997"
          ]
        },
        {
          "output_type": "stream",
          "name": "stderr",
          "text": [
            "WARNING:tensorflow:Can save best model only with val_accuracy available, skipping.\n"
          ]
        },
        {
          "output_type": "stream",
          "name": "stdout",
          "text": [
            "\b\b\b\b\b\b\b\b\b\b\b\b\b\b\b\b\b\b\b\b\b\b\b\b\b\b\b\b\b\b\b\b\b\b\b\b\b\b\b\b\b\b\b\b\b\b\b\b\b\b\b\b\b\b\b\b\b\b\b\b\b\b\b\b\b\b\b\b\b\b\b\b\b\b\b\b\b\b\b\b\b\b\r13/13 [==============================] - 1s 49ms/step - loss: 0.3285 - accuracy: 0.9997\n",
            "Epoch 61/100\n",
            "12/13 [==========================>...] - ETA: 0s - loss: 0.3279 - accuracy: 1.0000"
          ]
        },
        {
          "output_type": "stream",
          "name": "stderr",
          "text": [
            "WARNING:tensorflow:Can save best model only with val_accuracy available, skipping.\n"
          ]
        },
        {
          "output_type": "stream",
          "name": "stdout",
          "text": [
            "\b\b\b\b\b\b\b\b\b\b\b\b\b\b\b\b\b\b\b\b\b\b\b\b\b\b\b\b\b\b\b\b\b\b\b\b\b\b\b\b\b\b\b\b\b\b\b\b\b\b\b\b\b\b\b\b\b\b\b\b\b\b\b\b\b\b\b\b\b\b\b\b\b\b\b\b\b\b\b\b\b\b\r13/13 [==============================] - 1s 47ms/step - loss: 0.3280 - accuracy: 1.0000\n",
            "Epoch 62/100\n",
            "13/13 [==============================] - ETA: 0s - loss: 0.3286 - accuracy: 0.9994"
          ]
        },
        {
          "output_type": "stream",
          "name": "stderr",
          "text": [
            "WARNING:tensorflow:Can save best model only with val_accuracy available, skipping.\n"
          ]
        },
        {
          "output_type": "stream",
          "name": "stdout",
          "text": [
            "\b\b\b\b\b\b\b\b\b\b\b\b\b\b\b\b\b\b\b\b\b\b\b\b\b\b\b\b\b\b\b\b\b\b\b\b\b\b\b\b\b\b\b\b\b\b\b\b\b\b\b\b\b\b\b\b\b\b\b\b\b\b\b\b\b\b\b\b\b\b\b\b\b\b\b\b\b\b\b\b\b\b\r13/13 [==============================] - 1s 58ms/step - loss: 0.3286 - accuracy: 0.9994\n",
            "Epoch 63/100\n",
            "13/13 [==============================] - ETA: 0s - loss: 0.3278 - accuracy: 1.0000"
          ]
        },
        {
          "output_type": "stream",
          "name": "stderr",
          "text": [
            "WARNING:tensorflow:Can save best model only with val_accuracy available, skipping.\n"
          ]
        },
        {
          "output_type": "stream",
          "name": "stdout",
          "text": [
            "\b\b\b\b\b\b\b\b\b\b\b\b\b\b\b\b\b\b\b\b\b\b\b\b\b\b\b\b\b\b\b\b\b\b\b\b\b\b\b\b\b\b\b\b\b\b\b\b\b\b\b\b\b\b\b\b\b\b\b\b\b\b\b\b\b\b\b\b\b\b\b\b\b\b\b\b\b\b\b\b\b\b\r13/13 [==============================] - 1s 72ms/step - loss: 0.3278 - accuracy: 1.0000\n",
            "Epoch 64/100\n",
            "13/13 [==============================] - ETA: 0s - loss: 0.3277 - accuracy: 1.0000"
          ]
        },
        {
          "output_type": "stream",
          "name": "stderr",
          "text": [
            "WARNING:tensorflow:Can save best model only with val_accuracy available, skipping.\n"
          ]
        },
        {
          "output_type": "stream",
          "name": "stdout",
          "text": [
            "\b\b\b\b\b\b\b\b\b\b\b\b\b\b\b\b\b\b\b\b\b\b\b\b\b\b\b\b\b\b\b\b\b\b\b\b\b\b\b\b\b\b\b\b\b\b\b\b\b\b\b\b\b\b\b\b\b\b\b\b\b\b\b\b\b\b\b\b\b\b\b\b\b\b\b\b\b\b\b\b\b\b\r13/13 [==============================] - 1s 78ms/step - loss: 0.3277 - accuracy: 1.0000\n",
            "Epoch 65/100\n",
            "13/13 [==============================] - ETA: 0s - loss: 0.3304 - accuracy: 0.9988"
          ]
        },
        {
          "output_type": "stream",
          "name": "stderr",
          "text": [
            "WARNING:tensorflow:Can save best model only with val_accuracy available, skipping.\n"
          ]
        },
        {
          "output_type": "stream",
          "name": "stdout",
          "text": [
            "\b\b\b\b\b\b\b\b\b\b\b\b\b\b\b\b\b\b\b\b\b\b\b\b\b\b\b\b\b\b\b\b\b\b\b\b\b\b\b\b\b\b\b\b\b\b\b\b\b\b\b\b\b\b\b\b\b\b\b\b\b\b\b\b\b\b\b\b\b\b\b\b\b\b\b\b\b\b\b\b\b\b\r13/13 [==============================] - 1s 75ms/step - loss: 0.3304 - accuracy: 0.9988\n",
            "Epoch 66/100\n",
            "13/13 [==============================] - ETA: 0s - loss: 0.3299 - accuracy: 0.9988"
          ]
        },
        {
          "output_type": "stream",
          "name": "stderr",
          "text": [
            "WARNING:tensorflow:Can save best model only with val_accuracy available, skipping.\n"
          ]
        },
        {
          "output_type": "stream",
          "name": "stdout",
          "text": [
            "\b\b\b\b\b\b\b\b\b\b\b\b\b\b\b\b\b\b\b\b\b\b\b\b\b\b\b\b\b\b\b\b\b\b\b\b\b\b\b\b\b\b\b\b\b\b\b\b\b\b\b\b\b\b\b\b\b\b\b\b\b\b\b\b\b\b\b\b\b\b\b\b\b\b\b\b\b\b\b\b\b\b\r13/13 [==============================] - 1s 80ms/step - loss: 0.3299 - accuracy: 0.9988\n",
            "Epoch 67/100\n",
            "13/13 [==============================] - ETA: 0s - loss: 0.3281 - accuracy: 1.0000"
          ]
        },
        {
          "output_type": "stream",
          "name": "stderr",
          "text": [
            "WARNING:tensorflow:Can save best model only with val_accuracy available, skipping.\n"
          ]
        },
        {
          "output_type": "stream",
          "name": "stdout",
          "text": [
            "\b\b\b\b\b\b\b\b\b\b\b\b\b\b\b\b\b\b\b\b\b\b\b\b\b\b\b\b\b\b\b\b\b\b\b\b\b\b\b\b\b\b\b\b\b\b\b\b\b\b\b\b\b\b\b\b\b\b\b\b\b\b\b\b\b\b\b\b\b\b\b\b\b\b\b\b\b\b\b\b\b\b\r13/13 [==============================] - 1s 81ms/step - loss: 0.3281 - accuracy: 1.0000\n",
            "Epoch 68/100\n",
            "13/13 [==============================] - ETA: 0s - loss: 0.3283 - accuracy: 0.9997"
          ]
        },
        {
          "output_type": "stream",
          "name": "stderr",
          "text": [
            "WARNING:tensorflow:Can save best model only with val_accuracy available, skipping.\n"
          ]
        },
        {
          "output_type": "stream",
          "name": "stdout",
          "text": [
            "\b\b\b\b\b\b\b\b\b\b\b\b\b\b\b\b\b\b\b\b\b\b\b\b\b\b\b\b\b\b\b\b\b\b\b\b\b\b\b\b\b\b\b\b\b\b\b\b\b\b\b\b\b\b\b\b\b\b\b\b\b\b\b\b\b\b\b\b\b\b\b\b\b\b\b\b\b\b\b\b\b\b\r13/13 [==============================] - 1s 79ms/step - loss: 0.3283 - accuracy: 0.9997\n",
            "Epoch 69/100\n",
            "12/13 [==========================>...] - ETA: 0s - loss: 0.3291 - accuracy: 0.9997"
          ]
        },
        {
          "output_type": "stream",
          "name": "stderr",
          "text": [
            "WARNING:tensorflow:Can save best model only with val_accuracy available, skipping.\n"
          ]
        },
        {
          "output_type": "stream",
          "name": "stdout",
          "text": [
            "\b\b\b\b\b\b\b\b\b\b\b\b\b\b\b\b\b\b\b\b\b\b\b\b\b\b\b\b\b\b\b\b\b\b\b\b\b\b\b\b\b\b\b\b\b\b\b\b\b\b\b\b\b\b\b\b\b\b\b\b\b\b\b\b\b\b\b\b\b\b\b\b\b\b\b\b\b\b\b\b\b\b\r13/13 [==============================] - 1s 59ms/step - loss: 0.3290 - accuracy: 0.9997\n",
            "Epoch 70/100\n",
            "13/13 [==============================] - ETA: 0s - loss: 0.3283 - accuracy: 1.0000"
          ]
        },
        {
          "output_type": "stream",
          "name": "stderr",
          "text": [
            "WARNING:tensorflow:Can save best model only with val_accuracy available, skipping.\n"
          ]
        },
        {
          "output_type": "stream",
          "name": "stdout",
          "text": [
            "\b\b\b\b\b\b\b\b\b\b\b\b\b\b\b\b\b\b\b\b\b\b\b\b\b\b\b\b\b\b\b\b\b\b\b\b\b\b\b\b\b\b\b\b\b\b\b\b\b\b\b\b\b\b\b\b\b\b\b\b\b\b\b\b\b\b\b\b\b\b\b\b\b\b\b\b\b\b\b\b\b\b\r13/13 [==============================] - 1s 50ms/step - loss: 0.3283 - accuracy: 1.0000\n",
            "Epoch 71/100\n",
            "12/13 [==========================>...] - ETA: 0s - loss: 0.3283 - accuracy: 0.9997"
          ]
        },
        {
          "output_type": "stream",
          "name": "stderr",
          "text": [
            "WARNING:tensorflow:Can save best model only with val_accuracy available, skipping.\n"
          ]
        },
        {
          "output_type": "stream",
          "name": "stdout",
          "text": [
            "\b\b\b\b\b\b\b\b\b\b\b\b\b\b\b\b\b\b\b\b\b\b\b\b\b\b\b\b\b\b\b\b\b\b\b\b\b\b\b\b\b\b\b\b\b\b\b\b\b\b\b\b\b\b\b\b\b\b\b\b\b\b\b\b\b\b\b\b\b\b\b\b\b\b\b\b\b\b\b\b\b\b\r13/13 [==============================] - 1s 48ms/step - loss: 0.3282 - accuracy: 0.9997\n",
            "Epoch 72/100\n",
            "13/13 [==============================] - ETA: 0s - loss: 0.3283 - accuracy: 1.0000"
          ]
        },
        {
          "output_type": "stream",
          "name": "stderr",
          "text": [
            "WARNING:tensorflow:Can save best model only with val_accuracy available, skipping.\n"
          ]
        },
        {
          "output_type": "stream",
          "name": "stdout",
          "text": [
            "\b\b\b\b\b\b\b\b\b\b\b\b\b\b\b\b\b\b\b\b\b\b\b\b\b\b\b\b\b\b\b\b\b\b\b\b\b\b\b\b\b\b\b\b\b\b\b\b\b\b\b\b\b\b\b\b\b\b\b\b\b\b\b\b\b\b\b\b\b\b\b\b\b\b\b\b\b\b\b\b\b\b\r13/13 [==============================] - 1s 50ms/step - loss: 0.3283 - accuracy: 1.0000\n",
            "Epoch 73/100\n",
            "12/13 [==========================>...] - ETA: 0s - loss: 0.3289 - accuracy: 0.9993"
          ]
        },
        {
          "output_type": "stream",
          "name": "stderr",
          "text": [
            "WARNING:tensorflow:Can save best model only with val_accuracy available, skipping.\n"
          ]
        },
        {
          "output_type": "stream",
          "name": "stdout",
          "text": [
            "\b\b\b\b\b\b\b\b\b\b\b\b\b\b\b\b\b\b\b\b\b\b\b\b\b\b\b\b\b\b\b\b\b\b\b\b\b\b\b\b\b\b\b\b\b\b\b\b\b\b\b\b\b\b\b\b\b\b\b\b\b\b\b\b\b\b\b\b\b\b\b\b\b\b\b\b\b\b\b\b\b\b\r13/13 [==============================] - 1s 50ms/step - loss: 0.3292 - accuracy: 0.9994\n",
            "Epoch 74/100\n",
            "12/13 [==========================>...] - ETA: 0s - loss: 0.3284 - accuracy: 0.9997"
          ]
        },
        {
          "output_type": "stream",
          "name": "stderr",
          "text": [
            "WARNING:tensorflow:Can save best model only with val_accuracy available, skipping.\n"
          ]
        },
        {
          "output_type": "stream",
          "name": "stdout",
          "text": [
            "\b\b\b\b\b\b\b\b\b\b\b\b\b\b\b\b\b\b\b\b\b\b\b\b\b\b\b\b\b\b\b\b\b\b\b\b\b\b\b\b\b\b\b\b\b\b\b\b\b\b\b\b\b\b\b\b\b\b\b\b\b\b\b\b\b\b\b\b\b\b\b\b\b\b\b\b\b\b\b\b\b\b\r13/13 [==============================] - 1s 49ms/step - loss: 0.3283 - accuracy: 0.9997\n",
            "Epoch 75/100\n",
            "13/13 [==============================] - ETA: 0s - loss: 0.3291 - accuracy: 0.9991"
          ]
        },
        {
          "output_type": "stream",
          "name": "stderr",
          "text": [
            "WARNING:tensorflow:Can save best model only with val_accuracy available, skipping.\n"
          ]
        },
        {
          "output_type": "stream",
          "name": "stdout",
          "text": [
            "\b\b\b\b\b\b\b\b\b\b\b\b\b\b\b\b\b\b\b\b\b\b\b\b\b\b\b\b\b\b\b\b\b\b\b\b\b\b\b\b\b\b\b\b\b\b\b\b\b\b\b\b\b\b\b\b\b\b\b\b\b\b\b\b\b\b\b\b\b\b\b\b\b\b\b\b\b\b\b\b\b\b\r13/13 [==============================] - 1s 49ms/step - loss: 0.3291 - accuracy: 0.9991\n",
            "Epoch 76/100\n",
            "13/13 [==============================] - ETA: 0s - loss: 0.3295 - accuracy: 0.9997"
          ]
        },
        {
          "output_type": "stream",
          "name": "stderr",
          "text": [
            "WARNING:tensorflow:Can save best model only with val_accuracy available, skipping.\n"
          ]
        },
        {
          "output_type": "stream",
          "name": "stdout",
          "text": [
            "\b\b\b\b\b\b\b\b\b\b\b\b\b\b\b\b\b\b\b\b\b\b\b\b\b\b\b\b\b\b\b\b\b\b\b\b\b\b\b\b\b\b\b\b\b\b\b\b\b\b\b\b\b\b\b\b\b\b\b\b\b\b\b\b\b\b\b\b\b\b\b\b\b\b\b\b\b\b\b\b\b\b\r13/13 [==============================] - 1s 52ms/step - loss: 0.3295 - accuracy: 0.9997\n",
            "Epoch 77/100\n",
            "12/13 [==========================>...] - ETA: 0s - loss: 0.3305 - accuracy: 0.9984"
          ]
        },
        {
          "output_type": "stream",
          "name": "stderr",
          "text": [
            "WARNING:tensorflow:Can save best model only with val_accuracy available, skipping.\n"
          ]
        },
        {
          "output_type": "stream",
          "name": "stdout",
          "text": [
            "\b\b\b\b\b\b\b\b\b\b\b\b\b\b\b\b\b\b\b\b\b\b\b\b\b\b\b\b\b\b\b\b\b\b\b\b\b\b\b\b\b\b\b\b\b\b\b\b\b\b\b\b\b\b\b\b\b\b\b\b\b\b\b\b\b\b\b\b\b\b\b\b\b\b\b\b\b\b\b\b\b\b\r13/13 [==============================] - 1s 48ms/step - loss: 0.3304 - accuracy: 0.9985\n",
            "Epoch 78/100\n",
            "13/13 [==============================] - ETA: 0s - loss: 0.3292 - accuracy: 0.9994"
          ]
        },
        {
          "output_type": "stream",
          "name": "stderr",
          "text": [
            "WARNING:tensorflow:Can save best model only with val_accuracy available, skipping.\n"
          ]
        },
        {
          "output_type": "stream",
          "name": "stdout",
          "text": [
            "\b\b\b\b\b\b\b\b\b\b\b\b\b\b\b\b\b\b\b\b\b\b\b\b\b\b\b\b\b\b\b\b\b\b\b\b\b\b\b\b\b\b\b\b\b\b\b\b\b\b\b\b\b\b\b\b\b\b\b\b\b\b\b\b\b\b\b\b\b\b\b\b\b\b\b\b\b\b\b\b\b\b\r13/13 [==============================] - 1s 48ms/step - loss: 0.3292 - accuracy: 0.9994\n",
            "Epoch 79/100\n",
            "13/13 [==============================] - ETA: 0s - loss: 0.3297 - accuracy: 0.9994"
          ]
        },
        {
          "output_type": "stream",
          "name": "stderr",
          "text": [
            "WARNING:tensorflow:Can save best model only with val_accuracy available, skipping.\n"
          ]
        },
        {
          "output_type": "stream",
          "name": "stdout",
          "text": [
            "\b\b\b\b\b\b\b\b\b\b\b\b\b\b\b\b\b\b\b\b\b\b\b\b\b\b\b\b\b\b\b\b\b\b\b\b\b\b\b\b\b\b\b\b\b\b\b\b\b\b\b\b\b\b\b\b\b\b\b\b\b\b\b\b\b\b\b\b\b\b\b\b\b\b\b\b\b\b\b\b\b\b\r13/13 [==============================] - 1s 51ms/step - loss: 0.3297 - accuracy: 0.9994\n",
            "Epoch 80/100\n",
            "13/13 [==============================] - ETA: 0s - loss: 0.3282 - accuracy: 0.9997"
          ]
        },
        {
          "output_type": "stream",
          "name": "stderr",
          "text": [
            "WARNING:tensorflow:Can save best model only with val_accuracy available, skipping.\n"
          ]
        },
        {
          "output_type": "stream",
          "name": "stdout",
          "text": [
            "\b\b\b\b\b\b\b\b\b\b\b\b\b\b\b\b\b\b\b\b\b\b\b\b\b\b\b\b\b\b\b\b\b\b\b\b\b\b\b\b\b\b\b\b\b\b\b\b\b\b\b\b\b\b\b\b\b\b\b\b\b\b\b\b\b\b\b\b\b\b\b\b\b\b\b\b\b\b\b\b\b\b\r13/13 [==============================] - 1s 49ms/step - loss: 0.3282 - accuracy: 0.9997\n",
            "Epoch 81/100\n",
            "13/13 [==============================] - ETA: 0s - loss: 0.3274 - accuracy: 1.0000"
          ]
        },
        {
          "output_type": "stream",
          "name": "stderr",
          "text": [
            "WARNING:tensorflow:Can save best model only with val_accuracy available, skipping.\n"
          ]
        },
        {
          "output_type": "stream",
          "name": "stdout",
          "text": [
            "\b\b\b\b\b\b\b\b\b\b\b\b\b\b\b\b\b\b\b\b\b\b\b\b\b\b\b\b\b\b\b\b\b\b\b\b\b\b\b\b\b\b\b\b\b\b\b\b\b\b\b\b\b\b\b\b\b\b\b\b\b\b\b\b\b\b\b\b\b\b\b\b\b\b\b\b\b\b\b\b\b\b\r13/13 [==============================] - 1s 51ms/step - loss: 0.3274 - accuracy: 1.0000\n",
            "Epoch 82/100\n",
            "13/13 [==============================] - ETA: 0s - loss: 0.3275 - accuracy: 0.9997"
          ]
        },
        {
          "output_type": "stream",
          "name": "stderr",
          "text": [
            "WARNING:tensorflow:Can save best model only with val_accuracy available, skipping.\n"
          ]
        },
        {
          "output_type": "stream",
          "name": "stdout",
          "text": [
            "\b\b\b\b\b\b\b\b\b\b\b\b\b\b\b\b\b\b\b\b\b\b\b\b\b\b\b\b\b\b\b\b\b\b\b\b\b\b\b\b\b\b\b\b\b\b\b\b\b\b\b\b\b\b\b\b\b\b\b\b\b\b\b\b\b\b\b\b\b\b\b\b\b\b\b\b\b\b\b\b\b\b\r13/13 [==============================] - 1s 50ms/step - loss: 0.3275 - accuracy: 0.9997\n",
            "Epoch 83/100\n",
            "12/13 [==========================>...] - ETA: 0s - loss: 0.3277 - accuracy: 1.0000"
          ]
        },
        {
          "output_type": "stream",
          "name": "stderr",
          "text": [
            "WARNING:tensorflow:Can save best model only with val_accuracy available, skipping.\n"
          ]
        },
        {
          "output_type": "stream",
          "name": "stdout",
          "text": [
            "\b\b\b\b\b\b\b\b\b\b\b\b\b\b\b\b\b\b\b\b\b\b\b\b\b\b\b\b\b\b\b\b\b\b\b\b\b\b\b\b\b\b\b\b\b\b\b\b\b\b\b\b\b\b\b\b\b\b\b\b\b\b\b\b\b\b\b\b\b\b\b\b\b\b\b\b\b\b\b\b\b\b\r13/13 [==============================] - 1s 51ms/step - loss: 0.3276 - accuracy: 1.0000\n",
            "Epoch 84/100\n",
            "13/13 [==============================] - ETA: 0s - loss: 0.3274 - accuracy: 1.0000"
          ]
        },
        {
          "output_type": "stream",
          "name": "stderr",
          "text": [
            "WARNING:tensorflow:Can save best model only with val_accuracy available, skipping.\n"
          ]
        },
        {
          "output_type": "stream",
          "name": "stdout",
          "text": [
            "\b\b\b\b\b\b\b\b\b\b\b\b\b\b\b\b\b\b\b\b\b\b\b\b\b\b\b\b\b\b\b\b\b\b\b\b\b\b\b\b\b\b\b\b\b\b\b\b\b\b\b\b\b\b\b\b\b\b\b\b\b\b\b\b\b\b\b\b\b\b\b\b\b\b\b\b\b\b\b\b\b\b\r13/13 [==============================] - 1s 71ms/step - loss: 0.3274 - accuracy: 1.0000\n",
            "Epoch 85/100\n",
            "13/13 [==============================] - ETA: 0s - loss: 0.3279 - accuracy: 0.9997"
          ]
        },
        {
          "output_type": "stream",
          "name": "stderr",
          "text": [
            "WARNING:tensorflow:Can save best model only with val_accuracy available, skipping.\n"
          ]
        },
        {
          "output_type": "stream",
          "name": "stdout",
          "text": [
            "\b\b\b\b\b\b\b\b\b\b\b\b\b\b\b\b\b\b\b\b\b\b\b\b\b\b\b\b\b\b\b\b\b\b\b\b\b\b\b\b\b\b\b\b\b\b\b\b\b\b\b\b\b\b\b\b\b\b\b\b\b\b\b\b\b\b\b\b\b\b\b\b\b\b\b\b\b\b\b\b\b\b\r13/13 [==============================] - 1s 78ms/step - loss: 0.3279 - accuracy: 0.9997\n",
            "Epoch 86/100\n",
            "13/13 [==============================] - ETA: 0s - loss: 0.3275 - accuracy: 1.0000"
          ]
        },
        {
          "output_type": "stream",
          "name": "stderr",
          "text": [
            "WARNING:tensorflow:Can save best model only with val_accuracy available, skipping.\n"
          ]
        },
        {
          "output_type": "stream",
          "name": "stdout",
          "text": [
            "\b\b\b\b\b\b\b\b\b\b\b\b\b\b\b\b\b\b\b\b\b\b\b\b\b\b\b\b\b\b\b\b\b\b\b\b\b\b\b\b\b\b\b\b\b\b\b\b\b\b\b\b\b\b\b\b\b\b\b\b\b\b\b\b\b\b\b\b\b\b\b\b\b\b\b\b\b\b\b\b\b\b\r13/13 [==============================] - 1s 72ms/step - loss: 0.3275 - accuracy: 1.0000\n",
            "Epoch 87/100\n",
            "13/13 [==============================] - ETA: 0s - loss: 0.3290 - accuracy: 0.9994"
          ]
        },
        {
          "output_type": "stream",
          "name": "stderr",
          "text": [
            "WARNING:tensorflow:Can save best model only with val_accuracy available, skipping.\n"
          ]
        },
        {
          "output_type": "stream",
          "name": "stdout",
          "text": [
            "\b\b\b\b\b\b\b\b\b\b\b\b\b\b\b\b\b\b\b\b\b\b\b\b\b\b\b\b\b\b\b\b\b\b\b\b\b\b\b\b\b\b\b\b\b\b\b\b\b\b\b\b\b\b\b\b\b\b\b\b\b\b\b\b\b\b\b\b\b\b\b\b\b\b\b\b\b\b\b\b\b\b\r13/13 [==============================] - 1s 71ms/step - loss: 0.3290 - accuracy: 0.9994\n",
            "Epoch 88/100\n",
            "13/13 [==============================] - ETA: 0s - loss: 0.3337 - accuracy: 0.9970"
          ]
        },
        {
          "output_type": "stream",
          "name": "stderr",
          "text": [
            "WARNING:tensorflow:Can save best model only with val_accuracy available, skipping.\n"
          ]
        },
        {
          "output_type": "stream",
          "name": "stdout",
          "text": [
            "\b\b\b\b\b\b\b\b\b\b\b\b\b\b\b\b\b\b\b\b\b\b\b\b\b\b\b\b\b\b\b\b\b\b\b\b\b\b\b\b\b\b\b\b\b\b\b\b\b\b\b\b\b\b\b\b\b\b\b\b\b\b\b\b\b\b\b\b\b\b\b\b\b\b\b\b\b\b\b\b\b\b\r13/13 [==============================] - 1s 79ms/step - loss: 0.3337 - accuracy: 0.9970\n",
            "Epoch 89/100\n",
            "13/13 [==============================] - ETA: 0s - loss: 0.3328 - accuracy: 0.9979"
          ]
        },
        {
          "output_type": "stream",
          "name": "stderr",
          "text": [
            "WARNING:tensorflow:Can save best model only with val_accuracy available, skipping.\n"
          ]
        },
        {
          "output_type": "stream",
          "name": "stdout",
          "text": [
            "\b\b\b\b\b\b\b\b\b\b\b\b\b\b\b\b\b\b\b\b\b\b\b\b\b\b\b\b\b\b\b\b\b\b\b\b\b\b\b\b\b\b\b\b\b\b\b\b\b\b\b\b\b\b\b\b\b\b\b\b\b\b\b\b\b\b\b\b\b\b\b\b\b\b\b\b\b\b\b\b\b\b\r13/13 [==============================] - 1s 83ms/step - loss: 0.3328 - accuracy: 0.9979\n",
            "Epoch 90/100\n",
            "13/13 [==============================] - ETA: 0s - loss: 0.3328 - accuracy: 0.9982"
          ]
        },
        {
          "output_type": "stream",
          "name": "stderr",
          "text": [
            "WARNING:tensorflow:Can save best model only with val_accuracy available, skipping.\n"
          ]
        },
        {
          "output_type": "stream",
          "name": "stdout",
          "text": [
            "\b\b\b\b\b\b\b\b\b\b\b\b\b\b\b\b\b\b\b\b\b\b\b\b\b\b\b\b\b\b\b\b\b\b\b\b\b\b\b\b\b\b\b\b\b\b\b\b\b\b\b\b\b\b\b\b\b\b\b\b\b\b\b\b\b\b\b\b\b\b\b\b\b\b\b\b\b\b\b\b\b\b\r13/13 [==============================] - 1s 80ms/step - loss: 0.3328 - accuracy: 0.9982\n",
            "Epoch 91/100\n",
            "12/13 [==========================>...] - ETA: 0s - loss: 0.3393 - accuracy: 0.9961"
          ]
        },
        {
          "output_type": "stream",
          "name": "stderr",
          "text": [
            "WARNING:tensorflow:Can save best model only with val_accuracy available, skipping.\n"
          ]
        },
        {
          "output_type": "stream",
          "name": "stdout",
          "text": [
            "\b\b\b\b\b\b\b\b\b\b\b\b\b\b\b\b\b\b\b\b\b\b\b\b\b\b\b\b\b\b\b\b\b\b\b\b\b\b\b\b\b\b\b\b\b\b\b\b\b\b\b\b\b\b\b\b\b\b\b\b\b\b\b\b\b\b\b\b\b\b\b\b\b\b\b\b\b\b\b\b\b\b\r13/13 [==============================] - 1s 52ms/step - loss: 0.3386 - accuracy: 0.9963\n",
            "Epoch 92/100\n",
            "13/13 [==============================] - ETA: 0s - loss: 0.3324 - accuracy: 0.9979"
          ]
        },
        {
          "output_type": "stream",
          "name": "stderr",
          "text": [
            "WARNING:tensorflow:Can save best model only with val_accuracy available, skipping.\n"
          ]
        },
        {
          "output_type": "stream",
          "name": "stdout",
          "text": [
            "\b\b\b\b\b\b\b\b\b\b\b\b\b\b\b\b\b\b\b\b\b\b\b\b\b\b\b\b\b\b\b\b\b\b\b\b\b\b\b\b\b\b\b\b\b\b\b\b\b\b\b\b\b\b\b\b\b\b\b\b\b\b\b\b\b\b\b\b\b\b\b\b\b\b\b\b\b\b\b\b\b\b\r13/13 [==============================] - 1s 48ms/step - loss: 0.3324 - accuracy: 0.9979\n",
            "Epoch 93/100\n",
            "13/13 [==============================] - ETA: 0s - loss: 0.3308 - accuracy: 0.9985"
          ]
        },
        {
          "output_type": "stream",
          "name": "stderr",
          "text": [
            "WARNING:tensorflow:Can save best model only with val_accuracy available, skipping.\n"
          ]
        },
        {
          "output_type": "stream",
          "name": "stdout",
          "text": [
            "\b\b\b\b\b\b\b\b\b\b\b\b\b\b\b\b\b\b\b\b\b\b\b\b\b\b\b\b\b\b\b\b\b\b\b\b\b\b\b\b\b\b\b\b\b\b\b\b\b\b\b\b\b\b\b\b\b\b\b\b\b\b\b\b\b\b\b\b\b\b\b\b\b\b\b\b\b\b\b\b\b\b\r13/13 [==============================] - 1s 48ms/step - loss: 0.3308 - accuracy: 0.9985\n",
            "Epoch 94/100\n",
            "13/13 [==============================] - ETA: 0s - loss: 0.3289 - accuracy: 0.9991"
          ]
        },
        {
          "output_type": "stream",
          "name": "stderr",
          "text": [
            "WARNING:tensorflow:Can save best model only with val_accuracy available, skipping.\n"
          ]
        },
        {
          "output_type": "stream",
          "name": "stdout",
          "text": [
            "\b\b\b\b\b\b\b\b\b\b\b\b\b\b\b\b\b\b\b\b\b\b\b\b\b\b\b\b\b\b\b\b\b\b\b\b\b\b\b\b\b\b\b\b\b\b\b\b\b\b\b\b\b\b\b\b\b\b\b\b\b\b\b\b\b\b\b\b\b\b\b\b\b\b\b\b\b\b\b\b\b\b\r13/13 [==============================] - 1s 51ms/step - loss: 0.3289 - accuracy: 0.9991\n",
            "Epoch 95/100\n",
            "13/13 [==============================] - ETA: 0s - loss: 0.3284 - accuracy: 0.9994"
          ]
        },
        {
          "output_type": "stream",
          "name": "stderr",
          "text": [
            "WARNING:tensorflow:Can save best model only with val_accuracy available, skipping.\n"
          ]
        },
        {
          "output_type": "stream",
          "name": "stdout",
          "text": [
            "\b\b\b\b\b\b\b\b\b\b\b\b\b\b\b\b\b\b\b\b\b\b\b\b\b\b\b\b\b\b\b\b\b\b\b\b\b\b\b\b\b\b\b\b\b\b\b\b\b\b\b\b\b\b\b\b\b\b\b\b\b\b\b\b\b\b\b\b\b\b\b\b\b\b\b\b\b\b\b\b\b\b\r13/13 [==============================] - 1s 54ms/step - loss: 0.3284 - accuracy: 0.9994\n",
            "Epoch 96/100\n",
            "13/13 [==============================] - ETA: 0s - loss: 0.3277 - accuracy: 0.9997"
          ]
        },
        {
          "output_type": "stream",
          "name": "stderr",
          "text": [
            "WARNING:tensorflow:Can save best model only with val_accuracy available, skipping.\n"
          ]
        },
        {
          "output_type": "stream",
          "name": "stdout",
          "text": [
            "\b\b\b\b\b\b\b\b\b\b\b\b\b\b\b\b\b\b\b\b\b\b\b\b\b\b\b\b\b\b\b\b\b\b\b\b\b\b\b\b\b\b\b\b\b\b\b\b\b\b\b\b\b\b\b\b\b\b\b\b\b\b\b\b\b\b\b\b\b\b\b\b\b\b\b\b\b\b\b\b\b\b\r13/13 [==============================] - 1s 58ms/step - loss: 0.3277 - accuracy: 0.9997\n",
            "Epoch 97/100\n",
            "13/13 [==============================] - ETA: 0s - loss: 0.3282 - accuracy: 0.9997"
          ]
        },
        {
          "output_type": "stream",
          "name": "stderr",
          "text": [
            "WARNING:tensorflow:Can save best model only with val_accuracy available, skipping.\n"
          ]
        },
        {
          "output_type": "stream",
          "name": "stdout",
          "text": [
            "\b\b\b\b\b\b\b\b\b\b\b\b\b\b\b\b\b\b\b\b\b\b\b\b\b\b\b\b\b\b\b\b\b\b\b\b\b\b\b\b\b\b\b\b\b\b\b\b\b\b\b\b\b\b\b\b\b\b\b\b\b\b\b\b\b\b\b\b\b\b\b\b\b\b\b\b\b\b\b\b\b\b\r13/13 [==============================] - 1s 52ms/step - loss: 0.3282 - accuracy: 0.9997\n",
            "Epoch 98/100\n",
            "13/13 [==============================] - ETA: 0s - loss: 0.3274 - accuracy: 1.0000"
          ]
        },
        {
          "output_type": "stream",
          "name": "stderr",
          "text": [
            "WARNING:tensorflow:Can save best model only with val_accuracy available, skipping.\n"
          ]
        },
        {
          "output_type": "stream",
          "name": "stdout",
          "text": [
            "\b\b\b\b\b\b\b\b\b\b\b\b\b\b\b\b\b\b\b\b\b\b\b\b\b\b\b\b\b\b\b\b\b\b\b\b\b\b\b\b\b\b\b\b\b\b\b\b\b\b\b\b\b\b\b\b\b\b\b\b\b\b\b\b\b\b\b\b\b\b\b\b\b\b\b\b\b\b\b\b\b\b\r13/13 [==============================] - 1s 56ms/step - loss: 0.3274 - accuracy: 1.0000\n",
            "Epoch 99/100\n",
            "12/13 [==========================>...] - ETA: 0s - loss: 0.3278 - accuracy: 0.9997"
          ]
        },
        {
          "output_type": "stream",
          "name": "stderr",
          "text": [
            "WARNING:tensorflow:Can save best model only with val_accuracy available, skipping.\n"
          ]
        },
        {
          "output_type": "stream",
          "name": "stdout",
          "text": [
            "\b\b\b\b\b\b\b\b\b\b\b\b\b\b\b\b\b\b\b\b\b\b\b\b\b\b\b\b\b\b\b\b\b\b\b\b\b\b\b\b\b\b\b\b\b\b\b\b\b\b\b\b\b\b\b\b\b\b\b\b\b\b\b\b\b\b\b\b\b\b\b\b\b\b\b\b\b\b\b\b\b\b\r13/13 [==============================] - 1s 50ms/step - loss: 0.3277 - accuracy: 0.9997\n",
            "Epoch 100/100\n",
            "13/13 [==============================] - ETA: 0s - loss: 0.3272 - accuracy: 0.9997"
          ]
        },
        {
          "output_type": "stream",
          "name": "stderr",
          "text": [
            "WARNING:tensorflow:Can save best model only with val_accuracy available, skipping.\n"
          ]
        },
        {
          "output_type": "stream",
          "name": "stdout",
          "text": [
            "\b\b\b\b\b\b\b\b\b\b\b\b\b\b\b\b\b\b\b\b\b\b\b\b\b\b\b\b\b\b\b\b\b\b\b\b\b\b\b\b\b\b\b\b\b\b\b\b\b\b\b\b\b\b\b\b\b\b\b\b\b\b\b\b\b\b\b\b\b\b\b\b\b\b\b\b\b\b\b\b\b\b\r13/13 [==============================] - 1s 55ms/step - loss: 0.3272 - accuracy: 0.9997\n",
            "Epoch 1/100\n"
          ]
        },
        {
          "output_type": "stream",
          "name": "stderr",
          "text": [
            "WARNING:tensorflow:AutoGraph could not transform <function Model.make_train_function.<locals>.train_function at 0x7c6952f43370> and will run it as-is.\n",
            "Cause: Unable to locate the source code of <function Model.make_train_function.<locals>.train_function at 0x7c6952f43370>. Note that functions defined in certain environments, like the interactive Python shell, do not expose their source code. If that is the case, you should define them in a .py source file. If you are certain the code is graph-compatible, wrap the call using @tf.autograph.experimental.do_not_convert. Original error: could not get source code\n",
            "To silence this warning, decorate the function with @tf.autograph.experimental.do_not_convert\n"
          ]
        },
        {
          "output_type": "stream",
          "name": "stdout",
          "text": [
            "WARNING: AutoGraph could not transform <function Model.make_train_function.<locals>.train_function at 0x7c6952f43370> and will run it as-is.\n",
            "Cause: Unable to locate the source code of <function Model.make_train_function.<locals>.train_function at 0x7c6952f43370>. Note that functions defined in certain environments, like the interactive Python shell, do not expose their source code. If that is the case, you should define them in a .py source file. If you are certain the code is graph-compatible, wrap the call using @tf.autograph.experimental.do_not_convert. Original error: could not get source code\n",
            "To silence this warning, decorate the function with @tf.autograph.experimental.do_not_convert\n",
            "16/16 [==============================] - ETA: 0s - loss: 0.6816 - accuracy: 0.7981"
          ]
        },
        {
          "output_type": "stream",
          "name": "stderr",
          "text": [
            "WARNING:tensorflow:Can save best model only with val_accuracy available, skipping.\n"
          ]
        },
        {
          "output_type": "stream",
          "name": "stdout",
          "text": [
            "\b\b\b\b\b\b\b\b\b\b\b\b\b\b\b\b\b\b\b\b\b\b\b\b\b\b\b\b\b\b\b\b\b\b\b\b\b\b\b\b\b\b\b\b\b\b\b\b\b\b\b\b\b\b\b\b\b\b\b\b\b\b\b\b\b\b\b\b\b\b\b\b\b\b\b\b\b\b\b\b\b\b\r16/16 [==============================] - 43s 53ms/step - loss: 0.6816 - accuracy: 0.7981\n",
            "Epoch 2/100\n",
            "15/16 [===========================>..] - ETA: 0s - loss: 0.5240 - accuracy: 0.8995"
          ]
        },
        {
          "output_type": "stream",
          "name": "stderr",
          "text": [
            "WARNING:tensorflow:Can save best model only with val_accuracy available, skipping.\n"
          ]
        },
        {
          "output_type": "stream",
          "name": "stdout",
          "text": [
            "\b\b\b\b\b\b\b\b\b\b\b\b\b\b\b\b\b\b\b\b\b\b\b\b\b\b\b\b\b\b\b\b\b\b\b\b\b\b\b\b\b\b\b\b\b\b\b\b\b\b\b\b\b\b\b\b\b\b\b\b\b\b\b\b\b\b\b\b\b\b\b\b\b\b\b\b\b\b\b\b\b\b\r16/16 [==============================] - 1s 48ms/step - loss: 0.5236 - accuracy: 0.9004\n",
            "Epoch 3/100\n",
            "15/16 [===========================>..] - ETA: 0s - loss: 0.5110 - accuracy: 0.9008"
          ]
        },
        {
          "output_type": "stream",
          "name": "stderr",
          "text": [
            "WARNING:tensorflow:Can save best model only with val_accuracy available, skipping.\n"
          ]
        },
        {
          "output_type": "stream",
          "name": "stdout",
          "text": [
            "\b\b\b\b\b\b\b\b\b\b\b\b\b\b\b\b\b\b\b\b\b\b\b\b\b\b\b\b\b\b\b\b\b\b\b\b\b\b\b\b\b\b\b\b\b\b\b\b\b\b\b\b\b\b\b\b\b\b\b\b\b\b\b\b\b\b\b\b\b\b\b\b\b\b\b\b\b\b\b\b\b\b\r16/16 [==============================] - 1s 49ms/step - loss: 0.5114 - accuracy: 0.9002\n",
            "Epoch 4/100\n",
            "16/16 [==============================] - ETA: 0s - loss: 0.5053 - accuracy: 0.8985"
          ]
        },
        {
          "output_type": "stream",
          "name": "stderr",
          "text": [
            "WARNING:tensorflow:Can save best model only with val_accuracy available, skipping.\n"
          ]
        },
        {
          "output_type": "stream",
          "name": "stdout",
          "text": [
            "\b\b\b\b\b\b\b\b\b\b\b\b\b\b\b\b\b\b\b\b\b\b\b\b\b\b\b\b\b\b\b\b\b\b\b\b\b\b\b\b\b\b\b\b\b\b\b\b\b\b\b\b\b\b\b\b\b\b\b\b\b\b\b\b\b\b\b\b\b\b\b\b\b\b\b\b\b\b\b\b\b\b\r16/16 [==============================] - 1s 49ms/step - loss: 0.5053 - accuracy: 0.8985\n",
            "Epoch 5/100\n",
            "16/16 [==============================] - ETA: 0s - loss: 0.5064 - accuracy: 0.9024"
          ]
        },
        {
          "output_type": "stream",
          "name": "stderr",
          "text": [
            "WARNING:tensorflow:Can save best model only with val_accuracy available, skipping.\n"
          ]
        },
        {
          "output_type": "stream",
          "name": "stdout",
          "text": [
            "\b\b\b\b\b\b\b\b\b\b\b\b\b\b\b\b\b\b\b\b\b\b\b\b\b\b\b\b\b\b\b\b\b\b\b\b\b\b\b\b\b\b\b\b\b\b\b\b\b\b\b\b\b\b\b\b\b\b\b\b\b\b\b\b\b\b\b\b\b\b\b\b\b\b\b\b\b\b\b\b\b\b\r16/16 [==============================] - 1s 51ms/step - loss: 0.5064 - accuracy: 0.9024\n",
            "Epoch 6/100\n",
            "15/16 [===========================>..] - ETA: 0s - loss: 0.5024 - accuracy: 0.9036"
          ]
        },
        {
          "output_type": "stream",
          "name": "stderr",
          "text": [
            "WARNING:tensorflow:Can save best model only with val_accuracy available, skipping.\n"
          ]
        },
        {
          "output_type": "stream",
          "name": "stdout",
          "text": [
            "\b\b\b\b\b\b\b\b\b\b\b\b\b\b\b\b\b\b\b\b\b\b\b\b\b\b\b\b\b\b\b\b\b\b\b\b\b\b\b\b\b\b\b\b\b\b\b\b\b\b\b\b\b\b\b\b\b\b\b\b\b\b\b\b\b\b\b\b\b\b\b\b\b\b\b\b\b\b\b\b\b\b\r16/16 [==============================] - 1s 47ms/step - loss: 0.4997 - accuracy: 0.9056\n",
            "Epoch 7/100\n",
            "15/16 [===========================>..] - ETA: 0s - loss: 0.4940 - accuracy: 0.9070"
          ]
        },
        {
          "output_type": "stream",
          "name": "stderr",
          "text": [
            "WARNING:tensorflow:Can save best model only with val_accuracy available, skipping.\n"
          ]
        },
        {
          "output_type": "stream",
          "name": "stdout",
          "text": [
            "\b\b\b\b\b\b\b\b\b\b\b\b\b\b\b\b\b\b\b\b\b\b\b\b\b\b\b\b\b\b\b\b\b\b\b\b\b\b\b\b\b\b\b\b\b\b\b\b\b\b\b\b\b\b\b\b\b\b\b\b\b\b\b\b\b\b\b\b\b\b\b\b\b\b\b\b\b\b\b\b\b\b\r16/16 [==============================] - 1s 49ms/step - loss: 0.4940 - accuracy: 0.9075\n",
            "Epoch 8/100\n",
            "15/16 [===========================>..] - ETA: 0s - loss: 0.4935 - accuracy: 0.9112"
          ]
        },
        {
          "output_type": "stream",
          "name": "stderr",
          "text": [
            "WARNING:tensorflow:Can save best model only with val_accuracy available, skipping.\n"
          ]
        },
        {
          "output_type": "stream",
          "name": "stdout",
          "text": [
            "\b\b\b\b\b\b\b\b\b\b\b\b\b\b\b\b\b\b\b\b\b\b\b\b\b\b\b\b\b\b\b\b\b\b\b\b\b\b\b\b\b\b\b\b\b\b\b\b\b\b\b\b\b\b\b\b\b\b\b\b\b\b\b\b\b\b\b\b\b\b\b\b\b\b\b\b\b\b\b\b\b\b\r16/16 [==============================] - 1s 48ms/step - loss: 0.4923 - accuracy: 0.9117\n",
            "Epoch 9/100\n",
            "15/16 [===========================>..] - ETA: 0s - loss: 0.4845 - accuracy: 0.9177"
          ]
        },
        {
          "output_type": "stream",
          "name": "stderr",
          "text": [
            "WARNING:tensorflow:Can save best model only with val_accuracy available, skipping.\n"
          ]
        },
        {
          "output_type": "stream",
          "name": "stdout",
          "text": [
            "\b\b\b\b\b\b\b\b\b\b\b\b\b\b\b\b\b\b\b\b\b\b\b\b\b\b\b\b\b\b\b\b\b\b\b\b\b\b\b\b\b\b\b\b\b\b\b\b\b\b\b\b\b\b\b\b\b\b\b\b\b\b\b\b\b\b\b\b\b\b\b\b\b\b\b\b\b\b\b\b\b\b\r16/16 [==============================] - 1s 49ms/step - loss: 0.4849 - accuracy: 0.9166\n",
            "Epoch 10/100\n",
            "16/16 [==============================] - ETA: 0s - loss: 0.4818 - accuracy: 0.9157"
          ]
        },
        {
          "output_type": "stream",
          "name": "stderr",
          "text": [
            "WARNING:tensorflow:Can save best model only with val_accuracy available, skipping.\n"
          ]
        },
        {
          "output_type": "stream",
          "name": "stdout",
          "text": [
            "\b\b\b\b\b\b\b\b\b\b\b\b\b\b\b\b\b\b\b\b\b\b\b\b\b\b\b\b\b\b\b\b\b\b\b\b\b\b\b\b\b\b\b\b\b\b\b\b\b\b\b\b\b\b\b\b\b\b\b\b\b\b\b\b\b\b\b\b\b\b\b\b\b\b\b\b\b\b\b\b\b\b\r16/16 [==============================] - 1s 51ms/step - loss: 0.4818 - accuracy: 0.9157\n",
            "Epoch 11/100\n",
            "15/16 [===========================>..] - ETA: 0s - loss: 0.4808 - accuracy: 0.9206"
          ]
        },
        {
          "output_type": "stream",
          "name": "stderr",
          "text": [
            "WARNING:tensorflow:Can save best model only with val_accuracy available, skipping.\n"
          ]
        },
        {
          "output_type": "stream",
          "name": "stdout",
          "text": [
            "\b\b\b\b\b\b\b\b\b\b\b\b\b\b\b\b\b\b\b\b\b\b\b\b\b\b\b\b\b\b\b\b\b\b\b\b\b\b\b\b\b\b\b\b\b\b\b\b\b\b\b\b\b\b\b\b\b\b\b\b\b\b\b\b\b\b\b\b\b\b\b\b\b\b\b\b\b\b\b\b\b\b\r16/16 [==============================] - 1s 47ms/step - loss: 0.4809 - accuracy: 0.9194\n",
            "Epoch 12/100\n",
            "15/16 [===========================>..] - ETA: 0s - loss: 0.4800 - accuracy: 0.9172"
          ]
        },
        {
          "output_type": "stream",
          "name": "stderr",
          "text": [
            "WARNING:tensorflow:Can save best model only with val_accuracy available, skipping.\n"
          ]
        },
        {
          "output_type": "stream",
          "name": "stdout",
          "text": [
            "\b\b\b\b\b\b\b\b\b\b\b\b\b\b\b\b\b\b\b\b\b\b\b\b\b\b\b\b\b\b\b\b\b\b\b\b\b\b\b\b\b\b\b\b\b\b\b\b\b\b\b\b\b\b\b\b\b\b\b\b\b\b\b\b\b\b\b\b\b\b\b\b\b\b\b\b\b\b\b\b\b\b\r16/16 [==============================] - 1s 49ms/step - loss: 0.4809 - accuracy: 0.9166\n",
            "Epoch 13/100\n",
            "16/16 [==============================] - ETA: 0s - loss: 0.4905 - accuracy: 0.9120"
          ]
        },
        {
          "output_type": "stream",
          "name": "stderr",
          "text": [
            "WARNING:tensorflow:Can save best model only with val_accuracy available, skipping.\n"
          ]
        },
        {
          "output_type": "stream",
          "name": "stdout",
          "text": [
            "\b\b\b\b\b\b\b\b\b\b\b\b\b\b\b\b\b\b\b\b\b\b\b\b\b\b\b\b\b\b\b\b\b\b\b\b\b\b\b\b\b\b\b\b\b\b\b\b\b\b\b\b\b\b\b\b\b\b\b\b\b\b\b\b\b\b\b\b\b\b\b\b\b\b\b\b\b\b\b\b\b\b\r16/16 [==============================] - 1s 67ms/step - loss: 0.4905 - accuracy: 0.9120\n",
            "Epoch 14/100\n",
            "16/16 [==============================] - ETA: 0s - loss: 0.4778 - accuracy: 0.9198"
          ]
        },
        {
          "output_type": "stream",
          "name": "stderr",
          "text": [
            "WARNING:tensorflow:Can save best model only with val_accuracy available, skipping.\n"
          ]
        },
        {
          "output_type": "stream",
          "name": "stdout",
          "text": [
            "\b\b\b\b\b\b\b\b\b\b\b\b\b\b\b\b\b\b\b\b\b\b\b\b\b\b\b\b\b\b\b\b\b\b\b\b\b\b\b\b\b\b\b\b\b\b\b\b\b\b\b\b\b\b\b\b\b\b\b\b\b\b\b\b\b\b\b\b\b\b\b\b\b\b\b\b\b\b\b\b\b\b\r16/16 [==============================] - 1s 73ms/step - loss: 0.4778 - accuracy: 0.9198\n",
            "Epoch 15/100\n",
            "16/16 [==============================] - ETA: 0s - loss: 0.4680 - accuracy: 0.9289"
          ]
        },
        {
          "output_type": "stream",
          "name": "stderr",
          "text": [
            "WARNING:tensorflow:Can save best model only with val_accuracy available, skipping.\n"
          ]
        },
        {
          "output_type": "stream",
          "name": "stdout",
          "text": [
            "\b\b\b\b\b\b\b\b\b\b\b\b\b\b\b\b\b\b\b\b\b\b\b\b\b\b\b\b\b\b\b\b\b\b\b\b\b\b\b\b\b\b\b\b\b\b\b\b\b\b\b\b\b\b\b\b\b\b\b\b\b\b\b\b\b\b\b\b\b\b\b\b\b\b\b\b\b\b\b\b\b\b\r16/16 [==============================] - 1s 75ms/step - loss: 0.4680 - accuracy: 0.9289\n",
            "Epoch 16/100\n",
            "16/16 [==============================] - ETA: 0s - loss: 0.4654 - accuracy: 0.9297"
          ]
        },
        {
          "output_type": "stream",
          "name": "stderr",
          "text": [
            "WARNING:tensorflow:Can save best model only with val_accuracy available, skipping.\n"
          ]
        },
        {
          "output_type": "stream",
          "name": "stdout",
          "text": [
            "\b\b\b\b\b\b\b\b\b\b\b\b\b\b\b\b\b\b\b\b\b\b\b\b\b\b\b\b\b\b\b\b\b\b\b\b\b\b\b\b\b\b\b\b\b\b\b\b\b\b\b\b\b\b\b\b\b\b\b\b\b\b\b\b\b\b\b\b\b\b\b\b\b\b\b\b\b\b\b\b\b\b\r16/16 [==============================] - 1s 79ms/step - loss: 0.4654 - accuracy: 0.9297\n",
            "Epoch 17/100\n",
            "16/16 [==============================] - ETA: 0s - loss: 0.4629 - accuracy: 0.9294"
          ]
        },
        {
          "output_type": "stream",
          "name": "stderr",
          "text": [
            "WARNING:tensorflow:Can save best model only with val_accuracy available, skipping.\n"
          ]
        },
        {
          "output_type": "stream",
          "name": "stdout",
          "text": [
            "\b\b\b\b\b\b\b\b\b\b\b\b\b\b\b\b\b\b\b\b\b\b\b\b\b\b\b\b\b\b\b\b\b\b\b\b\b\b\b\b\b\b\b\b\b\b\b\b\b\b\b\b\b\b\b\b\b\b\b\b\b\b\b\b\b\b\b\b\b\b\b\b\b\b\b\b\b\b\b\b\b\b\r16/16 [==============================] - 1s 79ms/step - loss: 0.4629 - accuracy: 0.9294\n",
            "Epoch 18/100\n",
            "15/16 [===========================>..] - ETA: 0s - loss: 0.4611 - accuracy: 0.9315"
          ]
        },
        {
          "output_type": "stream",
          "name": "stderr",
          "text": [
            "WARNING:tensorflow:Can save best model only with val_accuracy available, skipping.\n"
          ]
        },
        {
          "output_type": "stream",
          "name": "stdout",
          "text": [
            "\b\b\b\b\b\b\b\b\b\b\b\b\b\b\b\b\b\b\b\b\b\b\b\b\b\b\b\b\b\b\b\b\b\b\b\b\b\b\b\b\b\b\b\b\b\b\b\b\b\b\b\b\b\b\b\b\b\b\b\b\b\b\b\b\b\b\b\b\b\b\b\b\b\b\b\b\b\b\b\b\b\b\r16/16 [==============================] - 1s 78ms/step - loss: 0.4600 - accuracy: 0.9326\n",
            "Epoch 19/100\n",
            "16/16 [==============================] - ETA: 0s - loss: 0.4638 - accuracy: 0.9316"
          ]
        },
        {
          "output_type": "stream",
          "name": "stderr",
          "text": [
            "WARNING:tensorflow:Can save best model only with val_accuracy available, skipping.\n"
          ]
        },
        {
          "output_type": "stream",
          "name": "stdout",
          "text": [
            "\b\b\b\b\b\b\b\b\b\b\b\b\b\b\b\b\b\b\b\b\b\b\b\b\b\b\b\b\b\b\b\b\b\b\b\b\b\b\b\b\b\b\b\b\b\b\b\b\b\b\b\b\b\b\b\b\b\b\b\b\b\b\b\b\b\b\b\b\b\b\b\b\b\b\b\b\b\b\b\b\b\b\r16/16 [==============================] - 1s 52ms/step - loss: 0.4638 - accuracy: 0.9316\n",
            "Epoch 20/100\n",
            "16/16 [==============================] - ETA: 0s - loss: 0.4589 - accuracy: 0.9346"
          ]
        },
        {
          "output_type": "stream",
          "name": "stderr",
          "text": [
            "WARNING:tensorflow:Can save best model only with val_accuracy available, skipping.\n"
          ]
        },
        {
          "output_type": "stream",
          "name": "stdout",
          "text": [
            "\b\b\b\b\b\b\b\b\b\b\b\b\b\b\b\b\b\b\b\b\b\b\b\b\b\b\b\b\b\b\b\b\b\b\b\b\b\b\b\b\b\b\b\b\b\b\b\b\b\b\b\b\b\b\b\b\b\b\b\b\b\b\b\b\b\b\b\b\b\b\b\b\b\b\b\b\b\b\b\b\b\b\r16/16 [==============================] - 1s 52ms/step - loss: 0.4589 - accuracy: 0.9346\n",
            "Epoch 21/100\n",
            "16/16 [==============================] - ETA: 0s - loss: 0.4461 - accuracy: 0.9412"
          ]
        },
        {
          "output_type": "stream",
          "name": "stderr",
          "text": [
            "WARNING:tensorflow:Can save best model only with val_accuracy available, skipping.\n"
          ]
        },
        {
          "output_type": "stream",
          "name": "stdout",
          "text": [
            "\b\b\b\b\b\b\b\b\b\b\b\b\b\b\b\b\b\b\b\b\b\b\b\b\b\b\b\b\b\b\b\b\b\b\b\b\b\b\b\b\b\b\b\b\b\b\b\b\b\b\b\b\b\b\b\b\b\b\b\b\b\b\b\b\b\b\b\b\b\b\b\b\b\b\b\b\b\b\b\b\b\b\r16/16 [==============================] - 1s 51ms/step - loss: 0.4461 - accuracy: 0.9412\n",
            "Epoch 22/100\n",
            "16/16 [==============================] - ETA: 0s - loss: 0.4522 - accuracy: 0.9371"
          ]
        },
        {
          "output_type": "stream",
          "name": "stderr",
          "text": [
            "WARNING:tensorflow:Can save best model only with val_accuracy available, skipping.\n"
          ]
        },
        {
          "output_type": "stream",
          "name": "stdout",
          "text": [
            "\b\b\b\b\b\b\b\b\b\b\b\b\b\b\b\b\b\b\b\b\b\b\b\b\b\b\b\b\b\b\b\b\b\b\b\b\b\b\b\b\b\b\b\b\b\b\b\b\b\b\b\b\b\b\b\b\b\b\b\b\b\b\b\b\b\b\b\b\b\b\b\b\b\b\b\b\b\b\b\b\b\b\r16/16 [==============================] - 1s 51ms/step - loss: 0.4522 - accuracy: 0.9371\n",
            "Epoch 23/100\n",
            "15/16 [===========================>..] - ETA: 0s - loss: 0.4479 - accuracy: 0.9388"
          ]
        },
        {
          "output_type": "stream",
          "name": "stderr",
          "text": [
            "WARNING:tensorflow:Can save best model only with val_accuracy available, skipping.\n"
          ]
        },
        {
          "output_type": "stream",
          "name": "stdout",
          "text": [
            "\b\b\b\b\b\b\b\b\b\b\b\b\b\b\b\b\b\b\b\b\b\b\b\b\b\b\b\b\b\b\b\b\b\b\b\b\b\b\b\b\b\b\b\b\b\b\b\b\b\b\b\b\b\b\b\b\b\b\b\b\b\b\b\b\b\b\b\b\b\b\b\b\b\b\b\b\b\b\b\b\b\b\r16/16 [==============================] - 1s 53ms/step - loss: 0.4502 - accuracy: 0.9378\n",
            "Epoch 24/100\n",
            "16/16 [==============================] - ETA: 0s - loss: 0.4518 - accuracy: 0.9366"
          ]
        },
        {
          "output_type": "stream",
          "name": "stderr",
          "text": [
            "WARNING:tensorflow:Can save best model only with val_accuracy available, skipping.\n"
          ]
        },
        {
          "output_type": "stream",
          "name": "stdout",
          "text": [
            "\b\b\b\b\b\b\b\b\b\b\b\b\b\b\b\b\b\b\b\b\b\b\b\b\b\b\b\b\b\b\b\b\b\b\b\b\b\b\b\b\b\b\b\b\b\b\b\b\b\b\b\b\b\b\b\b\b\b\b\b\b\b\b\b\b\b\b\b\b\b\b\b\b\b\b\b\b\b\b\b\b\b\r16/16 [==============================] - 1s 53ms/step - loss: 0.4518 - accuracy: 0.9366\n",
            "Epoch 25/100\n",
            "16/16 [==============================] - ETA: 0s - loss: 0.4420 - accuracy: 0.9417"
          ]
        },
        {
          "output_type": "stream",
          "name": "stderr",
          "text": [
            "WARNING:tensorflow:Can save best model only with val_accuracy available, skipping.\n"
          ]
        },
        {
          "output_type": "stream",
          "name": "stdout",
          "text": [
            "\b\b\b\b\b\b\b\b\b\b\b\b\b\b\b\b\b\b\b\b\b\b\b\b\b\b\b\b\b\b\b\b\b\b\b\b\b\b\b\b\b\b\b\b\b\b\b\b\b\b\b\b\b\b\b\b\b\b\b\b\b\b\b\b\b\b\b\b\b\b\b\b\b\b\b\b\b\b\b\b\b\b\r16/16 [==============================] - 1s 53ms/step - loss: 0.4420 - accuracy: 0.9417\n",
            "Epoch 26/100\n",
            "15/16 [===========================>..] - ETA: 0s - loss: 0.4360 - accuracy: 0.9461"
          ]
        },
        {
          "output_type": "stream",
          "name": "stderr",
          "text": [
            "WARNING:tensorflow:Can save best model only with val_accuracy available, skipping.\n"
          ]
        },
        {
          "output_type": "stream",
          "name": "stdout",
          "text": [
            "\b\b\b\b\b\b\b\b\b\b\b\b\b\b\b\b\b\b\b\b\b\b\b\b\b\b\b\b\b\b\b\b\b\b\b\b\b\b\b\b\b\b\b\b\b\b\b\b\b\b\b\b\b\b\b\b\b\b\b\b\b\b\b\b\b\b\b\b\b\b\b\b\b\b\b\b\b\b\b\b\b\b\r16/16 [==============================] - 1s 76ms/step - loss: 0.4355 - accuracy: 0.9469\n",
            "Epoch 27/100\n",
            "16/16 [==============================] - ETA: 0s - loss: 0.4334 - accuracy: 0.9452"
          ]
        },
        {
          "output_type": "stream",
          "name": "stderr",
          "text": [
            "WARNING:tensorflow:Can save best model only with val_accuracy available, skipping.\n"
          ]
        },
        {
          "output_type": "stream",
          "name": "stdout",
          "text": [
            "\b\b\b\b\b\b\b\b\b\b\b\b\b\b\b\b\b\b\b\b\b\b\b\b\b\b\b\b\b\b\b\b\b\b\b\b\b\b\b\b\b\b\b\b\b\b\b\b\b\b\b\b\b\b\b\b\b\b\b\b\b\b\b\b\b\b\b\b\b\b\b\b\b\b\b\b\b\b\b\b\b\b\r16/16 [==============================] - 1s 49ms/step - loss: 0.4334 - accuracy: 0.9452\n",
            "Epoch 28/100\n",
            "16/16 [==============================] - ETA: 0s - loss: 0.4284 - accuracy: 0.9489"
          ]
        },
        {
          "output_type": "stream",
          "name": "stderr",
          "text": [
            "WARNING:tensorflow:Can save best model only with val_accuracy available, skipping.\n"
          ]
        },
        {
          "output_type": "stream",
          "name": "stdout",
          "text": [
            "\b\b\b\b\b\b\b\b\b\b\b\b\b\b\b\b\b\b\b\b\b\b\b\b\b\b\b\b\b\b\b\b\b\b\b\b\b\b\b\b\b\b\b\b\b\b\b\b\b\b\b\b\b\b\b\b\b\b\b\b\b\b\b\b\b\b\b\b\b\b\b\b\b\b\b\b\b\b\b\b\b\b\r16/16 [==============================] - 1s 51ms/step - loss: 0.4284 - accuracy: 0.9489\n",
            "Epoch 29/100\n",
            "15/16 [===========================>..] - ETA: 0s - loss: 0.4296 - accuracy: 0.9461"
          ]
        },
        {
          "output_type": "stream",
          "name": "stderr",
          "text": [
            "WARNING:tensorflow:Can save best model only with val_accuracy available, skipping.\n"
          ]
        },
        {
          "output_type": "stream",
          "name": "stdout",
          "text": [
            "\b\b\b\b\b\b\b\b\b\b\b\b\b\b\b\b\b\b\b\b\b\b\b\b\b\b\b\b\b\b\b\b\b\b\b\b\b\b\b\b\b\b\b\b\b\b\b\b\b\b\b\b\b\b\b\b\b\b\b\b\b\b\b\b\b\b\b\b\b\b\b\b\b\b\b\b\b\b\b\b\b\b\r16/16 [==============================] - 1s 48ms/step - loss: 0.4280 - accuracy: 0.9469\n",
            "Epoch 30/100\n",
            "16/16 [==============================] - ETA: 0s - loss: 0.4240 - accuracy: 0.9518"
          ]
        },
        {
          "output_type": "stream",
          "name": "stderr",
          "text": [
            "WARNING:tensorflow:Can save best model only with val_accuracy available, skipping.\n"
          ]
        },
        {
          "output_type": "stream",
          "name": "stdout",
          "text": [
            "\b\b\b\b\b\b\b\b\b\b\b\b\b\b\b\b\b\b\b\b\b\b\b\b\b\b\b\b\b\b\b\b\b\b\b\b\b\b\b\b\b\b\b\b\b\b\b\b\b\b\b\b\b\b\b\b\b\b\b\b\b\b\b\b\b\b\b\b\b\b\b\b\b\b\b\b\b\b\b\b\b\b\r16/16 [==============================] - 1s 64ms/step - loss: 0.4240 - accuracy: 0.9518\n",
            "Epoch 31/100\n",
            "16/16 [==============================] - ETA: 0s - loss: 0.4216 - accuracy: 0.9521"
          ]
        },
        {
          "output_type": "stream",
          "name": "stderr",
          "text": [
            "WARNING:tensorflow:Can save best model only with val_accuracy available, skipping.\n"
          ]
        },
        {
          "output_type": "stream",
          "name": "stdout",
          "text": [
            "\b\b\b\b\b\b\b\b\b\b\b\b\b\b\b\b\b\b\b\b\b\b\b\b\b\b\b\b\b\b\b\b\b\b\b\b\b\b\b\b\b\b\b\b\b\b\b\b\b\b\b\b\b\b\b\b\b\b\b\b\b\b\b\b\b\b\b\b\b\b\b\b\b\b\b\b\b\b\b\b\b\b\r16/16 [==============================] - 1s 72ms/step - loss: 0.4216 - accuracy: 0.9521\n",
            "Epoch 32/100\n",
            "16/16 [==============================] - ETA: 0s - loss: 0.4209 - accuracy: 0.9540"
          ]
        },
        {
          "output_type": "stream",
          "name": "stderr",
          "text": [
            "WARNING:tensorflow:Can save best model only with val_accuracy available, skipping.\n"
          ]
        },
        {
          "output_type": "stream",
          "name": "stdout",
          "text": [
            "\b\b\b\b\b\b\b\b\b\b\b\b\b\b\b\b\b\b\b\b\b\b\b\b\b\b\b\b\b\b\b\b\b\b\b\b\b\b\b\b\b\b\b\b\b\b\b\b\b\b\b\b\b\b\b\b\b\b\b\b\b\b\b\b\b\b\b\b\b\b\b\b\b\b\b\b\b\b\b\b\b\b\r16/16 [==============================] - 1s 69ms/step - loss: 0.4209 - accuracy: 0.9540\n",
            "Epoch 33/100\n",
            "16/16 [==============================] - ETA: 0s - loss: 0.4172 - accuracy: 0.9545"
          ]
        },
        {
          "output_type": "stream",
          "name": "stderr",
          "text": [
            "WARNING:tensorflow:Can save best model only with val_accuracy available, skipping.\n"
          ]
        },
        {
          "output_type": "stream",
          "name": "stdout",
          "text": [
            "\b\b\b\b\b\b\b\b\b\b\b\b\b\b\b\b\b\b\b\b\b\b\b\b\b\b\b\b\b\b\b\b\b\b\b\b\b\b\b\b\b\b\b\b\b\b\b\b\b\b\b\b\b\b\b\b\b\b\b\b\b\b\b\b\b\b\b\b\b\b\b\b\b\b\b\b\b\b\b\b\b\b\r16/16 [==============================] - 1s 80ms/step - loss: 0.4172 - accuracy: 0.9545\n",
            "Epoch 34/100\n",
            "16/16 [==============================] - ETA: 0s - loss: 0.4119 - accuracy: 0.9584"
          ]
        },
        {
          "output_type": "stream",
          "name": "stderr",
          "text": [
            "WARNING:tensorflow:Can save best model only with val_accuracy available, skipping.\n"
          ]
        },
        {
          "output_type": "stream",
          "name": "stdout",
          "text": [
            "\b\b\b\b\b\b\b\b\b\b\b\b\b\b\b\b\b\b\b\b\b\b\b\b\b\b\b\b\b\b\b\b\b\b\b\b\b\b\b\b\b\b\b\b\b\b\b\b\b\b\b\b\b\b\b\b\b\b\b\b\b\b\b\b\b\b\b\b\b\b\b\b\b\b\b\b\b\b\b\b\b\b\r16/16 [==============================] - 1s 81ms/step - loss: 0.4119 - accuracy: 0.9584\n",
            "Epoch 35/100\n",
            "16/16 [==============================] - ETA: 0s - loss: 0.4104 - accuracy: 0.9587"
          ]
        },
        {
          "output_type": "stream",
          "name": "stderr",
          "text": [
            "WARNING:tensorflow:Can save best model only with val_accuracy available, skipping.\n"
          ]
        },
        {
          "output_type": "stream",
          "name": "stdout",
          "text": [
            "\b\b\b\b\b\b\b\b\b\b\b\b\b\b\b\b\b\b\b\b\b\b\b\b\b\b\b\b\b\b\b\b\b\b\b\b\b\b\b\b\b\b\b\b\b\b\b\b\b\b\b\b\b\b\b\b\b\b\b\b\b\b\b\b\b\b\b\b\b\b\b\b\b\b\b\b\b\b\b\b\b\b\r16/16 [==============================] - 1s 80ms/step - loss: 0.4104 - accuracy: 0.9587\n",
            "Epoch 36/100\n",
            "16/16 [==============================] - ETA: 0s - loss: 0.4107 - accuracy: 0.9582"
          ]
        },
        {
          "output_type": "stream",
          "name": "stderr",
          "text": [
            "WARNING:tensorflow:Can save best model only with val_accuracy available, skipping.\n"
          ]
        },
        {
          "output_type": "stream",
          "name": "stdout",
          "text": [
            "\b\b\b\b\b\b\b\b\b\b\b\b\b\b\b\b\b\b\b\b\b\b\b\b\b\b\b\b\b\b\b\b\b\b\b\b\b\b\b\b\b\b\b\b\b\b\b\b\b\b\b\b\b\b\b\b\b\b\b\b\b\b\b\b\b\b\b\b\b\b\b\b\b\b\b\b\b\b\b\b\b\b\r16/16 [==============================] - 1s 53ms/step - loss: 0.4107 - accuracy: 0.9582\n",
            "Epoch 37/100\n",
            "16/16 [==============================] - ETA: 0s - loss: 0.4125 - accuracy: 0.9562"
          ]
        },
        {
          "output_type": "stream",
          "name": "stderr",
          "text": [
            "WARNING:tensorflow:Can save best model only with val_accuracy available, skipping.\n"
          ]
        },
        {
          "output_type": "stream",
          "name": "stdout",
          "text": [
            "\b\b\b\b\b\b\b\b\b\b\b\b\b\b\b\b\b\b\b\b\b\b\b\b\b\b\b\b\b\b\b\b\b\b\b\b\b\b\b\b\b\b\b\b\b\b\b\b\b\b\b\b\b\b\b\b\b\b\b\b\b\b\b\b\b\b\b\b\b\b\b\b\b\b\b\b\b\b\b\b\b\b\r16/16 [==============================] - 1s 53ms/step - loss: 0.4125 - accuracy: 0.9562\n",
            "Epoch 38/100\n",
            "16/16 [==============================] - ETA: 0s - loss: 0.4074 - accuracy: 0.9612"
          ]
        },
        {
          "output_type": "stream",
          "name": "stderr",
          "text": [
            "WARNING:tensorflow:Can save best model only with val_accuracy available, skipping.\n"
          ]
        },
        {
          "output_type": "stream",
          "name": "stdout",
          "text": [
            "\b\b\b\b\b\b\b\b\b\b\b\b\b\b\b\b\b\b\b\b\b\b\b\b\b\b\b\b\b\b\b\b\b\b\b\b\b\b\b\b\b\b\b\b\b\b\b\b\b\b\b\b\b\b\b\b\b\b\b\b\b\b\b\b\b\b\b\b\b\b\b\b\b\b\b\b\b\b\b\b\b\b\r16/16 [==============================] - 1s 53ms/step - loss: 0.4074 - accuracy: 0.9612\n",
            "Epoch 39/100\n",
            "15/16 [===========================>..] - ETA: 0s - loss: 0.4040 - accuracy: 0.9635"
          ]
        },
        {
          "output_type": "stream",
          "name": "stderr",
          "text": [
            "WARNING:tensorflow:Can save best model only with val_accuracy available, skipping.\n"
          ]
        },
        {
          "output_type": "stream",
          "name": "stdout",
          "text": [
            "\b\b\b\b\b\b\b\b\b\b\b\b\b\b\b\b\b\b\b\b\b\b\b\b\b\b\b\b\b\b\b\b\b\b\b\b\b\b\b\b\b\b\b\b\b\b\b\b\b\b\b\b\b\b\b\b\b\b\b\b\b\b\b\b\b\b\b\b\b\b\b\b\b\b\b\b\b\b\b\b\b\b\r16/16 [==============================] - 1s 49ms/step - loss: 0.4032 - accuracy: 0.9639\n",
            "Epoch 40/100\n",
            "16/16 [==============================] - ETA: 0s - loss: 0.3977 - accuracy: 0.9636"
          ]
        },
        {
          "output_type": "stream",
          "name": "stderr",
          "text": [
            "WARNING:tensorflow:Can save best model only with val_accuracy available, skipping.\n"
          ]
        },
        {
          "output_type": "stream",
          "name": "stdout",
          "text": [
            "\b\b\b\b\b\b\b\b\b\b\b\b\b\b\b\b\b\b\b\b\b\b\b\b\b\b\b\b\b\b\b\b\b\b\b\b\b\b\b\b\b\b\b\b\b\b\b\b\b\b\b\b\b\b\b\b\b\b\b\b\b\b\b\b\b\b\b\b\b\b\b\b\b\b\b\b\b\b\b\b\b\b\r16/16 [==============================] - 1s 49ms/step - loss: 0.3977 - accuracy: 0.9636\n",
            "Epoch 41/100\n",
            "16/16 [==============================] - ETA: 0s - loss: 0.3975 - accuracy: 0.9651"
          ]
        },
        {
          "output_type": "stream",
          "name": "stderr",
          "text": [
            "WARNING:tensorflow:Can save best model only with val_accuracy available, skipping.\n"
          ]
        },
        {
          "output_type": "stream",
          "name": "stdout",
          "text": [
            "\b\b\b\b\b\b\b\b\b\b\b\b\b\b\b\b\b\b\b\b\b\b\b\b\b\b\b\b\b\b\b\b\b\b\b\b\b\b\b\b\b\b\b\b\b\b\b\b\b\b\b\b\b\b\b\b\b\b\b\b\b\b\b\b\b\b\b\b\b\b\b\b\b\b\b\b\b\b\b\b\b\b\r16/16 [==============================] - 1s 50ms/step - loss: 0.3975 - accuracy: 0.9651\n",
            "Epoch 42/100\n",
            "16/16 [==============================] - ETA: 0s - loss: 0.4079 - accuracy: 0.9621"
          ]
        },
        {
          "output_type": "stream",
          "name": "stderr",
          "text": [
            "WARNING:tensorflow:Can save best model only with val_accuracy available, skipping.\n"
          ]
        },
        {
          "output_type": "stream",
          "name": "stdout",
          "text": [
            "\b\b\b\b\b\b\b\b\b\b\b\b\b\b\b\b\b\b\b\b\b\b\b\b\b\b\b\b\b\b\b\b\b\b\b\b\b\b\b\b\b\b\b\b\b\b\b\b\b\b\b\b\b\b\b\b\b\b\b\b\b\b\b\b\b\b\b\b\b\b\b\b\b\b\b\b\b\b\b\b\b\b\r16/16 [==============================] - 1s 50ms/step - loss: 0.4079 - accuracy: 0.9621\n",
            "Epoch 43/100\n",
            "15/16 [===========================>..] - ETA: 0s - loss: 0.3986 - accuracy: 0.9672"
          ]
        },
        {
          "output_type": "stream",
          "name": "stderr",
          "text": [
            "WARNING:tensorflow:Can save best model only with val_accuracy available, skipping.\n"
          ]
        },
        {
          "output_type": "stream",
          "name": "stdout",
          "text": [
            "\b\b\b\b\b\b\b\b\b\b\b\b\b\b\b\b\b\b\b\b\b\b\b\b\b\b\b\b\b\b\b\b\b\b\b\b\b\b\b\b\b\b\b\b\b\b\b\b\b\b\b\b\b\b\b\b\b\b\b\b\b\b\b\b\b\b\b\b\b\b\b\b\b\b\b\b\b\b\b\b\b\b\r16/16 [==============================] - 1s 52ms/step - loss: 0.3983 - accuracy: 0.9675\n",
            "Epoch 44/100\n",
            "16/16 [==============================] - ETA: 0s - loss: 0.3959 - accuracy: 0.9666"
          ]
        },
        {
          "output_type": "stream",
          "name": "stderr",
          "text": [
            "WARNING:tensorflow:Can save best model only with val_accuracy available, skipping.\n"
          ]
        },
        {
          "output_type": "stream",
          "name": "stdout",
          "text": [
            "\b\b\b\b\b\b\b\b\b\b\b\b\b\b\b\b\b\b\b\b\b\b\b\b\b\b\b\b\b\b\b\b\b\b\b\b\b\b\b\b\b\b\b\b\b\b\b\b\b\b\b\b\b\b\b\b\b\b\b\b\b\b\b\b\b\b\b\b\b\b\b\b\b\b\b\b\b\b\b\b\b\b\r16/16 [==============================] - 1s 50ms/step - loss: 0.3959 - accuracy: 0.9666\n",
            "Epoch 45/100\n",
            "16/16 [==============================] - ETA: 0s - loss: 0.3893 - accuracy: 0.9685"
          ]
        },
        {
          "output_type": "stream",
          "name": "stderr",
          "text": [
            "WARNING:tensorflow:Can save best model only with val_accuracy available, skipping.\n"
          ]
        },
        {
          "output_type": "stream",
          "name": "stdout",
          "text": [
            "\b\b\b\b\b\b\b\b\b\b\b\b\b\b\b\b\b\b\b\b\b\b\b\b\b\b\b\b\b\b\b\b\b\b\b\b\b\b\b\b\b\b\b\b\b\b\b\b\b\b\b\b\b\b\b\b\b\b\b\b\b\b\b\b\b\b\b\b\b\b\b\b\b\b\b\b\b\b\b\b\b\b\r16/16 [==============================] - 1s 50ms/step - loss: 0.3893 - accuracy: 0.9685\n",
            "Epoch 46/100\n",
            "16/16 [==============================] - ETA: 0s - loss: 0.3985 - accuracy: 0.9651"
          ]
        },
        {
          "output_type": "stream",
          "name": "stderr",
          "text": [
            "WARNING:tensorflow:Can save best model only with val_accuracy available, skipping.\n"
          ]
        },
        {
          "output_type": "stream",
          "name": "stdout",
          "text": [
            "\b\b\b\b\b\b\b\b\b\b\b\b\b\b\b\b\b\b\b\b\b\b\b\b\b\b\b\b\b\b\b\b\b\b\b\b\b\b\b\b\b\b\b\b\b\b\b\b\b\b\b\b\b\b\b\b\b\b\b\b\b\b\b\b\b\b\b\b\b\b\b\b\b\b\b\b\b\b\b\b\b\b\r16/16 [==============================] - 2s 96ms/step - loss: 0.3985 - accuracy: 0.9651\n",
            "Epoch 47/100\n",
            "16/16 [==============================] - ETA: 0s - loss: 0.3876 - accuracy: 0.9717"
          ]
        },
        {
          "output_type": "stream",
          "name": "stderr",
          "text": [
            "WARNING:tensorflow:Can save best model only with val_accuracy available, skipping.\n"
          ]
        },
        {
          "output_type": "stream",
          "name": "stdout",
          "text": [
            "\b\b\b\b\b\b\b\b\b\b\b\b\b\b\b\b\b\b\b\b\b\b\b\b\b\b\b\b\b\b\b\b\b\b\b\b\b\b\b\b\b\b\b\b\b\b\b\b\b\b\b\b\b\b\b\b\b\b\b\b\b\b\b\b\b\b\b\b\b\b\b\b\b\b\b\b\b\b\b\b\b\b\r16/16 [==============================] - 3s 205ms/step - loss: 0.3876 - accuracy: 0.9717\n",
            "Epoch 48/100\n",
            "16/16 [==============================] - ETA: 0s - loss: 0.3864 - accuracy: 0.9705"
          ]
        },
        {
          "output_type": "stream",
          "name": "stderr",
          "text": [
            "WARNING:tensorflow:Can save best model only with val_accuracy available, skipping.\n"
          ]
        },
        {
          "output_type": "stream",
          "name": "stdout",
          "text": [
            "\b\b\b\b\b\b\b\b\b\b\b\b\b\b\b\b\b\b\b\b\b\b\b\b\b\b\b\b\b\b\b\b\b\b\b\b\b\b\b\b\b\b\b\b\b\b\b\b\b\b\b\b\b\b\b\b\b\b\b\b\b\b\b\b\b\b\b\b\b\b\b\b\b\b\b\b\b\b\b\b\b\b\r16/16 [==============================] - 2s 110ms/step - loss: 0.3864 - accuracy: 0.9705\n",
            "Epoch 49/100\n",
            "16/16 [==============================] - ETA: 0s - loss: 0.3898 - accuracy: 0.9673"
          ]
        },
        {
          "output_type": "stream",
          "name": "stderr",
          "text": [
            "WARNING:tensorflow:Can save best model only with val_accuracy available, skipping.\n"
          ]
        },
        {
          "output_type": "stream",
          "name": "stdout",
          "text": [
            "\b\b\b\b\b\b\b\b\b\b\b\b\b\b\b\b\b\b\b\b\b\b\b\b\b\b\b\b\b\b\b\b\b\b\b\b\b\b\b\b\b\b\b\b\b\b\b\b\b\b\b\b\b\b\b\b\b\b\b\b\b\b\b\b\b\b\b\b\b\b\b\b\b\b\b\b\b\b\b\b\b\b\r16/16 [==============================] - 1s 85ms/step - loss: 0.3898 - accuracy: 0.9673\n",
            "Epoch 50/100\n",
            "16/16 [==============================] - ETA: 0s - loss: 0.3869 - accuracy: 0.9710"
          ]
        },
        {
          "output_type": "stream",
          "name": "stderr",
          "text": [
            "WARNING:tensorflow:Can save best model only with val_accuracy available, skipping.\n"
          ]
        },
        {
          "output_type": "stream",
          "name": "stdout",
          "text": [
            "\b\b\b\b\b\b\b\b\b\b\b\b\b\b\b\b\b\b\b\b\b\b\b\b\b\b\b\b\b\b\b\b\b\b\b\b\b\b\b\b\b\b\b\b\b\b\b\b\b\b\b\b\b\b\b\b\b\b\b\b\b\b\b\b\b\b\b\b\b\b\b\b\b\b\b\b\b\b\b\b\b\b\r16/16 [==============================] - 1s 76ms/step - loss: 0.3869 - accuracy: 0.9710\n",
            "Epoch 51/100\n",
            "16/16 [==============================] - ETA: 0s - loss: 0.3816 - accuracy: 0.9742"
          ]
        },
        {
          "output_type": "stream",
          "name": "stderr",
          "text": [
            "WARNING:tensorflow:Can save best model only with val_accuracy available, skipping.\n"
          ]
        },
        {
          "output_type": "stream",
          "name": "stdout",
          "text": [
            "\b\b\b\b\b\b\b\b\b\b\b\b\b\b\b\b\b\b\b\b\b\b\b\b\b\b\b\b\b\b\b\b\b\b\b\b\b\b\b\b\b\b\b\b\b\b\b\b\b\b\b\b\b\b\b\b\b\b\b\b\b\b\b\b\b\b\b\b\b\b\b\b\b\b\b\b\b\b\b\b\b\b\r16/16 [==============================] - 1s 75ms/step - loss: 0.3816 - accuracy: 0.9742\n",
            "Epoch 52/100\n",
            "16/16 [==============================] - ETA: 0s - loss: 0.3851 - accuracy: 0.9717"
          ]
        },
        {
          "output_type": "stream",
          "name": "stderr",
          "text": [
            "WARNING:tensorflow:Can save best model only with val_accuracy available, skipping.\n"
          ]
        },
        {
          "output_type": "stream",
          "name": "stdout",
          "text": [
            "\b\b\b\b\b\b\b\b\b\b\b\b\b\b\b\b\b\b\b\b\b\b\b\b\b\b\b\b\b\b\b\b\b\b\b\b\b\b\b\b\b\b\b\b\b\b\b\b\b\b\b\b\b\b\b\b\b\b\b\b\b\b\b\b\b\b\b\b\b\b\b\b\b\b\b\b\b\b\b\b\b\b\r16/16 [==============================] - 2s 95ms/step - loss: 0.3851 - accuracy: 0.9717\n",
            "Epoch 53/100\n",
            "16/16 [==============================] - ETA: 0s - loss: 0.3794 - accuracy: 0.9766"
          ]
        },
        {
          "output_type": "stream",
          "name": "stderr",
          "text": [
            "WARNING:tensorflow:Can save best model only with val_accuracy available, skipping.\n"
          ]
        },
        {
          "output_type": "stream",
          "name": "stdout",
          "text": [
            "\b\b\b\b\b\b\b\b\b\b\b\b\b\b\b\b\b\b\b\b\b\b\b\b\b\b\b\b\b\b\b\b\b\b\b\b\b\b\b\b\b\b\b\b\b\b\b\b\b\b\b\b\b\b\b\b\b\b\b\b\b\b\b\b\b\b\b\b\b\b\b\b\b\b\b\b\b\b\b\b\b\b\r16/16 [==============================] - 2s 103ms/step - loss: 0.3794 - accuracy: 0.9766\n",
            "Epoch 54/100\n",
            "16/16 [==============================] - ETA: 0s - loss: 0.3799 - accuracy: 0.9776"
          ]
        },
        {
          "output_type": "stream",
          "name": "stderr",
          "text": [
            "WARNING:tensorflow:Can save best model only with val_accuracy available, skipping.\n"
          ]
        },
        {
          "output_type": "stream",
          "name": "stdout",
          "text": [
            "\b\b\b\b\b\b\b\b\b\b\b\b\b\b\b\b\b\b\b\b\b\b\b\b\b\b\b\b\b\b\b\b\b\b\b\b\b\b\b\b\b\b\b\b\b\b\b\b\b\b\b\b\b\b\b\b\b\b\b\b\b\b\b\b\b\b\b\b\b\b\b\b\b\b\b\b\b\b\b\b\b\b\r16/16 [==============================] - 2s 119ms/step - loss: 0.3799 - accuracy: 0.9776\n",
            "Epoch 55/100\n",
            "16/16 [==============================] - ETA: 0s - loss: 0.3782 - accuracy: 0.9749"
          ]
        },
        {
          "output_type": "stream",
          "name": "stderr",
          "text": [
            "WARNING:tensorflow:Can save best model only with val_accuracy available, skipping.\n"
          ]
        },
        {
          "output_type": "stream",
          "name": "stdout",
          "text": [
            "\b\b\b\b\b\b\b\b\b\b\b\b\b\b\b\b\b\b\b\b\b\b\b\b\b\b\b\b\b\b\b\b\b\b\b\b\b\b\b\b\b\b\b\b\b\b\b\b\b\b\b\b\b\b\b\b\b\b\b\b\b\b\b\b\b\b\b\b\b\b\b\b\b\b\b\b\b\b\b\b\b\b\r16/16 [==============================] - 2s 98ms/step - loss: 0.3782 - accuracy: 0.9749\n",
            "Epoch 56/100\n",
            "16/16 [==============================] - ETA: 0s - loss: 0.3753 - accuracy: 0.9771"
          ]
        },
        {
          "output_type": "stream",
          "name": "stderr",
          "text": [
            "WARNING:tensorflow:Can save best model only with val_accuracy available, skipping.\n"
          ]
        },
        {
          "output_type": "stream",
          "name": "stdout",
          "text": [
            "\b\b\b\b\b\b\b\b\b\b\b\b\b\b\b\b\b\b\b\b\b\b\b\b\b\b\b\b\b\b\b\b\b\b\b\b\b\b\b\b\b\b\b\b\b\b\b\b\b\b\b\b\b\b\b\b\b\b\b\b\b\b\b\b\b\b\b\b\b\b\b\b\b\b\b\b\b\b\b\b\b\b\r16/16 [==============================] - 1s 93ms/step - loss: 0.3753 - accuracy: 0.9771\n",
            "Epoch 57/100\n",
            "16/16 [==============================] - ETA: 0s - loss: 0.3745 - accuracy: 0.9779"
          ]
        },
        {
          "output_type": "stream",
          "name": "stderr",
          "text": [
            "WARNING:tensorflow:Can save best model only with val_accuracy available, skipping.\n"
          ]
        },
        {
          "output_type": "stream",
          "name": "stdout",
          "text": [
            "\b\b\b\b\b\b\b\b\b\b\b\b\b\b\b\b\b\b\b\b\b\b\b\b\b\b\b\b\b\b\b\b\b\b\b\b\b\b\b\b\b\b\b\b\b\b\b\b\b\b\b\b\b\b\b\b\b\b\b\b\b\b\b\b\b\b\b\b\b\b\b\b\b\b\b\b\b\b\b\b\b\b\r16/16 [==============================] - 2s 121ms/step - loss: 0.3745 - accuracy: 0.9779\n",
            "Epoch 58/100\n",
            "16/16 [==============================] - ETA: 0s - loss: 0.3726 - accuracy: 0.9793"
          ]
        },
        {
          "output_type": "stream",
          "name": "stderr",
          "text": [
            "WARNING:tensorflow:Can save best model only with val_accuracy available, skipping.\n"
          ]
        },
        {
          "output_type": "stream",
          "name": "stdout",
          "text": [
            "\b\b\b\b\b\b\b\b\b\b\b\b\b\b\b\b\b\b\b\b\b\b\b\b\b\b\b\b\b\b\b\b\b\b\b\b\b\b\b\b\b\b\b\b\b\b\b\b\b\b\b\b\b\b\b\b\b\b\b\b\b\b\b\b\b\b\b\b\b\b\b\b\b\b\b\b\b\b\b\b\b\b\r16/16 [==============================] - 2s 150ms/step - loss: 0.3726 - accuracy: 0.9793\n",
            "Epoch 59/100\n",
            "16/16 [==============================] - ETA: 0s - loss: 0.3728 - accuracy: 0.9811"
          ]
        },
        {
          "output_type": "stream",
          "name": "stderr",
          "text": [
            "WARNING:tensorflow:Can save best model only with val_accuracy available, skipping.\n"
          ]
        },
        {
          "output_type": "stream",
          "name": "stdout",
          "text": [
            "\b\b\b\b\b\b\b\b\b\b\b\b\b\b\b\b\b\b\b\b\b\b\b\b\b\b\b\b\b\b\b\b\b\b\b\b\b\b\b\b\b\b\b\b\b\b\b\b\b\b\b\b\b\b\b\b\b\b\b\b\b\b\b\b\b\b\b\b\b\b\b\b\b\b\b\b\b\b\b\b\b\b\r16/16 [==============================] - 2s 130ms/step - loss: 0.3728 - accuracy: 0.9811\n",
            "Epoch 60/100\n",
            "16/16 [==============================] - ETA: 0s - loss: 0.3721 - accuracy: 0.9796"
          ]
        },
        {
          "output_type": "stream",
          "name": "stderr",
          "text": [
            "WARNING:tensorflow:Can save best model only with val_accuracy available, skipping.\n"
          ]
        },
        {
          "output_type": "stream",
          "name": "stdout",
          "text": [
            "\b\b\b\b\b\b\b\b\b\b\b\b\b\b\b\b\b\b\b\b\b\b\b\b\b\b\b\b\b\b\b\b\b\b\b\b\b\b\b\b\b\b\b\b\b\b\b\b\b\b\b\b\b\b\b\b\b\b\b\b\b\b\b\b\b\b\b\b\b\b\b\b\b\b\b\b\b\b\b\b\b\b\r16/16 [==============================] - 2s 129ms/step - loss: 0.3721 - accuracy: 0.9796\n",
            "Epoch 61/100\n",
            "15/16 [===========================>..] - ETA: 0s - loss: 0.3769 - accuracy: 0.9776"
          ]
        },
        {
          "output_type": "stream",
          "name": "stderr",
          "text": [
            "WARNING:tensorflow:Can save best model only with val_accuracy available, skipping.\n"
          ]
        },
        {
          "output_type": "stream",
          "name": "stdout",
          "text": [
            "\b\b\b\b\b\b\b\b\b\b\b\b\b\b\b\b\b\b\b\b\b\b\b\b\b\b\b\b\b\b\b\b\b\b\b\b\b\b\b\b\b\b\b\b\b\b\b\b\b\b\b\b\b\b\b\b\b\b\b\b\b\b\b\b\b\b\b\b\b\b\b\b\b\b\b\b\b\b\b\b\b\b\r16/16 [==============================] - 1s 70ms/step - loss: 0.3765 - accuracy: 0.9776\n",
            "Epoch 62/100\n",
            "15/16 [===========================>..] - ETA: 0s - loss: 0.3721 - accuracy: 0.9789"
          ]
        },
        {
          "output_type": "stream",
          "name": "stderr",
          "text": [
            "WARNING:tensorflow:Can save best model only with val_accuracy available, skipping.\n"
          ]
        },
        {
          "output_type": "stream",
          "name": "stdout",
          "text": [
            "\b\b\b\b\b\b\b\b\b\b\b\b\b\b\b\b\b\b\b\b\b\b\b\b\b\b\b\b\b\b\b\b\b\b\b\b\b\b\b\b\b\b\b\b\b\b\b\b\b\b\b\b\b\b\b\b\b\b\b\b\b\b\b\b\b\b\b\b\b\b\b\b\b\b\b\b\b\b\b\b\b\b\r16/16 [==============================] - 1s 50ms/step - loss: 0.3727 - accuracy: 0.9786\n",
            "Epoch 63/100\n",
            "16/16 [==============================] - ETA: 0s - loss: 0.3699 - accuracy: 0.9806"
          ]
        },
        {
          "output_type": "stream",
          "name": "stderr",
          "text": [
            "WARNING:tensorflow:Can save best model only with val_accuracy available, skipping.\n"
          ]
        },
        {
          "output_type": "stream",
          "name": "stdout",
          "text": [
            "\b\b\b\b\b\b\b\b\b\b\b\b\b\b\b\b\b\b\b\b\b\b\b\b\b\b\b\b\b\b\b\b\b\b\b\b\b\b\b\b\b\b\b\b\b\b\b\b\b\b\b\b\b\b\b\b\b\b\b\b\b\b\b\b\b\b\b\b\b\b\b\b\b\b\b\b\b\b\b\b\b\b\r16/16 [==============================] - 1s 88ms/step - loss: 0.3699 - accuracy: 0.9806\n",
            "Epoch 64/100\n",
            "16/16 [==============================] - ETA: 0s - loss: 0.3672 - accuracy: 0.9823"
          ]
        },
        {
          "output_type": "stream",
          "name": "stderr",
          "text": [
            "WARNING:tensorflow:Can save best model only with val_accuracy available, skipping.\n"
          ]
        },
        {
          "output_type": "stream",
          "name": "stdout",
          "text": [
            "\b\b\b\b\b\b\b\b\b\b\b\b\b\b\b\b\b\b\b\b\b\b\b\b\b\b\b\b\b\b\b\b\b\b\b\b\b\b\b\b\b\b\b\b\b\b\b\b\b\b\b\b\b\b\b\b\b\b\b\b\b\b\b\b\b\b\b\b\b\b\b\b\b\b\b\b\b\b\b\b\b\b\r16/16 [==============================] - 2s 103ms/step - loss: 0.3672 - accuracy: 0.9823\n",
            "Epoch 65/100\n",
            "16/16 [==============================] - ETA: 0s - loss: 0.3677 - accuracy: 0.9825"
          ]
        },
        {
          "output_type": "stream",
          "name": "stderr",
          "text": [
            "WARNING:tensorflow:Can save best model only with val_accuracy available, skipping.\n"
          ]
        },
        {
          "output_type": "stream",
          "name": "stdout",
          "text": [
            "\b\b\b\b\b\b\b\b\b\b\b\b\b\b\b\b\b\b\b\b\b\b\b\b\b\b\b\b\b\b\b\b\b\b\b\b\b\b\b\b\b\b\b\b\b\b\b\b\b\b\b\b\b\b\b\b\b\b\b\b\b\b\b\b\b\b\b\b\b\b\b\b\b\b\b\b\b\b\b\b\b\b\r16/16 [==============================] - 2s 102ms/step - loss: 0.3677 - accuracy: 0.9825\n",
            "Epoch 66/100\n",
            "15/16 [===========================>..] - ETA: 0s - loss: 0.3639 - accuracy: 0.9862"
          ]
        },
        {
          "output_type": "stream",
          "name": "stderr",
          "text": [
            "WARNING:tensorflow:Can save best model only with val_accuracy available, skipping.\n"
          ]
        },
        {
          "output_type": "stream",
          "name": "stdout",
          "text": [
            "\b\b\b\b\b\b\b\b\b\b\b\b\b\b\b\b\b\b\b\b\b\b\b\b\b\b\b\b\b\b\b\b\b\b\b\b\b\b\b\b\b\b\b\b\b\b\b\b\b\b\b\b\b\b\b\b\b\b\b\b\b\b\b\b\b\b\b\b\b\b\b\b\b\b\b\b\b\b\b\b\b\b\r16/16 [==============================] - 2s 116ms/step - loss: 0.3636 - accuracy: 0.9865\n",
            "Epoch 67/100\n",
            "16/16 [==============================] - ETA: 0s - loss: 0.3626 - accuracy: 0.9855"
          ]
        },
        {
          "output_type": "stream",
          "name": "stderr",
          "text": [
            "WARNING:tensorflow:Can save best model only with val_accuracy available, skipping.\n"
          ]
        },
        {
          "output_type": "stream",
          "name": "stdout",
          "text": [
            "\b\b\b\b\b\b\b\b\b\b\b\b\b\b\b\b\b\b\b\b\b\b\b\b\b\b\b\b\b\b\b\b\b\b\b\b\b\b\b\b\b\b\b\b\b\b\b\b\b\b\b\b\b\b\b\b\b\b\b\b\b\b\b\b\b\b\b\b\b\b\b\b\b\b\b\b\b\b\b\b\b\b\r16/16 [==============================] - 1s 77ms/step - loss: 0.3626 - accuracy: 0.9855\n",
            "Epoch 68/100\n",
            "16/16 [==============================] - ETA: 0s - loss: 0.3688 - accuracy: 0.9816"
          ]
        },
        {
          "output_type": "stream",
          "name": "stderr",
          "text": [
            "WARNING:tensorflow:Can save best model only with val_accuracy available, skipping.\n"
          ]
        },
        {
          "output_type": "stream",
          "name": "stdout",
          "text": [
            "\b\b\b\b\b\b\b\b\b\b\b\b\b\b\b\b\b\b\b\b\b\b\b\b\b\b\b\b\b\b\b\b\b\b\b\b\b\b\b\b\b\b\b\b\b\b\b\b\b\b\b\b\b\b\b\b\b\b\b\b\b\b\b\b\b\b\b\b\b\b\b\b\b\b\b\b\b\b\b\b\b\b\r16/16 [==============================] - 3s 177ms/step - loss: 0.3688 - accuracy: 0.9816\n",
            "Epoch 69/100\n",
            "16/16 [==============================] - ETA: 0s - loss: 0.3617 - accuracy: 0.9852"
          ]
        },
        {
          "output_type": "stream",
          "name": "stderr",
          "text": [
            "WARNING:tensorflow:Can save best model only with val_accuracy available, skipping.\n"
          ]
        },
        {
          "output_type": "stream",
          "name": "stdout",
          "text": [
            "\b\b\b\b\b\b\b\b\b\b\b\b\b\b\b\b\b\b\b\b\b\b\b\b\b\b\b\b\b\b\b\b\b\b\b\b\b\b\b\b\b\b\b\b\b\b\b\b\b\b\b\b\b\b\b\b\b\b\b\b\b\b\b\b\b\b\b\b\b\b\b\b\b\b\b\b\b\b\b\b\b\b\r16/16 [==============================] - 4s 235ms/step - loss: 0.3617 - accuracy: 0.9852\n",
            "Epoch 70/100\n",
            "16/16 [==============================] - ETA: 0s - loss: 0.3625 - accuracy: 0.9833"
          ]
        },
        {
          "output_type": "stream",
          "name": "stderr",
          "text": [
            "WARNING:tensorflow:Can save best model only with val_accuracy available, skipping.\n"
          ]
        },
        {
          "output_type": "stream",
          "name": "stdout",
          "text": [
            "\b\b\b\b\b\b\b\b\b\b\b\b\b\b\b\b\b\b\b\b\b\b\b\b\b\b\b\b\b\b\b\b\b\b\b\b\b\b\b\b\b\b\b\b\b\b\b\b\b\b\b\b\b\b\b\b\b\b\b\b\b\b\b\b\b\b\b\b\b\b\b\b\b\b\b\b\b\b\b\b\b\b\r16/16 [==============================] - 2s 137ms/step - loss: 0.3625 - accuracy: 0.9833\n",
            "Epoch 71/100\n",
            "16/16 [==============================] - ETA: 0s - loss: 0.3713 - accuracy: 0.9798"
          ]
        },
        {
          "output_type": "stream",
          "name": "stderr",
          "text": [
            "WARNING:tensorflow:Can save best model only with val_accuracy available, skipping.\n"
          ]
        },
        {
          "output_type": "stream",
          "name": "stdout",
          "text": [
            "\b\b\b\b\b\b\b\b\b\b\b\b\b\b\b\b\b\b\b\b\b\b\b\b\b\b\b\b\b\b\b\b\b\b\b\b\b\b\b\b\b\b\b\b\b\b\b\b\b\b\b\b\b\b\b\b\b\b\b\b\b\b\b\b\b\b\b\b\b\b\b\b\b\b\b\b\b\b\b\b\b\b\r16/16 [==============================] - 2s 103ms/step - loss: 0.3713 - accuracy: 0.9798\n",
            "Epoch 72/100\n",
            "16/16 [==============================] - ETA: 0s - loss: 0.3718 - accuracy: 0.9793"
          ]
        },
        {
          "output_type": "stream",
          "name": "stderr",
          "text": [
            "WARNING:tensorflow:Can save best model only with val_accuracy available, skipping.\n"
          ]
        },
        {
          "output_type": "stream",
          "name": "stdout",
          "text": [
            "\b\b\b\b\b\b\b\b\b\b\b\b\b\b\b\b\b\b\b\b\b\b\b\b\b\b\b\b\b\b\b\b\b\b\b\b\b\b\b\b\b\b\b\b\b\b\b\b\b\b\b\b\b\b\b\b\b\b\b\b\b\b\b\b\b\b\b\b\b\b\b\b\b\b\b\b\b\b\b\b\b\b\r16/16 [==============================] - 2s 105ms/step - loss: 0.3718 - accuracy: 0.9793\n",
            "Epoch 73/100\n",
            "16/16 [==============================] - ETA: 0s - loss: 0.3608 - accuracy: 0.9838"
          ]
        },
        {
          "output_type": "stream",
          "name": "stderr",
          "text": [
            "WARNING:tensorflow:Can save best model only with val_accuracy available, skipping.\n"
          ]
        },
        {
          "output_type": "stream",
          "name": "stdout",
          "text": [
            "\b\b\b\b\b\b\b\b\b\b\b\b\b\b\b\b\b\b\b\b\b\b\b\b\b\b\b\b\b\b\b\b\b\b\b\b\b\b\b\b\b\b\b\b\b\b\b\b\b\b\b\b\b\b\b\b\b\b\b\b\b\b\b\b\b\b\b\b\b\b\b\b\b\b\b\b\b\b\b\b\b\b\r16/16 [==============================] - 2s 121ms/step - loss: 0.3608 - accuracy: 0.9838\n",
            "Epoch 74/100\n",
            "16/16 [==============================] - ETA: 0s - loss: 0.3599 - accuracy: 0.9875"
          ]
        },
        {
          "output_type": "stream",
          "name": "stderr",
          "text": [
            "WARNING:tensorflow:Can save best model only with val_accuracy available, skipping.\n"
          ]
        },
        {
          "output_type": "stream",
          "name": "stdout",
          "text": [
            "\b\b\b\b\b\b\b\b\b\b\b\b\b\b\b\b\b\b\b\b\b\b\b\b\b\b\b\b\b\b\b\b\b\b\b\b\b\b\b\b\b\b\b\b\b\b\b\b\b\b\b\b\b\b\b\b\b\b\b\b\b\b\b\b\b\b\b\b\b\b\b\b\b\b\b\b\b\b\b\b\b\b\r16/16 [==============================] - 1s 89ms/step - loss: 0.3599 - accuracy: 0.9875\n",
            "Epoch 75/100\n",
            "16/16 [==============================] - ETA: 0s - loss: 0.3634 - accuracy: 0.9825"
          ]
        },
        {
          "output_type": "stream",
          "name": "stderr",
          "text": [
            "WARNING:tensorflow:Can save best model only with val_accuracy available, skipping.\n"
          ]
        },
        {
          "output_type": "stream",
          "name": "stdout",
          "text": [
            "\b\b\b\b\b\b\b\b\b\b\b\b\b\b\b\b\b\b\b\b\b\b\b\b\b\b\b\b\b\b\b\b\b\b\b\b\b\b\b\b\b\b\b\b\b\b\b\b\b\b\b\b\b\b\b\b\b\b\b\b\b\b\b\b\b\b\b\b\b\b\b\b\b\b\b\b\b\b\b\b\b\b\r16/16 [==============================] - 1s 49ms/step - loss: 0.3634 - accuracy: 0.9825\n",
            "Epoch 76/100\n",
            "16/16 [==============================] - ETA: 0s - loss: 0.3598 - accuracy: 0.9862"
          ]
        },
        {
          "output_type": "stream",
          "name": "stderr",
          "text": [
            "WARNING:tensorflow:Can save best model only with val_accuracy available, skipping.\n"
          ]
        },
        {
          "output_type": "stream",
          "name": "stdout",
          "text": [
            "\b\b\b\b\b\b\b\b\b\b\b\b\b\b\b\b\b\b\b\b\b\b\b\b\b\b\b\b\b\b\b\b\b\b\b\b\b\b\b\b\b\b\b\b\b\b\b\b\b\b\b\b\b\b\b\b\b\b\b\b\b\b\b\b\b\b\b\b\b\b\b\b\b\b\b\b\b\b\b\b\b\b\r16/16 [==============================] - 1s 50ms/step - loss: 0.3598 - accuracy: 0.9862\n",
            "Epoch 77/100\n",
            "16/16 [==============================] - ETA: 0s - loss: 0.3549 - accuracy: 0.9882"
          ]
        },
        {
          "output_type": "stream",
          "name": "stderr",
          "text": [
            "WARNING:tensorflow:Can save best model only with val_accuracy available, skipping.\n"
          ]
        },
        {
          "output_type": "stream",
          "name": "stdout",
          "text": [
            "\b\b\b\b\b\b\b\b\b\b\b\b\b\b\b\b\b\b\b\b\b\b\b\b\b\b\b\b\b\b\b\b\b\b\b\b\b\b\b\b\b\b\b\b\b\b\b\b\b\b\b\b\b\b\b\b\b\b\b\b\b\b\b\b\b\b\b\b\b\b\b\b\b\b\b\b\b\b\b\b\b\b\r16/16 [==============================] - 1s 51ms/step - loss: 0.3549 - accuracy: 0.9882\n",
            "Epoch 78/100\n",
            "16/16 [==============================] - ETA: 0s - loss: 0.3591 - accuracy: 0.9872"
          ]
        },
        {
          "output_type": "stream",
          "name": "stderr",
          "text": [
            "WARNING:tensorflow:Can save best model only with val_accuracy available, skipping.\n"
          ]
        },
        {
          "output_type": "stream",
          "name": "stdout",
          "text": [
            "\b\b\b\b\b\b\b\b\b\b\b\b\b\b\b\b\b\b\b\b\b\b\b\b\b\b\b\b\b\b\b\b\b\b\b\b\b\b\b\b\b\b\b\b\b\b\b\b\b\b\b\b\b\b\b\b\b\b\b\b\b\b\b\b\b\b\b\b\b\b\b\b\b\b\b\b\b\b\b\b\b\b\r16/16 [==============================] - 2s 148ms/step - loss: 0.3591 - accuracy: 0.9872\n",
            "Epoch 79/100\n",
            "16/16 [==============================] - ETA: 0s - loss: 0.3618 - accuracy: 0.9862"
          ]
        },
        {
          "output_type": "stream",
          "name": "stderr",
          "text": [
            "WARNING:tensorflow:Can save best model only with val_accuracy available, skipping.\n"
          ]
        },
        {
          "output_type": "stream",
          "name": "stdout",
          "text": [
            "\b\b\b\b\b\b\b\b\b\b\b\b\b\b\b\b\b\b\b\b\b\b\b\b\b\b\b\b\b\b\b\b\b\b\b\b\b\b\b\b\b\b\b\b\b\b\b\b\b\b\b\b\b\b\b\b\b\b\b\b\b\b\b\b\b\b\b\b\b\b\b\b\b\b\b\b\b\b\b\b\b\b\r16/16 [==============================] - 3s 159ms/step - loss: 0.3618 - accuracy: 0.9862\n",
            "Epoch 80/100\n",
            "16/16 [==============================] - ETA: 0s - loss: 0.3594 - accuracy: 0.9875"
          ]
        },
        {
          "output_type": "stream",
          "name": "stderr",
          "text": [
            "WARNING:tensorflow:Can save best model only with val_accuracy available, skipping.\n"
          ]
        },
        {
          "output_type": "stream",
          "name": "stdout",
          "text": [
            "\b\b\b\b\b\b\b\b\b\b\b\b\b\b\b\b\b\b\b\b\b\b\b\b\b\b\b\b\b\b\b\b\b\b\b\b\b\b\b\b\b\b\b\b\b\b\b\b\b\b\b\b\b\b\b\b\b\b\b\b\b\b\b\b\b\b\b\b\b\b\b\b\b\b\b\b\b\b\b\b\b\b\r16/16 [==============================] - 2s 122ms/step - loss: 0.3594 - accuracy: 0.9875\n",
            "Epoch 81/100\n",
            "16/16 [==============================] - ETA: 0s - loss: 0.3629 - accuracy: 0.9840"
          ]
        },
        {
          "output_type": "stream",
          "name": "stderr",
          "text": [
            "WARNING:tensorflow:Can save best model only with val_accuracy available, skipping.\n"
          ]
        },
        {
          "output_type": "stream",
          "name": "stdout",
          "text": [
            "\b\b\b\b\b\b\b\b\b\b\b\b\b\b\b\b\b\b\b\b\b\b\b\b\b\b\b\b\b\b\b\b\b\b\b\b\b\b\b\b\b\b\b\b\b\b\b\b\b\b\b\b\b\b\b\b\b\b\b\b\b\b\b\b\b\b\b\b\b\b\b\b\b\b\b\b\b\b\b\b\b\b\r16/16 [==============================] - 1s 75ms/step - loss: 0.3629 - accuracy: 0.9840\n",
            "Epoch 82/100\n",
            "15/16 [===========================>..] - ETA: 0s - loss: 0.3568 - accuracy: 0.9875"
          ]
        },
        {
          "output_type": "stream",
          "name": "stderr",
          "text": [
            "WARNING:tensorflow:Can save best model only with val_accuracy available, skipping.\n"
          ]
        },
        {
          "output_type": "stream",
          "name": "stdout",
          "text": [
            "\b\b\b\b\b\b\b\b\b\b\b\b\b\b\b\b\b\b\b\b\b\b\b\b\b\b\b\b\b\b\b\b\b\b\b\b\b\b\b\b\b\b\b\b\b\b\b\b\b\b\b\b\b\b\b\b\b\b\b\b\b\b\b\b\b\b\b\b\b\b\b\b\b\b\b\b\b\b\b\b\b\b\r16/16 [==============================] - 1s 51ms/step - loss: 0.3555 - accuracy: 0.9882\n",
            "Epoch 83/100\n",
            "16/16 [==============================] - ETA: 0s - loss: 0.3605 - accuracy: 0.9865"
          ]
        },
        {
          "output_type": "stream",
          "name": "stderr",
          "text": [
            "WARNING:tensorflow:Can save best model only with val_accuracy available, skipping.\n"
          ]
        },
        {
          "output_type": "stream",
          "name": "stdout",
          "text": [
            "\b\b\b\b\b\b\b\b\b\b\b\b\b\b\b\b\b\b\b\b\b\b\b\b\b\b\b\b\b\b\b\b\b\b\b\b\b\b\b\b\b\b\b\b\b\b\b\b\b\b\b\b\b\b\b\b\b\b\b\b\b\b\b\b\b\b\b\b\b\b\b\b\b\b\b\b\b\b\b\b\b\b\r16/16 [==============================] - 1s 49ms/step - loss: 0.3605 - accuracy: 0.9865\n",
            "Epoch 84/100\n",
            "15/16 [===========================>..] - ETA: 0s - loss: 0.3570 - accuracy: 0.9878"
          ]
        },
        {
          "output_type": "stream",
          "name": "stderr",
          "text": [
            "WARNING:tensorflow:Can save best model only with val_accuracy available, skipping.\n"
          ]
        },
        {
          "output_type": "stream",
          "name": "stdout",
          "text": [
            "\b\b\b\b\b\b\b\b\b\b\b\b\b\b\b\b\b\b\b\b\b\b\b\b\b\b\b\b\b\b\b\b\b\b\b\b\b\b\b\b\b\b\b\b\b\b\b\b\b\b\b\b\b\b\b\b\b\b\b\b\b\b\b\b\b\b\b\b\b\b\b\b\b\b\b\b\b\b\b\b\b\b\r16/16 [==============================] - 1s 48ms/step - loss: 0.3561 - accuracy: 0.9882\n",
            "Epoch 85/100\n",
            "16/16 [==============================] - ETA: 0s - loss: 0.3584 - accuracy: 0.9875"
          ]
        },
        {
          "output_type": "stream",
          "name": "stderr",
          "text": [
            "WARNING:tensorflow:Can save best model only with val_accuracy available, skipping.\n"
          ]
        },
        {
          "output_type": "stream",
          "name": "stdout",
          "text": [
            "\b\b\b\b\b\b\b\b\b\b\b\b\b\b\b\b\b\b\b\b\b\b\b\b\b\b\b\b\b\b\b\b\b\b\b\b\b\b\b\b\b\b\b\b\b\b\b\b\b\b\b\b\b\b\b\b\b\b\b\b\b\b\b\b\b\b\b\b\b\b\b\b\b\b\b\b\b\b\b\b\b\b\r16/16 [==============================] - 1s 52ms/step - loss: 0.3584 - accuracy: 0.9875\n",
            "Epoch 86/100\n",
            "16/16 [==============================] - ETA: 0s - loss: 0.3614 - accuracy: 0.9867"
          ]
        },
        {
          "output_type": "stream",
          "name": "stderr",
          "text": [
            "WARNING:tensorflow:Can save best model only with val_accuracy available, skipping.\n"
          ]
        },
        {
          "output_type": "stream",
          "name": "stdout",
          "text": [
            "\b\b\b\b\b\b\b\b\b\b\b\b\b\b\b\b\b\b\b\b\b\b\b\b\b\b\b\b\b\b\b\b\b\b\b\b\b\b\b\b\b\b\b\b\b\b\b\b\b\b\b\b\b\b\b\b\b\b\b\b\b\b\b\b\b\b\b\b\b\b\b\b\b\b\b\b\b\b\b\b\b\b\r16/16 [==============================] - 1s 55ms/step - loss: 0.3614 - accuracy: 0.9867\n",
            "Epoch 87/100\n",
            "16/16 [==============================] - ETA: 0s - loss: 0.3640 - accuracy: 0.9843"
          ]
        },
        {
          "output_type": "stream",
          "name": "stderr",
          "text": [
            "WARNING:tensorflow:Can save best model only with val_accuracy available, skipping.\n"
          ]
        },
        {
          "output_type": "stream",
          "name": "stdout",
          "text": [
            "\b\b\b\b\b\b\b\b\b\b\b\b\b\b\b\b\b\b\b\b\b\b\b\b\b\b\b\b\b\b\b\b\b\b\b\b\b\b\b\b\b\b\b\b\b\b\b\b\b\b\b\b\b\b\b\b\b\b\b\b\b\b\b\b\b\b\b\b\b\b\b\b\b\b\b\b\b\b\b\b\b\b\r16/16 [==============================] - 1s 53ms/step - loss: 0.3640 - accuracy: 0.9843\n",
            "Epoch 88/100\n",
            "16/16 [==============================] - ETA: 0s - loss: 0.3583 - accuracy: 0.9860"
          ]
        },
        {
          "output_type": "stream",
          "name": "stderr",
          "text": [
            "WARNING:tensorflow:Can save best model only with val_accuracy available, skipping.\n"
          ]
        },
        {
          "output_type": "stream",
          "name": "stdout",
          "text": [
            "\b\b\b\b\b\b\b\b\b\b\b\b\b\b\b\b\b\b\b\b\b\b\b\b\b\b\b\b\b\b\b\b\b\b\b\b\b\b\b\b\b\b\b\b\b\b\b\b\b\b\b\b\b\b\b\b\b\b\b\b\b\b\b\b\b\b\b\b\b\b\b\b\b\b\b\b\b\b\b\b\b\b\r16/16 [==============================] - 1s 55ms/step - loss: 0.3583 - accuracy: 0.9860\n",
            "Epoch 89/100\n",
            "16/16 [==============================] - ETA: 0s - loss: 0.3617 - accuracy: 0.9860"
          ]
        },
        {
          "output_type": "stream",
          "name": "stderr",
          "text": [
            "WARNING:tensorflow:Can save best model only with val_accuracy available, skipping.\n"
          ]
        },
        {
          "output_type": "stream",
          "name": "stdout",
          "text": [
            "\b\b\b\b\b\b\b\b\b\b\b\b\b\b\b\b\b\b\b\b\b\b\b\b\b\b\b\b\b\b\b\b\b\b\b\b\b\b\b\b\b\b\b\b\b\b\b\b\b\b\b\b\b\b\b\b\b\b\b\b\b\b\b\b\b\b\b\b\b\b\b\b\b\b\b\b\b\b\b\b\b\b\r16/16 [==============================] - 1s 52ms/step - loss: 0.3617 - accuracy: 0.9860\n",
            "Epoch 90/100\n",
            "16/16 [==============================] - ETA: 0s - loss: 0.3521 - accuracy: 0.9894"
          ]
        },
        {
          "output_type": "stream",
          "name": "stderr",
          "text": [
            "WARNING:tensorflow:Can save best model only with val_accuracy available, skipping.\n"
          ]
        },
        {
          "output_type": "stream",
          "name": "stdout",
          "text": [
            "\b\b\b\b\b\b\b\b\b\b\b\b\b\b\b\b\b\b\b\b\b\b\b\b\b\b\b\b\b\b\b\b\b\b\b\b\b\b\b\b\b\b\b\b\b\b\b\b\b\b\b\b\b\b\b\b\b\b\b\b\b\b\b\b\b\b\b\b\b\b\b\b\b\b\b\b\b\b\b\b\b\b\r16/16 [==============================] - 1s 53ms/step - loss: 0.3521 - accuracy: 0.9894\n",
            "Epoch 91/100\n",
            "16/16 [==============================] - ETA: 0s - loss: 0.3518 - accuracy: 0.9894"
          ]
        },
        {
          "output_type": "stream",
          "name": "stderr",
          "text": [
            "WARNING:tensorflow:Can save best model only with val_accuracy available, skipping.\n"
          ]
        },
        {
          "output_type": "stream",
          "name": "stdout",
          "text": [
            "\b\b\b\b\b\b\b\b\b\b\b\b\b\b\b\b\b\b\b\b\b\b\b\b\b\b\b\b\b\b\b\b\b\b\b\b\b\b\b\b\b\b\b\b\b\b\b\b\b\b\b\b\b\b\b\b\b\b\b\b\b\b\b\b\b\b\b\b\b\b\b\b\b\b\b\b\b\b\b\b\b\b\r16/16 [==============================] - 1s 52ms/step - loss: 0.3518 - accuracy: 0.9894\n",
            "Epoch 92/100\n",
            "16/16 [==============================] - ETA: 0s - loss: 0.3544 - accuracy: 0.9889"
          ]
        },
        {
          "output_type": "stream",
          "name": "stderr",
          "text": [
            "WARNING:tensorflow:Can save best model only with val_accuracy available, skipping.\n"
          ]
        },
        {
          "output_type": "stream",
          "name": "stdout",
          "text": [
            "\b\b\b\b\b\b\b\b\b\b\b\b\b\b\b\b\b\b\b\b\b\b\b\b\b\b\b\b\b\b\b\b\b\b\b\b\b\b\b\b\b\b\b\b\b\b\b\b\b\b\b\b\b\b\b\b\b\b\b\b\b\b\b\b\b\b\b\b\b\b\b\b\b\b\b\b\b\b\b\b\b\b\r16/16 [==============================] - 1s 55ms/step - loss: 0.3544 - accuracy: 0.9889\n",
            "Epoch 93/100\n",
            "16/16 [==============================] - ETA: 0s - loss: 0.3542 - accuracy: 0.9897"
          ]
        },
        {
          "output_type": "stream",
          "name": "stderr",
          "text": [
            "WARNING:tensorflow:Can save best model only with val_accuracy available, skipping.\n"
          ]
        },
        {
          "output_type": "stream",
          "name": "stdout",
          "text": [
            "\b\b\b\b\b\b\b\b\b\b\b\b\b\b\b\b\b\b\b\b\b\b\b\b\b\b\b\b\b\b\b\b\b\b\b\b\b\b\b\b\b\b\b\b\b\b\b\b\b\b\b\b\b\b\b\b\b\b\b\b\b\b\b\b\b\b\b\b\b\b\b\b\b\b\b\b\b\b\b\b\b\b\r16/16 [==============================] - 1s 64ms/step - loss: 0.3542 - accuracy: 0.9897\n",
            "Epoch 94/100\n",
            "16/16 [==============================] - ETA: 0s - loss: 0.3645 - accuracy: 0.9850"
          ]
        },
        {
          "output_type": "stream",
          "name": "stderr",
          "text": [
            "WARNING:tensorflow:Can save best model only with val_accuracy available, skipping.\n"
          ]
        },
        {
          "output_type": "stream",
          "name": "stdout",
          "text": [
            "\b\b\b\b\b\b\b\b\b\b\b\b\b\b\b\b\b\b\b\b\b\b\b\b\b\b\b\b\b\b\b\b\b\b\b\b\b\b\b\b\b\b\b\b\b\b\b\b\b\b\b\b\b\b\b\b\b\b\b\b\b\b\b\b\b\b\b\b\b\b\b\b\b\b\b\b\b\b\b\b\b\b\r16/16 [==============================] - 1s 75ms/step - loss: 0.3645 - accuracy: 0.9850\n",
            "Epoch 95/100\n",
            "16/16 [==============================] - ETA: 0s - loss: 0.3570 - accuracy: 0.9882"
          ]
        },
        {
          "output_type": "stream",
          "name": "stderr",
          "text": [
            "WARNING:tensorflow:Can save best model only with val_accuracy available, skipping.\n"
          ]
        },
        {
          "output_type": "stream",
          "name": "stdout",
          "text": [
            "\b\b\b\b\b\b\b\b\b\b\b\b\b\b\b\b\b\b\b\b\b\b\b\b\b\b\b\b\b\b\b\b\b\b\b\b\b\b\b\b\b\b\b\b\b\b\b\b\b\b\b\b\b\b\b\b\b\b\b\b\b\b\b\b\b\b\b\b\b\b\b\b\b\b\b\b\b\b\b\b\b\b\r16/16 [==============================] - 1s 72ms/step - loss: 0.3570 - accuracy: 0.9882\n",
            "Epoch 96/100\n",
            "16/16 [==============================] - ETA: 0s - loss: 0.3524 - accuracy: 0.9904"
          ]
        },
        {
          "output_type": "stream",
          "name": "stderr",
          "text": [
            "WARNING:tensorflow:Can save best model only with val_accuracy available, skipping.\n"
          ]
        },
        {
          "output_type": "stream",
          "name": "stdout",
          "text": [
            "\b\b\b\b\b\b\b\b\b\b\b\b\b\b\b\b\b\b\b\b\b\b\b\b\b\b\b\b\b\b\b\b\b\b\b\b\b\b\b\b\b\b\b\b\b\b\b\b\b\b\b\b\b\b\b\b\b\b\b\b\b\b\b\b\b\b\b\b\b\b\b\b\b\b\b\b\b\b\b\b\b\b\r16/16 [==============================] - 1s 78ms/step - loss: 0.3524 - accuracy: 0.9904\n",
            "Epoch 97/100\n",
            "16/16 [==============================] - ETA: 0s - loss: 0.3507 - accuracy: 0.9911"
          ]
        },
        {
          "output_type": "stream",
          "name": "stderr",
          "text": [
            "WARNING:tensorflow:Can save best model only with val_accuracy available, skipping.\n"
          ]
        },
        {
          "output_type": "stream",
          "name": "stdout",
          "text": [
            "\b\b\b\b\b\b\b\b\b\b\b\b\b\b\b\b\b\b\b\b\b\b\b\b\b\b\b\b\b\b\b\b\b\b\b\b\b\b\b\b\b\b\b\b\b\b\b\b\b\b\b\b\b\b\b\b\b\b\b\b\b\b\b\b\b\b\b\b\b\b\b\b\b\b\b\b\b\b\b\b\b\b\r16/16 [==============================] - 1s 85ms/step - loss: 0.3507 - accuracy: 0.9911\n",
            "Epoch 98/100\n",
            "16/16 [==============================] - ETA: 0s - loss: 0.3499 - accuracy: 0.9914"
          ]
        },
        {
          "output_type": "stream",
          "name": "stderr",
          "text": [
            "WARNING:tensorflow:Can save best model only with val_accuracy available, skipping.\n"
          ]
        },
        {
          "output_type": "stream",
          "name": "stdout",
          "text": [
            "\b\b\b\b\b\b\b\b\b\b\b\b\b\b\b\b\b\b\b\b\b\b\b\b\b\b\b\b\b\b\b\b\b\b\b\b\b\b\b\b\b\b\b\b\b\b\b\b\b\b\b\b\b\b\b\b\b\b\b\b\b\b\b\b\b\b\b\b\b\b\b\b\b\b\b\b\b\b\b\b\b\b\r16/16 [==============================] - 1s 80ms/step - loss: 0.3499 - accuracy: 0.9914\n",
            "Epoch 99/100\n",
            "15/16 [===========================>..] - ETA: 0s - loss: 0.3516 - accuracy: 0.9904"
          ]
        },
        {
          "output_type": "stream",
          "name": "stderr",
          "text": [
            "WARNING:tensorflow:Can save best model only with val_accuracy available, skipping.\n"
          ]
        },
        {
          "output_type": "stream",
          "name": "stdout",
          "text": [
            "\b\b\b\b\b\b\b\b\b\b\b\b\b\b\b\b\b\b\b\b\b\b\b\b\b\b\b\b\b\b\b\b\b\b\b\b\b\b\b\b\b\b\b\b\b\b\b\b\b\b\b\b\b\b\b\b\b\b\b\b\b\b\b\b\b\b\b\b\b\b\b\b\b\b\b\b\b\b\b\b\b\b\r16/16 [==============================] - 1s 53ms/step - loss: 0.3514 - accuracy: 0.9904\n",
            "Epoch 100/100\n",
            "16/16 [==============================] - ETA: 0s - loss: 0.3522 - accuracy: 0.9894"
          ]
        },
        {
          "output_type": "stream",
          "name": "stderr",
          "text": [
            "WARNING:tensorflow:Can save best model only with val_accuracy available, skipping.\n"
          ]
        },
        {
          "output_type": "stream",
          "name": "stdout",
          "text": [
            "\b\b\b\b\b\b\b\b\b\b\b\b\b\b\b\b\b\b\b\b\b\b\b\b\b\b\b\b\b\b\b\b\b\b\b\b\b\b\b\b\b\b\b\b\b\b\b\b\b\b\b\b\b\b\b\b\b\b\b\b\b\b\b\b\b\b\b\b\b\b\b\b\b\b\b\b\b\b\b\b\b\b\r16/16 [==============================] - 1s 49ms/step - loss: 0.3522 - accuracy: 0.9894\n"
          ]
        }
      ]
    },
    {
      "cell_type": "code",
      "source": [
        "history0 = linear_classifier.fit(\n",
        "    x=centralTrainData,\n",
        "    y=centralTrainLabel,\n",
        "#    validation_data = (centralDevData,centralDevLabel),\n",
        "    batch_size=batch_size,\n",
        "    epochs=localEpoch,\n",
        "    verbose=showTrainVerbose,\n",
        "    class_weight=class_weights,\n",
        "    callbacks=[checkpoint_callback],\n",
        ")"
      ],
      "metadata": {
        "colab": {
          "base_uri": "https://localhost:8080/"
        },
        "id": "CK7vCQeYf32p",
        "outputId": "a9c07d35-76a4-450c-959d-97c443f290d2"
      },
      "execution_count": 160,
      "outputs": [
        {
          "output_type": "stream",
          "name": "stdout",
          "text": [
            "Epoch 1/100\n"
          ]
        },
        {
          "output_type": "stream",
          "name": "stderr",
          "text": [
            "WARNING:tensorflow:AutoGraph could not transform <function Model.make_train_function.<locals>.train_function at 0x7c69e0852440> and will run it as-is.\n",
            "Cause: Unable to locate the source code of <function Model.make_train_function.<locals>.train_function at 0x7c69e0852440>. Note that functions defined in certain environments, like the interactive Python shell, do not expose their source code. If that is the case, you should define them in a .py source file. If you are certain the code is graph-compatible, wrap the call using @tf.autograph.experimental.do_not_convert. Original error: could not get source code\n",
            "To silence this warning, decorate the function with @tf.autograph.experimental.do_not_convert\n"
          ]
        },
        {
          "output_type": "stream",
          "name": "stdout",
          "text": [
            "WARNING: AutoGraph could not transform <function Model.make_train_function.<locals>.train_function at 0x7c69e0852440> and will run it as-is.\n",
            "Cause: Unable to locate the source code of <function Model.make_train_function.<locals>.train_function at 0x7c69e0852440>. Note that functions defined in certain environments, like the interactive Python shell, do not expose their source code. If that is the case, you should define them in a .py source file. If you are certain the code is graph-compatible, wrap the call using @tf.autograph.experimental.do_not_convert. Original error: could not get source code\n",
            "To silence this warning, decorate the function with @tf.autograph.experimental.do_not_convert\n",
            "29/29 [==============================] - ETA: 0s - loss: 1.2022 - accuracy: 0.5989"
          ]
        },
        {
          "output_type": "stream",
          "name": "stderr",
          "text": [
            "WARNING:tensorflow:Can save best model only with val_accuracy available, skipping.\n"
          ]
        },
        {
          "output_type": "stream",
          "name": "stdout",
          "text": [
            "\b\b\b\b\b\b\b\b\b\b\b\b\b\b\b\b\b\b\b\b\b\b\b\b\b\b\b\b\b\b\b\b\b\b\b\b\b\b\b\b\b\b\b\b\b\b\b\b\b\b\b\b\b\b\b\b\b\b\b\b\b\b\b\b\b\b\b\b\b\b\b\b\b\b\b\b\b\b\b\b\b\b\r29/29 [==============================] - 44s 71ms/step - loss: 1.2022 - accuracy: 0.5989\n",
            "Epoch 2/100\n",
            "29/29 [==============================] - ETA: 0s - loss: 0.8818 - accuracy: 0.7865"
          ]
        },
        {
          "output_type": "stream",
          "name": "stderr",
          "text": [
            "WARNING:tensorflow:Can save best model only with val_accuracy available, skipping.\n"
          ]
        },
        {
          "output_type": "stream",
          "name": "stdout",
          "text": [
            "\b\b\b\b\b\b\b\b\b\b\b\b\b\b\b\b\b\b\b\b\b\b\b\b\b\b\b\b\b\b\b\b\b\b\b\b\b\b\b\b\b\b\b\b\b\b\b\b\b\b\b\b\b\b\b\b\b\b\b\b\b\b\b\b\b\b\b\b\b\b\b\b\b\b\b\b\b\b\b\b\b\b\r29/29 [==============================] - 1s 49ms/step - loss: 0.8818 - accuracy: 0.7865\n",
            "Epoch 3/100\n",
            "29/29 [==============================] - ETA: 0s - loss: 0.7492 - accuracy: 0.8560"
          ]
        },
        {
          "output_type": "stream",
          "name": "stderr",
          "text": [
            "WARNING:tensorflow:Can save best model only with val_accuracy available, skipping.\n"
          ]
        },
        {
          "output_type": "stream",
          "name": "stdout",
          "text": [
            "\b\b\b\b\b\b\b\b\b\b\b\b\b\b\b\b\b\b\b\b\b\b\b\b\b\b\b\b\b\b\b\b\b\b\b\b\b\b\b\b\b\b\b\b\b\b\b\b\b\b\b\b\b\b\b\b\b\b\b\b\b\b\b\b\b\b\b\b\b\b\b\b\b\b\b\b\b\b\b\b\b\b\r29/29 [==============================] - 1s 51ms/step - loss: 0.7492 - accuracy: 0.8560\n",
            "Epoch 4/100\n",
            "29/29 [==============================] - ETA: 0s - loss: 0.6624 - accuracy: 0.8931"
          ]
        },
        {
          "output_type": "stream",
          "name": "stderr",
          "text": [
            "WARNING:tensorflow:Can save best model only with val_accuracy available, skipping.\n"
          ]
        },
        {
          "output_type": "stream",
          "name": "stdout",
          "text": [
            "\b\b\b\b\b\b\b\b\b\b\b\b\b\b\b\b\b\b\b\b\b\b\b\b\b\b\b\b\b\b\b\b\b\b\b\b\b\b\b\b\b\b\b\b\b\b\b\b\b\b\b\b\b\b\b\b\b\b\b\b\b\b\b\b\b\b\b\b\b\b\b\b\b\b\b\b\b\b\b\b\b\b\r29/29 [==============================] - 2s 68ms/step - loss: 0.6624 - accuracy: 0.8931\n",
            "Epoch 5/100\n",
            "29/29 [==============================] - ETA: 0s - loss: 0.6090 - accuracy: 0.9162"
          ]
        },
        {
          "output_type": "stream",
          "name": "stderr",
          "text": [
            "WARNING:tensorflow:Can save best model only with val_accuracy available, skipping.\n"
          ]
        },
        {
          "output_type": "stream",
          "name": "stdout",
          "text": [
            "\b\b\b\b\b\b\b\b\b\b\b\b\b\b\b\b\b\b\b\b\b\b\b\b\b\b\b\b\b\b\b\b\b\b\b\b\b\b\b\b\b\b\b\b\b\b\b\b\b\b\b\b\b\b\b\b\b\b\b\b\b\b\b\b\b\b\b\b\b\b\b\b\b\b\b\b\b\b\b\b\b\b\r29/29 [==============================] - 2s 75ms/step - loss: 0.6090 - accuracy: 0.9162\n",
            "Epoch 6/100\n",
            "29/29 [==============================] - ETA: 0s - loss: 0.5807 - accuracy: 0.9282"
          ]
        },
        {
          "output_type": "stream",
          "name": "stderr",
          "text": [
            "WARNING:tensorflow:Can save best model only with val_accuracy available, skipping.\n"
          ]
        },
        {
          "output_type": "stream",
          "name": "stdout",
          "text": [
            "\b\b\b\b\b\b\b\b\b\b\b\b\b\b\b\b\b\b\b\b\b\b\b\b\b\b\b\b\b\b\b\b\b\b\b\b\b\b\b\b\b\b\b\b\b\b\b\b\b\b\b\b\b\b\b\b\b\b\b\b\b\b\b\b\b\b\b\b\b\b\b\b\b\b\b\b\b\b\b\b\b\b\r29/29 [==============================] - 2s 83ms/step - loss: 0.5807 - accuracy: 0.9282\n",
            "Epoch 7/100\n",
            "29/29 [==============================] - ETA: 0s - loss: 0.5647 - accuracy: 0.9350"
          ]
        },
        {
          "output_type": "stream",
          "name": "stderr",
          "text": [
            "WARNING:tensorflow:Can save best model only with val_accuracy available, skipping.\n"
          ]
        },
        {
          "output_type": "stream",
          "name": "stdout",
          "text": [
            "\b\b\b\b\b\b\b\b\b\b\b\b\b\b\b\b\b\b\b\b\b\b\b\b\b\b\b\b\b\b\b\b\b\b\b\b\b\b\b\b\b\b\b\b\b\b\b\b\b\b\b\b\b\b\b\b\b\b\b\b\b\b\b\b\b\b\b\b\b\b\b\b\b\b\b\b\b\b\b\b\b\b\r29/29 [==============================] - 2s 60ms/step - loss: 0.5647 - accuracy: 0.9350\n",
            "Epoch 8/100\n",
            "28/29 [===========================>..] - ETA: 0s - loss: 0.5469 - accuracy: 0.9457"
          ]
        },
        {
          "output_type": "stream",
          "name": "stderr",
          "text": [
            "WARNING:tensorflow:Can save best model only with val_accuracy available, skipping.\n"
          ]
        },
        {
          "output_type": "stream",
          "name": "stdout",
          "text": [
            "\b\b\b\b\b\b\b\b\b\b\b\b\b\b\b\b\b\b\b\b\b\b\b\b\b\b\b\b\b\b\b\b\b\b\b\b\b\b\b\b\b\b\b\b\b\b\b\b\b\b\b\b\b\b\b\b\b\b\b\b\b\b\b\b\b\b\b\b\b\b\b\b\b\b\b\b\b\b\b\b\b\b\r29/29 [==============================] - 2s 52ms/step - loss: 0.5463 - accuracy: 0.9457\n",
            "Epoch 9/100\n",
            "29/29 [==============================] - ETA: 0s - loss: 0.5431 - accuracy: 0.9437"
          ]
        },
        {
          "output_type": "stream",
          "name": "stderr",
          "text": [
            "WARNING:tensorflow:Can save best model only with val_accuracy available, skipping.\n"
          ]
        },
        {
          "output_type": "stream",
          "name": "stdout",
          "text": [
            "\b\b\b\b\b\b\b\b\b\b\b\b\b\b\b\b\b\b\b\b\b\b\b\b\b\b\b\b\b\b\b\b\b\b\b\b\b\b\b\b\b\b\b\b\b\b\b\b\b\b\b\b\b\b\b\b\b\b\b\b\b\b\b\b\b\b\b\b\b\b\b\b\b\b\b\b\b\b\b\b\b\b\r29/29 [==============================] - 1s 50ms/step - loss: 0.5431 - accuracy: 0.9437\n",
            "Epoch 10/100\n",
            "29/29 [==============================] - ETA: 0s - loss: 0.5352 - accuracy: 0.9467"
          ]
        },
        {
          "output_type": "stream",
          "name": "stderr",
          "text": [
            "WARNING:tensorflow:Can save best model only with val_accuracy available, skipping.\n"
          ]
        },
        {
          "output_type": "stream",
          "name": "stdout",
          "text": [
            "\b\b\b\b\b\b\b\b\b\b\b\b\b\b\b\b\b\b\b\b\b\b\b\b\b\b\b\b\b\b\b\b\b\b\b\b\b\b\b\b\b\b\b\b\b\b\b\b\b\b\b\b\b\b\b\b\b\b\b\b\b\b\b\b\b\b\b\b\b\b\b\b\b\b\b\b\b\b\b\b\b\b\r29/29 [==============================] - 1s 52ms/step - loss: 0.5352 - accuracy: 0.9467\n",
            "Epoch 11/100\n",
            "28/29 [===========================>..] - ETA: 0s - loss: 0.5282 - accuracy: 0.9477"
          ]
        },
        {
          "output_type": "stream",
          "name": "stderr",
          "text": [
            "WARNING:tensorflow:Can save best model only with val_accuracy available, skipping.\n"
          ]
        },
        {
          "output_type": "stream",
          "name": "stdout",
          "text": [
            "\b\b\b\b\b\b\b\b\b\b\b\b\b\b\b\b\b\b\b\b\b\b\b\b\b\b\b\b\b\b\b\b\b\b\b\b\b\b\b\b\b\b\b\b\b\b\b\b\b\b\b\b\b\b\b\b\b\b\b\b\b\b\b\b\b\b\b\b\b\b\b\b\b\b\b\b\b\b\b\b\b\b\r29/29 [==============================] - 1s 49ms/step - loss: 0.5283 - accuracy: 0.9476\n",
            "Epoch 12/100\n",
            "28/29 [===========================>..] - ETA: 0s - loss: 0.5297 - accuracy: 0.9478"
          ]
        },
        {
          "output_type": "stream",
          "name": "stderr",
          "text": [
            "WARNING:tensorflow:Can save best model only with val_accuracy available, skipping.\n"
          ]
        },
        {
          "output_type": "stream",
          "name": "stdout",
          "text": [
            "\b\b\b\b\b\b\b\b\b\b\b\b\b\b\b\b\b\b\b\b\b\b\b\b\b\b\b\b\b\b\b\b\b\b\b\b\b\b\b\b\b\b\b\b\b\b\b\b\b\b\b\b\b\b\b\b\b\b\b\b\b\b\b\b\b\b\b\b\b\b\b\b\b\b\b\b\b\b\b\b\b\b\r29/29 [==============================] - 1s 49ms/step - loss: 0.5293 - accuracy: 0.9476\n",
            "Epoch 13/100\n",
            "29/29 [==============================] - ETA: 0s - loss: 0.5283 - accuracy: 0.9475"
          ]
        },
        {
          "output_type": "stream",
          "name": "stderr",
          "text": [
            "WARNING:tensorflow:Can save best model only with val_accuracy available, skipping.\n"
          ]
        },
        {
          "output_type": "stream",
          "name": "stdout",
          "text": [
            "\b\b\b\b\b\b\b\b\b\b\b\b\b\b\b\b\b\b\b\b\b\b\b\b\b\b\b\b\b\b\b\b\b\b\b\b\b\b\b\b\b\b\b\b\b\b\b\b\b\b\b\b\b\b\b\b\b\b\b\b\b\b\b\b\b\b\b\b\b\b\b\b\b\b\b\b\b\b\b\b\b\b\r29/29 [==============================] - 1s 49ms/step - loss: 0.5283 - accuracy: 0.9475\n",
            "Epoch 14/100\n",
            "29/29 [==============================] - ETA: 0s - loss: 0.5212 - accuracy: 0.9499"
          ]
        },
        {
          "output_type": "stream",
          "name": "stderr",
          "text": [
            "WARNING:tensorflow:Can save best model only with val_accuracy available, skipping.\n"
          ]
        },
        {
          "output_type": "stream",
          "name": "stdout",
          "text": [
            "\b\b\b\b\b\b\b\b\b\b\b\b\b\b\b\b\b\b\b\b\b\b\b\b\b\b\b\b\b\b\b\b\b\b\b\b\b\b\b\b\b\b\b\b\b\b\b\b\b\b\b\b\b\b\b\b\b\b\b\b\b\b\b\b\b\b\b\b\b\b\b\b\b\b\b\b\b\b\b\b\b\b\r29/29 [==============================] - 2s 73ms/step - loss: 0.5212 - accuracy: 0.9499\n",
            "Epoch 15/100\n",
            "29/29 [==============================] - ETA: 0s - loss: 0.5186 - accuracy: 0.9518"
          ]
        },
        {
          "output_type": "stream",
          "name": "stderr",
          "text": [
            "WARNING:tensorflow:Can save best model only with val_accuracy available, skipping.\n"
          ]
        },
        {
          "output_type": "stream",
          "name": "stdout",
          "text": [
            "\b\b\b\b\b\b\b\b\b\b\b\b\b\b\b\b\b\b\b\b\b\b\b\b\b\b\b\b\b\b\b\b\b\b\b\b\b\b\b\b\b\b\b\b\b\b\b\b\b\b\b\b\b\b\b\b\b\b\b\b\b\b\b\b\b\b\b\b\b\b\b\b\b\b\b\b\b\b\b\b\b\b\r29/29 [==============================] - 2s 80ms/step - loss: 0.5186 - accuracy: 0.9518\n",
            "Epoch 16/100\n",
            "28/29 [===========================>..] - ETA: 0s - loss: 0.5168 - accuracy: 0.9515"
          ]
        },
        {
          "output_type": "stream",
          "name": "stderr",
          "text": [
            "WARNING:tensorflow:Can save best model only with val_accuracy available, skipping.\n"
          ]
        },
        {
          "output_type": "stream",
          "name": "stdout",
          "text": [
            "\b\b\b\b\b\b\b\b\b\b\b\b\b\b\b\b\b\b\b\b\b\b\b\b\b\b\b\b\b\b\b\b\b\b\b\b\b\b\b\b\b\b\b\b\b\b\b\b\b\b\b\b\b\b\b\b\b\b\b\b\b\b\b\b\b\b\b\b\b\b\b\b\b\b\b\b\b\b\b\b\b\b\r29/29 [==============================] - 2s 79ms/step - loss: 0.5164 - accuracy: 0.9518\n",
            "Epoch 17/100\n",
            "28/29 [===========================>..] - ETA: 0s - loss: 0.5145 - accuracy: 0.9533"
          ]
        },
        {
          "output_type": "stream",
          "name": "stderr",
          "text": [
            "WARNING:tensorflow:Can save best model only with val_accuracy available, skipping.\n"
          ]
        },
        {
          "output_type": "stream",
          "name": "stdout",
          "text": [
            "\b\b\b\b\b\b\b\b\b\b\b\b\b\b\b\b\b\b\b\b\b\b\b\b\b\b\b\b\b\b\b\b\b\b\b\b\b\b\b\b\b\b\b\b\b\b\b\b\b\b\b\b\b\b\b\b\b\b\b\b\b\b\b\b\b\b\b\b\b\b\b\b\b\b\b\b\b\b\b\b\b\b\r29/29 [==============================] - 1s 51ms/step - loss: 0.5152 - accuracy: 0.9527\n",
            "Epoch 18/100\n",
            "28/29 [===========================>..] - ETA: 0s - loss: 0.5116 - accuracy: 0.9535"
          ]
        },
        {
          "output_type": "stream",
          "name": "stderr",
          "text": [
            "WARNING:tensorflow:Can save best model only with val_accuracy available, skipping.\n"
          ]
        },
        {
          "output_type": "stream",
          "name": "stdout",
          "text": [
            "\b\b\b\b\b\b\b\b\b\b\b\b\b\b\b\b\b\b\b\b\b\b\b\b\b\b\b\b\b\b\b\b\b\b\b\b\b\b\b\b\b\b\b\b\b\b\b\b\b\b\b\b\b\b\b\b\b\b\b\b\b\b\b\b\b\b\b\b\b\b\b\b\b\b\b\b\b\b\b\b\b\b\r29/29 [==============================] - 1s 48ms/step - loss: 0.5121 - accuracy: 0.9528\n",
            "Epoch 19/100\n",
            "28/29 [===========================>..] - ETA: 0s - loss: 0.5118 - accuracy: 0.9502"
          ]
        },
        {
          "output_type": "stream",
          "name": "stderr",
          "text": [
            "WARNING:tensorflow:Can save best model only with val_accuracy available, skipping.\n"
          ]
        },
        {
          "output_type": "stream",
          "name": "stdout",
          "text": [
            "\b\b\b\b\b\b\b\b\b\b\b\b\b\b\b\b\b\b\b\b\b\b\b\b\b\b\b\b\b\b\b\b\b\b\b\b\b\b\b\b\b\b\b\b\b\b\b\b\b\b\b\b\b\b\b\b\b\b\b\b\b\b\b\b\b\b\b\b\b\b\b\b\b\b\b\b\b\b\b\b\b\b\r29/29 [==============================] - 1s 48ms/step - loss: 0.5120 - accuracy: 0.9501\n",
            "Epoch 20/100\n",
            "28/29 [===========================>..] - ETA: 0s - loss: 0.5107 - accuracy: 0.9531"
          ]
        },
        {
          "output_type": "stream",
          "name": "stderr",
          "text": [
            "WARNING:tensorflow:Can save best model only with val_accuracy available, skipping.\n"
          ]
        },
        {
          "output_type": "stream",
          "name": "stdout",
          "text": [
            "\b\b\b\b\b\b\b\b\b\b\b\b\b\b\b\b\b\b\b\b\b\b\b\b\b\b\b\b\b\b\b\b\b\b\b\b\b\b\b\b\b\b\b\b\b\b\b\b\b\b\b\b\b\b\b\b\b\b\b\b\b\b\b\b\b\b\b\b\b\b\b\b\b\b\b\b\b\b\b\b\b\b\r29/29 [==============================] - 1s 48ms/step - loss: 0.5109 - accuracy: 0.9528\n",
            "Epoch 21/100\n",
            "28/29 [===========================>..] - ETA: 0s - loss: 0.5100 - accuracy: 0.9528"
          ]
        },
        {
          "output_type": "stream",
          "name": "stderr",
          "text": [
            "WARNING:tensorflow:Can save best model only with val_accuracy available, skipping.\n"
          ]
        },
        {
          "output_type": "stream",
          "name": "stdout",
          "text": [
            "\b\b\b\b\b\b\b\b\b\b\b\b\b\b\b\b\b\b\b\b\b\b\b\b\b\b\b\b\b\b\b\b\b\b\b\b\b\b\b\b\b\b\b\b\b\b\b\b\b\b\b\b\b\b\b\b\b\b\b\b\b\b\b\b\b\b\b\b\b\b\b\b\b\b\b\b\b\b\b\b\b\b\r29/29 [==============================] - 1s 47ms/step - loss: 0.5103 - accuracy: 0.9528\n",
            "Epoch 22/100\n",
            "29/29 [==============================] - ETA: 0s - loss: 0.5085 - accuracy: 0.9536"
          ]
        },
        {
          "output_type": "stream",
          "name": "stderr",
          "text": [
            "WARNING:tensorflow:Can save best model only with val_accuracy available, skipping.\n"
          ]
        },
        {
          "output_type": "stream",
          "name": "stdout",
          "text": [
            "\b\b\b\b\b\b\b\b\b\b\b\b\b\b\b\b\b\b\b\b\b\b\b\b\b\b\b\b\b\b\b\b\b\b\b\b\b\b\b\b\b\b\b\b\b\b\b\b\b\b\b\b\b\b\b\b\b\b\b\b\b\b\b\b\b\b\b\b\b\b\b\b\b\b\b\b\b\b\b\b\b\b\r29/29 [==============================] - 1s 49ms/step - loss: 0.5085 - accuracy: 0.9536\n",
            "Epoch 23/100\n",
            "29/29 [==============================] - ETA: 0s - loss: 0.5077 - accuracy: 0.9546"
          ]
        },
        {
          "output_type": "stream",
          "name": "stderr",
          "text": [
            "WARNING:tensorflow:Can save best model only with val_accuracy available, skipping.\n"
          ]
        },
        {
          "output_type": "stream",
          "name": "stdout",
          "text": [
            "\b\b\b\b\b\b\b\b\b\b\b\b\b\b\b\b\b\b\b\b\b\b\b\b\b\b\b\b\b\b\b\b\b\b\b\b\b\b\b\b\b\b\b\b\b\b\b\b\b\b\b\b\b\b\b\b\b\b\b\b\b\b\b\b\b\b\b\b\b\b\b\b\b\b\b\b\b\b\b\b\b\b\r29/29 [==============================] - 1s 51ms/step - loss: 0.5077 - accuracy: 0.9546\n",
            "Epoch 24/100\n",
            "29/29 [==============================] - ETA: 0s - loss: 0.5050 - accuracy: 0.9546"
          ]
        },
        {
          "output_type": "stream",
          "name": "stderr",
          "text": [
            "WARNING:tensorflow:Can save best model only with val_accuracy available, skipping.\n"
          ]
        },
        {
          "output_type": "stream",
          "name": "stdout",
          "text": [
            "\b\b\b\b\b\b\b\b\b\b\b\b\b\b\b\b\b\b\b\b\b\b\b\b\b\b\b\b\b\b\b\b\b\b\b\b\b\b\b\b\b\b\b\b\b\b\b\b\b\b\b\b\b\b\b\b\b\b\b\b\b\b\b\b\b\b\b\b\b\b\b\b\b\b\b\b\b\b\b\b\b\b\r29/29 [==============================] - 2s 74ms/step - loss: 0.5050 - accuracy: 0.9546\n",
            "Epoch 25/100\n",
            "29/29 [==============================] - ETA: 0s - loss: 0.5052 - accuracy: 0.9540"
          ]
        },
        {
          "output_type": "stream",
          "name": "stderr",
          "text": [
            "WARNING:tensorflow:Can save best model only with val_accuracy available, skipping.\n"
          ]
        },
        {
          "output_type": "stream",
          "name": "stdout",
          "text": [
            "\b\b\b\b\b\b\b\b\b\b\b\b\b\b\b\b\b\b\b\b\b\b\b\b\b\b\b\b\b\b\b\b\b\b\b\b\b\b\b\b\b\b\b\b\b\b\b\b\b\b\b\b\b\b\b\b\b\b\b\b\b\b\b\b\b\b\b\b\b\b\b\b\b\b\b\b\b\b\b\b\b\b\r29/29 [==============================] - 2s 84ms/step - loss: 0.5052 - accuracy: 0.9540\n",
            "Epoch 26/100\n",
            "29/29 [==============================] - ETA: 0s - loss: 0.5117 - accuracy: 0.9520"
          ]
        },
        {
          "output_type": "stream",
          "name": "stderr",
          "text": [
            "WARNING:tensorflow:Can save best model only with val_accuracy available, skipping.\n"
          ]
        },
        {
          "output_type": "stream",
          "name": "stdout",
          "text": [
            "\b\b\b\b\b\b\b\b\b\b\b\b\b\b\b\b\b\b\b\b\b\b\b\b\b\b\b\b\b\b\b\b\b\b\b\b\b\b\b\b\b\b\b\b\b\b\b\b\b\b\b\b\b\b\b\b\b\b\b\b\b\b\b\b\b\b\b\b\b\b\b\b\b\b\b\b\b\b\b\b\b\b\r29/29 [==============================] - 2s 73ms/step - loss: 0.5117 - accuracy: 0.9520\n",
            "Epoch 27/100\n",
            "29/29 [==============================] - ETA: 0s - loss: 0.5073 - accuracy: 0.9542"
          ]
        },
        {
          "output_type": "stream",
          "name": "stderr",
          "text": [
            "WARNING:tensorflow:Can save best model only with val_accuracy available, skipping.\n"
          ]
        },
        {
          "output_type": "stream",
          "name": "stdout",
          "text": [
            "\b\b\b\b\b\b\b\b\b\b\b\b\b\b\b\b\b\b\b\b\b\b\b\b\b\b\b\b\b\b\b\b\b\b\b\b\b\b\b\b\b\b\b\b\b\b\b\b\b\b\b\b\b\b\b\b\b\b\b\b\b\b\b\b\b\b\b\b\b\b\b\b\b\b\b\b\b\b\b\b\b\b\r29/29 [==============================] - 1s 50ms/step - loss: 0.5073 - accuracy: 0.9542\n",
            "Epoch 28/100\n",
            "29/29 [==============================] - ETA: 0s - loss: 0.5061 - accuracy: 0.9521"
          ]
        },
        {
          "output_type": "stream",
          "name": "stderr",
          "text": [
            "WARNING:tensorflow:Can save best model only with val_accuracy available, skipping.\n"
          ]
        },
        {
          "output_type": "stream",
          "name": "stdout",
          "text": [
            "\b\b\b\b\b\b\b\b\b\b\b\b\b\b\b\b\b\b\b\b\b\b\b\b\b\b\b\b\b\b\b\b\b\b\b\b\b\b\b\b\b\b\b\b\b\b\b\b\b\b\b\b\b\b\b\b\b\b\b\b\b\b\b\b\b\b\b\b\b\b\b\b\b\b\b\b\b\b\b\b\b\b\r29/29 [==============================] - 1s 50ms/step - loss: 0.5061 - accuracy: 0.9521\n",
            "Epoch 29/100\n",
            "29/29 [==============================] - ETA: 0s - loss: 0.5011 - accuracy: 0.9553"
          ]
        },
        {
          "output_type": "stream",
          "name": "stderr",
          "text": [
            "WARNING:tensorflow:Can save best model only with val_accuracy available, skipping.\n"
          ]
        },
        {
          "output_type": "stream",
          "name": "stdout",
          "text": [
            "\b\b\b\b\b\b\b\b\b\b\b\b\b\b\b\b\b\b\b\b\b\b\b\b\b\b\b\b\b\b\b\b\b\b\b\b\b\b\b\b\b\b\b\b\b\b\b\b\b\b\b\b\b\b\b\b\b\b\b\b\b\b\b\b\b\b\b\b\b\b\b\b\b\b\b\b\b\b\b\b\b\b\r29/29 [==============================] - 1s 49ms/step - loss: 0.5011 - accuracy: 0.9553\n",
            "Epoch 30/100\n",
            "28/29 [===========================>..] - ETA: 0s - loss: 0.5011 - accuracy: 0.9544"
          ]
        },
        {
          "output_type": "stream",
          "name": "stderr",
          "text": [
            "WARNING:tensorflow:Can save best model only with val_accuracy available, skipping.\n"
          ]
        },
        {
          "output_type": "stream",
          "name": "stdout",
          "text": [
            "\b\b\b\b\b\b\b\b\b\b\b\b\b\b\b\b\b\b\b\b\b\b\b\b\b\b\b\b\b\b\b\b\b\b\b\b\b\b\b\b\b\b\b\b\b\b\b\b\b\b\b\b\b\b\b\b\b\b\b\b\b\b\b\b\b\b\b\b\b\b\b\b\b\b\b\b\b\b\b\b\b\b\r29/29 [==============================] - 1s 50ms/step - loss: 0.5006 - accuracy: 0.9548\n",
            "Epoch 31/100\n",
            "28/29 [===========================>..] - ETA: 0s - loss: 0.5006 - accuracy: 0.9548"
          ]
        },
        {
          "output_type": "stream",
          "name": "stderr",
          "text": [
            "WARNING:tensorflow:Can save best model only with val_accuracy available, skipping.\n"
          ]
        },
        {
          "output_type": "stream",
          "name": "stdout",
          "text": [
            "\b\b\b\b\b\b\b\b\b\b\b\b\b\b\b\b\b\b\b\b\b\b\b\b\b\b\b\b\b\b\b\b\b\b\b\b\b\b\b\b\b\b\b\b\b\b\b\b\b\b\b\b\b\b\b\b\b\b\b\b\b\b\b\b\b\b\b\b\b\b\b\b\b\b\b\b\b\b\b\b\b\b\r29/29 [==============================] - 1s 51ms/step - loss: 0.5003 - accuracy: 0.9550\n",
            "Epoch 32/100\n",
            "28/29 [===========================>..] - ETA: 0s - loss: 0.5053 - accuracy: 0.9540"
          ]
        },
        {
          "output_type": "stream",
          "name": "stderr",
          "text": [
            "WARNING:tensorflow:Can save best model only with val_accuracy available, skipping.\n"
          ]
        },
        {
          "output_type": "stream",
          "name": "stdout",
          "text": [
            "\b\b\b\b\b\b\b\b\b\b\b\b\b\b\b\b\b\b\b\b\b\b\b\b\b\b\b\b\b\b\b\b\b\b\b\b\b\b\b\b\b\b\b\b\b\b\b\b\b\b\b\b\b\b\b\b\b\b\b\b\b\b\b\b\b\b\b\b\b\b\b\b\b\b\b\b\b\b\b\b\b\b\r29/29 [==============================] - 2s 53ms/step - loss: 0.5054 - accuracy: 0.9538\n",
            "Epoch 33/100\n",
            "29/29 [==============================] - ETA: 0s - loss: 0.5009 - accuracy: 0.9555"
          ]
        },
        {
          "output_type": "stream",
          "name": "stderr",
          "text": [
            "WARNING:tensorflow:Can save best model only with val_accuracy available, skipping.\n"
          ]
        },
        {
          "output_type": "stream",
          "name": "stdout",
          "text": [
            "\b\b\b\b\b\b\b\b\b\b\b\b\b\b\b\b\b\b\b\b\b\b\b\b\b\b\b\b\b\b\b\b\b\b\b\b\b\b\b\b\b\b\b\b\b\b\b\b\b\b\b\b\b\b\b\b\b\b\b\b\b\b\b\b\b\b\b\b\b\b\b\b\b\b\b\b\b\b\b\b\b\b\r29/29 [==============================] - 2s 61ms/step - loss: 0.5009 - accuracy: 0.9555\n",
            "Epoch 34/100\n",
            "29/29 [==============================] - ETA: 0s - loss: 0.4991 - accuracy: 0.9567"
          ]
        },
        {
          "output_type": "stream",
          "name": "stderr",
          "text": [
            "WARNING:tensorflow:Can save best model only with val_accuracy available, skipping.\n"
          ]
        },
        {
          "output_type": "stream",
          "name": "stdout",
          "text": [
            "\b\b\b\b\b\b\b\b\b\b\b\b\b\b\b\b\b\b\b\b\b\b\b\b\b\b\b\b\b\b\b\b\b\b\b\b\b\b\b\b\b\b\b\b\b\b\b\b\b\b\b\b\b\b\b\b\b\b\b\b\b\b\b\b\b\b\b\b\b\b\b\b\b\b\b\b\b\b\b\b\b\b\r29/29 [==============================] - 2s 75ms/step - loss: 0.4991 - accuracy: 0.9567\n",
            "Epoch 35/100\n",
            "29/29 [==============================] - ETA: 0s - loss: 0.5004 - accuracy: 0.9554"
          ]
        },
        {
          "output_type": "stream",
          "name": "stderr",
          "text": [
            "WARNING:tensorflow:Can save best model only with val_accuracy available, skipping.\n"
          ]
        },
        {
          "output_type": "stream",
          "name": "stdout",
          "text": [
            "\b\b\b\b\b\b\b\b\b\b\b\b\b\b\b\b\b\b\b\b\b\b\b\b\b\b\b\b\b\b\b\b\b\b\b\b\b\b\b\b\b\b\b\b\b\b\b\b\b\b\b\b\b\b\b\b\b\b\b\b\b\b\b\b\b\b\b\b\b\b\b\b\b\b\b\b\b\b\b\b\b\b\r29/29 [==============================] - 2s 84ms/step - loss: 0.5004 - accuracy: 0.9554\n",
            "Epoch 36/100\n",
            "29/29 [==============================] - ETA: 0s - loss: 0.4992 - accuracy: 0.9538"
          ]
        },
        {
          "output_type": "stream",
          "name": "stderr",
          "text": [
            "WARNING:tensorflow:Can save best model only with val_accuracy available, skipping.\n"
          ]
        },
        {
          "output_type": "stream",
          "name": "stdout",
          "text": [
            "\b\b\b\b\b\b\b\b\b\b\b\b\b\b\b\b\b\b\b\b\b\b\b\b\b\b\b\b\b\b\b\b\b\b\b\b\b\b\b\b\b\b\b\b\b\b\b\b\b\b\b\b\b\b\b\b\b\b\b\b\b\b\b\b\b\b\b\b\b\b\b\b\b\b\b\b\b\b\b\b\b\b\r29/29 [==============================] - 2s 63ms/step - loss: 0.4992 - accuracy: 0.9538\n",
            "Epoch 37/100\n",
            "28/29 [===========================>..] - ETA: 0s - loss: 0.4955 - accuracy: 0.9581"
          ]
        },
        {
          "output_type": "stream",
          "name": "stderr",
          "text": [
            "WARNING:tensorflow:Can save best model only with val_accuracy available, skipping.\n"
          ]
        },
        {
          "output_type": "stream",
          "name": "stdout",
          "text": [
            "\b\b\b\b\b\b\b\b\b\b\b\b\b\b\b\b\b\b\b\b\b\b\b\b\b\b\b\b\b\b\b\b\b\b\b\b\b\b\b\b\b\b\b\b\b\b\b\b\b\b\b\b\b\b\b\b\b\b\b\b\b\b\b\b\b\b\b\b\b\b\b\b\b\b\b\b\b\b\b\b\b\b\r29/29 [==============================] - 2s 52ms/step - loss: 0.4952 - accuracy: 0.9581\n",
            "Epoch 38/100\n",
            "29/29 [==============================] - ETA: 0s - loss: 0.4971 - accuracy: 0.9577"
          ]
        },
        {
          "output_type": "stream",
          "name": "stderr",
          "text": [
            "WARNING:tensorflow:Can save best model only with val_accuracy available, skipping.\n"
          ]
        },
        {
          "output_type": "stream",
          "name": "stdout",
          "text": [
            "\b\b\b\b\b\b\b\b\b\b\b\b\b\b\b\b\b\b\b\b\b\b\b\b\b\b\b\b\b\b\b\b\b\b\b\b\b\b\b\b\b\b\b\b\b\b\b\b\b\b\b\b\b\b\b\b\b\b\b\b\b\b\b\b\b\b\b\b\b\b\b\b\b\b\b\b\b\b\b\b\b\b\r29/29 [==============================] - 1s 51ms/step - loss: 0.4971 - accuracy: 0.9577\n",
            "Epoch 39/100\n",
            "29/29 [==============================] - ETA: 0s - loss: 0.4932 - accuracy: 0.9585"
          ]
        },
        {
          "output_type": "stream",
          "name": "stderr",
          "text": [
            "WARNING:tensorflow:Can save best model only with val_accuracy available, skipping.\n"
          ]
        },
        {
          "output_type": "stream",
          "name": "stdout",
          "text": [
            "\b\b\b\b\b\b\b\b\b\b\b\b\b\b\b\b\b\b\b\b\b\b\b\b\b\b\b\b\b\b\b\b\b\b\b\b\b\b\b\b\b\b\b\b\b\b\b\b\b\b\b\b\b\b\b\b\b\b\b\b\b\b\b\b\b\b\b\b\b\b\b\b\b\b\b\b\b\b\b\b\b\b\r29/29 [==============================] - 1s 50ms/step - loss: 0.4932 - accuracy: 0.9585\n",
            "Epoch 40/100\n",
            "29/29 [==============================] - ETA: 0s - loss: 0.4938 - accuracy: 0.9587"
          ]
        },
        {
          "output_type": "stream",
          "name": "stderr",
          "text": [
            "WARNING:tensorflow:Can save best model only with val_accuracy available, skipping.\n"
          ]
        },
        {
          "output_type": "stream",
          "name": "stdout",
          "text": [
            "\b\b\b\b\b\b\b\b\b\b\b\b\b\b\b\b\b\b\b\b\b\b\b\b\b\b\b\b\b\b\b\b\b\b\b\b\b\b\b\b\b\b\b\b\b\b\b\b\b\b\b\b\b\b\b\b\b\b\b\b\b\b\b\b\b\b\b\b\b\b\b\b\b\b\b\b\b\b\b\b\b\b\r29/29 [==============================] - 1s 50ms/step - loss: 0.4938 - accuracy: 0.9587\n",
            "Epoch 41/100\n",
            "28/29 [===========================>..] - ETA: 0s - loss: 0.4927 - accuracy: 0.9600"
          ]
        },
        {
          "output_type": "stream",
          "name": "stderr",
          "text": [
            "WARNING:tensorflow:Can save best model only with val_accuracy available, skipping.\n"
          ]
        },
        {
          "output_type": "stream",
          "name": "stdout",
          "text": [
            "\b\b\b\b\b\b\b\b\b\b\b\b\b\b\b\b\b\b\b\b\b\b\b\b\b\b\b\b\b\b\b\b\b\b\b\b\b\b\b\b\b\b\b\b\b\b\b\b\b\b\b\b\b\b\b\b\b\b\b\b\b\b\b\b\b\b\b\b\b\b\b\b\b\b\b\b\b\b\b\b\b\b\r29/29 [==============================] - 2s 53ms/step - loss: 0.4923 - accuracy: 0.9600\n",
            "Epoch 42/100\n",
            "28/29 [===========================>..] - ETA: 0s - loss: 0.4908 - accuracy: 0.9612"
          ]
        },
        {
          "output_type": "stream",
          "name": "stderr",
          "text": [
            "WARNING:tensorflow:Can save best model only with val_accuracy available, skipping.\n"
          ]
        },
        {
          "output_type": "stream",
          "name": "stdout",
          "text": [
            "\b\b\b\b\b\b\b\b\b\b\b\b\b\b\b\b\b\b\b\b\b\b\b\b\b\b\b\b\b\b\b\b\b\b\b\b\b\b\b\b\b\b\b\b\b\b\b\b\b\b\b\b\b\b\b\b\b\b\b\b\b\b\b\b\b\b\b\b\b\b\b\b\b\b\b\b\b\b\b\b\b\b\r29/29 [==============================] - 1s 51ms/step - loss: 0.4919 - accuracy: 0.9607\n",
            "Epoch 43/100\n",
            "29/29 [==============================] - ETA: 0s - loss: 0.4935 - accuracy: 0.9596"
          ]
        },
        {
          "output_type": "stream",
          "name": "stderr",
          "text": [
            "WARNING:tensorflow:Can save best model only with val_accuracy available, skipping.\n"
          ]
        },
        {
          "output_type": "stream",
          "name": "stdout",
          "text": [
            "\b\b\b\b\b\b\b\b\b\b\b\b\b\b\b\b\b\b\b\b\b\b\b\b\b\b\b\b\b\b\b\b\b\b\b\b\b\b\b\b\b\b\b\b\b\b\b\b\b\b\b\b\b\b\b\b\b\b\b\b\b\b\b\b\b\b\b\b\b\b\b\b\b\b\b\b\b\b\b\b\b\b\r29/29 [==============================] - 2s 76ms/step - loss: 0.4935 - accuracy: 0.9596\n",
            "Epoch 44/100\n",
            "29/29 [==============================] - ETA: 0s - loss: 0.4933 - accuracy: 0.9621"
          ]
        },
        {
          "output_type": "stream",
          "name": "stderr",
          "text": [
            "WARNING:tensorflow:Can save best model only with val_accuracy available, skipping.\n"
          ]
        },
        {
          "output_type": "stream",
          "name": "stdout",
          "text": [
            "\b\b\b\b\b\b\b\b\b\b\b\b\b\b\b\b\b\b\b\b\b\b\b\b\b\b\b\b\b\b\b\b\b\b\b\b\b\b\b\b\b\b\b\b\b\b\b\b\b\b\b\b\b\b\b\b\b\b\b\b\b\b\b\b\b\b\b\b\b\b\b\b\b\b\b\b\b\b\b\b\b\b\r29/29 [==============================] - 2s 80ms/step - loss: 0.4933 - accuracy: 0.9621\n",
            "Epoch 45/100\n",
            "29/29 [==============================] - ETA: 0s - loss: 0.4893 - accuracy: 0.9616"
          ]
        },
        {
          "output_type": "stream",
          "name": "stderr",
          "text": [
            "WARNING:tensorflow:Can save best model only with val_accuracy available, skipping.\n"
          ]
        },
        {
          "output_type": "stream",
          "name": "stdout",
          "text": [
            "\b\b\b\b\b\b\b\b\b\b\b\b\b\b\b\b\b\b\b\b\b\b\b\b\b\b\b\b\b\b\b\b\b\b\b\b\b\b\b\b\b\b\b\b\b\b\b\b\b\b\b\b\b\b\b\b\b\b\b\b\b\b\b\b\b\b\b\b\b\b\b\b\b\b\b\b\b\b\b\b\b\b\r29/29 [==============================] - 2s 80ms/step - loss: 0.4893 - accuracy: 0.9616\n",
            "Epoch 46/100\n",
            "29/29 [==============================] - ETA: 0s - loss: 0.4824 - accuracy: 0.9664"
          ]
        },
        {
          "output_type": "stream",
          "name": "stderr",
          "text": [
            "WARNING:tensorflow:Can save best model only with val_accuracy available, skipping.\n"
          ]
        },
        {
          "output_type": "stream",
          "name": "stdout",
          "text": [
            "\b\b\b\b\b\b\b\b\b\b\b\b\b\b\b\b\b\b\b\b\b\b\b\b\b\b\b\b\b\b\b\b\b\b\b\b\b\b\b\b\b\b\b\b\b\b\b\b\b\b\b\b\b\b\b\b\b\b\b\b\b\b\b\b\b\b\b\b\b\b\b\b\b\b\b\b\b\b\b\b\b\b\r29/29 [==============================] - 1s 51ms/step - loss: 0.4824 - accuracy: 0.9664\n",
            "Epoch 47/100\n",
            "29/29 [==============================] - ETA: 0s - loss: 0.4832 - accuracy: 0.9671"
          ]
        },
        {
          "output_type": "stream",
          "name": "stderr",
          "text": [
            "WARNING:tensorflow:Can save best model only with val_accuracy available, skipping.\n"
          ]
        },
        {
          "output_type": "stream",
          "name": "stdout",
          "text": [
            "\b\b\b\b\b\b\b\b\b\b\b\b\b\b\b\b\b\b\b\b\b\b\b\b\b\b\b\b\b\b\b\b\b\b\b\b\b\b\b\b\b\b\b\b\b\b\b\b\b\b\b\b\b\b\b\b\b\b\b\b\b\b\b\b\b\b\b\b\b\b\b\b\b\b\b\b\b\b\b\b\b\b\r29/29 [==============================] - 1s 50ms/step - loss: 0.4832 - accuracy: 0.9671\n",
            "Epoch 48/100\n",
            "29/29 [==============================] - ETA: 0s - loss: 0.4818 - accuracy: 0.9663"
          ]
        },
        {
          "output_type": "stream",
          "name": "stderr",
          "text": [
            "WARNING:tensorflow:Can save best model only with val_accuracy available, skipping.\n"
          ]
        },
        {
          "output_type": "stream",
          "name": "stdout",
          "text": [
            "\b\b\b\b\b\b\b\b\b\b\b\b\b\b\b\b\b\b\b\b\b\b\b\b\b\b\b\b\b\b\b\b\b\b\b\b\b\b\b\b\b\b\b\b\b\b\b\b\b\b\b\b\b\b\b\b\b\b\b\b\b\b\b\b\b\b\b\b\b\b\b\b\b\b\b\b\b\b\b\b\b\b\r29/29 [==============================] - 1s 51ms/step - loss: 0.4818 - accuracy: 0.9663\n",
            "Epoch 49/100\n",
            "28/29 [===========================>..] - ETA: 0s - loss: 0.4769 - accuracy: 0.9708"
          ]
        },
        {
          "output_type": "stream",
          "name": "stderr",
          "text": [
            "WARNING:tensorflow:Can save best model only with val_accuracy available, skipping.\n"
          ]
        },
        {
          "output_type": "stream",
          "name": "stdout",
          "text": [
            "\b\b\b\b\b\b\b\b\b\b\b\b\b\b\b\b\b\b\b\b\b\b\b\b\b\b\b\b\b\b\b\b\b\b\b\b\b\b\b\b\b\b\b\b\b\b\b\b\b\b\b\b\b\b\b\b\b\b\b\b\b\b\b\b\b\b\b\b\b\b\b\b\b\b\b\b\b\b\b\b\b\b\r29/29 [==============================] - 1s 50ms/step - loss: 0.4765 - accuracy: 0.9710\n",
            "Epoch 50/100\n",
            "29/29 [==============================] - ETA: 0s - loss: 0.4737 - accuracy: 0.9723"
          ]
        },
        {
          "output_type": "stream",
          "name": "stderr",
          "text": [
            "WARNING:tensorflow:Can save best model only with val_accuracy available, skipping.\n"
          ]
        },
        {
          "output_type": "stream",
          "name": "stdout",
          "text": [
            "\b\b\b\b\b\b\b\b\b\b\b\b\b\b\b\b\b\b\b\b\b\b\b\b\b\b\b\b\b\b\b\b\b\b\b\b\b\b\b\b\b\b\b\b\b\b\b\b\b\b\b\b\b\b\b\b\b\b\b\b\b\b\b\b\b\b\b\b\b\b\b\b\b\b\b\b\b\b\b\b\b\b\r29/29 [==============================] - 1s 49ms/step - loss: 0.4737 - accuracy: 0.9723\n",
            "Epoch 51/100\n",
            "29/29 [==============================] - ETA: 0s - loss: 0.4751 - accuracy: 0.9713"
          ]
        },
        {
          "output_type": "stream",
          "name": "stderr",
          "text": [
            "WARNING:tensorflow:Can save best model only with val_accuracy available, skipping.\n"
          ]
        },
        {
          "output_type": "stream",
          "name": "stdout",
          "text": [
            "\b\b\b\b\b\b\b\b\b\b\b\b\b\b\b\b\b\b\b\b\b\b\b\b\b\b\b\b\b\b\b\b\b\b\b\b\b\b\b\b\b\b\b\b\b\b\b\b\b\b\b\b\b\b\b\b\b\b\b\b\b\b\b\b\b\b\b\b\b\b\b\b\b\b\b\b\b\b\b\b\b\b\r29/29 [==============================] - 1s 52ms/step - loss: 0.4751 - accuracy: 0.9713\n",
            "Epoch 52/100\n",
            "29/29 [==============================] - ETA: 0s - loss: 0.4706 - accuracy: 0.9737"
          ]
        },
        {
          "output_type": "stream",
          "name": "stderr",
          "text": [
            "WARNING:tensorflow:Can save best model only with val_accuracy available, skipping.\n"
          ]
        },
        {
          "output_type": "stream",
          "name": "stdout",
          "text": [
            "\b\b\b\b\b\b\b\b\b\b\b\b\b\b\b\b\b\b\b\b\b\b\b\b\b\b\b\b\b\b\b\b\b\b\b\b\b\b\b\b\b\b\b\b\b\b\b\b\b\b\b\b\b\b\b\b\b\b\b\b\b\b\b\b\b\b\b\b\b\b\b\b\b\b\b\b\b\b\b\b\b\b\r29/29 [==============================] - 2s 62ms/step - loss: 0.4706 - accuracy: 0.9737\n",
            "Epoch 53/100\n",
            "29/29 [==============================] - ETA: 0s - loss: 0.4684 - accuracy: 0.9744"
          ]
        },
        {
          "output_type": "stream",
          "name": "stderr",
          "text": [
            "WARNING:tensorflow:Can save best model only with val_accuracy available, skipping.\n"
          ]
        },
        {
          "output_type": "stream",
          "name": "stdout",
          "text": [
            "\b\b\b\b\b\b\b\b\b\b\b\b\b\b\b\b\b\b\b\b\b\b\b\b\b\b\b\b\b\b\b\b\b\b\b\b\b\b\b\b\b\b\b\b\b\b\b\b\b\b\b\b\b\b\b\b\b\b\b\b\b\b\b\b\b\b\b\b\b\b\b\b\b\b\b\b\b\b\b\b\b\b\r29/29 [==============================] - 2s 78ms/step - loss: 0.4684 - accuracy: 0.9744\n",
            "Epoch 54/100\n",
            "29/29 [==============================] - ETA: 0s - loss: 0.4719 - accuracy: 0.9737"
          ]
        },
        {
          "output_type": "stream",
          "name": "stderr",
          "text": [
            "WARNING:tensorflow:Can save best model only with val_accuracy available, skipping.\n"
          ]
        },
        {
          "output_type": "stream",
          "name": "stdout",
          "text": [
            "\b\b\b\b\b\b\b\b\b\b\b\b\b\b\b\b\b\b\b\b\b\b\b\b\b\b\b\b\b\b\b\b\b\b\b\b\b\b\b\b\b\b\b\b\b\b\b\b\b\b\b\b\b\b\b\b\b\b\b\b\b\b\b\b\b\b\b\b\b\b\b\b\b\b\b\b\b\b\b\b\b\b\r29/29 [==============================] - 2s 82ms/step - loss: 0.4719 - accuracy: 0.9737\n",
            "Epoch 55/100\n",
            "28/29 [===========================>..] - ETA: 0s - loss: 0.4718 - accuracy: 0.9736"
          ]
        },
        {
          "output_type": "stream",
          "name": "stderr",
          "text": [
            "WARNING:tensorflow:Can save best model only with val_accuracy available, skipping.\n"
          ]
        },
        {
          "output_type": "stream",
          "name": "stdout",
          "text": [
            "\b\b\b\b\b\b\b\b\b\b\b\b\b\b\b\b\b\b\b\b\b\b\b\b\b\b\b\b\b\b\b\b\b\b\b\b\b\b\b\b\b\b\b\b\b\b\b\b\b\b\b\b\b\b\b\b\b\b\b\b\b\b\b\b\b\b\b\b\b\b\b\b\b\b\b\b\b\b\b\b\b\b\r29/29 [==============================] - 2s 63ms/step - loss: 0.4716 - accuracy: 0.9737\n",
            "Epoch 56/100\n",
            "28/29 [===========================>..] - ETA: 0s - loss: 0.4691 - accuracy: 0.9739"
          ]
        },
        {
          "output_type": "stream",
          "name": "stderr",
          "text": [
            "WARNING:tensorflow:Can save best model only with val_accuracy available, skipping.\n"
          ]
        },
        {
          "output_type": "stream",
          "name": "stdout",
          "text": [
            "\b\b\b\b\b\b\b\b\b\b\b\b\b\b\b\b\b\b\b\b\b\b\b\b\b\b\b\b\b\b\b\b\b\b\b\b\b\b\b\b\b\b\b\b\b\b\b\b\b\b\b\b\b\b\b\b\b\b\b\b\b\b\b\b\b\b\b\b\b\b\b\b\b\b\b\b\b\b\b\b\b\b\r29/29 [==============================] - 1s 50ms/step - loss: 0.4697 - accuracy: 0.9736\n",
            "Epoch 57/100\n",
            "29/29 [==============================] - ETA: 0s - loss: 0.4689 - accuracy: 0.9746"
          ]
        },
        {
          "output_type": "stream",
          "name": "stderr",
          "text": [
            "WARNING:tensorflow:Can save best model only with val_accuracy available, skipping.\n"
          ]
        },
        {
          "output_type": "stream",
          "name": "stdout",
          "text": [
            "\b\b\b\b\b\b\b\b\b\b\b\b\b\b\b\b\b\b\b\b\b\b\b\b\b\b\b\b\b\b\b\b\b\b\b\b\b\b\b\b\b\b\b\b\b\b\b\b\b\b\b\b\b\b\b\b\b\b\b\b\b\b\b\b\b\b\b\b\b\b\b\b\b\b\b\b\b\b\b\b\b\b\r29/29 [==============================] - 2s 52ms/step - loss: 0.4689 - accuracy: 0.9746\n",
            "Epoch 58/100\n",
            "28/29 [===========================>..] - ETA: 0s - loss: 0.4666 - accuracy: 0.9767"
          ]
        },
        {
          "output_type": "stream",
          "name": "stderr",
          "text": [
            "WARNING:tensorflow:Can save best model only with val_accuracy available, skipping.\n"
          ]
        },
        {
          "output_type": "stream",
          "name": "stdout",
          "text": [
            "\b\b\b\b\b\b\b\b\b\b\b\b\b\b\b\b\b\b\b\b\b\b\b\b\b\b\b\b\b\b\b\b\b\b\b\b\b\b\b\b\b\b\b\b\b\b\b\b\b\b\b\b\b\b\b\b\b\b\b\b\b\b\b\b\b\b\b\b\b\b\b\b\b\b\b\b\b\b\b\b\b\b\r29/29 [==============================] - 2s 52ms/step - loss: 0.4670 - accuracy: 0.9769\n",
            "Epoch 59/100\n",
            "29/29 [==============================] - ETA: 0s - loss: 0.4586 - accuracy: 0.9807"
          ]
        },
        {
          "output_type": "stream",
          "name": "stderr",
          "text": [
            "WARNING:tensorflow:Can save best model only with val_accuracy available, skipping.\n"
          ]
        },
        {
          "output_type": "stream",
          "name": "stdout",
          "text": [
            "\b\b\b\b\b\b\b\b\b\b\b\b\b\b\b\b\b\b\b\b\b\b\b\b\b\b\b\b\b\b\b\b\b\b\b\b\b\b\b\b\b\b\b\b\b\b\b\b\b\b\b\b\b\b\b\b\b\b\b\b\b\b\b\b\b\b\b\b\b\b\b\b\b\b\b\b\b\b\b\b\b\b\r29/29 [==============================] - 2s 53ms/step - loss: 0.4586 - accuracy: 0.9807\n",
            "Epoch 60/100\n",
            "29/29 [==============================] - ETA: 0s - loss: 0.4574 - accuracy: 0.9816"
          ]
        },
        {
          "output_type": "stream",
          "name": "stderr",
          "text": [
            "WARNING:tensorflow:Can save best model only with val_accuracy available, skipping.\n"
          ]
        },
        {
          "output_type": "stream",
          "name": "stdout",
          "text": [
            "\b\b\b\b\b\b\b\b\b\b\b\b\b\b\b\b\b\b\b\b\b\b\b\b\b\b\b\b\b\b\b\b\b\b\b\b\b\b\b\b\b\b\b\b\b\b\b\b\b\b\b\b\b\b\b\b\b\b\b\b\b\b\b\b\b\b\b\b\b\b\b\b\b\b\b\b\b\b\b\b\b\b\r29/29 [==============================] - 2s 53ms/step - loss: 0.4574 - accuracy: 0.9816\n",
            "Epoch 61/100\n",
            "29/29 [==============================] - ETA: 0s - loss: 0.4546 - accuracy: 0.9830"
          ]
        },
        {
          "output_type": "stream",
          "name": "stderr",
          "text": [
            "WARNING:tensorflow:Can save best model only with val_accuracy available, skipping.\n"
          ]
        },
        {
          "output_type": "stream",
          "name": "stdout",
          "text": [
            "\b\b\b\b\b\b\b\b\b\b\b\b\b\b\b\b\b\b\b\b\b\b\b\b\b\b\b\b\b\b\b\b\b\b\b\b\b\b\b\b\b\b\b\b\b\b\b\b\b\b\b\b\b\b\b\b\b\b\b\b\b\b\b\b\b\b\b\b\b\b\b\b\b\b\b\b\b\b\b\b\b\b\r29/29 [==============================] - 2s 57ms/step - loss: 0.4546 - accuracy: 0.9830\n",
            "Epoch 62/100\n",
            "29/29 [==============================] - ETA: 0s - loss: 0.4591 - accuracy: 0.9796"
          ]
        },
        {
          "output_type": "stream",
          "name": "stderr",
          "text": [
            "WARNING:tensorflow:Can save best model only with val_accuracy available, skipping.\n"
          ]
        },
        {
          "output_type": "stream",
          "name": "stdout",
          "text": [
            "\b\b\b\b\b\b\b\b\b\b\b\b\b\b\b\b\b\b\b\b\b\b\b\b\b\b\b\b\b\b\b\b\b\b\b\b\b\b\b\b\b\b\b\b\b\b\b\b\b\b\b\b\b\b\b\b\b\b\b\b\b\b\b\b\b\b\b\b\b\b\b\b\b\b\b\b\b\b\b\b\b\b\r29/29 [==============================] - 2s 78ms/step - loss: 0.4591 - accuracy: 0.9796\n",
            "Epoch 63/100\n",
            "29/29 [==============================] - ETA: 0s - loss: 0.4539 - accuracy: 0.9844"
          ]
        },
        {
          "output_type": "stream",
          "name": "stderr",
          "text": [
            "WARNING:tensorflow:Can save best model only with val_accuracy available, skipping.\n"
          ]
        },
        {
          "output_type": "stream",
          "name": "stdout",
          "text": [
            "\b\b\b\b\b\b\b\b\b\b\b\b\b\b\b\b\b\b\b\b\b\b\b\b\b\b\b\b\b\b\b\b\b\b\b\b\b\b\b\b\b\b\b\b\b\b\b\b\b\b\b\b\b\b\b\b\b\b\b\b\b\b\b\b\b\b\b\b\b\b\b\b\b\b\b\b\b\b\b\b\b\b\r29/29 [==============================] - 3s 109ms/step - loss: 0.4539 - accuracy: 0.9844\n",
            "Epoch 64/100\n",
            "28/29 [===========================>..] - ETA: 0s - loss: 0.4554 - accuracy: 0.9816"
          ]
        },
        {
          "output_type": "stream",
          "name": "stderr",
          "text": [
            "WARNING:tensorflow:Can save best model only with val_accuracy available, skipping.\n"
          ]
        },
        {
          "output_type": "stream",
          "name": "stdout",
          "text": [
            "\b\b\b\b\b\b\b\b\b\b\b\b\b\b\b\b\b\b\b\b\b\b\b\b\b\b\b\b\b\b\b\b\b\b\b\b\b\b\b\b\b\b\b\b\b\b\b\b\b\b\b\b\b\b\b\b\b\b\b\b\b\b\b\b\b\b\b\b\b\b\b\b\b\b\b\b\b\b\b\b\b\b\r29/29 [==============================] - 2s 67ms/step - loss: 0.4549 - accuracy: 0.9820\n",
            "Epoch 65/100\n",
            "29/29 [==============================] - ETA: 0s - loss: 0.4556 - accuracy: 0.9807"
          ]
        },
        {
          "output_type": "stream",
          "name": "stderr",
          "text": [
            "WARNING:tensorflow:Can save best model only with val_accuracy available, skipping.\n"
          ]
        },
        {
          "output_type": "stream",
          "name": "stdout",
          "text": [
            "\b\b\b\b\b\b\b\b\b\b\b\b\b\b\b\b\b\b\b\b\b\b\b\b\b\b\b\b\b\b\b\b\b\b\b\b\b\b\b\b\b\b\b\b\b\b\b\b\b\b\b\b\b\b\b\b\b\b\b\b\b\b\b\b\b\b\b\b\b\b\b\b\b\b\b\b\b\b\b\b\b\b\r29/29 [==============================] - 1s 51ms/step - loss: 0.4556 - accuracy: 0.9807\n",
            "Epoch 66/100\n",
            "29/29 [==============================] - ETA: 0s - loss: 0.4620 - accuracy: 0.9795"
          ]
        },
        {
          "output_type": "stream",
          "name": "stderr",
          "text": [
            "WARNING:tensorflow:Can save best model only with val_accuracy available, skipping.\n"
          ]
        },
        {
          "output_type": "stream",
          "name": "stdout",
          "text": [
            "\b\b\b\b\b\b\b\b\b\b\b\b\b\b\b\b\b\b\b\b\b\b\b\b\b\b\b\b\b\b\b\b\b\b\b\b\b\b\b\b\b\b\b\b\b\b\b\b\b\b\b\b\b\b\b\b\b\b\b\b\b\b\b\b\b\b\b\b\b\b\b\b\b\b\b\b\b\b\b\b\b\b\r29/29 [==============================] - 2s 52ms/step - loss: 0.4620 - accuracy: 0.9795\n",
            "Epoch 67/100\n",
            "29/29 [==============================] - ETA: 0s - loss: 0.4616 - accuracy: 0.9786"
          ]
        },
        {
          "output_type": "stream",
          "name": "stderr",
          "text": [
            "WARNING:tensorflow:Can save best model only with val_accuracy available, skipping.\n"
          ]
        },
        {
          "output_type": "stream",
          "name": "stdout",
          "text": [
            "\b\b\b\b\b\b\b\b\b\b\b\b\b\b\b\b\b\b\b\b\b\b\b\b\b\b\b\b\b\b\b\b\b\b\b\b\b\b\b\b\b\b\b\b\b\b\b\b\b\b\b\b\b\b\b\b\b\b\b\b\b\b\b\b\b\b\b\b\b\b\b\b\b\b\b\b\b\b\b\b\b\b\r29/29 [==============================] - 1s 52ms/step - loss: 0.4616 - accuracy: 0.9786\n",
            "Epoch 68/100\n",
            "29/29 [==============================] - ETA: 0s - loss: 0.4548 - accuracy: 0.9825"
          ]
        },
        {
          "output_type": "stream",
          "name": "stderr",
          "text": [
            "WARNING:tensorflow:Can save best model only with val_accuracy available, skipping.\n"
          ]
        },
        {
          "output_type": "stream",
          "name": "stdout",
          "text": [
            "\b\b\b\b\b\b\b\b\b\b\b\b\b\b\b\b\b\b\b\b\b\b\b\b\b\b\b\b\b\b\b\b\b\b\b\b\b\b\b\b\b\b\b\b\b\b\b\b\b\b\b\b\b\b\b\b\b\b\b\b\b\b\b\b\b\b\b\b\b\b\b\b\b\b\b\b\b\b\b\b\b\b\r29/29 [==============================] - 2s 52ms/step - loss: 0.4548 - accuracy: 0.9825\n",
            "Epoch 69/100\n",
            "29/29 [==============================] - ETA: 0s - loss: 0.4534 - accuracy: 0.9835"
          ]
        },
        {
          "output_type": "stream",
          "name": "stderr",
          "text": [
            "WARNING:tensorflow:Can save best model only with val_accuracy available, skipping.\n"
          ]
        },
        {
          "output_type": "stream",
          "name": "stdout",
          "text": [
            "\b\b\b\b\b\b\b\b\b\b\b\b\b\b\b\b\b\b\b\b\b\b\b\b\b\b\b\b\b\b\b\b\b\b\b\b\b\b\b\b\b\b\b\b\b\b\b\b\b\b\b\b\b\b\b\b\b\b\b\b\b\b\b\b\b\b\b\b\b\b\b\b\b\b\b\b\b\b\b\b\b\b\r29/29 [==============================] - 2s 53ms/step - loss: 0.4534 - accuracy: 0.9835\n",
            "Epoch 70/100\n",
            "29/29 [==============================] - ETA: 0s - loss: 0.4524 - accuracy: 0.9839"
          ]
        },
        {
          "output_type": "stream",
          "name": "stderr",
          "text": [
            "WARNING:tensorflow:Can save best model only with val_accuracy available, skipping.\n"
          ]
        },
        {
          "output_type": "stream",
          "name": "stdout",
          "text": [
            "\b\b\b\b\b\b\b\b\b\b\b\b\b\b\b\b\b\b\b\b\b\b\b\b\b\b\b\b\b\b\b\b\b\b\b\b\b\b\b\b\b\b\b\b\b\b\b\b\b\b\b\b\b\b\b\b\b\b\b\b\b\b\b\b\b\b\b\b\b\b\b\b\b\b\b\b\b\b\b\b\b\b\r29/29 [==============================] - 1s 50ms/step - loss: 0.4524 - accuracy: 0.9839\n",
            "Epoch 71/100\n",
            "29/29 [==============================] - ETA: 0s - loss: 0.4467 - accuracy: 0.9878"
          ]
        },
        {
          "output_type": "stream",
          "name": "stderr",
          "text": [
            "WARNING:tensorflow:Can save best model only with val_accuracy available, skipping.\n"
          ]
        },
        {
          "output_type": "stream",
          "name": "stdout",
          "text": [
            "\b\b\b\b\b\b\b\b\b\b\b\b\b\b\b\b\b\b\b\b\b\b\b\b\b\b\b\b\b\b\b\b\b\b\b\b\b\b\b\b\b\b\b\b\b\b\b\b\b\b\b\b\b\b\b\b\b\b\b\b\b\b\b\b\b\b\b\b\b\b\b\b\b\b\b\b\b\b\b\b\b\b\r29/29 [==============================] - 2s 73ms/step - loss: 0.4467 - accuracy: 0.9878\n",
            "Epoch 72/100\n",
            "29/29 [==============================] - ETA: 0s - loss: 0.4496 - accuracy: 0.9842"
          ]
        },
        {
          "output_type": "stream",
          "name": "stderr",
          "text": [
            "WARNING:tensorflow:Can save best model only with val_accuracy available, skipping.\n"
          ]
        },
        {
          "output_type": "stream",
          "name": "stdout",
          "text": [
            "\b\b\b\b\b\b\b\b\b\b\b\b\b\b\b\b\b\b\b\b\b\b\b\b\b\b\b\b\b\b\b\b\b\b\b\b\b\b\b\b\b\b\b\b\b\b\b\b\b\b\b\b\b\b\b\b\b\b\b\b\b\b\b\b\b\b\b\b\b\b\b\b\b\b\b\b\b\b\b\b\b\b\r29/29 [==============================] - 2s 80ms/step - loss: 0.4496 - accuracy: 0.9842\n",
            "Epoch 73/100\n",
            "29/29 [==============================] - ETA: 0s - loss: 0.4494 - accuracy: 0.9852"
          ]
        },
        {
          "output_type": "stream",
          "name": "stderr",
          "text": [
            "WARNING:tensorflow:Can save best model only with val_accuracy available, skipping.\n"
          ]
        },
        {
          "output_type": "stream",
          "name": "stdout",
          "text": [
            "\b\b\b\b\b\b\b\b\b\b\b\b\b\b\b\b\b\b\b\b\b\b\b\b\b\b\b\b\b\b\b\b\b\b\b\b\b\b\b\b\b\b\b\b\b\b\b\b\b\b\b\b\b\b\b\b\b\b\b\b\b\b\b\b\b\b\b\b\b\b\b\b\b\b\b\b\b\b\b\b\b\b\r29/29 [==============================] - 2s 82ms/step - loss: 0.4494 - accuracy: 0.9852\n",
            "Epoch 74/100\n",
            "28/29 [===========================>..] - ETA: 0s - loss: 0.4463 - accuracy: 0.9858"
          ]
        },
        {
          "output_type": "stream",
          "name": "stderr",
          "text": [
            "WARNING:tensorflow:Can save best model only with val_accuracy available, skipping.\n"
          ]
        },
        {
          "output_type": "stream",
          "name": "stdout",
          "text": [
            "\b\b\b\b\b\b\b\b\b\b\b\b\b\b\b\b\b\b\b\b\b\b\b\b\b\b\b\b\b\b\b\b\b\b\b\b\b\b\b\b\b\b\b\b\b\b\b\b\b\b\b\b\b\b\b\b\b\b\b\b\b\b\b\b\b\b\b\b\b\b\b\b\b\b\b\b\b\b\b\b\b\b\r29/29 [==============================] - 2s 53ms/step - loss: 0.4466 - accuracy: 0.9856\n",
            "Epoch 75/100\n",
            "29/29 [==============================] - ETA: 0s - loss: 0.4477 - accuracy: 0.9852"
          ]
        },
        {
          "output_type": "stream",
          "name": "stderr",
          "text": [
            "WARNING:tensorflow:Can save best model only with val_accuracy available, skipping.\n"
          ]
        },
        {
          "output_type": "stream",
          "name": "stdout",
          "text": [
            "\b\b\b\b\b\b\b\b\b\b\b\b\b\b\b\b\b\b\b\b\b\b\b\b\b\b\b\b\b\b\b\b\b\b\b\b\b\b\b\b\b\b\b\b\b\b\b\b\b\b\b\b\b\b\b\b\b\b\b\b\b\b\b\b\b\b\b\b\b\b\b\b\b\b\b\b\b\b\b\b\b\b\r29/29 [==============================] - 2s 53ms/step - loss: 0.4477 - accuracy: 0.9852\n",
            "Epoch 76/100\n",
            "29/29 [==============================] - ETA: 0s - loss: 0.4484 - accuracy: 0.9863"
          ]
        },
        {
          "output_type": "stream",
          "name": "stderr",
          "text": [
            "WARNING:tensorflow:Can save best model only with val_accuracy available, skipping.\n"
          ]
        },
        {
          "output_type": "stream",
          "name": "stdout",
          "text": [
            "\b\b\b\b\b\b\b\b\b\b\b\b\b\b\b\b\b\b\b\b\b\b\b\b\b\b\b\b\b\b\b\b\b\b\b\b\b\b\b\b\b\b\b\b\b\b\b\b\b\b\b\b\b\b\b\b\b\b\b\b\b\b\b\b\b\b\b\b\b\b\b\b\b\b\b\b\b\b\b\b\b\b\r29/29 [==============================] - 2s 52ms/step - loss: 0.4484 - accuracy: 0.9863\n",
            "Epoch 77/100\n",
            "29/29 [==============================] - ETA: 0s - loss: 0.4466 - accuracy: 0.9871"
          ]
        },
        {
          "output_type": "stream",
          "name": "stderr",
          "text": [
            "WARNING:tensorflow:Can save best model only with val_accuracy available, skipping.\n"
          ]
        },
        {
          "output_type": "stream",
          "name": "stdout",
          "text": [
            "\b\b\b\b\b\b\b\b\b\b\b\b\b\b\b\b\b\b\b\b\b\b\b\b\b\b\b\b\b\b\b\b\b\b\b\b\b\b\b\b\b\b\b\b\b\b\b\b\b\b\b\b\b\b\b\b\b\b\b\b\b\b\b\b\b\b\b\b\b\b\b\b\b\b\b\b\b\b\b\b\b\b\r29/29 [==============================] - 2s 69ms/step - loss: 0.4466 - accuracy: 0.9871\n",
            "Epoch 78/100\n",
            "29/29 [==============================] - ETA: 0s - loss: 0.4458 - accuracy: 0.9878"
          ]
        },
        {
          "output_type": "stream",
          "name": "stderr",
          "text": [
            "WARNING:tensorflow:Can save best model only with val_accuracy available, skipping.\n"
          ]
        },
        {
          "output_type": "stream",
          "name": "stdout",
          "text": [
            "\b\b\b\b\b\b\b\b\b\b\b\b\b\b\b\b\b\b\b\b\b\b\b\b\b\b\b\b\b\b\b\b\b\b\b\b\b\b\b\b\b\b\b\b\b\b\b\b\b\b\b\b\b\b\b\b\b\b\b\b\b\b\b\b\b\b\b\b\b\b\b\b\b\b\b\b\b\b\b\b\b\b\r29/29 [==============================] - 2s 52ms/step - loss: 0.4458 - accuracy: 0.9878\n",
            "Epoch 79/100\n",
            "29/29 [==============================] - ETA: 0s - loss: 0.4468 - accuracy: 0.9869"
          ]
        },
        {
          "output_type": "stream",
          "name": "stderr",
          "text": [
            "WARNING:tensorflow:Can save best model only with val_accuracy available, skipping.\n"
          ]
        },
        {
          "output_type": "stream",
          "name": "stdout",
          "text": [
            "\b\b\b\b\b\b\b\b\b\b\b\b\b\b\b\b\b\b\b\b\b\b\b\b\b\b\b\b\b\b\b\b\b\b\b\b\b\b\b\b\b\b\b\b\b\b\b\b\b\b\b\b\b\b\b\b\b\b\b\b\b\b\b\b\b\b\b\b\b\b\b\b\b\b\b\b\b\b\b\b\b\b\r29/29 [==============================] - 2s 52ms/step - loss: 0.4468 - accuracy: 0.9869\n",
            "Epoch 80/100\n",
            "29/29 [==============================] - ETA: 0s - loss: 0.4459 - accuracy: 0.9864"
          ]
        },
        {
          "output_type": "stream",
          "name": "stderr",
          "text": [
            "WARNING:tensorflow:Can save best model only with val_accuracy available, skipping.\n"
          ]
        },
        {
          "output_type": "stream",
          "name": "stdout",
          "text": [
            "\b\b\b\b\b\b\b\b\b\b\b\b\b\b\b\b\b\b\b\b\b\b\b\b\b\b\b\b\b\b\b\b\b\b\b\b\b\b\b\b\b\b\b\b\b\b\b\b\b\b\b\b\b\b\b\b\b\b\b\b\b\b\b\b\b\b\b\b\b\b\b\b\b\b\b\b\b\b\b\b\b\b\r29/29 [==============================] - 2s 75ms/step - loss: 0.4459 - accuracy: 0.9864\n",
            "Epoch 81/100\n",
            "29/29 [==============================] - ETA: 0s - loss: 0.4489 - accuracy: 0.9846"
          ]
        },
        {
          "output_type": "stream",
          "name": "stderr",
          "text": [
            "WARNING:tensorflow:Can save best model only with val_accuracy available, skipping.\n"
          ]
        },
        {
          "output_type": "stream",
          "name": "stdout",
          "text": [
            "\b\b\b\b\b\b\b\b\b\b\b\b\b\b\b\b\b\b\b\b\b\b\b\b\b\b\b\b\b\b\b\b\b\b\b\b\b\b\b\b\b\b\b\b\b\b\b\b\b\b\b\b\b\b\b\b\b\b\b\b\b\b\b\b\b\b\b\b\b\b\b\b\b\b\b\b\b\b\b\b\b\b\r29/29 [==============================] - 2s 80ms/step - loss: 0.4489 - accuracy: 0.9846\n",
            "Epoch 82/100\n",
            "29/29 [==============================] - ETA: 0s - loss: 0.4438 - accuracy: 0.9886"
          ]
        },
        {
          "output_type": "stream",
          "name": "stderr",
          "text": [
            "WARNING:tensorflow:Can save best model only with val_accuracy available, skipping.\n"
          ]
        },
        {
          "output_type": "stream",
          "name": "stdout",
          "text": [
            "\b\b\b\b\b\b\b\b\b\b\b\b\b\b\b\b\b\b\b\b\b\b\b\b\b\b\b\b\b\b\b\b\b\b\b\b\b\b\b\b\b\b\b\b\b\b\b\b\b\b\b\b\b\b\b\b\b\b\b\b\b\b\b\b\b\b\b\b\b\b\b\b\b\b\b\b\b\b\b\b\b\b\r29/29 [==============================] - 2s 80ms/step - loss: 0.4438 - accuracy: 0.9886\n",
            "Epoch 83/100\n",
            "29/29 [==============================] - ETA: 0s - loss: 0.4410 - accuracy: 0.9902"
          ]
        },
        {
          "output_type": "stream",
          "name": "stderr",
          "text": [
            "WARNING:tensorflow:Can save best model only with val_accuracy available, skipping.\n"
          ]
        },
        {
          "output_type": "stream",
          "name": "stdout",
          "text": [
            "\b\b\b\b\b\b\b\b\b\b\b\b\b\b\b\b\b\b\b\b\b\b\b\b\b\b\b\b\b\b\b\b\b\b\b\b\b\b\b\b\b\b\b\b\b\b\b\b\b\b\b\b\b\b\b\b\b\b\b\b\b\b\b\b\b\b\b\b\b\b\b\b\b\b\b\b\b\b\b\b\b\b\r29/29 [==============================] - 1s 50ms/step - loss: 0.4410 - accuracy: 0.9902\n",
            "Epoch 84/100\n",
            "28/29 [===========================>..] - ETA: 0s - loss: 0.4427 - accuracy: 0.9888"
          ]
        },
        {
          "output_type": "stream",
          "name": "stderr",
          "text": [
            "WARNING:tensorflow:Can save best model only with val_accuracy available, skipping.\n"
          ]
        },
        {
          "output_type": "stream",
          "name": "stdout",
          "text": [
            "\b\b\b\b\b\b\b\b\b\b\b\b\b\b\b\b\b\b\b\b\b\b\b\b\b\b\b\b\b\b\b\b\b\b\b\b\b\b\b\b\b\b\b\b\b\b\b\b\b\b\b\b\b\b\b\b\b\b\b\b\b\b\b\b\b\b\b\b\b\b\b\b\b\b\b\b\b\b\b\b\b\b\r29/29 [==============================] - 1s 50ms/step - loss: 0.4423 - accuracy: 0.9891\n",
            "Epoch 85/100\n",
            "29/29 [==============================] - ETA: 0s - loss: 0.4391 - accuracy: 0.9909"
          ]
        },
        {
          "output_type": "stream",
          "name": "stderr",
          "text": [
            "WARNING:tensorflow:Can save best model only with val_accuracy available, skipping.\n"
          ]
        },
        {
          "output_type": "stream",
          "name": "stdout",
          "text": [
            "\b\b\b\b\b\b\b\b\b\b\b\b\b\b\b\b\b\b\b\b\b\b\b\b\b\b\b\b\b\b\b\b\b\b\b\b\b\b\b\b\b\b\b\b\b\b\b\b\b\b\b\b\b\b\b\b\b\b\b\b\b\b\b\b\b\b\b\b\b\b\b\b\b\b\b\b\b\b\b\b\b\b\r29/29 [==============================] - 1s 50ms/step - loss: 0.4391 - accuracy: 0.9909\n",
            "Epoch 86/100\n",
            "29/29 [==============================] - ETA: 0s - loss: 0.4431 - accuracy: 0.9894"
          ]
        },
        {
          "output_type": "stream",
          "name": "stderr",
          "text": [
            "WARNING:tensorflow:Can save best model only with val_accuracy available, skipping.\n"
          ]
        },
        {
          "output_type": "stream",
          "name": "stdout",
          "text": [
            "\b\b\b\b\b\b\b\b\b\b\b\b\b\b\b\b\b\b\b\b\b\b\b\b\b\b\b\b\b\b\b\b\b\b\b\b\b\b\b\b\b\b\b\b\b\b\b\b\b\b\b\b\b\b\b\b\b\b\b\b\b\b\b\b\b\b\b\b\b\b\b\b\b\b\b\b\b\b\b\b\b\b\r29/29 [==============================] - 1s 51ms/step - loss: 0.4431 - accuracy: 0.9894\n",
            "Epoch 87/100\n",
            "29/29 [==============================] - ETA: 0s - loss: 0.4458 - accuracy: 0.9893"
          ]
        },
        {
          "output_type": "stream",
          "name": "stderr",
          "text": [
            "WARNING:tensorflow:Can save best model only with val_accuracy available, skipping.\n"
          ]
        },
        {
          "output_type": "stream",
          "name": "stdout",
          "text": [
            "\b\b\b\b\b\b\b\b\b\b\b\b\b\b\b\b\b\b\b\b\b\b\b\b\b\b\b\b\b\b\b\b\b\b\b\b\b\b\b\b\b\b\b\b\b\b\b\b\b\b\b\b\b\b\b\b\b\b\b\b\b\b\b\b\b\b\b\b\b\b\b\b\b\b\b\b\b\b\b\b\b\b\r29/29 [==============================] - 1s 51ms/step - loss: 0.4458 - accuracy: 0.9893\n",
            "Epoch 88/100\n",
            "28/29 [===========================>..] - ETA: 0s - loss: 0.4429 - accuracy: 0.9890"
          ]
        },
        {
          "output_type": "stream",
          "name": "stderr",
          "text": [
            "WARNING:tensorflow:Can save best model only with val_accuracy available, skipping.\n"
          ]
        },
        {
          "output_type": "stream",
          "name": "stdout",
          "text": [
            "\b\b\b\b\b\b\b\b\b\b\b\b\b\b\b\b\b\b\b\b\b\b\b\b\b\b\b\b\b\b\b\b\b\b\b\b\b\b\b\b\b\b\b\b\b\b\b\b\b\b\b\b\b\b\b\b\b\b\b\b\b\b\b\b\b\b\b\b\b\b\b\b\b\b\b\b\b\b\b\b\b\b\r29/29 [==============================] - 1s 49ms/step - loss: 0.4434 - accuracy: 0.9888\n",
            "Epoch 89/100\n",
            "29/29 [==============================] - ETA: 0s - loss: 0.4403 - accuracy: 0.9908"
          ]
        },
        {
          "output_type": "stream",
          "name": "stderr",
          "text": [
            "WARNING:tensorflow:Can save best model only with val_accuracy available, skipping.\n"
          ]
        },
        {
          "output_type": "stream",
          "name": "stdout",
          "text": [
            "\b\b\b\b\b\b\b\b\b\b\b\b\b\b\b\b\b\b\b\b\b\b\b\b\b\b\b\b\b\b\b\b\b\b\b\b\b\b\b\b\b\b\b\b\b\b\b\b\b\b\b\b\b\b\b\b\b\b\b\b\b\b\b\b\b\b\b\b\b\b\b\b\b\b\b\b\b\b\b\b\b\b\r29/29 [==============================] - 2s 58ms/step - loss: 0.4403 - accuracy: 0.9908\n",
            "Epoch 90/100\n",
            "29/29 [==============================] - ETA: 0s - loss: 0.4385 - accuracy: 0.9906"
          ]
        },
        {
          "output_type": "stream",
          "name": "stderr",
          "text": [
            "WARNING:tensorflow:Can save best model only with val_accuracy available, skipping.\n"
          ]
        },
        {
          "output_type": "stream",
          "name": "stdout",
          "text": [
            "\b\b\b\b\b\b\b\b\b\b\b\b\b\b\b\b\b\b\b\b\b\b\b\b\b\b\b\b\b\b\b\b\b\b\b\b\b\b\b\b\b\b\b\b\b\b\b\b\b\b\b\b\b\b\b\b\b\b\b\b\b\b\b\b\b\b\b\b\b\b\b\b\b\b\b\b\b\b\b\b\b\b\r29/29 [==============================] - 2s 74ms/step - loss: 0.4385 - accuracy: 0.9906\n",
            "Epoch 91/100\n",
            "29/29 [==============================] - ETA: 0s - loss: 0.4390 - accuracy: 0.9903"
          ]
        },
        {
          "output_type": "stream",
          "name": "stderr",
          "text": [
            "WARNING:tensorflow:Can save best model only with val_accuracy available, skipping.\n"
          ]
        },
        {
          "output_type": "stream",
          "name": "stdout",
          "text": [
            "\b\b\b\b\b\b\b\b\b\b\b\b\b\b\b\b\b\b\b\b\b\b\b\b\b\b\b\b\b\b\b\b\b\b\b\b\b\b\b\b\b\b\b\b\b\b\b\b\b\b\b\b\b\b\b\b\b\b\b\b\b\b\b\b\b\b\b\b\b\b\b\b\b\b\b\b\b\b\b\b\b\b\r29/29 [==============================] - 2s 81ms/step - loss: 0.4390 - accuracy: 0.9903\n",
            "Epoch 92/100\n",
            "29/29 [==============================] - ETA: 0s - loss: 0.4403 - accuracy: 0.9897"
          ]
        },
        {
          "output_type": "stream",
          "name": "stderr",
          "text": [
            "WARNING:tensorflow:Can save best model only with val_accuracy available, skipping.\n"
          ]
        },
        {
          "output_type": "stream",
          "name": "stdout",
          "text": [
            "\b\b\b\b\b\b\b\b\b\b\b\b\b\b\b\b\b\b\b\b\b\b\b\b\b\b\b\b\b\b\b\b\b\b\b\b\b\b\b\b\b\b\b\b\b\b\b\b\b\b\b\b\b\b\b\b\b\b\b\b\b\b\b\b\b\b\b\b\b\b\b\b\b\b\b\b\b\b\b\b\b\b\r29/29 [==============================] - 2s 65ms/step - loss: 0.4403 - accuracy: 0.9897\n",
            "Epoch 93/100\n",
            "29/29 [==============================] - ETA: 0s - loss: 0.4361 - accuracy: 0.9927"
          ]
        },
        {
          "output_type": "stream",
          "name": "stderr",
          "text": [
            "WARNING:tensorflow:Can save best model only with val_accuracy available, skipping.\n"
          ]
        },
        {
          "output_type": "stream",
          "name": "stdout",
          "text": [
            "\b\b\b\b\b\b\b\b\b\b\b\b\b\b\b\b\b\b\b\b\b\b\b\b\b\b\b\b\b\b\b\b\b\b\b\b\b\b\b\b\b\b\b\b\b\b\b\b\b\b\b\b\b\b\b\b\b\b\b\b\b\b\b\b\b\b\b\b\b\b\b\b\b\b\b\b\b\b\b\b\b\b\r29/29 [==============================] - 2s 52ms/step - loss: 0.4361 - accuracy: 0.9927\n",
            "Epoch 94/100\n",
            "29/29 [==============================] - ETA: 0s - loss: 0.4394 - accuracy: 0.9912"
          ]
        },
        {
          "output_type": "stream",
          "name": "stderr",
          "text": [
            "WARNING:tensorflow:Can save best model only with val_accuracy available, skipping.\n"
          ]
        },
        {
          "output_type": "stream",
          "name": "stdout",
          "text": [
            "\b\b\b\b\b\b\b\b\b\b\b\b\b\b\b\b\b\b\b\b\b\b\b\b\b\b\b\b\b\b\b\b\b\b\b\b\b\b\b\b\b\b\b\b\b\b\b\b\b\b\b\b\b\b\b\b\b\b\b\b\b\b\b\b\b\b\b\b\b\b\b\b\b\b\b\b\b\b\b\b\b\b\r29/29 [==============================] - 2s 54ms/step - loss: 0.4394 - accuracy: 0.9912\n",
            "Epoch 95/100\n",
            "29/29 [==============================] - ETA: 0s - loss: 0.4486 - accuracy: 0.9854"
          ]
        },
        {
          "output_type": "stream",
          "name": "stderr",
          "text": [
            "WARNING:tensorflow:Can save best model only with val_accuracy available, skipping.\n"
          ]
        },
        {
          "output_type": "stream",
          "name": "stdout",
          "text": [
            "\b\b\b\b\b\b\b\b\b\b\b\b\b\b\b\b\b\b\b\b\b\b\b\b\b\b\b\b\b\b\b\b\b\b\b\b\b\b\b\b\b\b\b\b\b\b\b\b\b\b\b\b\b\b\b\b\b\b\b\b\b\b\b\b\b\b\b\b\b\b\b\b\b\b\b\b\b\b\b\b\b\b\r29/29 [==============================] - 2s 53ms/step - loss: 0.4486 - accuracy: 0.9854\n",
            "Epoch 96/100\n",
            "29/29 [==============================] - ETA: 0s - loss: 0.4416 - accuracy: 0.9898"
          ]
        },
        {
          "output_type": "stream",
          "name": "stderr",
          "text": [
            "WARNING:tensorflow:Can save best model only with val_accuracy available, skipping.\n"
          ]
        },
        {
          "output_type": "stream",
          "name": "stdout",
          "text": [
            "\b\b\b\b\b\b\b\b\b\b\b\b\b\b\b\b\b\b\b\b\b\b\b\b\b\b\b\b\b\b\b\b\b\b\b\b\b\b\b\b\b\b\b\b\b\b\b\b\b\b\b\b\b\b\b\b\b\b\b\b\b\b\b\b\b\b\b\b\b\b\b\b\b\b\b\b\b\b\b\b\b\b\r29/29 [==============================] - 1s 51ms/step - loss: 0.4416 - accuracy: 0.9898\n",
            "Epoch 97/100\n",
            "28/29 [===========================>..] - ETA: 0s - loss: 0.4383 - accuracy: 0.9908"
          ]
        },
        {
          "output_type": "stream",
          "name": "stderr",
          "text": [
            "WARNING:tensorflow:Can save best model only with val_accuracy available, skipping.\n"
          ]
        },
        {
          "output_type": "stream",
          "name": "stdout",
          "text": [
            "\b\b\b\b\b\b\b\b\b\b\b\b\b\b\b\b\b\b\b\b\b\b\b\b\b\b\b\b\b\b\b\b\b\b\b\b\b\b\b\b\b\b\b\b\b\b\b\b\b\b\b\b\b\b\b\b\b\b\b\b\b\b\b\b\b\b\b\b\b\b\b\b\b\b\b\b\b\b\b\b\b\b\r29/29 [==============================] - 2s 52ms/step - loss: 0.4382 - accuracy: 0.9910\n",
            "Epoch 98/100\n",
            "28/29 [===========================>..] - ETA: 0s - loss: 0.4402 - accuracy: 0.9893"
          ]
        },
        {
          "output_type": "stream",
          "name": "stderr",
          "text": [
            "WARNING:tensorflow:Can save best model only with val_accuracy available, skipping.\n"
          ]
        },
        {
          "output_type": "stream",
          "name": "stdout",
          "text": [
            "\b\b\b\b\b\b\b\b\b\b\b\b\b\b\b\b\b\b\b\b\b\b\b\b\b\b\b\b\b\b\b\b\b\b\b\b\b\b\b\b\b\b\b\b\b\b\b\b\b\b\b\b\b\b\b\b\b\b\b\b\b\b\b\b\b\b\b\b\b\b\b\b\b\b\b\b\b\b\b\b\b\b\r29/29 [==============================] - 1s 49ms/step - loss: 0.4402 - accuracy: 0.9891\n",
            "Epoch 99/100\n",
            "29/29 [==============================] - ETA: 0s - loss: 0.4343 - accuracy: 0.9931"
          ]
        },
        {
          "output_type": "stream",
          "name": "stderr",
          "text": [
            "WARNING:tensorflow:Can save best model only with val_accuracy available, skipping.\n"
          ]
        },
        {
          "output_type": "stream",
          "name": "stdout",
          "text": [
            "\b\b\b\b\b\b\b\b\b\b\b\b\b\b\b\b\b\b\b\b\b\b\b\b\b\b\b\b\b\b\b\b\b\b\b\b\b\b\b\b\b\b\b\b\b\b\b\b\b\b\b\b\b\b\b\b\b\b\b\b\b\b\b\b\b\b\b\b\b\b\b\b\b\b\b\b\b\b\b\b\b\b\r29/29 [==============================] - 2s 74ms/step - loss: 0.4343 - accuracy: 0.9931\n",
            "Epoch 100/100\n",
            "29/29 [==============================] - ETA: 0s - loss: 0.4367 - accuracy: 0.9920"
          ]
        },
        {
          "output_type": "stream",
          "name": "stderr",
          "text": [
            "WARNING:tensorflow:Can save best model only with val_accuracy available, skipping.\n"
          ]
        },
        {
          "output_type": "stream",
          "name": "stdout",
          "text": [
            "\b\b\b\b\b\b\b\b\b\b\b\b\b\b\b\b\b\b\b\b\b\b\b\b\b\b\b\b\b\b\b\b\b\b\b\b\b\b\b\b\b\b\b\b\b\b\b\b\b\b\b\b\b\b\b\b\b\b\b\b\b\b\b\b\b\b\b\b\b\b\b\b\b\b\b\b\b\b\b\b\b\b\r29/29 [==============================] - 2s 77ms/step - loss: 0.4367 - accuracy: 0.9920\n"
          ]
        }
      ]
    },
    {
      "cell_type": "code",
      "source": [
        "print(\"time is \"+str(end_time))\n"
      ],
      "metadata": {
        "colab": {
          "base_uri": "https://localhost:8080/"
        },
        "id": "GNhAvoCWRVkH",
        "outputId": "3a09d051-6fb1-4d5c-bca5-ded9d8885b5e"
      },
      "execution_count": 161,
      "outputs": [
        {
          "output_type": "stream",
          "name": "stdout",
          "text": [
            "time is 422.10405707359314\n"
          ]
        }
      ]
    },
    {
      "cell_type": "code",
      "source": [
        "_, accuracy = model_classifier.evaluate(masterxtest, masterytest)\n",
        "print(f\"Test accuracy(master): {round(accuracy * 100, 2)}%\")\n",
        "_, accuracy = dynamic_classifier.evaluate(dynamicxtest, dynamicytest)\n",
        "print(f\"Test accuracy(dynamic): {round(accuracy * 100, 2)}%\")\n",
        "_, accuracy = static_classifier.evaluate(staticxtest, staticytest)\n",
        "print(f\"Test accuracy(static): {round(accuracy * 100, 2)}%\")\n",
        "_, accuracy = linear_classifier.evaluate(centralTestData, centralTestLabel)\n",
        "print(f\"Test accuracy(linear): {round(accuracy * 100, 2)}%\")"
      ],
      "metadata": {
        "colab": {
          "base_uri": "https://localhost:8080/"
        },
        "id": "yRZlfFs4UHZj",
        "outputId": "26a7170a-f178-4698-eceb-2bf639b5a053"
      },
      "execution_count": 162,
      "outputs": [
        {
          "output_type": "stream",
          "name": "stderr",
          "text": [
            "WARNING:tensorflow:AutoGraph could not transform <function Model.make_test_function.<locals>.test_function at 0x7c69e47600d0> and will run it as-is.\n",
            "Cause: Unable to locate the source code of <function Model.make_test_function.<locals>.test_function at 0x7c69e47600d0>. Note that functions defined in certain environments, like the interactive Python shell, do not expose their source code. If that is the case, you should define them in a .py source file. If you are certain the code is graph-compatible, wrap the call using @tf.autograph.experimental.do_not_convert. Original error: could not get source code\n",
            "To silence this warning, decorate the function with @tf.autograph.experimental.do_not_convert\n"
          ]
        },
        {
          "output_type": "stream",
          "name": "stdout",
          "text": [
            "WARNING: AutoGraph could not transform <function Model.make_test_function.<locals>.test_function at 0x7c69e47600d0> and will run it as-is.\n",
            "Cause: Unable to locate the source code of <function Model.make_test_function.<locals>.test_function at 0x7c69e47600d0>. Note that functions defined in certain environments, like the interactive Python shell, do not expose their source code. If that is the case, you should define them in a .py source file. If you are certain the code is graph-compatible, wrap the call using @tf.autograph.experimental.do_not_convert. Original error: could not get source code\n",
            "To silence this warning, decorate the function with @tf.autograph.experimental.do_not_convert\n",
            "31/31 [==============================] - 2s 13ms/step - loss: 0.2613 - accuracy: 0.9757\n",
            "Test accuracy(master): 97.57%\n"
          ]
        },
        {
          "output_type": "stream",
          "name": "stderr",
          "text": [
            "WARNING:tensorflow:AutoGraph could not transform <function Model.make_test_function.<locals>.test_function at 0x7c69dfe71510> and will run it as-is.\n",
            "Cause: Unable to locate the source code of <function Model.make_test_function.<locals>.test_function at 0x7c69dfe71510>. Note that functions defined in certain environments, like the interactive Python shell, do not expose their source code. If that is the case, you should define them in a .py source file. If you are certain the code is graph-compatible, wrap the call using @tf.autograph.experimental.do_not_convert. Original error: could not get source code\n",
            "To silence this warning, decorate the function with @tf.autograph.experimental.do_not_convert\n"
          ]
        },
        {
          "output_type": "stream",
          "name": "stdout",
          "text": [
            "WARNING: AutoGraph could not transform <function Model.make_test_function.<locals>.test_function at 0x7c69dfe71510> and will run it as-is.\n",
            "Cause: Unable to locate the source code of <function Model.make_test_function.<locals>.test_function at 0x7c69dfe71510>. Note that functions defined in certain environments, like the interactive Python shell, do not expose their source code. If that is the case, you should define them in a .py source file. If you are certain the code is graph-compatible, wrap the call using @tf.autograph.experimental.do_not_convert. Original error: could not get source code\n",
            "To silence this warning, decorate the function with @tf.autograph.experimental.do_not_convert\n",
            "44/44 [==============================] - 2s 14ms/step - loss: 0.4829 - accuracy: 0.9293\n"
          ]
        },
        {
          "output_type": "stream",
          "name": "stderr",
          "text": [
            "WARNING:tensorflow:AutoGraph could not transform <function Model.make_test_function.<locals>.test_function at 0x7c6936680dc0> and will run it as-is.\n",
            "Cause: Unable to locate the source code of <function Model.make_test_function.<locals>.test_function at 0x7c6936680dc0>. Note that functions defined in certain environments, like the interactive Python shell, do not expose their source code. If that is the case, you should define them in a .py source file. If you are certain the code is graph-compatible, wrap the call using @tf.autograph.experimental.do_not_convert. Original error: could not get source code\n",
            "To silence this warning, decorate the function with @tf.autograph.experimental.do_not_convert\n"
          ]
        },
        {
          "output_type": "stream",
          "name": "stdout",
          "text": [
            "Test accuracy(dynamic): 92.93%\n",
            "WARNING: AutoGraph could not transform <function Model.make_test_function.<locals>.test_function at 0x7c6936680dc0> and will run it as-is.\n",
            "Cause: Unable to locate the source code of <function Model.make_test_function.<locals>.test_function at 0x7c6936680dc0>. Note that functions defined in certain environments, like the interactive Python shell, do not expose their source code. If that is the case, you should define them in a .py source file. If you are certain the code is graph-compatible, wrap the call using @tf.autograph.experimental.do_not_convert. Original error: could not get source code\n",
            "To silence this warning, decorate the function with @tf.autograph.experimental.do_not_convert\n",
            "49/49 [==============================] - 3s 22ms/step - loss: 0.5054 - accuracy: 0.9173\n",
            "Test accuracy(static): 91.73%\n"
          ]
        },
        {
          "output_type": "stream",
          "name": "stderr",
          "text": [
            "WARNING:tensorflow:AutoGraph could not transform <function Model.make_test_function.<locals>.test_function at 0x7c69dfdf8550> and will run it as-is.\n",
            "Cause: Unable to locate the source code of <function Model.make_test_function.<locals>.test_function at 0x7c69dfdf8550>. Note that functions defined in certain environments, like the interactive Python shell, do not expose their source code. If that is the case, you should define them in a .py source file. If you are certain the code is graph-compatible, wrap the call using @tf.autograph.experimental.do_not_convert. Original error: could not get source code\n",
            "To silence this warning, decorate the function with @tf.autograph.experimental.do_not_convert\n"
          ]
        },
        {
          "output_type": "stream",
          "name": "stdout",
          "text": [
            "WARNING: AutoGraph could not transform <function Model.make_test_function.<locals>.test_function at 0x7c69dfdf8550> and will run it as-is.\n",
            "Cause: Unable to locate the source code of <function Model.make_test_function.<locals>.test_function at 0x7c69dfdf8550>. Note that functions defined in certain environments, like the interactive Python shell, do not expose their source code. If that is the case, you should define them in a .py source file. If you are certain the code is graph-compatible, wrap the call using @tf.autograph.experimental.do_not_convert. Original error: could not get source code\n",
            "To silence this warning, decorate the function with @tf.autograph.experimental.do_not_convert\n",
            "93/93 [==============================] - 3s 13ms/step - loss: 0.6446 - accuracy: 0.9247\n",
            "Test accuracy(linear): 92.47%\n"
          ]
        }
      ]
    },
    {
      "cell_type": "code",
      "source": [
        "!pip install tensorflow --upgrade\n",
        "!pip install keras --upgrade"
      ],
      "metadata": {
        "colab": {
          "base_uri": "https://localhost:8080/",
          "height": 1000
        },
        "id": "UKZTfPXrhq-I",
        "outputId": "8dda8006-63ad-4692-c76d-4187710054d9"
      },
      "execution_count": 35,
      "outputs": [
        {
          "output_type": "stream",
          "name": "stdout",
          "text": [
            "Requirement already satisfied: tensorflow in /usr/local/lib/python3.10/dist-packages (2.10.1)\n",
            "Collecting tensorflow\n",
            "  Downloading tensorflow-2.13.0-cp310-cp310-manylinux_2_17_x86_64.manylinux2014_x86_64.whl (524.1 MB)\n",
            "\u001b[2K     \u001b[90m━━━━━━━━━━━━━━━━━━━━━━━━━━━━━━━━━━━━━━━\u001b[0m \u001b[32m524.1/524.1 MB\u001b[0m \u001b[31m2.9 MB/s\u001b[0m eta \u001b[36m0:00:00\u001b[0m\n",
            "\u001b[?25hRequirement already satisfied: absl-py>=1.0.0 in /usr/local/lib/python3.10/dist-packages (from tensorflow) (1.4.0)\n",
            "Requirement already satisfied: astunparse>=1.6.0 in /usr/local/lib/python3.10/dist-packages (from tensorflow) (1.6.3)\n",
            "Requirement already satisfied: flatbuffers>=23.1.21 in /usr/local/lib/python3.10/dist-packages (from tensorflow) (23.5.26)\n",
            "Requirement already satisfied: gast<=0.4.0,>=0.2.1 in /usr/local/lib/python3.10/dist-packages (from tensorflow) (0.4.0)\n",
            "Requirement already satisfied: google-pasta>=0.1.1 in /usr/local/lib/python3.10/dist-packages (from tensorflow) (0.2.0)\n",
            "Requirement already satisfied: grpcio<2.0,>=1.24.3 in /usr/local/lib/python3.10/dist-packages (from tensorflow) (1.56.2)\n",
            "Requirement already satisfied: h5py>=2.9.0 in /usr/local/lib/python3.10/dist-packages (from tensorflow) (3.9.0)\n",
            "Collecting keras<2.14,>=2.13.1 (from tensorflow)\n",
            "  Downloading keras-2.13.1-py3-none-any.whl (1.7 MB)\n",
            "\u001b[2K     \u001b[90m━━━━━━━━━━━━━━━━━━━━━━━━━━━━━━━━━━━━━━━━\u001b[0m \u001b[32m1.7/1.7 MB\u001b[0m \u001b[31m64.3 MB/s\u001b[0m eta \u001b[36m0:00:00\u001b[0m\n",
            "\u001b[?25hRequirement already satisfied: libclang>=13.0.0 in /usr/local/lib/python3.10/dist-packages (from tensorflow) (16.0.6)\n",
            "Requirement already satisfied: numpy<=1.24.3,>=1.22 in /usr/local/lib/python3.10/dist-packages (from tensorflow) (1.23.5)\n",
            "Requirement already satisfied: opt-einsum>=2.3.2 in /usr/local/lib/python3.10/dist-packages (from tensorflow) (3.3.0)\n",
            "Requirement already satisfied: packaging in /usr/local/lib/python3.10/dist-packages (from tensorflow) (23.1)\n",
            "Collecting protobuf!=4.21.0,!=4.21.1,!=4.21.2,!=4.21.3,!=4.21.4,!=4.21.5,<5.0.0dev,>=3.20.3 (from tensorflow)\n",
            "  Downloading protobuf-4.24.0-cp37-abi3-manylinux2014_x86_64.whl (311 kB)\n",
            "\u001b[2K     \u001b[90m━━━━━━━━━━━━━━━━━━━━━━━━━━━━━━━━━━━━━━\u001b[0m \u001b[32m311.6/311.6 kB\u001b[0m \u001b[31m32.5 MB/s\u001b[0m eta \u001b[36m0:00:00\u001b[0m\n",
            "\u001b[?25hRequirement already satisfied: setuptools in /usr/local/lib/python3.10/dist-packages (from tensorflow) (67.7.2)\n",
            "Requirement already satisfied: six>=1.12.0 in /usr/local/lib/python3.10/dist-packages (from tensorflow) (1.16.0)\n",
            "Collecting tensorboard<2.14,>=2.13 (from tensorflow)\n",
            "  Downloading tensorboard-2.13.0-py3-none-any.whl (5.6 MB)\n",
            "\u001b[2K     \u001b[90m━━━━━━━━━━━━━━━━━━━━━━━━━━━━━━━━━━━━━━━━\u001b[0m \u001b[32m5.6/5.6 MB\u001b[0m \u001b[31m110.0 MB/s\u001b[0m eta \u001b[36m0:00:00\u001b[0m\n",
            "\u001b[?25hCollecting tensorflow-estimator<2.14,>=2.13.0 (from tensorflow)\n",
            "  Downloading tensorflow_estimator-2.13.0-py2.py3-none-any.whl (440 kB)\n",
            "\u001b[2K     \u001b[90m━━━━━━━━━━━━━━━━━━━━━━━━━━━━━━━━━━━━━━\u001b[0m \u001b[32m440.8/440.8 kB\u001b[0m \u001b[31m39.9 MB/s\u001b[0m eta \u001b[36m0:00:00\u001b[0m\n",
            "\u001b[?25hRequirement already satisfied: termcolor>=1.1.0 in /usr/local/lib/python3.10/dist-packages (from tensorflow) (2.3.0)\n",
            "Collecting typing-extensions<4.6.0,>=3.6.6 (from tensorflow)\n",
            "  Downloading typing_extensions-4.5.0-py3-none-any.whl (27 kB)\n",
            "Requirement already satisfied: wrapt>=1.11.0 in /usr/local/lib/python3.10/dist-packages (from tensorflow) (1.14.1)\n",
            "Requirement already satisfied: tensorflow-io-gcs-filesystem>=0.23.1 in /usr/local/lib/python3.10/dist-packages (from tensorflow) (0.33.0)\n",
            "Requirement already satisfied: wheel<1.0,>=0.23.0 in /usr/local/lib/python3.10/dist-packages (from astunparse>=1.6.0->tensorflow) (0.41.1)\n",
            "Requirement already satisfied: google-auth<3,>=1.6.3 in /usr/local/lib/python3.10/dist-packages (from tensorboard<2.14,>=2.13->tensorflow) (2.17.3)\n",
            "Collecting google-auth-oauthlib<1.1,>=0.5 (from tensorboard<2.14,>=2.13->tensorflow)\n",
            "  Downloading google_auth_oauthlib-1.0.0-py2.py3-none-any.whl (18 kB)\n",
            "Requirement already satisfied: markdown>=2.6.8 in /usr/local/lib/python3.10/dist-packages (from tensorboard<2.14,>=2.13->tensorflow) (3.4.4)\n",
            "Requirement already satisfied: requests<3,>=2.21.0 in /usr/local/lib/python3.10/dist-packages (from tensorboard<2.14,>=2.13->tensorflow) (2.31.0)\n",
            "Collecting tensorboard-data-server<0.8.0,>=0.7.0 (from tensorboard<2.14,>=2.13->tensorflow)\n",
            "  Downloading tensorboard_data_server-0.7.1-py3-none-manylinux2014_x86_64.whl (6.6 MB)\n",
            "\u001b[2K     \u001b[90m━━━━━━━━━━━━━━━━━━━━━━━━━━━━━━━━━━━━━━━━\u001b[0m \u001b[32m6.6/6.6 MB\u001b[0m \u001b[31m101.7 MB/s\u001b[0m eta \u001b[36m0:00:00\u001b[0m\n",
            "\u001b[?25hRequirement already satisfied: werkzeug>=1.0.1 in /usr/local/lib/python3.10/dist-packages (from tensorboard<2.14,>=2.13->tensorflow) (2.3.6)\n",
            "Requirement already satisfied: cachetools<6.0,>=2.0.0 in /usr/local/lib/python3.10/dist-packages (from google-auth<3,>=1.6.3->tensorboard<2.14,>=2.13->tensorflow) (5.3.1)\n",
            "Requirement already satisfied: pyasn1-modules>=0.2.1 in /usr/local/lib/python3.10/dist-packages (from google-auth<3,>=1.6.3->tensorboard<2.14,>=2.13->tensorflow) (0.3.0)\n",
            "Requirement already satisfied: rsa<5,>=3.1.4 in /usr/local/lib/python3.10/dist-packages (from google-auth<3,>=1.6.3->tensorboard<2.14,>=2.13->tensorflow) (4.9)\n",
            "Requirement already satisfied: requests-oauthlib>=0.7.0 in /usr/local/lib/python3.10/dist-packages (from google-auth-oauthlib<1.1,>=0.5->tensorboard<2.14,>=2.13->tensorflow) (1.3.1)\n",
            "Requirement already satisfied: charset-normalizer<4,>=2 in /usr/local/lib/python3.10/dist-packages (from requests<3,>=2.21.0->tensorboard<2.14,>=2.13->tensorflow) (3.2.0)\n",
            "Requirement already satisfied: idna<4,>=2.5 in /usr/local/lib/python3.10/dist-packages (from requests<3,>=2.21.0->tensorboard<2.14,>=2.13->tensorflow) (3.4)\n",
            "Requirement already satisfied: urllib3<3,>=1.21.1 in /usr/local/lib/python3.10/dist-packages (from requests<3,>=2.21.0->tensorboard<2.14,>=2.13->tensorflow) (2.0.4)\n",
            "Requirement already satisfied: certifi>=2017.4.17 in /usr/local/lib/python3.10/dist-packages (from requests<3,>=2.21.0->tensorboard<2.14,>=2.13->tensorflow) (2023.7.22)\n",
            "Requirement already satisfied: MarkupSafe>=2.1.1 in /usr/local/lib/python3.10/dist-packages (from werkzeug>=1.0.1->tensorboard<2.14,>=2.13->tensorflow) (2.1.3)\n",
            "Requirement already satisfied: pyasn1<0.6.0,>=0.4.6 in /usr/local/lib/python3.10/dist-packages (from pyasn1-modules>=0.2.1->google-auth<3,>=1.6.3->tensorboard<2.14,>=2.13->tensorflow) (0.5.0)\n",
            "Requirement already satisfied: oauthlib>=3.0.0 in /usr/local/lib/python3.10/dist-packages (from requests-oauthlib>=0.7.0->google-auth-oauthlib<1.1,>=0.5->tensorboard<2.14,>=2.13->tensorflow) (3.2.2)\n",
            "Installing collected packages: typing-extensions, tensorflow-estimator, tensorboard-data-server, protobuf, keras, google-auth-oauthlib, tensorboard, tensorflow\n",
            "  Attempting uninstall: typing-extensions\n",
            "    Found existing installation: typing_extensions 4.7.1\n",
            "    Uninstalling typing_extensions-4.7.1:\n",
            "      Successfully uninstalled typing_extensions-4.7.1\n",
            "  Attempting uninstall: tensorflow-estimator\n",
            "    Found existing installation: tensorflow-estimator 2.10.0\n",
            "    Uninstalling tensorflow-estimator-2.10.0:\n",
            "      Successfully uninstalled tensorflow-estimator-2.10.0\n",
            "  Attempting uninstall: tensorboard-data-server\n",
            "    Found existing installation: tensorboard-data-server 0.6.1\n",
            "    Uninstalling tensorboard-data-server-0.6.1:\n",
            "      Successfully uninstalled tensorboard-data-server-0.6.1\n",
            "  Attempting uninstall: protobuf\n",
            "    Found existing installation: protobuf 3.19.6\n",
            "    Uninstalling protobuf-3.19.6:\n",
            "      Successfully uninstalled protobuf-3.19.6\n",
            "  Attempting uninstall: keras\n",
            "    Found existing installation: keras 2.10.0\n",
            "    Uninstalling keras-2.10.0:\n",
            "      Successfully uninstalled keras-2.10.0\n",
            "  Attempting uninstall: google-auth-oauthlib\n",
            "    Found existing installation: google-auth-oauthlib 0.4.6\n",
            "    Uninstalling google-auth-oauthlib-0.4.6:\n",
            "      Successfully uninstalled google-auth-oauthlib-0.4.6\n",
            "  Attempting uninstall: tensorboard\n",
            "    Found existing installation: tensorboard 2.10.1\n",
            "    Uninstalling tensorboard-2.10.1:\n",
            "      Successfully uninstalled tensorboard-2.10.1\n",
            "  Attempting uninstall: tensorflow\n",
            "    Found existing installation: tensorflow 2.10.1\n",
            "    Uninstalling tensorflow-2.10.1:\n",
            "      Successfully uninstalled tensorflow-2.10.1\n",
            "\u001b[31mERROR: pip's dependency resolver does not currently take into account all the packages that are installed. This behaviour is the source of the following dependency conflicts.\n",
            "pydantic 2.1.1 requires typing-extensions>=4.6.1, but you have typing-extensions 4.5.0 which is incompatible.\n",
            "pydantic-core 2.4.0 requires typing-extensions!=4.7.0,>=4.6.0, but you have typing-extensions 4.5.0 which is incompatible.\u001b[0m\u001b[31m\n",
            "\u001b[0mSuccessfully installed google-auth-oauthlib-1.0.0 keras-2.13.1 protobuf-4.24.0 tensorboard-2.13.0 tensorboard-data-server-0.7.1 tensorflow-2.13.0 tensorflow-estimator-2.13.0 typing-extensions-4.5.0\n"
          ]
        },
        {
          "output_type": "display_data",
          "data": {
            "application/vnd.colab-display-data+json": {
              "pip_warning": {
                "packages": [
                  "keras",
                  "tensorboard",
                  "tensorflow"
                ]
              }
            }
          },
          "metadata": {}
        },
        {
          "output_type": "stream",
          "name": "stdout",
          "text": [
            "Requirement already satisfied: keras in /usr/local/lib/python3.10/dist-packages (2.13.1)\n"
          ]
        }
      ]
    },
    {
      "cell_type": "code",
      "source": [
        "yexpect = np.concatenate([dynamiclabels,staticlabels], axis=0)\n",
        "\n",
        "yexpect.shape"
      ],
      "metadata": {
        "id": "MjANV4YShrCI",
        "colab": {
          "base_uri": "https://localhost:8080/"
        },
        "outputId": "1c0d44fe-8f1d-475b-80ea-22249b574a28"
      },
      "execution_count": 163,
      "outputs": [
        {
          "output_type": "execute_result",
          "data": {
            "text/plain": [
              "(2947,)"
            ]
          },
          "metadata": {},
          "execution_count": 163
        }
      ]
    },
    {
      "cell_type": "code",
      "source": [
        "merge_arr = np.concatenate([dynamicxtest, staticxtest], axis=0)\n",
        "merge_arr.shape"
      ],
      "metadata": {
        "id": "iYZ3QXBfhOXo",
        "colab": {
          "base_uri": "https://localhost:8080/"
        },
        "outputId": "eae0d9a1-2190-4a34-c837-4d369d78f5e1"
      },
      "execution_count": 164,
      "outputs": [
        {
          "output_type": "execute_result",
          "data": {
            "text/plain": [
              "(2947, 128, 6)"
            ]
          },
          "metadata": {},
          "execution_count": 164
        }
      ]
    },
    {
      "cell_type": "code",
      "source": [
        "pre=linear_classifier.predict(merge_arr)\n",
        "ypred=np.argmax(pre,axis=1)"
      ],
      "metadata": {
        "colab": {
          "base_uri": "https://localhost:8080/"
        },
        "id": "USpJHXFHcX6f",
        "outputId": "4566a6db-8e4a-4858-f58d-e2f7a3f42fb7"
      },
      "execution_count": 165,
      "outputs": [
        {
          "output_type": "stream",
          "name": "stderr",
          "text": [
            "WARNING:tensorflow:AutoGraph could not transform <function Model.make_predict_function.<locals>.predict_function at 0x7c69dfbbfbe0> and will run it as-is.\n",
            "Cause: Unable to locate the source code of <function Model.make_predict_function.<locals>.predict_function at 0x7c69dfbbfbe0>. Note that functions defined in certain environments, like the interactive Python shell, do not expose their source code. If that is the case, you should define them in a .py source file. If you are certain the code is graph-compatible, wrap the call using @tf.autograph.experimental.do_not_convert. Original error: could not get source code\n",
            "To silence this warning, decorate the function with @tf.autograph.experimental.do_not_convert\n"
          ]
        },
        {
          "output_type": "stream",
          "name": "stdout",
          "text": [
            "WARNING: AutoGraph could not transform <function Model.make_predict_function.<locals>.predict_function at 0x7c69dfbbfbe0> and will run it as-is.\n",
            "Cause: Unable to locate the source code of <function Model.make_predict_function.<locals>.predict_function at 0x7c69dfbbfbe0>. Note that functions defined in certain environments, like the interactive Python shell, do not expose their source code. If that is the case, you should define them in a .py source file. If you are certain the code is graph-compatible, wrap the call using @tf.autograph.experimental.do_not_convert. Original error: could not get source code\n",
            "To silence this warning, decorate the function with @tf.autograph.experimental.do_not_convert\n",
            "93/93 [==============================] - 3s 12ms/step\n"
          ]
        }
      ]
    },
    {
      "cell_type": "code",
      "source": [
        "ypred"
      ],
      "metadata": {
        "colab": {
          "base_uri": "https://localhost:8080/"
        },
        "id": "evXbTfHYdptO",
        "outputId": "70d737b8-17ef-47d5-a041-09d24dce3602"
      },
      "execution_count": 166,
      "outputs": [
        {
          "output_type": "execute_result",
          "data": {
            "text/plain": [
              "array([0, 0, 0, ..., 5, 5, 5])"
            ]
          },
          "metadata": {},
          "execution_count": 166
        }
      ]
    },
    {
      "cell_type": "code",
      "source": [
        "scores=[]\n",
        "dynamiccount=0\n",
        "staticcount=0\n",
        "\n",
        "dynamics = np.array([0,1,2])\n",
        "statics = np.array([3,4,5])\n",
        "\n",
        "for i in range(len(merge_arr)):#len(xtest)\n",
        "    row = merge_arr[i].reshape(1,128,6)\n",
        "    if(ypred[i] in [0,1,2]):\n",
        "        predict_x=dynamic_classifier.predict(row)\n",
        "\n",
        "        pred=dynamics[np.argmax(predict_x,axis=1)]\n",
        "        scores.append(pred[0])\n",
        "\n",
        "    elif(ypred[i] in [3,4,5]):\n",
        "        predict_x=static_classifier.predict(row)\n",
        "\n",
        "        pred=statics[np.argmax(predict_x,axis=1)]\n",
        "        scores.append(pred[0])\n",
        "\n",
        "\n",
        "    print(i)\n"
      ],
      "metadata": {
        "colab": {
          "base_uri": "https://localhost:8080/"
        },
        "id": "872-p9T0bn0g",
        "outputId": "dd042967-74d1-4363-d973-0d5574601b7c"
      },
      "execution_count": 167,
      "outputs": [
        {
          "output_type": "stream",
          "name": "stderr",
          "text": [
            "WARNING:tensorflow:AutoGraph could not transform <function Model.make_predict_function.<locals>.predict_function at 0x7c69e4875e10> and will run it as-is.\n",
            "Cause: Unable to locate the source code of <function Model.make_predict_function.<locals>.predict_function at 0x7c69e4875e10>. Note that functions defined in certain environments, like the interactive Python shell, do not expose their source code. If that is the case, you should define them in a .py source file. If you are certain the code is graph-compatible, wrap the call using @tf.autograph.experimental.do_not_convert. Original error: could not get source code\n",
            "To silence this warning, decorate the function with @tf.autograph.experimental.do_not_convert\n"
          ]
        },
        {
          "output_type": "stream",
          "name": "stdout",
          "text": [
            "WARNING: AutoGraph could not transform <function Model.make_predict_function.<locals>.predict_function at 0x7c69e4875e10> and will run it as-is.\n",
            "Cause: Unable to locate the source code of <function Model.make_predict_function.<locals>.predict_function at 0x7c69e4875e10>. Note that functions defined in certain environments, like the interactive Python shell, do not expose their source code. If that is the case, you should define them in a .py source file. If you are certain the code is graph-compatible, wrap the call using @tf.autograph.experimental.do_not_convert. Original error: could not get source code\n",
            "To silence this warning, decorate the function with @tf.autograph.experimental.do_not_convert\n",
            "1/1 [==============================] - 1s 1s/step\n",
            "0\n",
            "1/1 [==============================] - 0s 42ms/step\n",
            "1\n",
            "1/1 [==============================] - 0s 32ms/step\n",
            "2\n",
            "1/1 [==============================] - 0s 33ms/step\n",
            "3\n",
            "1/1 [==============================] - 0s 30ms/step\n",
            "4\n",
            "1/1 [==============================] - 0s 31ms/step\n",
            "5\n",
            "1/1 [==============================] - 0s 33ms/step\n",
            "6\n",
            "1/1 [==============================] - 0s 30ms/step\n",
            "7\n",
            "1/1 [==============================] - 0s 31ms/step\n",
            "8\n",
            "1/1 [==============================] - 0s 31ms/step\n",
            "9\n",
            "1/1 [==============================] - 0s 31ms/step\n",
            "10\n",
            "1/1 [==============================] - 0s 31ms/step\n",
            "11\n",
            "1/1 [==============================] - 0s 29ms/step\n",
            "12\n",
            "1/1 [==============================] - 0s 30ms/step\n",
            "13\n",
            "1/1 [==============================] - 0s 33ms/step\n",
            "14\n",
            "1/1 [==============================] - 0s 31ms/step\n",
            "15\n",
            "1/1 [==============================] - 0s 33ms/step\n",
            "16\n",
            "1/1 [==============================] - 0s 31ms/step\n",
            "17\n",
            "1/1 [==============================] - 0s 31ms/step\n",
            "18\n",
            "1/1 [==============================] - 0s 36ms/step\n",
            "19\n",
            "1/1 [==============================] - 0s 32ms/step\n",
            "20\n",
            "1/1 [==============================] - 0s 31ms/step\n",
            "21\n",
            "1/1 [==============================] - 0s 31ms/step\n",
            "22\n",
            "1/1 [==============================] - 0s 32ms/step\n",
            "23\n",
            "1/1 [==============================] - 0s 32ms/step\n",
            "24\n",
            "1/1 [==============================] - 0s 30ms/step\n",
            "25\n",
            "1/1 [==============================] - 0s 35ms/step\n",
            "26\n",
            "1/1 [==============================] - 0s 39ms/step\n",
            "27\n",
            "1/1 [==============================] - 0s 30ms/step\n",
            "28\n",
            "1/1 [==============================] - 0s 37ms/step\n",
            "29\n",
            "1/1 [==============================] - 0s 31ms/step\n",
            "30\n",
            "1/1 [==============================] - 0s 33ms/step\n",
            "31\n",
            "1/1 [==============================] - 0s 32ms/step\n",
            "32\n",
            "1/1 [==============================] - 0s 41ms/step\n",
            "33\n",
            "1/1 [==============================] - 0s 33ms/step\n",
            "34\n",
            "1/1 [==============================] - 0s 31ms/step\n",
            "35\n",
            "1/1 [==============================] - 0s 32ms/step\n",
            "36\n",
            "1/1 [==============================] - 0s 30ms/step\n",
            "37\n",
            "1/1 [==============================] - 0s 33ms/step\n",
            "38\n",
            "1/1 [==============================] - 0s 31ms/step\n",
            "39\n",
            "1/1 [==============================] - 0s 31ms/step\n",
            "40\n",
            "1/1 [==============================] - 0s 31ms/step\n",
            "41\n",
            "1/1 [==============================] - 0s 31ms/step\n",
            "42\n",
            "1/1 [==============================] - 0s 33ms/step\n",
            "43\n",
            "1/1 [==============================] - 0s 29ms/step\n",
            "44\n",
            "1/1 [==============================] - 0s 29ms/step\n",
            "45\n",
            "1/1 [==============================] - 0s 37ms/step\n",
            "46\n",
            "1/1 [==============================] - 0s 32ms/step\n",
            "47\n",
            "1/1 [==============================] - 0s 31ms/step\n",
            "48\n",
            "1/1 [==============================] - 0s 30ms/step\n",
            "49\n",
            "1/1 [==============================] - 0s 30ms/step\n",
            "50\n",
            "1/1 [==============================] - 0s 30ms/step\n",
            "51\n",
            "1/1 [==============================] - 0s 33ms/step\n",
            "52\n",
            "1/1 [==============================] - 0s 30ms/step\n",
            "53\n",
            "1/1 [==============================] - 0s 32ms/step\n",
            "54\n",
            "1/1 [==============================] - 0s 30ms/step\n",
            "55\n",
            "1/1 [==============================] - 0s 40ms/step\n",
            "56\n",
            "1/1 [==============================] - 0s 56ms/step\n",
            "57\n",
            "1/1 [==============================] - 0s 46ms/step\n",
            "58\n",
            "1/1 [==============================] - 0s 45ms/step\n",
            "59\n",
            "1/1 [==============================] - 0s 41ms/step\n",
            "60\n",
            "1/1 [==============================] - 0s 42ms/step\n",
            "61\n",
            "1/1 [==============================] - 0s 41ms/step\n",
            "62\n",
            "1/1 [==============================] - 0s 46ms/step\n",
            "63\n",
            "1/1 [==============================] - 0s 41ms/step\n",
            "64\n",
            "1/1 [==============================] - 0s 47ms/step\n",
            "65\n",
            "1/1 [==============================] - 0s 48ms/step\n",
            "66\n",
            "1/1 [==============================] - 0s 42ms/step\n",
            "67\n",
            "1/1 [==============================] - 0s 51ms/step\n",
            "68\n",
            "1/1 [==============================] - 0s 44ms/step\n",
            "69\n",
            "1/1 [==============================] - 0s 47ms/step\n",
            "70\n",
            "1/1 [==============================] - 0s 50ms/step\n",
            "71\n",
            "1/1 [==============================] - 0s 54ms/step\n",
            "72\n",
            "1/1 [==============================] - 0s 44ms/step\n",
            "73\n",
            "1/1 [==============================] - 0s 48ms/step\n",
            "74\n",
            "1/1 [==============================] - 0s 50ms/step\n",
            "75\n",
            "1/1 [==============================] - 0s 48ms/step\n",
            "76\n",
            "1/1 [==============================] - 0s 46ms/step\n",
            "77\n",
            "1/1 [==============================] - 0s 43ms/step\n",
            "78\n",
            "1/1 [==============================] - 0s 44ms/step\n",
            "79\n",
            "1/1 [==============================] - 0s 43ms/step\n",
            "80\n",
            "1/1 [==============================] - 0s 47ms/step\n",
            "81\n",
            "1/1 [==============================] - 0s 46ms/step\n",
            "82\n",
            "1/1 [==============================] - 0s 46ms/step\n",
            "83\n",
            "1/1 [==============================] - 0s 48ms/step\n",
            "84\n",
            "1/1 [==============================] - 0s 49ms/step\n",
            "85\n",
            "1/1 [==============================] - 0s 45ms/step\n",
            "86\n",
            "1/1 [==============================] - 0s 49ms/step\n",
            "87\n",
            "1/1 [==============================] - 0s 45ms/step\n",
            "88\n",
            "1/1 [==============================] - 0s 56ms/step\n",
            "89\n",
            "1/1 [==============================] - 0s 53ms/step\n",
            "90\n"
          ]
        },
        {
          "output_type": "stream",
          "name": "stderr",
          "text": [
            "WARNING:tensorflow:AutoGraph could not transform <function Model.make_predict_function.<locals>.predict_function at 0x7c69e0d2be20> and will run it as-is.\n",
            "Cause: Unable to locate the source code of <function Model.make_predict_function.<locals>.predict_function at 0x7c69e0d2be20>. Note that functions defined in certain environments, like the interactive Python shell, do not expose their source code. If that is the case, you should define them in a .py source file. If you are certain the code is graph-compatible, wrap the call using @tf.autograph.experimental.do_not_convert. Original error: could not get source code\n",
            "To silence this warning, decorate the function with @tf.autograph.experimental.do_not_convert\n"
          ]
        },
        {
          "output_type": "stream",
          "name": "stdout",
          "text": [
            "\u001b[1;30;43mStreaming output truncated to the last 5000 lines.\u001b[0m\n",
            "1/1 [==============================] - 0s 50ms/step\n",
            "447\n",
            "1/1 [==============================] - 0s 47ms/step\n",
            "448\n",
            "1/1 [==============================] - 0s 47ms/step\n",
            "449\n",
            "1/1 [==============================] - 0s 52ms/step\n",
            "450\n",
            "1/1 [==============================] - 0s 50ms/step\n",
            "451\n",
            "1/1 [==============================] - 0s 49ms/step\n",
            "452\n",
            "1/1 [==============================] - 0s 49ms/step\n",
            "453\n",
            "1/1 [==============================] - 0s 46ms/step\n",
            "454\n",
            "1/1 [==============================] - 0s 45ms/step\n",
            "455\n",
            "1/1 [==============================] - 0s 51ms/step\n",
            "456\n",
            "1/1 [==============================] - 0s 51ms/step\n",
            "457\n",
            "1/1 [==============================] - 0s 40ms/step\n",
            "458\n",
            "1/1 [==============================] - 0s 29ms/step\n",
            "459\n",
            "1/1 [==============================] - 0s 34ms/step\n",
            "460\n",
            "1/1 [==============================] - 0s 32ms/step\n",
            "461\n",
            "1/1 [==============================] - 0s 31ms/step\n",
            "462\n",
            "1/1 [==============================] - 0s 30ms/step\n",
            "463\n",
            "1/1 [==============================] - 0s 32ms/step\n",
            "464\n",
            "1/1 [==============================] - 0s 31ms/step\n",
            "465\n",
            "1/1 [==============================] - 0s 29ms/step\n",
            "466\n",
            "1/1 [==============================] - 0s 29ms/step\n",
            "467\n",
            "1/1 [==============================] - 0s 31ms/step\n",
            "468\n",
            "1/1 [==============================] - 0s 33ms/step\n",
            "469\n",
            "1/1 [==============================] - 0s 32ms/step\n",
            "470\n",
            "1/1 [==============================] - 0s 28ms/step\n",
            "471\n",
            "1/1 [==============================] - 0s 32ms/step\n",
            "472\n",
            "1/1 [==============================] - 0s 29ms/step\n",
            "473\n",
            "1/1 [==============================] - 0s 31ms/step\n",
            "474\n",
            "1/1 [==============================] - 0s 31ms/step\n",
            "475\n",
            "1/1 [==============================] - 0s 30ms/step\n",
            "476\n",
            "1/1 [==============================] - 0s 29ms/step\n",
            "477\n",
            "1/1 [==============================] - 0s 27ms/step\n",
            "478\n",
            "1/1 [==============================] - 0s 29ms/step\n",
            "479\n",
            "1/1 [==============================] - 0s 30ms/step\n",
            "480\n",
            "1/1 [==============================] - 0s 29ms/step\n",
            "481\n",
            "1/1 [==============================] - 0s 32ms/step\n",
            "482\n",
            "1/1 [==============================] - 0s 28ms/step\n",
            "483\n",
            "1/1 [==============================] - 0s 29ms/step\n",
            "484\n",
            "1/1 [==============================] - 0s 30ms/step\n",
            "485\n",
            "1/1 [==============================] - 0s 32ms/step\n",
            "486\n",
            "1/1 [==============================] - 0s 33ms/step\n",
            "487\n",
            "1/1 [==============================] - 0s 31ms/step\n",
            "488\n",
            "1/1 [==============================] - 0s 28ms/step\n",
            "489\n",
            "1/1 [==============================] - 0s 33ms/step\n",
            "490\n",
            "1/1 [==============================] - 0s 32ms/step\n",
            "491\n",
            "1/1 [==============================] - 0s 29ms/step\n",
            "492\n",
            "1/1 [==============================] - 0s 34ms/step\n",
            "493\n",
            "1/1 [==============================] - 0s 31ms/step\n",
            "494\n",
            "1/1 [==============================] - 0s 32ms/step\n",
            "495\n",
            "1/1 [==============================] - 0s 29ms/step\n",
            "496\n",
            "1/1 [==============================] - 0s 28ms/step\n",
            "497\n",
            "1/1 [==============================] - 0s 34ms/step\n",
            "498\n",
            "1/1 [==============================] - 0s 31ms/step\n",
            "499\n",
            "1/1 [==============================] - 0s 31ms/step\n",
            "500\n",
            "1/1 [==============================] - 0s 31ms/step\n",
            "501\n",
            "1/1 [==============================] - 0s 34ms/step\n",
            "502\n",
            "1/1 [==============================] - 0s 32ms/step\n",
            "503\n",
            "1/1 [==============================] - 0s 30ms/step\n",
            "504\n",
            "1/1 [==============================] - 0s 29ms/step\n",
            "505\n",
            "1/1 [==============================] - 0s 30ms/step\n",
            "506\n",
            "1/1 [==============================] - 0s 31ms/step\n",
            "507\n",
            "1/1 [==============================] - 0s 31ms/step\n",
            "508\n",
            "1/1 [==============================] - 0s 32ms/step\n",
            "509\n",
            "1/1 [==============================] - 0s 30ms/step\n",
            "510\n",
            "1/1 [==============================] - 0s 32ms/step\n",
            "511\n",
            "1/1 [==============================] - 0s 35ms/step\n",
            "512\n",
            "1/1 [==============================] - 0s 32ms/step\n",
            "513\n",
            "1/1 [==============================] - 0s 31ms/step\n",
            "514\n",
            "1/1 [==============================] - 0s 32ms/step\n",
            "515\n",
            "1/1 [==============================] - 0s 32ms/step\n",
            "516\n",
            "1/1 [==============================] - 0s 28ms/step\n",
            "517\n",
            "1/1 [==============================] - 0s 29ms/step\n",
            "518\n",
            "1/1 [==============================] - 0s 33ms/step\n",
            "519\n",
            "1/1 [==============================] - 0s 30ms/step\n",
            "520\n",
            "1/1 [==============================] - 0s 33ms/step\n",
            "521\n",
            "1/1 [==============================] - 0s 29ms/step\n",
            "522\n",
            "1/1 [==============================] - 0s 31ms/step\n",
            "523\n",
            "1/1 [==============================] - 0s 30ms/step\n",
            "524\n",
            "1/1 [==============================] - 0s 33ms/step\n",
            "525\n",
            "1/1 [==============================] - 0s 29ms/step\n",
            "526\n",
            "1/1 [==============================] - 0s 29ms/step\n",
            "527\n",
            "1/1 [==============================] - 0s 28ms/step\n",
            "528\n",
            "1/1 [==============================] - 0s 31ms/step\n",
            "529\n",
            "1/1 [==============================] - 0s 32ms/step\n",
            "530\n",
            "1/1 [==============================] - 0s 30ms/step\n",
            "531\n",
            "1/1 [==============================] - 0s 30ms/step\n",
            "532\n",
            "1/1 [==============================] - 0s 31ms/step\n",
            "533\n",
            "1/1 [==============================] - 0s 32ms/step\n",
            "534\n",
            "1/1 [==============================] - 0s 29ms/step\n",
            "535\n",
            "1/1 [==============================] - 0s 33ms/step\n",
            "536\n",
            "1/1 [==============================] - 0s 30ms/step\n",
            "537\n",
            "1/1 [==============================] - 0s 35ms/step\n",
            "538\n",
            "1/1 [==============================] - 0s 28ms/step\n",
            "539\n",
            "1/1 [==============================] - 0s 30ms/step\n",
            "540\n",
            "1/1 [==============================] - 0s 33ms/step\n",
            "541\n",
            "1/1 [==============================] - 0s 29ms/step\n",
            "542\n",
            "1/1 [==============================] - 0s 30ms/step\n",
            "543\n",
            "1/1 [==============================] - 0s 29ms/step\n",
            "544\n",
            "1/1 [==============================] - 0s 34ms/step\n",
            "545\n",
            "1/1 [==============================] - 0s 31ms/step\n",
            "546\n",
            "1/1 [==============================] - 0s 32ms/step\n",
            "547\n",
            "1/1 [==============================] - 0s 35ms/step\n",
            "548\n",
            "1/1 [==============================] - 0s 35ms/step\n",
            "549\n",
            "1/1 [==============================] - 0s 44ms/step\n",
            "550\n",
            "1/1 [==============================] - 0s 37ms/step\n",
            "551\n",
            "1/1 [==============================] - 0s 31ms/step\n",
            "552\n",
            "1/1 [==============================] - 0s 28ms/step\n",
            "553\n",
            "1/1 [==============================] - 0s 29ms/step\n",
            "554\n",
            "1/1 [==============================] - 0s 29ms/step\n",
            "555\n",
            "1/1 [==============================] - 0s 33ms/step\n",
            "556\n",
            "1/1 [==============================] - 0s 33ms/step\n",
            "557\n",
            "1/1 [==============================] - 0s 30ms/step\n",
            "558\n",
            "1/1 [==============================] - 0s 28ms/step\n",
            "559\n",
            "1/1 [==============================] - 0s 32ms/step\n",
            "560\n",
            "1/1 [==============================] - 0s 29ms/step\n",
            "561\n",
            "1/1 [==============================] - 0s 30ms/step\n",
            "562\n",
            "1/1 [==============================] - 0s 40ms/step\n",
            "563\n",
            "1/1 [==============================] - 0s 36ms/step\n",
            "564\n",
            "1/1 [==============================] - 0s 32ms/step\n",
            "565\n",
            "1/1 [==============================] - 0s 30ms/step\n",
            "566\n",
            "1/1 [==============================] - 0s 32ms/step\n",
            "567\n",
            "1/1 [==============================] - 0s 30ms/step\n",
            "568\n",
            "1/1 [==============================] - 0s 28ms/step\n",
            "569\n",
            "1/1 [==============================] - 0s 29ms/step\n",
            "570\n",
            "1/1 [==============================] - 0s 28ms/step\n",
            "571\n",
            "1/1 [==============================] - 0s 29ms/step\n",
            "572\n",
            "1/1 [==============================] - 0s 32ms/step\n",
            "573\n",
            "1/1 [==============================] - 0s 31ms/step\n",
            "574\n",
            "1/1 [==============================] - 0s 30ms/step\n",
            "575\n",
            "1/1 [==============================] - 0s 47ms/step\n",
            "576\n",
            "1/1 [==============================] - 0s 32ms/step\n",
            "577\n",
            "1/1 [==============================] - 0s 30ms/step\n",
            "578\n",
            "1/1 [==============================] - 0s 29ms/step\n",
            "579\n",
            "1/1 [==============================] - 0s 31ms/step\n",
            "580\n",
            "1/1 [==============================] - 0s 31ms/step\n",
            "581\n",
            "1/1 [==============================] - 0s 32ms/step\n",
            "582\n",
            "1/1 [==============================] - 0s 35ms/step\n",
            "583\n",
            "1/1 [==============================] - 0s 31ms/step\n",
            "584\n",
            "1/1 [==============================] - 0s 57ms/step\n",
            "585\n",
            "1/1 [==============================] - 0s 51ms/step\n",
            "586\n",
            "1/1 [==============================] - 0s 43ms/step\n",
            "587\n",
            "1/1 [==============================] - 0s 44ms/step\n",
            "588\n",
            "1/1 [==============================] - 0s 51ms/step\n",
            "589\n",
            "1/1 [==============================] - 0s 43ms/step\n",
            "590\n",
            "1/1 [==============================] - 0s 45ms/step\n",
            "591\n",
            "1/1 [==============================] - 0s 47ms/step\n",
            "592\n",
            "1/1 [==============================] - 0s 45ms/step\n",
            "593\n",
            "1/1 [==============================] - 0s 42ms/step\n",
            "594\n",
            "1/1 [==============================] - 0s 48ms/step\n",
            "595\n",
            "1/1 [==============================] - 0s 45ms/step\n",
            "596\n",
            "1/1 [==============================] - 0s 45ms/step\n",
            "597\n",
            "1/1 [==============================] - 0s 43ms/step\n",
            "598\n",
            "1/1 [==============================] - 0s 43ms/step\n",
            "599\n",
            "1/1 [==============================] - 0s 42ms/step\n",
            "600\n",
            "1/1 [==============================] - 0s 49ms/step\n",
            "601\n",
            "1/1 [==============================] - 0s 47ms/step\n",
            "602\n",
            "1/1 [==============================] - 0s 44ms/step\n",
            "603\n",
            "1/1 [==============================] - 0s 56ms/step\n",
            "604\n",
            "1/1 [==============================] - 0s 45ms/step\n",
            "605\n",
            "1/1 [==============================] - 0s 47ms/step\n",
            "606\n",
            "1/1 [==============================] - 0s 47ms/step\n",
            "607\n",
            "1/1 [==============================] - 0s 46ms/step\n",
            "608\n",
            "1/1 [==============================] - 0s 47ms/step\n",
            "609\n",
            "1/1 [==============================] - 0s 56ms/step\n",
            "610\n",
            "1/1 [==============================] - 0s 57ms/step\n",
            "611\n",
            "1/1 [==============================] - 0s 58ms/step\n",
            "612\n",
            "1/1 [==============================] - 0s 46ms/step\n",
            "613\n",
            "1/1 [==============================] - 0s 51ms/step\n",
            "614\n",
            "1/1 [==============================] - 0s 55ms/step\n",
            "615\n",
            "1/1 [==============================] - 0s 44ms/step\n",
            "616\n",
            "1/1 [==============================] - 0s 46ms/step\n",
            "617\n",
            "1/1 [==============================] - 0s 45ms/step\n",
            "618\n",
            "1/1 [==============================] - 0s 55ms/step\n",
            "619\n",
            "1/1 [==============================] - 0s 44ms/step\n",
            "620\n",
            "1/1 [==============================] - 0s 58ms/step\n",
            "621\n",
            "1/1 [==============================] - 0s 49ms/step\n",
            "622\n",
            "1/1 [==============================] - 0s 52ms/step\n",
            "623\n",
            "1/1 [==============================] - 0s 49ms/step\n",
            "624\n",
            "1/1 [==============================] - 0s 49ms/step\n",
            "625\n",
            "1/1 [==============================] - 0s 51ms/step\n",
            "626\n",
            "1/1 [==============================] - 0s 47ms/step\n",
            "627\n",
            "1/1 [==============================] - 0s 45ms/step\n",
            "628\n",
            "1/1 [==============================] - 0s 57ms/step\n",
            "629\n",
            "1/1 [==============================] - 0s 46ms/step\n",
            "630\n",
            "1/1 [==============================] - 0s 48ms/step\n",
            "631\n",
            "1/1 [==============================] - 0s 47ms/step\n",
            "632\n",
            "1/1 [==============================] - 0s 48ms/step\n",
            "633\n",
            "1/1 [==============================] - 0s 54ms/step\n",
            "634\n",
            "1/1 [==============================] - 0s 46ms/step\n",
            "635\n",
            "1/1 [==============================] - 0s 59ms/step\n",
            "636\n",
            "1/1 [==============================] - 0s 53ms/step\n",
            "637\n",
            "1/1 [==============================] - 0s 30ms/step\n",
            "638\n",
            "1/1 [==============================] - 0s 37ms/step\n",
            "639\n",
            "1/1 [==============================] - 0s 29ms/step\n",
            "640\n",
            "1/1 [==============================] - 0s 30ms/step\n",
            "641\n",
            "1/1 [==============================] - 0s 31ms/step\n",
            "642\n",
            "1/1 [==============================] - 0s 28ms/step\n",
            "643\n",
            "1/1 [==============================] - 0s 30ms/step\n",
            "644\n",
            "1/1 [==============================] - 0s 31ms/step\n",
            "645\n",
            "1/1 [==============================] - 0s 31ms/step\n",
            "646\n",
            "1/1 [==============================] - 0s 33ms/step\n",
            "647\n",
            "1/1 [==============================] - 0s 31ms/step\n",
            "648\n",
            "1/1 [==============================] - 0s 28ms/step\n",
            "649\n",
            "1/1 [==============================] - 0s 33ms/step\n",
            "650\n",
            "1/1 [==============================] - 0s 33ms/step\n",
            "651\n",
            "1/1 [==============================] - 0s 32ms/step\n",
            "652\n",
            "1/1 [==============================] - 0s 29ms/step\n",
            "653\n",
            "1/1 [==============================] - 0s 30ms/step\n",
            "654\n",
            "1/1 [==============================] - 0s 28ms/step\n",
            "655\n",
            "1/1 [==============================] - 0s 30ms/step\n",
            "656\n",
            "1/1 [==============================] - 0s 30ms/step\n",
            "657\n",
            "1/1 [==============================] - 0s 32ms/step\n",
            "658\n",
            "1/1 [==============================] - 0s 31ms/step\n",
            "659\n",
            "1/1 [==============================] - 0s 30ms/step\n",
            "660\n",
            "1/1 [==============================] - 0s 29ms/step\n",
            "661\n",
            "1/1 [==============================] - 0s 33ms/step\n",
            "662\n",
            "1/1 [==============================] - 0s 37ms/step\n",
            "663\n",
            "1/1 [==============================] - 0s 28ms/step\n",
            "664\n",
            "1/1 [==============================] - 0s 33ms/step\n",
            "665\n",
            "1/1 [==============================] - 0s 32ms/step\n",
            "666\n",
            "1/1 [==============================] - 0s 32ms/step\n",
            "667\n",
            "1/1 [==============================] - 0s 28ms/step\n",
            "668\n",
            "1/1 [==============================] - 0s 31ms/step\n",
            "669\n",
            "1/1 [==============================] - 0s 32ms/step\n",
            "670\n",
            "1/1 [==============================] - 0s 28ms/step\n",
            "671\n",
            "1/1 [==============================] - 0s 30ms/step\n",
            "672\n",
            "1/1 [==============================] - 0s 34ms/step\n",
            "673\n",
            "1/1 [==============================] - 0s 37ms/step\n",
            "674\n",
            "1/1 [==============================] - 0s 43ms/step\n",
            "675\n",
            "1/1 [==============================] - 0s 32ms/step\n",
            "676\n",
            "1/1 [==============================] - 0s 32ms/step\n",
            "677\n",
            "1/1 [==============================] - 0s 28ms/step\n",
            "678\n",
            "1/1 [==============================] - 0s 29ms/step\n",
            "679\n",
            "1/1 [==============================] - 0s 31ms/step\n",
            "680\n",
            "1/1 [==============================] - 0s 34ms/step\n",
            "681\n",
            "1/1 [==============================] - 0s 29ms/step\n",
            "682\n",
            "1/1 [==============================] - 0s 32ms/step\n",
            "683\n",
            "1/1 [==============================] - 0s 30ms/step\n",
            "684\n",
            "1/1 [==============================] - 0s 33ms/step\n",
            "685\n",
            "1/1 [==============================] - 0s 30ms/step\n",
            "686\n",
            "1/1 [==============================] - 0s 28ms/step\n",
            "687\n",
            "1/1 [==============================] - 0s 28ms/step\n",
            "688\n",
            "1/1 [==============================] - 0s 28ms/step\n",
            "689\n",
            "1/1 [==============================] - 0s 30ms/step\n",
            "690\n",
            "1/1 [==============================] - 0s 30ms/step\n",
            "691\n",
            "1/1 [==============================] - 0s 33ms/step\n",
            "692\n",
            "1/1 [==============================] - 0s 32ms/step\n",
            "693\n",
            "1/1 [==============================] - 0s 31ms/step\n",
            "694\n",
            "1/1 [==============================] - 0s 32ms/step\n",
            "695\n",
            "1/1 [==============================] - 0s 33ms/step\n",
            "696\n",
            "1/1 [==============================] - 0s 33ms/step\n",
            "697\n",
            "1/1 [==============================] - 0s 30ms/step\n",
            "698\n",
            "1/1 [==============================] - 0s 34ms/step\n",
            "699\n",
            "1/1 [==============================] - 0s 29ms/step\n",
            "700\n",
            "1/1 [==============================] - 0s 27ms/step\n",
            "701\n",
            "1/1 [==============================] - 0s 32ms/step\n",
            "702\n",
            "1/1 [==============================] - 0s 30ms/step\n",
            "703\n",
            "1/1 [==============================] - 0s 30ms/step\n",
            "704\n",
            "1/1 [==============================] - 0s 36ms/step\n",
            "705\n",
            "1/1 [==============================] - 0s 30ms/step\n",
            "706\n",
            "1/1 [==============================] - 0s 30ms/step\n",
            "707\n",
            "1/1 [==============================] - 0s 32ms/step\n",
            "708\n",
            "1/1 [==============================] - 0s 29ms/step\n",
            "709\n",
            "1/1 [==============================] - 0s 33ms/step\n",
            "710\n",
            "1/1 [==============================] - 0s 29ms/step\n",
            "711\n",
            "1/1 [==============================] - 0s 36ms/step\n",
            "712\n",
            "1/1 [==============================] - 0s 29ms/step\n",
            "713\n",
            "1/1 [==============================] - 0s 30ms/step\n",
            "714\n",
            "1/1 [==============================] - 0s 27ms/step\n",
            "715\n",
            "1/1 [==============================] - 0s 30ms/step\n",
            "716\n",
            "1/1 [==============================] - 0s 29ms/step\n",
            "717\n",
            "1/1 [==============================] - 0s 30ms/step\n",
            "718\n",
            "1/1 [==============================] - 0s 31ms/step\n",
            "719\n",
            "1/1 [==============================] - 0s 29ms/step\n",
            "720\n",
            "1/1 [==============================] - 0s 30ms/step\n",
            "721\n",
            "1/1 [==============================] - 0s 30ms/step\n",
            "722\n",
            "1/1 [==============================] - 0s 31ms/step\n",
            "723\n",
            "1/1 [==============================] - 0s 40ms/step\n",
            "724\n",
            "1/1 [==============================] - 0s 28ms/step\n",
            "725\n",
            "1/1 [==============================] - 0s 30ms/step\n",
            "726\n",
            "1/1 [==============================] - 0s 34ms/step\n",
            "727\n",
            "1/1 [==============================] - 0s 32ms/step\n",
            "728\n",
            "1/1 [==============================] - 0s 31ms/step\n",
            "729\n",
            "1/1 [==============================] - 0s 28ms/step\n",
            "730\n",
            "1/1 [==============================] - 0s 32ms/step\n",
            "731\n",
            "1/1 [==============================] - 0s 30ms/step\n",
            "732\n",
            "1/1 [==============================] - 0s 31ms/step\n",
            "733\n",
            "1/1 [==============================] - 0s 31ms/step\n",
            "734\n",
            "1/1 [==============================] - 0s 28ms/step\n",
            "735\n",
            "1/1 [==============================] - 0s 33ms/step\n",
            "736\n",
            "1/1 [==============================] - 0s 33ms/step\n",
            "737\n",
            "1/1 [==============================] - 0s 50ms/step\n",
            "738\n",
            "1/1 [==============================] - 0s 52ms/step\n",
            "739\n",
            "1/1 [==============================] - 0s 55ms/step\n",
            "740\n",
            "1/1 [==============================] - 0s 53ms/step\n",
            "741\n",
            "1/1 [==============================] - 0s 57ms/step\n",
            "742\n",
            "1/1 [==============================] - 0s 57ms/step\n",
            "743\n",
            "1/1 [==============================] - 0s 55ms/step\n",
            "744\n",
            "1/1 [==============================] - 0s 56ms/step\n",
            "745\n",
            "1/1 [==============================] - 0s 54ms/step\n",
            "746\n",
            "1/1 [==============================] - 0s 55ms/step\n",
            "747\n",
            "1/1 [==============================] - 0s 61ms/step\n",
            "748\n",
            "1/1 [==============================] - 0s 60ms/step\n",
            "749\n",
            "1/1 [==============================] - 0s 59ms/step\n",
            "750\n",
            "1/1 [==============================] - 0s 53ms/step\n",
            "751\n",
            "1/1 [==============================] - 0s 59ms/step\n",
            "752\n",
            "1/1 [==============================] - 0s 56ms/step\n",
            "753\n",
            "1/1 [==============================] - 0s 55ms/step\n",
            "754\n",
            "1/1 [==============================] - 0s 58ms/step\n",
            "755\n",
            "1/1 [==============================] - 0s 68ms/step\n",
            "756\n",
            "1/1 [==============================] - 0s 59ms/step\n",
            "757\n",
            "1/1 [==============================] - 0s 56ms/step\n",
            "758\n",
            "1/1 [==============================] - 0s 53ms/step\n",
            "759\n",
            "1/1 [==============================] - 0s 57ms/step\n",
            "760\n",
            "1/1 [==============================] - 0s 55ms/step\n",
            "761\n",
            "1/1 [==============================] - 0s 55ms/step\n",
            "762\n",
            "1/1 [==============================] - 0s 39ms/step\n",
            "763\n",
            "1/1 [==============================] - 0s 39ms/step\n",
            "764\n",
            "1/1 [==============================] - 0s 40ms/step\n",
            "765\n",
            "1/1 [==============================] - 0s 35ms/step\n",
            "766\n",
            "1/1 [==============================] - 0s 35ms/step\n",
            "767\n",
            "1/1 [==============================] - 0s 39ms/step\n",
            "768\n",
            "1/1 [==============================] - 0s 34ms/step\n",
            "769\n",
            "1/1 [==============================] - 0s 35ms/step\n",
            "770\n",
            "1/1 [==============================] - 0s 35ms/step\n",
            "771\n",
            "1/1 [==============================] - 0s 37ms/step\n",
            "772\n",
            "1/1 [==============================] - 0s 35ms/step\n",
            "773\n",
            "1/1 [==============================] - 0s 35ms/step\n",
            "774\n",
            "1/1 [==============================] - 0s 34ms/step\n",
            "775\n",
            "1/1 [==============================] - 0s 36ms/step\n",
            "776\n",
            "1/1 [==============================] - 0s 35ms/step\n",
            "777\n",
            "1/1 [==============================] - 0s 36ms/step\n",
            "778\n",
            "1/1 [==============================] - 0s 33ms/step\n",
            "779\n",
            "1/1 [==============================] - 0s 34ms/step\n",
            "780\n",
            "1/1 [==============================] - 0s 36ms/step\n",
            "781\n",
            "1/1 [==============================] - 0s 38ms/step\n",
            "782\n",
            "1/1 [==============================] - 0s 36ms/step\n",
            "783\n",
            "1/1 [==============================] - 0s 36ms/step\n",
            "784\n",
            "1/1 [==============================] - 0s 39ms/step\n",
            "785\n",
            "1/1 [==============================] - 0s 35ms/step\n",
            "786\n",
            "1/1 [==============================] - 0s 35ms/step\n",
            "787\n",
            "1/1 [==============================] - 0s 41ms/step\n",
            "788\n",
            "1/1 [==============================] - 0s 34ms/step\n",
            "789\n",
            "1/1 [==============================] - 0s 33ms/step\n",
            "790\n",
            "1/1 [==============================] - 0s 35ms/step\n",
            "791\n",
            "1/1 [==============================] - 0s 37ms/step\n",
            "792\n",
            "1/1 [==============================] - 0s 35ms/step\n",
            "793\n",
            "1/1 [==============================] - 0s 37ms/step\n",
            "794\n",
            "1/1 [==============================] - 0s 43ms/step\n",
            "795\n",
            "1/1 [==============================] - 0s 40ms/step\n",
            "796\n",
            "1/1 [==============================] - 0s 33ms/step\n",
            "797\n",
            "1/1 [==============================] - 0s 32ms/step\n",
            "798\n",
            "1/1 [==============================] - 0s 35ms/step\n",
            "799\n",
            "1/1 [==============================] - 0s 32ms/step\n",
            "800\n",
            "1/1 [==============================] - 0s 36ms/step\n",
            "801\n",
            "1/1 [==============================] - 0s 34ms/step\n",
            "802\n",
            "1/1 [==============================] - 0s 32ms/step\n",
            "803\n",
            "1/1 [==============================] - 0s 31ms/step\n",
            "804\n",
            "1/1 [==============================] - 0s 38ms/step\n",
            "805\n",
            "1/1 [==============================] - 0s 30ms/step\n",
            "806\n",
            "1/1 [==============================] - 0s 30ms/step\n",
            "807\n",
            "1/1 [==============================] - 0s 31ms/step\n",
            "808\n",
            "1/1 [==============================] - 0s 32ms/step\n",
            "809\n",
            "1/1 [==============================] - 0s 34ms/step\n",
            "810\n",
            "1/1 [==============================] - 0s 40ms/step\n",
            "811\n",
            "1/1 [==============================] - 0s 30ms/step\n",
            "812\n",
            "1/1 [==============================] - 0s 29ms/step\n",
            "813\n",
            "1/1 [==============================] - 0s 32ms/step\n",
            "814\n",
            "1/1 [==============================] - 0s 31ms/step\n",
            "815\n",
            "1/1 [==============================] - 0s 31ms/step\n",
            "816\n",
            "1/1 [==============================] - 0s 32ms/step\n",
            "817\n",
            "1/1 [==============================] - 0s 34ms/step\n",
            "818\n",
            "1/1 [==============================] - 0s 38ms/step\n",
            "819\n",
            "1/1 [==============================] - 0s 32ms/step\n",
            "820\n",
            "1/1 [==============================] - 0s 30ms/step\n",
            "821\n",
            "1/1 [==============================] - 0s 29ms/step\n",
            "822\n",
            "1/1 [==============================] - 0s 30ms/step\n",
            "823\n",
            "1/1 [==============================] - 0s 29ms/step\n",
            "824\n",
            "1/1 [==============================] - 0s 29ms/step\n",
            "825\n",
            "1/1 [==============================] - 0s 35ms/step\n",
            "826\n",
            "1/1 [==============================] - 0s 33ms/step\n",
            "827\n",
            "1/1 [==============================] - 0s 35ms/step\n",
            "828\n",
            "1/1 [==============================] - 0s 30ms/step\n",
            "829\n",
            "1/1 [==============================] - 0s 29ms/step\n",
            "830\n",
            "1/1 [==============================] - 0s 34ms/step\n",
            "831\n",
            "1/1 [==============================] - 0s 31ms/step\n",
            "832\n",
            "1/1 [==============================] - 0s 29ms/step\n",
            "833\n",
            "1/1 [==============================] - 0s 39ms/step\n",
            "834\n",
            "1/1 [==============================] - 0s 38ms/step\n",
            "835\n",
            "1/1 [==============================] - 0s 31ms/step\n",
            "836\n",
            "1/1 [==============================] - 0s 33ms/step\n",
            "837\n",
            "1/1 [==============================] - 0s 33ms/step\n",
            "838\n",
            "1/1 [==============================] - 0s 29ms/step\n",
            "839\n",
            "1/1 [==============================] - 0s 29ms/step\n",
            "840\n",
            "1/1 [==============================] - 0s 33ms/step\n",
            "841\n",
            "1/1 [==============================] - 0s 30ms/step\n",
            "842\n",
            "1/1 [==============================] - 0s 38ms/step\n",
            "843\n",
            "1/1 [==============================] - 0s 30ms/step\n",
            "844\n",
            "1/1 [==============================] - 0s 30ms/step\n",
            "845\n",
            "1/1 [==============================] - 0s 34ms/step\n",
            "846\n",
            "1/1 [==============================] - 0s 37ms/step\n",
            "847\n",
            "1/1 [==============================] - 0s 31ms/step\n",
            "848\n",
            "1/1 [==============================] - 0s 30ms/step\n",
            "849\n",
            "1/1 [==============================] - 0s 30ms/step\n",
            "850\n",
            "1/1 [==============================] - 0s 29ms/step\n",
            "851\n",
            "1/1 [==============================] - 0s 29ms/step\n",
            "852\n",
            "1/1 [==============================] - 0s 30ms/step\n",
            "853\n",
            "1/1 [==============================] - 0s 31ms/step\n",
            "854\n",
            "1/1 [==============================] - 0s 31ms/step\n",
            "855\n",
            "1/1 [==============================] - 0s 29ms/step\n",
            "856\n",
            "1/1 [==============================] - 0s 32ms/step\n",
            "857\n",
            "1/1 [==============================] - 0s 29ms/step\n",
            "858\n",
            "1/1 [==============================] - 0s 30ms/step\n",
            "859\n",
            "1/1 [==============================] - 0s 30ms/step\n",
            "860\n",
            "1/1 [==============================] - 0s 30ms/step\n",
            "861\n",
            "1/1 [==============================] - 0s 30ms/step\n",
            "862\n",
            "1/1 [==============================] - 0s 31ms/step\n",
            "863\n",
            "1/1 [==============================] - 0s 30ms/step\n",
            "864\n",
            "1/1 [==============================] - 0s 29ms/step\n",
            "865\n",
            "1/1 [==============================] - 0s 30ms/step\n",
            "866\n",
            "1/1 [==============================] - 0s 33ms/step\n",
            "867\n",
            "1/1 [==============================] - 0s 28ms/step\n",
            "868\n",
            "1/1 [==============================] - 0s 29ms/step\n",
            "869\n",
            "1/1 [==============================] - 0s 39ms/step\n",
            "870\n",
            "1/1 [==============================] - 0s 29ms/step\n",
            "871\n",
            "1/1 [==============================] - 0s 28ms/step\n",
            "872\n",
            "1/1 [==============================] - 0s 33ms/step\n",
            "873\n",
            "1/1 [==============================] - 0s 30ms/step\n",
            "874\n",
            "1/1 [==============================] - 0s 52ms/step\n",
            "875\n",
            "1/1 [==============================] - 0s 47ms/step\n",
            "876\n",
            "1/1 [==============================] - 0s 46ms/step\n",
            "877\n",
            "1/1 [==============================] - 0s 48ms/step\n",
            "878\n",
            "1/1 [==============================] - 0s 47ms/step\n",
            "879\n",
            "1/1 [==============================] - 0s 47ms/step\n",
            "880\n",
            "1/1 [==============================] - 0s 49ms/step\n",
            "881\n",
            "1/1 [==============================] - 0s 45ms/step\n",
            "882\n",
            "1/1 [==============================] - 0s 46ms/step\n",
            "883\n",
            "1/1 [==============================] - 0s 49ms/step\n",
            "884\n",
            "1/1 [==============================] - 0s 49ms/step\n",
            "885\n",
            "1/1 [==============================] - 0s 50ms/step\n",
            "886\n",
            "1/1 [==============================] - 0s 43ms/step\n",
            "887\n",
            "1/1 [==============================] - 0s 55ms/step\n",
            "888\n",
            "1/1 [==============================] - 0s 52ms/step\n",
            "889\n",
            "1/1 [==============================] - 0s 46ms/step\n",
            "890\n",
            "1/1 [==============================] - 0s 46ms/step\n",
            "891\n",
            "1/1 [==============================] - 0s 48ms/step\n",
            "892\n",
            "1/1 [==============================] - 0s 46ms/step\n",
            "893\n",
            "1/1 [==============================] - 0s 45ms/step\n",
            "894\n",
            "1/1 [==============================] - 0s 64ms/step\n",
            "895\n",
            "1/1 [==============================] - 0s 45ms/step\n",
            "896\n",
            "1/1 [==============================] - 0s 56ms/step\n",
            "897\n",
            "1/1 [==============================] - 0s 49ms/step\n",
            "898\n",
            "1/1 [==============================] - 0s 55ms/step\n",
            "899\n",
            "1/1 [==============================] - 0s 48ms/step\n",
            "900\n",
            "1/1 [==============================] - 0s 62ms/step\n",
            "901\n",
            "1/1 [==============================] - 0s 47ms/step\n",
            "902\n",
            "1/1 [==============================] - 0s 49ms/step\n",
            "903\n",
            "1/1 [==============================] - 0s 44ms/step\n",
            "904\n",
            "1/1 [==============================] - 0s 47ms/step\n",
            "905\n",
            "1/1 [==============================] - 0s 45ms/step\n",
            "906\n",
            "1/1 [==============================] - 0s 49ms/step\n",
            "907\n",
            "1/1 [==============================] - 0s 57ms/step\n",
            "908\n",
            "1/1 [==============================] - 0s 49ms/step\n",
            "909\n",
            "1/1 [==============================] - 0s 48ms/step\n",
            "910\n",
            "1/1 [==============================] - 0s 49ms/step\n",
            "911\n",
            "1/1 [==============================] - 0s 50ms/step\n",
            "912\n",
            "1/1 [==============================] - 0s 51ms/step\n",
            "913\n",
            "1/1 [==============================] - 0s 48ms/step\n",
            "914\n",
            "1/1 [==============================] - 0s 45ms/step\n",
            "915\n",
            "1/1 [==============================] - 0s 50ms/step\n",
            "916\n",
            "1/1 [==============================] - 0s 47ms/step\n",
            "917\n",
            "1/1 [==============================] - 0s 46ms/step\n",
            "918\n",
            "1/1 [==============================] - 0s 47ms/step\n",
            "919\n",
            "1/1 [==============================] - 0s 52ms/step\n",
            "920\n",
            "1/1 [==============================] - 0s 56ms/step\n",
            "921\n",
            "1/1 [==============================] - 0s 46ms/step\n",
            "922\n",
            "1/1 [==============================] - 0s 50ms/step\n",
            "923\n",
            "1/1 [==============================] - 0s 51ms/step\n",
            "924\n",
            "1/1 [==============================] - 0s 51ms/step\n",
            "925\n",
            "1/1 [==============================] - 0s 29ms/step\n",
            "926\n",
            "1/1 [==============================] - 0s 29ms/step\n",
            "927\n",
            "1/1 [==============================] - 0s 31ms/step\n",
            "928\n",
            "1/1 [==============================] - 0s 37ms/step\n",
            "929\n",
            "1/1 [==============================] - 0s 31ms/step\n",
            "930\n",
            "1/1 [==============================] - 0s 28ms/step\n",
            "931\n",
            "1/1 [==============================] - 0s 35ms/step\n",
            "932\n",
            "1/1 [==============================] - 0s 30ms/step\n",
            "933\n",
            "1/1 [==============================] - 0s 28ms/step\n",
            "934\n",
            "1/1 [==============================] - 0s 28ms/step\n",
            "935\n",
            "1/1 [==============================] - 0s 28ms/step\n",
            "936\n",
            "1/1 [==============================] - 0s 28ms/step\n",
            "937\n",
            "1/1 [==============================] - 0s 40ms/step\n",
            "938\n",
            "1/1 [==============================] - 0s 30ms/step\n",
            "939\n",
            "1/1 [==============================] - 0s 29ms/step\n",
            "940\n",
            "1/1 [==============================] - 0s 29ms/step\n",
            "941\n",
            "1/1 [==============================] - 0s 28ms/step\n",
            "942\n",
            "1/1 [==============================] - 0s 30ms/step\n",
            "943\n",
            "1/1 [==============================] - 0s 31ms/step\n",
            "944\n",
            "1/1 [==============================] - 0s 31ms/step\n",
            "945\n",
            "1/1 [==============================] - 0s 30ms/step\n",
            "946\n",
            "1/1 [==============================] - 0s 30ms/step\n",
            "947\n",
            "1/1 [==============================] - 0s 30ms/step\n",
            "948\n",
            "1/1 [==============================] - 0s 32ms/step\n",
            "949\n",
            "1/1 [==============================] - 0s 29ms/step\n",
            "950\n",
            "1/1 [==============================] - 0s 40ms/step\n",
            "951\n",
            "1/1 [==============================] - 0s 32ms/step\n",
            "952\n",
            "1/1 [==============================] - 0s 28ms/step\n",
            "953\n",
            "1/1 [==============================] - 0s 31ms/step\n",
            "954\n",
            "1/1 [==============================] - 0s 30ms/step\n",
            "955\n",
            "1/1 [==============================] - 0s 31ms/step\n",
            "956\n",
            "1/1 [==============================] - 0s 37ms/step\n",
            "957\n",
            "1/1 [==============================] - 0s 31ms/step\n",
            "958\n",
            "1/1 [==============================] - 0s 32ms/step\n",
            "959\n",
            "1/1 [==============================] - 0s 29ms/step\n",
            "960\n",
            "1/1 [==============================] - 0s 31ms/step\n",
            "961\n",
            "1/1 [==============================] - 0s 28ms/step\n",
            "962\n",
            "1/1 [==============================] - 0s 28ms/step\n",
            "963\n",
            "1/1 [==============================] - 0s 36ms/step\n",
            "964\n",
            "1/1 [==============================] - 0s 31ms/step\n",
            "965\n",
            "1/1 [==============================] - 0s 27ms/step\n",
            "966\n",
            "1/1 [==============================] - 0s 28ms/step\n",
            "967\n",
            "1/1 [==============================] - 0s 35ms/step\n",
            "968\n",
            "1/1 [==============================] - 0s 30ms/step\n",
            "969\n",
            "1/1 [==============================] - 0s 30ms/step\n",
            "970\n",
            "1/1 [==============================] - 0s 31ms/step\n",
            "971\n",
            "1/1 [==============================] - 0s 30ms/step\n",
            "972\n",
            "1/1 [==============================] - 0s 30ms/step\n",
            "973\n",
            "1/1 [==============================] - 0s 37ms/step\n",
            "974\n",
            "1/1 [==============================] - 0s 29ms/step\n",
            "975\n",
            "1/1 [==============================] - 0s 28ms/step\n",
            "976\n",
            "1/1 [==============================] - 0s 30ms/step\n",
            "977\n",
            "1/1 [==============================] - 0s 32ms/step\n",
            "978\n",
            "1/1 [==============================] - 0s 31ms/step\n",
            "979\n",
            "1/1 [==============================] - 0s 29ms/step\n",
            "980\n",
            "1/1 [==============================] - 0s 31ms/step\n",
            "981\n",
            "1/1 [==============================] - 0s 34ms/step\n",
            "982\n",
            "1/1 [==============================] - 0s 28ms/step\n",
            "983\n",
            "1/1 [==============================] - 0s 29ms/step\n",
            "984\n",
            "1/1 [==============================] - 0s 28ms/step\n",
            "985\n",
            "1/1 [==============================] - 0s 28ms/step\n",
            "986\n",
            "1/1 [==============================] - 0s 29ms/step\n",
            "987\n",
            "1/1 [==============================] - 0s 36ms/step\n",
            "988\n",
            "1/1 [==============================] - 0s 28ms/step\n",
            "989\n",
            "1/1 [==============================] - 0s 30ms/step\n",
            "990\n",
            "1/1 [==============================] - 0s 32ms/step\n",
            "991\n",
            "1/1 [==============================] - 0s 31ms/step\n",
            "992\n",
            "1/1 [==============================] - 0s 37ms/step\n",
            "993\n",
            "1/1 [==============================] - 0s 28ms/step\n",
            "994\n",
            "1/1 [==============================] - 0s 36ms/step\n",
            "995\n",
            "1/1 [==============================] - 0s 28ms/step\n",
            "996\n",
            "1/1 [==============================] - 0s 29ms/step\n",
            "997\n",
            "1/1 [==============================] - 0s 32ms/step\n",
            "998\n",
            "1/1 [==============================] - 0s 32ms/step\n",
            "999\n",
            "1/1 [==============================] - 0s 34ms/step\n",
            "1000\n",
            "1/1 [==============================] - 0s 37ms/step\n",
            "1001\n",
            "1/1 [==============================] - 0s 29ms/step\n",
            "1002\n",
            "1/1 [==============================] - 0s 29ms/step\n",
            "1003\n",
            "1/1 [==============================] - 0s 31ms/step\n",
            "1004\n",
            "1/1 [==============================] - 0s 30ms/step\n",
            "1005\n",
            "1/1 [==============================] - 0s 31ms/step\n",
            "1006\n",
            "1/1 [==============================] - 0s 35ms/step\n",
            "1007\n",
            "1/1 [==============================] - 0s 37ms/step\n",
            "1008\n",
            "1/1 [==============================] - 0s 60ms/step\n",
            "1009\n",
            "1/1 [==============================] - 0s 36ms/step\n",
            "1010\n",
            "1/1 [==============================] - 0s 29ms/step\n",
            "1011\n",
            "1/1 [==============================] - 0s 29ms/step\n",
            "1012\n",
            "1/1 [==============================] - 0s 30ms/step\n",
            "1013\n",
            "1/1 [==============================] - 0s 31ms/step\n",
            "1014\n",
            "1/1 [==============================] - 0s 28ms/step\n",
            "1015\n",
            "1/1 [==============================] - 0s 28ms/step\n",
            "1016\n",
            "1/1 [==============================] - 0s 31ms/step\n",
            "1017\n",
            "1/1 [==============================] - 0s 34ms/step\n",
            "1018\n",
            "1/1 [==============================] - 0s 30ms/step\n",
            "1019\n",
            "1/1 [==============================] - 0s 28ms/step\n",
            "1020\n",
            "1/1 [==============================] - 0s 28ms/step\n",
            "1021\n",
            "1/1 [==============================] - 0s 30ms/step\n",
            "1022\n",
            "1/1 [==============================] - 0s 31ms/step\n",
            "1023\n",
            "1/1 [==============================] - 0s 34ms/step\n",
            "1024\n",
            "1/1 [==============================] - 0s 28ms/step\n",
            "1025\n",
            "1/1 [==============================] - 0s 30ms/step\n",
            "1026\n",
            "1/1 [==============================] - 0s 29ms/step\n",
            "1027\n",
            "1/1 [==============================] - 0s 29ms/step\n",
            "1028\n",
            "1/1 [==============================] - 0s 30ms/step\n",
            "1029\n",
            "1/1 [==============================] - 0s 32ms/step\n",
            "1030\n",
            "1/1 [==============================] - 0s 30ms/step\n",
            "1031\n",
            "1/1 [==============================] - 0s 31ms/step\n",
            "1032\n",
            "1/1 [==============================] - 0s 28ms/step\n",
            "1033\n",
            "1/1 [==============================] - 0s 28ms/step\n",
            "1034\n",
            "1/1 [==============================] - 0s 28ms/step\n",
            "1035\n",
            "1/1 [==============================] - 0s 32ms/step\n",
            "1036\n",
            "1/1 [==============================] - 0s 38ms/step\n",
            "1037\n",
            "1/1 [==============================] - 0s 33ms/step\n",
            "1038\n",
            "1/1 [==============================] - 0s 35ms/step\n",
            "1039\n",
            "1/1 [==============================] - 0s 29ms/step\n",
            "1040\n",
            "1/1 [==============================] - 0s 29ms/step\n",
            "1041\n",
            "1/1 [==============================] - 0s 28ms/step\n",
            "1042\n",
            "1/1 [==============================] - 0s 31ms/step\n",
            "1043\n",
            "1/1 [==============================] - 0s 29ms/step\n",
            "1044\n",
            "1/1 [==============================] - 0s 35ms/step\n",
            "1045\n",
            "1/1 [==============================] - 0s 43ms/step\n",
            "1046\n",
            "1/1 [==============================] - 0s 51ms/step\n",
            "1047\n",
            "1/1 [==============================] - 0s 61ms/step\n",
            "1048\n",
            "1/1 [==============================] - 0s 51ms/step\n",
            "1049\n",
            "1/1 [==============================] - 0s 51ms/step\n",
            "1050\n",
            "1/1 [==============================] - 0s 52ms/step\n",
            "1051\n",
            "1/1 [==============================] - 0s 47ms/step\n",
            "1052\n",
            "1/1 [==============================] - 0s 47ms/step\n",
            "1053\n",
            "1/1 [==============================] - 0s 46ms/step\n",
            "1054\n",
            "1/1 [==============================] - 0s 49ms/step\n",
            "1055\n",
            "1/1 [==============================] - 0s 48ms/step\n",
            "1056\n",
            "1/1 [==============================] - 0s 43ms/step\n",
            "1057\n",
            "1/1 [==============================] - 0s 46ms/step\n",
            "1058\n",
            "1/1 [==============================] - 0s 48ms/step\n",
            "1059\n",
            "1/1 [==============================] - 0s 45ms/step\n",
            "1060\n",
            "1/1 [==============================] - 0s 48ms/step\n",
            "1061\n",
            "1/1 [==============================] - 0s 50ms/step\n",
            "1062\n",
            "1/1 [==============================] - 0s 49ms/step\n",
            "1063\n",
            "1/1 [==============================] - 0s 44ms/step\n",
            "1064\n",
            "1/1 [==============================] - 0s 56ms/step\n",
            "1065\n",
            "1/1 [==============================] - 0s 49ms/step\n",
            "1066\n",
            "1/1 [==============================] - 0s 48ms/step\n",
            "1067\n",
            "1/1 [==============================] - 0s 44ms/step\n",
            "1068\n",
            "1/1 [==============================] - 0s 41ms/step\n",
            "1069\n",
            "1/1 [==============================] - 0s 47ms/step\n",
            "1070\n",
            "1/1 [==============================] - 0s 47ms/step\n",
            "1071\n",
            "1/1 [==============================] - 0s 52ms/step\n",
            "1072\n",
            "1/1 [==============================] - 0s 43ms/step\n",
            "1073\n",
            "1/1 [==============================] - 0s 52ms/step\n",
            "1074\n",
            "1/1 [==============================] - 0s 51ms/step\n",
            "1075\n",
            "1/1 [==============================] - 0s 44ms/step\n",
            "1076\n",
            "1/1 [==============================] - 0s 45ms/step\n",
            "1077\n",
            "1/1 [==============================] - 0s 48ms/step\n",
            "1078\n",
            "1/1 [==============================] - 0s 51ms/step\n",
            "1079\n",
            "1/1 [==============================] - 0s 44ms/step\n",
            "1080\n",
            "1/1 [==============================] - 0s 46ms/step\n",
            "1081\n",
            "1/1 [==============================] - 0s 49ms/step\n",
            "1082\n",
            "1/1 [==============================] - 0s 45ms/step\n",
            "1083\n",
            "1/1 [==============================] - 0s 54ms/step\n",
            "1084\n",
            "1/1 [==============================] - 0s 48ms/step\n",
            "1085\n",
            "1/1 [==============================] - 0s 47ms/step\n",
            "1086\n",
            "1/1 [==============================] - 0s 59ms/step\n",
            "1087\n",
            "1/1 [==============================] - 0s 46ms/step\n",
            "1088\n",
            "1/1 [==============================] - 0s 47ms/step\n",
            "1089\n",
            "1/1 [==============================] - 0s 46ms/step\n",
            "1090\n",
            "1/1 [==============================] - 0s 49ms/step\n",
            "1091\n",
            "1/1 [==============================] - 0s 50ms/step\n",
            "1092\n",
            "1/1 [==============================] - 0s 46ms/step\n",
            "1093\n",
            "1/1 [==============================] - 0s 45ms/step\n",
            "1094\n",
            "1/1 [==============================] - 0s 49ms/step\n",
            "1095\n",
            "1/1 [==============================] - 0s 47ms/step\n",
            "1096\n",
            "1/1 [==============================] - 0s 43ms/step\n",
            "1097\n",
            "1/1 [==============================] - 0s 45ms/step\n",
            "1098\n",
            "1/1 [==============================] - 0s 54ms/step\n",
            "1099\n",
            "1/1 [==============================] - 0s 51ms/step\n",
            "1100\n",
            "1/1 [==============================] - 0s 53ms/step\n",
            "1101\n",
            "1/1 [==============================] - 0s 52ms/step\n",
            "1102\n",
            "1/1 [==============================] - 0s 51ms/step\n",
            "1103\n",
            "1/1 [==============================] - 0s 47ms/step\n",
            "1104\n",
            "1/1 [==============================] - 0s 55ms/step\n",
            "1105\n",
            "1/1 [==============================] - 0s 33ms/step\n",
            "1106\n",
            "1/1 [==============================] - 0s 27ms/step\n",
            "1107\n",
            "1/1 [==============================] - 0s 28ms/step\n",
            "1108\n",
            "1/1 [==============================] - 0s 36ms/step\n",
            "1109\n",
            "1/1 [==============================] - 0s 28ms/step\n",
            "1110\n",
            "1/1 [==============================] - 0s 33ms/step\n",
            "1111\n",
            "1/1 [==============================] - 0s 33ms/step\n",
            "1112\n",
            "1/1 [==============================] - 0s 29ms/step\n",
            "1113\n",
            "1/1 [==============================] - 0s 27ms/step\n",
            "1114\n",
            "1/1 [==============================] - 0s 31ms/step\n",
            "1115\n",
            "1/1 [==============================] - 0s 29ms/step\n",
            "1116\n",
            "1/1 [==============================] - 0s 32ms/step\n",
            "1117\n",
            "1/1 [==============================] - 0s 36ms/step\n",
            "1118\n",
            "1/1 [==============================] - 0s 31ms/step\n",
            "1119\n",
            "1/1 [==============================] - 0s 34ms/step\n",
            "1120\n",
            "1/1 [==============================] - 0s 31ms/step\n",
            "1121\n",
            "1/1 [==============================] - 0s 27ms/step\n",
            "1122\n",
            "1/1 [==============================] - 0s 30ms/step\n",
            "1123\n",
            "1/1 [==============================] - 0s 32ms/step\n",
            "1124\n",
            "1/1 [==============================] - 0s 30ms/step\n",
            "1125\n",
            "1/1 [==============================] - 0s 30ms/step\n",
            "1126\n",
            "1/1 [==============================] - 0s 30ms/step\n",
            "1127\n",
            "1/1 [==============================] - 0s 34ms/step\n",
            "1128\n",
            "1/1 [==============================] - 0s 29ms/step\n",
            "1129\n",
            "1/1 [==============================] - 0s 29ms/step\n",
            "1130\n",
            "1/1 [==============================] - 0s 32ms/step\n",
            "1131\n",
            "1/1 [==============================] - 0s 29ms/step\n",
            "1132\n",
            "1/1 [==============================] - 0s 28ms/step\n",
            "1133\n",
            "1/1 [==============================] - 0s 30ms/step\n",
            "1134\n",
            "1/1 [==============================] - 0s 31ms/step\n",
            "1135\n",
            "1/1 [==============================] - 0s 29ms/step\n",
            "1136\n",
            "1/1 [==============================] - 0s 35ms/step\n",
            "1137\n",
            "1/1 [==============================] - 0s 31ms/step\n",
            "1138\n",
            "1/1 [==============================] - 0s 34ms/step\n",
            "1139\n",
            "1/1 [==============================] - 0s 31ms/step\n",
            "1140\n",
            "1/1 [==============================] - 0s 29ms/step\n",
            "1141\n",
            "1/1 [==============================] - 0s 29ms/step\n",
            "1142\n",
            "1/1 [==============================] - 0s 28ms/step\n",
            "1143\n",
            "1/1 [==============================] - 0s 40ms/step\n",
            "1144\n",
            "1/1 [==============================] - 0s 28ms/step\n",
            "1145\n",
            "1/1 [==============================] - 0s 29ms/step\n",
            "1146\n",
            "1/1 [==============================] - 0s 35ms/step\n",
            "1147\n",
            "1/1 [==============================] - 0s 32ms/step\n",
            "1148\n",
            "1/1 [==============================] - 0s 33ms/step\n",
            "1149\n",
            "1/1 [==============================] - 0s 28ms/step\n",
            "1150\n",
            "1/1 [==============================] - 0s 33ms/step\n",
            "1151\n",
            "1/1 [==============================] - 0s 31ms/step\n",
            "1152\n",
            "1/1 [==============================] - 0s 29ms/step\n",
            "1153\n",
            "1/1 [==============================] - 0s 29ms/step\n",
            "1154\n",
            "1/1 [==============================] - 0s 33ms/step\n",
            "1155\n",
            "1/1 [==============================] - 0s 27ms/step\n",
            "1156\n",
            "1/1 [==============================] - 0s 30ms/step\n",
            "1157\n",
            "1/1 [==============================] - 0s 27ms/step\n",
            "1158\n",
            "1/1 [==============================] - 0s 30ms/step\n",
            "1159\n",
            "1/1 [==============================] - 0s 30ms/step\n",
            "1160\n",
            "1/1 [==============================] - 0s 30ms/step\n",
            "1161\n",
            "1/1 [==============================] - 0s 33ms/step\n",
            "1162\n",
            "1/1 [==============================] - 0s 34ms/step\n",
            "1163\n",
            "1/1 [==============================] - 0s 31ms/step\n",
            "1164\n",
            "1/1 [==============================] - 0s 28ms/step\n",
            "1165\n",
            "1/1 [==============================] - 0s 29ms/step\n",
            "1166\n",
            "1/1 [==============================] - 0s 28ms/step\n",
            "1167\n",
            "1/1 [==============================] - 0s 28ms/step\n",
            "1168\n",
            "1/1 [==============================] - 0s 28ms/step\n",
            "1169\n",
            "1/1 [==============================] - 0s 32ms/step\n",
            "1170\n",
            "1/1 [==============================] - 0s 36ms/step\n",
            "1171\n",
            "1/1 [==============================] - 0s 28ms/step\n",
            "1172\n",
            "1/1 [==============================] - 0s 35ms/step\n",
            "1173\n",
            "1/1 [==============================] - 0s 28ms/step\n",
            "1174\n",
            "1/1 [==============================] - 0s 34ms/step\n",
            "1175\n",
            "1/1 [==============================] - 0s 30ms/step\n",
            "1176\n",
            "1/1 [==============================] - 0s 33ms/step\n",
            "1177\n",
            "1/1 [==============================] - 0s 29ms/step\n",
            "1178\n",
            "1/1 [==============================] - 0s 30ms/step\n",
            "1179\n",
            "1/1 [==============================] - 0s 29ms/step\n",
            "1180\n",
            "1/1 [==============================] - 0s 31ms/step\n",
            "1181\n",
            "1/1 [==============================] - 0s 33ms/step\n",
            "1182\n",
            "1/1 [==============================] - 0s 32ms/step\n",
            "1183\n",
            "1/1 [==============================] - 0s 29ms/step\n",
            "1184\n",
            "1/1 [==============================] - 0s 33ms/step\n",
            "1185\n",
            "1/1 [==============================] - 0s 45ms/step\n",
            "1186\n",
            "1/1 [==============================] - 0s 30ms/step\n",
            "1187\n",
            "1/1 [==============================] - 0s 30ms/step\n",
            "1188\n",
            "1/1 [==============================] - 0s 33ms/step\n",
            "1189\n",
            "1/1 [==============================] - 0s 36ms/step\n",
            "1190\n",
            "1/1 [==============================] - 0s 30ms/step\n",
            "1191\n",
            "1/1 [==============================] - 0s 31ms/step\n",
            "1192\n",
            "1/1 [==============================] - 0s 30ms/step\n",
            "1193\n",
            "1/1 [==============================] - 0s 29ms/step\n",
            "1194\n",
            "1/1 [==============================] - 0s 27ms/step\n",
            "1195\n",
            "1/1 [==============================] - 0s 27ms/step\n",
            "1196\n",
            "1/1 [==============================] - 0s 32ms/step\n",
            "1197\n",
            "1/1 [==============================] - 0s 41ms/step\n",
            "1198\n",
            "1/1 [==============================] - 0s 29ms/step\n",
            "1199\n",
            "1/1 [==============================] - 0s 30ms/step\n",
            "1200\n",
            "1/1 [==============================] - 0s 29ms/step\n",
            "1201\n",
            "1/1 [==============================] - 0s 31ms/step\n",
            "1202\n",
            "1/1 [==============================] - 0s 32ms/step\n",
            "1203\n",
            "1/1 [==============================] - 0s 32ms/step\n",
            "1204\n",
            "1/1 [==============================] - 0s 31ms/step\n",
            "1205\n",
            "1/1 [==============================] - 0s 29ms/step\n",
            "1206\n",
            "1/1 [==============================] - 0s 30ms/step\n",
            "1207\n",
            "1/1 [==============================] - 0s 32ms/step\n",
            "1208\n",
            "1/1 [==============================] - 0s 30ms/step\n",
            "1209\n",
            "1/1 [==============================] - 0s 29ms/step\n",
            "1210\n",
            "1/1 [==============================] - 0s 30ms/step\n",
            "1211\n",
            "1/1 [==============================] - 0s 39ms/step\n",
            "1212\n",
            "1/1 [==============================] - 0s 30ms/step\n",
            "1213\n",
            "1/1 [==============================] - 0s 30ms/step\n",
            "1214\n",
            "1/1 [==============================] - 0s 28ms/step\n",
            "1215\n",
            "1/1 [==============================] - 0s 28ms/step\n",
            "1216\n",
            "1/1 [==============================] - 0s 32ms/step\n",
            "1217\n",
            "1/1 [==============================] - 0s 32ms/step\n",
            "1218\n",
            "1/1 [==============================] - 0s 44ms/step\n",
            "1219\n",
            "1/1 [==============================] - 0s 55ms/step\n",
            "1220\n",
            "1/1 [==============================] - 0s 52ms/step\n",
            "1221\n",
            "1/1 [==============================] - 0s 53ms/step\n",
            "1222\n",
            "1/1 [==============================] - 0s 42ms/step\n",
            "1223\n",
            "1/1 [==============================] - 0s 48ms/step\n",
            "1224\n",
            "1/1 [==============================] - 0s 46ms/step\n",
            "1225\n",
            "1/1 [==============================] - 0s 57ms/step\n",
            "1226\n",
            "1/1 [==============================] - 0s 48ms/step\n",
            "1227\n",
            "1/1 [==============================] - 0s 43ms/step\n",
            "1228\n",
            "1/1 [==============================] - 0s 45ms/step\n",
            "1229\n",
            "1/1 [==============================] - 0s 44ms/step\n",
            "1230\n",
            "1/1 [==============================] - 0s 59ms/step\n",
            "1231\n",
            "1/1 [==============================] - 0s 45ms/step\n",
            "1232\n",
            "1/1 [==============================] - 0s 45ms/step\n",
            "1233\n",
            "1/1 [==============================] - 0s 43ms/step\n",
            "1234\n",
            "1/1 [==============================] - 0s 45ms/step\n",
            "1235\n",
            "1/1 [==============================] - 0s 44ms/step\n",
            "1236\n",
            "1/1 [==============================] - 0s 47ms/step\n",
            "1237\n",
            "1/1 [==============================] - 0s 44ms/step\n",
            "1238\n",
            "1/1 [==============================] - 0s 44ms/step\n",
            "1239\n",
            "1/1 [==============================] - 0s 47ms/step\n",
            "1240\n",
            "1/1 [==============================] - 0s 48ms/step\n",
            "1241\n",
            "1/1 [==============================] - 0s 44ms/step\n",
            "1242\n",
            "1/1 [==============================] - 0s 45ms/step\n",
            "1243\n",
            "1/1 [==============================] - 0s 48ms/step\n",
            "1244\n",
            "1/1 [==============================] - 0s 50ms/step\n",
            "1245\n",
            "1/1 [==============================] - 0s 47ms/step\n",
            "1246\n",
            "1/1 [==============================] - 0s 47ms/step\n",
            "1247\n",
            "1/1 [==============================] - 0s 46ms/step\n",
            "1248\n",
            "1/1 [==============================] - 0s 49ms/step\n",
            "1249\n",
            "1/1 [==============================] - 0s 49ms/step\n",
            "1250\n",
            "1/1 [==============================] - 0s 52ms/step\n",
            "1251\n",
            "1/1 [==============================] - 0s 46ms/step\n",
            "1252\n",
            "1/1 [==============================] - 0s 46ms/step\n",
            "1253\n",
            "1/1 [==============================] - 0s 58ms/step\n",
            "1254\n",
            "1/1 [==============================] - 0s 46ms/step\n",
            "1255\n",
            "1/1 [==============================] - 0s 53ms/step\n",
            "1256\n",
            "1/1 [==============================] - 0s 48ms/step\n",
            "1257\n",
            "1/1 [==============================] - 0s 49ms/step\n",
            "1258\n",
            "1/1 [==============================] - 0s 51ms/step\n",
            "1259\n",
            "1/1 [==============================] - 0s 50ms/step\n",
            "1260\n",
            "1/1 [==============================] - 0s 51ms/step\n",
            "1261\n",
            "1/1 [==============================] - 0s 47ms/step\n",
            "1262\n",
            "1/1 [==============================] - 0s 52ms/step\n",
            "1263\n",
            "1/1 [==============================] - 0s 47ms/step\n",
            "1264\n",
            "1/1 [==============================] - 0s 58ms/step\n",
            "1265\n",
            "1/1 [==============================] - 0s 52ms/step\n",
            "1266\n",
            "1/1 [==============================] - 0s 51ms/step\n",
            "1267\n",
            "1/1 [==============================] - 0s 47ms/step\n",
            "1268\n",
            "1/1 [==============================] - 0s 54ms/step\n",
            "1269\n",
            "1/1 [==============================] - 0s 54ms/step\n",
            "1270\n",
            "1/1 [==============================] - 0s 47ms/step\n",
            "1271\n",
            "1/1 [==============================] - 0s 49ms/step\n",
            "1272\n",
            "1/1 [==============================] - 0s 45ms/step\n",
            "1273\n",
            "1/1 [==============================] - 0s 46ms/step\n",
            "1274\n",
            "1/1 [==============================] - 0s 51ms/step\n",
            "1275\n",
            "1/1 [==============================] - 0s 48ms/step\n",
            "1276\n",
            "1/1 [==============================] - 0s 33ms/step\n",
            "1277\n",
            "1/1 [==============================] - 0s 35ms/step\n",
            "1278\n",
            "1/1 [==============================] - 0s 33ms/step\n",
            "1279\n",
            "1/1 [==============================] - 0s 32ms/step\n",
            "1280\n",
            "1/1 [==============================] - 0s 31ms/step\n",
            "1281\n",
            "1/1 [==============================] - 0s 29ms/step\n",
            "1282\n",
            "1/1 [==============================] - 0s 33ms/step\n",
            "1283\n",
            "1/1 [==============================] - 0s 43ms/step\n",
            "1284\n",
            "1/1 [==============================] - 0s 29ms/step\n",
            "1285\n",
            "1/1 [==============================] - 0s 29ms/step\n",
            "1286\n",
            "1/1 [==============================] - 0s 30ms/step\n",
            "1287\n",
            "1/1 [==============================] - 0s 35ms/step\n",
            "1288\n",
            "1/1 [==============================] - 0s 36ms/step\n",
            "1289\n",
            "1/1 [==============================] - 0s 34ms/step\n",
            "1290\n",
            "1/1 [==============================] - 0s 31ms/step\n",
            "1291\n",
            "1/1 [==============================] - 0s 30ms/step\n",
            "1292\n",
            "1/1 [==============================] - 0s 28ms/step\n",
            "1293\n",
            "1/1 [==============================] - 0s 40ms/step\n",
            "1294\n",
            "1/1 [==============================] - 0s 30ms/step\n",
            "1295\n",
            "1/1 [==============================] - 0s 33ms/step\n",
            "1296\n",
            "1/1 [==============================] - 0s 33ms/step\n",
            "1297\n",
            "1/1 [==============================] - 0s 31ms/step\n",
            "1298\n",
            "1/1 [==============================] - 0s 32ms/step\n",
            "1299\n",
            "1/1 [==============================] - 0s 29ms/step\n",
            "1300\n",
            "1/1 [==============================] - 0s 30ms/step\n",
            "1301\n",
            "1/1 [==============================] - 0s 30ms/step\n",
            "1302\n",
            "1/1 [==============================] - 0s 31ms/step\n",
            "1303\n",
            "1/1 [==============================] - 0s 31ms/step\n",
            "1304\n",
            "1/1 [==============================] - 0s 42ms/step\n",
            "1305\n",
            "1/1 [==============================] - 0s 36ms/step\n",
            "1306\n",
            "1/1 [==============================] - 0s 30ms/step\n",
            "1307\n",
            "1/1 [==============================] - 0s 33ms/step\n",
            "1308\n",
            "1/1 [==============================] - 0s 32ms/step\n",
            "1309\n",
            "1/1 [==============================] - 0s 29ms/step\n",
            "1310\n",
            "1/1 [==============================] - 0s 33ms/step\n",
            "1311\n",
            "1/1 [==============================] - 0s 39ms/step\n",
            "1312\n",
            "1/1 [==============================] - 0s 29ms/step\n",
            "1313\n",
            "1/1 [==============================] - 0s 29ms/step\n",
            "1314\n",
            "1/1 [==============================] - 0s 28ms/step\n",
            "1315\n",
            "1/1 [==============================] - 0s 37ms/step\n",
            "1316\n",
            "1/1 [==============================] - 0s 29ms/step\n",
            "1317\n",
            "1/1 [==============================] - 0s 32ms/step\n",
            "1318\n",
            "1/1 [==============================] - 0s 38ms/step\n",
            "1319\n",
            "1/1 [==============================] - 0s 29ms/step\n",
            "1320\n",
            "1/1 [==============================] - 0s 32ms/step\n",
            "1321\n",
            "1/1 [==============================] - 0s 30ms/step\n",
            "1322\n",
            "1/1 [==============================] - 0s 30ms/step\n",
            "1323\n",
            "1/1 [==============================] - 0s 31ms/step\n",
            "1324\n",
            "1/1 [==============================] - 0s 32ms/step\n",
            "1325\n",
            "1/1 [==============================] - 0s 35ms/step\n",
            "1326\n",
            "1/1 [==============================] - 0s 35ms/step\n",
            "1327\n",
            "1/1 [==============================] - 0s 30ms/step\n",
            "1328\n",
            "1/1 [==============================] - 0s 30ms/step\n",
            "1329\n",
            "1/1 [==============================] - 0s 33ms/step\n",
            "1330\n",
            "1/1 [==============================] - 0s 29ms/step\n",
            "1331\n",
            "1/1 [==============================] - 0s 29ms/step\n",
            "1332\n",
            "1/1 [==============================] - 0s 29ms/step\n",
            "1333\n",
            "1/1 [==============================] - 0s 29ms/step\n",
            "1334\n",
            "1/1 [==============================] - 0s 33ms/step\n",
            "1335\n",
            "1/1 [==============================] - 0s 34ms/step\n",
            "1336\n",
            "1/1 [==============================] - 0s 30ms/step\n",
            "1337\n",
            "1/1 [==============================] - 0s 33ms/step\n",
            "1338\n",
            "1/1 [==============================] - 0s 30ms/step\n",
            "1339\n",
            "1/1 [==============================] - 0s 29ms/step\n",
            "1340\n",
            "1/1 [==============================] - 0s 28ms/step\n",
            "1341\n",
            "1/1 [==============================] - 0s 28ms/step\n",
            "1342\n",
            "1/1 [==============================] - 0s 36ms/step\n",
            "1343\n",
            "1/1 [==============================] - 0s 30ms/step\n",
            "1344\n",
            "1/1 [==============================] - 0s 28ms/step\n",
            "1345\n",
            "1/1 [==============================] - 0s 28ms/step\n",
            "1346\n",
            "1/1 [==============================] - 0s 29ms/step\n",
            "1347\n",
            "1/1 [==============================] - 0s 30ms/step\n",
            "1348\n",
            "1/1 [==============================] - 0s 30ms/step\n",
            "1349\n",
            "1/1 [==============================] - 0s 36ms/step\n",
            "1350\n",
            "1/1 [==============================] - 0s 34ms/step\n",
            "1351\n",
            "1/1 [==============================] - 0s 30ms/step\n",
            "1352\n",
            "1/1 [==============================] - 0s 31ms/step\n",
            "1353\n",
            "1/1 [==============================] - 0s 27ms/step\n",
            "1354\n",
            "1/1 [==============================] - 0s 34ms/step\n",
            "1355\n",
            "1/1 [==============================] - 0s 27ms/step\n",
            "1356\n",
            "1/1 [==============================] - 0s 29ms/step\n",
            "1357\n",
            "1/1 [==============================] - 0s 28ms/step\n",
            "1358\n",
            "1/1 [==============================] - 0s 27ms/step\n",
            "1359\n",
            "1/1 [==============================] - 0s 35ms/step\n",
            "1360\n",
            "1/1 [==============================] - 0s 32ms/step\n",
            "1361\n",
            "1/1 [==============================] - 0s 28ms/step\n",
            "1362\n",
            "1/1 [==============================] - 0s 29ms/step\n",
            "1363\n",
            "1/1 [==============================] - 0s 29ms/step\n",
            "1364\n",
            "1/1 [==============================] - 0s 28ms/step\n",
            "1365\n",
            "1/1 [==============================] - 0s 31ms/step\n",
            "1366\n",
            "1/1 [==============================] - 0s 30ms/step\n",
            "1367\n",
            "1/1 [==============================] - 0s 32ms/step\n",
            "1368\n",
            "1/1 [==============================] - 0s 30ms/step\n",
            "1369\n",
            "1/1 [==============================] - 0s 37ms/step\n",
            "1370\n",
            "1/1 [==============================] - 0s 29ms/step\n",
            "1371\n",
            "1/1 [==============================] - 0s 36ms/step\n",
            "1372\n",
            "1/1 [==============================] - 0s 28ms/step\n",
            "1373\n",
            "1/1 [==============================] - 0s 28ms/step\n",
            "1374\n",
            "1/1 [==============================] - 0s 30ms/step\n",
            "1375\n",
            "1/1 [==============================] - 0s 32ms/step\n",
            "1376\n",
            "1/1 [==============================] - 0s 29ms/step\n",
            "1377\n",
            "1/1 [==============================] - 0s 29ms/step\n",
            "1378\n",
            "1/1 [==============================] - 0s 30ms/step\n",
            "1379\n",
            "1/1 [==============================] - 0s 29ms/step\n",
            "1380\n",
            "1/1 [==============================] - 0s 30ms/step\n",
            "1381\n",
            "1/1 [==============================] - 0s 28ms/step\n",
            "1382\n",
            "1/1 [==============================] - 0s 29ms/step\n",
            "1383\n",
            "1/1 [==============================] - 0s 33ms/step\n",
            "1384\n",
            "1/1 [==============================] - 0s 29ms/step\n",
            "1385\n",
            "1/1 [==============================] - 0s 45ms/step\n",
            "1386\n",
            "1/1 [==============================] - 0s 45ms/step\n",
            "1387\n",
            "1/1 [==============================] - 0s 43ms/step\n",
            "1388\n",
            "1/1 [==============================] - 0s 49ms/step\n",
            "1389\n",
            "1/1 [==============================] - 0s 48ms/step\n",
            "1390\n",
            "1/1 [==============================] - 0s 50ms/step\n",
            "1391\n",
            "1/1 [==============================] - 0s 41ms/step\n",
            "1392\n",
            "1/1 [==============================] - 0s 47ms/step\n",
            "1393\n",
            "1/1 [==============================] - 0s 53ms/step\n",
            "1394\n",
            "1/1 [==============================] - 0s 41ms/step\n",
            "1395\n",
            "1/1 [==============================] - 0s 54ms/step\n",
            "1396\n",
            "1/1 [==============================] - 0s 42ms/step\n",
            "1397\n",
            "1/1 [==============================] - 0s 46ms/step\n",
            "1398\n",
            "1/1 [==============================] - 0s 51ms/step\n",
            "1399\n",
            "1/1 [==============================] - 0s 46ms/step\n",
            "1400\n",
            "1/1 [==============================] - 0s 47ms/step\n",
            "1401\n",
            "1/1 [==============================] - 0s 49ms/step\n",
            "1402\n",
            "1/1 [==============================] - 0s 56ms/step\n",
            "1403\n",
            "1/1 [==============================] - 0s 47ms/step\n",
            "1404\n",
            "1/1 [==============================] - 0s 47ms/step\n",
            "1405\n",
            "1/1 [==============================] - 0s 46ms/step\n",
            "1406\n",
            "1/1 [==============================] - 0s 42ms/step\n",
            "1407\n",
            "1/1 [==============================] - 0s 41ms/step\n",
            "1408\n",
            "1/1 [==============================] - 0s 42ms/step\n",
            "1409\n",
            "1/1 [==============================] - 0s 45ms/step\n",
            "1410\n",
            "1/1 [==============================] - 0s 66ms/step\n",
            "1411\n",
            "1/1 [==============================] - 0s 56ms/step\n",
            "1412\n",
            "1/1 [==============================] - 0s 46ms/step\n",
            "1413\n",
            "1/1 [==============================] - 0s 43ms/step\n",
            "1414\n",
            "1/1 [==============================] - 0s 50ms/step\n",
            "1415\n",
            "1/1 [==============================] - 0s 44ms/step\n",
            "1416\n",
            "1/1 [==============================] - 0s 48ms/step\n",
            "1417\n",
            "1/1 [==============================] - 0s 50ms/step\n",
            "1418\n",
            "1/1 [==============================] - 0s 57ms/step\n",
            "1419\n",
            "1/1 [==============================] - 0s 44ms/step\n",
            "1420\n",
            "1/1 [==============================] - 0s 49ms/step\n",
            "1421\n",
            "1/1 [==============================] - 0s 49ms/step\n",
            "1422\n",
            "1/1 [==============================] - 0s 49ms/step\n",
            "1423\n",
            "1/1 [==============================] - 0s 45ms/step\n",
            "1424\n",
            "1/1 [==============================] - 0s 50ms/step\n",
            "1425\n",
            "1/1 [==============================] - 0s 49ms/step\n",
            "1426\n",
            "1/1 [==============================] - 0s 47ms/step\n",
            "1427\n",
            "1/1 [==============================] - 0s 41ms/step\n",
            "1428\n",
            "1/1 [==============================] - 0s 47ms/step\n",
            "1429\n",
            "1/1 [==============================] - 0s 46ms/step\n",
            "1430\n",
            "1/1 [==============================] - 0s 50ms/step\n",
            "1431\n",
            "1/1 [==============================] - 0s 49ms/step\n",
            "1432\n",
            "1/1 [==============================] - 0s 44ms/step\n",
            "1433\n",
            "1/1 [==============================] - 0s 50ms/step\n",
            "1434\n",
            "1/1 [==============================] - 0s 54ms/step\n",
            "1435\n",
            "1/1 [==============================] - 0s 51ms/step\n",
            "1436\n",
            "1/1 [==============================] - 0s 44ms/step\n",
            "1437\n",
            "1/1 [==============================] - 0s 46ms/step\n",
            "1438\n",
            "1/1 [==============================] - 0s 51ms/step\n",
            "1439\n",
            "1/1 [==============================] - 0s 57ms/step\n",
            "1440\n",
            "1/1 [==============================] - 0s 57ms/step\n",
            "1441\n",
            "1/1 [==============================] - 0s 53ms/step\n",
            "1442\n",
            "1/1 [==============================] - 0s 44ms/step\n",
            "1443\n",
            "1/1 [==============================] - 0s 58ms/step\n",
            "1444\n",
            "1/1 [==============================] - 0s 28ms/step\n",
            "1445\n",
            "1/1 [==============================] - 0s 30ms/step\n",
            "1446\n",
            "1/1 [==============================] - 0s 29ms/step\n",
            "1447\n",
            "1/1 [==============================] - 0s 29ms/step\n",
            "1448\n",
            "1/1 [==============================] - 0s 28ms/step\n",
            "1449\n",
            "1/1 [==============================] - 0s 29ms/step\n",
            "1450\n",
            "1/1 [==============================] - 0s 32ms/step\n",
            "1451\n",
            "1/1 [==============================] - 0s 29ms/step\n",
            "1452\n",
            "1/1 [==============================] - 0s 32ms/step\n",
            "1453\n",
            "1/1 [==============================] - 0s 29ms/step\n",
            "1454\n",
            "1/1 [==============================] - 0s 33ms/step\n",
            "1455\n",
            "1/1 [==============================] - 0s 30ms/step\n",
            "1456\n",
            "1/1 [==============================] - 0s 28ms/step\n",
            "1457\n",
            "1/1 [==============================] - 0s 39ms/step\n",
            "1458\n",
            "1/1 [==============================] - 0s 32ms/step\n",
            "1459\n",
            "1/1 [==============================] - 0s 28ms/step\n",
            "1460\n",
            "1/1 [==============================] - 0s 28ms/step\n",
            "1461\n",
            "1/1 [==============================] - 0s 30ms/step\n",
            "1462\n",
            "1/1 [==============================] - 0s 28ms/step\n",
            "1463\n",
            "1/1 [==============================] - 0s 30ms/step\n",
            "1464\n",
            "1/1 [==============================] - 0s 30ms/step\n",
            "1465\n",
            "1/1 [==============================] - 0s 38ms/step\n",
            "1466\n",
            "1/1 [==============================] - 0s 45ms/step\n",
            "1467\n",
            "1/1 [==============================] - 0s 48ms/step\n",
            "1468\n",
            "1/1 [==============================] - 0s 28ms/step\n",
            "1469\n",
            "1/1 [==============================] - 0s 33ms/step\n",
            "1470\n",
            "1/1 [==============================] - 0s 30ms/step\n",
            "1471\n",
            "1/1 [==============================] - 0s 28ms/step\n",
            "1472\n",
            "1/1 [==============================] - 0s 31ms/step\n",
            "1473\n",
            "1/1 [==============================] - 0s 35ms/step\n",
            "1474\n",
            "1/1 [==============================] - 0s 30ms/step\n",
            "1475\n",
            "1/1 [==============================] - 0s 36ms/step\n",
            "1476\n",
            "1/1 [==============================] - 0s 32ms/step\n",
            "1477\n",
            "1/1 [==============================] - 0s 30ms/step\n",
            "1478\n",
            "1/1 [==============================] - 0s 29ms/step\n",
            "1479\n",
            "1/1 [==============================] - 0s 29ms/step\n",
            "1480\n",
            "1/1 [==============================] - 0s 39ms/step\n",
            "1481\n",
            "1/1 [==============================] - 0s 30ms/step\n",
            "1482\n",
            "1/1 [==============================] - 0s 30ms/step\n",
            "1483\n",
            "1/1 [==============================] - 0s 32ms/step\n",
            "1484\n",
            "1/1 [==============================] - 0s 30ms/step\n",
            "1485\n",
            "1/1 [==============================] - 0s 28ms/step\n",
            "1486\n",
            "1/1 [==============================] - 0s 29ms/step\n",
            "1487\n",
            "1/1 [==============================] - 0s 28ms/step\n",
            "1488\n",
            "1/1 [==============================] - 0s 28ms/step\n",
            "1489\n",
            "1/1 [==============================] - 0s 27ms/step\n",
            "1490\n",
            "1/1 [==============================] - 0s 28ms/step\n",
            "1491\n",
            "1/1 [==============================] - 0s 31ms/step\n",
            "1492\n",
            "1/1 [==============================] - 0s 29ms/step\n",
            "1493\n",
            "1/1 [==============================] - 0s 33ms/step\n",
            "1494\n",
            "1/1 [==============================] - 0s 30ms/step\n",
            "1495\n",
            "1/1 [==============================] - 0s 29ms/step\n",
            "1496\n",
            "1/1 [==============================] - 0s 31ms/step\n",
            "1497\n",
            "1/1 [==============================] - 0s 46ms/step\n",
            "1498\n",
            "1/1 [==============================] - 0s 28ms/step\n",
            "1499\n",
            "1/1 [==============================] - 0s 27ms/step\n",
            "1500\n",
            "1/1 [==============================] - 0s 41ms/step\n",
            "1501\n",
            "1/1 [==============================] - 0s 34ms/step\n",
            "1502\n",
            "1/1 [==============================] - 0s 31ms/step\n",
            "1503\n",
            "1/1 [==============================] - 0s 31ms/step\n",
            "1504\n",
            "1/1 [==============================] - 0s 28ms/step\n",
            "1505\n",
            "1/1 [==============================] - 0s 34ms/step\n",
            "1506\n",
            "1/1 [==============================] - 0s 30ms/step\n",
            "1507\n",
            "1/1 [==============================] - 0s 30ms/step\n",
            "1508\n",
            "1/1 [==============================] - 0s 28ms/step\n",
            "1509\n",
            "1/1 [==============================] - 0s 27ms/step\n",
            "1510\n",
            "1/1 [==============================] - 0s 33ms/step\n",
            "1511\n",
            "1/1 [==============================] - 0s 29ms/step\n",
            "1512\n",
            "1/1 [==============================] - 0s 31ms/step\n",
            "1513\n",
            "1/1 [==============================] - 0s 30ms/step\n",
            "1514\n",
            "1/1 [==============================] - 0s 28ms/step\n",
            "1515\n",
            "1/1 [==============================] - 0s 27ms/step\n",
            "1516\n",
            "1/1 [==============================] - 0s 31ms/step\n",
            "1517\n",
            "1/1 [==============================] - 0s 30ms/step\n",
            "1518\n",
            "1/1 [==============================] - 0s 32ms/step\n",
            "1519\n",
            "1/1 [==============================] - 0s 29ms/step\n",
            "1520\n",
            "1/1 [==============================] - 0s 31ms/step\n",
            "1521\n",
            "1/1 [==============================] - 0s 29ms/step\n",
            "1522\n",
            "1/1 [==============================] - 0s 30ms/step\n",
            "1523\n",
            "1/1 [==============================] - 0s 29ms/step\n",
            "1524\n",
            "1/1 [==============================] - 0s 29ms/step\n",
            "1525\n",
            "1/1 [==============================] - 0s 27ms/step\n",
            "1526\n",
            "1/1 [==============================] - 0s 32ms/step\n",
            "1527\n",
            "1/1 [==============================] - 0s 32ms/step\n",
            "1528\n",
            "1/1 [==============================] - 0s 30ms/step\n",
            "1529\n",
            "1/1 [==============================] - 0s 31ms/step\n",
            "1530\n",
            "1/1 [==============================] - 0s 30ms/step\n",
            "1531\n",
            "1/1 [==============================] - 0s 30ms/step\n",
            "1532\n",
            "1/1 [==============================] - 0s 28ms/step\n",
            "1533\n",
            "1/1 [==============================] - 0s 29ms/step\n",
            "1534\n",
            "1/1 [==============================] - 0s 29ms/step\n",
            "1535\n",
            "1/1 [==============================] - 0s 45ms/step\n",
            "1536\n",
            "1/1 [==============================] - 0s 28ms/step\n",
            "1537\n",
            "1/1 [==============================] - 0s 30ms/step\n",
            "1538\n",
            "1/1 [==============================] - 0s 31ms/step\n",
            "1539\n",
            "1/1 [==============================] - 0s 30ms/step\n",
            "1540\n",
            "1/1 [==============================] - 0s 28ms/step\n",
            "1541\n",
            "1/1 [==============================] - 0s 31ms/step\n",
            "1542\n",
            "1/1 [==============================] - 0s 29ms/step\n",
            "1543\n",
            "1/1 [==============================] - 0s 37ms/step\n",
            "1544\n",
            "1/1 [==============================] - 0s 29ms/step\n",
            "1545\n",
            "1/1 [==============================] - 0s 28ms/step\n",
            "1546\n",
            "1/1 [==============================] - 0s 29ms/step\n",
            "1547\n",
            "1/1 [==============================] - 0s 46ms/step\n",
            "1548\n",
            "1/1 [==============================] - 0s 30ms/step\n",
            "1549\n",
            "1/1 [==============================] - 0s 28ms/step\n",
            "1550\n",
            "1/1 [==============================] - 0s 29ms/step\n",
            "1551\n",
            "1/1 [==============================] - 0s 29ms/step\n",
            "1552\n",
            "1/1 [==============================] - 0s 26ms/step\n",
            "1553\n",
            "1/1 [==============================] - 0s 32ms/step\n",
            "1554\n",
            "1/1 [==============================] - 0s 29ms/step\n",
            "1555\n",
            "1/1 [==============================] - 0s 28ms/step\n",
            "1556\n",
            "1/1 [==============================] - 0s 29ms/step\n",
            "1557\n",
            "1/1 [==============================] - 0s 47ms/step\n",
            "1558\n",
            "1/1 [==============================] - 0s 48ms/step\n",
            "1559\n",
            "1/1 [==============================] - 0s 61ms/step\n",
            "1560\n",
            "1/1 [==============================] - 0s 43ms/step\n",
            "1561\n",
            "1/1 [==============================] - 0s 43ms/step\n",
            "1562\n",
            "1/1 [==============================] - 0s 39ms/step\n",
            "1563\n",
            "1/1 [==============================] - 0s 47ms/step\n",
            "1564\n",
            "1/1 [==============================] - 0s 45ms/step\n",
            "1565\n",
            "1/1 [==============================] - 0s 45ms/step\n",
            "1566\n",
            "1/1 [==============================] - 0s 58ms/step\n",
            "1567\n",
            "1/1 [==============================] - 0s 46ms/step\n",
            "1568\n",
            "1/1 [==============================] - 0s 45ms/step\n",
            "1569\n",
            "1/1 [==============================] - 0s 53ms/step\n",
            "1570\n",
            "1/1 [==============================] - 0s 42ms/step\n",
            "1571\n",
            "1/1 [==============================] - 0s 42ms/step\n",
            "1572\n",
            "1/1 [==============================] - 0s 51ms/step\n",
            "1573\n",
            "1/1 [==============================] - 0s 53ms/step\n",
            "1574\n",
            "1/1 [==============================] - 0s 44ms/step\n",
            "1575\n",
            "1/1 [==============================] - 0s 48ms/step\n",
            "1576\n",
            "1/1 [==============================] - 0s 49ms/step\n",
            "1577\n",
            "1/1 [==============================] - 0s 43ms/step\n",
            "1578\n",
            "1/1 [==============================] - 0s 42ms/step\n",
            "1579\n",
            "1/1 [==============================] - 0s 41ms/step\n",
            "1580\n",
            "1/1 [==============================] - 0s 41ms/step\n",
            "1581\n",
            "1/1 [==============================] - 0s 43ms/step\n",
            "1582\n",
            "1/1 [==============================] - 0s 45ms/step\n",
            "1583\n",
            "1/1 [==============================] - 0s 44ms/step\n",
            "1584\n",
            "1/1 [==============================] - 0s 46ms/step\n",
            "1585\n",
            "1/1 [==============================] - 0s 42ms/step\n",
            "1586\n",
            "1/1 [==============================] - 0s 43ms/step\n",
            "1587\n",
            "1/1 [==============================] - 0s 45ms/step\n",
            "1588\n",
            "1/1 [==============================] - 0s 50ms/step\n",
            "1589\n",
            "1/1 [==============================] - 0s 48ms/step\n",
            "1590\n",
            "1/1 [==============================] - 0s 53ms/step\n",
            "1591\n",
            "1/1 [==============================] - 0s 52ms/step\n",
            "1592\n",
            "1/1 [==============================] - 0s 55ms/step\n",
            "1593\n",
            "1/1 [==============================] - 0s 52ms/step\n",
            "1594\n",
            "1/1 [==============================] - 0s 50ms/step\n",
            "1595\n",
            "1/1 [==============================] - 0s 50ms/step\n",
            "1596\n",
            "1/1 [==============================] - 0s 55ms/step\n",
            "1597\n",
            "1/1 [==============================] - 0s 47ms/step\n",
            "1598\n",
            "1/1 [==============================] - 0s 48ms/step\n",
            "1599\n",
            "1/1 [==============================] - 0s 47ms/step\n",
            "1600\n",
            "1/1 [==============================] - 0s 44ms/step\n",
            "1601\n",
            "1/1 [==============================] - 0s 47ms/step\n",
            "1602\n",
            "1/1 [==============================] - 0s 50ms/step\n",
            "1603\n",
            "1/1 [==============================] - 0s 50ms/step\n",
            "1604\n",
            "1/1 [==============================] - 0s 50ms/step\n",
            "1605\n",
            "1/1 [==============================] - 0s 68ms/step\n",
            "1606\n",
            "1/1 [==============================] - 0s 52ms/step\n",
            "1607\n",
            "1/1 [==============================] - 0s 46ms/step\n",
            "1608\n",
            "1/1 [==============================] - 0s 51ms/step\n",
            "1609\n",
            "1/1 [==============================] - 0s 53ms/step\n",
            "1610\n",
            "1/1 [==============================] - 0s 48ms/step\n",
            "1611\n",
            "1/1 [==============================] - 0s 50ms/step\n",
            "1612\n",
            "1/1 [==============================] - 0s 45ms/step\n",
            "1613\n",
            "1/1 [==============================] - 0s 47ms/step\n",
            "1614\n",
            "1/1 [==============================] - 0s 44ms/step\n",
            "1615\n",
            "1/1 [==============================] - 0s 52ms/step\n",
            "1616\n",
            "1/1 [==============================] - 0s 50ms/step\n",
            "1617\n",
            "1/1 [==============================] - 0s 47ms/step\n",
            "1618\n",
            "1/1 [==============================] - 0s 44ms/step\n",
            "1619\n",
            "1/1 [==============================] - 0s 59ms/step\n",
            "1620\n",
            "1/1 [==============================] - 0s 52ms/step\n",
            "1621\n",
            "1/1 [==============================] - 0s 30ms/step\n",
            "1622\n",
            "1/1 [==============================] - 0s 28ms/step\n",
            "1623\n",
            "1/1 [==============================] - 0s 29ms/step\n",
            "1624\n",
            "1/1 [==============================] - 0s 28ms/step\n",
            "1625\n",
            "1/1 [==============================] - 0s 29ms/step\n",
            "1626\n",
            "1/1 [==============================] - 0s 28ms/step\n",
            "1627\n",
            "1/1 [==============================] - 0s 28ms/step\n",
            "1628\n",
            "1/1 [==============================] - 0s 33ms/step\n",
            "1629\n",
            "1/1 [==============================] - 0s 29ms/step\n",
            "1630\n",
            "1/1 [==============================] - 0s 32ms/step\n",
            "1631\n",
            "1/1 [==============================] - 0s 28ms/step\n",
            "1632\n",
            "1/1 [==============================] - 0s 32ms/step\n",
            "1633\n",
            "1/1 [==============================] - 0s 28ms/step\n",
            "1634\n",
            "1/1 [==============================] - 0s 27ms/step\n",
            "1635\n",
            "1/1 [==============================] - 0s 29ms/step\n",
            "1636\n",
            "1/1 [==============================] - 0s 28ms/step\n",
            "1637\n",
            "1/1 [==============================] - 0s 29ms/step\n",
            "1638\n",
            "1/1 [==============================] - 0s 31ms/step\n",
            "1639\n",
            "1/1 [==============================] - 0s 28ms/step\n",
            "1640\n",
            "1/1 [==============================] - 0s 29ms/step\n",
            "1641\n",
            "1/1 [==============================] - 0s 28ms/step\n",
            "1642\n",
            "1/1 [==============================] - 0s 27ms/step\n",
            "1643\n",
            "1/1 [==============================] - 0s 29ms/step\n",
            "1644\n",
            "1/1 [==============================] - 0s 36ms/step\n",
            "1645\n",
            "1/1 [==============================] - 0s 28ms/step\n",
            "1646\n",
            "1/1 [==============================] - 0s 29ms/step\n",
            "1647\n",
            "1/1 [==============================] - 0s 29ms/step\n",
            "1648\n",
            "1/1 [==============================] - 0s 29ms/step\n",
            "1649\n",
            "1/1 [==============================] - 0s 28ms/step\n",
            "1650\n",
            "1/1 [==============================] - 0s 29ms/step\n",
            "1651\n",
            "1/1 [==============================] - 0s 27ms/step\n",
            "1652\n",
            "1/1 [==============================] - 0s 30ms/step\n",
            "1653\n",
            "1/1 [==============================] - 0s 37ms/step\n",
            "1654\n",
            "1/1 [==============================] - 0s 37ms/step\n",
            "1655\n",
            "1/1 [==============================] - 0s 27ms/step\n",
            "1656\n",
            "1/1 [==============================] - 0s 33ms/step\n",
            "1657\n",
            "1/1 [==============================] - 0s 30ms/step\n",
            "1658\n",
            "1/1 [==============================] - 0s 28ms/step\n",
            "1659\n",
            "1/1 [==============================] - 0s 28ms/step\n",
            "1660\n",
            "1/1 [==============================] - 0s 31ms/step\n",
            "1661\n",
            "1/1 [==============================] - 0s 31ms/step\n",
            "1662\n",
            "1/1 [==============================] - 0s 29ms/step\n",
            "1663\n",
            "1/1 [==============================] - 0s 31ms/step\n",
            "1664\n",
            "1/1 [==============================] - 0s 27ms/step\n",
            "1665\n",
            "1/1 [==============================] - 0s 28ms/step\n",
            "1666\n",
            "1/1 [==============================] - 0s 27ms/step\n",
            "1667\n",
            "1/1 [==============================] - 0s 28ms/step\n",
            "1668\n",
            "1/1 [==============================] - 0s 32ms/step\n",
            "1669\n",
            "1/1 [==============================] - 0s 33ms/step\n",
            "1670\n",
            "1/1 [==============================] - 0s 31ms/step\n",
            "1671\n",
            "1/1 [==============================] - 0s 30ms/step\n",
            "1672\n",
            "1/1 [==============================] - 0s 29ms/step\n",
            "1673\n",
            "1/1 [==============================] - 0s 28ms/step\n",
            "1674\n",
            "1/1 [==============================] - 0s 29ms/step\n",
            "1675\n",
            "1/1 [==============================] - 0s 27ms/step\n",
            "1676\n",
            "1/1 [==============================] - 0s 32ms/step\n",
            "1677\n",
            "1/1 [==============================] - 0s 30ms/step\n",
            "1678\n",
            "1/1 [==============================] - 0s 36ms/step\n",
            "1679\n",
            "1/1 [==============================] - 0s 31ms/step\n",
            "1680\n",
            "1/1 [==============================] - 0s 27ms/step\n",
            "1681\n",
            "1/1 [==============================] - 0s 30ms/step\n",
            "1682\n",
            "1/1 [==============================] - 0s 33ms/step\n",
            "1683\n",
            "1/1 [==============================] - 0s 28ms/step\n",
            "1684\n",
            "1/1 [==============================] - 0s 31ms/step\n",
            "1685\n",
            "1/1 [==============================] - 0s 29ms/step\n",
            "1686\n",
            "1/1 [==============================] - 0s 27ms/step\n",
            "1687\n",
            "1/1 [==============================] - 0s 29ms/step\n",
            "1688\n",
            "1/1 [==============================] - 0s 31ms/step\n",
            "1689\n",
            "1/1 [==============================] - 0s 29ms/step\n",
            "1690\n",
            "1/1 [==============================] - 0s 38ms/step\n",
            "1691\n",
            "1/1 [==============================] - 0s 28ms/step\n",
            "1692\n",
            "1/1 [==============================] - 0s 30ms/step\n",
            "1693\n",
            "1/1 [==============================] - 0s 28ms/step\n",
            "1694\n",
            "1/1 [==============================] - 0s 29ms/step\n",
            "1695\n",
            "1/1 [==============================] - 0s 28ms/step\n",
            "1696\n",
            "1/1 [==============================] - 0s 28ms/step\n",
            "1697\n",
            "1/1 [==============================] - 0s 28ms/step\n",
            "1698\n",
            "1/1 [==============================] - 0s 30ms/step\n",
            "1699\n",
            "1/1 [==============================] - 0s 29ms/step\n",
            "1700\n",
            "1/1 [==============================] - 0s 26ms/step\n",
            "1701\n",
            "1/1 [==============================] - 0s 27ms/step\n",
            "1702\n",
            "1/1 [==============================] - 0s 28ms/step\n",
            "1703\n",
            "1/1 [==============================] - 0s 40ms/step\n",
            "1704\n",
            "1/1 [==============================] - 0s 29ms/step\n",
            "1705\n",
            "1/1 [==============================] - 0s 28ms/step\n",
            "1706\n",
            "1/1 [==============================] - 0s 29ms/step\n",
            "1707\n",
            "1/1 [==============================] - 0s 28ms/step\n",
            "1708\n",
            "1/1 [==============================] - 0s 29ms/step\n",
            "1709\n",
            "1/1 [==============================] - 0s 30ms/step\n",
            "1710\n",
            "1/1 [==============================] - 0s 33ms/step\n",
            "1711\n",
            "1/1 [==============================] - 0s 28ms/step\n",
            "1712\n",
            "1/1 [==============================] - 0s 27ms/step\n",
            "1713\n",
            "1/1 [==============================] - 0s 32ms/step\n",
            "1714\n",
            "1/1 [==============================] - 0s 38ms/step\n",
            "1715\n",
            "1/1 [==============================] - 0s 29ms/step\n",
            "1716\n",
            "1/1 [==============================] - 0s 29ms/step\n",
            "1717\n",
            "1/1 [==============================] - 0s 31ms/step\n",
            "1718\n",
            "1/1 [==============================] - 0s 29ms/step\n",
            "1719\n",
            "1/1 [==============================] - 0s 33ms/step\n",
            "1720\n",
            "1/1 [==============================] - 0s 32ms/step\n",
            "1721\n",
            "1/1 [==============================] - 0s 28ms/step\n",
            "1722\n",
            "1/1 [==============================] - 0s 36ms/step\n",
            "1723\n",
            "1/1 [==============================] - 0s 32ms/step\n",
            "1724\n",
            "1/1 [==============================] - 0s 29ms/step\n",
            "1725\n",
            "1/1 [==============================] - 0s 30ms/step\n",
            "1726\n",
            "1/1 [==============================] - 0s 36ms/step\n",
            "1727\n",
            "1/1 [==============================] - 0s 28ms/step\n",
            "1728\n",
            "1/1 [==============================] - 0s 36ms/step\n",
            "1729\n",
            "1/1 [==============================] - 0s 30ms/step\n",
            "1730\n",
            "1/1 [==============================] - 0s 38ms/step\n",
            "1731\n",
            "1/1 [==============================] - 0s 31ms/step\n",
            "1732\n",
            "1/1 [==============================] - 0s 33ms/step\n",
            "1733\n",
            "1/1 [==============================] - 0s 28ms/step\n",
            "1734\n",
            "1/1 [==============================] - 0s 29ms/step\n",
            "1735\n",
            "1/1 [==============================] - 0s 27ms/step\n",
            "1736\n",
            "1/1 [==============================] - 0s 28ms/step\n",
            "1737\n",
            "1/1 [==============================] - 0s 44ms/step\n",
            "1738\n",
            "1/1 [==============================] - 0s 51ms/step\n",
            "1739\n",
            "1/1 [==============================] - 0s 47ms/step\n",
            "1740\n",
            "1/1 [==============================] - 0s 42ms/step\n",
            "1741\n",
            "1/1 [==============================] - 0s 61ms/step\n",
            "1742\n",
            "1/1 [==============================] - 0s 46ms/step\n",
            "1743\n",
            "1/1 [==============================] - 0s 47ms/step\n",
            "1744\n",
            "1/1 [==============================] - 0s 54ms/step\n",
            "1745\n",
            "1/1 [==============================] - 0s 56ms/step\n",
            "1746\n",
            "1/1 [==============================] - 0s 50ms/step\n",
            "1747\n",
            "1/1 [==============================] - 0s 50ms/step\n",
            "1748\n",
            "1/1 [==============================] - 0s 45ms/step\n",
            "1749\n",
            "1/1 [==============================] - 0s 48ms/step\n",
            "1750\n",
            "1/1 [==============================] - 0s 43ms/step\n",
            "1751\n",
            "1/1 [==============================] - 0s 44ms/step\n",
            "1752\n",
            "1/1 [==============================] - 0s 45ms/step\n",
            "1753\n",
            "1/1 [==============================] - 0s 44ms/step\n",
            "1754\n",
            "1/1 [==============================] - 0s 51ms/step\n",
            "1755\n",
            "1/1 [==============================] - 0s 59ms/step\n",
            "1756\n",
            "1/1 [==============================] - 0s 53ms/step\n",
            "1757\n",
            "1/1 [==============================] - 0s 46ms/step\n",
            "1758\n",
            "1/1 [==============================] - 0s 47ms/step\n",
            "1759\n",
            "1/1 [==============================] - 0s 45ms/step\n",
            "1760\n",
            "1/1 [==============================] - 0s 43ms/step\n",
            "1761\n",
            "1/1 [==============================] - 0s 47ms/step\n",
            "1762\n",
            "1/1 [==============================] - 0s 48ms/step\n",
            "1763\n",
            "1/1 [==============================] - 0s 46ms/step\n",
            "1764\n",
            "1/1 [==============================] - 0s 44ms/step\n",
            "1765\n",
            "1/1 [==============================] - 0s 48ms/step\n",
            "1766\n",
            "1/1 [==============================] - 0s 53ms/step\n",
            "1767\n",
            "1/1 [==============================] - 0s 41ms/step\n",
            "1768\n",
            "1/1 [==============================] - 0s 48ms/step\n",
            "1769\n",
            "1/1 [==============================] - 0s 46ms/step\n",
            "1770\n",
            "1/1 [==============================] - 0s 52ms/step\n",
            "1771\n",
            "1/1 [==============================] - 0s 68ms/step\n",
            "1772\n",
            "1/1 [==============================] - 0s 45ms/step\n",
            "1773\n",
            "1/1 [==============================] - 0s 51ms/step\n",
            "1774\n",
            "1/1 [==============================] - 0s 57ms/step\n",
            "1775\n",
            "1/1 [==============================] - 0s 44ms/step\n",
            "1776\n",
            "1/1 [==============================] - 0s 53ms/step\n",
            "1777\n",
            "1/1 [==============================] - 0s 53ms/step\n",
            "1778\n",
            "1/1 [==============================] - 0s 53ms/step\n",
            "1779\n",
            "1/1 [==============================] - 0s 56ms/step\n",
            "1780\n",
            "1/1 [==============================] - 0s 50ms/step\n",
            "1781\n",
            "1/1 [==============================] - 0s 49ms/step\n",
            "1782\n",
            "1/1 [==============================] - 0s 45ms/step\n",
            "1783\n",
            "1/1 [==============================] - 0s 49ms/step\n",
            "1784\n",
            "1/1 [==============================] - 0s 52ms/step\n",
            "1785\n",
            "1/1 [==============================] - 0s 50ms/step\n",
            "1786\n",
            "1/1 [==============================] - 0s 50ms/step\n",
            "1787\n",
            "1/1 [==============================] - 0s 51ms/step\n",
            "1788\n",
            "1/1 [==============================] - 0s 51ms/step\n",
            "1789\n",
            "1/1 [==============================] - 0s 67ms/step\n",
            "1790\n",
            "1/1 [==============================] - 0s 50ms/step\n",
            "1791\n",
            "1/1 [==============================] - 0s 53ms/step\n",
            "1792\n",
            "1/1 [==============================] - 0s 58ms/step\n",
            "1793\n",
            "1/1 [==============================] - 0s 49ms/step\n",
            "1794\n",
            "1/1 [==============================] - 0s 68ms/step\n",
            "1795\n",
            "1/1 [==============================] - 0s 50ms/step\n",
            "1796\n",
            "1/1 [==============================] - 0s 33ms/step\n",
            "1797\n",
            "1/1 [==============================] - 0s 27ms/step\n",
            "1798\n",
            "1/1 [==============================] - 0s 30ms/step\n",
            "1799\n",
            "1/1 [==============================] - 0s 28ms/step\n",
            "1800\n",
            "1/1 [==============================] - 0s 30ms/step\n",
            "1801\n",
            "1/1 [==============================] - 0s 29ms/step\n",
            "1802\n",
            "1/1 [==============================] - 0s 29ms/step\n",
            "1803\n",
            "1/1 [==============================] - 0s 27ms/step\n",
            "1804\n",
            "1/1 [==============================] - 0s 28ms/step\n",
            "1805\n",
            "1/1 [==============================] - 0s 41ms/step\n",
            "1806\n",
            "1/1 [==============================] - 0s 31ms/step\n",
            "1807\n",
            "1/1 [==============================] - 0s 41ms/step\n",
            "1808\n",
            "1/1 [==============================] - 0s 36ms/step\n",
            "1809\n",
            "1/1 [==============================] - 0s 29ms/step\n",
            "1810\n",
            "1/1 [==============================] - 0s 28ms/step\n",
            "1811\n",
            "1/1 [==============================] - 0s 38ms/step\n",
            "1812\n",
            "1/1 [==============================] - 0s 28ms/step\n",
            "1813\n",
            "1/1 [==============================] - 0s 31ms/step\n",
            "1814\n",
            "1/1 [==============================] - 0s 28ms/step\n",
            "1815\n",
            "1/1 [==============================] - 0s 28ms/step\n",
            "1816\n",
            "1/1 [==============================] - 0s 30ms/step\n",
            "1817\n",
            "1/1 [==============================] - 0s 28ms/step\n",
            "1818\n",
            "1/1 [==============================] - 0s 30ms/step\n",
            "1819\n",
            "1/1 [==============================] - 0s 29ms/step\n",
            "1820\n",
            "1/1 [==============================] - 0s 30ms/step\n",
            "1821\n",
            "1/1 [==============================] - 0s 28ms/step\n",
            "1822\n",
            "1/1 [==============================] - 0s 36ms/step\n",
            "1823\n",
            "1/1 [==============================] - 0s 32ms/step\n",
            "1824\n",
            "1/1 [==============================] - 0s 28ms/step\n",
            "1825\n",
            "1/1 [==============================] - 0s 27ms/step\n",
            "1826\n",
            "1/1 [==============================] - 0s 29ms/step\n",
            "1827\n",
            "1/1 [==============================] - 0s 28ms/step\n",
            "1828\n",
            "1/1 [==============================] - 0s 30ms/step\n",
            "1829\n",
            "1/1 [==============================] - 0s 30ms/step\n",
            "1830\n",
            "1/1 [==============================] - 0s 27ms/step\n",
            "1831\n",
            "1/1 [==============================] - 0s 31ms/step\n",
            "1832\n",
            "1/1 [==============================] - 0s 29ms/step\n",
            "1833\n",
            "1/1 [==============================] - 0s 29ms/step\n",
            "1834\n",
            "1/1 [==============================] - 0s 29ms/step\n",
            "1835\n",
            "1/1 [==============================] - 0s 27ms/step\n",
            "1836\n",
            "1/1 [==============================] - 0s 30ms/step\n",
            "1837\n",
            "1/1 [==============================] - 0s 32ms/step\n",
            "1838\n",
            "1/1 [==============================] - 0s 29ms/step\n",
            "1839\n",
            "1/1 [==============================] - 0s 30ms/step\n",
            "1840\n",
            "1/1 [==============================] - 0s 29ms/step\n",
            "1841\n",
            "1/1 [==============================] - 0s 28ms/step\n",
            "1842\n",
            "1/1 [==============================] - 0s 29ms/step\n",
            "1843\n",
            "1/1 [==============================] - 0s 30ms/step\n",
            "1844\n",
            "1/1 [==============================] - 0s 27ms/step\n",
            "1845\n",
            "1/1 [==============================] - 0s 28ms/step\n",
            "1846\n",
            "1/1 [==============================] - 0s 28ms/step\n",
            "1847\n",
            "1/1 [==============================] - 0s 28ms/step\n",
            "1848\n",
            "1/1 [==============================] - 0s 29ms/step\n",
            "1849\n",
            "1/1 [==============================] - 0s 29ms/step\n",
            "1850\n",
            "1/1 [==============================] - 0s 29ms/step\n",
            "1851\n",
            "1/1 [==============================] - 0s 29ms/step\n",
            "1852\n",
            "1/1 [==============================] - 0s 34ms/step\n",
            "1853\n",
            "1/1 [==============================] - 0s 28ms/step\n",
            "1854\n",
            "1/1 [==============================] - 0s 36ms/step\n",
            "1855\n",
            "1/1 [==============================] - 0s 35ms/step\n",
            "1856\n",
            "1/1 [==============================] - 0s 32ms/step\n",
            "1857\n",
            "1/1 [==============================] - 0s 29ms/step\n",
            "1858\n",
            "1/1 [==============================] - 0s 30ms/step\n",
            "1859\n",
            "1/1 [==============================] - 0s 28ms/step\n",
            "1860\n",
            "1/1 [==============================] - 0s 37ms/step\n",
            "1861\n",
            "1/1 [==============================] - 0s 32ms/step\n",
            "1862\n",
            "1/1 [==============================] - 0s 37ms/step\n",
            "1863\n",
            "1/1 [==============================] - 0s 34ms/step\n",
            "1864\n",
            "1/1 [==============================] - 0s 32ms/step\n",
            "1865\n",
            "1/1 [==============================] - 0s 29ms/step\n",
            "1866\n",
            "1/1 [==============================] - 0s 28ms/step\n",
            "1867\n",
            "1/1 [==============================] - 0s 38ms/step\n",
            "1868\n",
            "1/1 [==============================] - 0s 37ms/step\n",
            "1869\n",
            "1/1 [==============================] - 0s 29ms/step\n",
            "1870\n",
            "1/1 [==============================] - 0s 29ms/step\n",
            "1871\n",
            "1/1 [==============================] - 0s 28ms/step\n",
            "1872\n",
            "1/1 [==============================] - 0s 28ms/step\n",
            "1873\n",
            "1/1 [==============================] - 0s 35ms/step\n",
            "1874\n",
            "1/1 [==============================] - 0s 28ms/step\n",
            "1875\n",
            "1/1 [==============================] - 0s 30ms/step\n",
            "1876\n",
            "1/1 [==============================] - 0s 29ms/step\n",
            "1877\n",
            "1/1 [==============================] - 0s 29ms/step\n",
            "1878\n",
            "1/1 [==============================] - 0s 28ms/step\n",
            "1879\n",
            "1/1 [==============================] - 0s 28ms/step\n",
            "1880\n",
            "1/1 [==============================] - 0s 33ms/step\n",
            "1881\n",
            "1/1 [==============================] - 0s 30ms/step\n",
            "1882\n",
            "1/1 [==============================] - 0s 28ms/step\n",
            "1883\n",
            "1/1 [==============================] - 0s 32ms/step\n",
            "1884\n",
            "1/1 [==============================] - 0s 39ms/step\n",
            "1885\n",
            "1/1 [==============================] - 0s 29ms/step\n",
            "1886\n",
            "1/1 [==============================] - 0s 28ms/step\n",
            "1887\n",
            "1/1 [==============================] - 0s 28ms/step\n",
            "1888\n",
            "1/1 [==============================] - 0s 29ms/step\n",
            "1889\n",
            "1/1 [==============================] - 0s 32ms/step\n",
            "1890\n",
            "1/1 [==============================] - 0s 30ms/step\n",
            "1891\n",
            "1/1 [==============================] - 0s 29ms/step\n",
            "1892\n",
            "1/1 [==============================] - 0s 32ms/step\n",
            "1893\n",
            "1/1 [==============================] - 0s 29ms/step\n",
            "1894\n",
            "1/1 [==============================] - 0s 32ms/step\n",
            "1895\n",
            "1/1 [==============================] - 0s 29ms/step\n",
            "1896\n",
            "1/1 [==============================] - 0s 31ms/step\n",
            "1897\n",
            "1/1 [==============================] - 0s 27ms/step\n",
            "1898\n",
            "1/1 [==============================] - 0s 32ms/step\n",
            "1899\n",
            "1/1 [==============================] - 0s 30ms/step\n",
            "1900\n",
            "1/1 [==============================] - 0s 28ms/step\n",
            "1901\n",
            "1/1 [==============================] - 0s 27ms/step\n",
            "1902\n",
            "1/1 [==============================] - 0s 31ms/step\n",
            "1903\n",
            "1/1 [==============================] - 0s 30ms/step\n",
            "1904\n",
            "1/1 [==============================] - 0s 28ms/step\n",
            "1905\n",
            "1/1 [==============================] - 0s 34ms/step\n",
            "1906\n",
            "1/1 [==============================] - 0s 48ms/step\n",
            "1907\n",
            "1/1 [==============================] - 0s 45ms/step\n",
            "1908\n",
            "1/1 [==============================] - 0s 51ms/step\n",
            "1909\n",
            "1/1 [==============================] - 0s 40ms/step\n",
            "1910\n",
            "1/1 [==============================] - 0s 61ms/step\n",
            "1911\n",
            "1/1 [==============================] - 0s 40ms/step\n",
            "1912\n",
            "1/1 [==============================] - 0s 41ms/step\n",
            "1913\n",
            "1/1 [==============================] - 0s 47ms/step\n",
            "1914\n",
            "1/1 [==============================] - 0s 44ms/step\n",
            "1915\n",
            "1/1 [==============================] - 0s 57ms/step\n",
            "1916\n",
            "1/1 [==============================] - 0s 46ms/step\n",
            "1917\n",
            "1/1 [==============================] - 0s 43ms/step\n",
            "1918\n",
            "1/1 [==============================] - 0s 58ms/step\n",
            "1919\n",
            "1/1 [==============================] - 0s 44ms/step\n",
            "1920\n",
            "1/1 [==============================] - 0s 61ms/step\n",
            "1921\n",
            "1/1 [==============================] - 0s 41ms/step\n",
            "1922\n",
            "1/1 [==============================] - 0s 50ms/step\n",
            "1923\n",
            "1/1 [==============================] - 0s 49ms/step\n",
            "1924\n",
            "1/1 [==============================] - 0s 65ms/step\n",
            "1925\n",
            "1/1 [==============================] - 0s 41ms/step\n",
            "1926\n",
            "1/1 [==============================] - 0s 42ms/step\n",
            "1927\n",
            "1/1 [==============================] - 0s 43ms/step\n",
            "1928\n",
            "1/1 [==============================] - 0s 45ms/step\n",
            "1929\n",
            "1/1 [==============================] - 0s 66ms/step\n",
            "1930\n",
            "1/1 [==============================] - 0s 61ms/step\n",
            "1931\n",
            "1/1 [==============================] - 0s 42ms/step\n",
            "1932\n",
            "1/1 [==============================] - 0s 62ms/step\n",
            "1933\n",
            "1/1 [==============================] - 0s 55ms/step\n",
            "1934\n",
            "1/1 [==============================] - 0s 55ms/step\n",
            "1935\n",
            "1/1 [==============================] - 0s 47ms/step\n",
            "1936\n",
            "1/1 [==============================] - 0s 61ms/step\n",
            "1937\n",
            "1/1 [==============================] - 0s 50ms/step\n",
            "1938\n",
            "1/1 [==============================] - 0s 54ms/step\n",
            "1939\n",
            "1/1 [==============================] - 0s 55ms/step\n",
            "1940\n",
            "1/1 [==============================] - 0s 47ms/step\n",
            "1941\n",
            "1/1 [==============================] - 0s 56ms/step\n",
            "1942\n",
            "1/1 [==============================] - 0s 49ms/step\n",
            "1943\n",
            "1/1 [==============================] - 0s 47ms/step\n",
            "1944\n",
            "1/1 [==============================] - 0s 55ms/step\n",
            "1945\n",
            "1/1 [==============================] - 0s 49ms/step\n",
            "1946\n",
            "1/1 [==============================] - 0s 45ms/step\n",
            "1947\n",
            "1/1 [==============================] - 0s 57ms/step\n",
            "1948\n",
            "1/1 [==============================] - 0s 45ms/step\n",
            "1949\n",
            "1/1 [==============================] - 0s 55ms/step\n",
            "1950\n",
            "1/1 [==============================] - 0s 50ms/step\n",
            "1951\n",
            "1/1 [==============================] - 0s 48ms/step\n",
            "1952\n",
            "1/1 [==============================] - 0s 46ms/step\n",
            "1953\n",
            "1/1 [==============================] - 0s 43ms/step\n",
            "1954\n",
            "1/1 [==============================] - 0s 46ms/step\n",
            "1955\n",
            "1/1 [==============================] - 0s 56ms/step\n",
            "1956\n",
            "1/1 [==============================] - 0s 56ms/step\n",
            "1957\n",
            "1/1 [==============================] - 0s 47ms/step\n",
            "1958\n",
            "1/1 [==============================] - 0s 51ms/step\n",
            "1959\n",
            "1/1 [==============================] - 0s 45ms/step\n",
            "1960\n",
            "1/1 [==============================] - 0s 54ms/step\n",
            "1961\n",
            "1/1 [==============================] - 0s 55ms/step\n",
            "1962\n",
            "1/1 [==============================] - 0s 48ms/step\n",
            "1963\n",
            "1/1 [==============================] - 0s 47ms/step\n",
            "1964\n",
            "1/1 [==============================] - 0s 46ms/step\n",
            "1965\n",
            "1/1 [==============================] - 0s 46ms/step\n",
            "1966\n",
            "1/1 [==============================] - 0s 50ms/step\n",
            "1967\n",
            "1/1 [==============================] - 0s 46ms/step\n",
            "1968\n",
            "1/1 [==============================] - 0s 31ms/step\n",
            "1969\n",
            "1/1 [==============================] - 0s 28ms/step\n",
            "1970\n",
            "1/1 [==============================] - 0s 33ms/step\n",
            "1971\n",
            "1/1 [==============================] - 0s 27ms/step\n",
            "1972\n",
            "1/1 [==============================] - 0s 27ms/step\n",
            "1973\n",
            "1/1 [==============================] - 0s 43ms/step\n",
            "1974\n",
            "1/1 [==============================] - 0s 32ms/step\n",
            "1975\n",
            "1/1 [==============================] - 0s 28ms/step\n",
            "1976\n",
            "1/1 [==============================] - 0s 30ms/step\n",
            "1977\n",
            "1/1 [==============================] - 0s 28ms/step\n",
            "1978\n",
            "1/1 [==============================] - 0s 28ms/step\n",
            "1979\n",
            "1/1 [==============================] - 0s 33ms/step\n",
            "1980\n",
            "1/1 [==============================] - 0s 29ms/step\n",
            "1981\n",
            "1/1 [==============================] - 0s 38ms/step\n",
            "1982\n",
            "1/1 [==============================] - 0s 31ms/step\n",
            "1983\n",
            "1/1 [==============================] - 0s 33ms/step\n",
            "1984\n",
            "1/1 [==============================] - 0s 38ms/step\n",
            "1985\n",
            "1/1 [==============================] - 0s 29ms/step\n",
            "1986\n",
            "1/1 [==============================] - 0s 29ms/step\n",
            "1987\n",
            "1/1 [==============================] - 0s 32ms/step\n",
            "1988\n",
            "1/1 [==============================] - 0s 29ms/step\n",
            "1989\n",
            "1/1 [==============================] - 0s 29ms/step\n",
            "1990\n",
            "1/1 [==============================] - 0s 29ms/step\n",
            "1991\n",
            "1/1 [==============================] - 0s 29ms/step\n",
            "1992\n",
            "1/1 [==============================] - 0s 31ms/step\n",
            "1993\n",
            "1/1 [==============================] - 0s 38ms/step\n",
            "1994\n",
            "1/1 [==============================] - 0s 28ms/step\n",
            "1995\n",
            "1/1 [==============================] - 0s 30ms/step\n",
            "1996\n",
            "1/1 [==============================] - 0s 35ms/step\n",
            "1997\n",
            "1/1 [==============================] - 0s 29ms/step\n",
            "1998\n",
            "1/1 [==============================] - 0s 27ms/step\n",
            "1999\n",
            "1/1 [==============================] - 0s 28ms/step\n",
            "2000\n",
            "1/1 [==============================] - 0s 28ms/step\n",
            "2001\n",
            "1/1 [==============================] - 0s 34ms/step\n",
            "2002\n",
            "1/1 [==============================] - 0s 36ms/step\n",
            "2003\n",
            "1/1 [==============================] - 0s 34ms/step\n",
            "2004\n",
            "1/1 [==============================] - 0s 28ms/step\n",
            "2005\n",
            "1/1 [==============================] - 0s 34ms/step\n",
            "2006\n",
            "1/1 [==============================] - 0s 43ms/step\n",
            "2007\n",
            "1/1 [==============================] - 0s 35ms/step\n",
            "2008\n",
            "1/1 [==============================] - 0s 29ms/step\n",
            "2009\n",
            "1/1 [==============================] - 0s 30ms/step\n",
            "2010\n",
            "1/1 [==============================] - 0s 31ms/step\n",
            "2011\n",
            "1/1 [==============================] - 0s 31ms/step\n",
            "2012\n",
            "1/1 [==============================] - 0s 40ms/step\n",
            "2013\n",
            "1/1 [==============================] - 0s 30ms/step\n",
            "2014\n",
            "1/1 [==============================] - 0s 28ms/step\n",
            "2015\n",
            "1/1 [==============================] - 0s 30ms/step\n",
            "2016\n",
            "1/1 [==============================] - 0s 30ms/step\n",
            "2017\n",
            "1/1 [==============================] - 0s 31ms/step\n",
            "2018\n",
            "1/1 [==============================] - 0s 29ms/step\n",
            "2019\n",
            "1/1 [==============================] - 0s 29ms/step\n",
            "2020\n",
            "1/1 [==============================] - 0s 30ms/step\n",
            "2021\n",
            "1/1 [==============================] - 0s 29ms/step\n",
            "2022\n",
            "1/1 [==============================] - 0s 28ms/step\n",
            "2023\n",
            "1/1 [==============================] - 0s 30ms/step\n",
            "2024\n",
            "1/1 [==============================] - 0s 29ms/step\n",
            "2025\n",
            "1/1 [==============================] - 0s 29ms/step\n",
            "2026\n",
            "1/1 [==============================] - 0s 30ms/step\n",
            "2027\n",
            "1/1 [==============================] - 0s 29ms/step\n",
            "2028\n",
            "1/1 [==============================] - 0s 38ms/step\n",
            "2029\n",
            "1/1 [==============================] - 0s 30ms/step\n",
            "2030\n",
            "1/1 [==============================] - 0s 29ms/step\n",
            "2031\n",
            "1/1 [==============================] - 0s 28ms/step\n",
            "2032\n",
            "1/1 [==============================] - 0s 27ms/step\n",
            "2033\n",
            "1/1 [==============================] - 0s 29ms/step\n",
            "2034\n",
            "1/1 [==============================] - 0s 31ms/step\n",
            "2035\n",
            "1/1 [==============================] - 0s 29ms/step\n",
            "2036\n",
            "1/1 [==============================] - 0s 29ms/step\n",
            "2037\n",
            "1/1 [==============================] - 0s 46ms/step\n",
            "2038\n",
            "1/1 [==============================] - 0s 29ms/step\n",
            "2039\n",
            "1/1 [==============================] - 0s 29ms/step\n",
            "2040\n",
            "1/1 [==============================] - 0s 31ms/step\n",
            "2041\n",
            "1/1 [==============================] - 0s 28ms/step\n",
            "2042\n",
            "1/1 [==============================] - 0s 29ms/step\n",
            "2043\n",
            "1/1 [==============================] - 0s 30ms/step\n",
            "2044\n",
            "1/1 [==============================] - 0s 42ms/step\n",
            "2045\n",
            "1/1 [==============================] - 0s 37ms/step\n",
            "2046\n",
            "1/1 [==============================] - 0s 34ms/step\n",
            "2047\n",
            "1/1 [==============================] - 0s 30ms/step\n",
            "2048\n",
            "1/1 [==============================] - 0s 30ms/step\n",
            "2049\n",
            "1/1 [==============================] - 0s 29ms/step\n",
            "2050\n",
            "1/1 [==============================] - 0s 31ms/step\n",
            "2051\n",
            "1/1 [==============================] - 0s 32ms/step\n",
            "2052\n",
            "1/1 [==============================] - 0s 29ms/step\n",
            "2053\n",
            "1/1 [==============================] - 0s 28ms/step\n",
            "2054\n",
            "1/1 [==============================] - 0s 30ms/step\n",
            "2055\n",
            "1/1 [==============================] - 0s 29ms/step\n",
            "2056\n",
            "1/1 [==============================] - 0s 30ms/step\n",
            "2057\n",
            "1/1 [==============================] - 0s 29ms/step\n",
            "2058\n",
            "1/1 [==============================] - 0s 30ms/step\n",
            "2059\n",
            "1/1 [==============================] - 0s 30ms/step\n",
            "2060\n",
            "1/1 [==============================] - 0s 27ms/step\n",
            "2061\n",
            "1/1 [==============================] - 0s 27ms/step\n",
            "2062\n",
            "1/1 [==============================] - 0s 30ms/step\n",
            "2063\n",
            "1/1 [==============================] - 0s 39ms/step\n",
            "2064\n",
            "1/1 [==============================] - 0s 28ms/step\n",
            "2065\n",
            "1/1 [==============================] - 0s 36ms/step\n",
            "2066\n",
            "1/1 [==============================] - 0s 27ms/step\n",
            "2067\n",
            "1/1 [==============================] - 0s 29ms/step\n",
            "2068\n",
            "1/1 [==============================] - 0s 34ms/step\n",
            "2069\n",
            "1/1 [==============================] - 0s 29ms/step\n",
            "2070\n",
            "1/1 [==============================] - 0s 32ms/step\n",
            "2071\n",
            "1/1 [==============================] - 0s 33ms/step\n",
            "2072\n",
            "1/1 [==============================] - 0s 33ms/step\n",
            "2073\n",
            "1/1 [==============================] - 0s 28ms/step\n",
            "2074\n",
            "1/1 [==============================] - 0s 28ms/step\n",
            "2075\n",
            "1/1 [==============================] - 0s 29ms/step\n",
            "2076\n",
            "1/1 [==============================] - 0s 43ms/step\n",
            "2077\n",
            "1/1 [==============================] - 0s 46ms/step\n",
            "2078\n",
            "1/1 [==============================] - 0s 41ms/step\n",
            "2079\n",
            "1/1 [==============================] - 0s 43ms/step\n",
            "2080\n",
            "1/1 [==============================] - 0s 42ms/step\n",
            "2081\n",
            "1/1 [==============================] - 0s 44ms/step\n",
            "2082\n",
            "1/1 [==============================] - 0s 48ms/step\n",
            "2083\n",
            "1/1 [==============================] - 0s 42ms/step\n",
            "2084\n",
            "1/1 [==============================] - 0s 50ms/step\n",
            "2085\n",
            "1/1 [==============================] - 0s 58ms/step\n",
            "2086\n",
            "1/1 [==============================] - 0s 50ms/step\n",
            "2087\n",
            "1/1 [==============================] - 0s 63ms/step\n",
            "2088\n",
            "1/1 [==============================] - 0s 47ms/step\n",
            "2089\n",
            "1/1 [==============================] - 0s 45ms/step\n",
            "2090\n",
            "1/1 [==============================] - 0s 54ms/step\n",
            "2091\n",
            "1/1 [==============================] - 0s 49ms/step\n",
            "2092\n",
            "1/1 [==============================] - 0s 50ms/step\n",
            "2093\n",
            "1/1 [==============================] - 0s 52ms/step\n",
            "2094\n",
            "1/1 [==============================] - 0s 50ms/step\n",
            "2095\n",
            "1/1 [==============================] - 0s 43ms/step\n",
            "2096\n",
            "1/1 [==============================] - 0s 51ms/step\n",
            "2097\n",
            "1/1 [==============================] - 0s 58ms/step\n",
            "2098\n",
            "1/1 [==============================] - 0s 45ms/step\n",
            "2099\n",
            "1/1 [==============================] - 0s 56ms/step\n",
            "2100\n",
            "1/1 [==============================] - 0s 59ms/step\n",
            "2101\n",
            "1/1 [==============================] - 0s 45ms/step\n",
            "2102\n",
            "1/1 [==============================] - 0s 43ms/step\n",
            "2103\n",
            "1/1 [==============================] - 0s 52ms/step\n",
            "2104\n",
            "1/1 [==============================] - 0s 44ms/step\n",
            "2105\n",
            "1/1 [==============================] - 0s 48ms/step\n",
            "2106\n",
            "1/1 [==============================] - 0s 44ms/step\n",
            "2107\n",
            "1/1 [==============================] - 0s 54ms/step\n",
            "2108\n",
            "1/1 [==============================] - 0s 61ms/step\n",
            "2109\n",
            "1/1 [==============================] - 0s 54ms/step\n",
            "2110\n",
            "1/1 [==============================] - 0s 50ms/step\n",
            "2111\n",
            "1/1 [==============================] - 0s 48ms/step\n",
            "2112\n",
            "1/1 [==============================] - 0s 50ms/step\n",
            "2113\n",
            "1/1 [==============================] - 0s 58ms/step\n",
            "2114\n",
            "1/1 [==============================] - 0s 47ms/step\n",
            "2115\n",
            "1/1 [==============================] - 0s 58ms/step\n",
            "2116\n",
            "1/1 [==============================] - 0s 47ms/step\n",
            "2117\n",
            "1/1 [==============================] - 0s 101ms/step\n",
            "2118\n",
            "1/1 [==============================] - 0s 52ms/step\n",
            "2119\n",
            "1/1 [==============================] - 0s 47ms/step\n",
            "2120\n",
            "1/1 [==============================] - 0s 53ms/step\n",
            "2121\n",
            "1/1 [==============================] - 0s 68ms/step\n",
            "2122\n",
            "1/1 [==============================] - 0s 49ms/step\n",
            "2123\n",
            "1/1 [==============================] - 0s 46ms/step\n",
            "2124\n",
            "1/1 [==============================] - 0s 45ms/step\n",
            "2125\n",
            "1/1 [==============================] - 0s 46ms/step\n",
            "2126\n",
            "1/1 [==============================] - 0s 64ms/step\n",
            "2127\n",
            "1/1 [==============================] - 0s 46ms/step\n",
            "2128\n",
            "1/1 [==============================] - 0s 52ms/step\n",
            "2129\n",
            "1/1 [==============================] - 0s 59ms/step\n",
            "2130\n",
            "1/1 [==============================] - 0s 46ms/step\n",
            "2131\n",
            "1/1 [==============================] - 0s 63ms/step\n",
            "2132\n",
            "1/1 [==============================] - 0s 51ms/step\n",
            "2133\n",
            "1/1 [==============================] - 0s 54ms/step\n",
            "2134\n",
            "1/1 [==============================] - 0s 30ms/step\n",
            "2135\n",
            "1/1 [==============================] - 0s 59ms/step\n",
            "2136\n",
            "1/1 [==============================] - 0s 30ms/step\n",
            "2137\n",
            "1/1 [==============================] - 0s 43ms/step\n",
            "2138\n",
            "1/1 [==============================] - 0s 30ms/step\n",
            "2139\n",
            "1/1 [==============================] - 0s 29ms/step\n",
            "2140\n",
            "1/1 [==============================] - 0s 29ms/step\n",
            "2141\n",
            "1/1 [==============================] - 0s 28ms/step\n",
            "2142\n",
            "1/1 [==============================] - 0s 28ms/step\n",
            "2143\n",
            "1/1 [==============================] - 0s 30ms/step\n",
            "2144\n",
            "1/1 [==============================] - 0s 30ms/step\n",
            "2145\n",
            "1/1 [==============================] - 0s 29ms/step\n",
            "2146\n",
            "1/1 [==============================] - 0s 32ms/step\n",
            "2147\n",
            "1/1 [==============================] - 0s 32ms/step\n",
            "2148\n",
            "1/1 [==============================] - 0s 32ms/step\n",
            "2149\n",
            "1/1 [==============================] - 0s 30ms/step\n",
            "2150\n",
            "1/1 [==============================] - 0s 28ms/step\n",
            "2151\n",
            "1/1 [==============================] - 0s 28ms/step\n",
            "2152\n",
            "1/1 [==============================] - 0s 34ms/step\n",
            "2153\n",
            "1/1 [==============================] - 0s 29ms/step\n",
            "2154\n",
            "1/1 [==============================] - 0s 29ms/step\n",
            "2155\n",
            "1/1 [==============================] - 0s 28ms/step\n",
            "2156\n",
            "1/1 [==============================] - 0s 29ms/step\n",
            "2157\n",
            "1/1 [==============================] - 0s 28ms/step\n",
            "2158\n",
            "1/1 [==============================] - 0s 28ms/step\n",
            "2159\n",
            "1/1 [==============================] - 0s 28ms/step\n",
            "2160\n",
            "1/1 [==============================] - 0s 33ms/step\n",
            "2161\n",
            "1/1 [==============================] - 0s 37ms/step\n",
            "2162\n",
            "1/1 [==============================] - 0s 30ms/step\n",
            "2163\n",
            "1/1 [==============================] - 0s 32ms/step\n",
            "2164\n",
            "1/1 [==============================] - 0s 29ms/step\n",
            "2165\n",
            "1/1 [==============================] - 0s 27ms/step\n",
            "2166\n",
            "1/1 [==============================] - 0s 30ms/step\n",
            "2167\n",
            "1/1 [==============================] - 0s 33ms/step\n",
            "2168\n",
            "1/1 [==============================] - 0s 28ms/step\n",
            "2169\n",
            "1/1 [==============================] - 0s 28ms/step\n",
            "2170\n",
            "1/1 [==============================] - 0s 31ms/step\n",
            "2171\n",
            "1/1 [==============================] - 0s 33ms/step\n",
            "2172\n",
            "1/1 [==============================] - 0s 45ms/step\n",
            "2173\n",
            "1/1 [==============================] - 0s 30ms/step\n",
            "2174\n",
            "1/1 [==============================] - 0s 31ms/step\n",
            "2175\n",
            "1/1 [==============================] - 0s 29ms/step\n",
            "2176\n",
            "1/1 [==============================] - 0s 29ms/step\n",
            "2177\n",
            "1/1 [==============================] - 0s 31ms/step\n",
            "2178\n",
            "1/1 [==============================] - 0s 29ms/step\n",
            "2179\n",
            "1/1 [==============================] - 0s 33ms/step\n",
            "2180\n",
            "1/1 [==============================] - 0s 30ms/step\n",
            "2181\n",
            "1/1 [==============================] - 0s 34ms/step\n",
            "2182\n",
            "1/1 [==============================] - 0s 36ms/step\n",
            "2183\n",
            "1/1 [==============================] - 0s 33ms/step\n",
            "2184\n",
            "1/1 [==============================] - 0s 31ms/step\n",
            "2185\n",
            "1/1 [==============================] - 0s 30ms/step\n",
            "2186\n",
            "1/1 [==============================] - 0s 29ms/step\n",
            "2187\n",
            "1/1 [==============================] - 0s 29ms/step\n",
            "2188\n",
            "1/1 [==============================] - 0s 29ms/step\n",
            "2189\n",
            "1/1 [==============================] - 0s 29ms/step\n",
            "2190\n",
            "1/1 [==============================] - 0s 29ms/step\n",
            "2191\n",
            "1/1 [==============================] - 0s 31ms/step\n",
            "2192\n",
            "1/1 [==============================] - 0s 38ms/step\n",
            "2193\n",
            "1/1 [==============================] - 0s 28ms/step\n",
            "2194\n",
            "1/1 [==============================] - 0s 30ms/step\n",
            "2195\n",
            "1/1 [==============================] - 0s 30ms/step\n",
            "2196\n",
            "1/1 [==============================] - 0s 31ms/step\n",
            "2197\n",
            "1/1 [==============================] - 0s 32ms/step\n",
            "2198\n",
            "1/1 [==============================] - 0s 32ms/step\n",
            "2199\n",
            "1/1 [==============================] - 0s 33ms/step\n",
            "2200\n",
            "1/1 [==============================] - 0s 31ms/step\n",
            "2201\n",
            "1/1 [==============================] - 0s 31ms/step\n",
            "2202\n",
            "1/1 [==============================] - 0s 28ms/step\n",
            "2203\n",
            "1/1 [==============================] - 0s 36ms/step\n",
            "2204\n",
            "1/1 [==============================] - 0s 34ms/step\n",
            "2205\n",
            "1/1 [==============================] - 0s 37ms/step\n",
            "2206\n",
            "1/1 [==============================] - 0s 28ms/step\n",
            "2207\n",
            "1/1 [==============================] - 0s 29ms/step\n",
            "2208\n",
            "1/1 [==============================] - 0s 31ms/step\n",
            "2209\n",
            "1/1 [==============================] - 0s 28ms/step\n",
            "2210\n",
            "1/1 [==============================] - 0s 31ms/step\n",
            "2211\n",
            "1/1 [==============================] - 0s 31ms/step\n",
            "2212\n",
            "1/1 [==============================] - 0s 29ms/step\n",
            "2213\n",
            "1/1 [==============================] - 0s 28ms/step\n",
            "2214\n",
            "1/1 [==============================] - 0s 44ms/step\n",
            "2215\n",
            "1/1 [==============================] - 0s 36ms/step\n",
            "2216\n",
            "1/1 [==============================] - 0s 36ms/step\n",
            "2217\n",
            "1/1 [==============================] - 0s 36ms/step\n",
            "2218\n",
            "1/1 [==============================] - 0s 32ms/step\n",
            "2219\n",
            "1/1 [==============================] - 0s 29ms/step\n",
            "2220\n",
            "1/1 [==============================] - 0s 29ms/step\n",
            "2221\n",
            "1/1 [==============================] - 0s 30ms/step\n",
            "2222\n",
            "1/1 [==============================] - 0s 30ms/step\n",
            "2223\n",
            "1/1 [==============================] - 0s 33ms/step\n",
            "2224\n",
            "1/1 [==============================] - 0s 29ms/step\n",
            "2225\n",
            "1/1 [==============================] - 0s 32ms/step\n",
            "2226\n",
            "1/1 [==============================] - 0s 30ms/step\n",
            "2227\n",
            "1/1 [==============================] - 0s 31ms/step\n",
            "2228\n",
            "1/1 [==============================] - 0s 31ms/step\n",
            "2229\n",
            "1/1 [==============================] - 0s 30ms/step\n",
            "2230\n",
            "1/1 [==============================] - 0s 31ms/step\n",
            "2231\n",
            "1/1 [==============================] - 0s 28ms/step\n",
            "2232\n",
            "1/1 [==============================] - 0s 34ms/step\n",
            "2233\n",
            "1/1 [==============================] - 0s 30ms/step\n",
            "2234\n",
            "1/1 [==============================] - 0s 35ms/step\n",
            "2235\n",
            "1/1 [==============================] - 0s 29ms/step\n",
            "2236\n",
            "1/1 [==============================] - 0s 55ms/step\n",
            "2237\n",
            "1/1 [==============================] - 0s 33ms/step\n",
            "2238\n",
            "1/1 [==============================] - 0s 33ms/step\n",
            "2239\n",
            "1/1 [==============================] - 0s 32ms/step\n",
            "2240\n",
            "1/1 [==============================] - 0s 35ms/step\n",
            "2241\n",
            "1/1 [==============================] - 0s 56ms/step\n",
            "2242\n",
            "1/1 [==============================] - 0s 48ms/step\n",
            "2243\n",
            "1/1 [==============================] - 0s 52ms/step\n",
            "2244\n",
            "1/1 [==============================] - 0s 46ms/step\n",
            "2245\n",
            "1/1 [==============================] - 0s 55ms/step\n",
            "2246\n",
            "1/1 [==============================] - 0s 48ms/step\n",
            "2247\n",
            "1/1 [==============================] - 0s 44ms/step\n",
            "2248\n",
            "1/1 [==============================] - 0s 75ms/step\n",
            "2249\n",
            "1/1 [==============================] - 0s 48ms/step\n",
            "2250\n",
            "1/1 [==============================] - 0s 63ms/step\n",
            "2251\n",
            "1/1 [==============================] - 0s 50ms/step\n",
            "2252\n",
            "1/1 [==============================] - 0s 52ms/step\n",
            "2253\n",
            "1/1 [==============================] - 0s 52ms/step\n",
            "2254\n",
            "1/1 [==============================] - 0s 45ms/step\n",
            "2255\n",
            "1/1 [==============================] - 0s 56ms/step\n",
            "2256\n",
            "1/1 [==============================] - 0s 45ms/step\n",
            "2257\n",
            "1/1 [==============================] - 0s 44ms/step\n",
            "2258\n",
            "1/1 [==============================] - 0s 46ms/step\n",
            "2259\n",
            "1/1 [==============================] - 0s 66ms/step\n",
            "2260\n",
            "1/1 [==============================] - 0s 50ms/step\n",
            "2261\n",
            "1/1 [==============================] - 0s 57ms/step\n",
            "2262\n",
            "1/1 [==============================] - 0s 44ms/step\n",
            "2263\n",
            "1/1 [==============================] - 0s 41ms/step\n",
            "2264\n",
            "1/1 [==============================] - 0s 60ms/step\n",
            "2265\n",
            "1/1 [==============================] - 0s 45ms/step\n",
            "2266\n",
            "1/1 [==============================] - 0s 42ms/step\n",
            "2267\n",
            "1/1 [==============================] - 0s 64ms/step\n",
            "2268\n",
            "1/1 [==============================] - 0s 47ms/step\n",
            "2269\n",
            "1/1 [==============================] - 0s 45ms/step\n",
            "2270\n",
            "1/1 [==============================] - 0s 55ms/step\n",
            "2271\n",
            "1/1 [==============================] - 0s 49ms/step\n",
            "2272\n",
            "1/1 [==============================] - 0s 47ms/step\n",
            "2273\n",
            "1/1 [==============================] - 0s 44ms/step\n",
            "2274\n",
            "1/1 [==============================] - 0s 47ms/step\n",
            "2275\n",
            "1/1 [==============================] - 0s 67ms/step\n",
            "2276\n",
            "1/1 [==============================] - 0s 54ms/step\n",
            "2277\n",
            "1/1 [==============================] - 0s 55ms/step\n",
            "2278\n",
            "1/1 [==============================] - 0s 47ms/step\n",
            "2279\n",
            "1/1 [==============================] - 0s 57ms/step\n",
            "2280\n",
            "1/1 [==============================] - 0s 81ms/step\n",
            "2281\n",
            "1/1 [==============================] - 0s 59ms/step\n",
            "2282\n",
            "1/1 [==============================] - 0s 63ms/step\n",
            "2283\n",
            "1/1 [==============================] - 0s 50ms/step\n",
            "2284\n",
            "1/1 [==============================] - 0s 53ms/step\n",
            "2285\n",
            "1/1 [==============================] - 0s 66ms/step\n",
            "2286\n",
            "1/1 [==============================] - 0s 58ms/step\n",
            "2287\n",
            "1/1 [==============================] - 0s 51ms/step\n",
            "2288\n",
            "1/1 [==============================] - 0s 48ms/step\n",
            "2289\n",
            "1/1 [==============================] - 0s 46ms/step\n",
            "2290\n",
            "1/1 [==============================] - 0s 51ms/step\n",
            "2291\n",
            "1/1 [==============================] - 0s 73ms/step\n",
            "2292\n",
            "1/1 [==============================] - 0s 48ms/step\n",
            "2293\n",
            "1/1 [==============================] - 0s 56ms/step\n",
            "2294\n",
            "1/1 [==============================] - 0s 45ms/step\n",
            "2295\n",
            "1/1 [==============================] - 0s 51ms/step\n",
            "2296\n",
            "1/1 [==============================] - 0s 52ms/step\n",
            "2297\n",
            "1/1 [==============================] - 0s 57ms/step\n",
            "2298\n",
            "1/1 [==============================] - 0s 47ms/step\n",
            "2299\n",
            "1/1 [==============================] - 0s 57ms/step\n",
            "2300\n",
            "1/1 [==============================] - 0s 75ms/step\n",
            "2301\n",
            "1/1 [==============================] - 0s 44ms/step\n",
            "2302\n",
            "1/1 [==============================] - 0s 29ms/step\n",
            "2303\n",
            "1/1 [==============================] - 0s 28ms/step\n",
            "2304\n",
            "1/1 [==============================] - 0s 31ms/step\n",
            "2305\n",
            "1/1 [==============================] - 0s 33ms/step\n",
            "2306\n",
            "1/1 [==============================] - 0s 38ms/step\n",
            "2307\n",
            "1/1 [==============================] - 0s 35ms/step\n",
            "2308\n",
            "1/1 [==============================] - 0s 30ms/step\n",
            "2309\n",
            "1/1 [==============================] - 0s 34ms/step\n",
            "2310\n",
            "1/1 [==============================] - 0s 35ms/step\n",
            "2311\n",
            "1/1 [==============================] - 0s 29ms/step\n",
            "2312\n",
            "1/1 [==============================] - 0s 29ms/step\n",
            "2313\n",
            "1/1 [==============================] - 0s 30ms/step\n",
            "2314\n",
            "1/1 [==============================] - 0s 31ms/step\n",
            "2315\n",
            "1/1 [==============================] - 0s 31ms/step\n",
            "2316\n",
            "1/1 [==============================] - 0s 30ms/step\n",
            "2317\n",
            "1/1 [==============================] - 0s 31ms/step\n",
            "2318\n",
            "1/1 [==============================] - 0s 29ms/step\n",
            "2319\n",
            "1/1 [==============================] - 0s 33ms/step\n",
            "2320\n",
            "1/1 [==============================] - 0s 29ms/step\n",
            "2321\n",
            "1/1 [==============================] - 0s 42ms/step\n",
            "2322\n",
            "1/1 [==============================] - 0s 36ms/step\n",
            "2323\n",
            "1/1 [==============================] - 0s 31ms/step\n",
            "2324\n",
            "1/1 [==============================] - 0s 34ms/step\n",
            "2325\n",
            "1/1 [==============================] - 0s 33ms/step\n",
            "2326\n",
            "1/1 [==============================] - 0s 29ms/step\n",
            "2327\n",
            "1/1 [==============================] - 0s 34ms/step\n",
            "2328\n",
            "1/1 [==============================] - 0s 33ms/step\n",
            "2329\n",
            "1/1 [==============================] - 0s 31ms/step\n",
            "2330\n",
            "1/1 [==============================] - 0s 29ms/step\n",
            "2331\n",
            "1/1 [==============================] - 0s 43ms/step\n",
            "2332\n",
            "1/1 [==============================] - 0s 33ms/step\n",
            "2333\n",
            "1/1 [==============================] - 0s 32ms/step\n",
            "2334\n",
            "1/1 [==============================] - 0s 31ms/step\n",
            "2335\n",
            "1/1 [==============================] - 0s 40ms/step\n",
            "2336\n",
            "1/1 [==============================] - 0s 32ms/step\n",
            "2337\n",
            "1/1 [==============================] - 0s 29ms/step\n",
            "2338\n",
            "1/1 [==============================] - 0s 42ms/step\n",
            "2339\n",
            "1/1 [==============================] - 0s 40ms/step\n",
            "2340\n",
            "1/1 [==============================] - 0s 35ms/step\n",
            "2341\n",
            "1/1 [==============================] - 0s 48ms/step\n",
            "2342\n",
            "1/1 [==============================] - 0s 35ms/step\n",
            "2343\n",
            "1/1 [==============================] - 0s 30ms/step\n",
            "2344\n",
            "1/1 [==============================] - 0s 30ms/step\n",
            "2345\n",
            "1/1 [==============================] - 0s 29ms/step\n",
            "2346\n",
            "1/1 [==============================] - 0s 36ms/step\n",
            "2347\n",
            "1/1 [==============================] - 0s 34ms/step\n",
            "2348\n",
            "1/1 [==============================] - 0s 31ms/step\n",
            "2349\n",
            "1/1 [==============================] - 0s 34ms/step\n",
            "2350\n",
            "1/1 [==============================] - 0s 31ms/step\n",
            "2351\n",
            "1/1 [==============================] - 0s 31ms/step\n",
            "2352\n",
            "1/1 [==============================] - 0s 38ms/step\n",
            "2353\n",
            "1/1 [==============================] - 0s 30ms/step\n",
            "2354\n",
            "1/1 [==============================] - 0s 31ms/step\n",
            "2355\n",
            "1/1 [==============================] - 0s 30ms/step\n",
            "2356\n",
            "1/1 [==============================] - 0s 37ms/step\n",
            "2357\n",
            "1/1 [==============================] - 0s 30ms/step\n",
            "2358\n",
            "1/1 [==============================] - 0s 37ms/step\n",
            "2359\n",
            "1/1 [==============================] - 0s 34ms/step\n",
            "2360\n",
            "1/1 [==============================] - 0s 37ms/step\n",
            "2361\n",
            "1/1 [==============================] - 0s 35ms/step\n",
            "2362\n",
            "1/1 [==============================] - 0s 40ms/step\n",
            "2363\n",
            "1/1 [==============================] - 0s 35ms/step\n",
            "2364\n",
            "1/1 [==============================] - 0s 46ms/step\n",
            "2365\n",
            "1/1 [==============================] - 0s 43ms/step\n",
            "2366\n",
            "1/1 [==============================] - 0s 36ms/step\n",
            "2367\n",
            "1/1 [==============================] - 0s 38ms/step\n",
            "2368\n",
            "1/1 [==============================] - 0s 31ms/step\n",
            "2369\n",
            "1/1 [==============================] - 0s 40ms/step\n",
            "2370\n",
            "1/1 [==============================] - 0s 35ms/step\n",
            "2371\n",
            "1/1 [==============================] - 0s 37ms/step\n",
            "2372\n",
            "1/1 [==============================] - 0s 39ms/step\n",
            "2373\n",
            "1/1 [==============================] - 0s 32ms/step\n",
            "2374\n",
            "1/1 [==============================] - 0s 35ms/step\n",
            "2375\n",
            "1/1 [==============================] - 0s 37ms/step\n",
            "2376\n",
            "1/1 [==============================] - 0s 29ms/step\n",
            "2377\n",
            "1/1 [==============================] - 0s 35ms/step\n",
            "2378\n",
            "1/1 [==============================] - 0s 32ms/step\n",
            "2379\n",
            "1/1 [==============================] - 0s 30ms/step\n",
            "2380\n",
            "1/1 [==============================] - 0s 65ms/step\n",
            "2381\n",
            "1/1 [==============================] - 0s 46ms/step\n",
            "2382\n",
            "1/1 [==============================] - 0s 37ms/step\n",
            "2383\n",
            "1/1 [==============================] - 0s 38ms/step\n",
            "2384\n",
            "1/1 [==============================] - 0s 33ms/step\n",
            "2385\n",
            "1/1 [==============================] - 0s 37ms/step\n",
            "2386\n",
            "1/1 [==============================] - 0s 35ms/step\n",
            "2387\n",
            "1/1 [==============================] - 0s 35ms/step\n",
            "2388\n",
            "1/1 [==============================] - 0s 39ms/step\n",
            "2389\n",
            "1/1 [==============================] - 0s 34ms/step\n",
            "2390\n",
            "1/1 [==============================] - 0s 30ms/step\n",
            "2391\n",
            "1/1 [==============================] - 0s 42ms/step\n",
            "2392\n",
            "1/1 [==============================] - 0s 36ms/step\n",
            "2393\n",
            "1/1 [==============================] - 0s 36ms/step\n",
            "2394\n",
            "1/1 [==============================] - 0s 34ms/step\n",
            "2395\n",
            "1/1 [==============================] - 0s 30ms/step\n",
            "2396\n",
            "1/1 [==============================] - 0s 36ms/step\n",
            "2397\n",
            "1/1 [==============================] - 0s 35ms/step\n",
            "2398\n",
            "1/1 [==============================] - 0s 37ms/step\n",
            "2399\n",
            "1/1 [==============================] - 0s 37ms/step\n",
            "2400\n",
            "1/1 [==============================] - 0s 48ms/step\n",
            "2401\n",
            "1/1 [==============================] - 0s 58ms/step\n",
            "2402\n",
            "1/1 [==============================] - 0s 48ms/step\n",
            "2403\n",
            "1/1 [==============================] - 0s 43ms/step\n",
            "2404\n",
            "1/1 [==============================] - 0s 57ms/step\n",
            "2405\n",
            "1/1 [==============================] - 0s 41ms/step\n",
            "2406\n",
            "1/1 [==============================] - 0s 66ms/step\n",
            "2407\n",
            "1/1 [==============================] - 0s 46ms/step\n",
            "2408\n",
            "1/1 [==============================] - 0s 47ms/step\n",
            "2409\n",
            "1/1 [==============================] - 0s 44ms/step\n",
            "2410\n",
            "1/1 [==============================] - 0s 44ms/step\n",
            "2411\n",
            "1/1 [==============================] - 0s 48ms/step\n",
            "2412\n",
            "1/1 [==============================] - 0s 43ms/step\n",
            "2413\n",
            "1/1 [==============================] - 0s 51ms/step\n",
            "2414\n",
            "1/1 [==============================] - 0s 49ms/step\n",
            "2415\n",
            "1/1 [==============================] - 0s 45ms/step\n",
            "2416\n",
            "1/1 [==============================] - 0s 53ms/step\n",
            "2417\n",
            "1/1 [==============================] - 0s 44ms/step\n",
            "2418\n",
            "1/1 [==============================] - 0s 48ms/step\n",
            "2419\n",
            "1/1 [==============================] - 0s 45ms/step\n",
            "2420\n",
            "1/1 [==============================] - 0s 49ms/step\n",
            "2421\n",
            "1/1 [==============================] - 0s 45ms/step\n",
            "2422\n",
            "1/1 [==============================] - 0s 56ms/step\n",
            "2423\n",
            "1/1 [==============================] - 0s 54ms/step\n",
            "2424\n",
            "1/1 [==============================] - 0s 51ms/step\n",
            "2425\n",
            "1/1 [==============================] - 0s 46ms/step\n",
            "2426\n",
            "1/1 [==============================] - 0s 51ms/step\n",
            "2427\n",
            "1/1 [==============================] - 0s 44ms/step\n",
            "2428\n",
            "1/1 [==============================] - 0s 59ms/step\n",
            "2429\n",
            "1/1 [==============================] - 0s 48ms/step\n",
            "2430\n",
            "1/1 [==============================] - 0s 47ms/step\n",
            "2431\n",
            "1/1 [==============================] - 0s 52ms/step\n",
            "2432\n",
            "1/1 [==============================] - 0s 69ms/step\n",
            "2433\n",
            "1/1 [==============================] - 0s 62ms/step\n",
            "2434\n",
            "1/1 [==============================] - 0s 61ms/step\n",
            "2435\n",
            "1/1 [==============================] - 0s 59ms/step\n",
            "2436\n",
            "1/1 [==============================] - 0s 48ms/step\n",
            "2437\n",
            "1/1 [==============================] - 0s 50ms/step\n",
            "2438\n",
            "1/1 [==============================] - 0s 51ms/step\n",
            "2439\n",
            "1/1 [==============================] - 0s 46ms/step\n",
            "2440\n",
            "1/1 [==============================] - 0s 68ms/step\n",
            "2441\n",
            "1/1 [==============================] - 0s 64ms/step\n",
            "2442\n",
            "1/1 [==============================] - 0s 60ms/step\n",
            "2443\n",
            "1/1 [==============================] - 0s 63ms/step\n",
            "2444\n",
            "1/1 [==============================] - 0s 46ms/step\n",
            "2445\n",
            "1/1 [==============================] - 0s 47ms/step\n",
            "2446\n",
            "1/1 [==============================] - 0s 48ms/step\n",
            "2447\n",
            "1/1 [==============================] - 0s 48ms/step\n",
            "2448\n",
            "1/1 [==============================] - 0s 52ms/step\n",
            "2449\n",
            "1/1 [==============================] - 0s 55ms/step\n",
            "2450\n",
            "1/1 [==============================] - 0s 48ms/step\n",
            "2451\n",
            "1/1 [==============================] - 0s 31ms/step\n",
            "2452\n",
            "1/1 [==============================] - 0s 36ms/step\n",
            "2453\n",
            "1/1 [==============================] - 0s 31ms/step\n",
            "2454\n",
            "1/1 [==============================] - 0s 31ms/step\n",
            "2455\n",
            "1/1 [==============================] - 0s 32ms/step\n",
            "2456\n",
            "1/1 [==============================] - 0s 34ms/step\n",
            "2457\n",
            "1/1 [==============================] - 0s 31ms/step\n",
            "2458\n",
            "1/1 [==============================] - 0s 31ms/step\n",
            "2459\n",
            "1/1 [==============================] - 0s 29ms/step\n",
            "2460\n",
            "1/1 [==============================] - 0s 29ms/step\n",
            "2461\n",
            "1/1 [==============================] - 0s 30ms/step\n",
            "2462\n",
            "1/1 [==============================] - 0s 37ms/step\n",
            "2463\n",
            "1/1 [==============================] - 0s 33ms/step\n",
            "2464\n",
            "1/1 [==============================] - 0s 32ms/step\n",
            "2465\n",
            "1/1 [==============================] - 0s 31ms/step\n",
            "2466\n",
            "1/1 [==============================] - 0s 32ms/step\n",
            "2467\n",
            "1/1 [==============================] - 0s 34ms/step\n",
            "2468\n",
            "1/1 [==============================] - 0s 30ms/step\n",
            "2469\n",
            "1/1 [==============================] - 0s 33ms/step\n",
            "2470\n",
            "1/1 [==============================] - 0s 31ms/step\n",
            "2471\n",
            "1/1 [==============================] - 0s 37ms/step\n",
            "2472\n",
            "1/1 [==============================] - 0s 37ms/step\n",
            "2473\n",
            "1/1 [==============================] - 0s 33ms/step\n",
            "2474\n",
            "1/1 [==============================] - 0s 29ms/step\n",
            "2475\n",
            "1/1 [==============================] - 0s 29ms/step\n",
            "2476\n",
            "1/1 [==============================] - 0s 30ms/step\n",
            "2477\n",
            "1/1 [==============================] - 0s 29ms/step\n",
            "2478\n",
            "1/1 [==============================] - 0s 32ms/step\n",
            "2479\n",
            "1/1 [==============================] - 0s 44ms/step\n",
            "2480\n",
            "1/1 [==============================] - 0s 43ms/step\n",
            "2481\n",
            "1/1 [==============================] - 0s 29ms/step\n",
            "2482\n",
            "1/1 [==============================] - 0s 29ms/step\n",
            "2483\n",
            "1/1 [==============================] - 0s 31ms/step\n",
            "2484\n",
            "1/1 [==============================] - 0s 29ms/step\n",
            "2485\n",
            "1/1 [==============================] - 0s 29ms/step\n",
            "2486\n",
            "1/1 [==============================] - 0s 29ms/step\n",
            "2487\n",
            "1/1 [==============================] - 0s 30ms/step\n",
            "2488\n",
            "1/1 [==============================] - 0s 36ms/step\n",
            "2489\n",
            "1/1 [==============================] - 0s 33ms/step\n",
            "2490\n",
            "1/1 [==============================] - 0s 30ms/step\n",
            "2491\n",
            "1/1 [==============================] - 0s 29ms/step\n",
            "2492\n",
            "1/1 [==============================] - 0s 39ms/step\n",
            "2493\n",
            "1/1 [==============================] - 0s 31ms/step\n",
            "2494\n",
            "1/1 [==============================] - 0s 28ms/step\n",
            "2495\n",
            "1/1 [==============================] - 0s 38ms/step\n",
            "2496\n",
            "1/1 [==============================] - 0s 34ms/step\n",
            "2497\n",
            "1/1 [==============================] - 0s 28ms/step\n",
            "2498\n",
            "1/1 [==============================] - 0s 33ms/step\n",
            "2499\n",
            "1/1 [==============================] - 0s 29ms/step\n",
            "2500\n",
            "1/1 [==============================] - 0s 30ms/step\n",
            "2501\n",
            "1/1 [==============================] - 0s 31ms/step\n",
            "2502\n",
            "1/1 [==============================] - 0s 35ms/step\n",
            "2503\n",
            "1/1 [==============================] - 0s 31ms/step\n",
            "2504\n",
            "1/1 [==============================] - 0s 35ms/step\n",
            "2505\n",
            "1/1 [==============================] - 0s 32ms/step\n",
            "2506\n",
            "1/1 [==============================] - 0s 28ms/step\n",
            "2507\n",
            "1/1 [==============================] - 0s 28ms/step\n",
            "2508\n",
            "1/1 [==============================] - 0s 27ms/step\n",
            "2509\n",
            "1/1 [==============================] - 0s 30ms/step\n",
            "2510\n",
            "1/1 [==============================] - 0s 28ms/step\n",
            "2511\n",
            "1/1 [==============================] - 0s 30ms/step\n",
            "2512\n",
            "1/1 [==============================] - 0s 28ms/step\n",
            "2513\n",
            "1/1 [==============================] - 0s 30ms/step\n",
            "2514\n",
            "1/1 [==============================] - 0s 27ms/step\n",
            "2515\n",
            "1/1 [==============================] - 0s 33ms/step\n",
            "2516\n",
            "1/1 [==============================] - 0s 34ms/step\n",
            "2517\n",
            "1/1 [==============================] - 0s 27ms/step\n",
            "2518\n",
            "1/1 [==============================] - 0s 28ms/step\n",
            "2519\n",
            "1/1 [==============================] - 0s 28ms/step\n",
            "2520\n",
            "1/1 [==============================] - 0s 30ms/step\n",
            "2521\n",
            "1/1 [==============================] - 0s 36ms/step\n",
            "2522\n",
            "1/1 [==============================] - 0s 29ms/step\n",
            "2523\n",
            "1/1 [==============================] - 0s 28ms/step\n",
            "2524\n",
            "1/1 [==============================] - 0s 33ms/step\n",
            "2525\n",
            "1/1 [==============================] - 0s 28ms/step\n",
            "2526\n",
            "1/1 [==============================] - 0s 35ms/step\n",
            "2527\n",
            "1/1 [==============================] - 0s 35ms/step\n",
            "2528\n",
            "1/1 [==============================] - 0s 30ms/step\n",
            "2529\n",
            "1/1 [==============================] - 0s 33ms/step\n",
            "2530\n",
            "1/1 [==============================] - 0s 28ms/step\n",
            "2531\n",
            "1/1 [==============================] - 0s 30ms/step\n",
            "2532\n",
            "1/1 [==============================] - 0s 29ms/step\n",
            "2533\n",
            "1/1 [==============================] - 0s 32ms/step\n",
            "2534\n",
            "1/1 [==============================] - 0s 32ms/step\n",
            "2535\n",
            "1/1 [==============================] - 0s 30ms/step\n",
            "2536\n",
            "1/1 [==============================] - 0s 30ms/step\n",
            "2537\n",
            "1/1 [==============================] - 0s 32ms/step\n",
            "2538\n",
            "1/1 [==============================] - 0s 36ms/step\n",
            "2539\n",
            "1/1 [==============================] - 0s 35ms/step\n",
            "2540\n",
            "1/1 [==============================] - 0s 29ms/step\n",
            "2541\n",
            "1/1 [==============================] - 0s 31ms/step\n",
            "2542\n",
            "1/1 [==============================] - 0s 30ms/step\n",
            "2543\n",
            "1/1 [==============================] - 0s 28ms/step\n",
            "2544\n",
            "1/1 [==============================] - 0s 37ms/step\n",
            "2545\n",
            "1/1 [==============================] - 0s 30ms/step\n",
            "2546\n",
            "1/1 [==============================] - 0s 29ms/step\n",
            "2547\n",
            "1/1 [==============================] - 0s 30ms/step\n",
            "2548\n",
            "1/1 [==============================] - 0s 28ms/step\n",
            "2549\n",
            "1/1 [==============================] - 0s 28ms/step\n",
            "2550\n",
            "1/1 [==============================] - 0s 29ms/step\n",
            "2551\n",
            "1/1 [==============================] - 0s 33ms/step\n",
            "2552\n",
            "1/1 [==============================] - 0s 30ms/step\n",
            "2553\n",
            "1/1 [==============================] - 0s 32ms/step\n",
            "2554\n",
            "1/1 [==============================] - 0s 29ms/step\n",
            "2555\n",
            "1/1 [==============================] - 0s 28ms/step\n",
            "2556\n",
            "1/1 [==============================] - 0s 30ms/step\n",
            "2557\n",
            "1/1 [==============================] - 0s 57ms/step\n",
            "2558\n",
            "1/1 [==============================] - 0s 43ms/step\n",
            "2559\n",
            "1/1 [==============================] - 0s 80ms/step\n",
            "2560\n",
            "1/1 [==============================] - 0s 42ms/step\n",
            "2561\n",
            "1/1 [==============================] - 0s 61ms/step\n",
            "2562\n",
            "1/1 [==============================] - 0s 46ms/step\n",
            "2563\n",
            "1/1 [==============================] - 0s 66ms/step\n",
            "2564\n",
            "1/1 [==============================] - 0s 61ms/step\n",
            "2565\n",
            "1/1 [==============================] - 0s 49ms/step\n",
            "2566\n",
            "1/1 [==============================] - 0s 62ms/step\n",
            "2567\n",
            "1/1 [==============================] - 0s 73ms/step\n",
            "2568\n",
            "1/1 [==============================] - 0s 51ms/step\n",
            "2569\n",
            "1/1 [==============================] - 0s 68ms/step\n",
            "2570\n",
            "1/1 [==============================] - 0s 65ms/step\n",
            "2571\n",
            "1/1 [==============================] - 0s 50ms/step\n",
            "2572\n",
            "1/1 [==============================] - 0s 44ms/step\n",
            "2573\n",
            "1/1 [==============================] - 0s 72ms/step\n",
            "2574\n",
            "1/1 [==============================] - 0s 41ms/step\n",
            "2575\n",
            "1/1 [==============================] - 0s 41ms/step\n",
            "2576\n",
            "1/1 [==============================] - 0s 57ms/step\n",
            "2577\n",
            "1/1 [==============================] - 0s 52ms/step\n",
            "2578\n",
            "1/1 [==============================] - 0s 44ms/step\n",
            "2579\n",
            "1/1 [==============================] - 0s 42ms/step\n",
            "2580\n",
            "1/1 [==============================] - 0s 43ms/step\n",
            "2581\n",
            "1/1 [==============================] - 0s 43ms/step\n",
            "2582\n",
            "1/1 [==============================] - 0s 40ms/step\n",
            "2583\n",
            "1/1 [==============================] - 0s 40ms/step\n",
            "2584\n",
            "1/1 [==============================] - 0s 56ms/step\n",
            "2585\n",
            "1/1 [==============================] - 0s 63ms/step\n",
            "2586\n",
            "1/1 [==============================] - 0s 60ms/step\n",
            "2587\n",
            "1/1 [==============================] - 0s 61ms/step\n",
            "2588\n",
            "1/1 [==============================] - 0s 57ms/step\n",
            "2589\n",
            "1/1 [==============================] - 0s 65ms/step\n",
            "2590\n",
            "1/1 [==============================] - 0s 41ms/step\n",
            "2591\n",
            "1/1 [==============================] - 0s 55ms/step\n",
            "2592\n",
            "1/1 [==============================] - 0s 46ms/step\n",
            "2593\n",
            "1/1 [==============================] - 0s 45ms/step\n",
            "2594\n",
            "1/1 [==============================] - 0s 47ms/step\n",
            "2595\n",
            "1/1 [==============================] - 0s 45ms/step\n",
            "2596\n",
            "1/1 [==============================] - 0s 66ms/step\n",
            "2597\n",
            "1/1 [==============================] - 0s 51ms/step\n",
            "2598\n",
            "1/1 [==============================] - 0s 61ms/step\n",
            "2599\n",
            "1/1 [==============================] - 0s 61ms/step\n",
            "2600\n",
            "1/1 [==============================] - 0s 74ms/step\n",
            "2601\n",
            "1/1 [==============================] - 0s 50ms/step\n",
            "2602\n",
            "1/1 [==============================] - 0s 51ms/step\n",
            "2603\n",
            "1/1 [==============================] - 0s 59ms/step\n",
            "2604\n",
            "1/1 [==============================] - 0s 48ms/step\n",
            "2605\n",
            "1/1 [==============================] - 0s 52ms/step\n",
            "2606\n",
            "1/1 [==============================] - 0s 52ms/step\n",
            "2607\n",
            "1/1 [==============================] - 0s 67ms/step\n",
            "2608\n",
            "1/1 [==============================] - 0s 64ms/step\n",
            "2609\n",
            "1/1 [==============================] - 0s 45ms/step\n",
            "2610\n",
            "1/1 [==============================] - 0s 66ms/step\n",
            "2611\n",
            "1/1 [==============================] - 0s 50ms/step\n",
            "2612\n",
            "1/1 [==============================] - 0s 75ms/step\n",
            "2613\n",
            "1/1 [==============================] - 0s 79ms/step\n",
            "2614\n",
            "1/1 [==============================] - 0s 72ms/step\n",
            "2615\n",
            "1/1 [==============================] - 0s 72ms/step\n",
            "2616\n",
            "1/1 [==============================] - 0s 56ms/step\n",
            "2617\n",
            "1/1 [==============================] - 0s 47ms/step\n",
            "2618\n",
            "1/1 [==============================] - 0s 57ms/step\n",
            "2619\n",
            "1/1 [==============================] - 0s 60ms/step\n",
            "2620\n",
            "1/1 [==============================] - 0s 37ms/step\n",
            "2621\n",
            "1/1 [==============================] - 0s 38ms/step\n",
            "2622\n",
            "1/1 [==============================] - 0s 29ms/step\n",
            "2623\n",
            "1/1 [==============================] - 0s 31ms/step\n",
            "2624\n",
            "1/1 [==============================] - 0s 32ms/step\n",
            "2625\n",
            "1/1 [==============================] - 0s 32ms/step\n",
            "2626\n",
            "1/1 [==============================] - 0s 31ms/step\n",
            "2627\n",
            "1/1 [==============================] - 0s 32ms/step\n",
            "2628\n",
            "1/1 [==============================] - 0s 30ms/step\n",
            "2629\n",
            "1/1 [==============================] - 0s 35ms/step\n",
            "2630\n",
            "1/1 [==============================] - 0s 28ms/step\n",
            "2631\n",
            "1/1 [==============================] - 0s 28ms/step\n",
            "2632\n",
            "1/1 [==============================] - 0s 27ms/step\n",
            "2633\n",
            "1/1 [==============================] - 0s 28ms/step\n",
            "2634\n",
            "1/1 [==============================] - 0s 38ms/step\n",
            "2635\n",
            "1/1 [==============================] - 0s 50ms/step\n",
            "2636\n",
            "1/1 [==============================] - 0s 33ms/step\n",
            "2637\n",
            "1/1 [==============================] - 0s 30ms/step\n",
            "2638\n",
            "1/1 [==============================] - 0s 32ms/step\n",
            "2639\n",
            "1/1 [==============================] - 0s 29ms/step\n",
            "2640\n",
            "1/1 [==============================] - 0s 28ms/step\n",
            "2641\n",
            "1/1 [==============================] - 0s 28ms/step\n",
            "2642\n",
            "1/1 [==============================] - 0s 36ms/step\n",
            "2643\n",
            "1/1 [==============================] - 0s 30ms/step\n",
            "2644\n",
            "1/1 [==============================] - 0s 30ms/step\n",
            "2645\n",
            "1/1 [==============================] - 0s 39ms/step\n",
            "2646\n",
            "1/1 [==============================] - 0s 34ms/step\n",
            "2647\n",
            "1/1 [==============================] - 0s 35ms/step\n",
            "2648\n",
            "1/1 [==============================] - 0s 29ms/step\n",
            "2649\n",
            "1/1 [==============================] - 0s 30ms/step\n",
            "2650\n",
            "1/1 [==============================] - 0s 28ms/step\n",
            "2651\n",
            "1/1 [==============================] - 0s 29ms/step\n",
            "2652\n",
            "1/1 [==============================] - 0s 34ms/step\n",
            "2653\n",
            "1/1 [==============================] - 0s 29ms/step\n",
            "2654\n",
            "1/1 [==============================] - 0s 31ms/step\n",
            "2655\n",
            "1/1 [==============================] - 0s 32ms/step\n",
            "2656\n",
            "1/1 [==============================] - 0s 28ms/step\n",
            "2657\n",
            "1/1 [==============================] - 0s 36ms/step\n",
            "2658\n",
            "1/1 [==============================] - 0s 36ms/step\n",
            "2659\n",
            "1/1 [==============================] - 0s 30ms/step\n",
            "2660\n",
            "1/1 [==============================] - 0s 38ms/step\n",
            "2661\n",
            "1/1 [==============================] - 0s 32ms/step\n",
            "2662\n",
            "1/1 [==============================] - 0s 30ms/step\n",
            "2663\n",
            "1/1 [==============================] - 0s 31ms/step\n",
            "2664\n",
            "1/1 [==============================] - 0s 30ms/step\n",
            "2665\n",
            "1/1 [==============================] - 0s 31ms/step\n",
            "2666\n",
            "1/1 [==============================] - 0s 34ms/step\n",
            "2667\n",
            "1/1 [==============================] - 0s 42ms/step\n",
            "2668\n",
            "1/1 [==============================] - 0s 30ms/step\n",
            "2669\n",
            "1/1 [==============================] - 0s 32ms/step\n",
            "2670\n",
            "1/1 [==============================] - 0s 29ms/step\n",
            "2671\n",
            "1/1 [==============================] - 0s 28ms/step\n",
            "2672\n",
            "1/1 [==============================] - 0s 30ms/step\n",
            "2673\n",
            "1/1 [==============================] - 0s 30ms/step\n",
            "2674\n",
            "1/1 [==============================] - 0s 31ms/step\n",
            "2675\n",
            "1/1 [==============================] - 0s 29ms/step\n",
            "2676\n",
            "1/1 [==============================] - 0s 34ms/step\n",
            "2677\n",
            "1/1 [==============================] - 0s 40ms/step\n",
            "2678\n",
            "1/1 [==============================] - 0s 35ms/step\n",
            "2679\n",
            "1/1 [==============================] - 0s 44ms/step\n",
            "2680\n",
            "1/1 [==============================] - 0s 35ms/step\n",
            "2681\n",
            "1/1 [==============================] - 0s 28ms/step\n",
            "2682\n",
            "1/1 [==============================] - 0s 30ms/step\n",
            "2683\n",
            "1/1 [==============================] - 0s 34ms/step\n",
            "2684\n",
            "1/1 [==============================] - 0s 28ms/step\n",
            "2685\n",
            "1/1 [==============================] - 0s 28ms/step\n",
            "2686\n",
            "1/1 [==============================] - 0s 30ms/step\n",
            "2687\n",
            "1/1 [==============================] - 0s 31ms/step\n",
            "2688\n",
            "1/1 [==============================] - 0s 38ms/step\n",
            "2689\n",
            "1/1 [==============================] - 0s 30ms/step\n",
            "2690\n",
            "1/1 [==============================] - 0s 36ms/step\n",
            "2691\n",
            "1/1 [==============================] - 0s 29ms/step\n",
            "2692\n",
            "1/1 [==============================] - 0s 28ms/step\n",
            "2693\n",
            "1/1 [==============================] - 0s 27ms/step\n",
            "2694\n",
            "1/1 [==============================] - 0s 27ms/step\n",
            "2695\n",
            "1/1 [==============================] - 0s 31ms/step\n",
            "2696\n",
            "1/1 [==============================] - 0s 30ms/step\n",
            "2697\n",
            "1/1 [==============================] - 0s 30ms/step\n",
            "2698\n",
            "1/1 [==============================] - 0s 31ms/step\n",
            "2699\n",
            "1/1 [==============================] - 0s 36ms/step\n",
            "2700\n",
            "1/1 [==============================] - 0s 30ms/step\n",
            "2701\n",
            "1/1 [==============================] - 0s 29ms/step\n",
            "2702\n",
            "1/1 [==============================] - 0s 30ms/step\n",
            "2703\n",
            "1/1 [==============================] - 0s 28ms/step\n",
            "2704\n",
            "1/1 [==============================] - 0s 30ms/step\n",
            "2705\n",
            "1/1 [==============================] - 0s 30ms/step\n",
            "2706\n",
            "1/1 [==============================] - 0s 35ms/step\n",
            "2707\n",
            "1/1 [==============================] - 0s 29ms/step\n",
            "2708\n",
            "1/1 [==============================] - 0s 32ms/step\n",
            "2709\n",
            "1/1 [==============================] - 0s 30ms/step\n",
            "2710\n",
            "1/1 [==============================] - 0s 40ms/step\n",
            "2711\n",
            "1/1 [==============================] - 0s 29ms/step\n",
            "2712\n",
            "1/1 [==============================] - 0s 31ms/step\n",
            "2713\n",
            "1/1 [==============================] - 0s 30ms/step\n",
            "2714\n",
            "1/1 [==============================] - 0s 30ms/step\n",
            "2715\n",
            "1/1 [==============================] - 0s 29ms/step\n",
            "2716\n",
            "1/1 [==============================] - 0s 35ms/step\n",
            "2717\n",
            "1/1 [==============================] - 0s 28ms/step\n",
            "2718\n",
            "1/1 [==============================] - 0s 29ms/step\n",
            "2719\n",
            "1/1 [==============================] - 0s 31ms/step\n",
            "2720\n",
            "1/1 [==============================] - 0s 36ms/step\n",
            "2721\n",
            "1/1 [==============================] - 0s 37ms/step\n",
            "2722\n",
            "1/1 [==============================] - 0s 28ms/step\n",
            "2723\n",
            "1/1 [==============================] - 0s 34ms/step\n",
            "2724\n",
            "1/1 [==============================] - 0s 36ms/step\n",
            "2725\n",
            "1/1 [==============================] - 0s 54ms/step\n",
            "2726\n",
            "1/1 [==============================] - 0s 57ms/step\n",
            "2727\n",
            "1/1 [==============================] - 0s 45ms/step\n",
            "2728\n",
            "1/1 [==============================] - 0s 67ms/step\n",
            "2729\n",
            "1/1 [==============================] - 0s 50ms/step\n",
            "2730\n",
            "1/1 [==============================] - 0s 73ms/step\n",
            "2731\n",
            "1/1 [==============================] - 0s 42ms/step\n",
            "2732\n",
            "1/1 [==============================] - 0s 47ms/step\n",
            "2733\n",
            "1/1 [==============================] - 0s 41ms/step\n",
            "2734\n",
            "1/1 [==============================] - 0s 55ms/step\n",
            "2735\n",
            "1/1 [==============================] - 0s 63ms/step\n",
            "2736\n",
            "1/1 [==============================] - 0s 61ms/step\n",
            "2737\n",
            "1/1 [==============================] - 0s 41ms/step\n",
            "2738\n",
            "1/1 [==============================] - 0s 44ms/step\n",
            "2739\n",
            "1/1 [==============================] - 0s 65ms/step\n",
            "2740\n",
            "1/1 [==============================] - 0s 54ms/step\n",
            "2741\n",
            "1/1 [==============================] - 0s 52ms/step\n",
            "2742\n",
            "1/1 [==============================] - 0s 48ms/step\n",
            "2743\n",
            "1/1 [==============================] - 0s 42ms/step\n",
            "2744\n",
            "1/1 [==============================] - 0s 40ms/step\n",
            "2745\n",
            "1/1 [==============================] - 0s 40ms/step\n",
            "2746\n",
            "1/1 [==============================] - 0s 42ms/step\n",
            "2747\n",
            "1/1 [==============================] - 0s 63ms/step\n",
            "2748\n",
            "1/1 [==============================] - 0s 57ms/step\n",
            "2749\n",
            "1/1 [==============================] - 0s 85ms/step\n",
            "2750\n",
            "1/1 [==============================] - 0s 63ms/step\n",
            "2751\n",
            "1/1 [==============================] - 0s 58ms/step\n",
            "2752\n",
            "1/1 [==============================] - 0s 52ms/step\n",
            "2753\n",
            "1/1 [==============================] - 0s 63ms/step\n",
            "2754\n",
            "1/1 [==============================] - 0s 71ms/step\n",
            "2755\n",
            "1/1 [==============================] - 0s 64ms/step\n",
            "2756\n",
            "1/1 [==============================] - 0s 59ms/step\n",
            "2757\n",
            "1/1 [==============================] - 0s 46ms/step\n",
            "2758\n",
            "1/1 [==============================] - 0s 61ms/step\n",
            "2759\n",
            "1/1 [==============================] - 0s 48ms/step\n",
            "2760\n",
            "1/1 [==============================] - 0s 46ms/step\n",
            "2761\n",
            "1/1 [==============================] - 0s 47ms/step\n",
            "2762\n",
            "1/1 [==============================] - 0s 59ms/step\n",
            "2763\n",
            "1/1 [==============================] - 0s 51ms/step\n",
            "2764\n",
            "1/1 [==============================] - 0s 52ms/step\n",
            "2765\n",
            "1/1 [==============================] - 0s 65ms/step\n",
            "2766\n",
            "1/1 [==============================] - 0s 64ms/step\n",
            "2767\n",
            "1/1 [==============================] - 0s 49ms/step\n",
            "2768\n",
            "1/1 [==============================] - 0s 63ms/step\n",
            "2769\n",
            "1/1 [==============================] - 0s 44ms/step\n",
            "2770\n",
            "1/1 [==============================] - 0s 46ms/step\n",
            "2771\n",
            "1/1 [==============================] - 0s 47ms/step\n",
            "2772\n",
            "1/1 [==============================] - 0s 44ms/step\n",
            "2773\n",
            "1/1 [==============================] - 0s 50ms/step\n",
            "2774\n",
            "1/1 [==============================] - 0s 54ms/step\n",
            "2775\n",
            "1/1 [==============================] - 0s 51ms/step\n",
            "2776\n",
            "1/1 [==============================] - 0s 56ms/step\n",
            "2777\n",
            "1/1 [==============================] - 0s 48ms/step\n",
            "2778\n",
            "1/1 [==============================] - 0s 60ms/step\n",
            "2779\n",
            "1/1 [==============================] - 0s 60ms/step\n",
            "2780\n",
            "1/1 [==============================] - 0s 73ms/step\n",
            "2781\n",
            "1/1 [==============================] - 0s 45ms/step\n",
            "2782\n",
            "1/1 [==============================] - 0s 66ms/step\n",
            "2783\n",
            "1/1 [==============================] - 0s 46ms/step\n",
            "2784\n",
            "1/1 [==============================] - 0s 64ms/step\n",
            "2785\n",
            "1/1 [==============================] - 0s 64ms/step\n",
            "2786\n",
            "1/1 [==============================] - 0s 67ms/step\n",
            "2787\n",
            "1/1 [==============================] - 0s 60ms/step\n",
            "2788\n",
            "1/1 [==============================] - 0s 47ms/step\n",
            "2789\n",
            "1/1 [==============================] - 0s 45ms/step\n",
            "2790\n",
            "1/1 [==============================] - 0s 34ms/step\n",
            "2791\n",
            "1/1 [==============================] - 0s 32ms/step\n",
            "2792\n",
            "1/1 [==============================] - 0s 29ms/step\n",
            "2793\n",
            "1/1 [==============================] - 0s 29ms/step\n",
            "2794\n",
            "1/1 [==============================] - 0s 37ms/step\n",
            "2795\n",
            "1/1 [==============================] - 0s 32ms/step\n",
            "2796\n",
            "1/1 [==============================] - 0s 38ms/step\n",
            "2797\n",
            "1/1 [==============================] - 0s 35ms/step\n",
            "2798\n",
            "1/1 [==============================] - 0s 32ms/step\n",
            "2799\n",
            "1/1 [==============================] - 0s 29ms/step\n",
            "2800\n",
            "1/1 [==============================] - 0s 36ms/step\n",
            "2801\n",
            "1/1 [==============================] - 0s 51ms/step\n",
            "2802\n",
            "1/1 [==============================] - 0s 30ms/step\n",
            "2803\n",
            "1/1 [==============================] - 0s 30ms/step\n",
            "2804\n",
            "1/1 [==============================] - 0s 36ms/step\n",
            "2805\n",
            "1/1 [==============================] - 0s 35ms/step\n",
            "2806\n",
            "1/1 [==============================] - 0s 28ms/step\n",
            "2807\n",
            "1/1 [==============================] - 0s 33ms/step\n",
            "2808\n",
            "1/1 [==============================] - 0s 28ms/step\n",
            "2809\n",
            "1/1 [==============================] - 0s 49ms/step\n",
            "2810\n",
            "1/1 [==============================] - 0s 35ms/step\n",
            "2811\n",
            "1/1 [==============================] - 0s 30ms/step\n",
            "2812\n",
            "1/1 [==============================] - 0s 34ms/step\n",
            "2813\n",
            "1/1 [==============================] - 0s 31ms/step\n",
            "2814\n",
            "1/1 [==============================] - 0s 32ms/step\n",
            "2815\n",
            "1/1 [==============================] - 0s 29ms/step\n",
            "2816\n",
            "1/1 [==============================] - 0s 35ms/step\n",
            "2817\n",
            "1/1 [==============================] - 0s 29ms/step\n",
            "2818\n",
            "1/1 [==============================] - 0s 28ms/step\n",
            "2819\n",
            "1/1 [==============================] - 0s 30ms/step\n",
            "2820\n",
            "1/1 [==============================] - 0s 35ms/step\n",
            "2821\n",
            "1/1 [==============================] - 0s 30ms/step\n",
            "2822\n",
            "1/1 [==============================] - 0s 37ms/step\n",
            "2823\n",
            "1/1 [==============================] - 0s 34ms/step\n",
            "2824\n",
            "1/1 [==============================] - 0s 33ms/step\n",
            "2825\n",
            "1/1 [==============================] - 0s 31ms/step\n",
            "2826\n",
            "1/1 [==============================] - 0s 29ms/step\n",
            "2827\n",
            "1/1 [==============================] - 0s 29ms/step\n",
            "2828\n",
            "1/1 [==============================] - 0s 29ms/step\n",
            "2829\n",
            "1/1 [==============================] - 0s 28ms/step\n",
            "2830\n",
            "1/1 [==============================] - 0s 32ms/step\n",
            "2831\n",
            "1/1 [==============================] - 0s 30ms/step\n",
            "2832\n",
            "1/1 [==============================] - 0s 34ms/step\n",
            "2833\n",
            "1/1 [==============================] - 0s 28ms/step\n",
            "2834\n",
            "1/1 [==============================] - 0s 28ms/step\n",
            "2835\n",
            "1/1 [==============================] - 0s 31ms/step\n",
            "2836\n",
            "1/1 [==============================] - 0s 30ms/step\n",
            "2837\n",
            "1/1 [==============================] - 0s 28ms/step\n",
            "2838\n",
            "1/1 [==============================] - 0s 29ms/step\n",
            "2839\n",
            "1/1 [==============================] - 0s 37ms/step\n",
            "2840\n",
            "1/1 [==============================] - 0s 36ms/step\n",
            "2841\n",
            "1/1 [==============================] - 0s 29ms/step\n",
            "2842\n",
            "1/1 [==============================] - 0s 29ms/step\n",
            "2843\n",
            "1/1 [==============================] - 0s 35ms/step\n",
            "2844\n",
            "1/1 [==============================] - 0s 30ms/step\n",
            "2845\n",
            "1/1 [==============================] - 0s 34ms/step\n",
            "2846\n",
            "1/1 [==============================] - 0s 31ms/step\n",
            "2847\n",
            "1/1 [==============================] - 0s 29ms/step\n",
            "2848\n",
            "1/1 [==============================] - 0s 31ms/step\n",
            "2849\n",
            "1/1 [==============================] - 0s 32ms/step\n",
            "2850\n",
            "1/1 [==============================] - 0s 30ms/step\n",
            "2851\n",
            "1/1 [==============================] - 0s 43ms/step\n",
            "2852\n",
            "1/1 [==============================] - 0s 29ms/step\n",
            "2853\n",
            "1/1 [==============================] - 0s 30ms/step\n",
            "2854\n",
            "1/1 [==============================] - 0s 33ms/step\n",
            "2855\n",
            "1/1 [==============================] - 0s 29ms/step\n",
            "2856\n",
            "1/1 [==============================] - 0s 29ms/step\n",
            "2857\n",
            "1/1 [==============================] - 0s 37ms/step\n",
            "2858\n",
            "1/1 [==============================] - 0s 40ms/step\n",
            "2859\n",
            "1/1 [==============================] - 0s 35ms/step\n",
            "2860\n",
            "1/1 [==============================] - 0s 31ms/step\n",
            "2861\n",
            "1/1 [==============================] - 0s 41ms/step\n",
            "2862\n",
            "1/1 [==============================] - 0s 34ms/step\n",
            "2863\n",
            "1/1 [==============================] - 0s 30ms/step\n",
            "2864\n",
            "1/1 [==============================] - 0s 30ms/step\n",
            "2865\n",
            "1/1 [==============================] - 0s 34ms/step\n",
            "2866\n",
            "1/1 [==============================] - 0s 36ms/step\n",
            "2867\n",
            "1/1 [==============================] - 0s 35ms/step\n",
            "2868\n",
            "1/1 [==============================] - 0s 32ms/step\n",
            "2869\n",
            "1/1 [==============================] - 0s 32ms/step\n",
            "2870\n",
            "1/1 [==============================] - 0s 30ms/step\n",
            "2871\n",
            "1/1 [==============================] - 0s 29ms/step\n",
            "2872\n",
            "1/1 [==============================] - 0s 28ms/step\n",
            "2873\n",
            "1/1 [==============================] - 0s 32ms/step\n",
            "2874\n",
            "1/1 [==============================] - 0s 31ms/step\n",
            "2875\n",
            "1/1 [==============================] - 0s 30ms/step\n",
            "2876\n",
            "1/1 [==============================] - 0s 32ms/step\n",
            "2877\n",
            "1/1 [==============================] - 0s 30ms/step\n",
            "2878\n",
            "1/1 [==============================] - 0s 33ms/step\n",
            "2879\n",
            "1/1 [==============================] - 0s 29ms/step\n",
            "2880\n",
            "1/1 [==============================] - 0s 33ms/step\n",
            "2881\n",
            "1/1 [==============================] - 0s 29ms/step\n",
            "2882\n",
            "1/1 [==============================] - 0s 32ms/step\n",
            "2883\n",
            "1/1 [==============================] - 0s 34ms/step\n",
            "2884\n",
            "1/1 [==============================] - 0s 30ms/step\n",
            "2885\n",
            "1/1 [==============================] - 0s 32ms/step\n",
            "2886\n",
            "1/1 [==============================] - 0s 30ms/step\n",
            "2887\n",
            "1/1 [==============================] - 0s 31ms/step\n",
            "2888\n",
            "1/1 [==============================] - 0s 33ms/step\n",
            "2889\n",
            "1/1 [==============================] - 0s 29ms/step\n",
            "2890\n",
            "1/1 [==============================] - 0s 33ms/step\n",
            "2891\n",
            "1/1 [==============================] - 0s 33ms/step\n",
            "2892\n",
            "1/1 [==============================] - 0s 30ms/step\n",
            "2893\n",
            "1/1 [==============================] - 0s 30ms/step\n",
            "2894\n",
            "1/1 [==============================] - 0s 39ms/step\n",
            "2895\n",
            "1/1 [==============================] - 0s 60ms/step\n",
            "2896\n",
            "1/1 [==============================] - 0s 57ms/step\n",
            "2897\n",
            "1/1 [==============================] - 0s 67ms/step\n",
            "2898\n",
            "1/1 [==============================] - 0s 45ms/step\n",
            "2899\n",
            "1/1 [==============================] - 0s 44ms/step\n",
            "2900\n",
            "1/1 [==============================] - 0s 62ms/step\n",
            "2901\n",
            "1/1 [==============================] - 0s 43ms/step\n",
            "2902\n",
            "1/1 [==============================] - 0s 63ms/step\n",
            "2903\n",
            "1/1 [==============================] - 0s 60ms/step\n",
            "2904\n",
            "1/1 [==============================] - 0s 44ms/step\n",
            "2905\n",
            "1/1 [==============================] - 0s 61ms/step\n",
            "2906\n",
            "1/1 [==============================] - 0s 42ms/step\n",
            "2907\n",
            "1/1 [==============================] - 0s 42ms/step\n",
            "2908\n",
            "1/1 [==============================] - 0s 41ms/step\n",
            "2909\n",
            "1/1 [==============================] - 0s 46ms/step\n",
            "2910\n",
            "1/1 [==============================] - 0s 49ms/step\n",
            "2911\n",
            "1/1 [==============================] - 0s 59ms/step\n",
            "2912\n",
            "1/1 [==============================] - 0s 48ms/step\n",
            "2913\n",
            "1/1 [==============================] - 0s 41ms/step\n",
            "2914\n",
            "1/1 [==============================] - 0s 41ms/step\n",
            "2915\n",
            "1/1 [==============================] - 0s 61ms/step\n",
            "2916\n",
            "1/1 [==============================] - 0s 69ms/step\n",
            "2917\n",
            "1/1 [==============================] - 0s 45ms/step\n",
            "2918\n",
            "1/1 [==============================] - 0s 43ms/step\n",
            "2919\n",
            "1/1 [==============================] - 0s 46ms/step\n",
            "2920\n",
            "1/1 [==============================] - 0s 51ms/step\n",
            "2921\n",
            "1/1 [==============================] - 0s 73ms/step\n",
            "2922\n",
            "1/1 [==============================] - 0s 60ms/step\n",
            "2923\n",
            "1/1 [==============================] - 0s 62ms/step\n",
            "2924\n",
            "1/1 [==============================] - 0s 46ms/step\n",
            "2925\n",
            "1/1 [==============================] - 0s 48ms/step\n",
            "2926\n",
            "1/1 [==============================] - 0s 69ms/step\n",
            "2927\n",
            "1/1 [==============================] - 0s 77ms/step\n",
            "2928\n",
            "1/1 [==============================] - 0s 61ms/step\n",
            "2929\n",
            "1/1 [==============================] - 0s 46ms/step\n",
            "2930\n",
            "1/1 [==============================] - 0s 48ms/step\n",
            "2931\n",
            "1/1 [==============================] - 0s 53ms/step\n",
            "2932\n",
            "1/1 [==============================] - 0s 52ms/step\n",
            "2933\n",
            "1/1 [==============================] - 0s 49ms/step\n",
            "2934\n",
            "1/1 [==============================] - 0s 55ms/step\n",
            "2935\n",
            "1/1 [==============================] - 0s 56ms/step\n",
            "2936\n",
            "1/1 [==============================] - 0s 46ms/step\n",
            "2937\n",
            "1/1 [==============================] - 0s 51ms/step\n",
            "2938\n",
            "1/1 [==============================] - 0s 57ms/step\n",
            "2939\n",
            "1/1 [==============================] - 0s 49ms/step\n",
            "2940\n",
            "1/1 [==============================] - 0s 46ms/step\n",
            "2941\n",
            "1/1 [==============================] - 0s 61ms/step\n",
            "2942\n",
            "1/1 [==============================] - 0s 52ms/step\n",
            "2943\n",
            "1/1 [==============================] - 0s 53ms/step\n",
            "2944\n",
            "1/1 [==============================] - 0s 51ms/step\n",
            "2945\n",
            "1/1 [==============================] - 0s 47ms/step\n",
            "2946\n"
          ]
        }
      ]
    },
    {
      "cell_type": "code",
      "source": [
        "from sklearn.metrics import confusion_matrix, accuracy_score\n",
        "\n",
        "print('Accuracy score TEST: {:.3f}'.format(accuracy_score(yexpect, scores)*100))"
      ],
      "metadata": {
        "colab": {
          "base_uri": "https://localhost:8080/"
        },
        "id": "TGojGJTmepFc",
        "outputId": "d6a9b79c-41e4-4fc3-d9cf-34e17e936b1f"
      },
      "execution_count": 168,
      "outputs": [
        {
          "output_type": "stream",
          "name": "stdout",
          "text": [
            "Accuracy score TEST: 92.331\n"
          ]
        }
      ]
    }
  ],
  "metadata": {
    "kernelspec": {
      "display_name": "Python 3",
      "name": "python3"
    },
    "language_info": {
      "codemirror_mode": {
        "name": "ipython",
        "version": 3
      },
      "file_extension": ".py",
      "mimetype": "text/x-python",
      "name": "python",
      "nbconvert_exporter": "python",
      "pygments_lexer": "ipython3",
      "version": "3.7.3"
    },
    "colab": {
      "provenance": [],
      "gpuType": "T4",
      "include_colab_link": true
    },
    "accelerator": "GPU"
  },
  "nbformat": 4,
  "nbformat_minor": 0
}