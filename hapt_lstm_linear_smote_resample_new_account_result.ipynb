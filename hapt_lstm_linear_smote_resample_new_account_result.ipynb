{
  "cells": [
    {
      "cell_type": "markdown",
      "metadata": {
        "id": "view-in-github",
        "colab_type": "text"
      },
      "source": [
        "<a href=\"https://colab.research.google.com/github/zamalex/BakingFinal/blob/master/hapt_lstm_linear_smote_resample_new_account_result.ipynb\" target=\"_parent\"><img src=\"https://colab.research.google.com/assets/colab-badge.svg\" alt=\"Open In Colab\"/></a>"
      ]
    },
    {
      "cell_type": "code",
      "execution_count": null,
      "id": "710390bc",
      "metadata": {
        "execution": {
          "iopub.execute_input": "2022-06-19T19:45:18.409685Z",
          "iopub.status.busy": "2022-06-19T19:45:18.409079Z",
          "iopub.status.idle": "2022-06-19T19:45:24.116171Z",
          "shell.execute_reply": "2022-06-19T19:45:24.115360Z"
        },
        "papermill": {
          "duration": 5.72502,
          "end_time": "2022-06-19T19:45:24.118364",
          "exception": false,
          "start_time": "2022-06-19T19:45:18.393344",
          "status": "completed"
        },
        "tags": [],
        "id": "710390bc"
      },
      "outputs": [],
      "source": [
        "import numpy as np\n",
        "import pandas as pd\n",
        "import pickle\n",
        "import tensorflow as tf\n",
        "from tensorflow import keras\n",
        "from tensorflow.keras import layers\n",
        "from sklearn.preprocessing import OneHotEncoder\n",
        "from sklearn.preprocessing import MinMaxScaler\n",
        "import matplotlib.pyplot as plt\n",
        "import seaborn as sb\n",
        "from sklearn.model_selection import train_test_split\n",
        "from sklearn.metrics import confusion_matrix\n",
        "import sklearn.metrics\n",
        "from tensorflow.keras.utils import plot_model\n",
        "import datetime\n"
      ]
    },
    {
      "cell_type": "code",
      "execution_count": null,
      "id": "85fe8286",
      "metadata": {
        "id": "85fe8286"
      },
      "outputs": [],
      "source": [
        "%load_ext tensorboard\n"
      ]
    },
    {
      "cell_type": "markdown",
      "id": "34b7de89",
      "metadata": {
        "papermill": {
          "duration": 0.011639,
          "end_time": "2022-06-19T19:45:24.142218",
          "exception": false,
          "start_time": "2022-06-19T19:45:24.130579",
          "status": "completed"
        },
        "tags": [],
        "id": "34b7de89"
      },
      "source": [
        "# Some methods and data which will be used below"
      ]
    },
    {
      "cell_type": "code",
      "execution_count": null,
      "id": "acb12b54",
      "metadata": {
        "execution": {
          "iopub.execute_input": "2022-06-19T19:45:24.166129Z",
          "iopub.status.busy": "2022-06-19T19:45:24.165537Z",
          "iopub.status.idle": "2022-06-19T19:45:24.173095Z",
          "shell.execute_reply": "2022-06-19T19:45:24.172181Z"
        },
        "papermill": {
          "duration": 0.02181,
          "end_time": "2022-06-19T19:45:24.175263",
          "exception": false,
          "start_time": "2022-06-19T19:45:24.153453",
          "status": "completed"
        },
        "tags": [],
        "id": "acb12b54"
      },
      "outputs": [],
      "source": [
        "# (i).   Mapping labels to their resp. classes\n",
        "# (ii).  Mapping classes to their resp. labels\n",
        "\n",
        "label_to_class = {\n",
        "    1  : 'WALKING',          \n",
        "    2  : 'WALKING_UPSTAIRS', \n",
        "    3  : 'WALKING_DOWNSTAIRS',\n",
        "    4  : 'SITTING',      \n",
        "    5  : 'STANDING',       \n",
        "    6  : 'LAYING',         \n",
        "    7  : 'STAND_TO_SIT',      \n",
        "    8  : 'SIT_TO_STAND',     \n",
        "    9  : 'SIT_TO_LIE',     \n",
        "    10 : 'LIE_TO_SIT',      \n",
        "    11 : 'STAND_TO_LIE',      \n",
        "    12 : 'LIE_TO_STAND',   \n",
        "    np.nan : np.nan\n",
        "}\n",
        "class_to_label = {\n",
        "    'WALKING' : 1,\n",
        "    'WALKING_UPSTAIRS' : 2,\n",
        "    'WALKING_DOWNSTAIRS' : 3,\n",
        "    'SITTING' : 4,\n",
        "    'STANDING' : 5,         \n",
        "    'LAYING' : 6,      \n",
        "    'STAND_TO_SIT' : 7,     \n",
        "    'SIT_TO_STAND' : 8,     \n",
        "    'SIT_TO_LIE' : 9,     \n",
        "    'LIE_TO_SIT' : 10,        \n",
        "    'STAND_TO_LIE' : 11,     \n",
        "    'LIE_TO_STAND' : 12,\n",
        "    np.nan : np.nan\n",
        "}"
      ]
    },
    {
      "cell_type": "code",
      "execution_count": null,
      "id": "3f858fa9",
      "metadata": {
        "execution": {
          "iopub.execute_input": "2022-06-19T19:45:24.264511Z",
          "iopub.status.busy": "2022-06-19T19:45:24.264239Z",
          "iopub.status.idle": "2022-06-19T19:45:24.270803Z",
          "shell.execute_reply": "2022-06-19T19:45:24.270080Z"
        },
        "papermill": {
          "duration": 0.020069,
          "end_time": "2022-06-19T19:45:24.272568",
          "exception": false,
          "start_time": "2022-06-19T19:45:24.252499",
          "status": "completed"
        },
        "tags": [],
        "id": "3f858fa9"
      },
      "outputs": [],
      "source": [
        "# (i).   Removing data-points where y and x values is null\n",
        "\n",
        "# Other methods can be\n",
        "# ffill (forward fill) => fills using forward points\n",
        "# bfill (backward fill) => using backward points\n",
        "# interpolate\n",
        "\n",
        "def remove_null(xdata,ydata):\n",
        "    xdata = xdata[np.where(np.isfinite(ydata))]\n",
        "    ydata = ydata[np.where(np.isfinite(ydata))]\n",
        "    ydata = ydata[np.where(np.isfinite(xdata).all(axis = 1).all(axis = 1).all(axis = 1))]\n",
        "    xdata = xdata[np.where(np.isfinite(xdata).all(axis = 1).all(axis = 1).all(axis = 1))]\n",
        " \n",
        "    return xdata,ydata"
      ]
    },
    {
      "cell_type": "code",
      "execution_count": null,
      "id": "3dd947e8",
      "metadata": {
        "execution": {
          "iopub.execute_input": "2022-06-19T19:45:24.296331Z",
          "iopub.status.busy": "2022-06-19T19:45:24.296090Z",
          "iopub.status.idle": "2022-06-19T19:45:24.304759Z",
          "shell.execute_reply": "2022-06-19T19:45:24.304080Z"
        },
        "papermill": {
          "duration": 0.021963,
          "end_time": "2022-06-19T19:45:24.306292",
          "exception": false,
          "start_time": "2022-06-19T19:45:24.284329",
          "status": "completed"
        },
        "tags": [],
        "id": "3dd947e8"
      },
      "outputs": [],
      "source": [
        "# normalize xdata using sklearn.preprocessing.StandardScaler and returns \n",
        "# scaler object to use it furthur for testing data\n",
        "\n",
        "# Each axis of each sensor has different min, max, I scaled according to them seperately\n",
        "# Initial shape == (None,128,2,3)\n",
        "# changed to (None , 6) :-\n",
        "# reshape to (None,128,6) -> swapaxis(0,2) -> reshape(6,-1) -> transpose\n",
        "# Fit scaler OR transform according to scaler\n",
        "\n",
        "# Reverse above process to get back oiginal data\n",
        "# transpose -> reshape(6,128,None) -> swapaxes(0,2) -> reshape(None,128,2,3)\n",
        "\n",
        "def get_scaler(xdata):\n",
        "    \n",
        "    row = xdata.shape[0]\n",
        "    timestamp = xdata.shape[1]\n",
        "    sensor = xdata.shape[2]\n",
        "    axis = xdata.shape[3]\n",
        "    \n",
        "    scaler = MinMaxScaler(feature_range = (-1,1))\n",
        "    xdata = xdata.reshape(row,timestamp,sensor*axis)\n",
        "    xdata = np.swapaxes(xdata,0,2).reshape(sensor*axis,-1).T\n",
        "    scaler.fit(xdata)\n",
        "    return scaler\n",
        "\n",
        "def scale_data(xdata,scaler):\n",
        "    \n",
        "    row = xdata.shape[0]\n",
        "    timestamp = xdata.shape[1]\n",
        "    sensor = xdata.shape[2]\n",
        "    axis = xdata.shape[3]\n",
        "    \n",
        "    xdata = xdata.reshape(row,timestamp,sensor*axis)\n",
        "    xdata = np.swapaxes(xdata,0,2).reshape(sensor*axis,-1).T\n",
        "    xdata = scaler.transform(xdata)\n",
        "    xdata = xdata.T.reshape(sensor*axis,timestamp,row)\n",
        "    xdata = np.swapaxes(xdata,0,2).reshape(row,timestamp,sensor,axis)\n",
        "    \n",
        "    return xdata"
      ]
    },
    {
      "cell_type": "code",
      "execution_count": null,
      "id": "4dc1da5f",
      "metadata": {
        "execution": {
          "iopub.execute_input": "2022-06-19T19:45:24.329322Z",
          "iopub.status.busy": "2022-06-19T19:45:24.329083Z",
          "iopub.status.idle": "2022-06-19T19:45:24.336152Z",
          "shell.execute_reply": "2022-06-19T19:45:24.335346Z"
        },
        "papermill": {
          "duration": 0.020569,
          "end_time": "2022-06-19T19:45:24.337939",
          "exception": false,
          "start_time": "2022-06-19T19:45:24.317370",
          "status": "completed"
        },
        "tags": [],
        "id": "4dc1da5f"
      },
      "outputs": [],
      "source": [
        "# takes in location, exp no., user no., start and end(end point is excluded from reading i.e lastpoint+1) point \n",
        "# ,overlap array, and returns xdata and ydata\n",
        "\n",
        "def create_windows(location, exp, user, start, end, activity, length, overlap):\n",
        "    \n",
        "    acc_file  = location + '/acc_exp'+ str(exp).zfill(2) + '_user' + str(user).zfill(2) + '.txt'\n",
        "    gyro_file = location + '/gyro_exp'+ str(exp).zfill(2) + '_user' + str(user).zfill(2) + '.txt'\n",
        "\n",
        "    acc_data  = np.loadtxt(acc_file)\n",
        "    gyro_data = np.loadtxt(gyro_file)\n",
        "    \n",
        "    xtrain = []\n",
        "    ytrain = []\n",
        "    \n",
        "    while (start + length <= end) : \n",
        "          \n",
        "        stop = start + length\n",
        "        window = []\n",
        "        \n",
        "        while start != stop :\n",
        "            window.append( [acc_data[start] , gyro_data[start]] )\n",
        "            start += 1\n",
        "        \n",
        "        xtrain.append(window)\n",
        "        ytrain.append(activity)\n",
        "        \n",
        "        start = stop - overlap[activity-1]\n",
        "\n",
        "    return xtrain,ytrain"
      ]
    },
    {
      "cell_type": "code",
      "execution_count": null,
      "id": "f33cd7f1",
      "metadata": {
        "execution": {
          "iopub.execute_input": "2022-06-19T19:45:24.361150Z",
          "iopub.status.busy": "2022-06-19T19:45:24.360713Z",
          "iopub.status.idle": "2022-06-19T19:45:24.366457Z",
          "shell.execute_reply": "2022-06-19T19:45:24.365783Z"
        },
        "papermill": {
          "duration": 0.019218,
          "end_time": "2022-06-19T19:45:24.368201",
          "exception": false,
          "start_time": "2022-06-19T19:45:24.348983",
          "status": "completed"
        },
        "tags": [],
        "id": "f33cd7f1"
      },
      "outputs": [],
      "source": [
        "# location == location of file\n",
        "# lenght == lenght of window\n",
        "# overlap == array of overlaps of size == number of unique activities\n",
        "# overlap depends on activity so as to extract more data from a particular class if needed\n",
        "\n",
        "\n",
        "# (i).   Loading labels.txt as labels\n",
        "# (ii).  Iterating in labels and calling create_windows on acceleration file, extending returned data in xtrain, ytrain \n",
        "# (iii). Iterating in labels and calling create_windows on gyroscope file, extending returned data in xtrain, ytrain \n",
        "\n",
        "def prepare_data(location,length = 128,overlap = [64]*12):\n",
        "\n",
        "    xdata = []\n",
        "    ydata = []\n",
        "        \n",
        "    labels = np.loadtxt(location+'/labels.txt',dtype = 'uint32')\n",
        "    \n",
        "    for exp,user,activity,start,end in labels :\n",
        "\n",
        "        xtemp , ytemp = create_windows(location, exp, user, start, end+1, activity, length, overlap)\n",
        "        xdata.extend(xtemp)\n",
        "        ydata.extend(ytemp)\n",
        "        \n",
        "    return np.array(xdata),np.array(ydata)"
      ]
    },
    {
      "cell_type": "code",
      "execution_count": null,
      "id": "b318e437",
      "metadata": {
        "execution": {
          "iopub.execute_input": "2022-06-19T19:45:24.391376Z",
          "iopub.status.busy": "2022-06-19T19:45:24.391139Z",
          "iopub.status.idle": "2022-06-19T19:45:24.395659Z",
          "shell.execute_reply": "2022-06-19T19:45:24.394867Z"
        },
        "papermill": {
          "duration": 0.018212,
          "end_time": "2022-06-19T19:45:24.397489",
          "exception": false,
          "start_time": "2022-06-19T19:45:24.379277",
          "status": "completed"
        },
        "tags": [],
        "id": "b318e437"
      },
      "outputs": [],
      "source": [
        "# (i). Finds max element index sets its 1 and sets remaining 0\n",
        "#      for each row\n",
        "\n",
        "def to_categorical(ydata):\n",
        "    \n",
        "    for i in range(len(ydata)):\n",
        "        j = ydata[i].argmax()\n",
        "        for k in range(len(ydata[i])):\n",
        "            ydata[i][k] = (k == j)\n",
        "    return ydata"
      ]
    },
    {
      "cell_type": "code",
      "execution_count": null,
      "id": "579c09d2",
      "metadata": {
        "execution": {
          "iopub.execute_input": "2022-06-19T19:45:24.420532Z",
          "iopub.status.busy": "2022-06-19T19:45:24.420258Z",
          "iopub.status.idle": "2022-06-19T19:45:24.424792Z",
          "shell.execute_reply": "2022-06-19T19:45:24.424095Z"
        },
        "papermill": {
          "duration": 0.017848,
          "end_time": "2022-06-19T19:45:24.426390",
          "exception": false,
          "start_time": "2022-06-19T19:45:24.408542",
          "status": "completed"
        },
        "tags": [],
        "id": "579c09d2"
      },
      "outputs": [],
      "source": [
        "# (i).  OneHotEncoding ydata\n",
        "# (ii). Converting sparsh matrix ydata into dense form and then matrix into numpy array\n",
        "\n",
        "def one_hot_encoded(ydata):\n",
        "    ydata = OneHotEncoder().fit_transform(ydata.reshape(len(ydata),1))\n",
        "    ydata = np.asarray(ydata.todense())\n",
        "    return ydata"
      ]
    },
    {
      "cell_type": "markdown",
      "id": "b6a39fe3",
      "metadata": {
        "papermill": {
          "duration": 0.011237,
          "end_time": "2022-06-19T19:45:24.448736",
          "exception": false,
          "start_time": "2022-06-19T19:45:24.437499",
          "status": "completed"
        },
        "tags": [],
        "id": "b6a39fe3"
      },
      "source": [
        "# Data Preparation"
      ]
    },
    {
      "cell_type": "markdown",
      "id": "5f273b67",
      "metadata": {
        "papermill": {
          "duration": 0.010949,
          "end_time": "2022-06-19T19:45:24.471263",
          "exception": false,
          "start_time": "2022-06-19T19:45:24.460314",
          "status": "completed"
        },
        "tags": [],
        "id": "5f273b67"
      },
      "source": [
        "## Loading data from files"
      ]
    },
    {
      "cell_type": "code",
      "source": [
        "from google.colab import drive\n",
        "drive.mount('/content/drive')"
      ],
      "metadata": {
        "id": "WFDZZC5mWQUE"
      },
      "id": "WFDZZC5mWQUE",
      "execution_count": null,
      "outputs": []
    },
    {
      "cell_type": "code",
      "execution_count": null,
      "id": "33251699",
      "metadata": {
        "execution": {
          "iopub.execute_input": "2022-06-19T19:45:24.494316Z",
          "iopub.status.busy": "2022-06-19T19:45:24.494074Z",
          "iopub.status.idle": "2022-06-19T19:52:17.349056Z",
          "shell.execute_reply": "2022-06-19T19:52:17.348154Z"
        },
        "papermill": {
          "duration": 412.868929,
          "end_time": "2022-06-19T19:52:17.351298",
          "exception": false,
          "start_time": "2022-06-19T19:45:24.482369",
          "status": "completed"
        },
        "tags": [],
        "id": "33251699"
      },
      "outputs": [],
      "source": [
        "# Preparing data, xtrain, ytrain\n",
        "# Last six classes [7 to 12] has very less weightage in data since they are extra classes added \n",
        "# , made from original six classes\n",
        "# so, I took more overlapping in them to get slightly more data\n",
        "\n",
        "xtrain,ytrain = prepare_data('/content/drive/MyDrive/HAPT Data Set/RawData',128,[0,0,0,0,0,0,0,0,0,0,0,0])"
      ]
    },
    {
      "cell_type": "code",
      "execution_count": null,
      "id": "d0b71fee",
      "metadata": {
        "id": "d0b71fee"
      },
      "outputs": [],
      "source": [
        "xtrain.shape"
      ]
    },
    {
      "cell_type": "code",
      "execution_count": null,
      "id": "9a01c9d7",
      "metadata": {
        "id": "9a01c9d7"
      },
      "outputs": [],
      "source": [
        "128*6"
      ]
    },
    {
      "cell_type": "code",
      "execution_count": null,
      "id": "34745623",
      "metadata": {
        "id": "34745623"
      },
      "outputs": [],
      "source": [
        "xtrain = xtrain.reshape(5773,768)\n"
      ]
    },
    {
      "cell_type": "code",
      "execution_count": null,
      "id": "dc62bc0e",
      "metadata": {
        "id": "dc62bc0e"
      },
      "outputs": [],
      "source": [
        "xtrain.shape"
      ]
    },
    {
      "cell_type": "code",
      "execution_count": null,
      "id": "657b88fa",
      "metadata": {
        "id": "657b88fa"
      },
      "outputs": [],
      "source": [
        "df = pd.DataFrame(xtrain)\n",
        "df.sample()"
      ]
    },
    {
      "cell_type": "code",
      "execution_count": null,
      "id": "a40e843a",
      "metadata": {
        "id": "a40e843a"
      },
      "outputs": [],
      "source": []
    },
    {
      "cell_type": "code",
      "execution_count": null,
      "id": "46ff2ccb",
      "metadata": {
        "id": "46ff2ccb"
      },
      "outputs": [],
      "source": [
        "ytrain.shape"
      ]
    },
    {
      "cell_type": "code",
      "execution_count": null,
      "id": "ca7bca02",
      "metadata": {
        "id": "ca7bca02"
      },
      "outputs": [],
      "source": [
        "# Load the TensorBoard notebook extension\n",
        "%load_ext tensorboard"
      ]
    },
    {
      "cell_type": "code",
      "execution_count": null,
      "id": "94d3be82",
      "metadata": {
        "id": "94d3be82"
      },
      "outputs": [],
      "source": [
        "import tensorflow as tf\n",
        "import datetime\n",
        "\n",
        "# Clear any logs from previous runs\n",
        "!rm -rf ./logs/ "
      ]
    },
    {
      "cell_type": "code",
      "execution_count": null,
      "id": "f216366c",
      "metadata": {
        "id": "f216366c"
      },
      "outputs": [],
      "source": []
    },
    {
      "cell_type": "code",
      "execution_count": null,
      "id": "29981f93",
      "metadata": {
        "id": "29981f93"
      },
      "outputs": [],
      "source": [
        "from imblearn.over_sampling import RandomOverSampler\n",
        "from collections import Counter\n",
        "from sklearn.datasets import make_classification\n",
        "from imblearn.over_sampling import SMOTE\n",
        "\n",
        "oversample = SMOTE()\n",
        "df, ytrain = oversample.fit_resample(df, ytrain)"
      ]
    },
    {
      "cell_type": "code",
      "execution_count": null,
      "id": "24c60fba",
      "metadata": {
        "id": "24c60fba"
      },
      "outputs": [],
      "source": [
        "xtrain.shape"
      ]
    },
    {
      "cell_type": "code",
      "execution_count": null,
      "id": "b2f97618",
      "metadata": {
        "id": "b2f97618"
      },
      "outputs": [],
      "source": [
        "df.shape"
      ]
    },
    {
      "cell_type": "code",
      "execution_count": null,
      "id": "cf62d8a7",
      "metadata": {
        "id": "cf62d8a7"
      },
      "outputs": [],
      "source": [
        "ytrain.shape"
      ]
    },
    {
      "cell_type": "code",
      "execution_count": null,
      "id": "a2e72ae5",
      "metadata": {
        "id": "a2e72ae5"
      },
      "outputs": [],
      "source": [
        "df=df.to_numpy()\n",
        "xtrain=df.reshape(12228,128,6)"
      ]
    },
    {
      "cell_type": "code",
      "execution_count": null,
      "id": "c16d7852",
      "metadata": {
        "id": "c16d7852"
      },
      "outputs": [],
      "source": [
        "xtrain.shape"
      ]
    },
    {
      "cell_type": "code",
      "execution_count": null,
      "id": "0b65b70a",
      "metadata": {
        "id": "0b65b70a"
      },
      "outputs": [],
      "source": [
        "xtrain=df.reshape(12228,128,2,3)"
      ]
    },
    {
      "cell_type": "code",
      "execution_count": null,
      "id": "caf92458",
      "metadata": {
        "id": "caf92458"
      },
      "outputs": [],
      "source": [
        "xtrain.shape"
      ]
    },
    {
      "cell_type": "markdown",
      "id": "2499a87b",
      "metadata": {
        "papermill": {
          "duration": 0.010898,
          "end_time": "2022-06-19T19:52:17.430880",
          "exception": false,
          "start_time": "2022-06-19T19:52:17.419982",
          "status": "completed"
        },
        "tags": [],
        "id": "2499a87b"
      },
      "source": [
        "## Handling missing data and Normalizing data "
      ]
    },
    {
      "cell_type": "code",
      "execution_count": null,
      "id": "c8a564b8",
      "metadata": {
        "execution": {
          "iopub.execute_input": "2022-06-19T19:52:17.454382Z",
          "iopub.status.busy": "2022-06-19T19:52:17.453864Z",
          "iopub.status.idle": "2022-06-19T19:52:17.585363Z",
          "shell.execute_reply": "2022-06-19T19:52:17.584482Z"
        },
        "papermill": {
          "duration": 0.145546,
          "end_time": "2022-06-19T19:52:17.587473",
          "exception": false,
          "start_time": "2022-06-19T19:52:17.441927",
          "status": "completed"
        },
        "tags": [],
        "id": "c8a564b8"
      },
      "outputs": [],
      "source": [
        "xtrain,ytrain = remove_null(xtrain,ytrain)"
      ]
    },
    {
      "cell_type": "code",
      "execution_count": null,
      "id": "8384d3f1",
      "metadata": {
        "id": "8384d3f1"
      },
      "outputs": [],
      "source": [
        "xtrain.shape"
      ]
    },
    {
      "cell_type": "code",
      "execution_count": null,
      "id": "a21dcce8",
      "metadata": {
        "id": "a21dcce8"
      },
      "outputs": [],
      "source": [
        "2449+2960+364"
      ]
    },
    {
      "cell_type": "code",
      "execution_count": null,
      "id": "874d8e8f",
      "metadata": {
        "id": "874d8e8f"
      },
      "outputs": [],
      "source": []
    },
    {
      "cell_type": "code",
      "execution_count": null,
      "id": "aa35114b",
      "metadata": {
        "execution": {
          "iopub.execute_input": "2022-06-19T19:52:17.612618Z",
          "iopub.status.busy": "2022-06-19T19:52:17.611911Z",
          "iopub.status.idle": "2022-06-19T19:52:17.642064Z",
          "shell.execute_reply": "2022-06-19T19:52:17.641240Z"
        },
        "papermill": {
          "duration": 0.044317,
          "end_time": "2022-06-19T19:52:17.644131",
          "exception": false,
          "start_time": "2022-06-19T19:52:17.599814",
          "status": "completed"
        },
        "tags": [],
        "id": "aa35114b"
      },
      "outputs": [],
      "source": [
        "# splitting into training (70%) testing (15%) and validation (15%) set\n",
        "\n",
        "xtrain,xtest,ytrain,ytest = train_test_split(xtrain,ytrain,test_size = 0.3)\n"
      ]
    },
    {
      "cell_type": "code",
      "execution_count": null,
      "id": "289657ed",
      "metadata": {
        "execution": {
          "iopub.execute_input": "2022-06-19T19:52:17.668789Z",
          "iopub.status.busy": "2022-06-19T19:52:17.668505Z",
          "iopub.status.idle": "2022-06-19T19:52:17.675910Z",
          "shell.execute_reply": "2022-06-19T19:52:17.675227Z"
        },
        "papermill": {
          "duration": 0.022507,
          "end_time": "2022-06-19T19:52:17.678383",
          "exception": false,
          "start_time": "2022-06-19T19:52:17.655876",
          "status": "completed"
        },
        "tags": [],
        "id": "289657ed"
      },
      "outputs": [],
      "source": [
        "xtrain.shape,ytrain.shape,xtest.shape,ytest.shape"
      ]
    },
    {
      "cell_type": "code",
      "execution_count": null,
      "id": "a09e9447",
      "metadata": {
        "execution": {
          "iopub.execute_input": "2022-06-19T19:52:17.701855Z",
          "iopub.status.busy": "2022-06-19T19:52:17.701601Z",
          "iopub.status.idle": "2022-06-19T19:52:18.048142Z",
          "shell.execute_reply": "2022-06-19T19:52:18.047269Z"
        },
        "papermill": {
          "duration": 0.360547,
          "end_time": "2022-06-19T19:52:18.050211",
          "exception": false,
          "start_time": "2022-06-19T19:52:17.689664",
          "status": "completed"
        },
        "tags": [],
        "id": "a09e9447"
      },
      "outputs": [],
      "source": [
        "# (i).  Get scaler object\n",
        "# (ii). Scaling xtrain and xtest\n",
        "\n",
        "scaler = get_scaler(xtrain)\n",
        "xtrain = scale_data(xtrain,scaler)\n",
        "xtest  = scale_data(xtest,scaler)\n"
      ]
    },
    {
      "cell_type": "code",
      "execution_count": null,
      "id": "334f1a05",
      "metadata": {
        "execution": {
          "iopub.execute_input": "2022-06-19T19:52:18.074996Z",
          "iopub.status.busy": "2022-06-19T19:52:18.074594Z",
          "iopub.status.idle": "2022-06-19T19:52:18.082117Z",
          "shell.execute_reply": "2022-06-19T19:52:18.081458Z"
        },
        "papermill": {
          "duration": 0.021646,
          "end_time": "2022-06-19T19:52:18.083762",
          "exception": false,
          "start_time": "2022-06-19T19:52:18.062116",
          "status": "completed"
        },
        "tags": [],
        "id": "334f1a05"
      },
      "outputs": [],
      "source": [
        "# One hot encoding y values\n",
        "\n",
        "ytrain = one_hot_encoded(ytrain)\n",
        "ytest = one_hot_encoded(ytest)\n"
      ]
    },
    {
      "cell_type": "code",
      "execution_count": null,
      "id": "dcef497b",
      "metadata": {
        "execution": {
          "iopub.execute_input": "2022-06-19T19:52:18.108002Z",
          "iopub.status.busy": "2022-06-19T19:52:18.107679Z",
          "iopub.status.idle": "2022-06-19T19:52:18.113447Z",
          "shell.execute_reply": "2022-06-19T19:52:18.112762Z"
        },
        "papermill": {
          "duration": 0.02028,
          "end_time": "2022-06-19T19:52:18.115476",
          "exception": false,
          "start_time": "2022-06-19T19:52:18.095196",
          "status": "completed"
        },
        "tags": [],
        "id": "dcef497b"
      },
      "outputs": [],
      "source": [
        "xtrain.shape,ytrain.shape,xtest.shape,ytest.shape"
      ]
    },
    {
      "cell_type": "code",
      "execution_count": null,
      "id": "00233e03",
      "metadata": {
        "id": "00233e03"
      },
      "outputs": [],
      "source": [
        "xtrain.shape"
      ]
    },
    {
      "cell_type": "code",
      "execution_count": null,
      "id": "6af04dfb",
      "metadata": {
        "id": "6af04dfb"
      },
      "outputs": [],
      "source": [
        "xtest.shape"
      ]
    },
    {
      "cell_type": "code",
      "execution_count": null,
      "id": "06cb7401",
      "metadata": {
        "id": "06cb7401"
      },
      "outputs": [],
      "source": [
        "xtrain = xtrain.reshape(8559,128,6)\n",
        "xtest = xtest.reshape(3669,128,6)\n",
        "\n",
        "#xtrain = xtrain.reshape(4041,128,6)\n",
        "#xtest = xtest.reshape(1732,128,6)"
      ]
    },
    {
      "cell_type": "markdown",
      "id": "dbf2a72a",
      "metadata": {
        "papermill": {
          "duration": 0.025962,
          "end_time": "2022-06-19T19:52:22.659486",
          "exception": false,
          "start_time": "2022-06-19T19:52:22.633524",
          "status": "completed"
        },
        "tags": [],
        "id": "dbf2a72a"
      },
      "source": [
        "# Building Model"
      ]
    },
    {
      "cell_type": "code",
      "execution_count": null,
      "id": "49a99cfe",
      "metadata": {
        "id": "49a99cfe"
      },
      "outputs": [],
      "source": [
        "# fit and evaluate a model\n",
        "# lstm model\n",
        "from numpy import mean\n",
        "from numpy import std\n",
        "from numpy import dstack\n",
        "from pandas import read_csv\n",
        "from keras.models import Sequential\n",
        "from keras.layers import Dense\n",
        "from keras.layers import Flatten\n",
        "from keras.layers import Dropout\n",
        "from keras.layers import LSTM\n",
        "from keras.utils import to_categorical\n",
        "from matplotlib import pyplot\n",
        "\n",
        "timesteps = len(xtrain[0])\n",
        "input_dim = len(xtrain[0][0])\n",
        "n_classes =12\n",
        "\n",
        "print(timesteps)\n",
        "print(input_dim)\n",
        "print(len(xtrain))"
      ]
    },
    {
      "cell_type": "code",
      "execution_count": null,
      "id": "567ad389",
      "metadata": {
        "id": "567ad389"
      },
      "outputs": [],
      "source": [
        "epochs = 100\n",
        "batch_size = 16\n",
        "n_hidden = 64\n",
        "model1 = Sequential()\n",
        "# Configuring the parameters\n",
        "model1.add(LSTM(n_hidden, input_shape=(timesteps, input_dim), return_sequences=True))\n",
        "# Adding a dropout layer\n",
        "model1.add(Dropout(0.2))\n",
        "model1.add(LSTM(32))\n",
        "model1.add(Dropout(0.2))\n",
        "# Adding a dense output layer with sigmoid activation\n",
        "model1.add(Dense(n_classes, activation='sigmoid'))\n",
        "model1.summary()"
      ]
    },
    {
      "cell_type": "code",
      "execution_count": null,
      "id": "c16f5e67",
      "metadata": {
        "id": "c16f5e67"
      },
      "outputs": [],
      "source": [
        "model1.compile(loss='categorical_crossentropy',\n",
        "              optimizer='rmsprop',\n",
        "              metrics=['accuracy'])\n",
        "\n",
        "log_dir = \"logs/fit/\" + datetime.datetime.now().strftime(\"%Y%m%d-%H%M%S\")\n",
        "tensorboard_callback = tf.keras.callbacks.TensorBoard(log_dir=log_dir, histogram_freq=1)"
      ]
    },
    {
      "cell_type": "code",
      "execution_count": null,
      "id": "5679e8d5",
      "metadata": {
        "id": "5679e8d5"
      },
      "outputs": [],
      "source": [
        "model1.fit(xtrain,\n",
        "          ytrain,\n",
        "          batch_size=batch_size,\n",
        "          #validation_data=(xtest, ytest),\n",
        "          epochs=epochs,\n",
        "          callbacks=[tensorboard_callback]\n",
        "          )"
      ]
    },
    {
      "cell_type": "code",
      "execution_count": null,
      "id": "bc3eb217",
      "metadata": {
        "id": "bc3eb217"
      },
      "outputs": [],
      "source": [
        "score = model1.evaluate(xtest, ytest)\n",
        "print(\"Accuracy: \", score[1])"
      ]
    },
    {
      "cell_type": "code",
      "execution_count": null,
      "id": "c63aec06",
      "metadata": {
        "id": "c63aec06"
      },
      "outputs": [],
      "source": []
    },
    {
      "cell_type": "code",
      "execution_count": null,
      "id": "85263cc3",
      "metadata": {
        "id": "85263cc3"
      },
      "outputs": [],
      "source": [
        "\n"
      ]
    },
    {
      "cell_type": "code",
      "execution_count": null,
      "id": "46b47911",
      "metadata": {
        "id": "46b47911"
      },
      "outputs": [],
      "source": [
        "%tensorboard --logdir logs/fit"
      ]
    },
    {
      "cell_type": "code",
      "execution_count": null,
      "id": "d4cc47d8",
      "metadata": {
        "id": "d4cc47d8"
      },
      "outputs": [],
      "source": []
    }
  ],
  "metadata": {
    "kernelspec": {
      "display_name": "Python 3 (ipykernel)",
      "language": "python",
      "name": "python3"
    },
    "language_info": {
      "codemirror_mode": {
        "name": "ipython",
        "version": 3
      },
      "file_extension": ".py",
      "mimetype": "text/x-python",
      "name": "python",
      "nbconvert_exporter": "python",
      "pygments_lexer": "ipython3",
      "version": "3.10.4"
    },
    "papermill": {
      "default_parameters": {},
      "duration": 1307.747218,
      "end_time": "2022-06-19T20:06:58.406839",
      "environment_variables": {},
      "exception": null,
      "input_path": "__notebook__.ipynb",
      "output_path": "__notebook__.ipynb",
      "parameters": {},
      "start_time": "2022-06-19T19:45:10.659621",
      "version": "2.3.4"
    },
    "colab": {
      "provenance": [],
      "private_outputs": true,
      "include_colab_link": true
    },
    "accelerator": "GPU",
    "gpuClass": "standard"
  },
  "nbformat": 4,
  "nbformat_minor": 5
}