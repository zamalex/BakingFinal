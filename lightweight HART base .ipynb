{
  "cells": [
    {
      "cell_type": "markdown",
      "metadata": {
        "id": "view-in-github",
        "colab_type": "text"
      },
      "source": [
        "<a href=\"https://colab.research.google.com/github/zamalex/BakingFinal/blob/master/lightweight%20HART%20base%20.ipynb\" target=\"_parent\"><img src=\"https://colab.research.google.com/assets/colab-badge.svg\" alt=\"Open In Colab\"/></a>"
      ]
    },
    {
      "cell_type": "code",
      "execution_count": 1,
      "metadata": {
        "id": "710390bc"
      },
      "outputs": [],
      "source": [
        "import numpy as np\n",
        "import pandas as pd\n",
        "import pickle\n",
        "import tensorflow as tf\n",
        "from tensorflow import keras\n",
        "from tensorflow.keras import layers\n",
        "from sklearn.preprocessing import OneHotEncoder\n",
        "from sklearn.preprocessing import MinMaxScaler\n",
        "import matplotlib.pyplot as plt\n",
        "import seaborn as sb\n",
        "from sklearn.model_selection import train_test_split\n",
        "from sklearn.metrics import confusion_matrix\n",
        "import sklearn.metrics\n",
        "from tensorflow.keras.utils import plot_model\n",
        "import datetime\n"
      ],
      "id": "710390bc"
    },
    {
      "cell_type": "code",
      "execution_count": 2,
      "metadata": {
        "id": "85fe8286"
      },
      "outputs": [],
      "source": [
        "%load_ext tensorboard\n"
      ],
      "id": "85fe8286"
    },
    {
      "cell_type": "markdown",
      "metadata": {
        "id": "34b7de89"
      },
      "source": [
        "# Some methods and data which will be used below"
      ],
      "id": "34b7de89"
    },
    {
      "cell_type": "code",
      "execution_count": 3,
      "metadata": {
        "id": "acb12b54"
      },
      "outputs": [],
      "source": [
        "# (i).   Mapping labels to their resp. classes\n",
        "# (ii).  Mapping classes to their resp. labels\n",
        "\n",
        "label_to_class = {\n",
        "    1  : 'WALKING',\n",
        "    2  : 'WALKING_UPSTAIRS',\n",
        "    3  : 'WALKING_DOWNSTAIRS',\n",
        "    4  : 'SITTING',\n",
        "    5  : 'STANDING',\n",
        "    6  : 'LAYING',\n",
        "    7  : 'STAND_TO_SIT',\n",
        "    8  : 'SIT_TO_STAND',\n",
        "    9  : 'SIT_TO_LIE',\n",
        "    10 : 'LIE_TO_SIT',\n",
        "    11 : 'STAND_TO_LIE',\n",
        "    12 : 'LIE_TO_STAND',\n",
        "    np.nan : np.nan\n",
        "}\n",
        "class_to_label = {\n",
        "    'WALKING' : 1,\n",
        "    'WALKING_UPSTAIRS' : 2,\n",
        "    'WALKING_DOWNSTAIRS' : 3,\n",
        "    'SITTING' : 4,\n",
        "    'STANDING' : 5,\n",
        "    'LAYING' : 6,\n",
        "    'STAND_TO_SIT' : 7,\n",
        "    'SIT_TO_STAND' : 8,\n",
        "    'SIT_TO_LIE' : 9,\n",
        "    'LIE_TO_SIT' : 10,\n",
        "    'STAND_TO_LIE' : 11,\n",
        "    'LIE_TO_STAND' : 12,\n",
        "    np.nan : np.nan\n",
        "}"
      ],
      "id": "acb12b54"
    },
    {
      "cell_type": "code",
      "execution_count": 4,
      "metadata": {
        "id": "3f858fa9"
      },
      "outputs": [],
      "source": [
        "# (i).   Removing data-points where y and x values is null\n",
        "\n",
        "# Other methods can be\n",
        "# ffill (forward fill) => fills using forward points\n",
        "# bfill (backward fill) => using backward points\n",
        "# interpolate\n",
        "\n",
        "def remove_null(xdata,ydata):\n",
        "    xdata = xdata[np.where(np.isfinite(ydata))]\n",
        "    ydata = ydata[np.where(np.isfinite(ydata))]\n",
        "    ydata = ydata[np.where(np.isfinite(xdata).all(axis = 1).all(axis = 1).all(axis = 1))]\n",
        "    xdata = xdata[np.where(np.isfinite(xdata).all(axis = 1).all(axis = 1).all(axis = 1))]\n",
        "\n",
        "    return xdata,ydata"
      ],
      "id": "3f858fa9"
    },
    {
      "cell_type": "code",
      "execution_count": 5,
      "metadata": {
        "id": "3dd947e8"
      },
      "outputs": [],
      "source": [
        "# normalize xdata using sklearn.preprocessing.StandardScaler and returns\n",
        "# scaler object to use it furthur for testing data\n",
        "\n",
        "# Each axis of each sensor has different min, max, I scaled according to them seperately\n",
        "# Initial shape == (None,128,2,3)\n",
        "# changed to (None , 6) :-\n",
        "# reshape to (None,128,6) -> swapaxis(0,2) -> reshape(6,-1) -> transpose\n",
        "# Fit scaler OR transform according to scaler\n",
        "\n",
        "# Reverse above process to get back oiginal data\n",
        "# transpose -> reshape(6,128,None) -> swapaxes(0,2) -> reshape(None,128,2,3)\n",
        "\n",
        "def get_scaler(xdata):\n",
        "\n",
        "    row = xdata.shape[0]\n",
        "    timestamp = xdata.shape[1]\n",
        "    sensor = xdata.shape[2]\n",
        "    axis = xdata.shape[3]\n",
        "\n",
        "    scaler = MinMaxScaler(feature_range = (-1,1))\n",
        "    xdata = xdata.reshape(row,timestamp,sensor*axis)\n",
        "    xdata = np.swapaxes(xdata,0,2).reshape(sensor*axis,-1).T\n",
        "    scaler.fit(xdata)\n",
        "    return scaler\n",
        "\n",
        "def scale_data(xdata,scaler):\n",
        "\n",
        "    row = xdata.shape[0]\n",
        "    timestamp = xdata.shape[1]\n",
        "    sensor = xdata.shape[2]\n",
        "    axis = xdata.shape[3]\n",
        "\n",
        "    xdata = xdata.reshape(row,timestamp,sensor*axis)\n",
        "    xdata = np.swapaxes(xdata,0,2).reshape(sensor*axis,-1).T\n",
        "    xdata = scaler.transform(xdata)\n",
        "    xdata = xdata.T.reshape(sensor*axis,timestamp,row)\n",
        "    xdata = np.swapaxes(xdata,0,2).reshape(row,timestamp,sensor,axis)\n",
        "\n",
        "    return xdata"
      ],
      "id": "3dd947e8"
    },
    {
      "cell_type": "code",
      "execution_count": 6,
      "metadata": {
        "id": "4dc1da5f"
      },
      "outputs": [],
      "source": [
        "# takes in location, exp no., user no., start and end(end point is excluded from reading i.e lastpoint+1) point\n",
        "# ,overlap array, and returns xdata and ydata\n",
        "\n",
        "def create_windows(location, exp, user, start, end, activity, length, overlap):\n",
        "\n",
        "    acc_file  = location + '/acc_exp'+ str(exp).zfill(2) + '_user' + str(user).zfill(2) + '.txt'\n",
        "    gyro_file = location + '/gyro_exp'+ str(exp).zfill(2) + '_user' + str(user).zfill(2) + '.txt'\n",
        "\n",
        "    acc_data  = np.loadtxt(acc_file)\n",
        "    gyro_data = np.loadtxt(gyro_file)\n",
        "\n",
        "    xtrain = []\n",
        "    ytrain = []\n",
        "\n",
        "    while (start + length <= end) :\n",
        "\n",
        "        stop = start + length\n",
        "        window = []\n",
        "\n",
        "        while start != stop :\n",
        "            window.append( [acc_data[start] , gyro_data[start]] )\n",
        "            start += 1\n",
        "\n",
        "        xtrain.append(window)\n",
        "        ytrain.append(activity)\n",
        "\n",
        "        start = stop - overlap[activity-1]\n",
        "\n",
        "    return xtrain,ytrain"
      ],
      "id": "4dc1da5f"
    },
    {
      "cell_type": "code",
      "execution_count": 7,
      "metadata": {
        "id": "f33cd7f1"
      },
      "outputs": [],
      "source": [
        "# location == location of file\n",
        "# lenght == lenght of window\n",
        "# overlap == array of overlaps of size == number of unique activities\n",
        "# overlap depends on activity so as to extract more data from a particular class if needed\n",
        "\n",
        "\n",
        "# (i).   Loading labels.txt as labels\n",
        "# (ii).  Iterating in labels and calling create_windows on acceleration file, extending returned data in xtrain, ytrain\n",
        "# (iii). Iterating in labels and calling create_windows on gyroscope file, extending returned data in xtrain, ytrain\n",
        "\n",
        "def prepare_data(location,length = 128,overlap = [64]*12):\n",
        "\n",
        "    xdata = []\n",
        "    ydata = []\n",
        "\n",
        "    labels = np.loadtxt(location+'/labels.txt',dtype = 'uint32')\n",
        "\n",
        "    for exp,user,activity,start,end in labels :\n",
        "\n",
        "        xtemp , ytemp = create_windows(location, exp, user, start, end+1, activity, length, overlap)\n",
        "        xdata.extend(xtemp)\n",
        "        ydata.extend(ytemp)\n",
        "\n",
        "    return np.array(xdata),np.array(ydata)"
      ],
      "id": "f33cd7f1"
    },
    {
      "cell_type": "code",
      "execution_count": 8,
      "metadata": {
        "id": "b318e437"
      },
      "outputs": [],
      "source": [
        "# (i). Finds max element index sets its 1 and sets remaining 0\n",
        "#      for each row\n",
        "\n",
        "def to_categorical(ydata):\n",
        "\n",
        "    for i in range(len(ydata)):\n",
        "        j = ydata[i].argmax()\n",
        "        for k in range(len(ydata[i])):\n",
        "            ydata[i][k] = (k == j)\n",
        "    return ydata"
      ],
      "id": "b318e437"
    },
    {
      "cell_type": "code",
      "execution_count": 9,
      "metadata": {
        "id": "579c09d2"
      },
      "outputs": [],
      "source": [
        "# (i).  OneHotEncoding ydata\n",
        "# (ii). Converting sparsh matrix ydata into dense form and then matrix into numpy array\n",
        "\n",
        "def one_hot_encoded(ydata):\n",
        "    ydata = OneHotEncoder().fit_transform(ydata.reshape(len(ydata),1))\n",
        "    ydata = np.asarray(ydata.todense())\n",
        "    return ydata\n",
        "\n",
        "def splitData(xtrain,ytrain,type):\n",
        "  if(type=='master'):\n",
        "    xtrain = xtrain[(ytrain==1) | (ytrain==5)|(ytrain==7)]\n",
        "    ytrain = ytrain[(ytrain==1) | (ytrain==5)|(ytrain==7)]\n",
        "  elif(type=='dynamic'):\n",
        "    xtrain = xtrain[(ytrain==1) | (ytrain==2)|(ytrain==3)]\n",
        "    ytrain = ytrain[(ytrain==1) | (ytrain==2)|(ytrain==3)]\n",
        "  elif(type=='static'):\n",
        "    xtrain = xtrain[(ytrain==4) | (ytrain==5)|(ytrain==6)]\n",
        "    ytrain = ytrain[(ytrain==4) | (ytrain==5)|(ytrain==6)]\n",
        "  elif(type=='transition'):\n",
        "    xtrain = xtrain[(ytrain==7) | (ytrain==8)|(ytrain==9)|(ytrain==10)|(ytrain==11)|(ytrain==12)]\n",
        "    ytrain = ytrain[(ytrain==7) | (ytrain==8)|(ytrain==9)|(ytrain==10)|(ytrain==11)|(ytrain==12)]\n",
        "  elif(type=='primary'):\n",
        "    xtrain = xtrain[(ytrain==1) | (ytrain==2)|(ytrain==3)|(ytrain==4)|(ytrain==5)|(ytrain==6)]\n",
        "    ytrain = ytrain[(ytrain==1) | (ytrain==2)|(ytrain==3)|(ytrain==4)|(ytrain==5)|(ytrain==6)]\n",
        "  else:\n",
        "    xtrain = xtrain\n",
        "    ytrain = ytrain\n",
        "\n",
        "  xtrain,xtest,ytrain,ytest = train_test_split(xtrain,ytrain,test_size = 0.3,random_state=42)\n",
        "  testlabels = ytest\n",
        "  scaler = get_scaler(xtrain)\n",
        "  xtrain = scale_data(xtrain,scaler)\n",
        "  xtest  = scale_data(xtest,scaler)\n",
        "\n",
        "  ytrain = one_hot_encoded(ytrain)\n",
        "  ytest = one_hot_encoded(ytest)\n",
        "  return xtrain,xtest,ytrain,ytest,testlabels\n",
        "\n",
        "def splitData2(xtrain,ytrain,type):\n",
        "  if(type=='master'):\n",
        "    xtrain = xtrain[(ytrain==1) | (ytrain==5)|(ytrain==7)]\n",
        "    ytrain = ytrain[(ytrain==1) | (ytrain==5)|(ytrain==7)]\n",
        "  elif(type=='dynamic'):\n",
        "    xtrain = xtrain[(ytrain==1) | (ytrain==2)|(ytrain==3)]\n",
        "    ytrain = ytrain[(ytrain==1) | (ytrain==2)|(ytrain==3)]\n",
        "  elif(type=='static'):\n",
        "    xtrain = xtrain[(ytrain==4) | (ytrain==5)|(ytrain==6)]\n",
        "    ytrain = ytrain[(ytrain==4) | (ytrain==5)|(ytrain==6)]\n",
        "  elif(type=='transition'):\n",
        "    xtrain = xtrain[(ytrain==7) | (ytrain==8)|(ytrain==9)|(ytrain==10)|(ytrain==11)|(ytrain==12)]\n",
        "    ytrain = ytrain[(ytrain==7) | (ytrain==8)|(ytrain==9)|(ytrain==10)|(ytrain==11)|(ytrain==12)]\n",
        "  elif(type=='primary'):\n",
        "    xtrain = xtrain[(ytrain==1) | (ytrain==2)|(ytrain==3)|(ytrain==4)|(ytrain==5)|(ytrain==6)]\n",
        "    ytrain = ytrain[(ytrain==1) | (ytrain==2)|(ytrain==3)|(ytrain==4)|(ytrain==5)|(ytrain==6)]\n",
        "  else:\n",
        "    xtrain = xtrain\n",
        "    ytrain = ytrain\n",
        "\n",
        "  xtrain,xtest,ytrain,ytest = train_test_split(xtrain,ytrain,test_size = 0.3,random_state=42)\n",
        "\n",
        "  return xtrain,xtest,ytrain,ytest\n",
        "\n",
        "\n",
        "def resampleData(x,y):\n",
        "  x = x.reshape(5773,768)\n",
        "  df = pd.DataFrame(x)\n",
        "\n",
        "  from imblearn.over_sampling import RandomOverSampler\n",
        "  from collections import Counter\n",
        "  from sklearn.datasets import make_classification\n",
        "  from imblearn.over_sampling import SMOTE\n",
        "\n",
        "  oversample = SMOTE()\n",
        "  df, y = oversample.fit_resample(df, y)\n",
        "  df=df.to_numpy()\n",
        "  x=df.reshape(12228,128,6)\n",
        "  x=df.reshape(12228,128,2,3)\n",
        "  return x,y"
      ],
      "id": "579c09d2"
    },
    {
      "cell_type": "markdown",
      "metadata": {
        "id": "b6a39fe3"
      },
      "source": [
        "# Data Preparation"
      ],
      "id": "b6a39fe3"
    },
    {
      "cell_type": "markdown",
      "metadata": {
        "id": "5f273b67"
      },
      "source": [
        "## Loading data from files"
      ],
      "id": "5f273b67"
    },
    {
      "cell_type": "code",
      "source": [
        "from google.colab import drive\n",
        "drive.mount('/content/drive')"
      ],
      "metadata": {
        "colab": {
          "base_uri": "https://localhost:8080/"
        },
        "id": "b9MMtWKkQqtJ",
        "outputId": "55c4bce5-c7fd-4daf-9d04-3ddee4936b2d"
      },
      "id": "b9MMtWKkQqtJ",
      "execution_count": 10,
      "outputs": [
        {
          "output_type": "stream",
          "name": "stdout",
          "text": [
            "Mounted at /content/drive\n"
          ]
        }
      ]
    },
    {
      "cell_type": "code",
      "execution_count": 11,
      "metadata": {
        "id": "33251699"
      },
      "outputs": [],
      "source": [
        "# Preparing data, xtrain, ytrain\n",
        "# Last six classes [7 to 12] has very less weightage in data since they are extra classes added\n",
        "# , made from original six classes\n",
        "# so, I took more overlapping in them to get slightly more data\n",
        "\n",
        "xtrain,ytrain = prepare_data('/content/drive/MyDrive/HAPT Data Set/RawData',128,[0,0,0,0,0,0,0,0,0,0,0,0])"
      ],
      "id": "33251699"
    },
    {
      "cell_type": "code",
      "execution_count": 12,
      "metadata": {
        "id": "CMYyXL8tC07D"
      },
      "outputs": [],
      "source": [
        "originalx = xtrain\n",
        "originaly=ytrain"
      ],
      "id": "CMYyXL8tC07D"
    },
    {
      "cell_type": "code",
      "execution_count": null,
      "metadata": {
        "id": "Ggqc4Po5MIGy"
      },
      "outputs": [],
      "source": [
        "#xtrain=originalx\n",
        "#ytrain = originaly"
      ],
      "id": "Ggqc4Po5MIGy"
    },
    {
      "cell_type": "code",
      "execution_count": 13,
      "metadata": {
        "colab": {
          "base_uri": "https://localhost:8080/"
        },
        "id": "vhi-jFKGU7-v",
        "outputId": "2e08a383-48b7-40d3-8b48-f586009ce3b8"
      },
      "outputs": [
        {
          "output_type": "execute_result",
          "data": {
            "text/plain": [
              "(5773,)"
            ]
          },
          "metadata": {},
          "execution_count": 13
        }
      ],
      "source": [
        "ytrain.shape"
      ],
      "id": "vhi-jFKGU7-v"
    },
    {
      "cell_type": "code",
      "execution_count": null,
      "metadata": {
        "id": "dZPIsiA62l00"
      },
      "outputs": [],
      "source": [],
      "id": "dZPIsiA62l00"
    },
    {
      "cell_type": "code",
      "execution_count": 14,
      "metadata": {
        "colab": {
          "base_uri": "https://localhost:8080/"
        },
        "id": "d0b71fee",
        "outputId": "91ef6a53-fd52-443b-8538-929daa2264e4"
      },
      "outputs": [
        {
          "output_type": "execute_result",
          "data": {
            "text/plain": [
              "(5773, 128, 2, 3)"
            ]
          },
          "metadata": {},
          "execution_count": 14
        }
      ],
      "source": [
        "xtrain.shape"
      ],
      "id": "d0b71fee"
    },
    {
      "cell_type": "code",
      "execution_count": null,
      "metadata": {
        "id": "9a01c9d7",
        "outputId": "37ead01e-502b-49c2-c9b5-326484703f70",
        "colab": {
          "base_uri": "https://localhost:8080/"
        }
      },
      "outputs": [
        {
          "output_type": "execute_result",
          "data": {
            "text/plain": [
              "768"
            ]
          },
          "metadata": {},
          "execution_count": 15
        }
      ],
      "source": [
        "128*6"
      ],
      "id": "9a01c9d7"
    },
    {
      "cell_type": "code",
      "execution_count": null,
      "metadata": {
        "id": "0Pz_N7L6Fnon"
      },
      "outputs": [],
      "source": [],
      "id": "0Pz_N7L6Fnon"
    },
    {
      "cell_type": "code",
      "execution_count": 15,
      "metadata": {
        "id": "34745623"
      },
      "outputs": [],
      "source": [
        "xtrain = xtrain.reshape(5773,768)\n"
      ],
      "id": "34745623"
    },
    {
      "cell_type": "code",
      "execution_count": 16,
      "metadata": {
        "colab": {
          "base_uri": "https://localhost:8080/"
        },
        "id": "dc62bc0e",
        "outputId": "fc532d91-7df6-4640-c7ab-a7331524d3ce"
      },
      "outputs": [
        {
          "output_type": "execute_result",
          "data": {
            "text/plain": [
              "(5773, 768)"
            ]
          },
          "metadata": {},
          "execution_count": 16
        }
      ],
      "source": [
        "xtrain.shape"
      ],
      "id": "dc62bc0e"
    },
    {
      "cell_type": "code",
      "execution_count": 17,
      "metadata": {
        "colab": {
          "base_uri": "https://localhost:8080/",
          "height": 130
        },
        "id": "657b88fa",
        "outputId": "cd51a254-f017-42cb-97a9-33d4d6879ae1"
      },
      "outputs": [
        {
          "output_type": "execute_result",
          "data": {
            "text/plain": [
              "           0         1         2         3         4         5    6    \\\n",
              "3999  0.895833 -0.255556  0.377778  0.254731 -0.106901 -0.028405  1.0   \n",
              "\n",
              "           7         8         9    ...  758       759     760       761  762  \\\n",
              "3999 -0.261111  0.434722  0.156382  ... -0.1  1.061989 -0.1799 -0.676533  0.5   \n",
              "\n",
              "           763       764      765       766     767  \n",
              "3999 -0.180556 -0.059722  1.05527 -0.127671 -0.6634  \n",
              "\n",
              "[1 rows x 768 columns]"
            ],
            "text/html": [
              "\n",
              "  <div id=\"df-f648e6e9-3910-4a05-85e1-3fea3a8c16d1\" class=\"colab-df-container\">\n",
              "    <div>\n",
              "<style scoped>\n",
              "    .dataframe tbody tr th:only-of-type {\n",
              "        vertical-align: middle;\n",
              "    }\n",
              "\n",
              "    .dataframe tbody tr th {\n",
              "        vertical-align: top;\n",
              "    }\n",
              "\n",
              "    .dataframe thead th {\n",
              "        text-align: right;\n",
              "    }\n",
              "</style>\n",
              "<table border=\"1\" class=\"dataframe\">\n",
              "  <thead>\n",
              "    <tr style=\"text-align: right;\">\n",
              "      <th></th>\n",
              "      <th>0</th>\n",
              "      <th>1</th>\n",
              "      <th>2</th>\n",
              "      <th>3</th>\n",
              "      <th>4</th>\n",
              "      <th>5</th>\n",
              "      <th>6</th>\n",
              "      <th>7</th>\n",
              "      <th>8</th>\n",
              "      <th>9</th>\n",
              "      <th>...</th>\n",
              "      <th>758</th>\n",
              "      <th>759</th>\n",
              "      <th>760</th>\n",
              "      <th>761</th>\n",
              "      <th>762</th>\n",
              "      <th>763</th>\n",
              "      <th>764</th>\n",
              "      <th>765</th>\n",
              "      <th>766</th>\n",
              "      <th>767</th>\n",
              "    </tr>\n",
              "  </thead>\n",
              "  <tbody>\n",
              "    <tr>\n",
              "      <th>3999</th>\n",
              "      <td>0.895833</td>\n",
              "      <td>-0.255556</td>\n",
              "      <td>0.377778</td>\n",
              "      <td>0.254731</td>\n",
              "      <td>-0.106901</td>\n",
              "      <td>-0.028405</td>\n",
              "      <td>1.0</td>\n",
              "      <td>-0.261111</td>\n",
              "      <td>0.434722</td>\n",
              "      <td>0.156382</td>\n",
              "      <td>...</td>\n",
              "      <td>-0.1</td>\n",
              "      <td>1.061989</td>\n",
              "      <td>-0.1799</td>\n",
              "      <td>-0.676533</td>\n",
              "      <td>0.5</td>\n",
              "      <td>-0.180556</td>\n",
              "      <td>-0.059722</td>\n",
              "      <td>1.05527</td>\n",
              "      <td>-0.127671</td>\n",
              "      <td>-0.6634</td>\n",
              "    </tr>\n",
              "  </tbody>\n",
              "</table>\n",
              "<p>1 rows × 768 columns</p>\n",
              "</div>\n",
              "    <div class=\"colab-df-buttons\">\n",
              "\n",
              "  <div class=\"colab-df-container\">\n",
              "    <button class=\"colab-df-convert\" onclick=\"convertToInteractive('df-f648e6e9-3910-4a05-85e1-3fea3a8c16d1')\"\n",
              "            title=\"Convert this dataframe to an interactive table.\"\n",
              "            style=\"display:none;\">\n",
              "\n",
              "  <svg xmlns=\"http://www.w3.org/2000/svg\" height=\"24px\" viewBox=\"0 -960 960 960\">\n",
              "    <path d=\"M120-120v-720h720v720H120Zm60-500h600v-160H180v160Zm220 220h160v-160H400v160Zm0 220h160v-160H400v160ZM180-400h160v-160H180v160Zm440 0h160v-160H620v160ZM180-180h160v-160H180v160Zm440 0h160v-160H620v160Z\"/>\n",
              "  </svg>\n",
              "    </button>\n",
              "\n",
              "  <style>\n",
              "    .colab-df-container {\n",
              "      display:flex;\n",
              "      gap: 12px;\n",
              "    }\n",
              "\n",
              "    .colab-df-convert {\n",
              "      background-color: #E8F0FE;\n",
              "      border: none;\n",
              "      border-radius: 50%;\n",
              "      cursor: pointer;\n",
              "      display: none;\n",
              "      fill: #1967D2;\n",
              "      height: 32px;\n",
              "      padding: 0 0 0 0;\n",
              "      width: 32px;\n",
              "    }\n",
              "\n",
              "    .colab-df-convert:hover {\n",
              "      background-color: #E2EBFA;\n",
              "      box-shadow: 0px 1px 2px rgba(60, 64, 67, 0.3), 0px 1px 3px 1px rgba(60, 64, 67, 0.15);\n",
              "      fill: #174EA6;\n",
              "    }\n",
              "\n",
              "    .colab-df-buttons div {\n",
              "      margin-bottom: 4px;\n",
              "    }\n",
              "\n",
              "    [theme=dark] .colab-df-convert {\n",
              "      background-color: #3B4455;\n",
              "      fill: #D2E3FC;\n",
              "    }\n",
              "\n",
              "    [theme=dark] .colab-df-convert:hover {\n",
              "      background-color: #434B5C;\n",
              "      box-shadow: 0px 1px 3px 1px rgba(0, 0, 0, 0.15);\n",
              "      filter: drop-shadow(0px 1px 2px rgba(0, 0, 0, 0.3));\n",
              "      fill: #FFFFFF;\n",
              "    }\n",
              "  </style>\n",
              "\n",
              "    <script>\n",
              "      const buttonEl =\n",
              "        document.querySelector('#df-f648e6e9-3910-4a05-85e1-3fea3a8c16d1 button.colab-df-convert');\n",
              "      buttonEl.style.display =\n",
              "        google.colab.kernel.accessAllowed ? 'block' : 'none';\n",
              "\n",
              "      async function convertToInteractive(key) {\n",
              "        const element = document.querySelector('#df-f648e6e9-3910-4a05-85e1-3fea3a8c16d1');\n",
              "        const dataTable =\n",
              "          await google.colab.kernel.invokeFunction('convertToInteractive',\n",
              "                                                    [key], {});\n",
              "        if (!dataTable) return;\n",
              "\n",
              "        const docLinkHtml = 'Like what you see? Visit the ' +\n",
              "          '<a target=\"_blank\" href=https://colab.research.google.com/notebooks/data_table.ipynb>data table notebook</a>'\n",
              "          + ' to learn more about interactive tables.';\n",
              "        element.innerHTML = '';\n",
              "        dataTable['output_type'] = 'display_data';\n",
              "        await google.colab.output.renderOutput(dataTable, element);\n",
              "        const docLink = document.createElement('div');\n",
              "        docLink.innerHTML = docLinkHtml;\n",
              "        element.appendChild(docLink);\n",
              "      }\n",
              "    </script>\n",
              "  </div>\n",
              "\n",
              "\n",
              "    </div>\n",
              "  </div>\n"
            ],
            "application/vnd.google.colaboratory.intrinsic+json": {
              "type": "dataframe"
            }
          },
          "metadata": {},
          "execution_count": 17
        }
      ],
      "source": [
        "df = pd.DataFrame(xtrain)\n",
        "df.sample()"
      ],
      "id": "657b88fa"
    },
    {
      "cell_type": "code",
      "execution_count": null,
      "metadata": {
        "id": "a40e843a"
      },
      "outputs": [],
      "source": [],
      "id": "a40e843a"
    },
    {
      "cell_type": "code",
      "execution_count": 18,
      "metadata": {
        "colab": {
          "base_uri": "https://localhost:8080/"
        },
        "id": "46ff2ccb",
        "outputId": "453d9197-63d4-4303-b979-e5f6d970157d"
      },
      "outputs": [
        {
          "output_type": "execute_result",
          "data": {
            "text/plain": [
              "(5773,)"
            ]
          },
          "metadata": {},
          "execution_count": 18
        }
      ],
      "source": [
        "ytrain.shape"
      ],
      "id": "46ff2ccb"
    },
    {
      "cell_type": "code",
      "execution_count": 19,
      "metadata": {
        "id": "ca7bca02",
        "outputId": "ef8cddc9-071b-473a-d24e-b6c7395da036",
        "colab": {
          "base_uri": "https://localhost:8080/"
        }
      },
      "outputs": [
        {
          "output_type": "stream",
          "name": "stdout",
          "text": [
            "The tensorboard extension is already loaded. To reload it, use:\n",
            "  %reload_ext tensorboard\n"
          ]
        }
      ],
      "source": [
        "# Load the TensorBoard notebook extension\n",
        "%load_ext tensorboard"
      ],
      "id": "ca7bca02"
    },
    {
      "cell_type": "code",
      "execution_count": 20,
      "metadata": {
        "id": "94d3be82"
      },
      "outputs": [],
      "source": [
        "import tensorflow as tf\n",
        "import datetime\n",
        "\n",
        "# Clear any logs from previous runs\n",
        "!rm -rf ./logs/"
      ],
      "id": "94d3be82"
    },
    {
      "cell_type": "code",
      "execution_count": null,
      "metadata": {
        "id": "f216366c"
      },
      "outputs": [],
      "source": [],
      "id": "f216366c"
    },
    {
      "cell_type": "code",
      "execution_count": 21,
      "metadata": {
        "id": "29981f93"
      },
      "outputs": [],
      "source": [
        "from imblearn.over_sampling import RandomOverSampler\n",
        "from collections import Counter\n",
        "from sklearn.datasets import make_classification\n",
        "from imblearn.over_sampling import SMOTE\n",
        "\n",
        "oversample = SMOTE()\n",
        "df, ytrain = oversample.fit_resample(df, ytrain)"
      ],
      "id": "29981f93"
    },
    {
      "cell_type": "code",
      "execution_count": null,
      "metadata": {
        "colab": {
          "base_uri": "https://localhost:8080/"
        },
        "id": "24c60fba",
        "outputId": "7d5a04b6-6e51-4f92-d42d-1afdb5fd17be"
      },
      "outputs": [
        {
          "output_type": "execute_result",
          "data": {
            "text/plain": [
              "(5773, 768)"
            ]
          },
          "metadata": {},
          "execution_count": 20
        }
      ],
      "source": [
        "xtrain.shape"
      ],
      "id": "24c60fba"
    },
    {
      "cell_type": "code",
      "execution_count": null,
      "metadata": {
        "colab": {
          "base_uri": "https://localhost:8080/"
        },
        "id": "b2f97618",
        "outputId": "294a0eb7-d63d-427e-d724-0983cd9a6bdd"
      },
      "outputs": [
        {
          "output_type": "execute_result",
          "data": {
            "text/plain": [
              "(12228, 768)"
            ]
          },
          "metadata": {},
          "execution_count": 21
        }
      ],
      "source": [
        "df.shape"
      ],
      "id": "b2f97618"
    },
    {
      "cell_type": "code",
      "execution_count": null,
      "metadata": {
        "colab": {
          "base_uri": "https://localhost:8080/"
        },
        "id": "cf62d8a7",
        "outputId": "0d709abb-cb59-4d22-c316-5f8b87364ccd"
      },
      "outputs": [
        {
          "output_type": "execute_result",
          "data": {
            "text/plain": [
              "(12228,)"
            ]
          },
          "metadata": {},
          "execution_count": 22
        }
      ],
      "source": [
        "ytrain.shape"
      ],
      "id": "cf62d8a7"
    },
    {
      "cell_type": "code",
      "execution_count": 22,
      "metadata": {
        "id": "a2e72ae5"
      },
      "outputs": [],
      "source": [
        "df=df.to_numpy()\n",
        "xtrain=df.reshape(12228,128,6)"
      ],
      "id": "a2e72ae5"
    },
    {
      "cell_type": "code",
      "execution_count": null,
      "metadata": {
        "colab": {
          "base_uri": "https://localhost:8080/"
        },
        "id": "c16d7852",
        "outputId": "fc41f88f-f203-47cc-dd1b-73702b55279b"
      },
      "outputs": [
        {
          "output_type": "execute_result",
          "data": {
            "text/plain": [
              "(12228, 128, 6)"
            ]
          },
          "metadata": {},
          "execution_count": 24
        }
      ],
      "source": [
        "xtrain.shape"
      ],
      "id": "c16d7852"
    },
    {
      "cell_type": "code",
      "execution_count": 23,
      "metadata": {
        "id": "0b65b70a"
      },
      "outputs": [],
      "source": [
        "xtrain=df.reshape(12228,128,2,3)"
      ],
      "id": "0b65b70a"
    },
    {
      "cell_type": "code",
      "execution_count": null,
      "metadata": {
        "colab": {
          "base_uri": "https://localhost:8080/"
        },
        "id": "caf92458",
        "outputId": "481d0e52-4173-4715-a43e-449a84fa822a"
      },
      "outputs": [
        {
          "output_type": "execute_result",
          "data": {
            "text/plain": [
              "(12228, 128, 2, 3)"
            ]
          },
          "metadata": {},
          "execution_count": 26
        }
      ],
      "source": [
        "xtrain.shape"
      ],
      "id": "caf92458"
    },
    {
      "cell_type": "code",
      "execution_count": null,
      "metadata": {
        "id": "CGnDcTX6Wyl3"
      },
      "outputs": [],
      "source": [],
      "id": "CGnDcTX6Wyl3"
    },
    {
      "cell_type": "markdown",
      "metadata": {
        "id": "rZVij0VfW4k-"
      },
      "source": [
        "**start SVM**"
      ],
      "id": "rZVij0VfW4k-"
    },
    {
      "cell_type": "code",
      "execution_count": null,
      "metadata": {
        "id": "wqQKBD3KJfeP"
      },
      "outputs": [],
      "source": [
        "X_train = pd.read_csv('/content/drive/MyDrive/newdata48features.csv', header=None)\n",
        "xxx,Y_train = resampleData(originalx,originaly)"
      ],
      "id": "wqQKBD3KJfeP"
    },
    {
      "cell_type": "code",
      "source": [
        "X_train.head() # mean ,median , std , variance , root mean square , max, min"
      ],
      "metadata": {
        "colab": {
          "base_uri": "https://localhost:8080/",
          "height": 308
        },
        "id": "spb7Rtii0Ya8",
        "outputId": "cc7e29ae-9784-49ea-ce3a-f4d5abc0959b"
      },
      "id": "spb7Rtii0Ya8",
      "execution_count": null,
      "outputs": [
        {
          "output_type": "execute_result",
          "data": {
            "text/plain": [
              "                  0                   1                      2   \\\n",
              "0          0__median             0__mean  0__standard_deviation   \n",
              "1   1.01944450285877  1.0193142942447153  0.0024762469750240646   \n",
              "2   1.01944450285877  1.0199002330079632  0.0033669412028527372   \n",
              "3   1.01944450285877  1.0201497995182354   0.002750501804412125   \n",
              "4  1.020833394742025  1.0207791411528349  0.0028706455352721085   \n",
              "\n",
              "                       3                    4                  5   \\\n",
              "0             0__variance  0__root_mean_square         0__maximum   \n",
              "1   6.131799081315831e-06     1.01931730204617  1.027777854158295   \n",
              "2  1.1336293063467436e-05   1.0199057905428133   1.02916674604155   \n",
              "3   7.565260176074354e-06   1.0201535074278145  1.025000070391787   \n",
              "4    8.24060578917769e-06   1.0207831775742136  1.027777854158295   \n",
              "\n",
              "                    6                  7                    8   \\\n",
              "0  0__absolute_maximum         0__minimum            1__median   \n",
              "1    1.027777854158295    1.0125000434425  -0.1250000020616516   \n",
              "2     1.02916674604155  1.009722259675992  -0.1263888939449057   \n",
              "3    1.025000070391787  1.011111151559246  -0.1305555574387036   \n",
              "4    1.027777854158295  1.013888935325754  -0.1263888939449057   \n",
              "\n",
              "                     9   ...                   38                    39  \\\n",
              "0               1__mean  ...  4__absolute_maximum            4__minimum   \n",
              "1  -0.12428385819818219  ...  0.02138028293848038  -0.02138028293848038   \n",
              "2  -0.12505425802505304  ...  0.03451388701796532  -0.03451388701796532   \n",
              "3  -0.13018663702089006  ...  0.02626720629632473  -0.02626720629632473   \n",
              "4   -0.1276367229824334  ...  0.03390302136540413  -0.03390302136540413   \n",
              "\n",
              "                     40                     41                     42  \\\n",
              "0             5__median                5__mean  5__standard_deviation   \n",
              "1  0.003054326167330146  0.0024673228924712025   0.006133609869028267   \n",
              "2   0.00366519158706069       0.00544290474636   0.009781032110216805   \n",
              "3                   0.0  0.0003436116994635086   0.009007026194748656   \n",
              "4  0.005345070967450738   0.006118197258047076   0.012574714847580413   \n",
              "\n",
              "                       43                    44                   45  \\\n",
              "0             5__variance   5__root_mean_square           5__maximum   \n",
              "1   3.762117002544095e-05  0.006611267070777992  0.01679879426956177   \n",
              "2   9.566858914109219e-05  0.011193471365891834  0.03634648025035858   \n",
              "3   8.112652087288845e-05  0.009013578083807598  0.02718350291252136   \n",
              "4  0.00015812345349795927  0.013984126400541938  0.03359758853912354   \n",
              "\n",
              "                    46                    47  \n",
              "0  5__absolute_maximum            5__minimum  \n",
              "1  0.01679879426956177  -0.01404990069568157  \n",
              "2  0.03634648025035858  -0.01435533352196217  \n",
              "3  0.02718350291252136  -0.02382374368607998  \n",
              "4  0.03359758853912354  -0.02443460933864117  \n",
              "\n",
              "[5 rows x 48 columns]"
            ],
            "text/html": [
              "\n",
              "  <div id=\"df-d142bea5-00e3-4f02-ad4d-00eadf63abd0\" class=\"colab-df-container\">\n",
              "    <div>\n",
              "<style scoped>\n",
              "    .dataframe tbody tr th:only-of-type {\n",
              "        vertical-align: middle;\n",
              "    }\n",
              "\n",
              "    .dataframe tbody tr th {\n",
              "        vertical-align: top;\n",
              "    }\n",
              "\n",
              "    .dataframe thead th {\n",
              "        text-align: right;\n",
              "    }\n",
              "</style>\n",
              "<table border=\"1\" class=\"dataframe\">\n",
              "  <thead>\n",
              "    <tr style=\"text-align: right;\">\n",
              "      <th></th>\n",
              "      <th>0</th>\n",
              "      <th>1</th>\n",
              "      <th>2</th>\n",
              "      <th>3</th>\n",
              "      <th>4</th>\n",
              "      <th>5</th>\n",
              "      <th>6</th>\n",
              "      <th>7</th>\n",
              "      <th>8</th>\n",
              "      <th>9</th>\n",
              "      <th>...</th>\n",
              "      <th>38</th>\n",
              "      <th>39</th>\n",
              "      <th>40</th>\n",
              "      <th>41</th>\n",
              "      <th>42</th>\n",
              "      <th>43</th>\n",
              "      <th>44</th>\n",
              "      <th>45</th>\n",
              "      <th>46</th>\n",
              "      <th>47</th>\n",
              "    </tr>\n",
              "  </thead>\n",
              "  <tbody>\n",
              "    <tr>\n",
              "      <th>0</th>\n",
              "      <td>0__median</td>\n",
              "      <td>0__mean</td>\n",
              "      <td>0__standard_deviation</td>\n",
              "      <td>0__variance</td>\n",
              "      <td>0__root_mean_square</td>\n",
              "      <td>0__maximum</td>\n",
              "      <td>0__absolute_maximum</td>\n",
              "      <td>0__minimum</td>\n",
              "      <td>1__median</td>\n",
              "      <td>1__mean</td>\n",
              "      <td>...</td>\n",
              "      <td>4__absolute_maximum</td>\n",
              "      <td>4__minimum</td>\n",
              "      <td>5__median</td>\n",
              "      <td>5__mean</td>\n",
              "      <td>5__standard_deviation</td>\n",
              "      <td>5__variance</td>\n",
              "      <td>5__root_mean_square</td>\n",
              "      <td>5__maximum</td>\n",
              "      <td>5__absolute_maximum</td>\n",
              "      <td>5__minimum</td>\n",
              "    </tr>\n",
              "    <tr>\n",
              "      <th>1</th>\n",
              "      <td>1.01944450285877</td>\n",
              "      <td>1.0193142942447153</td>\n",
              "      <td>0.0024762469750240646</td>\n",
              "      <td>6.131799081315831e-06</td>\n",
              "      <td>1.01931730204617</td>\n",
              "      <td>1.027777854158295</td>\n",
              "      <td>1.027777854158295</td>\n",
              "      <td>1.0125000434425</td>\n",
              "      <td>-0.1250000020616516</td>\n",
              "      <td>-0.12428385819818219</td>\n",
              "      <td>...</td>\n",
              "      <td>0.02138028293848038</td>\n",
              "      <td>-0.02138028293848038</td>\n",
              "      <td>0.003054326167330146</td>\n",
              "      <td>0.0024673228924712025</td>\n",
              "      <td>0.006133609869028267</td>\n",
              "      <td>3.762117002544095e-05</td>\n",
              "      <td>0.006611267070777992</td>\n",
              "      <td>0.01679879426956177</td>\n",
              "      <td>0.01679879426956177</td>\n",
              "      <td>-0.01404990069568157</td>\n",
              "    </tr>\n",
              "    <tr>\n",
              "      <th>2</th>\n",
              "      <td>1.01944450285877</td>\n",
              "      <td>1.0199002330079632</td>\n",
              "      <td>0.0033669412028527372</td>\n",
              "      <td>1.1336293063467436e-05</td>\n",
              "      <td>1.0199057905428133</td>\n",
              "      <td>1.02916674604155</td>\n",
              "      <td>1.02916674604155</td>\n",
              "      <td>1.009722259675992</td>\n",
              "      <td>-0.1263888939449057</td>\n",
              "      <td>-0.12505425802505304</td>\n",
              "      <td>...</td>\n",
              "      <td>0.03451388701796532</td>\n",
              "      <td>-0.03451388701796532</td>\n",
              "      <td>0.00366519158706069</td>\n",
              "      <td>0.00544290474636</td>\n",
              "      <td>0.009781032110216805</td>\n",
              "      <td>9.566858914109219e-05</td>\n",
              "      <td>0.011193471365891834</td>\n",
              "      <td>0.03634648025035858</td>\n",
              "      <td>0.03634648025035858</td>\n",
              "      <td>-0.01435533352196217</td>\n",
              "    </tr>\n",
              "    <tr>\n",
              "      <th>3</th>\n",
              "      <td>1.01944450285877</td>\n",
              "      <td>1.0201497995182354</td>\n",
              "      <td>0.002750501804412125</td>\n",
              "      <td>7.565260176074354e-06</td>\n",
              "      <td>1.0201535074278145</td>\n",
              "      <td>1.025000070391787</td>\n",
              "      <td>1.025000070391787</td>\n",
              "      <td>1.011111151559246</td>\n",
              "      <td>-0.1305555574387036</td>\n",
              "      <td>-0.13018663702089006</td>\n",
              "      <td>...</td>\n",
              "      <td>0.02626720629632473</td>\n",
              "      <td>-0.02626720629632473</td>\n",
              "      <td>0.0</td>\n",
              "      <td>0.0003436116994635086</td>\n",
              "      <td>0.009007026194748656</td>\n",
              "      <td>8.112652087288845e-05</td>\n",
              "      <td>0.009013578083807598</td>\n",
              "      <td>0.02718350291252136</td>\n",
              "      <td>0.02718350291252136</td>\n",
              "      <td>-0.02382374368607998</td>\n",
              "    </tr>\n",
              "    <tr>\n",
              "      <th>4</th>\n",
              "      <td>1.020833394742025</td>\n",
              "      <td>1.0207791411528349</td>\n",
              "      <td>0.0028706455352721085</td>\n",
              "      <td>8.24060578917769e-06</td>\n",
              "      <td>1.0207831775742136</td>\n",
              "      <td>1.027777854158295</td>\n",
              "      <td>1.027777854158295</td>\n",
              "      <td>1.013888935325754</td>\n",
              "      <td>-0.1263888939449057</td>\n",
              "      <td>-0.1276367229824334</td>\n",
              "      <td>...</td>\n",
              "      <td>0.03390302136540413</td>\n",
              "      <td>-0.03390302136540413</td>\n",
              "      <td>0.005345070967450738</td>\n",
              "      <td>0.006118197258047076</td>\n",
              "      <td>0.012574714847580413</td>\n",
              "      <td>0.00015812345349795927</td>\n",
              "      <td>0.013984126400541938</td>\n",
              "      <td>0.03359758853912354</td>\n",
              "      <td>0.03359758853912354</td>\n",
              "      <td>-0.02443460933864117</td>\n",
              "    </tr>\n",
              "  </tbody>\n",
              "</table>\n",
              "<p>5 rows × 48 columns</p>\n",
              "</div>\n",
              "    <div class=\"colab-df-buttons\">\n",
              "\n",
              "  <div class=\"colab-df-container\">\n",
              "    <button class=\"colab-df-convert\" onclick=\"convertToInteractive('df-d142bea5-00e3-4f02-ad4d-00eadf63abd0')\"\n",
              "            title=\"Convert this dataframe to an interactive table.\"\n",
              "            style=\"display:none;\">\n",
              "\n",
              "  <svg xmlns=\"http://www.w3.org/2000/svg\" height=\"24px\" viewBox=\"0 -960 960 960\">\n",
              "    <path d=\"M120-120v-720h720v720H120Zm60-500h600v-160H180v160Zm220 220h160v-160H400v160Zm0 220h160v-160H400v160ZM180-400h160v-160H180v160Zm440 0h160v-160H620v160ZM180-180h160v-160H180v160Zm440 0h160v-160H620v160Z\"/>\n",
              "  </svg>\n",
              "    </button>\n",
              "\n",
              "  <style>\n",
              "    .colab-df-container {\n",
              "      display:flex;\n",
              "      gap: 12px;\n",
              "    }\n",
              "\n",
              "    .colab-df-convert {\n",
              "      background-color: #E8F0FE;\n",
              "      border: none;\n",
              "      border-radius: 50%;\n",
              "      cursor: pointer;\n",
              "      display: none;\n",
              "      fill: #1967D2;\n",
              "      height: 32px;\n",
              "      padding: 0 0 0 0;\n",
              "      width: 32px;\n",
              "    }\n",
              "\n",
              "    .colab-df-convert:hover {\n",
              "      background-color: #E2EBFA;\n",
              "      box-shadow: 0px 1px 2px rgba(60, 64, 67, 0.3), 0px 1px 3px 1px rgba(60, 64, 67, 0.15);\n",
              "      fill: #174EA6;\n",
              "    }\n",
              "\n",
              "    .colab-df-buttons div {\n",
              "      margin-bottom: 4px;\n",
              "    }\n",
              "\n",
              "    [theme=dark] .colab-df-convert {\n",
              "      background-color: #3B4455;\n",
              "      fill: #D2E3FC;\n",
              "    }\n",
              "\n",
              "    [theme=dark] .colab-df-convert:hover {\n",
              "      background-color: #434B5C;\n",
              "      box-shadow: 0px 1px 3px 1px rgba(0, 0, 0, 0.15);\n",
              "      filter: drop-shadow(0px 1px 2px rgba(0, 0, 0, 0.3));\n",
              "      fill: #FFFFFF;\n",
              "    }\n",
              "  </style>\n",
              "\n",
              "    <script>\n",
              "      const buttonEl =\n",
              "        document.querySelector('#df-d142bea5-00e3-4f02-ad4d-00eadf63abd0 button.colab-df-convert');\n",
              "      buttonEl.style.display =\n",
              "        google.colab.kernel.accessAllowed ? 'block' : 'none';\n",
              "\n",
              "      async function convertToInteractive(key) {\n",
              "        const element = document.querySelector('#df-d142bea5-00e3-4f02-ad4d-00eadf63abd0');\n",
              "        const dataTable =\n",
              "          await google.colab.kernel.invokeFunction('convertToInteractive',\n",
              "                                                    [key], {});\n",
              "        if (!dataTable) return;\n",
              "\n",
              "        const docLinkHtml = 'Like what you see? Visit the ' +\n",
              "          '<a target=\"_blank\" href=https://colab.research.google.com/notebooks/data_table.ipynb>data table notebook</a>'\n",
              "          + ' to learn more about interactive tables.';\n",
              "        element.innerHTML = '';\n",
              "        dataTable['output_type'] = 'display_data';\n",
              "        await google.colab.output.renderOutput(dataTable, element);\n",
              "        const docLink = document.createElement('div');\n",
              "        docLink.innerHTML = docLinkHtml;\n",
              "        element.appendChild(docLink);\n",
              "      }\n",
              "    </script>\n",
              "  </div>\n",
              "\n",
              "\n",
              "<div id=\"df-44141ba5-7c5c-4c0b-830a-d9cd09571f40\">\n",
              "  <button class=\"colab-df-quickchart\" onclick=\"quickchart('df-44141ba5-7c5c-4c0b-830a-d9cd09571f40')\"\n",
              "            title=\"Suggest charts.\"\n",
              "            style=\"display:none;\">\n",
              "\n",
              "<svg xmlns=\"http://www.w3.org/2000/svg\" height=\"24px\"viewBox=\"0 0 24 24\"\n",
              "     width=\"24px\">\n",
              "    <g>\n",
              "        <path d=\"M19 3H5c-1.1 0-2 .9-2 2v14c0 1.1.9 2 2 2h14c1.1 0 2-.9 2-2V5c0-1.1-.9-2-2-2zM9 17H7v-7h2v7zm4 0h-2V7h2v10zm4 0h-2v-4h2v4z\"/>\n",
              "    </g>\n",
              "</svg>\n",
              "  </button>\n",
              "\n",
              "<style>\n",
              "  .colab-df-quickchart {\n",
              "      --bg-color: #E8F0FE;\n",
              "      --fill-color: #1967D2;\n",
              "      --hover-bg-color: #E2EBFA;\n",
              "      --hover-fill-color: #174EA6;\n",
              "      --disabled-fill-color: #AAA;\n",
              "      --disabled-bg-color: #DDD;\n",
              "  }\n",
              "\n",
              "  [theme=dark] .colab-df-quickchart {\n",
              "      --bg-color: #3B4455;\n",
              "      --fill-color: #D2E3FC;\n",
              "      --hover-bg-color: #434B5C;\n",
              "      --hover-fill-color: #FFFFFF;\n",
              "      --disabled-bg-color: #3B4455;\n",
              "      --disabled-fill-color: #666;\n",
              "  }\n",
              "\n",
              "  .colab-df-quickchart {\n",
              "    background-color: var(--bg-color);\n",
              "    border: none;\n",
              "    border-radius: 50%;\n",
              "    cursor: pointer;\n",
              "    display: none;\n",
              "    fill: var(--fill-color);\n",
              "    height: 32px;\n",
              "    padding: 0;\n",
              "    width: 32px;\n",
              "  }\n",
              "\n",
              "  .colab-df-quickchart:hover {\n",
              "    background-color: var(--hover-bg-color);\n",
              "    box-shadow: 0 1px 2px rgba(60, 64, 67, 0.3), 0 1px 3px 1px rgba(60, 64, 67, 0.15);\n",
              "    fill: var(--button-hover-fill-color);\n",
              "  }\n",
              "\n",
              "  .colab-df-quickchart-complete:disabled,\n",
              "  .colab-df-quickchart-complete:disabled:hover {\n",
              "    background-color: var(--disabled-bg-color);\n",
              "    fill: var(--disabled-fill-color);\n",
              "    box-shadow: none;\n",
              "  }\n",
              "\n",
              "  .colab-df-spinner {\n",
              "    border: 2px solid var(--fill-color);\n",
              "    border-color: transparent;\n",
              "    border-bottom-color: var(--fill-color);\n",
              "    animation:\n",
              "      spin 1s steps(1) infinite;\n",
              "  }\n",
              "\n",
              "  @keyframes spin {\n",
              "    0% {\n",
              "      border-color: transparent;\n",
              "      border-bottom-color: var(--fill-color);\n",
              "      border-left-color: var(--fill-color);\n",
              "    }\n",
              "    20% {\n",
              "      border-color: transparent;\n",
              "      border-left-color: var(--fill-color);\n",
              "      border-top-color: var(--fill-color);\n",
              "    }\n",
              "    30% {\n",
              "      border-color: transparent;\n",
              "      border-left-color: var(--fill-color);\n",
              "      border-top-color: var(--fill-color);\n",
              "      border-right-color: var(--fill-color);\n",
              "    }\n",
              "    40% {\n",
              "      border-color: transparent;\n",
              "      border-right-color: var(--fill-color);\n",
              "      border-top-color: var(--fill-color);\n",
              "    }\n",
              "    60% {\n",
              "      border-color: transparent;\n",
              "      border-right-color: var(--fill-color);\n",
              "    }\n",
              "    80% {\n",
              "      border-color: transparent;\n",
              "      border-right-color: var(--fill-color);\n",
              "      border-bottom-color: var(--fill-color);\n",
              "    }\n",
              "    90% {\n",
              "      border-color: transparent;\n",
              "      border-bottom-color: var(--fill-color);\n",
              "    }\n",
              "  }\n",
              "</style>\n",
              "\n",
              "  <script>\n",
              "    async function quickchart(key) {\n",
              "      const quickchartButtonEl =\n",
              "        document.querySelector('#' + key + ' button');\n",
              "      quickchartButtonEl.disabled = true;  // To prevent multiple clicks.\n",
              "      quickchartButtonEl.classList.add('colab-df-spinner');\n",
              "      try {\n",
              "        const charts = await google.colab.kernel.invokeFunction(\n",
              "            'suggestCharts', [key], {});\n",
              "      } catch (error) {\n",
              "        console.error('Error during call to suggestCharts:', error);\n",
              "      }\n",
              "      quickchartButtonEl.classList.remove('colab-df-spinner');\n",
              "      quickchartButtonEl.classList.add('colab-df-quickchart-complete');\n",
              "    }\n",
              "    (() => {\n",
              "      let quickchartButtonEl =\n",
              "        document.querySelector('#df-44141ba5-7c5c-4c0b-830a-d9cd09571f40 button');\n",
              "      quickchartButtonEl.style.display =\n",
              "        google.colab.kernel.accessAllowed ? 'block' : 'none';\n",
              "    })();\n",
              "  </script>\n",
              "</div>\n",
              "    </div>\n",
              "  </div>\n"
            ]
          },
          "metadata": {},
          "execution_count": 28
        }
      ]
    },
    {
      "cell_type": "markdown",
      "source": [],
      "metadata": {
        "id": "i5AAFQJk0XIH"
      },
      "id": "i5AAFQJk0XIH"
    },
    {
      "cell_type": "code",
      "source": [
        "Y_train.shape"
      ],
      "metadata": {
        "colab": {
          "base_uri": "https://localhost:8080/"
        },
        "id": "VKoP6EHNP9h-",
        "outputId": "67aa8fe3-8815-49cd-a7e4-47c7e2ab1bfd"
      },
      "id": "VKoP6EHNP9h-",
      "execution_count": null,
      "outputs": [
        {
          "output_type": "execute_result",
          "data": {
            "text/plain": [
              "(12228,)"
            ]
          },
          "metadata": {},
          "execution_count": 29
        }
      ]
    },
    {
      "cell_type": "code",
      "execution_count": null,
      "metadata": {
        "id": "-O4N6UXgJfh5"
      },
      "outputs": [],
      "source": [
        "X_train=X_train.iloc[1: , :]\n"
      ],
      "id": "-O4N6UXgJfh5"
    },
    {
      "cell_type": "code",
      "source": [
        "###########################################################################################\n",
        "x1train,x1test,y1train,y1test=splitData2(X_train,Y_train,'dynamic')\n",
        "x2train,x2test,y2train,y2test=splitData2(X_train,Y_train,'static')\n",
        "x3train,x3test,y3train,y3test=splitData2(X_train,Y_train,'transition')\n",
        "\n",
        "###########################################################################################\n",
        "x1train.shape,y1train.shape,x3train.shape,y3train.shape"
      ],
      "metadata": {
        "id": "BLpFp-vYvOA1",
        "outputId": "de30ac6c-07eb-4c45-9bd7-1ae79c78305f",
        "colab": {
          "base_uri": "https://localhost:8080/",
          "height": 211
        }
      },
      "id": "BLpFp-vYvOA1",
      "execution_count": 24,
      "outputs": [
        {
          "output_type": "error",
          "ename": "NameError",
          "evalue": "name 'X_train' is not defined",
          "traceback": [
            "\u001b[0;31m---------------------------------------------------------------------------\u001b[0m",
            "\u001b[0;31mNameError\u001b[0m                                 Traceback (most recent call last)",
            "\u001b[0;32m<ipython-input-24-359882c6b8e8>\u001b[0m in \u001b[0;36m<cell line: 2>\u001b[0;34m()\u001b[0m\n\u001b[1;32m      1\u001b[0m \u001b[0;31m###########################################################################################\u001b[0m\u001b[0;34m\u001b[0m\u001b[0;34m\u001b[0m\u001b[0m\n\u001b[0;32m----> 2\u001b[0;31m \u001b[0mx1train\u001b[0m\u001b[0;34m,\u001b[0m\u001b[0mx1test\u001b[0m\u001b[0;34m,\u001b[0m\u001b[0my1train\u001b[0m\u001b[0;34m,\u001b[0m\u001b[0my1test\u001b[0m\u001b[0;34m=\u001b[0m\u001b[0msplitData2\u001b[0m\u001b[0;34m(\u001b[0m\u001b[0mX_train\u001b[0m\u001b[0;34m,\u001b[0m\u001b[0mY_train\u001b[0m\u001b[0;34m,\u001b[0m\u001b[0;34m'dynamic'\u001b[0m\u001b[0;34m)\u001b[0m\u001b[0;34m\u001b[0m\u001b[0;34m\u001b[0m\u001b[0m\n\u001b[0m\u001b[1;32m      3\u001b[0m \u001b[0mx2train\u001b[0m\u001b[0;34m,\u001b[0m\u001b[0mx2test\u001b[0m\u001b[0;34m,\u001b[0m\u001b[0my2train\u001b[0m\u001b[0;34m,\u001b[0m\u001b[0my2test\u001b[0m\u001b[0;34m=\u001b[0m\u001b[0msplitData2\u001b[0m\u001b[0;34m(\u001b[0m\u001b[0mX_train\u001b[0m\u001b[0;34m,\u001b[0m\u001b[0mY_train\u001b[0m\u001b[0;34m,\u001b[0m\u001b[0;34m'static'\u001b[0m\u001b[0;34m)\u001b[0m\u001b[0;34m\u001b[0m\u001b[0;34m\u001b[0m\u001b[0m\n\u001b[1;32m      4\u001b[0m \u001b[0mx3train\u001b[0m\u001b[0;34m,\u001b[0m\u001b[0mx3test\u001b[0m\u001b[0;34m,\u001b[0m\u001b[0my3train\u001b[0m\u001b[0;34m,\u001b[0m\u001b[0my3test\u001b[0m\u001b[0;34m=\u001b[0m\u001b[0msplitData2\u001b[0m\u001b[0;34m(\u001b[0m\u001b[0mX_train\u001b[0m\u001b[0;34m,\u001b[0m\u001b[0mY_train\u001b[0m\u001b[0;34m,\u001b[0m\u001b[0;34m'transition'\u001b[0m\u001b[0;34m)\u001b[0m\u001b[0;34m\u001b[0m\u001b[0;34m\u001b[0m\u001b[0m\n\u001b[1;32m      5\u001b[0m \u001b[0;34m\u001b[0m\u001b[0m\n",
            "\u001b[0;31mNameError\u001b[0m: name 'X_train' is not defined"
          ]
        }
      ]
    },
    {
      "cell_type": "code",
      "source": [
        "X_train = np.concatenate([x1train,x2train, x3train], axis=0)\n",
        "X_test = np.concatenate([x1test,x2test, x3test], axis=0)\n",
        "\n",
        "Y_train = np.concatenate([y1train,y2train, y3train], axis=0)\n",
        "Y_test = np.concatenate([y1test,y2test, y3test], axis=0)\n",
        "\n"
      ],
      "metadata": {
        "id": "4qxC5W6mwELo"
      },
      "id": "4qxC5W6mwELo",
      "execution_count": null,
      "outputs": []
    },
    {
      "cell_type": "code",
      "execution_count": null,
      "metadata": {
        "id": "iVvozaOjJflI"
      },
      "outputs": [],
      "source": [
        "X_train,X_test,Y_train,Y_test = train_test_split(X_train,Y_train,test_size = 0.3,random_state=42)\n"
      ],
      "id": "iVvozaOjJflI"
    },
    {
      "cell_type": "code",
      "execution_count": null,
      "metadata": {
        "colab": {
          "base_uri": "https://localhost:8080/"
        },
        "id": "4_rmh1UXLqyk",
        "outputId": "392a2dbc-47c6-472c-b1ce-88a0b104067a"
      },
      "outputs": [
        {
          "output_type": "execute_result",
          "data": {
            "text/plain": [
              "((8557, 48), (3671, 48), (8557,), (3671,))"
            ]
          },
          "metadata": {},
          "execution_count": 82
        }
      ],
      "source": [
        "X_train.shape,X_test.shape,Y_train.shape,Y_test.shape"
      ],
      "id": "4_rmh1UXLqyk"
    },
    {
      "cell_type": "code",
      "source": [
        "X_test.shape,Y_test.shape"
      ],
      "metadata": {
        "id": "iCcO68udU66s",
        "outputId": "cc2603d9-238c-4961-9779-6752dd94e435",
        "colab": {
          "base_uri": "https://localhost:8080/"
        }
      },
      "id": "iCcO68udU66s",
      "execution_count": null,
      "outputs": [
        {
          "output_type": "execute_result",
          "data": {
            "text/plain": [
              "((3671, 48), (3671,))"
            ]
          },
          "metadata": {},
          "execution_count": 78
        }
      ]
    },
    {
      "cell_type": "code",
      "execution_count": null,
      "metadata": {
        "colab": {
          "base_uri": "https://localhost:8080/"
        },
        "id": "cVYraPfbJfoJ",
        "outputId": "1b91514d-d497-4e29-b122-5e9986a6448f"
      },
      "outputs": [
        {
          "output_type": "stream",
          "name": "stdout",
          "text": [
            "[LibLinear]Accuracy score TEST: 90.902\n"
          ]
        }
      ],
      "source": [
        "from sklearn.svm import LinearSVC, SVC\n",
        "from sklearn.metrics import confusion_matrix, accuracy_score\n",
        "\n",
        "\n",
        "svc = LinearSVC(random_state=42, tol=1e-5, verbose=1, max_iter=10000)\n",
        "svc.fit(X_train, Y_train)\n",
        "\n",
        "svm_pred = svc.predict(X_test)\n",
        "SVC_pred_test = accuracy_score(Y_test, svm_pred)*100\n",
        "print('Accuracy score TEST: {:.3f}'.format(accuracy_score(Y_test, svm_pred)*100))"
      ],
      "id": "cVYraPfbJfoJ"
    },
    {
      "cell_type": "code",
      "execution_count": null,
      "metadata": {
        "colab": {
          "base_uri": "https://localhost:8080/"
        },
        "id": "h2XdwZGZOeC5",
        "outputId": "e2ddb15c-735e-46e4-c012-0be021f01736"
      },
      "outputs": [
        {
          "output_type": "execute_result",
          "data": {
            "text/plain": [
              "(3671,)"
            ]
          },
          "metadata": {},
          "execution_count": 84
        }
      ],
      "source": [
        "svm_pred.shape"
      ],
      "id": "h2XdwZGZOeC5"
    },
    {
      "cell_type": "markdown",
      "source": [],
      "metadata": {
        "id": "5HDMPlo70KoF"
      },
      "id": "5HDMPlo70KoF"
    },
    {
      "cell_type": "code",
      "source": [
        "from sklearn.metrics import confusion_matrix, accuracy_score\n",
        "\n",
        "from sklearn.ensemble import RandomForestClassifier\n",
        "\n",
        "tree_list = [15, 50, 100, 200]\n",
        "scores=[]\n",
        "for n_trees in tree_list:\n",
        "\n",
        "    rf = RandomForestClassifier(n_estimators=n_trees, random_state=40)\n",
        "    rf.fit(x2train, y2train)\n",
        "    rf_pred = rf.predict(x2test)\n",
        "    scores.append(accuracy_score(y2test, rf_pred))\n",
        "    print('Accuracy score of static activities TEST: {:.3f}'.format(accuracy_score(y2test, rf_pred)*100))"
      ],
      "metadata": {
        "id": "exvxxWV40NJc",
        "outputId": "423c7f83-0af1-49d3-d788-13ecc15a1829",
        "colab": {
          "base_uri": "https://localhost:8080/"
        }
      },
      "id": "exvxxWV40NJc",
      "execution_count": null,
      "outputs": [
        {
          "output_type": "stream",
          "name": "stdout",
          "text": [
            "Accuracy score of static activities TEST: 95.643\n",
            "Accuracy score of static activities TEST: 95.534\n",
            "Accuracy score of static activities TEST: 95.643\n",
            "Accuracy score of static activities TEST: 95.752\n"
          ]
        }
      ]
    },
    {
      "cell_type": "code",
      "source": [
        "from sklearn.metrics import confusion_matrix, accuracy_score\n",
        "\n",
        "from sklearn.ensemble import RandomForestClassifier\n",
        "\n",
        "tree_list = [15, 50, 100, 200]\n",
        "scores=[]\n",
        "for n_trees in tree_list:\n",
        "\n",
        "    rf2 = RandomForestClassifier(n_estimators=n_trees, random_state=40)\n",
        "    rf2.fit(x3train, y3train)\n",
        "    rf2_pred = rf2.predict(x3test)\n",
        "    scores.append(accuracy_score(y3test, rf2_pred))\n",
        "    print('Accuracy score of transition activities TEST: {:.3f}'.format(accuracy_score(y3test, rf2_pred)*100))"
      ],
      "metadata": {
        "id": "FYtEN1t20NMV",
        "outputId": "cfc48f4c-472c-4070-baee-92103331b003",
        "colab": {
          "base_uri": "https://localhost:8080/"
        }
      },
      "id": "FYtEN1t20NMV",
      "execution_count": null,
      "outputs": [
        {
          "output_type": "stream",
          "name": "stdout",
          "text": [
            "Accuracy score of transition activities TEST: 98.583\n",
            "Accuracy score of transition activities TEST: 98.638\n",
            "Accuracy score of transition activities TEST: 98.856\n",
            "Accuracy score of transition activities TEST: 98.965\n"
          ]
        }
      ]
    },
    {
      "cell_type": "code",
      "source": [],
      "metadata": {
        "id": "orwI7XaH0NOc"
      },
      "id": "orwI7XaH0NOc",
      "execution_count": null,
      "outputs": []
    },
    {
      "cell_type": "markdown",
      "metadata": {
        "id": "RLGgFSCOFzdf"
      },
      "source": [
        "**end** **svm**"
      ],
      "id": "RLGgFSCOFzdf"
    },
    {
      "cell_type": "markdown",
      "metadata": {
        "id": "2499a87b"
      },
      "source": [
        "## Handling missing data and Normalizing data"
      ],
      "id": "2499a87b"
    },
    {
      "cell_type": "code",
      "execution_count": 25,
      "metadata": {
        "id": "c8a564b8"
      },
      "outputs": [],
      "source": [
        "xtrain,ytrain = remove_null(xtrain,ytrain)"
      ],
      "id": "c8a564b8"
    },
    {
      "cell_type": "code",
      "execution_count": 26,
      "metadata": {
        "colab": {
          "base_uri": "https://localhost:8080/"
        },
        "id": "8384d3f1",
        "outputId": "f76213c9-39dc-4f8e-f5ed-ed5b19760612"
      },
      "outputs": [
        {
          "output_type": "execute_result",
          "data": {
            "text/plain": [
              "(12228, 128, 2, 3)"
            ]
          },
          "metadata": {},
          "execution_count": 26
        }
      ],
      "source": [
        "xtrain.shape"
      ],
      "id": "8384d3f1"
    },
    {
      "cell_type": "code",
      "execution_count": null,
      "metadata": {
        "id": "a21dcce8",
        "outputId": "8977fd6c-bbf1-44ac-a653-c018f4de74f6",
        "colab": {
          "base_uri": "https://localhost:8080/"
        }
      },
      "outputs": [
        {
          "output_type": "execute_result",
          "data": {
            "text/plain": [
              "5773"
            ]
          },
          "metadata": {},
          "execution_count": 33
        }
      ],
      "source": [
        "2449+2960+364"
      ],
      "id": "a21dcce8"
    },
    {
      "cell_type": "code",
      "execution_count": null,
      "metadata": {
        "colab": {
          "base_uri": "https://localhost:8080/"
        },
        "id": "874d8e8f",
        "outputId": "a85fc7fa-9b7f-42cb-daa2-cc8ce7272a4d"
      },
      "outputs": [
        {
          "output_type": "execute_result",
          "data": {
            "text/plain": [
              "(12228,)"
            ]
          },
          "metadata": {},
          "execution_count": 37
        }
      ],
      "source": [
        "ytrain.shape"
      ],
      "id": "874d8e8f"
    },
    {
      "cell_type": "markdown",
      "source": [
        "**Hier split and training**"
      ],
      "metadata": {
        "id": "A2yaghFoJu7V"
      },
      "id": "A2yaghFoJu7V"
    },
    {
      "cell_type": "markdown",
      "source": [
        "**Dynamic**"
      ],
      "metadata": {
        "id": "GyyCXrhLJ4Hy"
      },
      "id": "GyyCXrhLJ4Hy"
    },
    {
      "cell_type": "code",
      "execution_count": 27,
      "metadata": {
        "id": "exBcVgpyE-A4"
      },
      "outputs": [],
      "source": [
        "dynamicxtrain,dynamicxtest,dynamicytrain,dynamicytest,dynamiclabels = splitData(xtrain,ytrain,'dynamic')"
      ],
      "id": "exBcVgpyE-A4"
    },
    {
      "cell_type": "code",
      "execution_count": 28,
      "metadata": {
        "colab": {
          "base_uri": "https://localhost:8080/"
        },
        "id": "vMMnvtMOE-D6",
        "outputId": "702a8cb7-804c-4870-94df-a07f407840e5"
      },
      "outputs": [
        {
          "output_type": "execute_result",
          "data": {
            "text/plain": [
              "((2139, 128, 2, 3), (2139, 3))"
            ]
          },
          "metadata": {},
          "execution_count": 28
        }
      ],
      "source": [
        "dynamicxtrain.shape,dynamicytrain.shape"
      ],
      "id": "vMMnvtMOE-D6"
    },
    {
      "cell_type": "code",
      "execution_count": null,
      "metadata": {
        "id": "uXfHgKT1Hri3"
      },
      "outputs": [],
      "source": [
        "####################################################################################################################################"
      ],
      "id": "uXfHgKT1Hri3"
    },
    {
      "cell_type": "code",
      "execution_count": 29,
      "metadata": {
        "id": "ZPXQbygkE-JX",
        "colab": {
          "base_uri": "https://localhost:8080/"
        },
        "outputId": "89f5181e-26be-4c02-a2ed-2be88b18cff2"
      },
      "outputs": [
        {
          "output_type": "execute_result",
          "data": {
            "text/plain": [
              "((2139, 128, 2, 3), (918, 128, 2, 3), (2139, 3), (918, 3), (918,))"
            ]
          },
          "metadata": {},
          "execution_count": 29
        }
      ],
      "source": [
        "dynamicxtrain.shape,dynamicxtest.shape,dynamicytrain.shape,dynamicytest.shape,dynamiclabels.shape"
      ],
      "id": "ZPXQbygkE-JX"
    },
    {
      "cell_type": "code",
      "execution_count": 30,
      "metadata": {
        "id": "Su531qq_E-OZ",
        "outputId": "1fac0f39-a381-4526-dce6-aca800ce1c6f",
        "colab": {
          "base_uri": "https://localhost:8080/"
        }
      },
      "outputs": [
        {
          "output_type": "execute_result",
          "data": {
            "text/plain": [
              "((2139, 128, 2, 3), (918, 128, 2, 3), (2139, 3), (918, 3), (918,))"
            ]
          },
          "metadata": {},
          "execution_count": 30
        }
      ],
      "source": [
        "#xtrain,ytrain = resampleData(originalx,originaly)\n",
        "staticxtrain,staticxtest,staticytrain,staticytest,staticlabels = splitData(xtrain,ytrain,'static')\n",
        "staticxtrain.shape,staticxtest.shape,staticytrain.shape,staticytest.shape,staticlabels.shape"
      ],
      "id": "Su531qq_E-OZ"
    },
    {
      "cell_type": "code",
      "execution_count": null,
      "metadata": {
        "id": "2od2FQuTHt-O"
      },
      "outputs": [],
      "source": [],
      "id": "2od2FQuTHt-O"
    },
    {
      "cell_type": "code",
      "execution_count": 31,
      "metadata": {
        "id": "HijklUTSIRjR"
      },
      "outputs": [],
      "source": [
        "dynamicxtrain = dynamicxtrain.reshape(2139,128,6)\n",
        "dynamicxtest = dynamicxtest.reshape(918,128,6)"
      ],
      "id": "HijklUTSIRjR"
    },
    {
      "cell_type": "code",
      "source": [
        "staticxtrain = staticxtrain.reshape(2139,128,6)\n",
        "staticxtest = staticxtest.reshape(918,128,6)"
      ],
      "metadata": {
        "id": "DUoWueaoPNK-"
      },
      "id": "DUoWueaoPNK-",
      "execution_count": 32,
      "outputs": []
    },
    {
      "cell_type": "markdown",
      "source": [
        "**start** **transformers**"
      ],
      "metadata": {
        "id": "GffM3NPrPNhk"
      },
      "id": "GffM3NPrPNhk"
    },
    {
      "cell_type": "code",
      "source": [
        "import numpy as np\n",
        "from numpy import mean\n",
        "from numpy import std\n",
        "from numpy import dstack\n",
        "from pandas import read_csv\n",
        "from keras.models import Sequential\n",
        "from keras.layers import Dense\n",
        "from keras.layers import Flatten\n",
        "from keras.layers import Dropout\n",
        "from keras.layers import LSTM\n",
        "\n",
        "from matplotlib import pyplot\n",
        "import matplotlib.pyplot as plt\n",
        "import keras\n",
        "import zipfile\n",
        "from sklearn.metrics import confusion_matrix, classification_report\n",
        "import seaborn as sns"
      ],
      "metadata": {
        "id": "S0xUjfN-PT2o"
      },
      "id": "S0xUjfN-PT2o",
      "execution_count": 33,
      "outputs": []
    },
    {
      "cell_type": "code",
      "source": [
        "%cd sample_data"
      ],
      "metadata": {
        "id": "HYk7yxqCQTnx",
        "outputId": "5c62adf3-df4d-4c73-d8bf-e3c405ba218a",
        "colab": {
          "base_uri": "https://localhost:8080/"
        }
      },
      "id": "HYk7yxqCQTnx",
      "execution_count": 34,
      "outputs": [
        {
          "output_type": "stream",
          "name": "stdout",
          "text": [
            "/content/sample_data\n"
          ]
        }
      ]
    },
    {
      "cell_type": "code",
      "source": [
        "import model\n",
        "\n",
        "learningRate = 3e-4\n",
        "\n",
        "optimizer = tf.keras.optimizers.Adam(learningRate)\n",
        "optimizer2 = tf.keras.optimizers.Adam(learningRate)\n",
        "\n",
        "dynamic_classifier = model.HART((128,6),3)\n",
        "static_classifier = model.HART((128,6),3)\n",
        "\n",
        "dynamic_classifier.compile(\n",
        "    optimizer=optimizer,\n",
        "    loss=tf.keras.losses.CategoricalCrossentropy(label_smoothing=0.1),\n",
        "    metrics=[\"accuracy\"],\n",
        ")\n",
        "static_classifier.compile(\n",
        "    optimizer=optimizer2,\n",
        "    loss=tf.keras.losses.CategoricalCrossentropy(label_smoothing=0.1),\n",
        "    metrics=[\"accuracy\"],\n",
        ")"
      ],
      "metadata": {
        "id": "J4EkuupeQE9n"
      },
      "id": "J4EkuupeQE9n",
      "execution_count": 35,
      "outputs": []
    },
    {
      "cell_type": "code",
      "source": [
        "from sklearn.utils import class_weight\n",
        "\n",
        "temp_weights = class_weight.compute_class_weight(class_weight = 'balanced',\n",
        "                                                 classes = np.unique(dynamiclabels),\n",
        "                                                 y = dynamiclabels.ravel())\n",
        "class_weights = {j : temp_weights[j] for j in range(len(temp_weights))}\n",
        "\n",
        "temp_weights = class_weight.compute_class_weight(class_weight = 'balanced',\n",
        "                                                 classes = np.unique(staticlabels),\n",
        "                                                 y = staticlabels.ravel())\n",
        "class_weights2 = {j : temp_weights[j] for j in range(len(temp_weights))}"
      ],
      "metadata": {
        "id": "LkQxKO32RU0B"
      },
      "id": "LkQxKO32RU0B",
      "execution_count": 36,
      "outputs": []
    },
    {
      "cell_type": "code",
      "source": [
        "np.unique(staticlabels)\n"
      ],
      "metadata": {
        "id": "DGBxDrApRU5t",
        "outputId": "556c8bfe-1a08-4a49-af7c-85a477c25a17",
        "colab": {
          "base_uri": "https://localhost:8080/"
        }
      },
      "id": "DGBxDrApRU5t",
      "execution_count": 37,
      "outputs": [
        {
          "output_type": "execute_result",
          "data": {
            "text/plain": [
              "array([4, 5, 6], dtype=uint32)"
            ]
          },
          "metadata": {},
          "execution_count": 37
        }
      ]
    },
    {
      "cell_type": "code",
      "source": [
        "checkpoint_filepath = \"bestValcheckpoint.h5\"\n",
        "checkpoint_callback = tf.keras.callbacks.ModelCheckpoint(\n",
        "    checkpoint_filepath,\n",
        "    monitor=\"val_accuracy\",\n",
        "    save_best_only=True,\n",
        "    save_weights_only=True,\n",
        "    verbose=1,\n",
        ")\n",
        "\n",
        "history0 = dynamic_classifier.fit(\n",
        "    x=dynamicxtrain,\n",
        "    y=dynamicytrain,\n",
        "  # validation_data = (dynamicxtest,dynamicytest),\n",
        "    batch_size=256,\n",
        "    epochs=100,\n",
        "    verbose=1,\n",
        "    class_weight=class_weights,\n",
        "    callbacks=[checkpoint_callback],\n",
        ")\n",
        "\n"
      ],
      "metadata": {
        "id": "fj0HP47_RU9Q",
        "outputId": "41ec30f4-1805-43b6-89c8-06822ca7008d",
        "colab": {
          "base_uri": "https://localhost:8080/"
        }
      },
      "id": "fj0HP47_RU9Q",
      "execution_count": 38,
      "outputs": [
        {
          "output_type": "stream",
          "name": "stdout",
          "text": [
            "Epoch 1/100\n",
            "9/9 [==============================] - ETA: 0s - loss: 1.0378 - accuracy: 0.4642"
          ]
        },
        {
          "output_type": "stream",
          "name": "stderr",
          "text": [
            "WARNING:tensorflow:Can save best model only with val_accuracy available, skipping.\n"
          ]
        },
        {
          "output_type": "stream",
          "name": "stdout",
          "text": [
            "\b\b\b\b\b\b\b\b\b\b\b\b\b\b\b\b\b\b\b\b\b\b\b\b\b\b\b\b\b\b\b\b\b\b\b\b\b\b\b\b\b\b\b\b\b\b\b\b\b\b\b\b\b\b\b\b\b\b\b\b\b\b\b\b\b\b\b\b\b\b\b\b\b\b\b\b\b\b\b\b\r9/9 [==============================] - 62s 146ms/step - loss: 1.0378 - accuracy: 0.4642\n",
            "Epoch 2/100\n",
            "9/9 [==============================] - ETA: 0s - loss: 0.7879 - accuracy: 0.6994"
          ]
        },
        {
          "output_type": "stream",
          "name": "stderr",
          "text": [
            "WARNING:tensorflow:Can save best model only with val_accuracy available, skipping.\n"
          ]
        },
        {
          "output_type": "stream",
          "name": "stdout",
          "text": [
            "\b\b\b\b\b\b\b\b\b\b\b\b\b\b\b\b\b\b\b\b\b\b\b\b\b\b\b\b\b\b\b\b\b\b\b\b\b\b\b\b\b\b\b\b\b\b\b\b\b\b\b\b\b\b\b\b\b\b\b\b\b\b\b\b\b\b\b\b\b\b\b\b\b\b\b\b\b\b\b\b\r9/9 [==============================] - 1s 92ms/step - loss: 0.7879 - accuracy: 0.6994\n",
            "Epoch 3/100\n",
            "9/9 [==============================] - ETA: 0s - loss: 0.7440 - accuracy: 0.7279"
          ]
        },
        {
          "output_type": "stream",
          "name": "stderr",
          "text": [
            "WARNING:tensorflow:Can save best model only with val_accuracy available, skipping.\n"
          ]
        },
        {
          "output_type": "stream",
          "name": "stdout",
          "text": [
            "\b\b\b\b\b\b\b\b\b\b\b\b\b\b\b\b\b\b\b\b\b\b\b\b\b\b\b\b\b\b\b\b\b\b\b\b\b\b\b\b\b\b\b\b\b\b\b\b\b\b\b\b\b\b\b\b\b\b\b\b\b\b\b\b\b\b\b\b\b\b\b\b\b\b\b\b\b\b\b\b\r9/9 [==============================] - 1s 87ms/step - loss: 0.7440 - accuracy: 0.7279\n",
            "Epoch 4/100\n",
            "9/9 [==============================] - ETA: 0s - loss: 0.6921 - accuracy: 0.7695"
          ]
        },
        {
          "output_type": "stream",
          "name": "stderr",
          "text": [
            "WARNING:tensorflow:Can save best model only with val_accuracy available, skipping.\n"
          ]
        },
        {
          "output_type": "stream",
          "name": "stdout",
          "text": [
            "\b\b\b\b\b\b\b\b\b\b\b\b\b\b\b\b\b\b\b\b\b\b\b\b\b\b\b\b\b\b\b\b\b\b\b\b\b\b\b\b\b\b\b\b\b\b\b\b\b\b\b\b\b\b\b\b\b\b\b\b\b\b\b\b\b\b\b\b\b\b\b\b\b\b\b\b\b\b\b\b\r9/9 [==============================] - 1s 91ms/step - loss: 0.6921 - accuracy: 0.7695\n",
            "Epoch 5/100\n",
            "8/9 [=========================>....] - ETA: 0s - loss: 0.6149 - accuracy: 0.8218"
          ]
        },
        {
          "output_type": "stream",
          "name": "stderr",
          "text": [
            "WARNING:tensorflow:Can save best model only with val_accuracy available, skipping.\n"
          ]
        },
        {
          "output_type": "stream",
          "name": "stdout",
          "text": [
            "\b\b\b\b\b\b\b\b\b\b\b\b\b\b\b\b\b\b\b\b\b\b\b\b\b\b\b\b\b\b\b\b\b\b\b\b\b\b\b\b\b\b\b\b\b\b\b\b\b\b\b\b\b\b\b\b\b\b\b\b\b\b\b\b\b\b\b\b\b\b\b\b\b\b\b\b\b\b\b\b\r9/9 [==============================] - 1s 72ms/step - loss: 0.6141 - accuracy: 0.8205\n",
            "Epoch 6/100\n",
            "9/9 [==============================] - ETA: 0s - loss: 0.5646 - accuracy: 0.8541"
          ]
        },
        {
          "output_type": "stream",
          "name": "stderr",
          "text": [
            "WARNING:tensorflow:Can save best model only with val_accuracy available, skipping.\n"
          ]
        },
        {
          "output_type": "stream",
          "name": "stdout",
          "text": [
            "\b\b\b\b\b\b\b\b\b\b\b\b\b\b\b\b\b\b\b\b\b\b\b\b\b\b\b\b\b\b\b\b\b\b\b\b\b\b\b\b\b\b\b\b\b\b\b\b\b\b\b\b\b\b\b\b\b\b\b\b\b\b\b\b\b\b\b\b\b\b\b\b\b\b\b\b\b\b\b\b\r9/9 [==============================] - 1s 70ms/step - loss: 0.5646 - accuracy: 0.8541\n",
            "Epoch 7/100\n",
            "9/9 [==============================] - ETA: 0s - loss: 0.5027 - accuracy: 0.8883"
          ]
        },
        {
          "output_type": "stream",
          "name": "stderr",
          "text": [
            "WARNING:tensorflow:Can save best model only with val_accuracy available, skipping.\n"
          ]
        },
        {
          "output_type": "stream",
          "name": "stdout",
          "text": [
            "\b\b\b\b\b\b\b\b\b\b\b\b\b\b\b\b\b\b\b\b\b\b\b\b\b\b\b\b\b\b\b\b\b\b\b\b\b\b\b\b\b\b\b\b\b\b\b\b\b\b\b\b\b\b\b\b\b\b\b\b\b\b\b\b\b\b\b\b\b\b\b\b\b\b\b\b\b\b\b\b\r9/9 [==============================] - 1s 67ms/step - loss: 0.5027 - accuracy: 0.8883\n",
            "Epoch 8/100\n",
            "9/9 [==============================] - ETA: 0s - loss: 0.4670 - accuracy: 0.9107"
          ]
        },
        {
          "output_type": "stream",
          "name": "stderr",
          "text": [
            "WARNING:tensorflow:Can save best model only with val_accuracy available, skipping.\n"
          ]
        },
        {
          "output_type": "stream",
          "name": "stdout",
          "text": [
            "\b\b\b\b\b\b\b\b\b\b\b\b\b\b\b\b\b\b\b\b\b\b\b\b\b\b\b\b\b\b\b\b\b\b\b\b\b\b\b\b\b\b\b\b\b\b\b\b\b\b\b\b\b\b\b\b\b\b\b\b\b\b\b\b\b\b\b\b\b\b\b\b\b\b\b\b\b\b\b\b\r9/9 [==============================] - 1s 71ms/step - loss: 0.4670 - accuracy: 0.9107\n",
            "Epoch 9/100\n",
            "9/9 [==============================] - ETA: 0s - loss: 0.4413 - accuracy: 0.9331"
          ]
        },
        {
          "output_type": "stream",
          "name": "stderr",
          "text": [
            "WARNING:tensorflow:Can save best model only with val_accuracy available, skipping.\n"
          ]
        },
        {
          "output_type": "stream",
          "name": "stdout",
          "text": [
            "\b\b\b\b\b\b\b\b\b\b\b\b\b\b\b\b\b\b\b\b\b\b\b\b\b\b\b\b\b\b\b\b\b\b\b\b\b\b\b\b\b\b\b\b\b\b\b\b\b\b\b\b\b\b\b\b\b\b\b\b\b\b\b\b\b\b\b\b\b\b\b\b\b\b\b\b\b\b\b\b\r9/9 [==============================] - 1s 56ms/step - loss: 0.4413 - accuracy: 0.9331\n",
            "Epoch 10/100\n",
            "9/9 [==============================] - ETA: 0s - loss: 0.4178 - accuracy: 0.9416"
          ]
        },
        {
          "output_type": "stream",
          "name": "stderr",
          "text": [
            "WARNING:tensorflow:Can save best model only with val_accuracy available, skipping.\n"
          ]
        },
        {
          "output_type": "stream",
          "name": "stdout",
          "text": [
            "\b\b\b\b\b\b\b\b\b\b\b\b\b\b\b\b\b\b\b\b\b\b\b\b\b\b\b\b\b\b\b\b\b\b\b\b\b\b\b\b\b\b\b\b\b\b\b\b\b\b\b\b\b\b\b\b\b\b\b\b\b\b\b\b\b\b\b\b\b\b\b\b\b\b\b\b\b\b\b\b\r9/9 [==============================] - 1s 67ms/step - loss: 0.4178 - accuracy: 0.9416\n",
            "Epoch 11/100\n",
            "9/9 [==============================] - ETA: 0s - loss: 0.4050 - accuracy: 0.9467"
          ]
        },
        {
          "output_type": "stream",
          "name": "stderr",
          "text": [
            "WARNING:tensorflow:Can save best model only with val_accuracy available, skipping.\n"
          ]
        },
        {
          "output_type": "stream",
          "name": "stdout",
          "text": [
            "\b\b\b\b\b\b\b\b\b\b\b\b\b\b\b\b\b\b\b\b\b\b\b\b\b\b\b\b\b\b\b\b\b\b\b\b\b\b\b\b\b\b\b\b\b\b\b\b\b\b\b\b\b\b\b\b\b\b\b\b\b\b\b\b\b\b\b\b\b\b\b\b\b\b\b\b\b\b\b\b\r9/9 [==============================] - 1s 52ms/step - loss: 0.4050 - accuracy: 0.9467\n",
            "Epoch 12/100\n",
            "9/9 [==============================] - ETA: 0s - loss: 0.3966 - accuracy: 0.9537"
          ]
        },
        {
          "output_type": "stream",
          "name": "stderr",
          "text": [
            "WARNING:tensorflow:Can save best model only with val_accuracy available, skipping.\n"
          ]
        },
        {
          "output_type": "stream",
          "name": "stdout",
          "text": [
            "\b\b\b\b\b\b\b\b\b\b\b\b\b\b\b\b\b\b\b\b\b\b\b\b\b\b\b\b\b\b\b\b\b\b\b\b\b\b\b\b\b\b\b\b\b\b\b\b\b\b\b\b\b\b\b\b\b\b\b\b\b\b\b\b\b\b\b\b\b\b\b\b\b\b\b\b\b\b\b\b\r9/9 [==============================] - 1s 63ms/step - loss: 0.3966 - accuracy: 0.9537\n",
            "Epoch 13/100\n",
            "8/9 [=========================>....] - ETA: 0s - loss: 0.3749 - accuracy: 0.9600"
          ]
        },
        {
          "output_type": "stream",
          "name": "stderr",
          "text": [
            "WARNING:tensorflow:Can save best model only with val_accuracy available, skipping.\n"
          ]
        },
        {
          "output_type": "stream",
          "name": "stdout",
          "text": [
            "\b\b\b\b\b\b\b\b\b\b\b\b\b\b\b\b\b\b\b\b\b\b\b\b\b\b\b\b\b\b\b\b\b\b\b\b\b\b\b\b\b\b\b\b\b\b\b\b\b\b\b\b\b\b\b\b\b\b\b\b\b\b\b\b\b\b\b\b\b\b\b\b\b\b\b\b\b\b\b\b\r9/9 [==============================] - 0s 52ms/step - loss: 0.3755 - accuracy: 0.9598\n",
            "Epoch 14/100\n",
            "9/9 [==============================] - ETA: 0s - loss: 0.3667 - accuracy: 0.9696"
          ]
        },
        {
          "output_type": "stream",
          "name": "stderr",
          "text": [
            "WARNING:tensorflow:Can save best model only with val_accuracy available, skipping.\n"
          ]
        },
        {
          "output_type": "stream",
          "name": "stdout",
          "text": [
            "\b\b\b\b\b\b\b\b\b\b\b\b\b\b\b\b\b\b\b\b\b\b\b\b\b\b\b\b\b\b\b\b\b\b\b\b\b\b\b\b\b\b\b\b\b\b\b\b\b\b\b\b\b\b\b\b\b\b\b\b\b\b\b\b\b\b\b\b\b\b\b\b\b\b\b\b\b\b\b\b\r9/9 [==============================] - 1s 74ms/step - loss: 0.3667 - accuracy: 0.9696\n",
            "Epoch 15/100\n",
            "8/9 [=========================>....] - ETA: 0s - loss: 0.3554 - accuracy: 0.9722"
          ]
        },
        {
          "output_type": "stream",
          "name": "stderr",
          "text": [
            "WARNING:tensorflow:Can save best model only with val_accuracy available, skipping.\n"
          ]
        },
        {
          "output_type": "stream",
          "name": "stdout",
          "text": [
            "\b\b\b\b\b\b\b\b\b\b\b\b\b\b\b\b\b\b\b\b\b\b\b\b\b\b\b\b\b\b\b\b\b\b\b\b\b\b\b\b\b\b\b\b\b\b\b\b\b\b\b\b\b\b\b\b\b\b\b\b\b\b\b\b\b\b\b\b\b\b\b\b\b\b\b\b\b\b\b\b\r9/9 [==============================] - 1s 59ms/step - loss: 0.3553 - accuracy: 0.9719\n",
            "Epoch 16/100\n",
            "8/9 [=========================>....] - ETA: 0s - loss: 0.3581 - accuracy: 0.9683"
          ]
        },
        {
          "output_type": "stream",
          "name": "stderr",
          "text": [
            "WARNING:tensorflow:Can save best model only with val_accuracy available, skipping.\n"
          ]
        },
        {
          "output_type": "stream",
          "name": "stdout",
          "text": [
            "\b\b\b\b\b\b\b\b\b\b\b\b\b\b\b\b\b\b\b\b\b\b\b\b\b\b\b\b\b\b\b\b\b\b\b\b\b\b\b\b\b\b\b\b\b\b\b\b\b\b\b\b\b\b\b\b\b\b\b\b\b\b\b\b\b\b\b\b\b\b\b\b\b\b\b\b\b\b\b\b\r9/9 [==============================] - 1s 75ms/step - loss: 0.3571 - accuracy: 0.9687\n",
            "Epoch 17/100\n",
            "9/9 [==============================] - ETA: 0s - loss: 0.3504 - accuracy: 0.9743"
          ]
        },
        {
          "output_type": "stream",
          "name": "stderr",
          "text": [
            "WARNING:tensorflow:Can save best model only with val_accuracy available, skipping.\n"
          ]
        },
        {
          "output_type": "stream",
          "name": "stdout",
          "text": [
            "\b\b\b\b\b\b\b\b\b\b\b\b\b\b\b\b\b\b\b\b\b\b\b\b\b\b\b\b\b\b\b\b\b\b\b\b\b\b\b\b\b\b\b\b\b\b\b\b\b\b\b\b\b\b\b\b\b\b\b\b\b\b\b\b\b\b\b\b\b\b\b\b\b\b\b\b\b\b\b\b\r9/9 [==============================] - 1s 71ms/step - loss: 0.3504 - accuracy: 0.9743\n",
            "Epoch 18/100\n",
            "9/9 [==============================] - ETA: 0s - loss: 0.3431 - accuracy: 0.9804"
          ]
        },
        {
          "output_type": "stream",
          "name": "stderr",
          "text": [
            "WARNING:tensorflow:Can save best model only with val_accuracy available, skipping.\n"
          ]
        },
        {
          "output_type": "stream",
          "name": "stdout",
          "text": [
            "\b\b\b\b\b\b\b\b\b\b\b\b\b\b\b\b\b\b\b\b\b\b\b\b\b\b\b\b\b\b\b\b\b\b\b\b\b\b\b\b\b\b\b\b\b\b\b\b\b\b\b\b\b\b\b\b\b\b\b\b\b\b\b\b\b\b\b\b\b\b\b\b\b\b\b\b\b\b\b\b\r9/9 [==============================] - 1s 70ms/step - loss: 0.3431 - accuracy: 0.9804\n",
            "Epoch 19/100\n",
            "9/9 [==============================] - ETA: 0s - loss: 0.3404 - accuracy: 0.9818"
          ]
        },
        {
          "output_type": "stream",
          "name": "stderr",
          "text": [
            "WARNING:tensorflow:Can save best model only with val_accuracy available, skipping.\n"
          ]
        },
        {
          "output_type": "stream",
          "name": "stdout",
          "text": [
            "\b\b\b\b\b\b\b\b\b\b\b\b\b\b\b\b\b\b\b\b\b\b\b\b\b\b\b\b\b\b\b\b\b\b\b\b\b\b\b\b\b\b\b\b\b\b\b\b\b\b\b\b\b\b\b\b\b\b\b\b\b\b\b\b\b\b\b\b\b\b\b\b\b\b\b\b\b\b\b\b\r9/9 [==============================] - 1s 84ms/step - loss: 0.3404 - accuracy: 0.9818\n",
            "Epoch 20/100\n",
            "9/9 [==============================] - ETA: 0s - loss: 0.3405 - accuracy: 0.9804"
          ]
        },
        {
          "output_type": "stream",
          "name": "stderr",
          "text": [
            "WARNING:tensorflow:Can save best model only with val_accuracy available, skipping.\n"
          ]
        },
        {
          "output_type": "stream",
          "name": "stdout",
          "text": [
            "\b\b\b\b\b\b\b\b\b\b\b\b\b\b\b\b\b\b\b\b\b\b\b\b\b\b\b\b\b\b\b\b\b\b\b\b\b\b\b\b\b\b\b\b\b\b\b\b\b\b\b\b\b\b\b\b\b\b\b\b\b\b\b\b\b\b\b\b\b\b\b\b\b\b\b\b\b\b\b\b\r9/9 [==============================] - 1s 94ms/step - loss: 0.3405 - accuracy: 0.9804\n",
            "Epoch 21/100\n",
            "9/9 [==============================] - ETA: 0s - loss: 0.3340 - accuracy: 0.9832"
          ]
        },
        {
          "output_type": "stream",
          "name": "stderr",
          "text": [
            "WARNING:tensorflow:Can save best model only with val_accuracy available, skipping.\n"
          ]
        },
        {
          "output_type": "stream",
          "name": "stdout",
          "text": [
            "\b\b\b\b\b\b\b\b\b\b\b\b\b\b\b\b\b\b\b\b\b\b\b\b\b\b\b\b\b\b\b\b\b\b\b\b\b\b\b\b\b\b\b\b\b\b\b\b\b\b\b\b\b\b\b\b\b\b\b\b\b\b\b\b\b\b\b\b\b\b\b\b\b\b\b\b\b\b\b\b\r9/9 [==============================] - 1s 117ms/step - loss: 0.3340 - accuracy: 0.9832\n",
            "Epoch 22/100\n",
            "9/9 [==============================] - ETA: 0s - loss: 0.3279 - accuracy: 0.9836"
          ]
        },
        {
          "output_type": "stream",
          "name": "stderr",
          "text": [
            "WARNING:tensorflow:Can save best model only with val_accuracy available, skipping.\n"
          ]
        },
        {
          "output_type": "stream",
          "name": "stdout",
          "text": [
            "\b\b\b\b\b\b\b\b\b\b\b\b\b\b\b\b\b\b\b\b\b\b\b\b\b\b\b\b\b\b\b\b\b\b\b\b\b\b\b\b\b\b\b\b\b\b\b\b\b\b\b\b\b\b\b\b\b\b\b\b\b\b\b\b\b\b\b\b\b\b\b\b\b\b\b\b\b\b\b\b\r9/9 [==============================] - 1s 136ms/step - loss: 0.3279 - accuracy: 0.9836\n",
            "Epoch 23/100\n",
            "9/9 [==============================] - ETA: 0s - loss: 0.3222 - accuracy: 0.9902"
          ]
        },
        {
          "output_type": "stream",
          "name": "stderr",
          "text": [
            "WARNING:tensorflow:Can save best model only with val_accuracy available, skipping.\n"
          ]
        },
        {
          "output_type": "stream",
          "name": "stdout",
          "text": [
            "\b\b\b\b\b\b\b\b\b\b\b\b\b\b\b\b\b\b\b\b\b\b\b\b\b\b\b\b\b\b\b\b\b\b\b\b\b\b\b\b\b\b\b\b\b\b\b\b\b\b\b\b\b\b\b\b\b\b\b\b\b\b\b\b\b\b\b\b\b\b\b\b\b\b\b\b\b\b\b\b\r9/9 [==============================] - 1s 143ms/step - loss: 0.3222 - accuracy: 0.9902\n",
            "Epoch 24/100\n",
            "9/9 [==============================] - ETA: 0s - loss: 0.3209 - accuracy: 0.9906"
          ]
        },
        {
          "output_type": "stream",
          "name": "stderr",
          "text": [
            "WARNING:tensorflow:Can save best model only with val_accuracy available, skipping.\n"
          ]
        },
        {
          "output_type": "stream",
          "name": "stdout",
          "text": [
            "\b\b\b\b\b\b\b\b\b\b\b\b\b\b\b\b\b\b\b\b\b\b\b\b\b\b\b\b\b\b\b\b\b\b\b\b\b\b\b\b\b\b\b\b\b\b\b\b\b\b\b\b\b\b\b\b\b\b\b\b\b\b\b\b\b\b\b\b\b\b\b\b\b\b\b\b\b\b\b\b\r9/9 [==============================] - 1s 95ms/step - loss: 0.3209 - accuracy: 0.9906\n",
            "Epoch 25/100\n",
            "8/9 [=========================>....] - ETA: 0s - loss: 0.3209 - accuracy: 0.9893"
          ]
        },
        {
          "output_type": "stream",
          "name": "stderr",
          "text": [
            "WARNING:tensorflow:Can save best model only with val_accuracy available, skipping.\n"
          ]
        },
        {
          "output_type": "stream",
          "name": "stdout",
          "text": [
            "\b\b\b\b\b\b\b\b\b\b\b\b\b\b\b\b\b\b\b\b\b\b\b\b\b\b\b\b\b\b\b\b\b\b\b\b\b\b\b\b\b\b\b\b\b\b\b\b\b\b\b\b\b\b\b\b\b\b\b\b\b\b\b\b\b\b\b\b\b\b\b\b\b\b\b\b\b\b\b\b\r9/9 [==============================] - 1s 70ms/step - loss: 0.3205 - accuracy: 0.9892\n",
            "Epoch 26/100\n",
            "9/9 [==============================] - ETA: 0s - loss: 0.3175 - accuracy: 0.9911"
          ]
        },
        {
          "output_type": "stream",
          "name": "stderr",
          "text": [
            "WARNING:tensorflow:Can save best model only with val_accuracy available, skipping.\n"
          ]
        },
        {
          "output_type": "stream",
          "name": "stdout",
          "text": [
            "\b\b\b\b\b\b\b\b\b\b\b\b\b\b\b\b\b\b\b\b\b\b\b\b\b\b\b\b\b\b\b\b\b\b\b\b\b\b\b\b\b\b\b\b\b\b\b\b\b\b\b\b\b\b\b\b\b\b\b\b\b\b\b\b\b\b\b\b\b\b\b\b\b\b\b\b\b\b\b\b\r9/9 [==============================] - 0s 47ms/step - loss: 0.3175 - accuracy: 0.9911\n",
            "Epoch 27/100\n",
            "9/9 [==============================] - ETA: 0s - loss: 0.3184 - accuracy: 0.9921"
          ]
        },
        {
          "output_type": "stream",
          "name": "stderr",
          "text": [
            "WARNING:tensorflow:Can save best model only with val_accuracy available, skipping.\n"
          ]
        },
        {
          "output_type": "stream",
          "name": "stdout",
          "text": [
            "\b\b\b\b\b\b\b\b\b\b\b\b\b\b\b\b\b\b\b\b\b\b\b\b\b\b\b\b\b\b\b\b\b\b\b\b\b\b\b\b\b\b\b\b\b\b\b\b\b\b\b\b\b\b\b\b\b\b\b\b\b\b\b\b\b\b\b\b\b\b\b\b\b\b\b\b\b\b\b\b\r9/9 [==============================] - 0s 49ms/step - loss: 0.3184 - accuracy: 0.9921\n",
            "Epoch 28/100\n",
            "9/9 [==============================] - ETA: 0s - loss: 0.3192 - accuracy: 0.9883"
          ]
        },
        {
          "output_type": "stream",
          "name": "stderr",
          "text": [
            "WARNING:tensorflow:Can save best model only with val_accuracy available, skipping.\n"
          ]
        },
        {
          "output_type": "stream",
          "name": "stdout",
          "text": [
            "\b\b\b\b\b\b\b\b\b\b\b\b\b\b\b\b\b\b\b\b\b\b\b\b\b\b\b\b\b\b\b\b\b\b\b\b\b\b\b\b\b\b\b\b\b\b\b\b\b\b\b\b\b\b\b\b\b\b\b\b\b\b\b\b\b\b\b\b\b\b\b\b\b\b\b\b\b\b\b\b\r9/9 [==============================] - 0s 53ms/step - loss: 0.3192 - accuracy: 0.9883\n",
            "Epoch 29/100\n",
            "9/9 [==============================] - ETA: 0s - loss: 0.3144 - accuracy: 0.9921"
          ]
        },
        {
          "output_type": "stream",
          "name": "stderr",
          "text": [
            "WARNING:tensorflow:Can save best model only with val_accuracy available, skipping.\n"
          ]
        },
        {
          "output_type": "stream",
          "name": "stdout",
          "text": [
            "\b\b\b\b\b\b\b\b\b\b\b\b\b\b\b\b\b\b\b\b\b\b\b\b\b\b\b\b\b\b\b\b\b\b\b\b\b\b\b\b\b\b\b\b\b\b\b\b\b\b\b\b\b\b\b\b\b\b\b\b\b\b\b\b\b\b\b\b\b\b\b\b\b\b\b\b\b\b\b\b\r9/9 [==============================] - 0s 48ms/step - loss: 0.3144 - accuracy: 0.9921\n",
            "Epoch 30/100\n",
            "9/9 [==============================] - ETA: 0s - loss: 0.3136 - accuracy: 0.9925"
          ]
        },
        {
          "output_type": "stream",
          "name": "stderr",
          "text": [
            "WARNING:tensorflow:Can save best model only with val_accuracy available, skipping.\n"
          ]
        },
        {
          "output_type": "stream",
          "name": "stdout",
          "text": [
            "\b\b\b\b\b\b\b\b\b\b\b\b\b\b\b\b\b\b\b\b\b\b\b\b\b\b\b\b\b\b\b\b\b\b\b\b\b\b\b\b\b\b\b\b\b\b\b\b\b\b\b\b\b\b\b\b\b\b\b\b\b\b\b\b\b\b\b\b\b\b\b\b\b\b\b\b\b\b\b\b\r9/9 [==============================] - 0s 45ms/step - loss: 0.3136 - accuracy: 0.9925\n",
            "Epoch 31/100\n",
            "9/9 [==============================] - ETA: 0s - loss: 0.3147 - accuracy: 0.9916"
          ]
        },
        {
          "output_type": "stream",
          "name": "stderr",
          "text": [
            "WARNING:tensorflow:Can save best model only with val_accuracy available, skipping.\n"
          ]
        },
        {
          "output_type": "stream",
          "name": "stdout",
          "text": [
            "\b\b\b\b\b\b\b\b\b\b\b\b\b\b\b\b\b\b\b\b\b\b\b\b\b\b\b\b\b\b\b\b\b\b\b\b\b\b\b\b\b\b\b\b\b\b\b\b\b\b\b\b\b\b\b\b\b\b\b\b\b\b\b\b\b\b\b\b\b\b\b\b\b\b\b\b\b\b\b\b\r9/9 [==============================] - 0s 45ms/step - loss: 0.3147 - accuracy: 0.9916\n",
            "Epoch 32/100\n",
            "9/9 [==============================] - ETA: 0s - loss: 0.3140 - accuracy: 0.9916"
          ]
        },
        {
          "output_type": "stream",
          "name": "stderr",
          "text": [
            "WARNING:tensorflow:Can save best model only with val_accuracy available, skipping.\n"
          ]
        },
        {
          "output_type": "stream",
          "name": "stdout",
          "text": [
            "\b\b\b\b\b\b\b\b\b\b\b\b\b\b\b\b\b\b\b\b\b\b\b\b\b\b\b\b\b\b\b\b\b\b\b\b\b\b\b\b\b\b\b\b\b\b\b\b\b\b\b\b\b\b\b\b\b\b\b\b\b\b\b\b\b\b\b\b\b\b\b\b\b\b\b\b\b\b\b\b\r9/9 [==============================] - 0s 49ms/step - loss: 0.3140 - accuracy: 0.9916\n",
            "Epoch 33/100\n",
            "8/9 [=========================>....] - ETA: 0s - loss: 0.3121 - accuracy: 0.9937"
          ]
        },
        {
          "output_type": "stream",
          "name": "stderr",
          "text": [
            "WARNING:tensorflow:Can save best model only with val_accuracy available, skipping.\n"
          ]
        },
        {
          "output_type": "stream",
          "name": "stdout",
          "text": [
            "\b\b\b\b\b\b\b\b\b\b\b\b\b\b\b\b\b\b\b\b\b\b\b\b\b\b\b\b\b\b\b\b\b\b\b\b\b\b\b\b\b\b\b\b\b\b\b\b\b\b\b\b\b\b\b\b\b\b\b\b\b\b\b\b\b\b\b\b\b\b\b\b\b\b\b\b\b\b\b\b\r9/9 [==============================] - 0s 51ms/step - loss: 0.3122 - accuracy: 0.9935\n",
            "Epoch 34/100\n",
            "8/9 [=========================>....] - ETA: 0s - loss: 0.3123 - accuracy: 0.9941"
          ]
        },
        {
          "output_type": "stream",
          "name": "stderr",
          "text": [
            "WARNING:tensorflow:Can save best model only with val_accuracy available, skipping.\n"
          ]
        },
        {
          "output_type": "stream",
          "name": "stdout",
          "text": [
            "\b\b\b\b\b\b\b\b\b\b\b\b\b\b\b\b\b\b\b\b\b\b\b\b\b\b\b\b\b\b\b\b\b\b\b\b\b\b\b\b\b\b\b\b\b\b\b\b\b\b\b\b\b\b\b\b\b\b\b\b\b\b\b\b\b\b\b\b\b\b\b\b\b\b\b\b\b\b\b\b\r9/9 [==============================] - 0s 51ms/step - loss: 0.3131 - accuracy: 0.9935\n",
            "Epoch 35/100\n",
            "9/9 [==============================] - ETA: 0s - loss: 0.3180 - accuracy: 0.9897"
          ]
        },
        {
          "output_type": "stream",
          "name": "stderr",
          "text": [
            "WARNING:tensorflow:Can save best model only with val_accuracy available, skipping.\n"
          ]
        },
        {
          "output_type": "stream",
          "name": "stdout",
          "text": [
            "\b\b\b\b\b\b\b\b\b\b\b\b\b\b\b\b\b\b\b\b\b\b\b\b\b\b\b\b\b\b\b\b\b\b\b\b\b\b\b\b\b\b\b\b\b\b\b\b\b\b\b\b\b\b\b\b\b\b\b\b\b\b\b\b\b\b\b\b\b\b\b\b\b\b\b\b\b\b\b\b\r9/9 [==============================] - 0s 51ms/step - loss: 0.3180 - accuracy: 0.9897\n",
            "Epoch 36/100\n",
            "8/9 [=========================>....] - ETA: 0s - loss: 0.3099 - accuracy: 0.9951"
          ]
        },
        {
          "output_type": "stream",
          "name": "stderr",
          "text": [
            "WARNING:tensorflow:Can save best model only with val_accuracy available, skipping.\n"
          ]
        },
        {
          "output_type": "stream",
          "name": "stdout",
          "text": [
            "\b\b\b\b\b\b\b\b\b\b\b\b\b\b\b\b\b\b\b\b\b\b\b\b\b\b\b\b\b\b\b\b\b\b\b\b\b\b\b\b\b\b\b\b\b\b\b\b\b\b\b\b\b\b\b\b\b\b\b\b\b\b\b\b\b\b\b\b\b\b\b\b\b\b\b\b\b\b\b\b\r9/9 [==============================] - 0s 52ms/step - loss: 0.3097 - accuracy: 0.9949\n",
            "Epoch 37/100\n",
            "9/9 [==============================] - ETA: 0s - loss: 0.3081 - accuracy: 0.9935"
          ]
        },
        {
          "output_type": "stream",
          "name": "stderr",
          "text": [
            "WARNING:tensorflow:Can save best model only with val_accuracy available, skipping.\n"
          ]
        },
        {
          "output_type": "stream",
          "name": "stdout",
          "text": [
            "\b\b\b\b\b\b\b\b\b\b\b\b\b\b\b\b\b\b\b\b\b\b\b\b\b\b\b\b\b\b\b\b\b\b\b\b\b\b\b\b\b\b\b\b\b\b\b\b\b\b\b\b\b\b\b\b\b\b\b\b\b\b\b\b\b\b\b\b\b\b\b\b\b\b\b\b\b\b\b\b\r9/9 [==============================] - 0s 48ms/step - loss: 0.3081 - accuracy: 0.9935\n",
            "Epoch 38/100\n",
            "9/9 [==============================] - ETA: 0s - loss: 0.3082 - accuracy: 0.9944"
          ]
        },
        {
          "output_type": "stream",
          "name": "stderr",
          "text": [
            "WARNING:tensorflow:Can save best model only with val_accuracy available, skipping.\n"
          ]
        },
        {
          "output_type": "stream",
          "name": "stdout",
          "text": [
            "\b\b\b\b\b\b\b\b\b\b\b\b\b\b\b\b\b\b\b\b\b\b\b\b\b\b\b\b\b\b\b\b\b\b\b\b\b\b\b\b\b\b\b\b\b\b\b\b\b\b\b\b\b\b\b\b\b\b\b\b\b\b\b\b\b\b\b\b\b\b\b\b\b\b\b\b\b\b\b\b\r9/9 [==============================] - 0s 49ms/step - loss: 0.3082 - accuracy: 0.9944\n",
            "Epoch 39/100\n",
            "9/9 [==============================] - ETA: 0s - loss: 0.3066 - accuracy: 0.9949"
          ]
        },
        {
          "output_type": "stream",
          "name": "stderr",
          "text": [
            "WARNING:tensorflow:Can save best model only with val_accuracy available, skipping.\n"
          ]
        },
        {
          "output_type": "stream",
          "name": "stdout",
          "text": [
            "\b\b\b\b\b\b\b\b\b\b\b\b\b\b\b\b\b\b\b\b\b\b\b\b\b\b\b\b\b\b\b\b\b\b\b\b\b\b\b\b\b\b\b\b\b\b\b\b\b\b\b\b\b\b\b\b\b\b\b\b\b\b\b\b\b\b\b\b\b\b\b\b\b\b\b\b\b\b\b\b\r9/9 [==============================] - 0s 48ms/step - loss: 0.3066 - accuracy: 0.9949\n",
            "Epoch 40/100\n",
            "8/9 [=========================>....] - ETA: 0s - loss: 0.3096 - accuracy: 0.9946"
          ]
        },
        {
          "output_type": "stream",
          "name": "stderr",
          "text": [
            "WARNING:tensorflow:Can save best model only with val_accuracy available, skipping.\n"
          ]
        },
        {
          "output_type": "stream",
          "name": "stdout",
          "text": [
            "\b\b\b\b\b\b\b\b\b\b\b\b\b\b\b\b\b\b\b\b\b\b\b\b\b\b\b\b\b\b\b\b\b\b\b\b\b\b\b\b\b\b\b\b\b\b\b\b\b\b\b\b\b\b\b\b\b\b\b\b\b\b\b\b\b\b\b\b\b\b\b\b\b\b\b\b\b\b\b\b\r9/9 [==============================] - 0s 47ms/step - loss: 0.3091 - accuracy: 0.9949\n",
            "Epoch 41/100\n",
            "8/9 [=========================>....] - ETA: 0s - loss: 0.3056 - accuracy: 0.9951"
          ]
        },
        {
          "output_type": "stream",
          "name": "stderr",
          "text": [
            "WARNING:tensorflow:Can save best model only with val_accuracy available, skipping.\n"
          ]
        },
        {
          "output_type": "stream",
          "name": "stdout",
          "text": [
            "\b\b\b\b\b\b\b\b\b\b\b\b\b\b\b\b\b\b\b\b\b\b\b\b\b\b\b\b\b\b\b\b\b\b\b\b\b\b\b\b\b\b\b\b\b\b\b\b\b\b\b\b\b\b\b\b\b\b\b\b\b\b\b\b\b\b\b\b\b\b\b\b\b\b\b\b\b\b\b\b\r9/9 [==============================] - 0s 50ms/step - loss: 0.3055 - accuracy: 0.9953\n",
            "Epoch 42/100\n",
            "9/9 [==============================] - ETA: 0s - loss: 0.3042 - accuracy: 0.9949"
          ]
        },
        {
          "output_type": "stream",
          "name": "stderr",
          "text": [
            "WARNING:tensorflow:Can save best model only with val_accuracy available, skipping.\n"
          ]
        },
        {
          "output_type": "stream",
          "name": "stdout",
          "text": [
            "\b\b\b\b\b\b\b\b\b\b\b\b\b\b\b\b\b\b\b\b\b\b\b\b\b\b\b\b\b\b\b\b\b\b\b\b\b\b\b\b\b\b\b\b\b\b\b\b\b\b\b\b\b\b\b\b\b\b\b\b\b\b\b\b\b\b\b\b\b\b\b\b\b\b\b\b\b\b\b\b\r9/9 [==============================] - 0s 49ms/step - loss: 0.3042 - accuracy: 0.9949\n",
            "Epoch 43/100\n",
            "8/9 [=========================>....] - ETA: 0s - loss: 0.3039 - accuracy: 0.9961"
          ]
        },
        {
          "output_type": "stream",
          "name": "stderr",
          "text": [
            "WARNING:tensorflow:Can save best model only with val_accuracy available, skipping.\n"
          ]
        },
        {
          "output_type": "stream",
          "name": "stdout",
          "text": [
            "\b\b\b\b\b\b\b\b\b\b\b\b\b\b\b\b\b\b\b\b\b\b\b\b\b\b\b\b\b\b\b\b\b\b\b\b\b\b\b\b\b\b\b\b\b\b\b\b\b\b\b\b\b\b\b\b\b\b\b\b\b\b\b\b\b\b\b\b\b\b\b\b\b\b\b\b\b\b\b\b\r9/9 [==============================] - 0s 48ms/step - loss: 0.3045 - accuracy: 0.9958\n",
            "Epoch 44/100\n",
            "9/9 [==============================] - ETA: 0s - loss: 0.3032 - accuracy: 0.9963"
          ]
        },
        {
          "output_type": "stream",
          "name": "stderr",
          "text": [
            "WARNING:tensorflow:Can save best model only with val_accuracy available, skipping.\n"
          ]
        },
        {
          "output_type": "stream",
          "name": "stdout",
          "text": [
            "\b\b\b\b\b\b\b\b\b\b\b\b\b\b\b\b\b\b\b\b\b\b\b\b\b\b\b\b\b\b\b\b\b\b\b\b\b\b\b\b\b\b\b\b\b\b\b\b\b\b\b\b\b\b\b\b\b\b\b\b\b\b\b\b\b\b\b\b\b\b\b\b\b\b\b\b\b\b\b\b\r9/9 [==============================] - 0s 46ms/step - loss: 0.3032 - accuracy: 0.9963\n",
            "Epoch 45/100\n",
            "9/9 [==============================] - ETA: 0s - loss: 0.3023 - accuracy: 0.9972"
          ]
        },
        {
          "output_type": "stream",
          "name": "stderr",
          "text": [
            "WARNING:tensorflow:Can save best model only with val_accuracy available, skipping.\n"
          ]
        },
        {
          "output_type": "stream",
          "name": "stdout",
          "text": [
            "\b\b\b\b\b\b\b\b\b\b\b\b\b\b\b\b\b\b\b\b\b\b\b\b\b\b\b\b\b\b\b\b\b\b\b\b\b\b\b\b\b\b\b\b\b\b\b\b\b\b\b\b\b\b\b\b\b\b\b\b\b\b\b\b\b\b\b\b\b\b\b\b\b\b\b\b\b\b\b\b\r9/9 [==============================] - 1s 71ms/step - loss: 0.3023 - accuracy: 0.9972\n",
            "Epoch 46/100\n",
            "9/9 [==============================] - ETA: 0s - loss: 0.3029 - accuracy: 0.9963"
          ]
        },
        {
          "output_type": "stream",
          "name": "stderr",
          "text": [
            "WARNING:tensorflow:Can save best model only with val_accuracy available, skipping.\n"
          ]
        },
        {
          "output_type": "stream",
          "name": "stdout",
          "text": [
            "\b\b\b\b\b\b\b\b\b\b\b\b\b\b\b\b\b\b\b\b\b\b\b\b\b\b\b\b\b\b\b\b\b\b\b\b\b\b\b\b\b\b\b\b\b\b\b\b\b\b\b\b\b\b\b\b\b\b\b\b\b\b\b\b\b\b\b\b\b\b\b\b\b\b\b\b\b\b\b\b\r9/9 [==============================] - 1s 72ms/step - loss: 0.3029 - accuracy: 0.9963\n",
            "Epoch 47/100\n",
            "9/9 [==============================] - ETA: 0s - loss: 0.2996 - accuracy: 0.9972"
          ]
        },
        {
          "output_type": "stream",
          "name": "stderr",
          "text": [
            "WARNING:tensorflow:Can save best model only with val_accuracy available, skipping.\n"
          ]
        },
        {
          "output_type": "stream",
          "name": "stdout",
          "text": [
            "\b\b\b\b\b\b\b\b\b\b\b\b\b\b\b\b\b\b\b\b\b\b\b\b\b\b\b\b\b\b\b\b\b\b\b\b\b\b\b\b\b\b\b\b\b\b\b\b\b\b\b\b\b\b\b\b\b\b\b\b\b\b\b\b\b\b\b\b\b\b\b\b\b\b\b\b\b\b\b\b\r9/9 [==============================] - 1s 69ms/step - loss: 0.2996 - accuracy: 0.9972\n",
            "Epoch 48/100\n",
            "9/9 [==============================] - ETA: 0s - loss: 0.3006 - accuracy: 0.9981"
          ]
        },
        {
          "output_type": "stream",
          "name": "stderr",
          "text": [
            "WARNING:tensorflow:Can save best model only with val_accuracy available, skipping.\n"
          ]
        },
        {
          "output_type": "stream",
          "name": "stdout",
          "text": [
            "\b\b\b\b\b\b\b\b\b\b\b\b\b\b\b\b\b\b\b\b\b\b\b\b\b\b\b\b\b\b\b\b\b\b\b\b\b\b\b\b\b\b\b\b\b\b\b\b\b\b\b\b\b\b\b\b\b\b\b\b\b\b\b\b\b\b\b\b\b\b\b\b\b\b\b\b\b\b\b\b\r9/9 [==============================] - 1s 108ms/step - loss: 0.3006 - accuracy: 0.9981\n",
            "Epoch 49/100\n",
            "9/9 [==============================] - ETA: 0s - loss: 0.3020 - accuracy: 0.9977"
          ]
        },
        {
          "output_type": "stream",
          "name": "stderr",
          "text": [
            "WARNING:tensorflow:Can save best model only with val_accuracy available, skipping.\n"
          ]
        },
        {
          "output_type": "stream",
          "name": "stdout",
          "text": [
            "\b\b\b\b\b\b\b\b\b\b\b\b\b\b\b\b\b\b\b\b\b\b\b\b\b\b\b\b\b\b\b\b\b\b\b\b\b\b\b\b\b\b\b\b\b\b\b\b\b\b\b\b\b\b\b\b\b\b\b\b\b\b\b\b\b\b\b\b\b\b\b\b\b\b\b\b\b\b\b\b\r9/9 [==============================] - 1s 150ms/step - loss: 0.3020 - accuracy: 0.9977\n",
            "Epoch 50/100\n",
            "9/9 [==============================] - ETA: 0s - loss: 0.2991 - accuracy: 0.9986"
          ]
        },
        {
          "output_type": "stream",
          "name": "stderr",
          "text": [
            "WARNING:tensorflow:Can save best model only with val_accuracy available, skipping.\n"
          ]
        },
        {
          "output_type": "stream",
          "name": "stdout",
          "text": [
            "\b\b\b\b\b\b\b\b\b\b\b\b\b\b\b\b\b\b\b\b\b\b\b\b\b\b\b\b\b\b\b\b\b\b\b\b\b\b\b\b\b\b\b\b\b\b\b\b\b\b\b\b\b\b\b\b\b\b\b\b\b\b\b\b\b\b\b\b\b\b\b\b\b\b\b\b\b\b\b\b\r9/9 [==============================] - 1s 133ms/step - loss: 0.2991 - accuracy: 0.9986\n",
            "Epoch 51/100\n",
            "9/9 [==============================] - ETA: 0s - loss: 0.2988 - accuracy: 0.9981"
          ]
        },
        {
          "output_type": "stream",
          "name": "stderr",
          "text": [
            "WARNING:tensorflow:Can save best model only with val_accuracy available, skipping.\n"
          ]
        },
        {
          "output_type": "stream",
          "name": "stdout",
          "text": [
            "\b\b\b\b\b\b\b\b\b\b\b\b\b\b\b\b\b\b\b\b\b\b\b\b\b\b\b\b\b\b\b\b\b\b\b\b\b\b\b\b\b\b\b\b\b\b\b\b\b\b\b\b\b\b\b\b\b\b\b\b\b\b\b\b\b\b\b\b\b\b\b\b\b\b\b\b\b\b\b\b\r9/9 [==============================] - 1s 106ms/step - loss: 0.2988 - accuracy: 0.9981\n",
            "Epoch 52/100\n",
            "9/9 [==============================] - ETA: 0s - loss: 0.3005 - accuracy: 0.9967"
          ]
        },
        {
          "output_type": "stream",
          "name": "stderr",
          "text": [
            "WARNING:tensorflow:Can save best model only with val_accuracy available, skipping.\n"
          ]
        },
        {
          "output_type": "stream",
          "name": "stdout",
          "text": [
            "\b\b\b\b\b\b\b\b\b\b\b\b\b\b\b\b\b\b\b\b\b\b\b\b\b\b\b\b\b\b\b\b\b\b\b\b\b\b\b\b\b\b\b\b\b\b\b\b\b\b\b\b\b\b\b\b\b\b\b\b\b\b\b\b\b\b\b\b\b\b\b\b\b\b\b\b\b\b\b\b\r9/9 [==============================] - 1s 112ms/step - loss: 0.3005 - accuracy: 0.9967\n",
            "Epoch 53/100\n",
            "9/9 [==============================] - ETA: 0s - loss: 0.3004 - accuracy: 0.9972"
          ]
        },
        {
          "output_type": "stream",
          "name": "stderr",
          "text": [
            "WARNING:tensorflow:Can save best model only with val_accuracy available, skipping.\n"
          ]
        },
        {
          "output_type": "stream",
          "name": "stdout",
          "text": [
            "\b\b\b\b\b\b\b\b\b\b\b\b\b\b\b\b\b\b\b\b\b\b\b\b\b\b\b\b\b\b\b\b\b\b\b\b\b\b\b\b\b\b\b\b\b\b\b\b\b\b\b\b\b\b\b\b\b\b\b\b\b\b\b\b\b\b\b\b\b\b\b\b\b\b\b\b\b\b\b\b\r9/9 [==============================] - 1s 124ms/step - loss: 0.3004 - accuracy: 0.9972\n",
            "Epoch 54/100\n",
            "9/9 [==============================] - ETA: 0s - loss: 0.3003 - accuracy: 0.9972"
          ]
        },
        {
          "output_type": "stream",
          "name": "stderr",
          "text": [
            "WARNING:tensorflow:Can save best model only with val_accuracy available, skipping.\n"
          ]
        },
        {
          "output_type": "stream",
          "name": "stdout",
          "text": [
            "\b\b\b\b\b\b\b\b\b\b\b\b\b\b\b\b\b\b\b\b\b\b\b\b\b\b\b\b\b\b\b\b\b\b\b\b\b\b\b\b\b\b\b\b\b\b\b\b\b\b\b\b\b\b\b\b\b\b\b\b\b\b\b\b\b\b\b\b\b\b\b\b\b\b\b\b\b\b\b\b\r9/9 [==============================] - 0s 51ms/step - loss: 0.3003 - accuracy: 0.9972\n",
            "Epoch 55/100\n",
            "8/9 [=========================>....] - ETA: 0s - loss: 0.2999 - accuracy: 0.9976"
          ]
        },
        {
          "output_type": "stream",
          "name": "stderr",
          "text": [
            "WARNING:tensorflow:Can save best model only with val_accuracy available, skipping.\n"
          ]
        },
        {
          "output_type": "stream",
          "name": "stdout",
          "text": [
            "\b\b\b\b\b\b\b\b\b\b\b\b\b\b\b\b\b\b\b\b\b\b\b\b\b\b\b\b\b\b\b\b\b\b\b\b\b\b\b\b\b\b\b\b\b\b\b\b\b\b\b\b\b\b\b\b\b\b\b\b\b\b\b\b\b\b\b\b\b\b\b\b\b\b\b\b\b\b\b\b\r9/9 [==============================] - 0s 47ms/step - loss: 0.3005 - accuracy: 0.9972\n",
            "Epoch 56/100\n",
            "9/9 [==============================] - ETA: 0s - loss: 0.3008 - accuracy: 0.9967"
          ]
        },
        {
          "output_type": "stream",
          "name": "stderr",
          "text": [
            "WARNING:tensorflow:Can save best model only with val_accuracy available, skipping.\n"
          ]
        },
        {
          "output_type": "stream",
          "name": "stdout",
          "text": [
            "\b\b\b\b\b\b\b\b\b\b\b\b\b\b\b\b\b\b\b\b\b\b\b\b\b\b\b\b\b\b\b\b\b\b\b\b\b\b\b\b\b\b\b\b\b\b\b\b\b\b\b\b\b\b\b\b\b\b\b\b\b\b\b\b\b\b\b\b\b\b\b\b\b\b\b\b\b\b\b\b\r9/9 [==============================] - 0s 49ms/step - loss: 0.3008 - accuracy: 0.9967\n",
            "Epoch 57/100\n",
            "9/9 [==============================] - ETA: 0s - loss: 0.3068 - accuracy: 0.9939"
          ]
        },
        {
          "output_type": "stream",
          "name": "stderr",
          "text": [
            "WARNING:tensorflow:Can save best model only with val_accuracy available, skipping.\n"
          ]
        },
        {
          "output_type": "stream",
          "name": "stdout",
          "text": [
            "\b\b\b\b\b\b\b\b\b\b\b\b\b\b\b\b\b\b\b\b\b\b\b\b\b\b\b\b\b\b\b\b\b\b\b\b\b\b\b\b\b\b\b\b\b\b\b\b\b\b\b\b\b\b\b\b\b\b\b\b\b\b\b\b\b\b\b\b\b\b\b\b\b\b\b\b\b\b\b\b\r9/9 [==============================] - 0s 54ms/step - loss: 0.3068 - accuracy: 0.9939\n",
            "Epoch 58/100\n",
            "8/9 [=========================>....] - ETA: 0s - loss: 0.2996 - accuracy: 0.9976"
          ]
        },
        {
          "output_type": "stream",
          "name": "stderr",
          "text": [
            "WARNING:tensorflow:Can save best model only with val_accuracy available, skipping.\n"
          ]
        },
        {
          "output_type": "stream",
          "name": "stdout",
          "text": [
            "\b\b\b\b\b\b\b\b\b\b\b\b\b\b\b\b\b\b\b\b\b\b\b\b\b\b\b\b\b\b\b\b\b\b\b\b\b\b\b\b\b\b\b\b\b\b\b\b\b\b\b\b\b\b\b\b\b\b\b\b\b\b\b\b\b\b\b\b\b\b\b\b\b\b\b\b\b\b\b\b\r9/9 [==============================] - 0s 52ms/step - loss: 0.2995 - accuracy: 0.9977\n",
            "Epoch 59/100\n",
            "9/9 [==============================] - ETA: 0s - loss: 0.3034 - accuracy: 0.9958"
          ]
        },
        {
          "output_type": "stream",
          "name": "stderr",
          "text": [
            "WARNING:tensorflow:Can save best model only with val_accuracy available, skipping.\n"
          ]
        },
        {
          "output_type": "stream",
          "name": "stdout",
          "text": [
            "\b\b\b\b\b\b\b\b\b\b\b\b\b\b\b\b\b\b\b\b\b\b\b\b\b\b\b\b\b\b\b\b\b\b\b\b\b\b\b\b\b\b\b\b\b\b\b\b\b\b\b\b\b\b\b\b\b\b\b\b\b\b\b\b\b\b\b\b\b\b\b\b\b\b\b\b\b\b\b\b\r9/9 [==============================] - 0s 46ms/step - loss: 0.3034 - accuracy: 0.9958\n",
            "Epoch 60/100\n",
            "8/9 [=========================>....] - ETA: 0s - loss: 0.2992 - accuracy: 0.9980"
          ]
        },
        {
          "output_type": "stream",
          "name": "stderr",
          "text": [
            "WARNING:tensorflow:Can save best model only with val_accuracy available, skipping.\n"
          ]
        },
        {
          "output_type": "stream",
          "name": "stdout",
          "text": [
            "\b\b\b\b\b\b\b\b\b\b\b\b\b\b\b\b\b\b\b\b\b\b\b\b\b\b\b\b\b\b\b\b\b\b\b\b\b\b\b\b\b\b\b\b\b\b\b\b\b\b\b\b\b\b\b\b\b\b\b\b\b\b\b\b\b\b\b\b\b\b\b\b\b\b\b\b\b\b\b\b\r9/9 [==============================] - 0s 50ms/step - loss: 0.2990 - accuracy: 0.9981\n",
            "Epoch 61/100\n",
            "9/9 [==============================] - ETA: 0s - loss: 0.2976 - accuracy: 0.9991"
          ]
        },
        {
          "output_type": "stream",
          "name": "stderr",
          "text": [
            "WARNING:tensorflow:Can save best model only with val_accuracy available, skipping.\n"
          ]
        },
        {
          "output_type": "stream",
          "name": "stdout",
          "text": [
            "\b\b\b\b\b\b\b\b\b\b\b\b\b\b\b\b\b\b\b\b\b\b\b\b\b\b\b\b\b\b\b\b\b\b\b\b\b\b\b\b\b\b\b\b\b\b\b\b\b\b\b\b\b\b\b\b\b\b\b\b\b\b\b\b\b\b\b\b\b\b\b\b\b\b\b\b\b\b\b\b\r9/9 [==============================] - 0s 47ms/step - loss: 0.2976 - accuracy: 0.9991\n",
            "Epoch 62/100\n",
            "8/9 [=========================>....] - ETA: 0s - loss: 0.2964 - accuracy: 0.9990"
          ]
        },
        {
          "output_type": "stream",
          "name": "stderr",
          "text": [
            "WARNING:tensorflow:Can save best model only with val_accuracy available, skipping.\n"
          ]
        },
        {
          "output_type": "stream",
          "name": "stdout",
          "text": [
            "\b\b\b\b\b\b\b\b\b\b\b\b\b\b\b\b\b\b\b\b\b\b\b\b\b\b\b\b\b\b\b\b\b\b\b\b\b\b\b\b\b\b\b\b\b\b\b\b\b\b\b\b\b\b\b\b\b\b\b\b\b\b\b\b\b\b\b\b\b\b\b\b\b\b\b\b\b\b\b\b\r9/9 [==============================] - 0s 49ms/step - loss: 0.2962 - accuracy: 0.9991\n",
            "Epoch 63/100\n",
            "8/9 [=========================>....] - ETA: 0s - loss: 0.2966 - accuracy: 0.9990"
          ]
        },
        {
          "output_type": "stream",
          "name": "stderr",
          "text": [
            "WARNING:tensorflow:Can save best model only with val_accuracy available, skipping.\n"
          ]
        },
        {
          "output_type": "stream",
          "name": "stdout",
          "text": [
            "\b\b\b\b\b\b\b\b\b\b\b\b\b\b\b\b\b\b\b\b\b\b\b\b\b\b\b\b\b\b\b\b\b\b\b\b\b\b\b\b\b\b\b\b\b\b\b\b\b\b\b\b\b\b\b\b\b\b\b\b\b\b\b\b\b\b\b\b\b\b\b\b\b\b\b\b\b\b\b\b\r9/9 [==============================] - 0s 49ms/step - loss: 0.2965 - accuracy: 0.9991\n",
            "Epoch 64/100\n",
            "9/9 [==============================] - ETA: 0s - loss: 0.2988 - accuracy: 0.9972"
          ]
        },
        {
          "output_type": "stream",
          "name": "stderr",
          "text": [
            "WARNING:tensorflow:Can save best model only with val_accuracy available, skipping.\n"
          ]
        },
        {
          "output_type": "stream",
          "name": "stdout",
          "text": [
            "\b\b\b\b\b\b\b\b\b\b\b\b\b\b\b\b\b\b\b\b\b\b\b\b\b\b\b\b\b\b\b\b\b\b\b\b\b\b\b\b\b\b\b\b\b\b\b\b\b\b\b\b\b\b\b\b\b\b\b\b\b\b\b\b\b\b\b\b\b\b\b\b\b\b\b\b\b\b\b\b\r9/9 [==============================] - 0s 47ms/step - loss: 0.2988 - accuracy: 0.9972\n",
            "Epoch 65/100\n",
            "9/9 [==============================] - ETA: 0s - loss: 0.2976 - accuracy: 0.9981"
          ]
        },
        {
          "output_type": "stream",
          "name": "stderr",
          "text": [
            "WARNING:tensorflow:Can save best model only with val_accuracy available, skipping.\n"
          ]
        },
        {
          "output_type": "stream",
          "name": "stdout",
          "text": [
            "\b\b\b\b\b\b\b\b\b\b\b\b\b\b\b\b\b\b\b\b\b\b\b\b\b\b\b\b\b\b\b\b\b\b\b\b\b\b\b\b\b\b\b\b\b\b\b\b\b\b\b\b\b\b\b\b\b\b\b\b\b\b\b\b\b\b\b\b\b\b\b\b\b\b\b\b\b\b\b\b\r9/9 [==============================] - 1s 72ms/step - loss: 0.2976 - accuracy: 0.9981\n",
            "Epoch 66/100\n",
            "9/9 [==============================] - ETA: 0s - loss: 0.2980 - accuracy: 0.9986"
          ]
        },
        {
          "output_type": "stream",
          "name": "stderr",
          "text": [
            "WARNING:tensorflow:Can save best model only with val_accuracy available, skipping.\n"
          ]
        },
        {
          "output_type": "stream",
          "name": "stdout",
          "text": [
            "\b\b\b\b\b\b\b\b\b\b\b\b\b\b\b\b\b\b\b\b\b\b\b\b\b\b\b\b\b\b\b\b\b\b\b\b\b\b\b\b\b\b\b\b\b\b\b\b\b\b\b\b\b\b\b\b\b\b\b\b\b\b\b\b\b\b\b\b\b\b\b\b\b\b\b\b\b\b\b\b\r9/9 [==============================] - 1s 70ms/step - loss: 0.2980 - accuracy: 0.9986\n",
            "Epoch 67/100\n",
            "9/9 [==============================] - ETA: 0s - loss: 0.2965 - accuracy: 0.9986"
          ]
        },
        {
          "output_type": "stream",
          "name": "stderr",
          "text": [
            "WARNING:tensorflow:Can save best model only with val_accuracy available, skipping.\n"
          ]
        },
        {
          "output_type": "stream",
          "name": "stdout",
          "text": [
            "\b\b\b\b\b\b\b\b\b\b\b\b\b\b\b\b\b\b\b\b\b\b\b\b\b\b\b\b\b\b\b\b\b\b\b\b\b\b\b\b\b\b\b\b\b\b\b\b\b\b\b\b\b\b\b\b\b\b\b\b\b\b\b\b\b\b\b\b\b\b\b\b\b\b\b\b\b\b\b\b\r9/9 [==============================] - 1s 69ms/step - loss: 0.2965 - accuracy: 0.9986\n",
            "Epoch 68/100\n",
            "9/9 [==============================] - ETA: 0s - loss: 0.2962 - accuracy: 0.9991"
          ]
        },
        {
          "output_type": "stream",
          "name": "stderr",
          "text": [
            "WARNING:tensorflow:Can save best model only with val_accuracy available, skipping.\n"
          ]
        },
        {
          "output_type": "stream",
          "name": "stdout",
          "text": [
            "\b\b\b\b\b\b\b\b\b\b\b\b\b\b\b\b\b\b\b\b\b\b\b\b\b\b\b\b\b\b\b\b\b\b\b\b\b\b\b\b\b\b\b\b\b\b\b\b\b\b\b\b\b\b\b\b\b\b\b\b\b\b\b\b\b\b\b\b\b\b\b\b\b\b\b\b\b\b\b\b\r9/9 [==============================] - 1s 74ms/step - loss: 0.2962 - accuracy: 0.9991\n",
            "Epoch 69/100\n",
            "9/9 [==============================] - ETA: 0s - loss: 0.2980 - accuracy: 0.9981"
          ]
        },
        {
          "output_type": "stream",
          "name": "stderr",
          "text": [
            "WARNING:tensorflow:Can save best model only with val_accuracy available, skipping.\n"
          ]
        },
        {
          "output_type": "stream",
          "name": "stdout",
          "text": [
            "\b\b\b\b\b\b\b\b\b\b\b\b\b\b\b\b\b\b\b\b\b\b\b\b\b\b\b\b\b\b\b\b\b\b\b\b\b\b\b\b\b\b\b\b\b\b\b\b\b\b\b\b\b\b\b\b\b\b\b\b\b\b\b\b\b\b\b\b\b\b\b\b\b\b\b\b\b\b\b\b\r9/9 [==============================] - 1s 81ms/step - loss: 0.2980 - accuracy: 0.9981\n",
            "Epoch 70/100\n",
            "8/9 [=========================>....] - ETA: 0s - loss: 0.2966 - accuracy: 0.9985"
          ]
        },
        {
          "output_type": "stream",
          "name": "stderr",
          "text": [
            "WARNING:tensorflow:Can save best model only with val_accuracy available, skipping.\n"
          ]
        },
        {
          "output_type": "stream",
          "name": "stdout",
          "text": [
            "\b\b\b\b\b\b\b\b\b\b\b\b\b\b\b\b\b\b\b\b\b\b\b\b\b\b\b\b\b\b\b\b\b\b\b\b\b\b\b\b\b\b\b\b\b\b\b\b\b\b\b\b\b\b\b\b\b\b\b\b\b\b\b\b\b\b\b\b\b\b\b\b\b\b\b\b\b\b\b\b\r9/9 [==============================] - 1s 55ms/step - loss: 0.2968 - accuracy: 0.9986\n",
            "Epoch 71/100\n",
            "8/9 [=========================>....] - ETA: 0s - loss: 0.2958 - accuracy: 0.9995"
          ]
        },
        {
          "output_type": "stream",
          "name": "stderr",
          "text": [
            "WARNING:tensorflow:Can save best model only with val_accuracy available, skipping.\n"
          ]
        },
        {
          "output_type": "stream",
          "name": "stdout",
          "text": [
            "\b\b\b\b\b\b\b\b\b\b\b\b\b\b\b\b\b\b\b\b\b\b\b\b\b\b\b\b\b\b\b\b\b\b\b\b\b\b\b\b\b\b\b\b\b\b\b\b\b\b\b\b\b\b\b\b\b\b\b\b\b\b\b\b\b\b\b\b\b\b\b\b\b\b\b\b\b\b\b\b\r9/9 [==============================] - 0s 50ms/step - loss: 0.2959 - accuracy: 0.9995\n",
            "Epoch 72/100\n",
            "8/9 [=========================>....] - ETA: 0s - loss: 0.2958 - accuracy: 0.9995"
          ]
        },
        {
          "output_type": "stream",
          "name": "stderr",
          "text": [
            "WARNING:tensorflow:Can save best model only with val_accuracy available, skipping.\n"
          ]
        },
        {
          "output_type": "stream",
          "name": "stdout",
          "text": [
            "\b\b\b\b\b\b\b\b\b\b\b\b\b\b\b\b\b\b\b\b\b\b\b\b\b\b\b\b\b\b\b\b\b\b\b\b\b\b\b\b\b\b\b\b\b\b\b\b\b\b\b\b\b\b\b\b\b\b\b\b\b\b\b\b\b\b\b\b\b\b\b\b\b\b\b\b\b\b\b\b\r9/9 [==============================] - 0s 52ms/step - loss: 0.2958 - accuracy: 0.9995\n",
            "Epoch 73/100\n",
            "8/9 [=========================>....] - ETA: 0s - loss: 0.2960 - accuracy: 0.9995"
          ]
        },
        {
          "output_type": "stream",
          "name": "stderr",
          "text": [
            "WARNING:tensorflow:Can save best model only with val_accuracy available, skipping.\n"
          ]
        },
        {
          "output_type": "stream",
          "name": "stdout",
          "text": [
            "\b\b\b\b\b\b\b\b\b\b\b\b\b\b\b\b\b\b\b\b\b\b\b\b\b\b\b\b\b\b\b\b\b\b\b\b\b\b\b\b\b\b\b\b\b\b\b\b\b\b\b\b\b\b\b\b\b\b\b\b\b\b\b\b\b\b\b\b\b\b\b\b\b\b\b\b\b\b\b\b\r9/9 [==============================] - 0s 52ms/step - loss: 0.2961 - accuracy: 0.9995\n",
            "Epoch 74/100\n",
            "8/9 [=========================>....] - ETA: 0s - loss: 0.2972 - accuracy: 0.9980"
          ]
        },
        {
          "output_type": "stream",
          "name": "stderr",
          "text": [
            "WARNING:tensorflow:Can save best model only with val_accuracy available, skipping.\n"
          ]
        },
        {
          "output_type": "stream",
          "name": "stdout",
          "text": [
            "\b\b\b\b\b\b\b\b\b\b\b\b\b\b\b\b\b\b\b\b\b\b\b\b\b\b\b\b\b\b\b\b\b\b\b\b\b\b\b\b\b\b\b\b\b\b\b\b\b\b\b\b\b\b\b\b\b\b\b\b\b\b\b\b\b\b\b\b\b\b\b\b\b\b\b\b\b\b\b\b\r9/9 [==============================] - 0s 54ms/step - loss: 0.2975 - accuracy: 0.9981\n",
            "Epoch 75/100\n",
            "8/9 [=========================>....] - ETA: 0s - loss: 0.2960 - accuracy: 0.9990"
          ]
        },
        {
          "output_type": "stream",
          "name": "stderr",
          "text": [
            "WARNING:tensorflow:Can save best model only with val_accuracy available, skipping.\n"
          ]
        },
        {
          "output_type": "stream",
          "name": "stdout",
          "text": [
            "\b\b\b\b\b\b\b\b\b\b\b\b\b\b\b\b\b\b\b\b\b\b\b\b\b\b\b\b\b\b\b\b\b\b\b\b\b\b\b\b\b\b\b\b\b\b\b\b\b\b\b\b\b\b\b\b\b\b\b\b\b\b\b\b\b\b\b\b\b\b\b\b\b\b\b\b\b\b\b\b\r9/9 [==============================] - 0s 50ms/step - loss: 0.2960 - accuracy: 0.9991\n",
            "Epoch 76/100\n",
            "8/9 [=========================>....] - ETA: 0s - loss: 0.2975 - accuracy: 0.9980"
          ]
        },
        {
          "output_type": "stream",
          "name": "stderr",
          "text": [
            "WARNING:tensorflow:Can save best model only with val_accuracy available, skipping.\n"
          ]
        },
        {
          "output_type": "stream",
          "name": "stdout",
          "text": [
            "\b\b\b\b\b\b\b\b\b\b\b\b\b\b\b\b\b\b\b\b\b\b\b\b\b\b\b\b\b\b\b\b\b\b\b\b\b\b\b\b\b\b\b\b\b\b\b\b\b\b\b\b\b\b\b\b\b\b\b\b\b\b\b\b\b\b\b\b\b\b\b\b\b\b\b\b\b\b\b\b\r9/9 [==============================] - 0s 51ms/step - loss: 0.2974 - accuracy: 0.9981\n",
            "Epoch 77/100\n",
            "9/9 [==============================] - ETA: 0s - loss: 0.2967 - accuracy: 0.9981"
          ]
        },
        {
          "output_type": "stream",
          "name": "stderr",
          "text": [
            "WARNING:tensorflow:Can save best model only with val_accuracy available, skipping.\n"
          ]
        },
        {
          "output_type": "stream",
          "name": "stdout",
          "text": [
            "\b\b\b\b\b\b\b\b\b\b\b\b\b\b\b\b\b\b\b\b\b\b\b\b\b\b\b\b\b\b\b\b\b\b\b\b\b\b\b\b\b\b\b\b\b\b\b\b\b\b\b\b\b\b\b\b\b\b\b\b\b\b\b\b\b\b\b\b\b\b\b\b\b\b\b\b\b\b\b\b\r9/9 [==============================] - 0s 51ms/step - loss: 0.2967 - accuracy: 0.9981\n",
            "Epoch 78/100\n",
            "9/9 [==============================] - ETA: 0s - loss: 0.3018 - accuracy: 0.9963"
          ]
        },
        {
          "output_type": "stream",
          "name": "stderr",
          "text": [
            "WARNING:tensorflow:Can save best model only with val_accuracy available, skipping.\n"
          ]
        },
        {
          "output_type": "stream",
          "name": "stdout",
          "text": [
            "\b\b\b\b\b\b\b\b\b\b\b\b\b\b\b\b\b\b\b\b\b\b\b\b\b\b\b\b\b\b\b\b\b\b\b\b\b\b\b\b\b\b\b\b\b\b\b\b\b\b\b\b\b\b\b\b\b\b\b\b\b\b\b\b\b\b\b\b\b\b\b\b\b\b\b\b\b\b\b\b\r9/9 [==============================] - 0s 52ms/step - loss: 0.3018 - accuracy: 0.9963\n",
            "Epoch 79/100\n",
            "8/9 [=========================>....] - ETA: 0s - loss: 0.3003 - accuracy: 0.9976"
          ]
        },
        {
          "output_type": "stream",
          "name": "stderr",
          "text": [
            "WARNING:tensorflow:Can save best model only with val_accuracy available, skipping.\n"
          ]
        },
        {
          "output_type": "stream",
          "name": "stdout",
          "text": [
            "\b\b\b\b\b\b\b\b\b\b\b\b\b\b\b\b\b\b\b\b\b\b\b\b\b\b\b\b\b\b\b\b\b\b\b\b\b\b\b\b\b\b\b\b\b\b\b\b\b\b\b\b\b\b\b\b\b\b\b\b\b\b\b\b\b\b\b\b\b\b\b\b\b\b\b\b\b\b\b\b\r9/9 [==============================] - 0s 48ms/step - loss: 0.3001 - accuracy: 0.9977\n",
            "Epoch 80/100\n",
            "9/9 [==============================] - ETA: 0s - loss: 0.2963 - accuracy: 0.9995"
          ]
        },
        {
          "output_type": "stream",
          "name": "stderr",
          "text": [
            "WARNING:tensorflow:Can save best model only with val_accuracy available, skipping.\n"
          ]
        },
        {
          "output_type": "stream",
          "name": "stdout",
          "text": [
            "\b\b\b\b\b\b\b\b\b\b\b\b\b\b\b\b\b\b\b\b\b\b\b\b\b\b\b\b\b\b\b\b\b\b\b\b\b\b\b\b\b\b\b\b\b\b\b\b\b\b\b\b\b\b\b\b\b\b\b\b\b\b\b\b\b\b\b\b\b\b\b\b\b\b\b\b\b\b\b\b\r9/9 [==============================] - 0s 47ms/step - loss: 0.2963 - accuracy: 0.9995\n",
            "Epoch 81/100\n",
            "9/9 [==============================] - ETA: 0s - loss: 0.2976 - accuracy: 0.9972"
          ]
        },
        {
          "output_type": "stream",
          "name": "stderr",
          "text": [
            "WARNING:tensorflow:Can save best model only with val_accuracy available, skipping.\n"
          ]
        },
        {
          "output_type": "stream",
          "name": "stdout",
          "text": [
            "\b\b\b\b\b\b\b\b\b\b\b\b\b\b\b\b\b\b\b\b\b\b\b\b\b\b\b\b\b\b\b\b\b\b\b\b\b\b\b\b\b\b\b\b\b\b\b\b\b\b\b\b\b\b\b\b\b\b\b\b\b\b\b\b\b\b\b\b\b\b\b\b\b\b\b\b\b\b\b\b\r9/9 [==============================] - 0s 47ms/step - loss: 0.2976 - accuracy: 0.9972\n",
            "Epoch 82/100\n",
            "9/9 [==============================] - ETA: 0s - loss: 0.2985 - accuracy: 0.9977"
          ]
        },
        {
          "output_type": "stream",
          "name": "stderr",
          "text": [
            "WARNING:tensorflow:Can save best model only with val_accuracy available, skipping.\n"
          ]
        },
        {
          "output_type": "stream",
          "name": "stdout",
          "text": [
            "\b\b\b\b\b\b\b\b\b\b\b\b\b\b\b\b\b\b\b\b\b\b\b\b\b\b\b\b\b\b\b\b\b\b\b\b\b\b\b\b\b\b\b\b\b\b\b\b\b\b\b\b\b\b\b\b\b\b\b\b\b\b\b\b\b\b\b\b\b\b\b\b\b\b\b\b\b\b\b\b\r9/9 [==============================] - 0s 49ms/step - loss: 0.2985 - accuracy: 0.9977\n",
            "Epoch 83/100\n",
            "9/9 [==============================] - ETA: 0s - loss: 0.2976 - accuracy: 0.9991"
          ]
        },
        {
          "output_type": "stream",
          "name": "stderr",
          "text": [
            "WARNING:tensorflow:Can save best model only with val_accuracy available, skipping.\n"
          ]
        },
        {
          "output_type": "stream",
          "name": "stdout",
          "text": [
            "\b\b\b\b\b\b\b\b\b\b\b\b\b\b\b\b\b\b\b\b\b\b\b\b\b\b\b\b\b\b\b\b\b\b\b\b\b\b\b\b\b\b\b\b\b\b\b\b\b\b\b\b\b\b\b\b\b\b\b\b\b\b\b\b\b\b\b\b\b\b\b\b\b\b\b\b\b\b\b\b\r9/9 [==============================] - 0s 54ms/step - loss: 0.2976 - accuracy: 0.9991\n",
            "Epoch 84/100\n",
            "8/9 [=========================>....] - ETA: 0s - loss: 0.2959 - accuracy: 0.9995"
          ]
        },
        {
          "output_type": "stream",
          "name": "stderr",
          "text": [
            "WARNING:tensorflow:Can save best model only with val_accuracy available, skipping.\n"
          ]
        },
        {
          "output_type": "stream",
          "name": "stdout",
          "text": [
            "\b\b\b\b\b\b\b\b\b\b\b\b\b\b\b\b\b\b\b\b\b\b\b\b\b\b\b\b\b\b\b\b\b\b\b\b\b\b\b\b\b\b\b\b\b\b\b\b\b\b\b\b\b\b\b\b\b\b\b\b\b\b\b\b\b\b\b\b\b\b\b\b\b\b\b\b\b\b\b\b\r9/9 [==============================] - 0s 49ms/step - loss: 0.2958 - accuracy: 0.9995\n",
            "Epoch 85/100\n",
            "9/9 [==============================] - ETA: 0s - loss: 0.2969 - accuracy: 0.9977"
          ]
        },
        {
          "output_type": "stream",
          "name": "stderr",
          "text": [
            "WARNING:tensorflow:Can save best model only with val_accuracy available, skipping.\n"
          ]
        },
        {
          "output_type": "stream",
          "name": "stdout",
          "text": [
            "\b\b\b\b\b\b\b\b\b\b\b\b\b\b\b\b\b\b\b\b\b\b\b\b\b\b\b\b\b\b\b\b\b\b\b\b\b\b\b\b\b\b\b\b\b\b\b\b\b\b\b\b\b\b\b\b\b\b\b\b\b\b\b\b\b\b\b\b\b\b\b\b\b\b\b\b\b\b\b\b\r9/9 [==============================] - 0s 50ms/step - loss: 0.2969 - accuracy: 0.9977\n",
            "Epoch 86/100\n",
            "8/9 [=========================>....] - ETA: 0s - loss: 0.2945 - accuracy: 0.9995"
          ]
        },
        {
          "output_type": "stream",
          "name": "stderr",
          "text": [
            "WARNING:tensorflow:Can save best model only with val_accuracy available, skipping.\n"
          ]
        },
        {
          "output_type": "stream",
          "name": "stdout",
          "text": [
            "\b\b\b\b\b\b\b\b\b\b\b\b\b\b\b\b\b\b\b\b\b\b\b\b\b\b\b\b\b\b\b\b\b\b\b\b\b\b\b\b\b\b\b\b\b\b\b\b\b\b\b\b\b\b\b\b\b\b\b\b\b\b\b\b\b\b\b\b\b\b\b\b\b\b\b\b\b\b\b\b\r9/9 [==============================] - 0s 52ms/step - loss: 0.2945 - accuracy: 0.9995\n",
            "Epoch 87/100\n",
            "8/9 [=========================>....] - ETA: 0s - loss: 0.2964 - accuracy: 0.9980"
          ]
        },
        {
          "output_type": "stream",
          "name": "stderr",
          "text": [
            "WARNING:tensorflow:Can save best model only with val_accuracy available, skipping.\n"
          ]
        },
        {
          "output_type": "stream",
          "name": "stdout",
          "text": [
            "\b\b\b\b\b\b\b\b\b\b\b\b\b\b\b\b\b\b\b\b\b\b\b\b\b\b\b\b\b\b\b\b\b\b\b\b\b\b\b\b\b\b\b\b\b\b\b\b\b\b\b\b\b\b\b\b\b\b\b\b\b\b\b\b\b\b\b\b\b\b\b\b\b\b\b\b\b\b\b\b\r9/9 [==============================] - 0s 48ms/step - loss: 0.2964 - accuracy: 0.9981\n",
            "Epoch 88/100\n",
            "9/9 [==============================] - ETA: 0s - loss: 0.2962 - accuracy: 0.9981"
          ]
        },
        {
          "output_type": "stream",
          "name": "stderr",
          "text": [
            "WARNING:tensorflow:Can save best model only with val_accuracy available, skipping.\n"
          ]
        },
        {
          "output_type": "stream",
          "name": "stdout",
          "text": [
            "\b\b\b\b\b\b\b\b\b\b\b\b\b\b\b\b\b\b\b\b\b\b\b\b\b\b\b\b\b\b\b\b\b\b\b\b\b\b\b\b\b\b\b\b\b\b\b\b\b\b\b\b\b\b\b\b\b\b\b\b\b\b\b\b\b\b\b\b\b\b\b\b\b\b\b\b\b\b\b\b\r9/9 [==============================] - 0s 48ms/step - loss: 0.2962 - accuracy: 0.9981\n",
            "Epoch 89/100\n",
            "9/9 [==============================] - ETA: 0s - loss: 0.2947 - accuracy: 0.9995"
          ]
        },
        {
          "output_type": "stream",
          "name": "stderr",
          "text": [
            "WARNING:tensorflow:Can save best model only with val_accuracy available, skipping.\n"
          ]
        },
        {
          "output_type": "stream",
          "name": "stdout",
          "text": [
            "\b\b\b\b\b\b\b\b\b\b\b\b\b\b\b\b\b\b\b\b\b\b\b\b\b\b\b\b\b\b\b\b\b\b\b\b\b\b\b\b\b\b\b\b\b\b\b\b\b\b\b\b\b\b\b\b\b\b\b\b\b\b\b\b\b\b\b\b\b\b\b\b\b\b\b\b\b\b\b\b\r9/9 [==============================] - 0s 47ms/step - loss: 0.2947 - accuracy: 0.9995\n",
            "Epoch 90/100\n",
            "8/9 [=========================>....] - ETA: 0s - loss: 0.2943 - accuracy: 0.9990"
          ]
        },
        {
          "output_type": "stream",
          "name": "stderr",
          "text": [
            "WARNING:tensorflow:Can save best model only with val_accuracy available, skipping.\n"
          ]
        },
        {
          "output_type": "stream",
          "name": "stdout",
          "text": [
            "\b\b\b\b\b\b\b\b\b\b\b\b\b\b\b\b\b\b\b\b\b\b\b\b\b\b\b\b\b\b\b\b\b\b\b\b\b\b\b\b\b\b\b\b\b\b\b\b\b\b\b\b\b\b\b\b\b\b\b\b\b\b\b\b\b\b\b\b\b\b\b\b\b\b\b\b\b\b\b\b\r9/9 [==============================] - 0s 54ms/step - loss: 0.2943 - accuracy: 0.9991\n",
            "Epoch 91/100\n",
            "9/9 [==============================] - ETA: 0s - loss: 0.2952 - accuracy: 0.9986"
          ]
        },
        {
          "output_type": "stream",
          "name": "stderr",
          "text": [
            "WARNING:tensorflow:Can save best model only with val_accuracy available, skipping.\n"
          ]
        },
        {
          "output_type": "stream",
          "name": "stdout",
          "text": [
            "\b\b\b\b\b\b\b\b\b\b\b\b\b\b\b\b\b\b\b\b\b\b\b\b\b\b\b\b\b\b\b\b\b\b\b\b\b\b\b\b\b\b\b\b\b\b\b\b\b\b\b\b\b\b\b\b\b\b\b\b\b\b\b\b\b\b\b\b\b\b\b\b\b\b\b\b\b\b\b\b\r9/9 [==============================] - 1s 58ms/step - loss: 0.2952 - accuracy: 0.9986\n",
            "Epoch 92/100\n",
            "9/9 [==============================] - ETA: 0s - loss: 0.2955 - accuracy: 0.9991"
          ]
        },
        {
          "output_type": "stream",
          "name": "stderr",
          "text": [
            "WARNING:tensorflow:Can save best model only with val_accuracy available, skipping.\n"
          ]
        },
        {
          "output_type": "stream",
          "name": "stdout",
          "text": [
            "\b\b\b\b\b\b\b\b\b\b\b\b\b\b\b\b\b\b\b\b\b\b\b\b\b\b\b\b\b\b\b\b\b\b\b\b\b\b\b\b\b\b\b\b\b\b\b\b\b\b\b\b\b\b\b\b\b\b\b\b\b\b\b\b\b\b\b\b\b\b\b\b\b\b\b\b\b\b\b\b\r9/9 [==============================] - 1s 73ms/step - loss: 0.2955 - accuracy: 0.9991\n",
            "Epoch 93/100\n",
            "9/9 [==============================] - ETA: 0s - loss: 0.2952 - accuracy: 0.9991"
          ]
        },
        {
          "output_type": "stream",
          "name": "stderr",
          "text": [
            "WARNING:tensorflow:Can save best model only with val_accuracy available, skipping.\n"
          ]
        },
        {
          "output_type": "stream",
          "name": "stdout",
          "text": [
            "\b\b\b\b\b\b\b\b\b\b\b\b\b\b\b\b\b\b\b\b\b\b\b\b\b\b\b\b\b\b\b\b\b\b\b\b\b\b\b\b\b\b\b\b\b\b\b\b\b\b\b\b\b\b\b\b\b\b\b\b\b\b\b\b\b\b\b\b\b\b\b\b\b\b\b\b\b\b\b\b\r9/9 [==============================] - 1s 75ms/step - loss: 0.2952 - accuracy: 0.9991\n",
            "Epoch 94/100\n",
            "9/9 [==============================] - ETA: 0s - loss: 0.2950 - accuracy: 0.9995"
          ]
        },
        {
          "output_type": "stream",
          "name": "stderr",
          "text": [
            "WARNING:tensorflow:Can save best model only with val_accuracy available, skipping.\n"
          ]
        },
        {
          "output_type": "stream",
          "name": "stdout",
          "text": [
            "\b\b\b\b\b\b\b\b\b\b\b\b\b\b\b\b\b\b\b\b\b\b\b\b\b\b\b\b\b\b\b\b\b\b\b\b\b\b\b\b\b\b\b\b\b\b\b\b\b\b\b\b\b\b\b\b\b\b\b\b\b\b\b\b\b\b\b\b\b\b\b\b\b\b\b\b\b\b\b\b\r9/9 [==============================] - 1s 75ms/step - loss: 0.2950 - accuracy: 0.9995\n",
            "Epoch 95/100\n",
            "9/9 [==============================] - ETA: 0s - loss: 0.2948 - accuracy: 0.9995"
          ]
        },
        {
          "output_type": "stream",
          "name": "stderr",
          "text": [
            "WARNING:tensorflow:Can save best model only with val_accuracy available, skipping.\n"
          ]
        },
        {
          "output_type": "stream",
          "name": "stdout",
          "text": [
            "\b\b\b\b\b\b\b\b\b\b\b\b\b\b\b\b\b\b\b\b\b\b\b\b\b\b\b\b\b\b\b\b\b\b\b\b\b\b\b\b\b\b\b\b\b\b\b\b\b\b\b\b\b\b\b\b\b\b\b\b\b\b\b\b\b\b\b\b\b\b\b\b\b\b\b\b\b\b\b\b\r9/9 [==============================] - 1s 81ms/step - loss: 0.2948 - accuracy: 0.9995\n",
            "Epoch 96/100\n",
            "8/9 [=========================>....] - ETA: 0s - loss: 0.2949 - accuracy: 0.9995"
          ]
        },
        {
          "output_type": "stream",
          "name": "stderr",
          "text": [
            "WARNING:tensorflow:Can save best model only with val_accuracy available, skipping.\n"
          ]
        },
        {
          "output_type": "stream",
          "name": "stdout",
          "text": [
            "\b\b\b\b\b\b\b\b\b\b\b\b\b\b\b\b\b\b\b\b\b\b\b\b\b\b\b\b\b\b\b\b\b\b\b\b\b\b\b\b\b\b\b\b\b\b\b\b\b\b\b\b\b\b\b\b\b\b\b\b\b\b\b\b\b\b\b\b\b\b\b\b\b\b\b\b\b\b\b\b\r9/9 [==============================] - 1s 63ms/step - loss: 0.2949 - accuracy: 0.9995\n",
            "Epoch 97/100\n",
            "8/9 [=========================>....] - ETA: 0s - loss: 0.2936 - accuracy: 1.0000"
          ]
        },
        {
          "output_type": "stream",
          "name": "stderr",
          "text": [
            "WARNING:tensorflow:Can save best model only with val_accuracy available, skipping.\n"
          ]
        },
        {
          "output_type": "stream",
          "name": "stdout",
          "text": [
            "\b\b\b\b\b\b\b\b\b\b\b\b\b\b\b\b\b\b\b\b\b\b\b\b\b\b\b\b\b\b\b\b\b\b\b\b\b\b\b\b\b\b\b\b\b\b\b\b\b\b\b\b\b\b\b\b\b\b\b\b\b\b\b\b\b\b\b\b\b\b\b\b\b\b\b\b\b\b\b\b\r9/9 [==============================] - 0s 49ms/step - loss: 0.2936 - accuracy: 1.0000\n",
            "Epoch 98/100\n",
            "9/9 [==============================] - ETA: 0s - loss: 0.2936 - accuracy: 1.0000"
          ]
        },
        {
          "output_type": "stream",
          "name": "stderr",
          "text": [
            "WARNING:tensorflow:Can save best model only with val_accuracy available, skipping.\n"
          ]
        },
        {
          "output_type": "stream",
          "name": "stdout",
          "text": [
            "\b\b\b\b\b\b\b\b\b\b\b\b\b\b\b\b\b\b\b\b\b\b\b\b\b\b\b\b\b\b\b\b\b\b\b\b\b\b\b\b\b\b\b\b\b\b\b\b\b\b\b\b\b\b\b\b\b\b\b\b\b\b\b\b\b\b\b\b\b\b\b\b\b\b\b\b\b\b\b\b\r9/9 [==============================] - 0s 49ms/step - loss: 0.2936 - accuracy: 1.0000\n",
            "Epoch 99/100\n",
            "9/9 [==============================] - ETA: 0s - loss: 0.2940 - accuracy: 0.9995"
          ]
        },
        {
          "output_type": "stream",
          "name": "stderr",
          "text": [
            "WARNING:tensorflow:Can save best model only with val_accuracy available, skipping.\n"
          ]
        },
        {
          "output_type": "stream",
          "name": "stdout",
          "text": [
            "\b\b\b\b\b\b\b\b\b\b\b\b\b\b\b\b\b\b\b\b\b\b\b\b\b\b\b\b\b\b\b\b\b\b\b\b\b\b\b\b\b\b\b\b\b\b\b\b\b\b\b\b\b\b\b\b\b\b\b\b\b\b\b\b\b\b\b\b\b\b\b\b\b\b\b\b\b\b\b\b\r9/9 [==============================] - 0s 50ms/step - loss: 0.2940 - accuracy: 0.9995\n",
            "Epoch 100/100\n",
            "8/9 [=========================>....] - ETA: 0s - loss: 0.2958 - accuracy: 0.9985"
          ]
        },
        {
          "output_type": "stream",
          "name": "stderr",
          "text": [
            "WARNING:tensorflow:Can save best model only with val_accuracy available, skipping.\n"
          ]
        },
        {
          "output_type": "stream",
          "name": "stdout",
          "text": [
            "\b\b\b\b\b\b\b\b\b\b\b\b\b\b\b\b\b\b\b\b\b\b\b\b\b\b\b\b\b\b\b\b\b\b\b\b\b\b\b\b\b\b\b\b\b\b\b\b\b\b\b\b\b\b\b\b\b\b\b\b\b\b\b\b\b\b\b\b\b\b\b\b\b\b\b\b\b\b\b\b\r9/9 [==============================] - 0s 49ms/step - loss: 0.2956 - accuracy: 0.9986\n"
          ]
        }
      ]
    },
    {
      "cell_type": "code",
      "source": [
        "transscore = transition_classifier.evaluate(transitionxtest, transitionytest)\n",
        "print(\"transition transformer model Accuracy: \", transscore[1])"
      ],
      "metadata": {
        "id": "vkcW23P2XbDk",
        "outputId": "d7aa8d19-e72d-458d-a3d1-1bab7d4a7d1d",
        "colab": {
          "base_uri": "https://localhost:8080/"
        }
      },
      "id": "vkcW23P2XbDk",
      "execution_count": null,
      "outputs": [
        {
          "output_type": "stream",
          "name": "stdout",
          "text": [
            "58/58 [==============================] - 3s 22ms/step - loss: 0.4264 - accuracy: 0.9995\n",
            "transition transformer model Accuracy:  0.9994550347328186\n"
          ]
        }
      ]
    },
    {
      "cell_type": "code",
      "source": [
        "yexpect = np.concatenate([dynamiclabels,staticlabels, transitionlabels], axis=0)\n",
        "\n",
        "yexpect.shape"
      ],
      "metadata": {
        "id": "ml-heCkkTW_h",
        "outputId": "43bf4e6c-240a-41de-861e-e21dddf27154",
        "colab": {
          "base_uri": "https://localhost:8080/"
        }
      },
      "id": "ml-heCkkTW_h",
      "execution_count": null,
      "outputs": [
        {
          "output_type": "execute_result",
          "data": {
            "text/plain": [
              "(3671,)"
            ]
          },
          "metadata": {},
          "execution_count": 74
        }
      ]
    },
    {
      "cell_type": "code",
      "source": [
        "merge_arr = np.concatenate([dynamicxtest, staticxtest, transitionxtest], axis=0)\n"
      ],
      "metadata": {
        "id": "slXVtEMGTXCg"
      },
      "id": "slXVtEMGTXCg",
      "execution_count": null,
      "outputs": []
    },
    {
      "cell_type": "code",
      "source": [
        "merge_arr.shape"
      ],
      "metadata": {
        "id": "D7hlrXtwTXFm",
        "outputId": "a64dc945-5cc9-433d-b711-3a426544aac6",
        "colab": {
          "base_uri": "https://localhost:8080/"
        }
      },
      "id": "D7hlrXtwTXFm",
      "execution_count": null,
      "outputs": [
        {
          "output_type": "execute_result",
          "data": {
            "text/plain": [
              "(3671, 128, 6)"
            ]
          },
          "metadata": {},
          "execution_count": 76
        }
      ]
    },
    {
      "cell_type": "code",
      "source": [],
      "metadata": {
        "id": "LsrCPW6hUXUE"
      },
      "id": "LsrCPW6hUXUE",
      "execution_count": null,
      "outputs": []
    },
    {
      "cell_type": "code",
      "source": [
        "X_test.shape,Y_test.shape"
      ],
      "metadata": {
        "id": "JtSXy5V8UXYM",
        "outputId": "3c283477-2718-4c8a-ed00-dfbf9b9a6c90",
        "colab": {
          "base_uri": "https://localhost:8080/"
        }
      },
      "id": "JtSXy5V8UXYM",
      "execution_count": null,
      "outputs": [
        {
          "output_type": "execute_result",
          "data": {
            "text/plain": [
              "((3671, 48), (3671,))"
            ]
          },
          "metadata": {},
          "execution_count": 79
        }
      ]
    },
    {
      "cell_type": "code",
      "source": [
        "print('Accuracy score TEST: {:.3f}'.format(accuracy_score(yexpect, scores)*100))\n",
        "# (static rf)(dynamic transformer)(transition rf) :  98.120%\n",
        "# (static rf)(dynamic transformer)(transition transformer):  98.611 %"
      ],
      "metadata": {
        "id": "1VCILQr5V0T2",
        "outputId": "85be69c4-78ad-4ea0-8e19-2b69de7fb312",
        "colab": {
          "base_uri": "https://localhost:8080/"
        }
      },
      "id": "1VCILQr5V0T2",
      "execution_count": null,
      "outputs": [
        {
          "output_type": "stream",
          "name": "stdout",
          "text": [
            "Accuracy score TEST: 98.611\n"
          ]
        }
      ]
    }
  ],
  "metadata": {
    "accelerator": "GPU",
    "colab": {
      "provenance": [],
      "include_colab_link": true
    },
    "gpuClass": "standard",
    "kernelspec": {
      "display_name": "Python 3 (ipykernel)",
      "language": "python",
      "name": "python3"
    },
    "language_info": {
      "codemirror_mode": {
        "name": "ipython",
        "version": 3
      },
      "file_extension": ".py",
      "mimetype": "text/x-python",
      "name": "python",
      "nbconvert_exporter": "python",
      "pygments_lexer": "ipython3",
      "version": "3.10.4"
    },
    "papermill": {
      "default_parameters": {},
      "duration": 1307.747218,
      "end_time": "2022-06-19T20:06:58.406839",
      "environment_variables": {},
      "exception": null,
      "input_path": "__notebook__.ipynb",
      "output_path": "__notebook__.ipynb",
      "parameters": {},
      "start_time": "2022-06-19T19:45:10.659621",
      "version": "2.3.4"
    }
  },
  "nbformat": 4,
  "nbformat_minor": 5
}