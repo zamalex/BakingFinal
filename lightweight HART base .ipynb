{
  "cells": [
    {
      "cell_type": "markdown",
      "metadata": {
        "id": "view-in-github",
        "colab_type": "text"
      },
      "source": [
        "<a href=\"https://colab.research.google.com/github/zamalex/BakingFinal/blob/master/lightweight%20HART%20base%20.ipynb\" target=\"_parent\"><img src=\"https://colab.research.google.com/assets/colab-badge.svg\" alt=\"Open In Colab\"/></a>"
      ]
    },
    {
      "cell_type": "code",
      "execution_count": 1,
      "metadata": {
        "id": "710390bc"
      },
      "outputs": [],
      "source": [
        "import numpy as np\n",
        "import pandas as pd\n",
        "import pickle\n",
        "import tensorflow as tf\n",
        "from tensorflow import keras\n",
        "from tensorflow.keras import layers\n",
        "from sklearn.preprocessing import OneHotEncoder\n",
        "from sklearn.preprocessing import MinMaxScaler\n",
        "import matplotlib.pyplot as plt\n",
        "import seaborn as sb\n",
        "from sklearn.model_selection import train_test_split\n",
        "from sklearn.metrics import confusion_matrix\n",
        "import sklearn.metrics\n",
        "from tensorflow.keras.utils import plot_model\n",
        "import datetime\n"
      ],
      "id": "710390bc"
    },
    {
      "cell_type": "code",
      "execution_count": 2,
      "metadata": {
        "id": "85fe8286"
      },
      "outputs": [],
      "source": [
        "%load_ext tensorboard\n"
      ],
      "id": "85fe8286"
    },
    {
      "cell_type": "markdown",
      "metadata": {
        "id": "34b7de89"
      },
      "source": [
        "# Some methods and data which will be used below"
      ],
      "id": "34b7de89"
    },
    {
      "cell_type": "code",
      "source": [
        "import numpy as np\n",
        "from numpy import mean\n",
        "from numpy import std\n",
        "from numpy import dstack\n",
        "from pandas import read_csv\n",
        "from keras.models import Sequential\n",
        "from keras.layers import Dense\n",
        "from keras.layers import Flatten\n",
        "from keras.layers import Dropout\n",
        "from keras.layers import LSTM\n",
        "\n",
        "from matplotlib import pyplot\n",
        "import matplotlib.pyplot as plt\n",
        "import keras\n",
        "import zipfile\n",
        "from sklearn.metrics import confusion_matrix, classification_report\n",
        "import seaborn as sns"
      ],
      "metadata": {
        "id": "S0xUjfN-PT2o"
      },
      "id": "S0xUjfN-PT2o",
      "execution_count": null,
      "outputs": []
    },
    {
      "cell_type": "code",
      "source": [
        "%cd sample_data"
      ],
      "metadata": {
        "id": "HYk7yxqCQTnx",
        "outputId": "5c62adf3-df4d-4c73-d8bf-e3c405ba218a",
        "colab": {
          "base_uri": "https://localhost:8080/"
        }
      },
      "id": "HYk7yxqCQTnx",
      "execution_count": null,
      "outputs": [
        {
          "output_type": "stream",
          "name": "stdout",
          "text": [
            "/content/sample_data\n"
          ]
        }
      ]
    },
    {
      "cell_type": "code",
      "source": [
        "import model\n",
        "\n",
        "learningRate = 3e-4\n",
        "\n",
        "optimizer = tf.keras.optimizers.Adam(learningRate)\n",
        "\n",
        "dynamic_classifier = model.HART((128,6),3)  #((window,features),num classes)\n",
        "\n",
        "dynamic_classifier.compile(\n",
        "    optimizer=optimizer,\n",
        "    loss=tf.keras.losses.CategoricalCrossentropy(label_smoothing=0.1),\n",
        "    metrics=[\"accuracy\"],\n",
        ")\n"
      ],
      "metadata": {
        "id": "J4EkuupeQE9n"
      },
      "id": "J4EkuupeQE9n",
      "execution_count": null,
      "outputs": []
    },
    {
      "cell_type": "code",
      "source": [
        "from sklearn.utils import class_weight\n",
        "\n",
        "temp_weights = class_weight.compute_class_weight(class_weight = 'balanced',\n",
        "                                                 classes = np.unique(labels),\n",
        "                                                 y = labels.ravel())\n",
        "class_weights = {j : temp_weights[j] for j in range(len(temp_weights))}\n"
      ],
      "metadata": {
        "id": "LkQxKO32RU0B"
      },
      "id": "LkQxKO32RU0B",
      "execution_count": null,
      "outputs": []
    },
    {
      "cell_type": "code",
      "source": [
        "checkpoint_filepath = \"bestValcheckpoint.h5\"\n",
        "checkpoint_callback = tf.keras.callbacks.ModelCheckpoint(\n",
        "    checkpoint_filepath,\n",
        "    monitor=\"val_accuracy\",\n",
        "    save_best_only=True,\n",
        "    save_weights_only=True,\n",
        "    verbose=1,\n",
        ")\n",
        "\n",
        "history0 = dynamic_classifier.fit(\n",
        "    x=xtrain,\n",
        "    y=ytrain,\n",
        "   validation_data = (xval,yval),\n",
        "    batch_size=256,\n",
        "    epochs=100,\n",
        "    verbose=1,\n",
        "    class_weight=class_weights,\n",
        "    callbacks=[checkpoint_callback],\n",
        ")\n",
        "\n"
      ],
      "metadata": {
        "id": "Fzob7unIlNL5"
      },
      "id": "Fzob7unIlNL5",
      "execution_count": null,
      "outputs": []
    },
    {
      "cell_type": "code",
      "source": [
        "transscore = transition_classifier.evaluate(transitionxtest, transitionytest)\n",
        "print(\"transition transformer model Accuracy: \", transscore[1])"
      ],
      "metadata": {
        "id": "vkcW23P2XbDk",
        "outputId": "d7aa8d19-e72d-458d-a3d1-1bab7d4a7d1d",
        "colab": {
          "base_uri": "https://localhost:8080/"
        }
      },
      "id": "vkcW23P2XbDk",
      "execution_count": null,
      "outputs": [
        {
          "output_type": "stream",
          "name": "stdout",
          "text": [
            "58/58 [==============================] - 3s 22ms/step - loss: 0.4264 - accuracy: 0.9995\n",
            "transition transformer model Accuracy:  0.9994550347328186\n"
          ]
        }
      ]
    },
    {
      "cell_type": "code",
      "source": [
        "print('Accuracy score TEST: {:.3f}'.format(accuracy_score(yexpect, ypred)*100))\n"
      ],
      "metadata": {
        "id": "1VCILQr5V0T2",
        "outputId": "85be69c4-78ad-4ea0-8e19-2b69de7fb312",
        "colab": {
          "base_uri": "https://localhost:8080/"
        }
      },
      "id": "1VCILQr5V0T2",
      "execution_count": null,
      "outputs": [
        {
          "output_type": "stream",
          "name": "stdout",
          "text": [
            "Accuracy score TEST: 98.611\n"
          ]
        }
      ]
    }
  ],
  "metadata": {
    "accelerator": "GPU",
    "colab": {
      "provenance": [],
      "include_colab_link": true
    },
    "gpuClass": "standard",
    "kernelspec": {
      "display_name": "Python 3 (ipykernel)",
      "language": "python",
      "name": "python3"
    },
    "language_info": {
      "codemirror_mode": {
        "name": "ipython",
        "version": 3
      },
      "file_extension": ".py",
      "mimetype": "text/x-python",
      "name": "python",
      "nbconvert_exporter": "python",
      "pygments_lexer": "ipython3",
      "version": "3.10.4"
    },
    "papermill": {
      "default_parameters": {},
      "duration": 1307.747218,
      "end_time": "2022-06-19T20:06:58.406839",
      "environment_variables": {},
      "exception": null,
      "input_path": "__notebook__.ipynb",
      "output_path": "__notebook__.ipynb",
      "parameters": {},
      "start_time": "2022-06-19T19:45:10.659621",
      "version": "2.3.4"
    }
  },
  "nbformat": 4,
  "nbformat_minor": 5
}